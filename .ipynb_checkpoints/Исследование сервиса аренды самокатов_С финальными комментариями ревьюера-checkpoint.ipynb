{
 "cells": [
  {
   "cell_type": "markdown",
   "metadata": {},
   "source": [
    "<div style=\"border:solid green 2px; padding: 20px\">\n",
    "    \n",
    "<b>Диана, привет!</b> Мы рады тебя видеть на территории код-ревьюеров 😎. Ты проделала большую работу над проектом, но давай познакомимся и сделаем его еще лучше! У нас тут своя атмосфера и несколько правил:\n",
    "\n",
    "\n",
    "1. Меня зовут Александр Матвеевский. Я работаю код-ревьюером, моя основная цель — не указать на совершенные тобою ошибки, а поделиться своим опытом и помочь тебе стать дата-специалистом.\n",
    "2. Общаемся на ты.\n",
    "3. Если хочешь написать, спросить - не нужно стесняться. Только выбери свой цвет для комментария.  \n",
    "4. Это учебный проект, тут можно не бояться сделать ошибку.  \n",
    "5. У нас с тобой 6 попыток для сдачи проекта.  \n",
    "6. Let's Go!\n",
    "\n",
    "---\n",
    "\n",
    "Я буду красить комментарии цветом, пожалуйста, не удаляй их:\n",
    "\n",
    "<div class=\"alert alert-block alert-danger\">✍\n",
    "    \n",
    "\n",
    "__Комментарий от ревьюера №1__\n",
    "\n",
    "Такой комментарий нужно исправить обязательно, он критически влияет на удачное выполнение проекта.\n",
    "</div>\n",
    "    \n",
    "---\n",
    "\n",
    "<div class=\"alert alert-block alert-warning\">📝\n",
    "    \n",
    "\n",
    "__Комментарий от ревьюера №1__\n",
    "\n",
    "\n",
    "Такой комментарий является рекомендацией или советом. Можешь использовать их на своё усмотрение.\n",
    "</div>\n",
    "\n",
    "---\n",
    "\n",
    "<div class=\"alert alert-block alert-success\">✔️\n",
    "    \n",
    "\n",
    "__Комментарий от ревьюера №1__\n",
    "\n",
    "Такой комментарий  говорит о том, что было сделано что-то качественное и правильное =)\n",
    "</div>\n",
    "    \n",
    "---\n",
    "    \n",
    "Предлагаю работать над проектом в диалоге: если ты что-то меняешь в проекте или отвечаешь на мои комментарии — пиши об этом. Мне будет легче отследить изменения, если ты выделишь свои комментарии:   \n",
    "    \n",
    "<div class=\"alert alert-info\"> <b>Комментарии студента:</b> Например, вот так.</div>\n",
    "    \n",
    "Всё это поможет выполнить повторную проверку твоего проекта оперативнее. Если будут какие-нибудь вопросы по моим комментариям, пиши, будем разбираться вместе :)    \n",
    "    \n",
    "---"
   ]
  },
  {
   "cell_type": "markdown",
   "metadata": {
    "id": "-VFbjcb3Awb7"
   },
   "source": [
    "# Исследование сервиса аренды самокатов GoFast\n",
    "\n",
    "В основе исследования популярного сервиса аренды самокатов GoFast лежат данные о некоторых пользователях из нескольких городов, а также об их поездках. Целью исследования является анализ данных и проверка гипотез, которые могут помочь бизнесу вырасти.\n",
    "    \n",
    "Чтобы совершать поездки по городу, пользователи сервиса GoFast пользуются мобильным приложением. Сервисом можно пользоваться:\n",
    "- без подписки\n",
    " - абонентская плата отсутствует;\n",
    " - стоимость одной минуты поездки — 8 рублей;\n",
    " - стоимость старта (начала поездки) — 50 рублей;\n",
    "- с подпиской Ultra\n",
    " - абонентская плата — 199 рублей в месяц;\n",
    " - стоимость одной минуты поездки — 6 рублей;\n",
    " - стоимость старта — бесплатно."
   ]
  },
  {
   "cell_type": "markdown",
   "metadata": {},
   "source": [
    "**Описание данных**\n",
    "    \n",
    "В основных данных есть информация о пользователях, их поездках и подписках.\n",
    "    \n",
    "   \n",
    "Пользователи: \n",
    "\n",
    "- `user_id` — уникальный идентификатор пользователя\n",
    "\n",
    "- `name` — имя пользователя\n",
    "\n",
    "- `age` — возраст\n",
    "\n",
    "- `city` — город\n",
    "\n",
    "- `subscription_type` — тип подписки (free, ultra)\n",
    "\n",
    "   \n",
    "Поездки:\n",
    "\n",
    "- `user_id` — уникальный идентификатор пользователя\n",
    "\n",
    "- `distance` — расстояние, которое пользователь проехал в текущей сессии (в метрах)\n",
    "\n",
    "- `duration` — продолжительность сессии (в минутах) — время с того момента, как пользователь нажал кнопку «Начать поездку» до момента, как он нажал кнопку «Завершить поездку»\n",
    "\n",
    "- `date` — дата совершения поездки\n",
    "\n",
    "   \n",
    "Подписки:\n",
    "\n",
    "- `subscription_type` — тип подписки\n",
    "\n",
    "- `minute_price` — стоимость одной минуты поездки по данной подписке\n",
    "\n",
    "- `start_ride_price` — стоимость начала поездки\n",
    "\n",
    "- `subscription_fee` — стоимость ежемесячного платежа"
   ]
  },
  {
   "cell_type": "markdown",
   "metadata": {},
   "source": [
    "**План работы**\n",
    "\n",
    "1. Изучение данных:\n",
    "- считывание трёх файлов с данными и сохранение их в датафреймы;\n",
    "- вывод первых строк каждого набора данных;\n",
    "- изучение общей информации о каждом датафрейме.\n",
    "2. Предобработка данных:\n",
    "- приведение столбца `date` к типу даты pandas;\n",
    "- создание нового столбца с номером месяца на основе столбца `date`;\n",
    "- поиск и обработка пропущенных значений и дубликатов в датафреймах.\n",
    "3. Исследовательский анализ данных:\n",
    "- описание и визуализация общей информации о пользователях и поездках:\n",
    " - частота встречаемости городов;\n",
    " - соотношение пользователей с подпиской и без подписки;\n",
    " - возраст пользователей;\n",
    " - расстояние, которое пользователь преодолел за одну поездку;\n",
    " - продолжительность поездок.\n",
    "4. Объединение данных:\n",
    "- объединение данных о пользователях, поездках и подписках в один датафрейм;\n",
    "- создание двух новых датафреймов:\n",
    " - c данными о пользователях без подписки;\n",
    " - с данными о пользователях с подпиской;\n",
    "- визуализация информации о расстоянии и времени поездок для пользователей без подписки и с подпиской.\n",
    "5. Подсчёт выручки:\n",
    "- округление до следующего целого числа продолжительности каждой поездки для подсчёта стоимости;\n",
    "- создание датафрейма с агрегированными данными о поездках:\n",
    " - суммарное расстояние;\n",
    " - количество поездок;\n",
    " - суммарное время для каждого пользователя за каждый месяц;\n",
    "- добавление в датафрейм с агрегированными данными о поездках столбца с помесячной выручкой, которую принёс каждый пользователь;\n",
    "- подсчёт выручки от пользователей без подписки и с подпиской.\n",
    "6. Проверка гипотез:\n",
    "- «пользователи с подпиской тратят больше времени на поездки, чем пользователи без подписки»;\n",
    "- «среднее расстояние, которое проезжают пользователи с подпиской за одну поездку, не превышает 3130 метров»;\n",
    "- «помесячная выручка от пользователей с подпиской по месяцам выше, чем выручка от пользователей без подписки»;\n",
    "- определение теста, который бы понадобился для проверки гипотезы:\n",
    " - «количество обращений в техподдержку снизилось после обновления серверов, с которыми взаимодействует мобильное приложение».\n",
    "7. Написание промежуточных выводов и общего вывода по результатам исследования."
   ]
  },
  {
   "cell_type": "markdown",
   "metadata": {},
   "source": [
    "<div class=\"alert alert-block alert-success\">✔️\n",
    "    \n",
    "\n",
    "__Комментарий от ревьюера №1__\n",
    "\n",
    "\n",
    "Отличная практика - расписывать цель и основные этапы своими словами (этот навык очень поможет на фильнальном проекте).\n",
    "</div>"
   ]
  },
  {
   "cell_type": "markdown",
   "metadata": {
    "id": "aeFLH07FAwb9"
   },
   "source": [
    "## Загрузка данных и изучение общей информации"
   ]
  },
  {
   "cell_type": "markdown",
   "metadata": {},
   "source": [
    "### Cчитывание и сохранение файлов с данными в датафреймы"
   ]
  },
  {
   "cell_type": "markdown",
   "metadata": {},
   "source": [
    "Импортируем необходимые библиотеки и модули."
   ]
  },
  {
   "cell_type": "code",
   "execution_count": 1,
   "metadata": {},
   "outputs": [],
   "source": [
    "import pandas as pd \n",
    "# импорт библиотеки pandas\n",
    "from matplotlib import pyplot as plt \n",
    "# импорт модуля pyplot из библиотеки matplotlib\n",
    "%matplotlib inline\n",
    "import numpy as np\n",
    "# импорт библиотеки numpy\n",
    "import scipy.stats as st\n",
    "# импорт модуля stats из библиотеки scipy"
   ]
  },
  {
   "cell_type": "markdown",
   "id": "581f369f",
   "metadata": {},
   "source": [
    "<div class=\"alert alert-block alert-success\">✔️\n",
    "    \n",
    "\n",
    "__Комментарий от ревьюера №1__\n",
    "\n",
    "Хорошо. Модули выгружены"
   ]
  },
  {
   "cell_type": "markdown",
   "metadata": {},
   "source": [
    "Считаем данные из файлов в датафреймы и сохраним в переменные `data_users_go`, `data_rides_go`, `data_subscriptions_go`."
   ]
  },
  {
   "cell_type": "code",
   "execution_count": 2,
   "metadata": {
    "id": "7MZxY65pAwb9"
   },
   "outputs": [],
   "source": [
    "try:\n",
    "    data_users_go = pd.read_csv('/datasets/users_go.csv')\n",
    "except:\n",
    "    data_users_go = pd.read_csv('https://code.s3.yandex.net/datasets/users_go.csv')\n",
    "#  чтение данных из csv-файла в датафрейм и сохранение в переменную ‘data_users_go’\n",
    "\n",
    "try:\n",
    "    data_rides_go = pd.read_csv('/datasets/rides_go.csv')\n",
    "except:\n",
    "    data_rides_go = pd.read_csv('https://code.s3.yandex.net/datasets/rides_go.csv')\n",
    "#  чтение данных из csv-файла в датафрейм и сохранение в переменную ‘data_rides_go’\n",
    "\n",
    "try:\n",
    "    data_subscriptions_go = pd.read_csv('/datasets/subscriptions_go.csv')\n",
    "except:\n",
    "    data_subscriptions_go = pd.read_csv('https://code.s3.yandex.net/datasets/subscriptions_go.csv')\n",
    "#  чтение данных из csv-файла в датафрейм и сохранение в переменную ‘data_subscriptions_go’"
   ]
  },
  {
   "cell_type": "markdown",
   "metadata": {},
   "source": [
    "### Вывод первых строк каждого набора данных"
   ]
  },
  {
   "cell_type": "markdown",
   "metadata": {},
   "source": [
    "Выведем первые 5 строк датафрейма `data_users_go` на экран."
   ]
  },
  {
   "cell_type": "code",
   "execution_count": 3,
   "metadata": {},
   "outputs": [
    {
     "data": {
      "text/html": [
       "<div>\n",
       "<style scoped>\n",
       "    .dataframe tbody tr th:only-of-type {\n",
       "        vertical-align: middle;\n",
       "    }\n",
       "\n",
       "    .dataframe tbody tr th {\n",
       "        vertical-align: top;\n",
       "    }\n",
       "\n",
       "    .dataframe thead th {\n",
       "        text-align: right;\n",
       "    }\n",
       "</style>\n",
       "<table border=\"1\" class=\"dataframe\">\n",
       "  <thead>\n",
       "    <tr style=\"text-align: right;\">\n",
       "      <th></th>\n",
       "      <th>user_id</th>\n",
       "      <th>name</th>\n",
       "      <th>age</th>\n",
       "      <th>city</th>\n",
       "      <th>subscription_type</th>\n",
       "    </tr>\n",
       "  </thead>\n",
       "  <tbody>\n",
       "    <tr>\n",
       "      <th>0</th>\n",
       "      <td>1</td>\n",
       "      <td>Кира</td>\n",
       "      <td>22</td>\n",
       "      <td>Тюмень</td>\n",
       "      <td>ultra</td>\n",
       "    </tr>\n",
       "    <tr>\n",
       "      <th>1</th>\n",
       "      <td>2</td>\n",
       "      <td>Станислав</td>\n",
       "      <td>31</td>\n",
       "      <td>Омск</td>\n",
       "      <td>ultra</td>\n",
       "    </tr>\n",
       "    <tr>\n",
       "      <th>2</th>\n",
       "      <td>3</td>\n",
       "      <td>Алексей</td>\n",
       "      <td>20</td>\n",
       "      <td>Москва</td>\n",
       "      <td>ultra</td>\n",
       "    </tr>\n",
       "    <tr>\n",
       "      <th>3</th>\n",
       "      <td>4</td>\n",
       "      <td>Константин</td>\n",
       "      <td>26</td>\n",
       "      <td>Ростов-на-Дону</td>\n",
       "      <td>ultra</td>\n",
       "    </tr>\n",
       "    <tr>\n",
       "      <th>4</th>\n",
       "      <td>5</td>\n",
       "      <td>Адель</td>\n",
       "      <td>28</td>\n",
       "      <td>Омск</td>\n",
       "      <td>ultra</td>\n",
       "    </tr>\n",
       "  </tbody>\n",
       "</table>\n",
       "</div>"
      ],
      "text/plain": [
       "   user_id        name  age            city subscription_type\n",
       "0        1        Кира   22          Тюмень             ultra\n",
       "1        2   Станислав   31            Омск             ultra\n",
       "2        3     Алексей   20          Москва             ultra\n",
       "3        4  Константин   26  Ростов-на-Дону             ultra\n",
       "4        5       Адель   28            Омск             ultra"
      ]
     },
     "execution_count": 3,
     "metadata": {},
     "output_type": "execute_result"
    }
   ],
   "source": [
    "data_users_go.head() \n",
    "# отображение первых 5 строк датафрейма ‘data_users_go’"
   ]
  },
  {
   "cell_type": "markdown",
   "metadata": {},
   "source": [
    "Выведем первые 5 строк датафрейма `data_rides_go` на экран."
   ]
  },
  {
   "cell_type": "code",
   "execution_count": 4,
   "metadata": {},
   "outputs": [
    {
     "data": {
      "text/html": [
       "<div>\n",
       "<style scoped>\n",
       "    .dataframe tbody tr th:only-of-type {\n",
       "        vertical-align: middle;\n",
       "    }\n",
       "\n",
       "    .dataframe tbody tr th {\n",
       "        vertical-align: top;\n",
       "    }\n",
       "\n",
       "    .dataframe thead th {\n",
       "        text-align: right;\n",
       "    }\n",
       "</style>\n",
       "<table border=\"1\" class=\"dataframe\">\n",
       "  <thead>\n",
       "    <tr style=\"text-align: right;\">\n",
       "      <th></th>\n",
       "      <th>user_id</th>\n",
       "      <th>distance</th>\n",
       "      <th>duration</th>\n",
       "      <th>date</th>\n",
       "    </tr>\n",
       "  </thead>\n",
       "  <tbody>\n",
       "    <tr>\n",
       "      <th>0</th>\n",
       "      <td>1</td>\n",
       "      <td>4409.919140</td>\n",
       "      <td>25.599769</td>\n",
       "      <td>2021-01-01</td>\n",
       "    </tr>\n",
       "    <tr>\n",
       "      <th>1</th>\n",
       "      <td>1</td>\n",
       "      <td>2617.592153</td>\n",
       "      <td>15.816871</td>\n",
       "      <td>2021-01-18</td>\n",
       "    </tr>\n",
       "    <tr>\n",
       "      <th>2</th>\n",
       "      <td>1</td>\n",
       "      <td>754.159807</td>\n",
       "      <td>6.232113</td>\n",
       "      <td>2021-04-20</td>\n",
       "    </tr>\n",
       "    <tr>\n",
       "      <th>3</th>\n",
       "      <td>1</td>\n",
       "      <td>2694.783254</td>\n",
       "      <td>18.511000</td>\n",
       "      <td>2021-08-11</td>\n",
       "    </tr>\n",
       "    <tr>\n",
       "      <th>4</th>\n",
       "      <td>1</td>\n",
       "      <td>4028.687306</td>\n",
       "      <td>26.265803</td>\n",
       "      <td>2021-08-28</td>\n",
       "    </tr>\n",
       "  </tbody>\n",
       "</table>\n",
       "</div>"
      ],
      "text/plain": [
       "   user_id     distance   duration        date\n",
       "0        1  4409.919140  25.599769  2021-01-01\n",
       "1        1  2617.592153  15.816871  2021-01-18\n",
       "2        1   754.159807   6.232113  2021-04-20\n",
       "3        1  2694.783254  18.511000  2021-08-11\n",
       "4        1  4028.687306  26.265803  2021-08-28"
      ]
     },
     "execution_count": 4,
     "metadata": {},
     "output_type": "execute_result"
    }
   ],
   "source": [
    "data_rides_go.head() \n",
    "# отображение первых 5 строк датафрейма ‘data_rides_go’"
   ]
  },
  {
   "cell_type": "markdown",
   "metadata": {},
   "source": [
    "Выведем строки датафрейма `data_subscriptions_go` на экран."
   ]
  },
  {
   "cell_type": "code",
   "execution_count": 5,
   "metadata": {},
   "outputs": [
    {
     "data": {
      "text/html": [
       "<div>\n",
       "<style scoped>\n",
       "    .dataframe tbody tr th:only-of-type {\n",
       "        vertical-align: middle;\n",
       "    }\n",
       "\n",
       "    .dataframe tbody tr th {\n",
       "        vertical-align: top;\n",
       "    }\n",
       "\n",
       "    .dataframe thead th {\n",
       "        text-align: right;\n",
       "    }\n",
       "</style>\n",
       "<table border=\"1\" class=\"dataframe\">\n",
       "  <thead>\n",
       "    <tr style=\"text-align: right;\">\n",
       "      <th></th>\n",
       "      <th>subscription_type</th>\n",
       "      <th>minute_price</th>\n",
       "      <th>start_ride_price</th>\n",
       "      <th>subscription_fee</th>\n",
       "    </tr>\n",
       "  </thead>\n",
       "  <tbody>\n",
       "    <tr>\n",
       "      <th>0</th>\n",
       "      <td>free</td>\n",
       "      <td>8</td>\n",
       "      <td>50</td>\n",
       "      <td>0</td>\n",
       "    </tr>\n",
       "    <tr>\n",
       "      <th>1</th>\n",
       "      <td>ultra</td>\n",
       "      <td>6</td>\n",
       "      <td>0</td>\n",
       "      <td>199</td>\n",
       "    </tr>\n",
       "  </tbody>\n",
       "</table>\n",
       "</div>"
      ],
      "text/plain": [
       "  subscription_type  minute_price  start_ride_price  subscription_fee\n",
       "0              free             8                50                 0\n",
       "1             ultra             6                 0               199"
      ]
     },
     "execution_count": 5,
     "metadata": {},
     "output_type": "execute_result"
    }
   ],
   "source": [
    "data_subscriptions_go.head() \n",
    "# отображение строк датафрейма ‘data_subscriptions_go’"
   ]
  },
  {
   "cell_type": "markdown",
   "metadata": {},
   "source": [
    "### Изучение общей информации о каждом датафрейме"
   ]
  },
  {
   "cell_type": "markdown",
   "metadata": {},
   "source": [
    "Выведем основную информацию о датафрейме `data_users_go`."
   ]
  },
  {
   "cell_type": "code",
   "execution_count": 6,
   "metadata": {},
   "outputs": [
    {
     "name": "stdout",
     "output_type": "stream",
     "text": [
      "<class 'pandas.core.frame.DataFrame'>\n",
      "RangeIndex: 1565 entries, 0 to 1564\n",
      "Data columns (total 5 columns):\n",
      " #   Column             Non-Null Count  Dtype \n",
      "---  ------             --------------  ----- \n",
      " 0   user_id            1565 non-null   int64 \n",
      " 1   name               1565 non-null   object\n",
      " 2   age                1565 non-null   int64 \n",
      " 3   city               1565 non-null   object\n",
      " 4   subscription_type  1565 non-null   object\n",
      "dtypes: int64(2), object(3)\n",
      "memory usage: 61.3+ KB\n"
     ]
    }
   ],
   "source": [
    "data_users_go.info() \n",
    "# вывод информации о структуре данных, хранящихся в переменной ‘data_users_go’"
   ]
  },
  {
   "cell_type": "markdown",
   "metadata": {},
   "source": [
    "В таблице 1 тыс. 565 строк и 5 столбцов. Две колонки содержат целые числа (`'user_id'`, `'age'`), три — строки (`'name'`, `'city'`, `'subscription_type'`). Во всех колонках отсутствуют пропущенные значения."
   ]
  },
  {
   "cell_type": "markdown",
   "metadata": {},
   "source": [
    "Выведем основную информацию о датафрейме `data_rides_go`."
   ]
  },
  {
   "cell_type": "code",
   "execution_count": 7,
   "metadata": {},
   "outputs": [
    {
     "name": "stdout",
     "output_type": "stream",
     "text": [
      "<class 'pandas.core.frame.DataFrame'>\n",
      "RangeIndex: 18068 entries, 0 to 18067\n",
      "Data columns (total 4 columns):\n",
      " #   Column    Non-Null Count  Dtype  \n",
      "---  ------    --------------  -----  \n",
      " 0   user_id   18068 non-null  int64  \n",
      " 1   distance  18068 non-null  float64\n",
      " 2   duration  18068 non-null  float64\n",
      " 3   date      18068 non-null  object \n",
      "dtypes: float64(2), int64(1), object(1)\n",
      "memory usage: 564.8+ KB\n"
     ]
    }
   ],
   "source": [
    "data_rides_go.info() \n",
    "# вывод информации о структуре данных, хранящихся в переменной ‘data_rides_go’"
   ]
  },
  {
   "cell_type": "markdown",
   "metadata": {},
   "source": [
    "В таблице 18 тыс. 68 строк и 4 столбца. Две колонки содержат вещественные числа (`'distance'`, `'duration'`), одна колонка — целые числа (`'user_id'`), одна колонка — строки (`'date'`). Во всех колонках отсутствуют пропущенные значения."
   ]
  },
  {
   "cell_type": "markdown",
   "metadata": {},
   "source": [
    "Выведем основную информацию о датафрейме `data_subscriptions_go`."
   ]
  },
  {
   "cell_type": "code",
   "execution_count": 8,
   "metadata": {},
   "outputs": [
    {
     "name": "stdout",
     "output_type": "stream",
     "text": [
      "<class 'pandas.core.frame.DataFrame'>\n",
      "RangeIndex: 2 entries, 0 to 1\n",
      "Data columns (total 4 columns):\n",
      " #   Column             Non-Null Count  Dtype \n",
      "---  ------             --------------  ----- \n",
      " 0   subscription_type  2 non-null      object\n",
      " 1   minute_price       2 non-null      int64 \n",
      " 2   start_ride_price   2 non-null      int64 \n",
      " 3   subscription_fee   2 non-null      int64 \n",
      "dtypes: int64(3), object(1)\n",
      "memory usage: 192.0+ bytes\n"
     ]
    }
   ],
   "source": [
    "data_subscriptions_go.info() \n",
    "# вывод информации о структуре данных, хранящихся в переменной ‘data_subscriptions_go’"
   ]
  },
  {
   "cell_type": "markdown",
   "metadata": {},
   "source": [
    "В таблице 2 строки и 4 столбца. Три колонки содержат целые числа (`'minute_price'`, `'start_ride_price'`, `'subscription_fee'`), одна колонка — строки (`'subscription_type'`). Во всех колонках отсутствуют пропущенные значения."
   ]
  },
  {
   "cell_type": "markdown",
   "metadata": {},
   "source": [
    "### Вывод"
   ]
  },
  {
   "cell_type": "markdown",
   "metadata": {},
   "source": [
    "Мы считали csv-файлы с данными о пользователях сервиса аренды самокатов GoFast, их поездках и подписках, сохранили их в датафреймы. Вывели первые строки каждого набора данных. \n",
    "Изучили общую информацию о каждом датафрейме:\n",
    "- в датафрейме, содержащем сведения о пользователях, 1 тыс. 565 строк и 5 столбцов, из которых 2 содержат целые числа, 3 — строки;\n",
    "- в датафрейме с информацией о поездках 18 тыс. 68 строк и 4 столбца, из которых 2 содержат вещественные числа, 1 — целые числа, 1 — строки;\n",
    "- в датафрейме, содержащем информацию о подписках, 2 строки и 4 столбца, из которых 3 содержат целые числа, 1 — строки."
   ]
  },
  {
   "cell_type": "markdown",
   "metadata": {},
   "source": [
    "<div class=\"alert alert-block alert-success\">✔️\n",
    "    \n",
    "__Комментарий от ревьюера №1__\n",
    "    \n",
    "Отлично! Первый взгляд на данные есть"
   ]
  },
  {
   "cell_type": "markdown",
   "metadata": {
    "id": "-O5NtivEAwb9"
   },
   "source": [
    "## Предобработка данных"
   ]
  },
  {
   "cell_type": "markdown",
   "metadata": {},
   "source": [
    "### Изменение типа данных"
   ]
  },
  {
   "cell_type": "markdown",
   "metadata": {},
   "source": [
    "Преобразуем строки в даты в столбце `'date'` датафрейма `data_rides_go`, где указаны даты совершения поездки, чтобы иметь возможность выполнять различные операции с данными, связанными с датами."
   ]
  },
  {
   "cell_type": "code",
   "execution_count": 9,
   "metadata": {},
   "outputs": [],
   "source": [
    "data_rides_go['date'] = pd.to_datetime(data_rides_go['date'], format='%Y-%m-%d')\n",
    "# преобразование строк колонки ‘date’ в даты"
   ]
  },
  {
   "cell_type": "markdown",
   "metadata": {},
   "source": [
    "Проверим, изменился ли тип данных в столбце с датами совершения поездки."
   ]
  },
  {
   "cell_type": "code",
   "execution_count": 10,
   "metadata": {},
   "outputs": [
    {
     "data": {
      "text/html": [
       "<div>\n",
       "<style scoped>\n",
       "    .dataframe tbody tr th:only-of-type {\n",
       "        vertical-align: middle;\n",
       "    }\n",
       "\n",
       "    .dataframe tbody tr th {\n",
       "        vertical-align: top;\n",
       "    }\n",
       "\n",
       "    .dataframe thead th {\n",
       "        text-align: right;\n",
       "    }\n",
       "</style>\n",
       "<table border=\"1\" class=\"dataframe\">\n",
       "  <thead>\n",
       "    <tr style=\"text-align: right;\">\n",
       "      <th></th>\n",
       "      <th>data type</th>\n",
       "    </tr>\n",
       "  </thead>\n",
       "  <tbody>\n",
       "    <tr>\n",
       "      <th>date</th>\n",
       "      <td>datetime64[ns]</td>\n",
       "    </tr>\n",
       "  </tbody>\n",
       "</table>\n",
       "</div>"
      ],
      "text/plain": [
       "           data type\n",
       "date  datetime64[ns]"
      ]
     },
     "execution_count": 10,
     "metadata": {},
     "output_type": "execute_result"
    }
   ],
   "source": [
    "data_rides_go[['date']].dtypes.to_frame(name='data type')\n",
    "# вывод информации о типе данных в колонке ‘date’"
   ]
  },
  {
   "cell_type": "markdown",
   "metadata": {},
   "source": [
    "Столбец `'date'` приведён к типу даты pandas.\n",
    "\n",
    "Посмотрим, за какие года предоставлены данные о поездках пользователей сервиса аренды самокатов GoFast."
   ]
  },
  {
   "cell_type": "code",
   "execution_count": 11,
   "metadata": {},
   "outputs": [
    {
     "data": {
      "text/plain": [
       "array([2021])"
      ]
     },
     "execution_count": 11,
     "metadata": {},
     "output_type": "execute_result"
    }
   ],
   "source": [
    "data_rides_go['date'].dt.year.unique()\n",
    "# получение списка уникальных значений года из столбца ‘date’"
   ]
  },
  {
   "cell_type": "markdown",
   "metadata": {},
   "source": [
    "Данные о поездках на самокатах пользователей сервиса GoFast предоставлены за 2021 год."
   ]
  },
  {
   "cell_type": "markdown",
   "metadata": {},
   "source": [
    "<div class=\"alert alert-block alert-success\">✔️\n",
    "    \n",
    "__Комментарий от ревьюера №1__\n",
    "    \n",
    "Всё верно"
   ]
  },
  {
   "cell_type": "markdown",
   "metadata": {},
   "source": [
    "### Добавление в датафрейм столбца с месяцами"
   ]
  },
  {
   "cell_type": "markdown",
   "metadata": {},
   "source": [
    "Создадим новый столбец с номером месяца на основе столбца `'date'`."
   ]
  },
  {
   "cell_type": "code",
   "execution_count": 12,
   "metadata": {},
   "outputs": [],
   "source": [
    "data_rides_go['month'] = data_rides_go['date'].dt.month\n",
    "# добавление столбца ‘month’ в датафрейм ‘data_rides_go’, \n",
    "# который содержит месяц для каждой даты столбца ‘date’"
   ]
  },
  {
   "cell_type": "markdown",
   "metadata": {},
   "source": [
    "Убедимся, что новый столбец добавлен в датафрейм `data_rides_go`."
   ]
  },
  {
   "cell_type": "code",
   "execution_count": 13,
   "metadata": {},
   "outputs": [
    {
     "data": {
      "text/plain": [
       "Index(['user_id', 'distance', 'duration', 'date', 'month'], dtype='object')"
      ]
     },
     "execution_count": 13,
     "metadata": {},
     "output_type": "execute_result"
    }
   ],
   "source": [
    "data_rides_go.columns \n",
    "# вывод списка столбцов в датафрейме ‘data_rides_go’"
   ]
  },
  {
   "cell_type": "markdown",
   "metadata": {},
   "source": [
    "Теперь в датафрейме `data_rides_go` 5 столбцов."
   ]
  },
  {
   "cell_type": "markdown",
   "metadata": {},
   "source": [
    "### Поиск пропущенных значений"
   ]
  },
  {
   "cell_type": "markdown",
   "metadata": {
    "id": "7v3vAeTuAwb-"
   },
   "source": [
    "Выведем количество пропущенных значений для каждого столбца датафрейма `data_users_go`."
   ]
  },
  {
   "cell_type": "code",
   "execution_count": 14,
   "metadata": {},
   "outputs": [
    {
     "data": {
      "text/html": [
       "<div>\n",
       "<style scoped>\n",
       "    .dataframe tbody tr th:only-of-type {\n",
       "        vertical-align: middle;\n",
       "    }\n",
       "\n",
       "    .dataframe tbody tr th {\n",
       "        vertical-align: top;\n",
       "    }\n",
       "\n",
       "    .dataframe thead th {\n",
       "        text-align: right;\n",
       "    }\n",
       "</style>\n",
       "<table border=\"1\" class=\"dataframe\">\n",
       "  <thead>\n",
       "    <tr style=\"text-align: right;\">\n",
       "      <th></th>\n",
       "      <th>count</th>\n",
       "    </tr>\n",
       "  </thead>\n",
       "  <tbody>\n",
       "    <tr>\n",
       "      <th>user_id</th>\n",
       "      <td>0</td>\n",
       "    </tr>\n",
       "    <tr>\n",
       "      <th>name</th>\n",
       "      <td>0</td>\n",
       "    </tr>\n",
       "    <tr>\n",
       "      <th>age</th>\n",
       "      <td>0</td>\n",
       "    </tr>\n",
       "    <tr>\n",
       "      <th>city</th>\n",
       "      <td>0</td>\n",
       "    </tr>\n",
       "    <tr>\n",
       "      <th>subscription_type</th>\n",
       "      <td>0</td>\n",
       "    </tr>\n",
       "  </tbody>\n",
       "</table>\n",
       "</div>"
      ],
      "text/plain": [
       "                   count\n",
       "user_id                0\n",
       "name                   0\n",
       "age                    0\n",
       "city                   0\n",
       "subscription_type      0"
      ]
     },
     "execution_count": 14,
     "metadata": {},
     "output_type": "execute_result"
    }
   ],
   "source": [
    "data_users_go.isna().sum().to_frame(name='count')\n",
    "# вычисление количества отсутствующих значений (NaN) в каждом столбце датафрейма"
   ]
  },
  {
   "cell_type": "markdown",
   "metadata": {},
   "source": [
    "Во всех столбцах датафрейма `data_users_go` отсутствуют пропущенные значения."
   ]
  },
  {
   "cell_type": "markdown",
   "metadata": {},
   "source": [
    "Выведем количество пропущенных значений для каждого столбца датафрейма `data_rides_go`."
   ]
  },
  {
   "cell_type": "code",
   "execution_count": 15,
   "metadata": {},
   "outputs": [
    {
     "data": {
      "text/html": [
       "<div>\n",
       "<style scoped>\n",
       "    .dataframe tbody tr th:only-of-type {\n",
       "        vertical-align: middle;\n",
       "    }\n",
       "\n",
       "    .dataframe tbody tr th {\n",
       "        vertical-align: top;\n",
       "    }\n",
       "\n",
       "    .dataframe thead th {\n",
       "        text-align: right;\n",
       "    }\n",
       "</style>\n",
       "<table border=\"1\" class=\"dataframe\">\n",
       "  <thead>\n",
       "    <tr style=\"text-align: right;\">\n",
       "      <th></th>\n",
       "      <th>count</th>\n",
       "    </tr>\n",
       "  </thead>\n",
       "  <tbody>\n",
       "    <tr>\n",
       "      <th>user_id</th>\n",
       "      <td>0</td>\n",
       "    </tr>\n",
       "    <tr>\n",
       "      <th>distance</th>\n",
       "      <td>0</td>\n",
       "    </tr>\n",
       "    <tr>\n",
       "      <th>duration</th>\n",
       "      <td>0</td>\n",
       "    </tr>\n",
       "    <tr>\n",
       "      <th>date</th>\n",
       "      <td>0</td>\n",
       "    </tr>\n",
       "    <tr>\n",
       "      <th>month</th>\n",
       "      <td>0</td>\n",
       "    </tr>\n",
       "  </tbody>\n",
       "</table>\n",
       "</div>"
      ],
      "text/plain": [
       "          count\n",
       "user_id       0\n",
       "distance      0\n",
       "duration      0\n",
       "date          0\n",
       "month         0"
      ]
     },
     "execution_count": 15,
     "metadata": {},
     "output_type": "execute_result"
    }
   ],
   "source": [
    "data_rides_go.isna().sum().to_frame(name='count')\n",
    "# вычисление количества отсутствующих значений в каждом столбце датафрейма"
   ]
  },
  {
   "cell_type": "markdown",
   "metadata": {},
   "source": [
    "Во всех столбцах датафрейма `data_rides_go` отсутствуют пропущенные значения."
   ]
  },
  {
   "cell_type": "markdown",
   "metadata": {},
   "source": [
    "Выведем количество пропущенных значений для каждого столбца датафрейма `data_subscriptions_go`."
   ]
  },
  {
   "cell_type": "code",
   "execution_count": 16,
   "metadata": {},
   "outputs": [
    {
     "data": {
      "text/html": [
       "<div>\n",
       "<style scoped>\n",
       "    .dataframe tbody tr th:only-of-type {\n",
       "        vertical-align: middle;\n",
       "    }\n",
       "\n",
       "    .dataframe tbody tr th {\n",
       "        vertical-align: top;\n",
       "    }\n",
       "\n",
       "    .dataframe thead th {\n",
       "        text-align: right;\n",
       "    }\n",
       "</style>\n",
       "<table border=\"1\" class=\"dataframe\">\n",
       "  <thead>\n",
       "    <tr style=\"text-align: right;\">\n",
       "      <th></th>\n",
       "      <th>count</th>\n",
       "    </tr>\n",
       "  </thead>\n",
       "  <tbody>\n",
       "    <tr>\n",
       "      <th>subscription_type</th>\n",
       "      <td>0</td>\n",
       "    </tr>\n",
       "    <tr>\n",
       "      <th>minute_price</th>\n",
       "      <td>0</td>\n",
       "    </tr>\n",
       "    <tr>\n",
       "      <th>start_ride_price</th>\n",
       "      <td>0</td>\n",
       "    </tr>\n",
       "    <tr>\n",
       "      <th>subscription_fee</th>\n",
       "      <td>0</td>\n",
       "    </tr>\n",
       "  </tbody>\n",
       "</table>\n",
       "</div>"
      ],
      "text/plain": [
       "                   count\n",
       "subscription_type      0\n",
       "minute_price           0\n",
       "start_ride_price       0\n",
       "subscription_fee       0"
      ]
     },
     "execution_count": 16,
     "metadata": {},
     "output_type": "execute_result"
    }
   ],
   "source": [
    "data_subscriptions_go.isna().sum().to_frame(name='count')\n",
    "# вычисление количества отсутствующих значений в каждом столбце датафрейма"
   ]
  },
  {
   "cell_type": "markdown",
   "metadata": {},
   "source": [
    "Во всех столбцах датафрейма `data_subscriptions_go` отсутствуют пропущенные значения."
   ]
  },
  {
   "cell_type": "markdown",
   "metadata": {},
   "source": [
    "### Поиск и обработка дубликатов"
   ]
  },
  {
   "cell_type": "markdown",
   "metadata": {},
   "source": [
    "Выведем число дубликатов в датафрейме `data_users_go`."
   ]
  },
  {
   "cell_type": "code",
   "execution_count": 17,
   "metadata": {},
   "outputs": [
    {
     "data": {
      "text/plain": [
       "31"
      ]
     },
     "execution_count": 17,
     "metadata": {},
     "output_type": "execute_result"
    }
   ],
   "source": [
    "data_users_go.duplicated().sum() \n",
    "# вычисление количества дубликатов в датафрейме ‘data_users_go’"
   ]
  },
  {
   "cell_type": "markdown",
   "metadata": {},
   "source": [
    "В датафрейме `data_users_go` существует 31 дубликат. Удалим одинаковые записи."
   ]
  },
  {
   "cell_type": "code",
   "execution_count": 18,
   "metadata": {},
   "outputs": [],
   "source": [
    "data_users_go.drop_duplicates(inplace=True)\n",
    "# удаление дубликатов строк из датафрейма ‘data_users_go’"
   ]
  },
  {
   "cell_type": "markdown",
   "metadata": {},
   "source": [
    "Убедимся, что теперь в датафрейме `data_users_go` нет дубликатов."
   ]
  },
  {
   "cell_type": "code",
   "execution_count": 19,
   "metadata": {},
   "outputs": [
    {
     "data": {
      "text/plain": [
       "0"
      ]
     },
     "execution_count": 19,
     "metadata": {},
     "output_type": "execute_result"
    }
   ],
   "source": [
    "data_users_go.duplicated().sum() \n",
    "# вычисление количества дубликатов в датафрейме ‘data_users_go’"
   ]
  },
  {
   "cell_type": "markdown",
   "metadata": {},
   "source": [
    "Дубликаты в датафрейме `data_users_go` отсутствуют."
   ]
  },
  {
   "cell_type": "markdown",
   "metadata": {},
   "source": [
    "Выведем число дубликатов в датафрейме `data_rides_go`."
   ]
  },
  {
   "cell_type": "code",
   "execution_count": 20,
   "metadata": {},
   "outputs": [
    {
     "data": {
      "text/plain": [
       "0"
      ]
     },
     "execution_count": 20,
     "metadata": {},
     "output_type": "execute_result"
    }
   ],
   "source": [
    "data_rides_go.duplicated().sum() \n",
    "# вычисление количества дубликатов в датафрейме ‘data_rides_go’"
   ]
  },
  {
   "cell_type": "markdown",
   "metadata": {},
   "source": [
    "Дубликаты в датафрейме `data_rides_go` отсутствуют."
   ]
  },
  {
   "cell_type": "markdown",
   "metadata": {},
   "source": [
    "Выведем число дубликатов в датафрейме `data_subscriptions_go`."
   ]
  },
  {
   "cell_type": "code",
   "execution_count": 21,
   "metadata": {},
   "outputs": [
    {
     "data": {
      "text/plain": [
       "0"
      ]
     },
     "execution_count": 21,
     "metadata": {},
     "output_type": "execute_result"
    }
   ],
   "source": [
    "data_subscriptions_go.duplicated().sum() \n",
    "# вычисление количества дубликатов в датафрейме ‘data_subscriptions_go’"
   ]
  },
  {
   "cell_type": "markdown",
   "metadata": {},
   "source": [
    "Дубликаты в датафрейме `data_subscriptions_go` отсутствуют."
   ]
  },
  {
   "cell_type": "markdown",
   "metadata": {},
   "source": [
    "Выведем основную информацию о датафрейме `data_users_go` после предобработки данных."
   ]
  },
  {
   "cell_type": "code",
   "execution_count": 22,
   "metadata": {},
   "outputs": [
    {
     "name": "stdout",
     "output_type": "stream",
     "text": [
      "<class 'pandas.core.frame.DataFrame'>\n",
      "Int64Index: 1534 entries, 0 to 1533\n",
      "Data columns (total 5 columns):\n",
      " #   Column             Non-Null Count  Dtype \n",
      "---  ------             --------------  ----- \n",
      " 0   user_id            1534 non-null   int64 \n",
      " 1   name               1534 non-null   object\n",
      " 2   age                1534 non-null   int64 \n",
      " 3   city               1534 non-null   object\n",
      " 4   subscription_type  1534 non-null   object\n",
      "dtypes: int64(2), object(3)\n",
      "memory usage: 71.9+ KB\n"
     ]
    }
   ],
   "source": [
    "data_users_go.info()\n",
    "# вывод информации о структуре данных, хранящихся в переменной ‘data_users_go’"
   ]
  },
  {
   "cell_type": "markdown",
   "metadata": {},
   "source": [
    "Выведем основную информацию о датафрейме `data_rides_go` после предобработки данных."
   ]
  },
  {
   "cell_type": "code",
   "execution_count": 23,
   "metadata": {},
   "outputs": [
    {
     "name": "stdout",
     "output_type": "stream",
     "text": [
      "<class 'pandas.core.frame.DataFrame'>\n",
      "RangeIndex: 18068 entries, 0 to 18067\n",
      "Data columns (total 5 columns):\n",
      " #   Column    Non-Null Count  Dtype         \n",
      "---  ------    --------------  -----         \n",
      " 0   user_id   18068 non-null  int64         \n",
      " 1   distance  18068 non-null  float64       \n",
      " 2   duration  18068 non-null  float64       \n",
      " 3   date      18068 non-null  datetime64[ns]\n",
      " 4   month     18068 non-null  int64         \n",
      "dtypes: datetime64[ns](1), float64(2), int64(2)\n",
      "memory usage: 705.9 KB\n"
     ]
    }
   ],
   "source": [
    "data_rides_go.info()\n",
    "# вывод информации о структуре данных, хранящихся в переменной ‘data_rides_go’"
   ]
  },
  {
   "cell_type": "markdown",
   "metadata": {},
   "source": [
    "### Вывод"
   ]
  },
  {
   "cell_type": "markdown",
   "metadata": {},
   "source": [
    "- Привели столбец с датами совершения пользователями поездок на самокате к типу даты pandas. \n",
    "- Добавили в датафрейм с поездками дополнительный столбец с номерами месяцев. \n",
    "- Убедились, что во всех датафреймах отсутствуют пропущенные значения. \n",
    "- Обнаружили, что в датафрейме с информацией о пользователях существует 31 явный дубликат. Удалили одинаковые записи. \n",
    "- В других датафреймах не были найдены дублирующиеся записи."
   ]
  },
  {
   "cell_type": "markdown",
   "metadata": {},
   "source": [
    "<div class=\"alert alert-block alert-success\">✔️\n",
    "    \n",
    "\n",
    "__Комментарий от ревьюера №1__\n",
    "    \n",
    "Этот раздел сделан хорошо. Проверены основные возможные проблемы в данных."
   ]
  },
  {
   "cell_type": "markdown",
   "metadata": {
    "id": "pPyxrKWTAwb-"
   },
   "source": [
    "## Исследовательский анализ данных"
   ]
  },
  {
   "cell_type": "markdown",
   "metadata": {},
   "source": [
    "### Частота встречаемости городов"
   ]
  },
  {
   "cell_type": "markdown",
   "metadata": {},
   "source": [
    "Изучим частоту встречаемости городов, в которых пользователи сервиса GoFast совершают поездки на самокатах. Построим столбчатую диаграмму, показывающую количество пользователей сервиса аренды самокатов GoFast в определённом городе."
   ]
  },
  {
   "cell_type": "code",
   "execution_count": 24,
   "metadata": {},
   "outputs": [
    {
     "data": {
      "text/html": [
       "<div>\n",
       "<style scoped>\n",
       "    .dataframe tbody tr th:only-of-type {\n",
       "        vertical-align: middle;\n",
       "    }\n",
       "\n",
       "    .dataframe tbody tr th {\n",
       "        vertical-align: top;\n",
       "    }\n",
       "\n",
       "    .dataframe thead th {\n",
       "        text-align: right;\n",
       "    }\n",
       "</style>\n",
       "<table border=\"1\" class=\"dataframe\">\n",
       "  <thead>\n",
       "    <tr style=\"text-align: right;\">\n",
       "      <th></th>\n",
       "      <th>city</th>\n",
       "    </tr>\n",
       "  </thead>\n",
       "  <tbody>\n",
       "    <tr>\n",
       "      <th>Пятигорск</th>\n",
       "      <td>219</td>\n",
       "    </tr>\n",
       "    <tr>\n",
       "      <th>Екатеринбург</th>\n",
       "      <td>204</td>\n",
       "    </tr>\n",
       "    <tr>\n",
       "      <th>Ростов-на-Дону</th>\n",
       "      <td>198</td>\n",
       "    </tr>\n",
       "    <tr>\n",
       "      <th>Краснодар</th>\n",
       "      <td>193</td>\n",
       "    </tr>\n",
       "    <tr>\n",
       "      <th>Сочи</th>\n",
       "      <td>189</td>\n",
       "    </tr>\n",
       "    <tr>\n",
       "      <th>Омск</th>\n",
       "      <td>183</td>\n",
       "    </tr>\n",
       "    <tr>\n",
       "      <th>Тюмень</th>\n",
       "      <td>180</td>\n",
       "    </tr>\n",
       "    <tr>\n",
       "      <th>Москва</th>\n",
       "      <td>168</td>\n",
       "    </tr>\n",
       "  </tbody>\n",
       "</table>\n",
       "</div>"
      ],
      "text/plain": [
       "                city\n",
       "Пятигорск        219\n",
       "Екатеринбург     204\n",
       "Ростов-на-Дону   198\n",
       "Краснодар        193\n",
       "Сочи             189\n",
       "Омск             183\n",
       "Тюмень           180\n",
       "Москва           168"
      ]
     },
     "execution_count": 24,
     "metadata": {},
     "output_type": "execute_result"
    },
    {
     "data": {
      "image/png": "[encoded data removed]",
      "text/plain": [
       "<Figure size 864x216 with 1 Axes>"
      ]
     },
     "metadata": {
      "needs_background": "light"
     },
     "output_type": "display_data"
    }
   ],
   "source": [
    "rating_of_cities = data_users_go['city'].value_counts()\n",
    "# подсчёт количества уникальных значений в столбце ‘city’ датафрейма ‘data_users_go’\n",
    "rating_of_cities.sort_values().plot(kind='barh', figsize=(12, 3), legend=False)\n",
    "# построение горизонтального столбчатого графика с отсортированными по убыванию данными из ‘rating_of_cities’\n",
    "plt.xlim(0, 225)\n",
    "# установка границ горизонтальной оси\n",
    "plt.title('Количество пользователей сервиса аренды самокатов GoFast в разных городах', \n",
    "          fontsize=12)\n",
    "# установка заголовка для графика\n",
    "plt.xlabel('Количество пользователей', fontsize=10)\n",
    "# установка подписи для горизонтальной оси графика\n",
    "plt.ylabel('Город', fontsize=10)\n",
    "# установка подписи для вертикальной оси графика\n",
    "rating_of_cities.to_frame()\n",
    "# вывод количества вхождений каждого значения в столбце ‘city’ в датафрейме ‘data_users_go’"
   ]
  },
  {
   "cell_type": "markdown",
   "metadata": {},
   "source": [
    "<div class=\"alert alert-block alert-success\">✔️\n",
    "    \n",
    "\n",
    "__Комментарий от ревьюера №1__\n",
    "\n",
    "Отличный и наглядный график 👍\n",
    "    \n",
    "Здорово, когда он подписан. Так быстрее понять о чем идёт речь на нём.\n",
    "    \n",
    "</div>"
   ]
  },
  {
   "cell_type": "markdown",
   "metadata": {},
   "source": [
    "Сервис аренды самокатов GoFast представлен в 8 городах, таких как Москва, Екатеринбург, Ростов-на-Дону, Краснодар, Омск, Тюмень, Сочи, Пятигорск. Во всех городах примерно одинаковое количество пользователей сервиса GoFast, совершающих поездки на самокатах. \n",
    "\n",
    "В Екатеринбурге 204 пользователя сервиса GoFast совершают поездки на самокатах, в Ростове-на-Дону — 198 чел., в Краснодаре — 193 чел., в Сочи — 189 чел., в Омске — 183 чел., в Тюмени — 180 чел.\n",
    "\n",
    "Наибольшее число пользователей сервиса совершают поездки в Пятигорске — 219 чел., наименьшее число в Москве — 168 чел.\n",
    "\n",
    "Возможные причины более широкого использования самокатов в Пятигорске по сравнению с Москвой:\n",
    "- В Москве может быть более развитая инфраструктура общественного транспорта, что снижает потребность в использовании самокатов, в то время как в Пятигорске инфраструктура может быть менее развита, и самокаты могут служить альтернативой общественному транспорту;\n",
    "- В Москве по сравнению с другими городами может быть больше сервисов-конкурентов аренды самокатов, забирающих часть потенциальных клиентов;\n",
    "- Москва расположена в более холодном климатическом поясе, что может ограничивать использование самокатов в зимнее время года, Пятигорск же находится в более мягком климате, что делает самокаты более популярными в течение всего года;\n",
    "- Пятигорск расположен в гористой местности, что делает использование самокатов более удобным и привлекательным для жителей города, Москва имеет преимущественно равнинный рельеф, что может снижать интерес к самокатам;\n",
    "- В Москве могут быть более строгие правила и нормы использования самокатов."
   ]
  },
  {
   "cell_type": "markdown",
   "metadata": {},
   "source": [
    "### Cоотношение пользователей с подпиской и без подписки"
   ]
  },
  {
   "cell_type": "markdown",
   "metadata": {},
   "source": [
    "Посмотрим на соотношение клиентов сервиса аренды самокатов GoFast, пользующихся мобильным приложением без подписки и с подпиской."
   ]
  },
  {
   "cell_type": "code",
   "execution_count": 25,
   "metadata": {},
   "outputs": [
    {
     "data": {
      "text/html": [
       "<div>\n",
       "<style scoped>\n",
       "    .dataframe tbody tr th:only-of-type {\n",
       "        vertical-align: middle;\n",
       "    }\n",
       "\n",
       "    .dataframe tbody tr th {\n",
       "        vertical-align: top;\n",
       "    }\n",
       "\n",
       "    .dataframe thead th {\n",
       "        text-align: right;\n",
       "    }\n",
       "</style>\n",
       "<table border=\"1\" class=\"dataframe\">\n",
       "  <thead>\n",
       "    <tr style=\"text-align: right;\">\n",
       "      <th></th>\n",
       "      <th>subscription_type</th>\n",
       "    </tr>\n",
       "  </thead>\n",
       "  <tbody>\n",
       "    <tr>\n",
       "      <th>free</th>\n",
       "      <td>835</td>\n",
       "    </tr>\n",
       "    <tr>\n",
       "      <th>ultra</th>\n",
       "      <td>699</td>\n",
       "    </tr>\n",
       "  </tbody>\n",
       "</table>\n",
       "</div>"
      ],
      "text/plain": [
       "       subscription_type\n",
       "free                 835\n",
       "ultra                699"
      ]
     },
     "execution_count": 25,
     "metadata": {},
     "output_type": "execute_result"
    }
   ],
   "source": [
    "ratio_of_subscription_types = data_users_go['subscription_type'].value_counts()\n",
    "ratio_of_subscription_types.to_frame()\n",
    "# вывод количества вхождений каждого значения в столбце ‘subscription_type’ в датафрейме ‘data_users_go’"
   ]
  },
  {
   "cell_type": "markdown",
   "metadata": {},
   "source": [
    "Большая часть клиентов сервиса аренды самокатов GoFast пользуется мобильным приложением без подписки — 835 человек. Меньшее число клиентов сервиса пользуется мобильным приложением с подпиской — 699 человек.\n",
    "    \n",
    "Построим круговую диаграмму, показывающую процентное соотношение пользователей сервиса аренды самокатов GoFast без подписки и с подпиской."
   ]
  },
  {
   "cell_type": "code",
   "execution_count": 26,
   "metadata": {},
   "outputs": [
    {
     "data": {
      "image/png": "[encoded data removed]",
      "text/plain": [
       "<Figure size 432x288 with 1 Axes>"
      ]
     },
     "metadata": {},
     "output_type": "display_data"
    }
   ],
   "source": [
    "ratio_of_subscription_types.plot(kind='pie', autopct='%1.0f%%', wedgeprops=\n",
    "       {'edgecolor':'black'}, legend=False)\n",
    "# создание круговой диаграммы на основе данных в переменной ‘ratio_of_subscription_types’\n",
    "plt.title('Cоотношение пользователей без подписки и с подпиской, в %', \n",
    "          fontsize=12);\n",
    "# установка заголовка для графика"
   ]
  },
  {
   "cell_type": "markdown",
   "metadata": {},
   "source": [
    "Более половины клиентов сервиса аренды самокатов GoFast (54%) пользуются мобильным приложением без оформления подписки. Чуть меньше половины (46%) клиентов для совершения поездок на самокатах используют подписку Ultra, но тем не менее это хорошая рабочая база клиентов."
   ]
  },
  {
   "cell_type": "markdown",
   "metadata": {},
   "source": [
    "<div class=\"alert alert-block alert-success\">✔️\n",
    "    \n",
    "\n",
    "__Комментарий от ревьюера №1__\n",
    "\n",
    "Пользователей с подпиской немного меньше, тем не менее у компании-прокатчика есть неплохая база постоянных клиентов."
   ]
  },
  {
   "cell_type": "markdown",
   "metadata": {},
   "source": [
    "### Возраст пользователей"
   ]
  },
  {
   "cell_type": "markdown",
   "metadata": {},
   "source": [
    "Выведем характеристики распределения возрастов пользователей сервиса аренды самокатов GoFast и построим диаграмму размаха."
   ]
  },
  {
   "cell_type": "code",
   "execution_count": 27,
   "metadata": {},
   "outputs": [
    {
     "data": {
      "text/html": [
       "<div>\n",
       "<style scoped>\n",
       "    .dataframe tbody tr th:only-of-type {\n",
       "        vertical-align: middle;\n",
       "    }\n",
       "\n",
       "    .dataframe tbody tr th {\n",
       "        vertical-align: top;\n",
       "    }\n",
       "\n",
       "    .dataframe thead th {\n",
       "        text-align: right;\n",
       "    }\n",
       "</style>\n",
       "<table border=\"1\" class=\"dataframe\">\n",
       "  <thead>\n",
       "    <tr style=\"text-align: right;\">\n",
       "      <th></th>\n",
       "      <th>age</th>\n",
       "    </tr>\n",
       "  </thead>\n",
       "  <tbody>\n",
       "    <tr>\n",
       "      <th>count</th>\n",
       "      <td>1534.0</td>\n",
       "    </tr>\n",
       "    <tr>\n",
       "      <th>mean</th>\n",
       "      <td>25.0</td>\n",
       "    </tr>\n",
       "    <tr>\n",
       "      <th>std</th>\n",
       "      <td>5.0</td>\n",
       "    </tr>\n",
       "    <tr>\n",
       "      <th>min</th>\n",
       "      <td>12.0</td>\n",
       "    </tr>\n",
       "    <tr>\n",
       "      <th>25%</th>\n",
       "      <td>22.0</td>\n",
       "    </tr>\n",
       "    <tr>\n",
       "      <th>50%</th>\n",
       "      <td>25.0</td>\n",
       "    </tr>\n",
       "    <tr>\n",
       "      <th>75%</th>\n",
       "      <td>28.0</td>\n",
       "    </tr>\n",
       "    <tr>\n",
       "      <th>max</th>\n",
       "      <td>43.0</td>\n",
       "    </tr>\n",
       "  </tbody>\n",
       "</table>\n",
       "</div>"
      ],
      "text/plain": [
       "          age\n",
       "count  1534.0\n",
       "mean     25.0\n",
       "std       5.0\n",
       "min      12.0\n",
       "25%      22.0\n",
       "50%      25.0\n",
       "75%      28.0\n",
       "max      43.0"
      ]
     },
     "execution_count": 27,
     "metadata": {},
     "output_type": "execute_result"
    },
    {
     "data": {
      "image/png": "[encoded data removed]",
      "text/plain": [
       "<Figure size 1224x144 with 1 Axes>"
      ]
     },
     "metadata": {
      "needs_background": "light"
     },
     "output_type": "display_data"
    }
   ],
   "source": [
    "data_users_go.boxplot('age', vert = False, figsize=(17, 2))\n",
    "# построение диаграммы размаха для значений столбца ‘age’\n",
    "plt.xlim(10, 45)\n",
    "# установка границ горизонтальной оси\n",
    "plt.title('Размах значений возраста пользователей сервиса аренды самокатов GoFast', fontsize=12)\n",
    "# установка заголовка для графика\n",
    "plt.xlabel('Возраст', fontsize=10)\n",
    "# установка подписи для горизонтальной оси графика\n",
    "round(data_users_go['age'].describe()).to_frame()\n",
    "# вывод статистической информации о значениях столбца ‘age’ с округлением"
   ]
  },
  {
   "cell_type": "markdown",
   "metadata": {},
   "source": [
    "Количество пользователей сервиса аренды самокатов GoFast в 2021 году составляет 1 тыс. 534 чел.\n",
    "\n",
    "Cредний возраст пользователей сервиса равен 25 годам.\n",
    "\n",
    "Стандартное отклонение, описывающее разброс значений возраста пользователей сервиса относительно среднего, равно 5 годам.\n",
    "\n",
    "Первый квартиль, левее которого лежит 25% данных, описывающих возраст пользователей, равен 22 годам.\n",
    "\n",
    "Половина всех значений возраста пользователей меньше 25 лет, другая половина — больше.\n",
    "\n",
    "Третий квартиль, правее которого лежит 25% данных, описывающих возраст пользователей, равен 28 годам.\n",
    "\n",
    "Нижний «ус» диаграммы размаха доходит до 13 лет, верхний «ус» — до 37 лет. Это приблизительные границы нормального размаха. То, что выходит за их пределы, считается выбросами. Они включают в себя самый маленький возраст — 12 лет и самый больший возраст — 43 года.\n",
    "\n",
    "Определим возраст пользователей сервиса GoFast, который встречается наиболее часто."
   ]
  },
  {
   "cell_type": "code",
   "execution_count": 28,
   "metadata": {},
   "outputs": [
    {
     "data": {
      "text/html": [
       "<div>\n",
       "<style scoped>\n",
       "    .dataframe tbody tr th:only-of-type {\n",
       "        vertical-align: middle;\n",
       "    }\n",
       "\n",
       "    .dataframe tbody tr th {\n",
       "        vertical-align: top;\n",
       "    }\n",
       "\n",
       "    .dataframe thead th {\n",
       "        text-align: right;\n",
       "    }\n",
       "</style>\n",
       "<table border=\"1\" class=\"dataframe\">\n",
       "  <thead>\n",
       "    <tr style=\"text-align: right;\">\n",
       "      <th></th>\n",
       "      <th>0</th>\n",
       "    </tr>\n",
       "  </thead>\n",
       "  <tbody>\n",
       "    <tr>\n",
       "      <th>0</th>\n",
       "      <td>25</td>\n",
       "    </tr>\n",
       "  </tbody>\n",
       "</table>\n",
       "</div>"
      ],
      "text/plain": [
       "    0\n",
       "0  25"
      ]
     },
     "execution_count": 28,
     "metadata": {},
     "output_type": "execute_result"
    }
   ],
   "source": [
    "data_users_go['age'].mode().to_frame()\n",
    "# вычисление моды в столбце ‘age’"
   ]
  },
  {
   "cell_type": "markdown",
   "metadata": {},
   "source": [
    "Наиболее часто встречающийся возраст пользователей сервиса аренды самокатов GoFast — 25 лет.\n",
    "    \n",
    "Построим гистограмму распределения возрастов пользователей сервиса GoFast."
   ]
  },
  {
   "cell_type": "code",
   "execution_count": 29,
   "metadata": {},
   "outputs": [
    {
     "data": {
      "image/png": "[encoded data removed]",
      "text/plain": [
       "<Figure size 432x288 with 1 Axes>"
      ]
     },
     "metadata": {
      "needs_background": "light"
     },
     "output_type": "display_data"
    }
   ],
   "source": [
    "data_users_go['age'].hist(bins=15, ec='white', legend=False)\n",
    "# построение гистограммы для значений в столбце ‘age’ в датафрейме ‘data_users_go’\n",
    "plt.xlim(10, 45)\n",
    "# установка границ горизонтальной оси\n",
    "plt.title('Распределение значений возраста пользователей', fontsize=12)\n",
    "# установка заголовка для графика\n",
    "plt.xlabel('Возраст', fontsize=10)\n",
    "# установка подписи для горизонтальной оси графика\n",
    "plt.ylabel('Количество пользователей', fontsize=10);\n",
    "# установка подписи для вертикальной оси графика"
   ]
  },
  {
   "cell_type": "markdown",
   "metadata": {},
   "source": [
    "Сервис аренды самокатов GoFast наиболее популярен среди молодежи в возрасте от 22 до 28 лет. Мода, медиана и среднее арифметическое совпадают — 25 лет. Распределение является симметричным. Реже всего сервисом пользуются лица моложе 15 и старше 35 лет. Самому юному пользователю сервиса — 12 лет, самому старшему — 43 года."
   ]
  },
  {
   "cell_type": "markdown",
   "metadata": {},
   "source": [
    "<div class=\"alert alert-block alert-success\">✔️\n",
    "    \n",
    "\n",
    "__Комментарий от ревьюера №1__\n",
    "\n",
    "Основная часть пользователей возрастом от 22 до 28 лет. Все что меньше 15 лет и больше 40 можно считать редкими значениями."
   ]
  },
  {
   "cell_type": "markdown",
   "metadata": {},
   "source": [
    "### Расстояние, которое пользователи преодолели за одну поездку"
   ]
  },
  {
   "cell_type": "markdown",
   "metadata": {},
   "source": [
    "Выведем характеристики распределения расстояний, которые пользователи сервиса GoFast преодолели за одну поездку, и построим диаграмму размаха."
   ]
  },
  {
   "cell_type": "code",
   "execution_count": 30,
   "metadata": {},
   "outputs": [
    {
     "data": {
      "text/html": [
       "<div>\n",
       "<style scoped>\n",
       "    .dataframe tbody tr th:only-of-type {\n",
       "        vertical-align: middle;\n",
       "    }\n",
       "\n",
       "    .dataframe tbody tr th {\n",
       "        vertical-align: top;\n",
       "    }\n",
       "\n",
       "    .dataframe thead th {\n",
       "        text-align: right;\n",
       "    }\n",
       "</style>\n",
       "<table border=\"1\" class=\"dataframe\">\n",
       "  <thead>\n",
       "    <tr style=\"text-align: right;\">\n",
       "      <th></th>\n",
       "      <th>distance</th>\n",
       "    </tr>\n",
       "  </thead>\n",
       "  <tbody>\n",
       "    <tr>\n",
       "      <th>count</th>\n",
       "      <td>18068.0</td>\n",
       "    </tr>\n",
       "    <tr>\n",
       "      <th>mean</th>\n",
       "      <td>3070.7</td>\n",
       "    </tr>\n",
       "    <tr>\n",
       "      <th>std</th>\n",
       "      <td>1116.8</td>\n",
       "    </tr>\n",
       "    <tr>\n",
       "      <th>min</th>\n",
       "      <td>0.9</td>\n",
       "    </tr>\n",
       "    <tr>\n",
       "      <th>25%</th>\n",
       "      <td>2543.2</td>\n",
       "    </tr>\n",
       "    <tr>\n",
       "      <th>50%</th>\n",
       "      <td>3133.6</td>\n",
       "    </tr>\n",
       "    <tr>\n",
       "      <th>75%</th>\n",
       "      <td>3776.2</td>\n",
       "    </tr>\n",
       "    <tr>\n",
       "      <th>max</th>\n",
       "      <td>7211.0</td>\n",
       "    </tr>\n",
       "  </tbody>\n",
       "</table>\n",
       "</div>"
      ],
      "text/plain": [
       "       distance\n",
       "count   18068.0\n",
       "mean     3070.7\n",
       "std      1116.8\n",
       "min         0.9\n",
       "25%      2543.2\n",
       "50%      3133.6\n",
       "75%      3776.2\n",
       "max      7211.0"
      ]
     },
     "execution_count": 30,
     "metadata": {},
     "output_type": "execute_result"
    },
    {
     "data": {
      "image/png": "[encoded data removed]",
      "text/plain": [
       "<Figure size 1224x144 with 1 Axes>"
      ]
     },
     "metadata": {
      "needs_background": "light"
     },
     "output_type": "display_data"
    }
   ],
   "source": [
    "data_rides_go.boxplot('distance', vert = False, figsize=(17, 2))\n",
    "# построение диаграммы размаха для значений столбца ‘distance’\n",
    "plt.xlim(0, 8000)\n",
    "# установка границ горизонтальной оси\n",
    "plt.title('Размах значений расстояния, которое пользователи сервиса GoFast преодолели за одну поездку (м)', fontsize=12)\n",
    "# установка заголовка для графика\n",
    "plt.xlabel('Расстояние в метрах', fontsize=10)\n",
    "# установка подписи для горизонтальной оси графика\n",
    "round(data_rides_go['distance'].describe().to_frame(), 1)\n",
    "# вывод статистической информации о значениях столбца ‘distance’"
   ]
  },
  {
   "cell_type": "markdown",
   "metadata": {},
   "source": [
    "Количество поездок, совершённых пользователями сервиса аренды самокатов GoFast за 2021 год, составляет 18 тыс. 68.\n",
    "\n",
    "Cреднее расстояние, которое пользователи сервиса GoFast преодолели за одну поездку, равно 3 км 71 м.\n",
    "\n",
    "Стандартное отклонение, описывающее разброс значений расстояния, которое пользователи сервиса GoFast преодолели за одну поездку, относительно среднего, равно 1 км 117 м.\n",
    "\n",
    "Первый квартиль, левее которого лежит 25% данных, описывающих расстояние, которое пользователи сервиса проехали за одну сессию, равен 2 км 543 м.\n",
    "\n",
    "Половина всех значений расстояния, которое пользователи сервиса преодолели за одну поездку, меньше 3 км 134 м, другая половина — больше.\n",
    "\n",
    "Третий квартиль, правее которого лежит 25% данных, описывающих расстояние, которое пользователи сервиса проехали за одну сессию, равен 3 км 776 м.\n",
    "\n",
    "Нижний «ус» диаграммы размаха доходит примерно до 700 м, верхний «ус» — 5 км 600 м. Это приблизительные границы нормального размаха. То, что выходит за их пределы, считается выбросами. Высокие значения отображаются отдельными точками, но они сливаются в одну толстую линию, так как выбросов очень много. Выбросы включают в себя наименьшее расстояние — 0.9 м и наибольшее расстояние — 7 км 211 м.\n",
    "\n",
    "Построим гистограмму распределения расстояний, которые пользователи сервиса GoFast преодолели за одну поездку."
   ]
  },
  {
   "cell_type": "code",
   "execution_count": 31,
   "metadata": {},
   "outputs": [
    {
     "data": {
      "image/png": "[encoded data removed]",
      "text/plain": [
       "<Figure size 432x288 with 1 Axes>"
      ]
     },
     "metadata": {
      "needs_background": "light"
     },
     "output_type": "display_data"
    }
   ],
   "source": [
    "data_rides_go['distance'].hist(bins=25, ec='white', legend=False)\n",
    "# построение гистограммы для значений в столбце ‘distance’ в датафрейме ‘data_rides_go’\n",
    "plt.title('Распределение значений расстояния, кот. пользователи преодолели за 1 поездку (м)', fontsize=12)\n",
    "# установка заголовка для графика\n",
    "plt.xlabel('Расстояние в метрах', fontsize=10)\n",
    "# установка подписи для горизонтальной оси графика\n",
    "plt.ylabel('Число поездок', fontsize=10);\n",
    "# установка подписи для вертикальной оси графика"
   ]
  },
  {
   "cell_type": "markdown",
   "metadata": {},
   "source": [
    "Самое частое расстояние, которое пользователи сервиса аренды самокатов GoFast преодолели за одну поездку, находится в пределах от 2 км 500 м до 3 км 800 м. Среднее расстояние, которое пользователи сервиса GoFast проехали за одну сессию, составляет 3 км 71 м, медианное расстояние — 3 км 134 м. Некоторые пользователи предпочитают поездки на самокатах на короткие расстояния — до 1 км 500 м. Всех реже пользователи сервиса GoFast ездили на самокатах больше 5 км."
   ]
  },
  {
   "cell_type": "markdown",
   "metadata": {},
   "source": [
    "<div class=\"alert alert-block alert-success\">✔️\n",
    "    \n",
    "\n",
    "__Комментарий от ревьюера №1__\n",
    "\n",
    "Основная часть поездок занимает от 2500 до 3800 метров. Медиана 3133 метра. Поездки на расстояние более 5 км редки. Однако на гистограмме видно, что некоторая часть пользователей использует самокаты для коротких поездок - до 1500 м."
   ]
  },
  {
   "cell_type": "markdown",
   "metadata": {},
   "source": [
    "### Продолжительность поездок"
   ]
  },
  {
   "cell_type": "markdown",
   "metadata": {},
   "source": [
    "Выведем характеристики распределения продолжительностей поездок, совершённых пользователями сервиса аренды самокатов GoFast, и построим диаграмму размаха."
   ]
  },
  {
   "cell_type": "code",
   "execution_count": 32,
   "metadata": {},
   "outputs": [
    {
     "data": {
      "text/html": [
       "<div>\n",
       "<style scoped>\n",
       "    .dataframe tbody tr th:only-of-type {\n",
       "        vertical-align: middle;\n",
       "    }\n",
       "\n",
       "    .dataframe tbody tr th {\n",
       "        vertical-align: top;\n",
       "    }\n",
       "\n",
       "    .dataframe thead th {\n",
       "        text-align: right;\n",
       "    }\n",
       "</style>\n",
       "<table border=\"1\" class=\"dataframe\">\n",
       "  <thead>\n",
       "    <tr style=\"text-align: right;\">\n",
       "      <th></th>\n",
       "      <th>duration</th>\n",
       "    </tr>\n",
       "  </thead>\n",
       "  <tbody>\n",
       "    <tr>\n",
       "      <th>count</th>\n",
       "      <td>18068.0</td>\n",
       "    </tr>\n",
       "    <tr>\n",
       "      <th>mean</th>\n",
       "      <td>17.8</td>\n",
       "    </tr>\n",
       "    <tr>\n",
       "      <th>std</th>\n",
       "      <td>6.1</td>\n",
       "    </tr>\n",
       "    <tr>\n",
       "      <th>min</th>\n",
       "      <td>0.5</td>\n",
       "    </tr>\n",
       "    <tr>\n",
       "      <th>25%</th>\n",
       "      <td>13.6</td>\n",
       "    </tr>\n",
       "    <tr>\n",
       "      <th>50%</th>\n",
       "      <td>17.7</td>\n",
       "    </tr>\n",
       "    <tr>\n",
       "      <th>75%</th>\n",
       "      <td>21.7</td>\n",
       "    </tr>\n",
       "    <tr>\n",
       "      <th>max</th>\n",
       "      <td>40.8</td>\n",
       "    </tr>\n",
       "  </tbody>\n",
       "</table>\n",
       "</div>"
      ],
      "text/plain": [
       "       duration\n",
       "count   18068.0\n",
       "mean       17.8\n",
       "std         6.1\n",
       "min         0.5\n",
       "25%        13.6\n",
       "50%        17.7\n",
       "75%        21.7\n",
       "max        40.8"
      ]
     },
     "execution_count": 32,
     "metadata": {},
     "output_type": "execute_result"
    },
    {
     "data": {
      "image/png": "[encoded data removed]",
      "text/plain": [
       "<Figure size 1224x144 with 1 Axes>"
      ]
     },
     "metadata": {
      "needs_background": "light"
     },
     "output_type": "display_data"
    }
   ],
   "source": [
    "data_rides_go.boxplot('duration', vert = False, figsize=(17, 2))\n",
    "# построение диаграммы размаха для значений столбца ‘duration’\n",
    "plt.xlim(0, 45)\n",
    "# установка границ горизонтальной оси\n",
    "plt.title('Размах значений продолжительности поездок пользователей сервиса GoFast (в минутах)', fontsize=12)\n",
    "# установка заголовка для графика\n",
    "plt.xlabel('Время в минутах', fontsize=10)\n",
    "# установка подписи для горизонтальной оси графика\n",
    "round(data_rides_go['duration'].describe().to_frame(), 1)\n",
    "# вывод статистической информации о значениях столбца ‘duration’"
   ]
  },
  {
   "cell_type": "markdown",
   "metadata": {},
   "source": [
    "Cредняя продолжительность поездок, совершённых пользователями сервиса GoFast, равна 18 мин.\n",
    "\n",
    "Стандартное отклонение, описывающее разброс значений продолжительности поездок, совершённых пользователями сервиса GoFast, относительно среднего, равно 6 мин.\n",
    "\n",
    "Первый квартиль, левее которого лежит 25% данных, описывающих продолжительность поездок, совершённых пользователями сервиса GoFast, равен 14 мин.\n",
    "\n",
    "Половина всех значений продолжительности поездок, совершённых пользователями сервиса GoFast, меньше 18 мин., другая половина — больше.\n",
    "\n",
    "Третий квартиль, правее которого лежит 25% данных, описывающих продолжительность поездок, совершённых пользователями сервиса GoFast, равен 22 мин.\n",
    "\n",
    "Нижний «ус» диаграммы размаха доходит примерно до 2 мин, верхний «ус» — 34 мин. Это приблизительные границы нормального размаха. То, что выходит за их пределы, считается выбросами. Выбросы включают в себя самую быструю поездку — 30 сек. и самую долгую поездку — 41 мин.\n",
    "\n",
    "Определим, существует ли и чему равна наиболее часто встречающаяся продолжительность поездок, совершённых пользователями сервиса GoFast."
   ]
  },
  {
   "cell_type": "code",
   "execution_count": 33,
   "metadata": {},
   "outputs": [
    {
     "data": {
      "text/html": [
       "<div>\n",
       "<style scoped>\n",
       "    .dataframe tbody tr th:only-of-type {\n",
       "        vertical-align: middle;\n",
       "    }\n",
       "\n",
       "    .dataframe tbody tr th {\n",
       "        vertical-align: top;\n",
       "    }\n",
       "\n",
       "    .dataframe thead th {\n",
       "        text-align: right;\n",
       "    }\n",
       "</style>\n",
       "<table border=\"1\" class=\"dataframe\">\n",
       "  <thead>\n",
       "    <tr style=\"text-align: right;\">\n",
       "      <th></th>\n",
       "      <th>0</th>\n",
       "    </tr>\n",
       "  </thead>\n",
       "  <tbody>\n",
       "    <tr>\n",
       "      <th>0</th>\n",
       "      <td>0.5</td>\n",
       "    </tr>\n",
       "  </tbody>\n",
       "</table>\n",
       "</div>"
      ],
      "text/plain": [
       "     0\n",
       "0  0.5"
      ]
     },
     "execution_count": 33,
     "metadata": {},
     "output_type": "execute_result"
    }
   ],
   "source": [
    "data_rides_go['duration'].mode().to_frame()\n",
    "# вычисление моды в столбце ‘duration’"
   ]
  },
  {
   "cell_type": "markdown",
   "metadata": {},
   "source": [
    "Всех чаще встречается значение продолжительности поездок, совершённых пользователями сервиса GoFast, равное 30 секундам.\n",
    "\n",
    "Проверим, могла ли короткая сессия быть связана с тем, что человек просто не начал поездку на самокате или проехал очень маленькое расстояние."
   ]
  },
  {
   "cell_type": "code",
   "execution_count": 34,
   "metadata": {},
   "outputs": [
    {
     "data": {
      "text/html": [
       "<div>\n",
       "<style scoped>\n",
       "    .dataframe tbody tr th:only-of-type {\n",
       "        vertical-align: middle;\n",
       "    }\n",
       "\n",
       "    .dataframe tbody tr th {\n",
       "        vertical-align: top;\n",
       "    }\n",
       "\n",
       "    .dataframe thead th {\n",
       "        text-align: right;\n",
       "    }\n",
       "</style>\n",
       "<table border=\"1\" class=\"dataframe\">\n",
       "  <thead>\n",
       "    <tr style=\"text-align: right;\">\n",
       "      <th></th>\n",
       "      <th>distance</th>\n",
       "      <th>duration</th>\n",
       "    </tr>\n",
       "  </thead>\n",
       "  <tbody>\n",
       "    <tr>\n",
       "      <th>6531</th>\n",
       "      <td>4196.4</td>\n",
       "      <td>0.5</td>\n",
       "    </tr>\n",
       "    <tr>\n",
       "      <th>6570</th>\n",
       "      <td>4830.8</td>\n",
       "      <td>0.5</td>\n",
       "    </tr>\n",
       "    <tr>\n",
       "      <th>6680</th>\n",
       "      <td>4684.0</td>\n",
       "      <td>0.5</td>\n",
       "    </tr>\n",
       "    <tr>\n",
       "      <th>6695</th>\n",
       "      <td>5215.6</td>\n",
       "      <td>0.5</td>\n",
       "    </tr>\n",
       "    <tr>\n",
       "      <th>6768</th>\n",
       "      <td>5197.4</td>\n",
       "      <td>0.5</td>\n",
       "    </tr>\n",
       "    <tr>\n",
       "      <th>...</th>\n",
       "      <td>...</td>\n",
       "      <td>...</td>\n",
       "    </tr>\n",
       "    <tr>\n",
       "      <th>17004</th>\n",
       "      <td>5531.3</td>\n",
       "      <td>0.5</td>\n",
       "    </tr>\n",
       "    <tr>\n",
       "      <th>17242</th>\n",
       "      <td>6724.9</td>\n",
       "      <td>0.5</td>\n",
       "    </tr>\n",
       "    <tr>\n",
       "      <th>17314</th>\n",
       "      <td>4445.5</td>\n",
       "      <td>0.5</td>\n",
       "    </tr>\n",
       "    <tr>\n",
       "      <th>17505</th>\n",
       "      <td>5722.6</td>\n",
       "      <td>0.5</td>\n",
       "    </tr>\n",
       "    <tr>\n",
       "      <th>17909</th>\n",
       "      <td>4104.0</td>\n",
       "      <td>0.5</td>\n",
       "    </tr>\n",
       "  </tbody>\n",
       "</table>\n",
       "<p>95 rows × 2 columns</p>\n",
       "</div>"
      ],
      "text/plain": [
       "       distance  duration\n",
       "6531     4196.4       0.5\n",
       "6570     4830.8       0.5\n",
       "6680     4684.0       0.5\n",
       "6695     5215.6       0.5\n",
       "6768     5197.4       0.5\n",
       "...         ...       ...\n",
       "17004    5531.3       0.5\n",
       "17242    6724.9       0.5\n",
       "17314    4445.5       0.5\n",
       "17505    5722.6       0.5\n",
       "17909    4104.0       0.5\n",
       "\n",
       "[95 rows x 2 columns]"
      ]
     },
     "execution_count": 34,
     "metadata": {},
     "output_type": "execute_result"
    }
   ],
   "source": [
    "round(data_rides_go.query('duration == 0.5')[['distance', 'duration']], 1)\n",
    "# отбор строк, в которых значение в столбце ‘duration’ равно 0.5 \n",
    "# создание нового датафрейма со столбцами 'distance' и 'duration', содержащего только отобранные строки"
   ]
  },
  {
   "cell_type": "markdown",
   "metadata": {},
   "source": [
    "У поездок на самокате с полуминутной длительностью расстояние составляет более 4 км. В действительности это невозможно. Проверим, существуют ли сессии, длящиеся 30 секунд, с пройденным расстоянием менее 4 км."
   ]
  },
  {
   "cell_type": "code",
   "execution_count": 35,
   "metadata": {},
   "outputs": [
    {
     "data": {
      "text/plain": [
       "0"
      ]
     },
     "execution_count": 35,
     "metadata": {},
     "output_type": "execute_result"
    }
   ],
   "source": [
    "len(data_rides_go.query('duration == 0.5 & distance < 4000'))\n",
    "# подсчёт количества строк в датафрейме ‘data_rides_go’, где истинно условие"
   ]
  },
  {
   "cell_type": "markdown",
   "metadata": {},
   "source": [
    "У всех 95 поездок, длительность которых равна полминуте, расстояние составляет более 4 км. Возможно, продолжительность некоторых поездок была зафиксирована с ошибкой, мобильное приложение неправильно обработало данные.\n",
    "    \n",
    "Построим гистограмму распределения продолжительностей поездок, совершённых пользователями сервиса GoFast."
   ]
  },
  {
   "cell_type": "code",
   "execution_count": 36,
   "metadata": {},
   "outputs": [
    {
     "data": {
      "image/png": "[encoded data removed]",
      "text/plain": [
       "<Figure size 432x288 with 1 Axes>"
      ]
     },
     "metadata": {
      "needs_background": "light"
     },
     "output_type": "display_data"
    }
   ],
   "source": [
    "data_rides_go['duration'].hist(bins=25, ec='white', legend=False)\n",
    "# построение гистограммы для значений в столбце ‘duration’ в датафрейме ‘data_rides_go’\n",
    "plt.title('Распределение значений продолжительности поездок пользователей (мин.)', fontsize=12)\n",
    "# установка заголовка для графика\n",
    "plt.xlabel('Время в минутах', fontsize=10)\n",
    "# установка подписи для горизонтальной оси графика\n",
    "plt.ylabel('Число поездок', fontsize=10);\n",
    "# установка подписи для вертикальной оси графика"
   ]
  },
  {
   "cell_type": "markdown",
   "metadata": {},
   "source": [
    "Набольшее количество поездок совершено пользователями сервиса аренды самокатов GoFast за 15-20 минут. Cредняя и медианная продолжительность поездок, совершённых пользователями сервиса GoFast, приблизительно равна 18 минутам. Всех реже клиенты сервиса GoFast ездили на самокате меньше 7 минут и больше 28 минут."
   ]
  },
  {
   "cell_type": "markdown",
   "metadata": {},
   "source": [
    "<div class=\"alert alert-block alert-success\">✔️\n",
    "    \n",
    "\n",
    "__Комментарий от ревьюера №1__\n",
    "\n",
    "Молодец, что гистограммы подкрепляешь boxplotoм"
   ]
  },
  {
   "cell_type": "markdown",
   "metadata": {},
   "source": [
    "### Вывод"
   ]
  },
  {
   "cell_type": "markdown",
   "metadata": {},
   "source": [
    "В результате проведённого исследовательского анализа данных была описана и визуализирована общая информация о пользователях сервиса аренды самокатов GoFast и их поездках.\n",
    "\n",
    "- Сервис аренды самокатов GoFast представлен в 8 городах, таких как Москва, Екатеринбург, Ростов-на-Дону, Краснодар, Омск, Тюмень, Сочи, Пятигорск. Наибольшее число пользователей сервиса совершают поездки в городе-курорте Пятигорске в Ставропольском крае — 219 чел., наименьшее число в Москве, являющейся столицей и крупнейшим по численности населения городом России — 168 чел. Возможные причины более широкого использования самокатов в Пятигорске по сравнению с Москвой:\n",
    " - В Москве может быть более развитая инфраструктура общественного транспорта, что снижает потребность в использовании самокатов, в то время как в Пятигорске инфраструктура может быть менее развита, и самокаты могут служить альтернативой общественному транспорту;\n",
    " - В Москве по сравнению с другими городами может быть больше сервисов-конкурентов аренды самокатов, забирающих часть потенциальных клиентов;\n",
    " - Москва расположена в более холодном климатическом поясе, что может ограничивать использование самокатов в зимнее время года, Пятигорск же находится в более мягком климате, что делает самокаты более популярными в течение всего года;\n",
    " - Пятигорск расположен в гористой местности, что делает использование самокатов более удобным и привлекательным для жителей города, Москва имеет преимущественно равнинный рельеф, что может снижать интерес к самокатам;\n",
    " - В Москве могут быть более строгие правила и нормы использования самокатов.\n",
    "\n",
    "- Более половины (54%) клиентов сервиса аренды самокатов GoFast пользуются мобильным приложением без оформления подписки. Чуть меньше половины (46%) клиентов для совершения поездок на самокатах используют подписку Ultra, но тем не менее это хорошая рабочая база клиентов.\n",
    " - Причиной, почему пользователи предпочитают не оформлять подписку, может быть стоимость подписки. Возможно, пользователи считают, что стоимость подписки слишком высока. \n",
    " - Некоторые пользователи не видят необходимости в платной подписке, так как они редко пользуются сервисом. Оформление подписки выгодно, если часто совершаешь поездки на самокате. \n",
    " - Пользователей может привлекать отсутствие абонентской платы за использование приложения, даже несмотря на возможные преимущества оформления платной подписки.\n",
    "\n",
    "- Количество пользователей сервиса аренды самокатов GoFast в 2021 году составляет около 1.5 тысяч человек. Сервис наиболее популярен среди молодых людей в возрасте от 22 до 28 лет. Cредний, медианный и наиболее распространённый возраст пользователей сервиса равен 25 годам. Реже всего сервисом пользуются лица моложе 15 и старше 35 лет. Самому юному пользователю сервиса — 12 лет, самому старшему — 43 года. \n",
    " - Аренда самокатов наиболее популярна среди молодежи. Самокаты могут быть удобными, стильными, высокоскоростными, что привлекать молодежь. \n",
    " - Самокат может быть небезопасным для детей и пожилых людей из-за их меньшей координации и устойчивости. \n",
    " - Взрослые люди могут предпочитать более традиционные виды транспорта, такие как личный автомобиль или общественный транспорт.\n",
    " \n",
    "- Количество поездок, совершённых пользователями сервиса аренды самокатов GoFast за 2021 год, составляет примерно 18 тысяч. Самое частое расстояние, которое пользователи сервиса аренды самокатов GoFast преодолели за одну поездку, находится в пределах от 2 км 500 м до 3 км 800 м. Среднее расстояние, которое пользователи проехали за одну сессию, составляет 3 км 71 м, медианное расстояние — 3 км 134 м. Некоторая часть пользователей использует самокаты для коротких поездок — до 1 км 500 м. Всех реже пользователи ездили на самокатах больше 5 км. Наименьшее расстояние, которое пользователи преодолели за одну поездку на самокате, равно 0.9 м, наибольшее расстояние — 7 км 211 м.\n",
    "\n",
    "- Набольшее количество поездок совершено пользователями сервиса аренды самокатов GoFast за 15-20 минут. Cредняя и медианная продолжительность поездок, совершённых пользователями сервиса GoFast, приблизительно равна 18 минутам. Всех реже клиенты сервиса ездили на самокате меньше 7 минут и больше 28 минут. Самая быстрая поездка заняла 30 секунд, самая долгая — 41 минуту. У поездок, длительность которых равна 30 секундам, расстояние составляет более 4 км, что неправдоподобно. Возможно, продолжительность этих поездок была зафиксирована с ошибкой, мобильное приложение неправильно обработало данные."
   ]
  },
  {
   "cell_type": "markdown",
   "metadata": {},
   "source": [
    "## Объединение данных"
   ]
  },
  {
   "cell_type": "markdown",
   "metadata": {},
   "source": [
    "### Объединение данных о пользователях, поездках и подписках в один датафрейм"
   ]
  },
  {
   "cell_type": "markdown",
   "metadata": {},
   "source": [
    "<div class=\"alert alert-block alert-danger\">✍\n",
    "    \n",
    "\n",
    "__Комментарий от ревьюера №1__\n",
    "\n",
    " Отсутствует проверка размерности:\n",
    "    \n",
    "* размеры датасетов до объединения\n",
    "* размер результирующего датафрейма (с учетом типа объединения)"
   ]
  },
  {
   "cell_type": "markdown",
   "metadata": {},
   "source": [
    "<div class=\"alert alert-info\"> \n",
    "    \n",
    "<b>Комментарий студента</b> \n",
    "    \n",
    "Проверим размер датафрейма `data_users_go` до объединения.\n",
    "\n",
    "</div>"
   ]
  },
  {
   "cell_type": "code",
   "execution_count": 37,
   "metadata": {},
   "outputs": [
    {
     "data": {
      "text/plain": [
       "(1534, 5)"
      ]
     },
     "execution_count": 37,
     "metadata": {},
     "output_type": "execute_result"
    }
   ],
   "source": [
    "data_users_go.shape\n",
    "# вывод количества строк и столбцов в датафрейме ‘data_users_go’"
   ]
  },
  {
   "cell_type": "markdown",
   "metadata": {},
   "source": [
    "<div class=\"alert alert-info\"> \n",
    "    \n",
    "<b>Комментарий студента</b> \n",
    "    \n",
    "Датафрейм с данными о пользователях имеет 1 тыс. 534 строки и 5 столбцов.\n",
    "    \n",
    "Проверим размер датафрейма `data_rides_go` до объединения.\n",
    "\n",
    "</div>"
   ]
  },
  {
   "cell_type": "code",
   "execution_count": 38,
   "metadata": {},
   "outputs": [
    {
     "data": {
      "text/plain": [
       "(18068, 5)"
      ]
     },
     "execution_count": 38,
     "metadata": {},
     "output_type": "execute_result"
    }
   ],
   "source": [
    "data_rides_go.shape\n",
    "# вывод количества строк и столбцов в датафрейме ‘data_rides_go’"
   ]
  },
  {
   "cell_type": "markdown",
   "metadata": {},
   "source": [
    "<div class=\"alert alert-info\"> \n",
    "    \n",
    "<b>Комментарий студента</b> \n",
    "    \n",
    "Датафрейм с данными о поездках имеет 18 тыс. 68 строк и 5 столбцов.\n",
    "    \n",
    "Проверим размер датафрейма `data_subscriptions_go` до объединения.\n",
    "\n",
    "</div>"
   ]
  },
  {
   "cell_type": "code",
   "execution_count": 39,
   "metadata": {},
   "outputs": [
    {
     "data": {
      "text/plain": [
       "(2, 4)"
      ]
     },
     "execution_count": 39,
     "metadata": {},
     "output_type": "execute_result"
    }
   ],
   "source": [
    "data_subscriptions_go.shape\n",
    "# вывод количества строк и столбцов в датафрейме ‘data_subscriptions_go’"
   ]
  },
  {
   "cell_type": "markdown",
   "metadata": {},
   "source": [
    "<div class=\"alert alert-info\"> \n",
    "    \n",
    "<b>Комментарий студента</b> \n",
    "    \n",
    "Датафрейм с данными о подписках имеет 2 строки и 4 столбца.\n",
    "\n",
    "</div>"
   ]
  },
  {
   "cell_type": "markdown",
   "metadata": {},
   "source": [
    "Объединим данные о пользователях сервиса аренды самокатов GoFast, поездках и подписках в один датафрейм."
   ]
  },
  {
   "cell_type": "code",
   "execution_count": 40,
   "metadata": {},
   "outputs": [
    {
     "data": {
      "text/html": [
       "<div>\n",
       "<style scoped>\n",
       "    .dataframe tbody tr th:only-of-type {\n",
       "        vertical-align: middle;\n",
       "    }\n",
       "\n",
       "    .dataframe tbody tr th {\n",
       "        vertical-align: top;\n",
       "    }\n",
       "\n",
       "    .dataframe thead th {\n",
       "        text-align: right;\n",
       "    }\n",
       "</style>\n",
       "<table border=\"1\" class=\"dataframe\">\n",
       "  <thead>\n",
       "    <tr style=\"text-align: right;\">\n",
       "      <th></th>\n",
       "      <th>user_id</th>\n",
       "      <th>name</th>\n",
       "      <th>age</th>\n",
       "      <th>city</th>\n",
       "      <th>subscription_type</th>\n",
       "      <th>distance</th>\n",
       "      <th>duration</th>\n",
       "      <th>date</th>\n",
       "      <th>month</th>\n",
       "      <th>minute_price</th>\n",
       "      <th>start_ride_price</th>\n",
       "      <th>subscription_fee</th>\n",
       "    </tr>\n",
       "  </thead>\n",
       "  <tbody>\n",
       "    <tr>\n",
       "      <th>0</th>\n",
       "      <td>1</td>\n",
       "      <td>Кира</td>\n",
       "      <td>22</td>\n",
       "      <td>Тюмень</td>\n",
       "      <td>ultra</td>\n",
       "      <td>4409.919140</td>\n",
       "      <td>25.599769</td>\n",
       "      <td>2021-01-01</td>\n",
       "      <td>1</td>\n",
       "      <td>6</td>\n",
       "      <td>0</td>\n",
       "      <td>199</td>\n",
       "    </tr>\n",
       "    <tr>\n",
       "      <th>1</th>\n",
       "      <td>1</td>\n",
       "      <td>Кира</td>\n",
       "      <td>22</td>\n",
       "      <td>Тюмень</td>\n",
       "      <td>ultra</td>\n",
       "      <td>2617.592153</td>\n",
       "      <td>15.816871</td>\n",
       "      <td>2021-01-18</td>\n",
       "      <td>1</td>\n",
       "      <td>6</td>\n",
       "      <td>0</td>\n",
       "      <td>199</td>\n",
       "    </tr>\n",
       "    <tr>\n",
       "      <th>2</th>\n",
       "      <td>1</td>\n",
       "      <td>Кира</td>\n",
       "      <td>22</td>\n",
       "      <td>Тюмень</td>\n",
       "      <td>ultra</td>\n",
       "      <td>754.159807</td>\n",
       "      <td>6.232113</td>\n",
       "      <td>2021-04-20</td>\n",
       "      <td>4</td>\n",
       "      <td>6</td>\n",
       "      <td>0</td>\n",
       "      <td>199</td>\n",
       "    </tr>\n",
       "    <tr>\n",
       "      <th>3</th>\n",
       "      <td>1</td>\n",
       "      <td>Кира</td>\n",
       "      <td>22</td>\n",
       "      <td>Тюмень</td>\n",
       "      <td>ultra</td>\n",
       "      <td>2694.783254</td>\n",
       "      <td>18.511000</td>\n",
       "      <td>2021-08-11</td>\n",
       "      <td>8</td>\n",
       "      <td>6</td>\n",
       "      <td>0</td>\n",
       "      <td>199</td>\n",
       "    </tr>\n",
       "    <tr>\n",
       "      <th>4</th>\n",
       "      <td>1</td>\n",
       "      <td>Кира</td>\n",
       "      <td>22</td>\n",
       "      <td>Тюмень</td>\n",
       "      <td>ultra</td>\n",
       "      <td>4028.687306</td>\n",
       "      <td>26.265803</td>\n",
       "      <td>2021-08-28</td>\n",
       "      <td>8</td>\n",
       "      <td>6</td>\n",
       "      <td>0</td>\n",
       "      <td>199</td>\n",
       "    </tr>\n",
       "  </tbody>\n",
       "</table>\n",
       "</div>"
      ],
      "text/plain": [
       "   user_id  name  age    city subscription_type     distance   duration  \\\n",
       "0        1  Кира   22  Тюмень             ultra  4409.919140  25.599769   \n",
       "1        1  Кира   22  Тюмень             ultra  2617.592153  15.816871   \n",
       "2        1  Кира   22  Тюмень             ultra   754.159807   6.232113   \n",
       "3        1  Кира   22  Тюмень             ultra  2694.783254  18.511000   \n",
       "4        1  Кира   22  Тюмень             ultra  4028.687306  26.265803   \n",
       "\n",
       "        date  month  minute_price  start_ride_price  subscription_fee  \n",
       "0 2021-01-01      1             6                 0               199  \n",
       "1 2021-01-18      1             6                 0               199  \n",
       "2 2021-04-20      4             6                 0               199  \n",
       "3 2021-08-11      8             6                 0               199  \n",
       "4 2021-08-28      8             6                 0               199  "
      ]
     },
     "execution_count": 40,
     "metadata": {},
     "output_type": "execute_result"
    }
   ],
   "source": [
    "data = data_users_go.merge(data_rides_go, on='user_id', how='outer').merge(data_subscriptions_go, on='subscription_type')\n",
    "# объединение ‘data_users_go’ и ‘data_rides_go’ по столбцу ‘user_id’\n",
    "# объединение результирующего датафрейма с ‘data_subscriptions_go’ по столбцу ‘subscription_type’\n",
    "# получение датафрейма ‘data’, содержащего данные из всех трёх исходных датафреймов\n",
    "data.head()\n",
    "# отображение первых 5 строк датафрейма ‘data’"
   ]
  },
  {
   "cell_type": "markdown",
   "metadata": {},
   "source": [
    "<div class=\"alert alert-info\"> \n",
    "    \n",
    "<b>Комментарий студента</b> \n",
    "    \n",
    "Проверим размер результирующего датафрейма `data`.\n",
    "\n",
    "</div>"
   ]
  },
  {
   "cell_type": "code",
   "execution_count": 41,
   "metadata": {},
   "outputs": [
    {
     "data": {
      "text/plain": [
       "(18068, 12)"
      ]
     },
     "execution_count": 41,
     "metadata": {},
     "output_type": "execute_result"
    }
   ],
   "source": [
    "data.shape\n",
    "# вывод количества строк и столбцов в датафрейме ‘data’"
   ]
  },
  {
   "cell_type": "markdown",
   "metadata": {},
   "source": [
    "<div class=\"alert alert-info\"> \n",
    "    \n",
    "<b>Комментарий студента</b> \n",
    "    \n",
    "Датафрейм с данными о пользователях, поездках и подписках имеет 18 тыс. 68 строк и 12 столбцов. Это позволяет сделать вывод, что данные собраны в один датафрейм корректно, учитывая тип объединения. Датафреймы `data_users_go` (1 тыс. 534 строки и 5 столбцов) и `data_rides_go` (18 тыс. 68 строк и 5 столбцов) были объединены по столбцу `'user_id'` (1 общий столбец) — получилось 18 тыс. 68 строк и 9 столбцов. Результирующий датафрейм (18 тыс. 68 строк и 9 столбцов) и `data_subscriptions_go` (2 строки и 4 столбца) были объединены по столбцу `'subscription_type'` (1 общий столбец) — получилось 18 тыс. 68 строк и 12 столбцов.\n",
    "\n",
    "</div>"
   ]
  },
  {
   "cell_type": "markdown",
   "metadata": {},
   "source": [
    "<div class=\"alert alert-block alert-success\">✔️\n",
    "    \n",
    "\n",
    "__Комментарий от ревьюера №2__\n",
    "\n",
    "Отлично. Проверка размерности датасетов проведена"
   ]
  },
  {
   "cell_type": "markdown",
   "metadata": {},
   "source": [
    "### Создание датафрейма c данными о пользователях без подписки"
   ]
  },
  {
   "cell_type": "markdown",
   "metadata": {},
   "source": [
    "Создадим датафрейм на основе датафрейма `data`c данными о пользователях без подписки."
   ]
  },
  {
   "cell_type": "code",
   "execution_count": 42,
   "metadata": {},
   "outputs": [
    {
     "data": {
      "text/html": [
       "<div>\n",
       "<style scoped>\n",
       "    .dataframe tbody tr th:only-of-type {\n",
       "        vertical-align: middle;\n",
       "    }\n",
       "\n",
       "    .dataframe tbody tr th {\n",
       "        vertical-align: top;\n",
       "    }\n",
       "\n",
       "    .dataframe thead th {\n",
       "        text-align: right;\n",
       "    }\n",
       "</style>\n",
       "<table border=\"1\" class=\"dataframe\">\n",
       "  <thead>\n",
       "    <tr style=\"text-align: right;\">\n",
       "      <th></th>\n",
       "      <th>user_id</th>\n",
       "      <th>name</th>\n",
       "      <th>age</th>\n",
       "      <th>city</th>\n",
       "      <th>subscription_type</th>\n",
       "      <th>distance</th>\n",
       "      <th>duration</th>\n",
       "      <th>date</th>\n",
       "      <th>month</th>\n",
       "      <th>minute_price</th>\n",
       "      <th>start_ride_price</th>\n",
       "      <th>subscription_fee</th>\n",
       "    </tr>\n",
       "  </thead>\n",
       "  <tbody>\n",
       "    <tr>\n",
       "      <th>6500</th>\n",
       "      <td>700</td>\n",
       "      <td>Айдар</td>\n",
       "      <td>22</td>\n",
       "      <td>Омск</td>\n",
       "      <td>free</td>\n",
       "      <td>2515.690719</td>\n",
       "      <td>14.944286</td>\n",
       "      <td>2021-01-02</td>\n",
       "      <td>1</td>\n",
       "      <td>8</td>\n",
       "      <td>50</td>\n",
       "      <td>0</td>\n",
       "    </tr>\n",
       "    <tr>\n",
       "      <th>6501</th>\n",
       "      <td>700</td>\n",
       "      <td>Айдар</td>\n",
       "      <td>22</td>\n",
       "      <td>Омск</td>\n",
       "      <td>free</td>\n",
       "      <td>846.932642</td>\n",
       "      <td>16.234663</td>\n",
       "      <td>2021-02-01</td>\n",
       "      <td>2</td>\n",
       "      <td>8</td>\n",
       "      <td>50</td>\n",
       "      <td>0</td>\n",
       "    </tr>\n",
       "    <tr>\n",
       "      <th>6502</th>\n",
       "      <td>700</td>\n",
       "      <td>Айдар</td>\n",
       "      <td>22</td>\n",
       "      <td>Омск</td>\n",
       "      <td>free</td>\n",
       "      <td>4004.434142</td>\n",
       "      <td>20.016628</td>\n",
       "      <td>2021-02-04</td>\n",
       "      <td>2</td>\n",
       "      <td>8</td>\n",
       "      <td>50</td>\n",
       "      <td>0</td>\n",
       "    </tr>\n",
       "    <tr>\n",
       "      <th>6503</th>\n",
       "      <td>700</td>\n",
       "      <td>Айдар</td>\n",
       "      <td>22</td>\n",
       "      <td>Омск</td>\n",
       "      <td>free</td>\n",
       "      <td>1205.911290</td>\n",
       "      <td>9.782872</td>\n",
       "      <td>2021-02-10</td>\n",
       "      <td>2</td>\n",
       "      <td>8</td>\n",
       "      <td>50</td>\n",
       "      <td>0</td>\n",
       "    </tr>\n",
       "    <tr>\n",
       "      <th>6504</th>\n",
       "      <td>700</td>\n",
       "      <td>Айдар</td>\n",
       "      <td>22</td>\n",
       "      <td>Омск</td>\n",
       "      <td>free</td>\n",
       "      <td>3047.379435</td>\n",
       "      <td>17.427673</td>\n",
       "      <td>2021-02-14</td>\n",
       "      <td>2</td>\n",
       "      <td>8</td>\n",
       "      <td>50</td>\n",
       "      <td>0</td>\n",
       "    </tr>\n",
       "  </tbody>\n",
       "</table>\n",
       "</div>"
      ],
      "text/plain": [
       "      user_id   name  age  city subscription_type     distance   duration  \\\n",
       "6500      700  Айдар   22  Омск              free  2515.690719  14.944286   \n",
       "6501      700  Айдар   22  Омск              free   846.932642  16.234663   \n",
       "6502      700  Айдар   22  Омск              free  4004.434142  20.016628   \n",
       "6503      700  Айдар   22  Омск              free  1205.911290   9.782872   \n",
       "6504      700  Айдар   22  Омск              free  3047.379435  17.427673   \n",
       "\n",
       "           date  month  minute_price  start_ride_price  subscription_fee  \n",
       "6500 2021-01-02      1             8                50                 0  \n",
       "6501 2021-02-01      2             8                50                 0  \n",
       "6502 2021-02-04      2             8                50                 0  \n",
       "6503 2021-02-10      2             8                50                 0  \n",
       "6504 2021-02-14      2             8                50                 0  "
      ]
     },
     "execution_count": 42,
     "metadata": {},
     "output_type": "execute_result"
    }
   ],
   "source": [
    "data_free_subscription = data.query('subscription_type == \"free\"')\n",
    "# извлечение из датафрейма ‘data’ тех строк, где значение в столбце ‘subscription_type’ равно ‘free’\n",
    "# сохранение полученной выборки в переменную ‘data_free_subscription’\n",
    "data_free_subscription.head()\n",
    "# отображение первых 5 строк датафрейма ‘data_free_subscription’"
   ]
  },
  {
   "cell_type": "markdown",
   "metadata": {},
   "source": [
    "<div class=\"alert alert-info\"> \n",
    "    \n",
    "<b>Комментарий студента</b> \n",
    "    \n",
    "Определим размер датафрейма `data_free_subscription`.\n",
    "\n",
    "</div>"
   ]
  },
  {
   "cell_type": "code",
   "execution_count": 43,
   "metadata": {},
   "outputs": [
    {
     "data": {
      "text/plain": [
       "(11568, 12)"
      ]
     },
     "execution_count": 43,
     "metadata": {},
     "output_type": "execute_result"
    }
   ],
   "source": [
    "data_free_subscription.shape\n",
    "# вывод количества строк и столбцов в датафрейме ‘data_free_subscription’"
   ]
  },
  {
   "cell_type": "markdown",
   "metadata": {},
   "source": [
    "<div class=\"alert alert-info\"> \n",
    "    \n",
    "<b>Комментарий студента</b> \n",
    "    \n",
    "Датафрейм с данными о пользователях без подписки имеет 11 тыс. 568 строк и 12 столбцов.\n",
    "\n",
    "</div>"
   ]
  },
  {
   "cell_type": "markdown",
   "metadata": {},
   "source": [
    "### Создание датафрейма c данными о пользователях с подпиской"
   ]
  },
  {
   "cell_type": "markdown",
   "metadata": {},
   "source": [
    "Создадим датафрейм на основе датафрейма `data` с данными о пользователях с подпиской."
   ]
  },
  {
   "cell_type": "code",
   "execution_count": 44,
   "metadata": {},
   "outputs": [
    {
     "data": {
      "text/html": [
       "<div>\n",
       "<style scoped>\n",
       "    .dataframe tbody tr th:only-of-type {\n",
       "        vertical-align: middle;\n",
       "    }\n",
       "\n",
       "    .dataframe tbody tr th {\n",
       "        vertical-align: top;\n",
       "    }\n",
       "\n",
       "    .dataframe thead th {\n",
       "        text-align: right;\n",
       "    }\n",
       "</style>\n",
       "<table border=\"1\" class=\"dataframe\">\n",
       "  <thead>\n",
       "    <tr style=\"text-align: right;\">\n",
       "      <th></th>\n",
       "      <th>user_id</th>\n",
       "      <th>name</th>\n",
       "      <th>age</th>\n",
       "      <th>city</th>\n",
       "      <th>subscription_type</th>\n",
       "      <th>distance</th>\n",
       "      <th>duration</th>\n",
       "      <th>date</th>\n",
       "      <th>month</th>\n",
       "      <th>minute_price</th>\n",
       "      <th>start_ride_price</th>\n",
       "      <th>subscription_fee</th>\n",
       "    </tr>\n",
       "  </thead>\n",
       "  <tbody>\n",
       "    <tr>\n",
       "      <th>0</th>\n",
       "      <td>1</td>\n",
       "      <td>Кира</td>\n",
       "      <td>22</td>\n",
       "      <td>Тюмень</td>\n",
       "      <td>ultra</td>\n",
       "      <td>4409.919140</td>\n",
       "      <td>25.599769</td>\n",
       "      <td>2021-01-01</td>\n",
       "      <td>1</td>\n",
       "      <td>6</td>\n",
       "      <td>0</td>\n",
       "      <td>199</td>\n",
       "    </tr>\n",
       "    <tr>\n",
       "      <th>1</th>\n",
       "      <td>1</td>\n",
       "      <td>Кира</td>\n",
       "      <td>22</td>\n",
       "      <td>Тюмень</td>\n",
       "      <td>ultra</td>\n",
       "      <td>2617.592153</td>\n",
       "      <td>15.816871</td>\n",
       "      <td>2021-01-18</td>\n",
       "      <td>1</td>\n",
       "      <td>6</td>\n",
       "      <td>0</td>\n",
       "      <td>199</td>\n",
       "    </tr>\n",
       "    <tr>\n",
       "      <th>2</th>\n",
       "      <td>1</td>\n",
       "      <td>Кира</td>\n",
       "      <td>22</td>\n",
       "      <td>Тюмень</td>\n",
       "      <td>ultra</td>\n",
       "      <td>754.159807</td>\n",
       "      <td>6.232113</td>\n",
       "      <td>2021-04-20</td>\n",
       "      <td>4</td>\n",
       "      <td>6</td>\n",
       "      <td>0</td>\n",
       "      <td>199</td>\n",
       "    </tr>\n",
       "    <tr>\n",
       "      <th>3</th>\n",
       "      <td>1</td>\n",
       "      <td>Кира</td>\n",
       "      <td>22</td>\n",
       "      <td>Тюмень</td>\n",
       "      <td>ultra</td>\n",
       "      <td>2694.783254</td>\n",
       "      <td>18.511000</td>\n",
       "      <td>2021-08-11</td>\n",
       "      <td>8</td>\n",
       "      <td>6</td>\n",
       "      <td>0</td>\n",
       "      <td>199</td>\n",
       "    </tr>\n",
       "    <tr>\n",
       "      <th>4</th>\n",
       "      <td>1</td>\n",
       "      <td>Кира</td>\n",
       "      <td>22</td>\n",
       "      <td>Тюмень</td>\n",
       "      <td>ultra</td>\n",
       "      <td>4028.687306</td>\n",
       "      <td>26.265803</td>\n",
       "      <td>2021-08-28</td>\n",
       "      <td>8</td>\n",
       "      <td>6</td>\n",
       "      <td>0</td>\n",
       "      <td>199</td>\n",
       "    </tr>\n",
       "  </tbody>\n",
       "</table>\n",
       "</div>"
      ],
      "text/plain": [
       "   user_id  name  age    city subscription_type     distance   duration  \\\n",
       "0        1  Кира   22  Тюмень             ultra  4409.919140  25.599769   \n",
       "1        1  Кира   22  Тюмень             ultra  2617.592153  15.816871   \n",
       "2        1  Кира   22  Тюмень             ultra   754.159807   6.232113   \n",
       "3        1  Кира   22  Тюмень             ultra  2694.783254  18.511000   \n",
       "4        1  Кира   22  Тюмень             ultra  4028.687306  26.265803   \n",
       "\n",
       "        date  month  minute_price  start_ride_price  subscription_fee  \n",
       "0 2021-01-01      1             6                 0               199  \n",
       "1 2021-01-18      1             6                 0               199  \n",
       "2 2021-04-20      4             6                 0               199  \n",
       "3 2021-08-11      8             6                 0               199  \n",
       "4 2021-08-28      8             6                 0               199  "
      ]
     },
     "execution_count": 44,
     "metadata": {},
     "output_type": "execute_result"
    }
   ],
   "source": [
    "data_ultra_subscription = data.query('subscription_type == \"ultra\"')\n",
    "# извлечение из датафрейма ‘data’ тех строк, где значение в столбце ‘subscription_type’ равно ‘ultra’\n",
    "# сохранение полученной выборки в переменную ‘data_ultra_subscription’\n",
    "data_ultra_subscription.head()\n",
    "# отображение первых 5 строк датафрейма ‘data_ultra_subscription’"
   ]
  },
  {
   "cell_type": "markdown",
   "metadata": {},
   "source": [
    "<div class=\"alert alert-info\"> \n",
    "    \n",
    "<b>Комментарий студента</b> \n",
    "    \n",
    "Определим размер датафрейма `data_ultra_subscription`.\n",
    "\n",
    "</div>"
   ]
  },
  {
   "cell_type": "code",
   "execution_count": 45,
   "metadata": {},
   "outputs": [
    {
     "data": {
      "text/plain": [
       "(6500, 12)"
      ]
     },
     "execution_count": 45,
     "metadata": {},
     "output_type": "execute_result"
    }
   ],
   "source": [
    "data_ultra_subscription.shape\n",
    "# вывод количества строк и столбцов в датафрейме ‘data_ultra_subscription’"
   ]
  },
  {
   "cell_type": "markdown",
   "metadata": {},
   "source": [
    "<div class=\"alert alert-info\"> \n",
    "    \n",
    "<b>Комментарий студента</b> \n",
    "    \n",
    "Датафрейм с данными о пользователях с подпиской имеет 6 тыс. 500 строк и 12 столбцов.\n",
    "\n",
    "</div>"
   ]
  },
  {
   "cell_type": "markdown",
   "metadata": {},
   "source": [
    "<div class=\"alert alert-block alert-success\">✔️\n",
    "    \n",
    "\n",
    "__Комментарий от ревьюера №1__\n",
    "\n",
    "Отлично. Датасеты выведены корректно"
   ]
  },
  {
   "cell_type": "markdown",
   "metadata": {},
   "source": [
    "### Расстояние, которое пользователи без подписки преодолели за одну поездку"
   ]
  },
  {
   "cell_type": "markdown",
   "metadata": {},
   "source": [
    "Выведем характеристики распределения расстояний, которые пользователи сервиса GoFast без подписки преодолели за одну поездку, и построим диаграмму размаха."
   ]
  },
  {
   "cell_type": "code",
   "execution_count": 46,
   "metadata": {},
   "outputs": [
    {
     "data": {
      "text/html": [
       "<div>\n",
       "<style scoped>\n",
       "    .dataframe tbody tr th:only-of-type {\n",
       "        vertical-align: middle;\n",
       "    }\n",
       "\n",
       "    .dataframe tbody tr th {\n",
       "        vertical-align: top;\n",
       "    }\n",
       "\n",
       "    .dataframe thead th {\n",
       "        text-align: right;\n",
       "    }\n",
       "</style>\n",
       "<table border=\"1\" class=\"dataframe\">\n",
       "  <thead>\n",
       "    <tr style=\"text-align: right;\">\n",
       "      <th></th>\n",
       "      <th>distance</th>\n",
       "    </tr>\n",
       "  </thead>\n",
       "  <tbody>\n",
       "    <tr>\n",
       "      <th>count</th>\n",
       "      <td>11568.0</td>\n",
       "    </tr>\n",
       "    <tr>\n",
       "      <th>mean</th>\n",
       "      <td>3045.5</td>\n",
       "    </tr>\n",
       "    <tr>\n",
       "      <th>std</th>\n",
       "      <td>1246.2</td>\n",
       "    </tr>\n",
       "    <tr>\n",
       "      <th>min</th>\n",
       "      <td>0.9</td>\n",
       "    </tr>\n",
       "    <tr>\n",
       "      <th>25%</th>\n",
       "      <td>2366.6</td>\n",
       "    </tr>\n",
       "    <tr>\n",
       "      <th>50%</th>\n",
       "      <td>3114.6</td>\n",
       "    </tr>\n",
       "    <tr>\n",
       "      <th>75%</th>\n",
       "      <td>3905.7</td>\n",
       "    </tr>\n",
       "    <tr>\n",
       "      <th>max</th>\n",
       "      <td>7211.0</td>\n",
       "    </tr>\n",
       "  </tbody>\n",
       "</table>\n",
       "</div>"
      ],
      "text/plain": [
       "       distance\n",
       "count   11568.0\n",
       "mean     3045.5\n",
       "std      1246.2\n",
       "min         0.9\n",
       "25%      2366.6\n",
       "50%      3114.6\n",
       "75%      3905.7\n",
       "max      7211.0"
      ]
     },
     "execution_count": 46,
     "metadata": {},
     "output_type": "execute_result"
    },
    {
     "data": {
      "image/png": "[encoded data removed]",
      "text/plain": [
       "<Figure size 1224x144 with 1 Axes>"
      ]
     },
     "metadata": {
      "needs_background": "light"
     },
     "output_type": "display_data"
    }
   ],
   "source": [
    "data_free_subscription.boxplot('distance', vert = False, figsize=(17, 2))\n",
    "# построение диаграммы размаха для значений столбца ‘distance’\n",
    "plt.xlim(0, 8000)\n",
    "# установка границ горизонтальной оси\n",
    "plt.title('Размах значений расстояния, которое пользователи без подписки преодолели за одну поездку (м)', fontsize=12)\n",
    "# установка заголовка для графика\n",
    "plt.xlabel('Расстояние в метрах', fontsize=10)\n",
    "# установка подписи для горизонтальной оси графика\n",
    "round(data_free_subscription['distance'].describe().to_frame(), 1)\n",
    "# вывод статистической информации о значениях столбца ‘distance’"
   ]
  },
  {
   "cell_type": "markdown",
   "metadata": {},
   "source": [
    "Количество поездок, совершённых пользователями сервиса аренды самокатов GoFast без подписки за 2021 год, составляет 11 тыс. 568.\n",
    "    \n",
    "Cреднее расстояние, которое пользователи без подписки преодолели за одну поездку, равно 3 км 46 м.\n",
    "\n",
    "Стандартное отклонение, описывающее разброс значений расстояния, которое пользователи без подписки преодолели за одну поездку, относительно среднего, равно 1 км 246 м.\n",
    "\n",
    "Первый квартиль, левее которого лежит 25% данных, описывающих расстояние, которое пользователи без подписки проехали за одну сессию, равен 2 км 367 м.\n",
    "\n",
    "Половина всех значений расстояния, которое пользователи без подписки преодолели за одну поездку, меньше 3 км 115 м, другая половина — больше.\n",
    "\n",
    "Третий квартиль, правее которого лежит 25% данных, описывающих расстояние, которое пользователи без подписки проехали за одну сессию, равен 3 км 906 м.\n",
    "\n",
    "Нижний «ус» диаграммы размаха доходит примерно до 50 м, верхний «ус» — 6 км 200 м. Это приблизительные границы нормального размаха. То, что выходит за их пределы, считается выбросами. Выбросы включают в себя наименьшее расстояние — 0.9 м и наибольшее расстояние — 7 км 211 м.\n",
    "    \n",
    "Построим гистограмму распределения расстояний, которые пользователи сервиса GoFast без подписки преодолели за одну поездку."
   ]
  },
  {
   "cell_type": "code",
   "execution_count": 47,
   "metadata": {},
   "outputs": [
    {
     "data": {
      "image/png": "[encoded data removed]",
      "text/plain": [
       "<Figure size 432x288 with 1 Axes>"
      ]
     },
     "metadata": {
      "needs_background": "light"
     },
     "output_type": "display_data"
    }
   ],
   "source": [
    "data_free_subscription['distance'].hist(bins=25, ec='white', legend=False)\n",
    "# построение гистограммы для значений в столбце ‘distance’ в датафрейме ‘data_free_subscription’\n",
    "plt.title('Распределение значений расстояния, кот. пользователи без подписки преодолели за 1 поездку (м)', \n",
    "          fontsize=12)\n",
    "# установка заголовка для графика\n",
    "plt.xlabel('Расстояние в метрах', fontsize=10)\n",
    "# установка подписи для горизонтальной оси графика\n",
    "plt.ylabel('Число поездок', fontsize=10);\n",
    "# установка подписи для вертикальной оси графика"
   ]
  },
  {
   "cell_type": "markdown",
   "metadata": {},
   "source": [
    "Самое частое расстояние, которое клиенты сервиса аренды самокатов GoFast преодолели за одну поездку, воспользовавшись мобильным приложением без подписки, находится в пределах от 2 км 350 м до 3 км 700 м. Среднее расстояние, которое пользователи сервиса GoFast без подписки проехали за одну сессию, составляет 3 км 46 м, медианное расстояние — 3 км 115 м. Всех реже пользователи сервиса GoFast без подписки ездили на самокате больше 5 км 700 м."
   ]
  },
  {
   "cell_type": "markdown",
   "metadata": {},
   "source": [
    "### Расстояние, которое пользователи с подпиской преодолели за одну поездку"
   ]
  },
  {
   "cell_type": "markdown",
   "metadata": {},
   "source": [
    "Выведем характеристики распределения расстояний, которые пользователи сервиса GoFast с подпиской преодолели за одну поездку, и построим диаграмму размаха."
   ]
  },
  {
   "cell_type": "code",
   "execution_count": 48,
   "metadata": {},
   "outputs": [
    {
     "data": {
      "text/html": [
       "<div>\n",
       "<style scoped>\n",
       "    .dataframe tbody tr th:only-of-type {\n",
       "        vertical-align: middle;\n",
       "    }\n",
       "\n",
       "    .dataframe tbody tr th {\n",
       "        vertical-align: top;\n",
       "    }\n",
       "\n",
       "    .dataframe thead th {\n",
       "        text-align: right;\n",
       "    }\n",
       "</style>\n",
       "<table border=\"1\" class=\"dataframe\">\n",
       "  <thead>\n",
       "    <tr style=\"text-align: right;\">\n",
       "      <th></th>\n",
       "      <th>distance</th>\n",
       "    </tr>\n",
       "  </thead>\n",
       "  <tbody>\n",
       "    <tr>\n",
       "      <th>count</th>\n",
       "      <td>6500.0</td>\n",
       "    </tr>\n",
       "    <tr>\n",
       "      <th>mean</th>\n",
       "      <td>3115.4</td>\n",
       "    </tr>\n",
       "    <tr>\n",
       "      <th>std</th>\n",
       "      <td>836.9</td>\n",
       "    </tr>\n",
       "    <tr>\n",
       "      <th>min</th>\n",
       "      <td>244.2</td>\n",
       "    </tr>\n",
       "    <tr>\n",
       "      <th>25%</th>\n",
       "      <td>2785.4</td>\n",
       "    </tr>\n",
       "    <tr>\n",
       "      <th>50%</th>\n",
       "      <td>3148.6</td>\n",
       "    </tr>\n",
       "    <tr>\n",
       "      <th>75%</th>\n",
       "      <td>3560.6</td>\n",
       "    </tr>\n",
       "    <tr>\n",
       "      <th>max</th>\n",
       "      <td>5699.8</td>\n",
       "    </tr>\n",
       "  </tbody>\n",
       "</table>\n",
       "</div>"
      ],
      "text/plain": [
       "       distance\n",
       "count    6500.0\n",
       "mean     3115.4\n",
       "std       836.9\n",
       "min       244.2\n",
       "25%      2785.4\n",
       "50%      3148.6\n",
       "75%      3560.6\n",
       "max      5699.8"
      ]
     },
     "execution_count": 48,
     "metadata": {},
     "output_type": "execute_result"
    },
    {
     "data": {
      "image/png": "[encoded data removed]",
      "text/plain": [
       "<Figure size 1224x144 with 1 Axes>"
      ]
     },
     "metadata": {
      "needs_background": "light"
     },
     "output_type": "display_data"
    }
   ],
   "source": [
    "data_ultra_subscription.boxplot('distance', vert = False, figsize=(17, 2))\n",
    "# построение диаграммы размаха для значений столбца ‘distance’\n",
    "plt.xlim(0, 6000)\n",
    "# установка границ горизонтальной оси\n",
    "plt.title('Размах значений расстояния, которое пользователи с подпиской преодолели за одну поездку (м)', fontsize=12)\n",
    "# установка заголовка для графика\n",
    "plt.xlabel('Расстояние в метрах', fontsize=10)\n",
    "# установка подписи для горизонтальной оси графика\n",
    "round(data_ultra_subscription['distance'].describe().to_frame(), 1)\n",
    "# вывод статистической информации о значениях столбца ‘distance’"
   ]
  },
  {
   "cell_type": "markdown",
   "metadata": {},
   "source": [
    "Количество поездок, совершённых пользователями сервиса аренды самокатов GoFast с подпиской за 2021 год, составляет 6.5 тыс.\n",
    "    \n",
    "Cреднее расстояние, которое пользователи с подпиской преодолели за одну поездку, равно 3 км 115 м.\n",
    "\n",
    "Стандартное отклонение, описывающее разброс значений расстояния, которое пользователи с подпиской преодолели за одну поездку, относительно среднего, равно 837 м.\n",
    "\n",
    "Первый квартиль, левее которого лежит 25% данных, описывающих расстояние, которое пользователи с подпиской проехали за одну сессию, равен 2 км 785 м.\n",
    "\n",
    "Половина всех значений расстояния, которое пользователи с подпиской преодолели за одну поездку, меньше 3 км 149 м, другая половина — больше.\n",
    "\n",
    "Третий квартиль, правее которого лежит 25% данных, описывающих расстояние, которое пользователи с подпиской проехали за одну сессию, равен 3 км 561 м.\n",
    "\n",
    "Нижний «ус» диаграммы размаха доходит примерно до 1 км 600 м, верхний «ус» — 4 км 700 м. Это приблизительные границы нормального размаха. То, что выходит за их пределы, считается выбросами. Выбросы включают в себя наименьшее расстояние — 244 м и наибольшее расстояние — 5 км 700 м.\n",
    "\n",
    "Построим гистограмму распределения расстояний, которые пользователи сервиса GoFast с подпиской преодолели за одну поездку."
   ]
  },
  {
   "cell_type": "code",
   "execution_count": 49,
   "metadata": {},
   "outputs": [
    {
     "data": {
      "image/png": "[encoded data removed]",
      "text/plain": [
       "<Figure size 432x288 with 1 Axes>"
      ]
     },
     "metadata": {
      "needs_background": "light"
     },
     "output_type": "display_data"
    }
   ],
   "source": [
    "data_ultra_subscription['distance'].hist(bins=25, ec='white', legend=False)\n",
    "# построение гистограммы для значений в столбце ‘distance’ в датафрейме ‘data_ultra_subscription’\n",
    "plt.xlim(0, 6000)\n",
    "# установка границ горизонтальной оси\n",
    "plt.title('Распределение значений расстояния, кот. пользователи с подпиской преодолели за 1 поездку (м)', fontsize=12)\n",
    "# установка заголовка для графика\n",
    "plt.xlabel('Расстояние в метрах', fontsize=10)\n",
    "# установка подписи для горизонтальной оси графика\n",
    "plt.ylabel('Число поездок', fontsize=10);\n",
    "# установка подписи для вертикальной оси графика"
   ]
  },
  {
   "cell_type": "markdown",
   "metadata": {},
   "source": [
    "Самое частое расстояние, которое пользователи сервиса аренды самокатов GoFast с подпиской преодолели за одну поездку, находится в пределах от 2 км 800 м до 3 км 250 м. Среднее расстояние, которое пользователи с подпиской проехали за одну сессию, составляет 3 км 115 м, медианное расстояние — 3 км 149 м. Всех реже пользователи с подпиской ездили на самокате меньше 2 км 300 м и больше 4 км 600 м."
   ]
  },
  {
   "cell_type": "markdown",
   "metadata": {},
   "source": [
    "Пользователи сервиса GoFast без подписки совершили почти в два раза больше поездок на самокате (11.6 тыс. поездок), чем подписчики (6.5 тыс. поездок).\n",
    "\n",
    "В среднем пользователи с подпиской проехали за один раз на 69 м больше, чем пользователи, не имеющие подписку. Медианное расстояние на 34 м больше у пользователей с подпиской, чем у пользователей без неё.\n",
    "\n",
    "Разброс значений расстояния относительно среднего меньше у подписчиков (стандартное отклонение на 409 м меньше), чем у пользователей без подписки. \n",
    "\n",
    "Границы размаха расстояния, которое пользователи без подписки проехали за одну сессию, находятся в пределах от 50 м до 6 км 200 м. Границы размаха расстояния, которое подписчики преодолели за одну поездку, находятся в пределах от 1 км 600 м до 4 км 700 м.\n",
    "    \n",
    "Наименьшее расстояние, которое преодолели за одну поездку пользователи, не имеющие подписку, равно 0.9 м, наибольшее расстояние — 7 км 211 м. Минимальное расстояние у подписчиков — 244 м, а максимальное — 5 км 700 м.\n",
    "\n",
    "Для пользователей без подписки в большей степени характерны поездки на короткие расстояния — до 1 км. Также в целом максимальная дальность поездки выше у пользователей без подписки, чем у пользователей с подпиской."
   ]
  },
  {
   "cell_type": "markdown",
   "metadata": {},
   "source": [
    "<div class=\"alert alert-block alert-success\">✔️\n",
    "    \n",
    "\n",
    "__Комментарий от ревьюера №1__\n",
    "\n",
    "У пользователей без подписки значительно больше коротких поездок - до 1 км и в целом максимальная дальность поездки выше, чем у платных пользователей."
   ]
  },
  {
   "cell_type": "markdown",
   "metadata": {},
   "source": [
    "### Продолжительность поездок, совершённых пользователями без подписки"
   ]
  },
  {
   "cell_type": "markdown",
   "metadata": {},
   "source": [
    "Выведем характеристики распределения продолжительностей поездок, совершённых пользователями сервиса аренды самокатов GoFast без подписки, и построим диаграмму размаха."
   ]
  },
  {
   "cell_type": "code",
   "execution_count": 50,
   "metadata": {},
   "outputs": [
    {
     "data": {
      "text/html": [
       "<div>\n",
       "<style scoped>\n",
       "    .dataframe tbody tr th:only-of-type {\n",
       "        vertical-align: middle;\n",
       "    }\n",
       "\n",
       "    .dataframe tbody tr th {\n",
       "        vertical-align: top;\n",
       "    }\n",
       "\n",
       "    .dataframe thead th {\n",
       "        text-align: right;\n",
       "    }\n",
       "</style>\n",
       "<table border=\"1\" class=\"dataframe\">\n",
       "  <thead>\n",
       "    <tr style=\"text-align: right;\">\n",
       "      <th></th>\n",
       "      <th>duration</th>\n",
       "    </tr>\n",
       "  </thead>\n",
       "  <tbody>\n",
       "    <tr>\n",
       "      <th>count</th>\n",
       "      <td>11568.0</td>\n",
       "    </tr>\n",
       "    <tr>\n",
       "      <th>mean</th>\n",
       "      <td>17.4</td>\n",
       "    </tr>\n",
       "    <tr>\n",
       "      <th>std</th>\n",
       "      <td>6.3</td>\n",
       "    </tr>\n",
       "    <tr>\n",
       "      <th>min</th>\n",
       "      <td>0.5</td>\n",
       "    </tr>\n",
       "    <tr>\n",
       "      <th>25%</th>\n",
       "      <td>13.0</td>\n",
       "    </tr>\n",
       "    <tr>\n",
       "      <th>50%</th>\n",
       "      <td>17.3</td>\n",
       "    </tr>\n",
       "    <tr>\n",
       "      <th>75%</th>\n",
       "      <td>21.6</td>\n",
       "    </tr>\n",
       "    <tr>\n",
       "      <th>max</th>\n",
       "      <td>34.9</td>\n",
       "    </tr>\n",
       "  </tbody>\n",
       "</table>\n",
       "</div>"
      ],
      "text/plain": [
       "       duration\n",
       "count   11568.0\n",
       "mean       17.4\n",
       "std         6.3\n",
       "min         0.5\n",
       "25%        13.0\n",
       "50%        17.3\n",
       "75%        21.6\n",
       "max        34.9"
      ]
     },
     "execution_count": 50,
     "metadata": {},
     "output_type": "execute_result"
    },
    {
     "data": {
      "image/png": "[encoded data removed]",
      "text/plain": [
       "<Figure size 1224x144 with 1 Axes>"
      ]
     },
     "metadata": {
      "needs_background": "light"
     },
     "output_type": "display_data"
    }
   ],
   "source": [
    "data_free_subscription.boxplot('duration', vert = False, figsize=(17, 2))\n",
    "# построение диаграммы размаха для значений столбца ‘duration’\n",
    "plt.title('Размах значений продолжительности поездок пользователей без подписки (в минутах)', fontsize=12)\n",
    "# установка заголовка для графика\n",
    "plt.xlabel('Время в минутах', fontsize=10)\n",
    "# установка подписи для горизонтальной оси графика\n",
    "round(data_free_subscription['duration'].describe().to_frame(), 1)\n",
    "# вывод статистической информации о значениях столбца ‘duration’"
   ]
  },
  {
   "cell_type": "markdown",
   "metadata": {},
   "source": [
    "Количество поездок, совершённых пользователями сервиса аренды самокатов GoFast без подписки за 2021 год, составляет 11 тыс. 568.\n",
    "\n",
    "Cредняя продолжительность поездок, совершённых пользователями без подписки, равна 17 мин.\n",
    "\n",
    "Стандартное отклонение, описывающее разброс значений продолжительности поездок, совершённых пользователями без подписки, относительно среднего, равно 6.3 мин.\n",
    "\n",
    "Первый квартиль, левее которого лежит 25% данных, описывающих продолжительность поездок, совершённых пользователями без подписки, равен 13 мин.\n",
    "\n",
    "Половина всех значений продолжительности поездок, совершённых пользователями без подписки, меньше 17 мин., другая половина — больше.\n",
    "\n",
    "Третий квартиль, правее которого лежит 25% данных, описывающих продолжительность поездок, совершённых пользователями без подписки, равен 22 мин.\n",
    "\n",
    "Нижний «ус» диаграммы размаха доходит примерно до 30 сек., что является наименьшей продолжительностью поездок пользователей без подписки. Верхний «ус» доходит до 34 мин — это приблизительная граница нормального размаха. То, что выходит за её пределы, считается выбросом. Выбросы включают в себя самую долгую поездку — 35 мин.\n",
    "\n",
    "Построим гистограмму распределения продолжительностей поездок, совершённых пользователями сервиса GoFast без подписки."
   ]
  },
  {
   "cell_type": "code",
   "execution_count": 51,
   "metadata": {},
   "outputs": [
    {
     "data": {
      "image/png": "[encoded data removed]",
      "text/plain": [
       "<Figure size 432x288 with 1 Axes>"
      ]
     },
     "metadata": {
      "needs_background": "light"
     },
     "output_type": "display_data"
    }
   ],
   "source": [
    "data_free_subscription['duration'].hist(bins=25, ec='white', legend=False)\n",
    "# построение гистограммы для значений в столбце ‘duration’ в датафрейме ‘data_free_subscription’\n",
    "plt.title('Распределение значений продолжительности поездок пользователей без подписки (мин.)', fontsize=12)\n",
    "# установка заголовка для графика\n",
    "plt.xlabel('Время в минутах', fontsize=10)\n",
    "# установка подписи для горизонтальной оси графика\n",
    "plt.ylabel('Число поездок', fontsize=10);\n",
    "# установка подписи для вертикальной оси графика"
   ]
  },
  {
   "cell_type": "markdown",
   "metadata": {},
   "source": [
    "Набольшее количество поездок совершено пользователями сервиса аренды самокатов GoFast без подписки за 11-21 мин. Cредняя и медианная продолжительность поездок, совершённых пользователями без подписки, приблизительно равна 17 мин. Всех реже клиенты сервиса GoFast без подписки ездили на самокате меньше 7 минут и больше 28 минут."
   ]
  },
  {
   "cell_type": "markdown",
   "metadata": {},
   "source": [
    "### Продолжительность поездок, совершённых пользователями с подпиской"
   ]
  },
  {
   "cell_type": "markdown",
   "metadata": {},
   "source": [
    "Выведем характеристики распределения продолжительностей поездок, совершённых пользователями сервиса аренды самокатов GoFast с подпиской, и построим диаграмму размаха."
   ]
  },
  {
   "cell_type": "code",
   "execution_count": 52,
   "metadata": {},
   "outputs": [
    {
     "data": {
      "text/html": [
       "<div>\n",
       "<style scoped>\n",
       "    .dataframe tbody tr th:only-of-type {\n",
       "        vertical-align: middle;\n",
       "    }\n",
       "\n",
       "    .dataframe tbody tr th {\n",
       "        vertical-align: top;\n",
       "    }\n",
       "\n",
       "    .dataframe thead th {\n",
       "        text-align: right;\n",
       "    }\n",
       "</style>\n",
       "<table border=\"1\" class=\"dataframe\">\n",
       "  <thead>\n",
       "    <tr style=\"text-align: right;\">\n",
       "      <th></th>\n",
       "      <th>duration</th>\n",
       "    </tr>\n",
       "  </thead>\n",
       "  <tbody>\n",
       "    <tr>\n",
       "      <th>count</th>\n",
       "      <td>6500.0</td>\n",
       "    </tr>\n",
       "    <tr>\n",
       "      <th>mean</th>\n",
       "      <td>18.5</td>\n",
       "    </tr>\n",
       "    <tr>\n",
       "      <th>std</th>\n",
       "      <td>5.6</td>\n",
       "    </tr>\n",
       "    <tr>\n",
       "      <th>min</th>\n",
       "      <td>3.8</td>\n",
       "    </tr>\n",
       "    <tr>\n",
       "      <th>25%</th>\n",
       "      <td>14.5</td>\n",
       "    </tr>\n",
       "    <tr>\n",
       "      <th>50%</th>\n",
       "      <td>18.2</td>\n",
       "    </tr>\n",
       "    <tr>\n",
       "      <th>75%</th>\n",
       "      <td>21.9</td>\n",
       "    </tr>\n",
       "    <tr>\n",
       "      <th>max</th>\n",
       "      <td>40.8</td>\n",
       "    </tr>\n",
       "  </tbody>\n",
       "</table>\n",
       "</div>"
      ],
      "text/plain": [
       "       duration\n",
       "count    6500.0\n",
       "mean       18.5\n",
       "std         5.6\n",
       "min         3.8\n",
       "25%        14.5\n",
       "50%        18.2\n",
       "75%        21.9\n",
       "max        40.8"
      ]
     },
     "execution_count": 52,
     "metadata": {},
     "output_type": "execute_result"
    },
    {
     "data": {
      "image/png": "[encoded data removed]",
      "text/plain": [
       "<Figure size 1224x144 with 1 Axes>"
      ]
     },
     "metadata": {
      "needs_background": "light"
     },
     "output_type": "display_data"
    }
   ],
   "source": [
    "data_ultra_subscription.boxplot('duration', vert = False, figsize=(17, 2))\n",
    "# построение диаграммы размаха для значений столбца ‘duration’\n",
    "plt.xlim(0, 45)\n",
    "# установка границ горизонтальной оси\n",
    "plt.title('Размах значений продолжительности поездок пользователей с подпиской (в минутах)', fontsize=12)\n",
    "# установка заголовка для графика\n",
    "plt.xlabel('Время в минутах', fontsize=10)\n",
    "# установка подписи для горизонтальной оси графика\n",
    "round(data_ultra_subscription['duration'].describe().to_frame(), 1)\n",
    "# вывод статистической информации о значениях столбца ‘duration’"
   ]
  },
  {
   "cell_type": "markdown",
   "metadata": {},
   "source": [
    "Количество поездок, совершённых пользователями сервиса аренды самокатов GoFast с подпиской за 2021 год, составляет 6.5 тыс.\n",
    "\n",
    "Cредняя продолжительность поездок, совершённых пользователями с подпиской, равна 19 мин.\n",
    "\n",
    "Стандартное отклонение, описывающее разброс значений продолжительности поездок, совершённых пользователями с подпиской, относительно среднего, равно 5.6 мин.\n",
    "\n",
    "Первый квартиль, левее которого лежит 25% данных, описывающих продолжительность поездок, совершённых пользователями с подпиской, равен 15 мин.\n",
    "\n",
    "Половина всех значений продолжительности поездок, совершённых подписчиками, меньше 18 мин., другая половина — больше.\n",
    "\n",
    "Третий квартиль, правее которого лежит 25% данных, описывающих продолжительность поездок, совершённых пользователями с подпиской, равен 22 мин.\n",
    "\n",
    "Нижний «ус» диаграммы размаха доходит примерно до 4 мин., что является наименьшей продолжительностью поездок пользователей с подпиской. Верхний «ус» доходит до 33 мин — это приблизительная граница нормального размаха. То, что выходит за её пределы, считается выбросом. Выбросы включают в себя самую долгую поездку — 41 мин.\n",
    "\n",
    "Построим гистограмму распределения продолжительностей поездок, совершённых пользователями сервиса GoFast с подпиской."
   ]
  },
  {
   "cell_type": "code",
   "execution_count": 53,
   "metadata": {},
   "outputs": [
    {
     "data": {
      "image/png": "[encoded data removed]",
      "text/plain": [
       "<Figure size 432x288 with 1 Axes>"
      ]
     },
     "metadata": {
      "needs_background": "light"
     },
     "output_type": "display_data"
    }
   ],
   "source": [
    "data_ultra_subscription['duration'].hist(bins=25, ec='white', legend=False)\n",
    "# построение гистограммы для значений в столбце ‘duration’ в датафрейме ‘data_ultra_subscription’\n",
    "plt.title('Распределение значений продолжительности поездок пользователей с подпиской (мин.)', fontsize=12)\n",
    "# установка заголовка для графика\n",
    "plt.xlabel('Время в минутах', fontsize=10)\n",
    "# установка подписи для горизонтальной оси графика\n",
    "plt.ylabel('Число поездок', fontsize=10);\n",
    "# установка подписи для вертикальной оси графика"
   ]
  },
  {
   "cell_type": "markdown",
   "metadata": {},
   "source": [
    "Набольшее количество поездок совершено пользователями сервиса аренды самокатов GoFast, имеющими подписку, за 14-22 мин. Cредняя продолжительность поездок, совершённых пользователями с подпиской, приблизительно равна 19 мин., медианная продолжительность — 18 мин. Всех реже клиенты сервиса GoFast с подпиской ездили на самокате меньше 10 минут и больше 28 минут."
   ]
  },
  {
   "cell_type": "markdown",
   "metadata": {},
   "source": [
    "Cредняя продолжительность поездок на самокате, совершённых пользователями сервиса GoFast с подпиской, на 2 минуты больше, медианная продолжительность на 1 минуту больше, чем средняя и медианная продолжительность поездок, совершённых пользователями без подписки.\n",
    "\n",
    "Стандартное отклонение, описывающее разброс значений продолжительности поездок относительно среднего, чуть меньше среди подписчиков (5.6 мин.), чем среди пользователей без подписки (6.3 мин.).\n",
    "\n",
    "Границы размаха продолжительности поездок, совершённых пользователями, не имеющими подписку, находятся в пределах от 30 сек. до 34 мин. Границы размаха продолжительности поездок, совершённых пользователями, имеющими подписку, находятся в пределах от 4 мин. до 33 мин.\n",
    "\n",
    "Всех дольше пользователи без подписки ездили на самокате 35 мин., а пользователи с подпиской — 41 мин.\n",
    "\n",
    "Набольшее количество поездок совершено пользователями без подписки за 11-21 мин, с подпиской — за 14-22 мин. Всех реже клиенты сервиса GoFast без подписки ездили на самокате меньше 7 минут, клиенты с подпиской — меньше 10 минут. \n",
    "\n",
    "Можно заключить, что пользователи с подпиской совершают более длительные по времени поездки, чем пользователи, не имеющие платной подписки."
   ]
  },
  {
   "cell_type": "markdown",
   "metadata": {},
   "source": [
    "### Вывод"
   ]
  },
  {
   "cell_type": "markdown",
   "metadata": {},
   "source": [
    "Мы объединили данные о пользователях сервиса аренды самокатов GoFast, поездках и подписках в один датафрейм. \n",
    "\n",
    "Создали ещё два датафрейма c данными о пользователях без подписки и о пользователях с подпиской.\n",
    "\n",
    "Изучили информацию о расстоянии и времени поездок для пользователей без подписки и с подпиской.\n",
    "\n",
    "- Пользователи сервиса GoFast без подписки совершили почти в два раза больше поездок на самокате (11.6 тыс. поездок), чем подписчики (6.5 тыс. поездок). В среднем пользователи с подпиской проехали за один раз на 69 м больше, чем пользователи, не имеющие подписку. Медианное расстояние на 34 м больше у пользователей с подпиской, чем у пользователей без неё. Стандартное отклонение, описывающее разброс значений расстояния относительно среднего на 409 м меньше у подписчиков, чем у пользователей без подписки. Наименьшее расстояние, которое преодолели за одну поездку пользователи, не имеющие подписку, равно 0.9 м, наибольшее расстояние — 7 км 211 м. Минимальное расстояние у подписчиков — 244 м, а максимальное — 5 км 700 м.\n",
    "\n",
    "- Набольшее количество поездок совершено пользователями без подписки за 11-21 мин, с подпиской — за 14-22 мин. Cредняя продолжительность поездок на самокате, совершённых пользователями сервиса GoFast с подпиской, на 2 минуты больше, медианная продолжительность на 1 минуту больше, чем средняя и медианная продолжительность поездок, совершённых пользователями без подписки. Стандартное отклонение, описывающее разброс значений продолжительности поездок относительно среднего, чуть меньше среди подписчиков (5.6 мин.), чем среди пользователей без подписки (6.3 мин.). Всех дольше пользователи без подписки ездили на самокате 35 мин., а пользователи с подпиской — 41 мин. Всех реже клиенты сервиса GoFast без подписки ездили на самокате меньше 7 минут, клиенты с подпиской — меньше 10 минут. \n",
    "\n",
    "Пользователи с подпиской совершают более длительные по времени поездки, чем пользователи, не имеющие платной подписки. Минимум и максимум на графике пользователей без подписки находятся левее по сравнению с платными пользователями. Это может быть связано с тем, что стоимость минуты использования сервиса выше без подписки, поэтому некоторые пользователи стремятся закончить поездку быстрее."
   ]
  },
  {
   "cell_type": "markdown",
   "metadata": {},
   "source": [
    "<div class=\"alert alert-block alert-success\">✔️\n",
    "    \n",
    "\n",
    "__Комментарий от ревьюера №1__\n",
    "\n",
    "В целом картина такая же - распределение внутри категорий имеют одинаковый профиль (и одинаковый с профилем распределения до разбивки на категории - строили на ранних этапах), но в каждом из диапазонов бесплатных пользователей чуть больше, но их, как мы помним, и в целом больше.\n",
    "\n",
    "Краевые значения (минимум и максимум) у бесплатных пользователей смещены влево относительно платных подписчиков - стоимость минуты все-таки больше, значит часть пользователей торопится завершить поездки за меньший срок. Но при этом визуально среднее значение не сильно смещено"
   ]
  },
  {
   "cell_type": "markdown",
   "metadata": {},
   "source": [
    "## Подсчёт выручки"
   ]
  },
  {
   "cell_type": "markdown",
   "metadata": {},
   "source": [
    "### Округление до следующего целого числа продолжительности каждой поездки"
   ]
  },
  {
   "cell_type": "markdown",
   "metadata": {},
   "source": [
    "<div class=\"alert alert-block alert-danger\">✍\n",
    "    \n",
    "\n",
    "__Комментарий от ревьюера №1__\n",
    "\n",
    "Перед `агрегацией`, нужно округлить время **каждой поездки** в большую сторону до минуты. (поскольку время каждой поездки округляется в большую сторону)"
   ]
  },
  {
   "cell_type": "markdown",
   "metadata": {},
   "source": [
    "<div class=\"alert alert-info\"> \n",
    "    \n",
    "<b>Комментарий студента</b> \n",
    "\n",
    "Перед округлением выведем первые 5 наблюдений в столбце с продолжительностью поездки.\n",
    "    \n",
    "</div>"
   ]
  },
  {
   "cell_type": "code",
   "execution_count": 54,
   "metadata": {},
   "outputs": [
    {
     "data": {
      "text/html": [
       "<div>\n",
       "<style scoped>\n",
       "    .dataframe tbody tr th:only-of-type {\n",
       "        vertical-align: middle;\n",
       "    }\n",
       "\n",
       "    .dataframe tbody tr th {\n",
       "        vertical-align: top;\n",
       "    }\n",
       "\n",
       "    .dataframe thead th {\n",
       "        text-align: right;\n",
       "    }\n",
       "</style>\n",
       "<table border=\"1\" class=\"dataframe\">\n",
       "  <thead>\n",
       "    <tr style=\"text-align: right;\">\n",
       "      <th></th>\n",
       "      <th>duration</th>\n",
       "    </tr>\n",
       "  </thead>\n",
       "  <tbody>\n",
       "    <tr>\n",
       "      <th>0</th>\n",
       "      <td>25.6</td>\n",
       "    </tr>\n",
       "    <tr>\n",
       "      <th>1</th>\n",
       "      <td>15.8</td>\n",
       "    </tr>\n",
       "    <tr>\n",
       "      <th>2</th>\n",
       "      <td>6.2</td>\n",
       "    </tr>\n",
       "    <tr>\n",
       "      <th>3</th>\n",
       "      <td>18.5</td>\n",
       "    </tr>\n",
       "    <tr>\n",
       "      <th>4</th>\n",
       "      <td>26.3</td>\n",
       "    </tr>\n",
       "  </tbody>\n",
       "</table>\n",
       "</div>"
      ],
      "text/plain": [
       "   duration\n",
       "0      25.6\n",
       "1      15.8\n",
       "2       6.2\n",
       "3      18.5\n",
       "4      26.3"
      ]
     },
     "execution_count": 54,
     "metadata": {},
     "output_type": "execute_result"
    }
   ],
   "source": [
    "round(data['duration'].head().to_frame(), 1)\n",
    "# отображение первых 5 строк из столбца ‘duration’ в датафрейме ‘data’"
   ]
  },
  {
   "cell_type": "markdown",
   "metadata": {},
   "source": [
    "<div class=\"alert alert-info\"> \n",
    "    \n",
    "<b>Комментарий студента</b> \n",
    "\n",
    "Округлим в большую сторону до целого числа продолжительность каждой поездки в каждой строке датафрейма `data`.\n",
    "    \n",
    "</div>"
   ]
  },
  {
   "cell_type": "markdown",
   "metadata": {},
   "source": [
    "<div class=\"alert alert-block alert-success\">✔️\n",
    "    \n",
    "\n",
    "__Комментарий от ревьюера №2__\n",
    "\n",
    "Отлично, что используешь именно np.ceil(). Грамотный шаг"
   ]
  },
  {
   "cell_type": "code",
   "execution_count": 55,
   "metadata": {},
   "outputs": [
    {
     "data": {
      "text/html": [
       "<div>\n",
       "<style scoped>\n",
       "    .dataframe tbody tr th:only-of-type {\n",
       "        vertical-align: middle;\n",
       "    }\n",
       "\n",
       "    .dataframe tbody tr th {\n",
       "        vertical-align: top;\n",
       "    }\n",
       "\n",
       "    .dataframe thead th {\n",
       "        text-align: right;\n",
       "    }\n",
       "</style>\n",
       "<table border=\"1\" class=\"dataframe\">\n",
       "  <thead>\n",
       "    <tr style=\"text-align: right;\">\n",
       "      <th></th>\n",
       "      <th>duration</th>\n",
       "    </tr>\n",
       "  </thead>\n",
       "  <tbody>\n",
       "    <tr>\n",
       "      <th>0</th>\n",
       "      <td>26.0</td>\n",
       "    </tr>\n",
       "    <tr>\n",
       "      <th>1</th>\n",
       "      <td>16.0</td>\n",
       "    </tr>\n",
       "    <tr>\n",
       "      <th>2</th>\n",
       "      <td>7.0</td>\n",
       "    </tr>\n",
       "    <tr>\n",
       "      <th>3</th>\n",
       "      <td>19.0</td>\n",
       "    </tr>\n",
       "    <tr>\n",
       "      <th>4</th>\n",
       "      <td>27.0</td>\n",
       "    </tr>\n",
       "  </tbody>\n",
       "</table>\n",
       "</div>"
      ],
      "text/plain": [
       "   duration\n",
       "0      26.0\n",
       "1      16.0\n",
       "2       7.0\n",
       "3      19.0\n",
       "4      27.0"
      ]
     },
     "execution_count": 55,
     "metadata": {},
     "output_type": "execute_result"
    }
   ],
   "source": [
    "data['duration'] = np.ceil(data['duration']) \n",
    "# округление каждого значения из столбца ‘duration’ датафрейма ‘data’ с помощью «потолка»\n",
    "data['duration'].head().to_frame()\n",
    "# отображение первых 5 строк из столбца ‘duration’ в датафрейме ‘data’"
   ]
  },
  {
   "cell_type": "markdown",
   "metadata": {},
   "source": [
    "### Создание датафрейма с агрегированными данными о поездках"
   ]
  },
  {
   "cell_type": "markdown",
   "metadata": {},
   "source": [
    "Создадим датафрейм с агрегированными данными о поездках на основе датафрейма `data`: с количеством, суммарным расстоянием и временем поездок, а также типом подписки для каждого пользователя за каждый месяц."
   ]
  },
  {
   "cell_type": "code",
   "execution_count": 56,
   "metadata": {},
   "outputs": [
    {
     "data": {
      "text/html": [
       "<div>\n",
       "<style scoped>\n",
       "    .dataframe tbody tr th:only-of-type {\n",
       "        vertical-align: middle;\n",
       "    }\n",
       "\n",
       "    .dataframe tbody tr th {\n",
       "        vertical-align: top;\n",
       "    }\n",
       "\n",
       "    .dataframe thead th {\n",
       "        text-align: right;\n",
       "    }\n",
       "</style>\n",
       "<table border=\"1\" class=\"dataframe\">\n",
       "  <thead>\n",
       "    <tr style=\"text-align: right;\">\n",
       "      <th></th>\n",
       "      <th></th>\n",
       "      <th>number_of_trips</th>\n",
       "      <th>total_distance</th>\n",
       "      <th>total_duration</th>\n",
       "      <th>subscription_type</th>\n",
       "    </tr>\n",
       "    <tr>\n",
       "      <th>user_id</th>\n",
       "      <th>month</th>\n",
       "      <th></th>\n",
       "      <th></th>\n",
       "      <th></th>\n",
       "      <th></th>\n",
       "    </tr>\n",
       "  </thead>\n",
       "  <tbody>\n",
       "    <tr>\n",
       "      <th rowspan=\"5\" valign=\"top\">1</th>\n",
       "      <th>1</th>\n",
       "      <td>2</td>\n",
       "      <td>7027.511294</td>\n",
       "      <td>42.0</td>\n",
       "      <td>ultra</td>\n",
       "    </tr>\n",
       "    <tr>\n",
       "      <th>4</th>\n",
       "      <td>1</td>\n",
       "      <td>754.159807</td>\n",
       "      <td>7.0</td>\n",
       "      <td>ultra</td>\n",
       "    </tr>\n",
       "    <tr>\n",
       "      <th>8</th>\n",
       "      <td>2</td>\n",
       "      <td>6723.470560</td>\n",
       "      <td>46.0</td>\n",
       "      <td>ultra</td>\n",
       "    </tr>\n",
       "    <tr>\n",
       "      <th>10</th>\n",
       "      <td>2</td>\n",
       "      <td>5809.911100</td>\n",
       "      <td>32.0</td>\n",
       "      <td>ultra</td>\n",
       "    </tr>\n",
       "    <tr>\n",
       "      <th>11</th>\n",
       "      <td>3</td>\n",
       "      <td>7003.499363</td>\n",
       "      <td>56.0</td>\n",
       "      <td>ultra</td>\n",
       "    </tr>\n",
       "  </tbody>\n",
       "</table>\n",
       "</div>"
      ],
      "text/plain": [
       "               number_of_trips  total_distance  total_duration  \\\n",
       "user_id month                                                    \n",
       "1       1                    2     7027.511294            42.0   \n",
       "        4                    1      754.159807             7.0   \n",
       "        8                    2     6723.470560            46.0   \n",
       "        10                   2     5809.911100            32.0   \n",
       "        11                   3     7003.499363            56.0   \n",
       "\n",
       "              subscription_type  \n",
       "user_id month                    \n",
       "1       1                 ultra  \n",
       "        4                 ultra  \n",
       "        8                 ultra  \n",
       "        10                ultra  \n",
       "        11                ultra  "
      ]
     },
     "execution_count": 56,
     "metadata": {},
     "output_type": "execute_result"
    }
   ],
   "source": [
    "agg_data = data.pivot_table(index=['user_id', 'month'], \n",
    "                            values=['distance', 'duration',\n",
    "                                    'subscription_type'], \n",
    "                            aggfunc={'distance': ['count','sum'],\n",
    "                                     'duration': ['sum'],\n",
    "                                     'subscription_type': ['min']})\n",
    "# создание сводной таблицы на основе датафрейма ‘data’\n",
    "# группировка данных по столбцам ‘user_id’ и ‘month’\n",
    "# возвращение количества вхождений в таблицу для каждого уникального значения в столбце ‘distance’\n",
    "# суммирование значений в столбцах ‘distance’, ‘duration’\n",
    "# вычисление минимального значения для столбца ‘subscription_type’\n",
    "agg_data.columns = ['number_of_trips', 'total_distance', \n",
    "                    'total_duration', 'subscription_type']\n",
    "# создание списка с названиями столбцов для таблицы ‘agg_data’, который передаётся в атрибут ‘columns’\n",
    "agg_data.head()\n",
    "# отображение первых 5 строк датафрейма ‘agg_data’"
   ]
  },
  {
   "cell_type": "markdown",
   "metadata": {},
   "source": [
    "<div class=\"alert alert-block alert-warning\">📝\n",
    "    \n",
    "\n",
    "__Комментарий от ревьюера №1__\n",
    "    \n",
    "Нет проверки на пропуски в сводной таблице перед расчетом выручки"
   ]
  },
  {
   "cell_type": "markdown",
   "metadata": {},
   "source": [
    "<div class=\"alert alert-info\"> \n",
    "    \n",
    "<b>Комментарий студента</b> \n",
    "    \n",
    "Перед рассчётом выручки проверим, есть ли пропуски в столбцах датафрейма `agg_data`.\n",
    "\n",
    "</div>"
   ]
  },
  {
   "cell_type": "code",
   "execution_count": 57,
   "metadata": {},
   "outputs": [
    {
     "data": {
      "text/html": [
       "<div>\n",
       "<style scoped>\n",
       "    .dataframe tbody tr th:only-of-type {\n",
       "        vertical-align: middle;\n",
       "    }\n",
       "\n",
       "    .dataframe tbody tr th {\n",
       "        vertical-align: top;\n",
       "    }\n",
       "\n",
       "    .dataframe thead th {\n",
       "        text-align: right;\n",
       "    }\n",
       "</style>\n",
       "<table border=\"1\" class=\"dataframe\">\n",
       "  <thead>\n",
       "    <tr style=\"text-align: right;\">\n",
       "      <th></th>\n",
       "      <th>count</th>\n",
       "    </tr>\n",
       "  </thead>\n",
       "  <tbody>\n",
       "    <tr>\n",
       "      <th>number_of_trips</th>\n",
       "      <td>0</td>\n",
       "    </tr>\n",
       "    <tr>\n",
       "      <th>total_distance</th>\n",
       "      <td>0</td>\n",
       "    </tr>\n",
       "    <tr>\n",
       "      <th>total_duration</th>\n",
       "      <td>0</td>\n",
       "    </tr>\n",
       "    <tr>\n",
       "      <th>subscription_type</th>\n",
       "      <td>0</td>\n",
       "    </tr>\n",
       "  </tbody>\n",
       "</table>\n",
       "</div>"
      ],
      "text/plain": [
       "                   count\n",
       "number_of_trips        0\n",
       "total_distance         0\n",
       "total_duration         0\n",
       "subscription_type      0"
      ]
     },
     "execution_count": 57,
     "metadata": {},
     "output_type": "execute_result"
    }
   ],
   "source": [
    "agg_data.isna().sum().to_frame(name='count')\n",
    "# вычисление количества отсутствующих значений в каждом столбце датафрейма ‘agg_data’"
   ]
  },
  {
   "cell_type": "markdown",
   "metadata": {},
   "source": [
    "<div class=\"alert alert-info\"> \n",
    "    \n",
    "<b>Комментарий студента</b> \n",
    "    \n",
    "Во всех столбцах датафрейма с агрегированными данными о поездках отсутствуют пропущенные значения.\n",
    "\n",
    "</div>"
   ]
  },
  {
   "cell_type": "markdown",
   "metadata": {},
   "source": [
    "### Добавление в датафрейм столбца с помесячной выручкой, которую принёс каждый пользователь"
   ]
  },
  {
   "cell_type": "markdown",
   "metadata": {},
   "source": [
    "Добавим в датафрейм `agg_data` столбец с помесячной выручкой, которую принёс каждый пользователь без подписки и с подпиской."
   ]
  },
  {
   "cell_type": "code",
   "execution_count": 58,
   "metadata": {},
   "outputs": [
    {
     "data": {
      "text/html": [
       "<div>\n",
       "<style scoped>\n",
       "    .dataframe tbody tr th:only-of-type {\n",
       "        vertical-align: middle;\n",
       "    }\n",
       "\n",
       "    .dataframe tbody tr th {\n",
       "        vertical-align: top;\n",
       "    }\n",
       "\n",
       "    .dataframe thead th {\n",
       "        text-align: right;\n",
       "    }\n",
       "</style>\n",
       "<table border=\"1\" class=\"dataframe\">\n",
       "  <thead>\n",
       "    <tr style=\"text-align: right;\">\n",
       "      <th></th>\n",
       "      <th></th>\n",
       "      <th>number_of_trips</th>\n",
       "      <th>total_distance</th>\n",
       "      <th>total_duration</th>\n",
       "      <th>subscription_type</th>\n",
       "      <th>monthly_income</th>\n",
       "    </tr>\n",
       "    <tr>\n",
       "      <th>user_id</th>\n",
       "      <th>month</th>\n",
       "      <th></th>\n",
       "      <th></th>\n",
       "      <th></th>\n",
       "      <th></th>\n",
       "      <th></th>\n",
       "    </tr>\n",
       "  </thead>\n",
       "  <tbody>\n",
       "    <tr>\n",
       "      <th rowspan=\"5\" valign=\"top\">1</th>\n",
       "      <th>1</th>\n",
       "      <td>2</td>\n",
       "      <td>7027.511294</td>\n",
       "      <td>42.0</td>\n",
       "      <td>ultra</td>\n",
       "      <td>451.0</td>\n",
       "    </tr>\n",
       "    <tr>\n",
       "      <th>4</th>\n",
       "      <td>1</td>\n",
       "      <td>754.159807</td>\n",
       "      <td>7.0</td>\n",
       "      <td>ultra</td>\n",
       "      <td>241.0</td>\n",
       "    </tr>\n",
       "    <tr>\n",
       "      <th>8</th>\n",
       "      <td>2</td>\n",
       "      <td>6723.470560</td>\n",
       "      <td>46.0</td>\n",
       "      <td>ultra</td>\n",
       "      <td>475.0</td>\n",
       "    </tr>\n",
       "    <tr>\n",
       "      <th>10</th>\n",
       "      <td>2</td>\n",
       "      <td>5809.911100</td>\n",
       "      <td>32.0</td>\n",
       "      <td>ultra</td>\n",
       "      <td>391.0</td>\n",
       "    </tr>\n",
       "    <tr>\n",
       "      <th>11</th>\n",
       "      <td>3</td>\n",
       "      <td>7003.499363</td>\n",
       "      <td>56.0</td>\n",
       "      <td>ultra</td>\n",
       "      <td>535.0</td>\n",
       "    </tr>\n",
       "  </tbody>\n",
       "</table>\n",
       "</div>"
      ],
      "text/plain": [
       "               number_of_trips  total_distance  total_duration  \\\n",
       "user_id month                                                    \n",
       "1       1                    2     7027.511294            42.0   \n",
       "        4                    1      754.159807             7.0   \n",
       "        8                    2     6723.470560            46.0   \n",
       "        10                   2     5809.911100            32.0   \n",
       "        11                   3     7003.499363            56.0   \n",
       "\n",
       "              subscription_type  monthly_income  \n",
       "user_id month                                    \n",
       "1       1                 ultra           451.0  \n",
       "        4                 ultra           241.0  \n",
       "        8                 ultra           475.0  \n",
       "        10                ultra           391.0  \n",
       "        11                ultra           535.0  "
      ]
     },
     "execution_count": 58,
     "metadata": {},
     "output_type": "execute_result"
    }
   ],
   "source": [
    "def income(row): # определение функции\n",
    "    try:\n",
    "        if row['subscription_type'] == 'free':\n",
    "            return ((50 * row['number_of_trips']) + (8 * row['total_duration']))\n",
    "        elif row['subscription_type'] == 'ultra':\n",
    "            return ((6 * row['total_duration']) + 199)\n",
    "    except:\n",
    "        print('Не получилось вычислить помесячную выручку')\n",
    "agg_data['monthly_income'] = agg_data.apply(income, axis=1)\n",
    "# вычисление помесячной выручки для каждой строки в таблице\n",
    "# формула: (стоимость старта поездки × количество поездок) + \n",
    "# (стоимость одной минуты поездки × общая продолжительность всех поездок в минутах) + \n",
    "# стоимость подписки\n",
    "agg_data.head()\n",
    "# отображение первых 5 строк датафрейма ‘agg_data’"
   ]
  },
  {
   "cell_type": "markdown",
   "metadata": {},
   "source": [
    "### Подсчёт выручки от пользователей без подписки и с подпиской"
   ]
  },
  {
   "cell_type": "markdown",
   "metadata": {},
   "source": [
    "Рассчитаем общую выручку за год, помесячную среднюю и медианную выручку от тех, у кого нет подписки, и от подписчиков."
   ]
  },
  {
   "cell_type": "code",
   "execution_count": 59,
   "metadata": {},
   "outputs": [
    {
     "data": {
      "text/html": [
       "<div>\n",
       "<style scoped>\n",
       "    .dataframe tbody tr th:only-of-type {\n",
       "        vertical-align: middle;\n",
       "    }\n",
       "\n",
       "    .dataframe tbody tr th {\n",
       "        vertical-align: top;\n",
       "    }\n",
       "\n",
       "    .dataframe thead th {\n",
       "        text-align: right;\n",
       "    }\n",
       "</style>\n",
       "<table border=\"1\" class=\"dataframe\">\n",
       "  <thead>\n",
       "    <tr style=\"text-align: right;\">\n",
       "      <th></th>\n",
       "      <th>count</th>\n",
       "      <th>sum</th>\n",
       "      <th>mean</th>\n",
       "      <th>median</th>\n",
       "    </tr>\n",
       "    <tr>\n",
       "      <th>subscription_type</th>\n",
       "      <th></th>\n",
       "      <th></th>\n",
       "      <th></th>\n",
       "      <th></th>\n",
       "    </tr>\n",
       "  </thead>\n",
       "  <tbody>\n",
       "    <tr>\n",
       "      <th>free</th>\n",
       "      <td>6798</td>\n",
       "      <td>2234104.0</td>\n",
       "      <td>329.0</td>\n",
       "      <td>274.0</td>\n",
       "    </tr>\n",
       "    <tr>\n",
       "      <th>ultra</th>\n",
       "      <td>4533</td>\n",
       "      <td>1644537.0</td>\n",
       "      <td>363.0</td>\n",
       "      <td>337.0</td>\n",
       "    </tr>\n",
       "  </tbody>\n",
       "</table>\n",
       "</div>"
      ],
      "text/plain": [
       "                   count        sum   mean  median\n",
       "subscription_type                                 \n",
       "free                6798  2234104.0  329.0   274.0\n",
       "ultra               4533  1644537.0  363.0   337.0"
      ]
     },
     "execution_count": 59,
     "metadata": {},
     "output_type": "execute_result"
    }
   ],
   "source": [
    "monthly_income_data = agg_data.pivot_table(index=['subscription_type'], \n",
    "                            values=['monthly_income'], \n",
    "                            aggfunc=['count', 'sum', 'mean', 'median'])\n",
    "# создание сводной таблицы на основе датафрейма ‘agg_data’\n",
    "# группировка данных по столбцу ‘subscription_type’\n",
    "# возвращение количества вхождений в таблицу каждого значения столбца ‘monthly_income’\n",
    "# суммирование значений в столбце ‘monthly_income’\n",
    "# вычисление среднего значения для столбца ‘monthly_income’\n",
    "# вычисление медианы для столбца ‘monthly_income’\n",
    "monthly_income_data.columns = ['count', 'sum', 'mean', 'median']\n",
    "# создание списка с названиями столбцов для таблицы ‘monthly_income_data’, который передаётся в атрибут ‘columns’\n",
    "round(monthly_income_data)\n",
    "# отображение датафрейма ‘monthly_income_data’"
   ]
  },
  {
   "cell_type": "markdown",
   "metadata": {},
   "source": [
    "Количество помесячной выручки, которую принёс каждый пользователь сервиса аренды самокатов GoFast без подписки, — 6798, с подпиской — 4533. Выручка от пользователей без подписки за 2021 год составила 2 млн. 234 тыс. 104 руб., от подписчиков — 1 млн. 644 тыс. 537 руб. Помесячная средняя выручка от пользователя с подпиской составляет 363 руб., что на 34 руб. больше, чем от пользователя без подписки. Помесячная медианная выручка от пользователя с подпиской составляет 337 руб., что на 63 руб. больше, чем от пользователя без подписки."
   ]
  },
  {
   "cell_type": "markdown",
   "metadata": {},
   "source": [
    "### Вывод"
   ]
  },
  {
   "cell_type": "markdown",
   "metadata": {},
   "source": [
    "- Создали датафрейм с агрегированными данными о поездках, совершённых пользователями сервиса аренды самокатов GoFast. Нашли суммарное расстояние, количество поездок и суммарное время для каждого пользователя за каждый месяц.\n",
    "- Продолжительность каждой поездки в каждой строке датафрейма округлили до следующего целого числа.\n",
    "- Добавили столбец с помесячной выручкой, которую принёс каждый пользователь.\n",
    "- Рассчитали выручку от пользователей без подписки и с подпиской. Общая выручка от пользователей без подписки выше за счёт большей численности таких пользователей и большего числа совершённых ими поездок. Однако помесячная средняя и медианная выручка выше от пользователей с подпиской, чем от пользователей без неё."
   ]
  },
  {
   "cell_type": "markdown",
   "metadata": {},
   "source": [
    "<div class=\"alert alert-block alert-success\">✔️\n",
    "    \n",
    "\n",
    "__Комментарий от ревьюера №1__\n",
    "\n",
    "Молодец, что используешь собственные функции"
   ]
  },
  {
   "cell_type": "markdown",
   "metadata": {},
   "source": [
    "## Проверка гипотез"
   ]
  },
  {
   "cell_type": "markdown",
   "metadata": {},
   "source": [
    "### Гипотеза: «пользователи с подпиской тратят больше времени на поездки, чем пользователи без подписки»"
   ]
  },
  {
   "cell_type": "markdown",
   "metadata": {},
   "source": [
    "Выявим, тратят ли пользователи сервиса аренды самокатов GoFast с подпиской больше времени на поездки. Если да, то пользователи с подпиской могут быть «выгоднее» для компании.\n",
    "    \n",
    "- Нулевая гипотеза: средние значения продолжительностей поездок пользователей с подпиской и без подписки равны.\n",
    "- Альтернативная гипотеза: среднее значение продолжительностей поездок пользователей с подпиской больше, чем среднее значение продолжительностей поездок пользователей без подписки."
   ]
  },
  {
   "cell_type": "markdown",
   "metadata": {},
   "source": [
    "<div class=\"alert alert-block alert-success\">✔️\n",
    "    \n",
    "\n",
    "__Комментарий от ревьюера №1__\n",
    "\n",
    "Верная интерпретация нулевой и альтернативной гипотез\n",
    "</div>"
   ]
  },
  {
   "cell_type": "code",
   "execution_count": 60,
   "metadata": {},
   "outputs": [
    {
     "name": "stdout",
     "output_type": "stream",
     "text": [
      "p-value: 1.2804098316645618e-34\n",
      "Отвергаем нулевую гипотезу\n"
     ]
    }
   ],
   "source": [
    "alpha = 0.05\n",
    "# создание переменной ‘alpha’, равной 0.05, для установки уровня статистической значимости\n",
    "\n",
    "ultra_subscription_duration = data_ultra_subscription['duration']\n",
    "# продолжительность поездок пользователей с подпиской\n",
    "\n",
    "free_subscription_duration = data_free_subscription['duration']\n",
    "# продолжительность поездок пользователей без подписки\n",
    "\n",
    "results = st.ttest_ind(ultra_subscription_duration, free_subscription_duration, alternative='greater')\n",
    "# проведение ttest для двух выборок, использование односторонней гипотезы «больше» в качестве альтернативной\n",
    "\n",
    "print(f'p-value: {results.pvalue}')\n",
    "# вывод на экран получившегося p-значения\n",
    "\n",
    "if results.pvalue < alpha:\n",
    "    print('Отвергаем нулевую гипотезу')\n",
    "else:\n",
    "    print('Нет оснований отвергнуть нулевую гипотезу')\n",
    "# проверка, меньше ли p-значение результатов исследования, чем уровень значимости \n",
    "# если это так, то нулевая гипотеза отвергается и выводится соответствующее сообщение\n",
    "# в противном случае выводится сообщение о том, что нет оснований отвергать нулевую гипотезу"
   ]
  },
  {
   "cell_type": "markdown",
   "metadata": {},
   "source": [
    "Полученное значение p-value (1.3e-34) меньше заданного уровня значимости, равного 0.05, поэтому можно отвергнуть нулевую гипотезу. Есть основания утверждать, что пользователи сервиса с подпиской тратят больше времени на поездки на самокате."
   ]
  },
  {
   "cell_type": "markdown",
   "metadata": {},
   "source": [
    "### Гипотеза: «среднее расстояние, которое проезжают пользователи с подпиской за одну поездку, не превышает оптимальное расстояние с точки зрения износа самоката»"
   ]
  },
  {
   "cell_type": "markdown",
   "metadata": {},
   "source": [
    "Расстояние одной поездки в 3 км 130 м — оптимальное с точки зрения износа самоката. Проверим, не превышает ли то расстояние, которое проезжают пользователи сервиса GoFast с подпиской за одну поездку, расстояние в 3 км 130 м.\n",
    "    \n",
    "- Нулевая гипотеза: среднее расстояние, которое проезжают пользователи с подпиской за одну поездку на самокате, равно оптимальному с точки зрения износа самоката расстоянию в 3 км 130 м.\n",
    "- Альтернативная гипотеза: среднее расстояние, которое проезжают пользователи с подпиской за одну поездку на самокате, больше оптимального с точки зрения износа самоката расстояния в 3 км 130 м."
   ]
  },
  {
   "cell_type": "code",
   "execution_count": 61,
   "metadata": {},
   "outputs": [
    {
     "name": "stdout",
     "output_type": "stream",
     "text": [
      "p-value: 0.9195368847849785\n",
      "Нет оснований отвергнуть нулевую гипотезу\n"
     ]
    }
   ],
   "source": [
    "optimal_distance = 3130\n",
    "# создание переменной ‘optimal_distance’, равной 3130, для установки оптимального расстояния с т.з. износа самоката\n",
    "\n",
    "alpha = 0.05 \n",
    "# создание переменной ‘alpha’, равной 0.05, для установки уровня статистической значимости\n",
    "\n",
    "ultra_subscription_distance = data_ultra_subscription['distance']\n",
    "# расстояние, которое проезжают пользователи с подпиской за одну поездку\n",
    "\n",
    "results = st.ttest_1samp(\n",
    "    ultra_subscription_distance, \n",
    "    optimal_distance,\n",
    "      alternative='greater')\n",
    "# проведение ttest для одной выборки, использование односторонней гипотезы «больше» в качестве альтернативной\n",
    " \n",
    "print(f'p-value: {results.pvalue}')\n",
    "# вывод на экран получившегося p-значения\n",
    "\n",
    "if results.pvalue < alpha:\n",
    "    print('Отвергаем нулевую гипотезу')\n",
    "else:\n",
    "    print('Нет оснований отвергнуть нулевую гипотезу')\n",
    "# проверка, меньше ли p-значение результатов исследования, чем уровень значимости \n",
    "# если это так, то нулевая гипотеза отвергается и выводится соответствующее сообщение\n",
    "# в противном случае выводится сообщение о том, что нет оснований отвергать нулевую гипотезу"
   ]
  },
  {
   "cell_type": "markdown",
   "metadata": {},
   "source": [
    "Полученное значение p-value (0.92) больше заданного уровня значимости, равного 0.05, поэтому нельзя отвергнуть нулевую гипотезу. Есть основания утверждать, что среднее расстояние, которое проезжают пользователи с подпиской за одну поездку на самокате, не превышает оптимальное с точки зрения износа самоката расстояние в 3 км 130 м."
   ]
  },
  {
   "cell_type": "markdown",
   "metadata": {},
   "source": [
    "### Гипотеза: «помесячная выручка от пользователей с подпиской по месяцам выше, чем выручка от пользователей без подписки»"
   ]
  },
  {
   "cell_type": "markdown",
   "metadata": {},
   "source": [
    "Установим, является ли помесячная выручка от пользователей сервиса GoFast с подпиской выше, чем выручка от пользователей без подписки.\n",
    "    \n",
    "- Нулевая гипотеза: помесячные средние выручки от пользователей с подпиской и от пользователей без подписки равны.\n",
    "- Альтернативная гипотеза: помесячная средняя выручка от пользователей с подпиской больше, чем помесячная средняя выручка от пользователей без подписки."
   ]
  },
  {
   "cell_type": "code",
   "execution_count": 62,
   "metadata": {},
   "outputs": [
    {
     "name": "stdout",
     "output_type": "stream",
     "text": [
      "p-value: 1.8850394384715216e-31\n",
      "Отвергаем нулевую гипотезу\n"
     ]
    }
   ],
   "source": [
    "alpha = 0.05\n",
    "# создание переменной ‘alpha’, равной 0.05, для установки уровня статистической значимости\n",
    "\n",
    "ultra_subscription_monthly_income = agg_data.query('subscription_type == \"ultra\"')['monthly_income']\n",
    "# помесячная выручка от пользователей с подпиской\n",
    "\n",
    "free_subscription_monthly_income = agg_data.query('subscription_type == \"free\"')['monthly_income']\n",
    "# помесячная выручка от пользователей без подписки\n",
    "\n",
    "results = st.ttest_ind(ultra_subscription_monthly_income, free_subscription_monthly_income, alternative='greater')\n",
    "# проведение ttest для двух выборок, использование односторонней гипотезы «больше» в качестве альтернативной\n",
    "\n",
    "print(f'p-value: {results.pvalue}')\n",
    "# вывод на экран получившегося p-значения\n",
    "\n",
    "if results.pvalue < alpha:\n",
    "    print('Отвергаем нулевую гипотезу')\n",
    "else:\n",
    "    print('Нет оснований отвергнуть нулевую гипотезу')\n",
    "# проверка, меньше ли p-значение результатов исследования, чем уровень значимости \n",
    "# если это так, то нулевая гипотеза отвергается и выводится соответствующее сообщение\n",
    "# в противном случае выводится сообщение о том, что нет оснований отвергать нулевую гипотезу"
   ]
  },
  {
   "cell_type": "markdown",
   "metadata": {},
   "source": [
    "Полученное значение p-value (1.9e-31) меньше заданного уровня значимости, равного 0.05, поэтому можно отвергнуть нулевую гипотезу. Есть основания утверждать, что помесячная выручка от пользователей с подпиской выше, чем выручка от пользователей без подписки."
   ]
  },
  {
   "cell_type": "markdown",
   "metadata": {},
   "source": [
    "<div class=\"alert alert-block alert-success\">✔️\n",
    "    \n",
    "\n",
    "__Комментарий от ревьюера №1__\n",
    "\n",
    "Методологически проверка гипотез проведена верно и наглядный вывод результатов"
   ]
  },
  {
   "cell_type": "markdown",
   "metadata": {},
   "source": [
    "### Гипотеза: «количество обращений в техподдержку снизилось после обновления серверов, с которыми взаимодействует мобильное приложение»"
   ]
  },
  {
   "cell_type": "markdown",
   "metadata": {},
   "source": [
    "Техническая команда сервиса аренды самокатов GoFast обновила сервера, с которыми взаимодействует мобильное приложение. Она надеется, что из-за этого количество обращений в техподдержку значимо снизилось. Некоторый файл содержит для каждого пользователя данные о количестве обращений до обновления и после него.\n",
    "\n",
    "Мы анализируем одну генеральную совокупность, с которой произошли изменения. Необходимо проверить, равны ли средние совокупности до и после этого изменения.\n",
    "\n",
    "- Нулевая гипотеза: средние значения количества обращений пользователей сервиса аренды самокатов GoFast в техподдержку до и после обновления серверов равны.\n",
    "- Альтернативная гипотеза: среднее значение количества обращений пользователей в техподдержку после обновления серверов меньше, чем среднее значение количества обращений пользователей в техподдержку до обновления.\n",
    "\n",
    "Чтобы проверить гипотезу о равенстве среднего генеральной совокупности для зависимых (парных) выборок в Python, применим метод scipy.stats.ttest_rel(). Ему передаём наборы данных после и до обновления. Оба набора должны быть одинаковыми по размеру. Указываем alternative='less', чтобы проверить альтернативную гипотезу о том, что истинное среднее генеральной совокупности после изменения меньше, чем истинное среднее генеральной совокупности до изменения."
   ]
  },
  {
   "cell_type": "markdown",
   "metadata": {},
   "source": [
    "<div class=\"alert alert-block alert-success\">✔️\n",
    "    \n",
    "\n",
    "__Комментарий от ревьюера №1__\n",
    "\n",
    "Для решения потребуется тест на равенство средних для зависимых выборок, до и после изменений.>"
   ]
  },
  {
   "cell_type": "markdown",
   "metadata": {},
   "source": [
    "### Вывод"
   ]
  },
  {
   "cell_type": "markdown",
   "metadata": {},
   "source": [
    "- Пользователи сервиса аренды самокатов GoFast с подпиской тратят больше времени на поездки на самокате, чем пользователи без подписки, что может приносить больше прибыли компании, так как каждая минута поездки оплачивается.\n",
    "\n",
    "- Износ самоката может привести к его преждевременному выходу из строя, что может повлечь за собой дополнительные расходы на ремонт или замену. Кроме того, износ может негативно сказаться на безопасности езды, так как изношенные детали могут выходить из строя в самый неподходящий момент. Поэтому важно не превышать оптимальное расстояние при поездке на самокате. Среднее расстояние, которое проезжают пользователи с подпиской за одну поездку на самокате, не превышает оптимальное с точки зрения износа самоката расстояние в 3 км 130 м.\n",
    "\n",
    "- Помесячная выручка от пользователей с подпиской выше, чем выручка от пользователей без подписки. Для увеличения доходов компании стоит привлекать большее число пользователей с подпиской.\n",
    "\n",
    "- Чтобы проверить гипотезу о равенстве средних значений количества обращений пользователей сервиса аренды самокатов GoFast в техподдержку до и после обновления серверов, с которыми взаимодействует мобильное приложение, необходимо применить метод scipy.stats.ttest_rel() и передать ему наборы данных после и до обновления. Оба набора должны быть одинаковыми по размеру. Следует указать аргумент alternative='less', чтобы проверить альтернативную гипотезу о том, что истинное среднее генеральной совокупности после изменения меньше, чем истинное среднее генеральной совокупности до изменения."
   ]
  },
  {
   "cell_type": "markdown",
   "metadata": {
    "id": "h7VpzkIDAwb-"
   },
   "source": [
    "## Общий вывод"
   ]
  },
  {
   "cell_type": "markdown",
   "metadata": {
    "id": "3H4lnp_KAwb-"
   },
   "source": [
    "Нами было проведено исследование сервиса аренды самокатов GoFast на основе данных о пользователях из нескольких городов, а также об их поездках и подписках. \n",
    "\n",
    "В предоставленных данных не были обнаружены пропущенные значения.\n",
    "\n",
    "Данные с информацией о пользователях были импортированы из файла, содержащего повторяющиеся строки, в результате чего в датафрейме появился 31 явный дубликат, который впоследствии был удалён. В других датафреймах не были найдены дублирующиеся записи.\n",
    "\n",
    "Строки, где указаны даты совершения поездки, были преобразованы в формат даты в pandas, чтобы иметь возможность выполнять с ними различные операции.\n",
    "\n",
    "В ходе исследования выявлено, что сервис аренды самокатов GoFast представлен в Москве, Екатеринбурге, Ростове-на-Дону, Краснодаре, Омске, Тюмени, Сочи, Пятигорске. Наибольшее число пользователей сервиса (219 чел.) приходится на город-курорт Пятигорск в Ставропольском крае, наименьшее число (168 чел.) — на Москву, являющуюся столицей и крупнейшим по численности населения городом России.\n",
    " - Возможной причиной менее широкого использования самокатов в Москве может служить развитая инфраструктура общественного транспорта, снижающая потребность в самокатах. \n",
    " - В Москве может быть больше сервисов-конкурентов аренды самокатов, «перехватывающих» часть потенциальных клиентов.\n",
    " - Москва расположена в более холодном климатическом поясе, что может ограничивать использование самокатов в зимнее время года, Пятигорск находится в более мягком климате, из-за чего самокаты популярны в течение всего года. \n",
    " - Пятигорск расположен в гористой местности, что делает использование самокатов удобным и привлекательным для жителей города. \n",
    " - В Москве также могут быть более строгие правила и нормы использования самокатов.\n",
    "\n",
    "Количество пользователей сервиса аренды самокатов GoFast в 2021 году составляет около 1.5 тысяч человек. Сервис наиболее популярен среди молодых людей в возрасте от 22 до 28 лет. Cредний, медианный и наиболее распространённый возраст пользователей сервиса равен 25 годам. Реже всего сервисом пользуются лица моложе 15 и старше 35 лет. Самому юному пользователю сервиса — 12 лет, самому старшему — 43 года. Можно заключить, что целевая аудитория сервиса аренды самокатов — молодёжь.\n",
    " - Самокаты могут быть удобными, стильными, высокоскоростными, что привлекать молодёжь. \n",
    " - Взрослые люди могут предпочитать более традиционные виды транспорта, такие как личный автомобиль или общественный транспорт.\n",
    " - Самокат может быть небезопасным для маленьких детей из-за менее развитых координационных способностей и для пожилых людей в силу возраста.\n",
    " \n",
    "Более половины (54%) клиентов сервиса аренды самокатов GoFast пользуются мобильным приложением без оформления подписки. Чуть меньше половины (46%) клиентов для совершения поездок на самокатах используют подписку Ultra, но тем не менее это хорошая рабочая база клиентов.\n",
    " - Причиной, почему пользователи предпочитают не оформлять подписку, может быть относительно высокая стоимость подписки.\n",
    " - Некоторые пользователи не видят необходимости в платной подписке, так как они редко пользуются сервисом. Оформление подписки является выгодным при частом совершении поездок на самокате. \n",
    " - Пользователей может привлекать отсутствие абонентской платы за использование приложения, даже несмотря на возможные преимущества оформления платной подписки.\n",
    "\n",
    "Количество поездок, совершённых пользователями сервиса аренды самокатов GoFast за 2021 год, составляет примерно 18 тысяч. Самое частое расстояние, которое пользователи сервиса GoFast преодолели за одну поездку, находится в пределах от 2 км 500 м до 3 км 800 м. Среднее расстояние, которое пользователи проехали за одну сессию, составляет 3 км 71 м, медианное расстояние — 3 км 134 м. Некоторая часть пользователей использует самокаты для коротких поездок — до 1 км 500 м. Всех реже пользователи ездили на самокатах больше 5 км. Наименьшее расстояние, которое пользователи преодолели за одну поездку на самокате, равно 0.9 м, наибольшее расстояние — 7 км 211 м.\n",
    "\n",
    "Пользователи сервиса GoFast без подписки совершили почти в два раза больше поездок на самокате за 2021 год, чем подписчики.\n",
    "\n",
    "В среднем пользователи с подпиской проехали за один раз на 69 м больше, чем пользователи, не имеющие подписку. Наименьшее расстояние, которое преодолели за одну поездку подписчики, равно 244 м, наибольшее расстояние — 5 км 700 м.\n",
    "\n",
    "Для пользователей без подписки в большей степени характерны короткие поездки — от 0.9 м до 1 км. Также в целом максимальная дальность поездки выше у пользователей без подписки — более 6 км, чем у пользователей с подпиской.\n",
    "\n",
    "Набольшее количество поездок совершено пользователями сервиса аренды самокатов GoFast за 15-20 минут. Cредняя и медианная продолжительность поездок, совершённых пользователями сервиса GoFast, приблизительно равна 18 минутам. Всех реже клиенты сервиса ездили на самокате меньше 7 минут и больше 28 минут. Самая быстрая поездка заняла 30 секунд, самая долгая — 41 минуту. \n",
    "\n",
    "У поездок, длительность которых равна 30 секундам, расстояние составляет более 4 км, что неправдоподобно. Возможно, продолжительность этих поездок была зафиксирована с ошибкой, мобильное приложение неправильно обработало данные.\n",
    "\n",
    "Набольшее количество поездок совершено пользователями без подписки за 11-21 мин, с подпиской — за 14-22 мин. Cредняя продолжительность поездок на самокате, совершённых пользователями сервиса GoFast с подпиской, на 2 минуты больше. Всех дольше пользователи без подписки ездили на самокате 35 мин., а пользователи с подпиской — 41 мин. Реже всего клиенты сервиса GoFast без подписки ездили на самокате меньше 7 минут, клиенты с подпиской — меньше 10 минут. Минимум и максимум на графике пользователей без подписки находятся левее по сравнению с платными пользователями. Это может быть связано с тем, что стоимость минуты использования сервиса выше без подписки, поэтому некоторые пользователи стремятся закончить поездку быстрее.\n",
    "\n",
    "Таким образом, можно сделать вывод, что те, у кого оформлена платная подписка, в среднем проезжают большее расстояние на арендованном самокате и катаются дольше по времени. Оплаченная подписка и тот факт, что с подпиской стоимость одной минуты поездки на 2 рубля дешевле, могут стимулировать подписчиков к более активному использованию самоката. Пользователи сервиса аренды самокатов GoFast с подпиской в среднем тратят больше времени на поездки на самокате, чем пользователи без подписки, что может приносить больше прибыли компании, так как каждая минута поездки оплачивается.\n",
    "\n",
    "Износ самоката приводит к его преждевременному выходу из строя, что может негативно сказаться на безопасности езды и повлечь за собой дополнительные расходы на ремонт или замену. Поэтому важно не превышать оптимальное расстояние при поездке на самокате. Среднее расстояние, которое проезжают пользователи с подпиской за одну поездку на самокате, не превышает оптимальное с точки зрения износа самоката расстояние в 3 км 130 м.\n",
    "\n",
    "Выручка от пользователей без подписки за 2021 год составила 2 млн. 234 тыс. руб., от подписчиков — 1 млн. 644 тыс. руб. Помесячная средняя выручка от пользователей с подпиской составляет 363 руб., что на 34 руб. больше, чем от пользователей без подписки. Помесячная медианная выручка от пользователей с подпиской составляет 337 руб., что на 63 руб. больше, чем от пользователей без подписки. Можно говорить о том, что общая выручка от пользователей без подписки выше за счёт большей численности таких пользователей и большего числа совершённых ими поездок. Однако помесячная средняя и медианная выручка выше от пользователей с подпиской, чем от пользователей без неё. Для увеличения доходов компании стоит привлекать большее число пользователей с подпиской.\n",
    "\n",
    "Результаты исследования могут способствовать развитию сервиса аренды самокатов."
   ]
  },
  {
   "cell_type": "markdown",
   "metadata": {},
   "source": [
    "<div class=\"alert alert-block alert-success\">✔️\n",
    "    \n",
    "\n",
    "__Комментарий от ревьюера №1__\n",
    "\n",
    "Итоговый вывод завершает твое исследование. Представлены основные результаты полученные в ходе анализа, но самое главное - даны рекомендации заказчику. Это важное качество для аналитика. Развивай его и дальше\n",
    "</div>"
   ]
  },
  {
   "cell_type": "markdown",
   "metadata": {},
   "source": [
    "<div class=\"alert alert-info\"> \n",
    "    \n",
    "<b>Комментарий студента</b> \n",
    "    \n",
    "<b>Привет, Александр! Большое спасибо за полезные и приятные комментарии :)</b>\n",
    "\n",
    "</div>"
   ]
  },
  {
   "cell_type": "markdown",
   "metadata": {},
   "source": [
    "<div class=\"alert alert-block alert-success\">✔️\n",
    "    \n",
    "\n",
    "__Комментарий от ревьюера №2__\n",
    "\n",
    "Диана, это тебе спасибо за обратную связь и классный проект ^^"
   ]
  },
  {
   "cell_type": "markdown",
   "metadata": {},
   "source": [
    "<div class=\"alert alert-block alert-warning\">📝\n",
    "Комментарий от ревьюера №1 </b> \n",
    "\n",
    "\n",
    "\n",
    "У тебя получилась очень сильная и хорошая работа. Здорово, что расчеты ты сопровождаешь иллюстрациями, а так же не забываешь про комментарии, твой проект интересно проверять. \n",
    "\n",
    "---\n",
    "\n",
    "Нужно поправить:\n",
    "\n",
    "\n",
    "1) Проверка  датафреймов до/после работы с ними\n",
    "\n",
    "2) Округление\n",
    "\n",
    "\n",
    "Если у тебя будут какие-то вопросы по моим комментариям - обязательно пиши! Буду ждать работу на повторное ревью :)</div>"
   ]
  },
  {
   "cell_type": "markdown",
   "metadata": {},
   "source": [
    "<div style=\"border:solid blue 3px; padding: 20px\">\n",
    "<div class=\"alert alert-block alert-success\">✔️\n",
    "    \n",
    "\n",
    "__Коментарий от ревьюера №2__\n",
    "\n",
    "\n",
    "В остальном всё чудно😊. Твой проект так и просится на github =)   \n",
    "    \n",
    "Поздравляю с успешным завершением проекта 😊👍\n",
    "И желаю успехов в новых работах 😊\n",
    "    \n",
    "---\n",
    "    \n",
    "От себя хочу порекомендовать тебе отличный метариал по статистике. \n",
    "    \n",
    "* Курс \"Вероятность и статистика\" | Глеб Михайлов (free): https://www.youtube.com/playlist?list=PLQJ7ptkRY-xbHLLI66KdscKp_FJt0FsIi\n",
    "    \n",
    "* Методы обнаружения выбросов: https://youtu.be/TOK7Kq7x0yc\n",
    "    \n",
    "\n",
    "</div>"
   ]
  }
 ],
 "metadata": {
  "ExecuteTimeLog": [
   {
    "duration": 1242,
    "start_time": "2024-05-15T19:22:49.700Z"
   },
   {
    "duration": 218,
    "start_time": "2024-05-15T19:22:50.944Z"
   },
   {
    "duration": 15,
    "start_time": "2024-05-15T19:22:51.164Z"
   },
   {
    "duration": 8,
    "start_time": "2024-05-15T19:22:51.182Z"
   },
   {
    "duration": 20,
    "start_time": "2024-05-15T19:22:51.191Z"
   },
   {
    "duration": 25,
    "start_time": "2024-05-15T19:22:51.212Z"
   },
   {
    "duration": 12,
    "start_time": "2024-05-15T19:22:51.239Z"
   },
   {
    "duration": 14,
    "start_time": "2024-05-15T19:22:51.253Z"
   },
   {
    "duration": 10,
    "start_time": "2024-05-15T19:22:51.269Z"
   },
   {
    "duration": 22,
    "start_time": "2024-05-15T19:22:51.281Z"
   },
   {
    "duration": 20,
    "start_time": "2024-05-15T19:22:51.304Z"
   },
   {
    "duration": 13,
    "start_time": "2024-05-15T19:22:51.325Z"
   },
   {
    "duration": 3,
    "start_time": "2024-05-15T19:22:51.340Z"
   },
   {
    "duration": 8,
    "start_time": "2024-05-15T19:22:51.345Z"
   },
   {
    "duration": 7,
    "start_time": "2024-05-15T19:22:51.355Z"
   },
   {
    "duration": 17,
    "start_time": "2024-05-15T19:22:51.364Z"
   },
   {
    "duration": 10,
    "start_time": "2024-05-15T19:22:51.382Z"
   },
   {
    "duration": 5,
    "start_time": "2024-05-15T19:22:51.394Z"
   },
   {
    "duration": 31,
    "start_time": "2024-05-15T19:22:51.400Z"
   },
   {
    "duration": 15,
    "start_time": "2024-05-15T19:22:51.433Z"
   },
   {
    "duration": 6,
    "start_time": "2024-05-15T19:22:51.449Z"
   },
   {
    "duration": 21,
    "start_time": "2024-05-15T19:22:51.457Z"
   },
   {
    "duration": 13,
    "start_time": "2024-05-15T19:22:51.479Z"
   },
   {
    "duration": 177,
    "start_time": "2024-05-15T19:22:51.493Z"
   },
   {
    "duration": 7,
    "start_time": "2024-05-15T19:22:51.672Z"
   },
   {
    "duration": 92,
    "start_time": "2024-05-15T19:22:51.681Z"
   },
   {
    "duration": 136,
    "start_time": "2024-05-15T19:22:51.774Z"
   },
   {
    "duration": 5,
    "start_time": "2024-05-15T19:22:51.914Z"
   },
   {
    "duration": 145,
    "start_time": "2024-05-15T19:22:51.921Z"
   },
   {
    "duration": 151,
    "start_time": "2024-05-15T19:22:52.068Z"
   },
   {
    "duration": 176,
    "start_time": "2024-05-15T19:22:52.220Z"
   },
   {
    "duration": 151,
    "start_time": "2024-05-15T19:22:52.398Z"
   },
   {
    "duration": 16,
    "start_time": "2024-05-15T19:22:52.551Z"
   },
   {
    "duration": 14,
    "start_time": "2024-05-15T19:22:52.568Z"
   },
   {
    "duration": 6,
    "start_time": "2024-05-15T19:22:52.583Z"
   },
   {
    "duration": 217,
    "start_time": "2024-05-15T19:22:52.591Z"
   },
   {
    "duration": 25,
    "start_time": "2024-05-15T19:22:52.809Z"
   },
   {
    "duration": 30,
    "start_time": "2024-05-15T19:22:52.836Z"
   },
   {
    "duration": 13,
    "start_time": "2024-05-15T19:22:52.867Z"
   },
   {
    "duration": 211,
    "start_time": "2024-05-15T19:22:52.882Z"
   },
   {
    "duration": 172,
    "start_time": "2024-05-15T19:22:53.095Z"
   },
   {
    "duration": 145,
    "start_time": "2024-05-15T19:22:53.268Z"
   },
   {
    "duration": 168,
    "start_time": "2024-05-15T19:22:53.415Z"
   },
   {
    "duration": 139,
    "start_time": "2024-05-15T19:22:53.585Z"
   },
   {
    "duration": 194,
    "start_time": "2024-05-15T19:22:53.726Z"
   },
   {
    "duration": 146,
    "start_time": "2024-05-15T19:22:53.921Z"
   },
   {
    "duration": 199,
    "start_time": "2024-05-15T19:22:54.068Z"
   },
   {
    "duration": 762,
    "start_time": "2024-05-15T19:22:54.268Z"
   },
   {
    "duration": 7,
    "start_time": "2024-05-15T19:22:55.032Z"
   },
   {
    "duration": 140,
    "start_time": "2024-05-15T19:22:55.041Z"
   },
   {
    "duration": 27,
    "start_time": "2024-05-15T19:22:55.182Z"
   },
   {
    "duration": 5,
    "start_time": "2024-05-15T19:22:55.210Z"
   },
   {
    "duration": 8,
    "start_time": "2024-05-15T19:22:55.216Z"
   },
   {
    "duration": 13,
    "start_time": "2024-05-15T19:22:55.225Z"
   },
   {
    "duration": 135,
    "start_time": "2024-05-15T19:27:02.790Z"
   },
   {
    "duration": 125,
    "start_time": "2024-05-15T19:27:03.885Z"
   },
   {
    "duration": 1287,
    "start_time": "2024-05-17T11:29:12.992Z"
   },
   {
    "duration": 199,
    "start_time": "2024-05-17T11:29:14.281Z"
   },
   {
    "duration": 12,
    "start_time": "2024-05-17T11:29:14.482Z"
   },
   {
    "duration": 12,
    "start_time": "2024-05-17T11:29:14.496Z"
   },
   {
    "duration": 12,
    "start_time": "2024-05-17T11:29:14.509Z"
   },
   {
    "duration": 13,
    "start_time": "2024-05-17T11:29:14.523Z"
   },
   {
    "duration": 14,
    "start_time": "2024-05-17T11:29:14.537Z"
   },
   {
    "duration": 8,
    "start_time": "2024-05-17T11:29:14.552Z"
   },
   {
    "duration": 18,
    "start_time": "2024-05-17T11:29:14.561Z"
   },
   {
    "duration": 9,
    "start_time": "2024-05-17T11:29:14.582Z"
   },
   {
    "duration": 6,
    "start_time": "2024-05-17T11:29:14.592Z"
   },
   {
    "duration": 11,
    "start_time": "2024-05-17T11:29:14.600Z"
   },
   {
    "duration": 15,
    "start_time": "2024-05-17T11:29:14.612Z"
   },
   {
    "duration": 25,
    "start_time": "2024-05-17T11:29:14.628Z"
   },
   {
    "duration": 20,
    "start_time": "2024-05-17T11:29:14.654Z"
   },
   {
    "duration": 22,
    "start_time": "2024-05-17T11:29:14.675Z"
   },
   {
    "duration": 11,
    "start_time": "2024-05-17T11:29:14.698Z"
   },
   {
    "duration": 15,
    "start_time": "2024-05-17T11:29:14.710Z"
   },
   {
    "duration": 5,
    "start_time": "2024-05-17T11:29:14.726Z"
   },
   {
    "duration": 8,
    "start_time": "2024-05-17T11:29:14.732Z"
   },
   {
    "duration": 4,
    "start_time": "2024-05-17T11:29:14.741Z"
   },
   {
    "duration": 12,
    "start_time": "2024-05-17T11:29:14.746Z"
   },
   {
    "duration": 8,
    "start_time": "2024-05-17T11:29:14.760Z"
   },
   {
    "duration": 197,
    "start_time": "2024-05-17T11:29:14.769Z"
   },
   {
    "duration": 7,
    "start_time": "2024-05-17T11:29:14.967Z"
   },
   {
    "duration": 87,
    "start_time": "2024-05-17T11:29:14.975Z"
   },
   {
    "duration": 133,
    "start_time": "2024-05-17T11:29:15.064Z"
   },
   {
    "duration": 12,
    "start_time": "2024-05-17T11:29:15.201Z"
   },
   {
    "duration": 162,
    "start_time": "2024-05-17T11:29:15.214Z"
   },
   {
    "duration": 149,
    "start_time": "2024-05-17T11:29:15.378Z"
   },
   {
    "duration": 167,
    "start_time": "2024-05-17T11:29:15.529Z"
   },
   {
    "duration": 150,
    "start_time": "2024-05-17T11:29:15.698Z"
   },
   {
    "duration": 5,
    "start_time": "2024-05-17T11:29:15.850Z"
   },
   {
    "duration": 12,
    "start_time": "2024-05-17T11:29:15.857Z"
   },
   {
    "duration": 8,
    "start_time": "2024-05-17T11:29:15.870Z"
   },
   {
    "duration": 190,
    "start_time": "2024-05-17T11:29:15.879Z"
   },
   {
    "duration": 3,
    "start_time": "2024-05-17T11:29:16.070Z"
   },
   {
    "duration": 4,
    "start_time": "2024-05-17T11:29:16.074Z"
   },
   {
    "duration": 4,
    "start_time": "2024-05-17T11:29:16.079Z"
   },
   {
    "duration": 39,
    "start_time": "2024-05-17T11:29:16.084Z"
   },
   {
    "duration": 17,
    "start_time": "2024-05-17T11:29:16.125Z"
   },
   {
    "duration": 44,
    "start_time": "2024-05-17T11:29:16.144Z"
   },
   {
    "duration": 6,
    "start_time": "2024-05-17T11:29:16.189Z"
   },
   {
    "duration": 71,
    "start_time": "2024-05-17T11:29:16.197Z"
   },
   {
    "duration": 3,
    "start_time": "2024-05-17T11:29:16.269Z"
   },
   {
    "duration": 140,
    "start_time": "2024-05-17T11:29:16.274Z"
   },
   {
    "duration": 169,
    "start_time": "2024-05-17T11:29:16.416Z"
   },
   {
    "duration": 135,
    "start_time": "2024-05-17T11:29:16.586Z"
   },
   {
    "duration": 161,
    "start_time": "2024-05-17T11:29:16.723Z"
   },
   {
    "duration": 140,
    "start_time": "2024-05-17T11:29:16.886Z"
   },
   {
    "duration": 171,
    "start_time": "2024-05-17T11:29:17.027Z"
   },
   {
    "duration": 142,
    "start_time": "2024-05-17T11:29:17.199Z"
   },
   {
    "duration": 174,
    "start_time": "2024-05-17T11:29:17.343Z"
   },
   {
    "duration": 7,
    "start_time": "2024-05-17T11:29:17.518Z"
   },
   {
    "duration": 23,
    "start_time": "2024-05-17T11:29:17.527Z"
   },
   {
    "duration": 908,
    "start_time": "2024-05-17T11:29:17.551Z"
   },
   {
    "duration": 6,
    "start_time": "2024-05-17T11:29:18.461Z"
   },
   {
    "duration": 156,
    "start_time": "2024-05-17T11:29:18.469Z"
   },
   {
    "duration": 29,
    "start_time": "2024-05-17T11:29:18.626Z"
   },
   {
    "duration": 6,
    "start_time": "2024-05-17T11:29:18.657Z"
   },
   {
    "duration": 7,
    "start_time": "2024-05-17T11:29:18.664Z"
   },
   {
    "duration": 12,
    "start_time": "2024-05-17T11:29:18.673Z"
   },
   {
    "duration": 1185,
    "start_time": "2024-05-17T14:49:12.232Z"
   },
   {
    "duration": 71,
    "start_time": "2024-05-17T14:49:13.419Z"
   },
   {
    "duration": 15,
    "start_time": "2024-05-17T14:49:13.491Z"
   },
   {
    "duration": 21,
    "start_time": "2024-05-17T14:49:13.508Z"
   },
   {
    "duration": 41,
    "start_time": "2024-05-17T14:49:13.531Z"
   },
   {
    "duration": 36,
    "start_time": "2024-05-17T14:49:13.573Z"
   },
   {
    "duration": 19,
    "start_time": "2024-05-17T14:49:13.611Z"
   },
   {
    "duration": 32,
    "start_time": "2024-05-17T14:49:13.632Z"
   },
   {
    "duration": 18,
    "start_time": "2024-05-17T14:49:13.666Z"
   },
   {
    "duration": 29,
    "start_time": "2024-05-17T14:49:13.687Z"
   },
   {
    "duration": 35,
    "start_time": "2024-05-17T14:49:13.717Z"
   },
   {
    "duration": 35,
    "start_time": "2024-05-17T14:49:13.753Z"
   },
   {
    "duration": 24,
    "start_time": "2024-05-17T14:49:13.790Z"
   },
   {
    "duration": 21,
    "start_time": "2024-05-17T14:49:13.816Z"
   },
   {
    "duration": 37,
    "start_time": "2024-05-17T14:49:13.839Z"
   },
   {
    "duration": 18,
    "start_time": "2024-05-17T14:49:13.877Z"
   },
   {
    "duration": 17,
    "start_time": "2024-05-17T14:49:13.897Z"
   },
   {
    "duration": 23,
    "start_time": "2024-05-17T14:49:13.917Z"
   },
   {
    "duration": 27,
    "start_time": "2024-05-17T14:49:13.942Z"
   },
   {
    "duration": 42,
    "start_time": "2024-05-17T14:49:13.971Z"
   },
   {
    "duration": 5,
    "start_time": "2024-05-17T14:49:14.014Z"
   },
   {
    "duration": 34,
    "start_time": "2024-05-17T14:49:14.021Z"
   },
   {
    "duration": 37,
    "start_time": "2024-05-17T14:49:14.057Z"
   },
   {
    "duration": 204,
    "start_time": "2024-05-17T14:49:14.095Z"
   },
   {
    "duration": 12,
    "start_time": "2024-05-17T14:49:14.301Z"
   },
   {
    "duration": 106,
    "start_time": "2024-05-17T14:49:14.315Z"
   },
   {
    "duration": 137,
    "start_time": "2024-05-17T14:49:14.423Z"
   },
   {
    "duration": 5,
    "start_time": "2024-05-17T14:49:14.564Z"
   },
   {
    "duration": 175,
    "start_time": "2024-05-17T14:49:14.571Z"
   },
   {
    "duration": 181,
    "start_time": "2024-05-17T14:49:14.747Z"
   },
   {
    "duration": 195,
    "start_time": "2024-05-17T14:49:14.930Z"
   },
   {
    "duration": 174,
    "start_time": "2024-05-17T14:49:15.126Z"
   },
   {
    "duration": 8,
    "start_time": "2024-05-17T14:49:15.301Z"
   },
   {
    "duration": 65,
    "start_time": "2024-05-17T14:49:15.310Z"
   },
   {
    "duration": 40,
    "start_time": "2024-05-17T14:49:15.376Z"
   },
   {
    "duration": 240,
    "start_time": "2024-05-17T14:49:15.418Z"
   },
   {
    "duration": 5,
    "start_time": "2024-05-17T14:49:15.661Z"
   },
   {
    "duration": 13,
    "start_time": "2024-05-17T14:49:15.667Z"
   },
   {
    "duration": 20,
    "start_time": "2024-05-17T14:49:15.681Z"
   },
   {
    "duration": 31,
    "start_time": "2024-05-17T14:49:15.703Z"
   },
   {
    "duration": 4,
    "start_time": "2024-05-17T14:49:15.736Z"
   },
   {
    "duration": 26,
    "start_time": "2024-05-17T14:49:15.742Z"
   },
   {
    "duration": 4,
    "start_time": "2024-05-17T14:49:15.770Z"
   },
   {
    "duration": 126,
    "start_time": "2024-05-17T14:49:15.775Z"
   },
   {
    "duration": 5,
    "start_time": "2024-05-17T14:49:15.903Z"
   },
   {
    "duration": 168,
    "start_time": "2024-05-17T14:49:15.911Z"
   },
   {
    "duration": 193,
    "start_time": "2024-05-17T14:49:16.080Z"
   },
   {
    "duration": 142,
    "start_time": "2024-05-17T14:49:16.275Z"
   },
   {
    "duration": 180,
    "start_time": "2024-05-17T14:49:16.419Z"
   },
   {
    "duration": 161,
    "start_time": "2024-05-17T14:49:16.601Z"
   },
   {
    "duration": 186,
    "start_time": "2024-05-17T14:49:16.763Z"
   },
   {
    "duration": 167,
    "start_time": "2024-05-17T14:49:16.951Z"
   },
   {
    "duration": 195,
    "start_time": "2024-05-17T14:49:17.129Z"
   },
   {
    "duration": 12,
    "start_time": "2024-05-17T14:49:17.326Z"
   },
   {
    "duration": 16,
    "start_time": "2024-05-17T14:49:17.339Z"
   },
   {
    "duration": 887,
    "start_time": "2024-05-17T14:49:17.356Z"
   },
   {
    "duration": 10,
    "start_time": "2024-05-17T14:49:18.244Z"
   },
   {
    "duration": 179,
    "start_time": "2024-05-17T14:49:18.255Z"
   },
   {
    "duration": 33,
    "start_time": "2024-05-17T14:49:18.436Z"
   },
   {
    "duration": 7,
    "start_time": "2024-05-17T14:49:18.471Z"
   },
   {
    "duration": 39,
    "start_time": "2024-05-17T14:49:18.479Z"
   },
   {
    "duration": 21,
    "start_time": "2024-05-17T14:49:18.519Z"
   }
  ],
  "colab": {
   "provenance": []
  },
  "kernelspec": {
   "display_name": "Python 3 (ipykernel)",
   "language": "python",
   "name": "python3"
  },
  "language_info": {
   "codemirror_mode": {
    "name": "ipython",
    "version": 3
   },
   "file_extension": ".py",
   "mimetype": "text/x-python",
   "name": "python",
   "nbconvert_exporter": "python",
   "pygments_lexer": "ipython3",
   "version": "3.9.5"
  },
  "toc": {
   "base_numbering": 1,
   "nav_menu": {},
   "number_sections": true,
   "sideBar": true,
   "skip_h1_title": true,
   "title_cell": "Table of Contents",
   "title_sidebar": "Contents",
   "toc_cell": false,
   "toc_position": {},
   "toc_section_display": true,
   "toc_window_display": true
  }
 },
 "nbformat": 4,
 "nbformat_minor": 1
}

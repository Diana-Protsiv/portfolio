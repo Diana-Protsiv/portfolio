{
 "cells": [
  {
   "cell_type": "markdown",
   "id": "4f11de00",
   "metadata": {
    "deletable": false,
    "editable": false,
    "id": "4f11de00"
   },
   "source": [
    "# Исследование надежности заемщиков"
   ]
  },
  {
   "cell_type": "markdown",
   "id": "f09d6878",
   "metadata": {
    "deletable": false,
    "editable": false,
    "id": "f09d6878"
   },
   "source": [
    "Это первая часть проекта, она будет проверена автоматически. Вторую часть проверит ревьюер. "
   ]
  },
  {
   "cell_type": "markdown",
   "id": "516620ee",
   "metadata": {
    "deletable": false,
    "editable": false,
    "id": "516620ee"
   },
   "source": [
    "## Откройте таблицу и изучите общую информацию о данных"
   ]
  },
  {
   "cell_type": "markdown",
   "id": "76a8a9ce",
   "metadata": {
    "deletable": false,
    "editable": false,
    "id": "76a8a9ce",
    "tags": [
     "start_task"
    ]
   },
   "source": [
    "**Задание 1. Импортируйте библиотеку pandas. Считайте данные из csv-файла в датафрейм и сохраните в переменную `data`. Путь к файлу:**\n",
    "\n",
    "`/datasets/data.csv`"
   ]
  },
  {
   "cell_type": "code",
   "execution_count": 1,
   "id": "fab207d0",
   "metadata": {
    "id": "fab207d0"
   },
   "outputs": [],
   "source": [
    "import pandas as pd # импортируйте библиотеку pandas"
   ]
  },
  {
   "cell_type": "code",
   "execution_count": 2,
   "id": "6c82b607",
   "metadata": {
    "id": "6c82b607"
   },
   "outputs": [],
   "source": [
    "data = pd.read_csv('/datasets/data.csv') # прочитайте csv-файл"
   ]
  },
  {
   "cell_type": "markdown",
   "id": "08bbb5b3",
   "metadata": {
    "deletable": false,
    "editable": false,
    "id": "08bbb5b3",
    "tags": [
     "start_task"
    ]
   },
   "source": [
    "**Задание 2. Выведите первые 20 строчек датафрейма `data` на экран.**"
   ]
  },
  {
   "cell_type": "code",
   "execution_count": 3,
   "id": "4ff33b36",
   "metadata": {
    "id": "4ff33b36"
   },
   "outputs": [
    {
     "data": {
      "text/html": [
       "<div>\n",
       "<style scoped>\n",
       "    .dataframe tbody tr th:only-of-type {\n",
       "        vertical-align: middle;\n",
       "    }\n",
       "\n",
       "    .dataframe tbody tr th {\n",
       "        vertical-align: top;\n",
       "    }\n",
       "\n",
       "    .dataframe thead th {\n",
       "        text-align: right;\n",
       "    }\n",
       "</style>\n",
       "<table border=\"1\" class=\"dataframe\">\n",
       "  <thead>\n",
       "    <tr style=\"text-align: right;\">\n",
       "      <th></th>\n",
       "      <th>children</th>\n",
       "      <th>days_employed</th>\n",
       "      <th>dob_years</th>\n",
       "      <th>education</th>\n",
       "      <th>education_id</th>\n",
       "      <th>family_status</th>\n",
       "      <th>family_status_id</th>\n",
       "      <th>gender</th>\n",
       "      <th>income_type</th>\n",
       "      <th>debt</th>\n",
       "      <th>total_income</th>\n",
       "      <th>purpose</th>\n",
       "    </tr>\n",
       "  </thead>\n",
       "  <tbody>\n",
       "    <tr>\n",
       "      <th>0</th>\n",
       "      <td>1</td>\n",
       "      <td>-8437.673028</td>\n",
       "      <td>42</td>\n",
       "      <td>высшее</td>\n",
       "      <td>0</td>\n",
       "      <td>женат / замужем</td>\n",
       "      <td>0</td>\n",
       "      <td>F</td>\n",
       "      <td>сотрудник</td>\n",
       "      <td>0</td>\n",
       "      <td>253875.639453</td>\n",
       "      <td>покупка жилья</td>\n",
       "    </tr>\n",
       "    <tr>\n",
       "      <th>1</th>\n",
       "      <td>1</td>\n",
       "      <td>-4024.803754</td>\n",
       "      <td>36</td>\n",
       "      <td>среднее</td>\n",
       "      <td>1</td>\n",
       "      <td>женат / замужем</td>\n",
       "      <td>0</td>\n",
       "      <td>F</td>\n",
       "      <td>сотрудник</td>\n",
       "      <td>0</td>\n",
       "      <td>112080.014102</td>\n",
       "      <td>приобретение автомобиля</td>\n",
       "    </tr>\n",
       "    <tr>\n",
       "      <th>2</th>\n",
       "      <td>0</td>\n",
       "      <td>-5623.422610</td>\n",
       "      <td>33</td>\n",
       "      <td>Среднее</td>\n",
       "      <td>1</td>\n",
       "      <td>женат / замужем</td>\n",
       "      <td>0</td>\n",
       "      <td>M</td>\n",
       "      <td>сотрудник</td>\n",
       "      <td>0</td>\n",
       "      <td>145885.952297</td>\n",
       "      <td>покупка жилья</td>\n",
       "    </tr>\n",
       "    <tr>\n",
       "      <th>3</th>\n",
       "      <td>3</td>\n",
       "      <td>-4124.747207</td>\n",
       "      <td>32</td>\n",
       "      <td>среднее</td>\n",
       "      <td>1</td>\n",
       "      <td>женат / замужем</td>\n",
       "      <td>0</td>\n",
       "      <td>M</td>\n",
       "      <td>сотрудник</td>\n",
       "      <td>0</td>\n",
       "      <td>267628.550329</td>\n",
       "      <td>дополнительное образование</td>\n",
       "    </tr>\n",
       "    <tr>\n",
       "      <th>4</th>\n",
       "      <td>0</td>\n",
       "      <td>340266.072047</td>\n",
       "      <td>53</td>\n",
       "      <td>среднее</td>\n",
       "      <td>1</td>\n",
       "      <td>гражданский брак</td>\n",
       "      <td>1</td>\n",
       "      <td>F</td>\n",
       "      <td>пенсионер</td>\n",
       "      <td>0</td>\n",
       "      <td>158616.077870</td>\n",
       "      <td>сыграть свадьбу</td>\n",
       "    </tr>\n",
       "    <tr>\n",
       "      <th>5</th>\n",
       "      <td>0</td>\n",
       "      <td>-926.185831</td>\n",
       "      <td>27</td>\n",
       "      <td>высшее</td>\n",
       "      <td>0</td>\n",
       "      <td>гражданский брак</td>\n",
       "      <td>1</td>\n",
       "      <td>M</td>\n",
       "      <td>компаньон</td>\n",
       "      <td>0</td>\n",
       "      <td>255763.565419</td>\n",
       "      <td>покупка жилья</td>\n",
       "    </tr>\n",
       "    <tr>\n",
       "      <th>6</th>\n",
       "      <td>0</td>\n",
       "      <td>-2879.202052</td>\n",
       "      <td>43</td>\n",
       "      <td>высшее</td>\n",
       "      <td>0</td>\n",
       "      <td>женат / замужем</td>\n",
       "      <td>0</td>\n",
       "      <td>F</td>\n",
       "      <td>компаньон</td>\n",
       "      <td>0</td>\n",
       "      <td>240525.971920</td>\n",
       "      <td>операции с жильем</td>\n",
       "    </tr>\n",
       "    <tr>\n",
       "      <th>7</th>\n",
       "      <td>0</td>\n",
       "      <td>-152.779569</td>\n",
       "      <td>50</td>\n",
       "      <td>СРЕДНЕЕ</td>\n",
       "      <td>1</td>\n",
       "      <td>женат / замужем</td>\n",
       "      <td>0</td>\n",
       "      <td>M</td>\n",
       "      <td>сотрудник</td>\n",
       "      <td>0</td>\n",
       "      <td>135823.934197</td>\n",
       "      <td>образование</td>\n",
       "    </tr>\n",
       "    <tr>\n",
       "      <th>8</th>\n",
       "      <td>2</td>\n",
       "      <td>-6929.865299</td>\n",
       "      <td>35</td>\n",
       "      <td>ВЫСШЕЕ</td>\n",
       "      <td>0</td>\n",
       "      <td>гражданский брак</td>\n",
       "      <td>1</td>\n",
       "      <td>F</td>\n",
       "      <td>сотрудник</td>\n",
       "      <td>0</td>\n",
       "      <td>95856.832424</td>\n",
       "      <td>на проведение свадьбы</td>\n",
       "    </tr>\n",
       "    <tr>\n",
       "      <th>9</th>\n",
       "      <td>0</td>\n",
       "      <td>-2188.756445</td>\n",
       "      <td>41</td>\n",
       "      <td>среднее</td>\n",
       "      <td>1</td>\n",
       "      <td>женат / замужем</td>\n",
       "      <td>0</td>\n",
       "      <td>M</td>\n",
       "      <td>сотрудник</td>\n",
       "      <td>0</td>\n",
       "      <td>144425.938277</td>\n",
       "      <td>покупка жилья для семьи</td>\n",
       "    </tr>\n",
       "    <tr>\n",
       "      <th>10</th>\n",
       "      <td>2</td>\n",
       "      <td>-4171.483647</td>\n",
       "      <td>36</td>\n",
       "      <td>высшее</td>\n",
       "      <td>0</td>\n",
       "      <td>женат / замужем</td>\n",
       "      <td>0</td>\n",
       "      <td>M</td>\n",
       "      <td>компаньон</td>\n",
       "      <td>0</td>\n",
       "      <td>113943.491460</td>\n",
       "      <td>покупка недвижимости</td>\n",
       "    </tr>\n",
       "    <tr>\n",
       "      <th>11</th>\n",
       "      <td>0</td>\n",
       "      <td>-792.701887</td>\n",
       "      <td>40</td>\n",
       "      <td>среднее</td>\n",
       "      <td>1</td>\n",
       "      <td>женат / замужем</td>\n",
       "      <td>0</td>\n",
       "      <td>F</td>\n",
       "      <td>сотрудник</td>\n",
       "      <td>0</td>\n",
       "      <td>77069.234271</td>\n",
       "      <td>покупка коммерческой недвижимости</td>\n",
       "    </tr>\n",
       "    <tr>\n",
       "      <th>12</th>\n",
       "      <td>0</td>\n",
       "      <td>NaN</td>\n",
       "      <td>65</td>\n",
       "      <td>среднее</td>\n",
       "      <td>1</td>\n",
       "      <td>гражданский брак</td>\n",
       "      <td>1</td>\n",
       "      <td>M</td>\n",
       "      <td>пенсионер</td>\n",
       "      <td>0</td>\n",
       "      <td>NaN</td>\n",
       "      <td>сыграть свадьбу</td>\n",
       "    </tr>\n",
       "    <tr>\n",
       "      <th>13</th>\n",
       "      <td>0</td>\n",
       "      <td>-1846.641941</td>\n",
       "      <td>54</td>\n",
       "      <td>неоконченное высшее</td>\n",
       "      <td>2</td>\n",
       "      <td>женат / замужем</td>\n",
       "      <td>0</td>\n",
       "      <td>F</td>\n",
       "      <td>сотрудник</td>\n",
       "      <td>0</td>\n",
       "      <td>130458.228857</td>\n",
       "      <td>приобретение автомобиля</td>\n",
       "    </tr>\n",
       "    <tr>\n",
       "      <th>14</th>\n",
       "      <td>0</td>\n",
       "      <td>-1844.956182</td>\n",
       "      <td>56</td>\n",
       "      <td>высшее</td>\n",
       "      <td>0</td>\n",
       "      <td>гражданский брак</td>\n",
       "      <td>1</td>\n",
       "      <td>F</td>\n",
       "      <td>компаньон</td>\n",
       "      <td>1</td>\n",
       "      <td>165127.911772</td>\n",
       "      <td>покупка жилой недвижимости</td>\n",
       "    </tr>\n",
       "    <tr>\n",
       "      <th>15</th>\n",
       "      <td>1</td>\n",
       "      <td>-972.364419</td>\n",
       "      <td>26</td>\n",
       "      <td>среднее</td>\n",
       "      <td>1</td>\n",
       "      <td>женат / замужем</td>\n",
       "      <td>0</td>\n",
       "      <td>F</td>\n",
       "      <td>сотрудник</td>\n",
       "      <td>0</td>\n",
       "      <td>116820.904450</td>\n",
       "      <td>строительство собственной недвижимости</td>\n",
       "    </tr>\n",
       "    <tr>\n",
       "      <th>16</th>\n",
       "      <td>0</td>\n",
       "      <td>-1719.934226</td>\n",
       "      <td>35</td>\n",
       "      <td>среднее</td>\n",
       "      <td>1</td>\n",
       "      <td>женат / замужем</td>\n",
       "      <td>0</td>\n",
       "      <td>F</td>\n",
       "      <td>сотрудник</td>\n",
       "      <td>0</td>\n",
       "      <td>289202.704229</td>\n",
       "      <td>недвижимость</td>\n",
       "    </tr>\n",
       "    <tr>\n",
       "      <th>17</th>\n",
       "      <td>0</td>\n",
       "      <td>-2369.999720</td>\n",
       "      <td>33</td>\n",
       "      <td>высшее</td>\n",
       "      <td>0</td>\n",
       "      <td>гражданский брак</td>\n",
       "      <td>1</td>\n",
       "      <td>M</td>\n",
       "      <td>сотрудник</td>\n",
       "      <td>0</td>\n",
       "      <td>90410.586745</td>\n",
       "      <td>строительство недвижимости</td>\n",
       "    </tr>\n",
       "    <tr>\n",
       "      <th>18</th>\n",
       "      <td>0</td>\n",
       "      <td>400281.136913</td>\n",
       "      <td>53</td>\n",
       "      <td>среднее</td>\n",
       "      <td>1</td>\n",
       "      <td>вдовец / вдова</td>\n",
       "      <td>2</td>\n",
       "      <td>F</td>\n",
       "      <td>пенсионер</td>\n",
       "      <td>0</td>\n",
       "      <td>56823.777243</td>\n",
       "      <td>на покупку подержанного автомобиля</td>\n",
       "    </tr>\n",
       "    <tr>\n",
       "      <th>19</th>\n",
       "      <td>0</td>\n",
       "      <td>-10038.818549</td>\n",
       "      <td>48</td>\n",
       "      <td>СРЕДНЕЕ</td>\n",
       "      <td>1</td>\n",
       "      <td>в разводе</td>\n",
       "      <td>3</td>\n",
       "      <td>F</td>\n",
       "      <td>сотрудник</td>\n",
       "      <td>0</td>\n",
       "      <td>242831.107982</td>\n",
       "      <td>на покупку своего автомобиля</td>\n",
       "    </tr>\n",
       "  </tbody>\n",
       "</table>\n",
       "</div>"
      ],
      "text/plain": [
       "    children  days_employed  dob_years            education  education_id  \\\n",
       "0          1   -8437.673028         42               высшее             0   \n",
       "1          1   -4024.803754         36              среднее             1   \n",
       "2          0   -5623.422610         33              Среднее             1   \n",
       "3          3   -4124.747207         32              среднее             1   \n",
       "4          0  340266.072047         53              среднее             1   \n",
       "5          0    -926.185831         27               высшее             0   \n",
       "6          0   -2879.202052         43               высшее             0   \n",
       "7          0    -152.779569         50              СРЕДНЕЕ             1   \n",
       "8          2   -6929.865299         35               ВЫСШЕЕ             0   \n",
       "9          0   -2188.756445         41              среднее             1   \n",
       "10         2   -4171.483647         36               высшее             0   \n",
       "11         0    -792.701887         40              среднее             1   \n",
       "12         0            NaN         65              среднее             1   \n",
       "13         0   -1846.641941         54  неоконченное высшее             2   \n",
       "14         0   -1844.956182         56               высшее             0   \n",
       "15         1    -972.364419         26              среднее             1   \n",
       "16         0   -1719.934226         35              среднее             1   \n",
       "17         0   -2369.999720         33               высшее             0   \n",
       "18         0  400281.136913         53              среднее             1   \n",
       "19         0  -10038.818549         48              СРЕДНЕЕ             1   \n",
       "\n",
       "       family_status  family_status_id gender income_type  debt  \\\n",
       "0    женат / замужем                 0      F   сотрудник     0   \n",
       "1    женат / замужем                 0      F   сотрудник     0   \n",
       "2    женат / замужем                 0      M   сотрудник     0   \n",
       "3    женат / замужем                 0      M   сотрудник     0   \n",
       "4   гражданский брак                 1      F   пенсионер     0   \n",
       "5   гражданский брак                 1      M   компаньон     0   \n",
       "6    женат / замужем                 0      F   компаньон     0   \n",
       "7    женат / замужем                 0      M   сотрудник     0   \n",
       "8   гражданский брак                 1      F   сотрудник     0   \n",
       "9    женат / замужем                 0      M   сотрудник     0   \n",
       "10   женат / замужем                 0      M   компаньон     0   \n",
       "11   женат / замужем                 0      F   сотрудник     0   \n",
       "12  гражданский брак                 1      M   пенсионер     0   \n",
       "13   женат / замужем                 0      F   сотрудник     0   \n",
       "14  гражданский брак                 1      F   компаньон     1   \n",
       "15   женат / замужем                 0      F   сотрудник     0   \n",
       "16   женат / замужем                 0      F   сотрудник     0   \n",
       "17  гражданский брак                 1      M   сотрудник     0   \n",
       "18    вдовец / вдова                 2      F   пенсионер     0   \n",
       "19         в разводе                 3      F   сотрудник     0   \n",
       "\n",
       "     total_income                                 purpose  \n",
       "0   253875.639453                           покупка жилья  \n",
       "1   112080.014102                 приобретение автомобиля  \n",
       "2   145885.952297                           покупка жилья  \n",
       "3   267628.550329              дополнительное образование  \n",
       "4   158616.077870                         сыграть свадьбу  \n",
       "5   255763.565419                           покупка жилья  \n",
       "6   240525.971920                       операции с жильем  \n",
       "7   135823.934197                             образование  \n",
       "8    95856.832424                   на проведение свадьбы  \n",
       "9   144425.938277                 покупка жилья для семьи  \n",
       "10  113943.491460                    покупка недвижимости  \n",
       "11   77069.234271       покупка коммерческой недвижимости  \n",
       "12            NaN                         сыграть свадьбу  \n",
       "13  130458.228857                 приобретение автомобиля  \n",
       "14  165127.911772              покупка жилой недвижимости  \n",
       "15  116820.904450  строительство собственной недвижимости  \n",
       "16  289202.704229                            недвижимость  \n",
       "17   90410.586745              строительство недвижимости  \n",
       "18   56823.777243      на покупку подержанного автомобиля  \n",
       "19  242831.107982            на покупку своего автомобиля  "
      ]
     },
     "execution_count": 3,
     "metadata": {},
     "output_type": "execute_result"
    }
   ],
   "source": [
    "data.head(20) # ваш код здесь"
   ]
  },
  {
   "cell_type": "markdown",
   "id": "c8f382ae",
   "metadata": {
    "deletable": false,
    "editable": false,
    "id": "c8f382ae",
    "tags": [
     "start_task"
    ]
   },
   "source": [
    "**Задание 3. Выведите основную информацию о датафрейме с помощью метода `info()`.**"
   ]
  },
  {
   "cell_type": "code",
   "execution_count": 4,
   "id": "e1ed9908",
   "metadata": {
    "id": "e1ed9908"
   },
   "outputs": [
    {
     "name": "stdout",
     "output_type": "stream",
     "text": [
      "<class 'pandas.core.frame.DataFrame'>\n",
      "RangeIndex: 21525 entries, 0 to 21524\n",
      "Data columns (total 12 columns):\n",
      " #   Column            Non-Null Count  Dtype  \n",
      "---  ------            --------------  -----  \n",
      " 0   children          21525 non-null  int64  \n",
      " 1   days_employed     19351 non-null  float64\n",
      " 2   dob_years         21525 non-null  int64  \n",
      " 3   education         21525 non-null  object \n",
      " 4   education_id      21525 non-null  int64  \n",
      " 5   family_status     21525 non-null  object \n",
      " 6   family_status_id  21525 non-null  int64  \n",
      " 7   gender            21525 non-null  object \n",
      " 8   income_type       21525 non-null  object \n",
      " 9   debt              21525 non-null  int64  \n",
      " 10  total_income      19351 non-null  float64\n",
      " 11  purpose           21525 non-null  object \n",
      "dtypes: float64(2), int64(5), object(5)\n",
      "memory usage: 2.0+ MB\n"
     ]
    }
   ],
   "source": [
    "data.info() # ваш код здесь"
   ]
  },
  {
   "cell_type": "markdown",
   "id": "f969a1cd",
   "metadata": {
    "deletable": false,
    "editable": false,
    "id": "f969a1cd"
   },
   "source": [
    "## Предобработка данных"
   ]
  },
  {
   "cell_type": "markdown",
   "id": "7283e864",
   "metadata": {
    "deletable": false,
    "editable": false,
    "id": "7283e864"
   },
   "source": [
    "### Удаление пропусков"
   ]
  },
  {
   "cell_type": "markdown",
   "id": "c9a0745e",
   "metadata": {
    "deletable": false,
    "editable": false,
    "id": "c9a0745e",
    "tags": [
     "start_task"
    ]
   },
   "source": [
    "**Задание 4. Выведите количество пропущенных значений для каждого столбца. Используйте комбинацию двух методов.**"
   ]
  },
  {
   "cell_type": "code",
   "execution_count": 5,
   "id": "b7a096e1",
   "metadata": {
    "id": "b7a096e1"
   },
   "outputs": [
    {
     "data": {
      "text/plain": [
       "children               0\n",
       "days_employed       2174\n",
       "dob_years              0\n",
       "education              0\n",
       "education_id           0\n",
       "family_status          0\n",
       "family_status_id       0\n",
       "gender                 0\n",
       "income_type            0\n",
       "debt                   0\n",
       "total_income        2174\n",
       "purpose                0\n",
       "dtype: int64"
      ]
     },
     "execution_count": 5,
     "metadata": {},
     "output_type": "execute_result"
    }
   ],
   "source": [
    "data.isna().sum() # ваш код здесь"
   ]
  },
  {
   "cell_type": "markdown",
   "id": "c2578616",
   "metadata": {
    "deletable": false,
    "editable": false,
    "id": "c2578616",
    "tags": [
     "start_task"
    ]
   },
   "source": [
    "**Задание 5. В двух столбцах есть пропущенные значения. Один из них — `days_employed`. Пропуски в этом столбце вы обработаете на следующем этапе. Другой столбец с пропущенными значениями — `total_income` — хранит данные о доходах. На сумму дохода сильнее всего влияет тип занятости, поэтому заполнить пропуски в этом столбце нужно медианным значением по каждому типу из столбца `income_type`. Например, у человека с типом занятости `сотрудник` пропуск в столбце `total_income` должен быть заполнен медианным доходом среди всех записей с тем же типом.**"
   ]
  },
  {
   "cell_type": "code",
   "execution_count": 6,
   "id": "e8afc4bc",
   "metadata": {
    "id": "e8afc4bc"
   },
   "outputs": [],
   "source": [
    "for i in data['income_type'].unique():\n",
    "    # на каждом шаге цикла с помощью атрибута loc выбираем строки,\n",
    "    # в которых в income_type текущий тип занятости (i) и есть пропуски в total_income \n",
    "    data.loc[(data['income_type'] == i) & (data['total_income'].isna()), 'total_income'] = \\\n",
    "    data.loc[(data['income_type'] == i), 'total_income'].median()\n",
    "    # и записываем в них медианное значение total_income среди строк с текущим типом занятости (i)"
   ]
  },
  {
   "cell_type": "markdown",
   "id": "ae986d46",
   "metadata": {
    "deletable": false,
    "editable": false,
    "id": "ae986d46"
   },
   "source": [
    "### Обработка аномальных значений"
   ]
  },
  {
   "cell_type": "markdown",
   "id": "b049cbae",
   "metadata": {
    "deletable": false,
    "editable": false,
    "id": "b049cbae",
    "tags": [
     "start_task"
    ]
   },
   "source": [
    "**Задание 6. В данных могут встречаться артефакты (аномалии) — значения, которые не отражают действительность и появились по какой-то ошибке. Таким артефактом будет отрицательное количество дней трудового стажа в столбце `days_employed`. Для реальных данных это нормально. Обработайте значения в этом столбце: замените все отрицательные значения положительными с помощью метода `abs()`.**"
   ]
  },
  {
   "cell_type": "code",
   "execution_count": 7,
   "id": "187779b0",
   "metadata": {
    "id": "187779b0"
   },
   "outputs": [],
   "source": [
    "data['days_employed'] = data['days_employed'].abs() # ваш код здесь"
   ]
  },
  {
   "cell_type": "markdown",
   "id": "a13054c2",
   "metadata": {
    "deletable": false,
    "editable": false,
    "id": "a13054c2",
    "tags": [
     "start_task"
    ]
   },
   "source": [
    "**Задание 7. Для каждого типа занятости выведите медианное значение трудового стажа `days_employed` в днях.**"
   ]
  },
  {
   "cell_type": "code",
   "execution_count": 8,
   "id": "f3f5810c",
   "metadata": {
    "id": "f3f5810c"
   },
   "outputs": [
    {
     "data": {
      "text/plain": [
       "income_type\n",
       "безработный        366413.652744\n",
       "в декрете            3296.759962\n",
       "госслужащий          2689.368353\n",
       "компаньон            1547.382223\n",
       "пенсионер          365213.306266\n",
       "предприниматель       520.848083\n",
       "сотрудник            1574.202821\n",
       "студент               578.751554\n",
       "Name: days_employed, dtype: float64"
      ]
     },
     "execution_count": 8,
     "metadata": {},
     "output_type": "execute_result"
    }
   ],
   "source": [
    "data.groupby('income_type')['days_employed'].median() # ваш код здесь\n",
    "#data.pivot_table(columns='income_type', values='days_employed', aggfunc='median') # другой способ "
   ]
  },
  {
   "cell_type": "markdown",
   "id": "dbc3168c",
   "metadata": {
    "deletable": false,
    "editable": false,
    "id": "dbc3168c"
   },
   "source": [
    "У двух типов (безработные и пенсионеры) получатся аномально большие значения. Исправить такие значения сложно, поэтому оставьте их как есть."
   ]
  },
  {
   "cell_type": "markdown",
   "id": "ff4378c2",
   "metadata": {
    "deletable": false,
    "editable": false,
    "id": "ff4378c2",
    "tags": [
     "start_task"
    ]
   },
   "source": [
    "**Задание 8. Выведите перечень уникальных значений столбца `children`.**"
   ]
  },
  {
   "cell_type": "code",
   "execution_count": 9,
   "id": "9bd0c232",
   "metadata": {
    "id": "9bd0c232"
   },
   "outputs": [
    {
     "data": {
      "text/plain": [
       "array([ 1,  0,  3,  2, -1,  4, 20,  5])"
      ]
     },
     "execution_count": 9,
     "metadata": {},
     "output_type": "execute_result"
    }
   ],
   "source": [
    "data['children'].unique() # ваш код здесь"
   ]
  },
  {
   "cell_type": "markdown",
   "id": "8e911990",
   "metadata": {
    "deletable": false,
    "editable": false,
    "id": "8e911990",
    "tags": [
     "start_task"
    ]
   },
   "source": [
    "**Задание 9. В столбце `children` есть два аномальных значения. Удалите строки, в которых встречаются такие аномальные значения из датафрейма `data`.**"
   ]
  },
  {
   "cell_type": "code",
   "execution_count": 10,
   "id": "6d5ba289",
   "metadata": {
    "id": "6d5ba289"
   },
   "outputs": [],
   "source": [
    "data.drop(data[data['children'] == -1].index, inplace=True) # ваш код здесь\n",
    "data.drop(data[data['children'] == 20].index, inplace=True)"
   ]
  },
  {
   "cell_type": "markdown",
   "id": "18d77455",
   "metadata": {
    "deletable": false,
    "editable": false,
    "id": "18d77455",
    "tags": [
     "start_task"
    ]
   },
   "source": [
    "**Задание 10. Ещё раз выведите перечень уникальных значений столбца `children`, чтобы убедиться, что артефакты удалены.**"
   ]
  },
  {
   "cell_type": "code",
   "execution_count": 11,
   "id": "2c5fa92c",
   "metadata": {
    "id": "2c5fa92c"
   },
   "outputs": [
    {
     "data": {
      "text/plain": [
       "array([1, 0, 3, 2, 4, 5])"
      ]
     },
     "execution_count": 11,
     "metadata": {},
     "output_type": "execute_result"
    }
   ],
   "source": [
    "data['children'].unique() # ваш код здесь"
   ]
  },
  {
   "cell_type": "markdown",
   "id": "0ec07dee",
   "metadata": {
    "deletable": false,
    "editable": false,
    "id": "0ec07dee"
   },
   "source": [
    "### Удаление пропусков (продолжение)"
   ]
  },
  {
   "cell_type": "markdown",
   "id": "0fc3ae3f",
   "metadata": {
    "deletable": false,
    "editable": false,
    "id": "0fc3ae3f",
    "tags": [
     "start_task"
    ]
   },
   "source": [
    "**Задание 11. Заполните пропуски в столбце `days_employed` медианными значениями по каждому типу занятости `income_type`.**"
   ]
  },
  {
   "cell_type": "code",
   "execution_count": 12,
   "id": "e2aea7ac",
   "metadata": {
    "id": "e2aea7ac"
   },
   "outputs": [],
   "source": [
    "for i in data['income_type'].unique():\n",
    "    # на каждом шаге цикла с помощью атрибута loc выбираем строки,\n",
    "    # в которых в income_type текущий тип занятости (i) и есть пропуски в days_employed \n",
    "    data.loc[(data['income_type'] == i) & (data['days_employed'].isna()), 'days_employed'] = \\\n",
    "    data.loc[(data['income_type'] == i), 'days_employed'].median()\n",
    "    # и записываем в них медианное значение days_employed среди строк с текущим типом занятости (i) # ваш код здесь"
   ]
  },
  {
   "cell_type": "markdown",
   "id": "97b0b795",
   "metadata": {
    "deletable": false,
    "editable": false,
    "id": "97b0b795",
    "tags": [
     "start_task"
    ]
   },
   "source": [
    "**Задание 12. Убедитесь, что все пропуски заполнены. Проверьте себя и ещё раз выведите количество пропущенных значений для каждого столбца с помощью двух методов.**"
   ]
  },
  {
   "cell_type": "code",
   "execution_count": 13,
   "id": "79632a21",
   "metadata": {
    "id": "79632a21"
   },
   "outputs": [
    {
     "data": {
      "text/plain": [
       "children            0\n",
       "days_employed       0\n",
       "dob_years           0\n",
       "education           0\n",
       "education_id        0\n",
       "family_status       0\n",
       "family_status_id    0\n",
       "gender              0\n",
       "income_type         0\n",
       "debt                0\n",
       "total_income        0\n",
       "purpose             0\n",
       "dtype: int64"
      ]
     },
     "execution_count": 13,
     "metadata": {},
     "output_type": "execute_result"
    }
   ],
   "source": [
    "data.isna().sum() # ваш код здесь"
   ]
  },
  {
   "cell_type": "markdown",
   "id": "bd4aeb20",
   "metadata": {
    "deletable": false,
    "editable": false,
    "id": "bd4aeb20"
   },
   "source": [
    "### Изменение типов данных"
   ]
  },
  {
   "cell_type": "markdown",
   "id": "963bfa58",
   "metadata": {
    "deletable": false,
    "editable": false,
    "id": "963bfa58",
    "tags": [
     "start_task"
    ]
   },
   "source": [
    "**Задание 13. Замените вещественный тип данных в столбце `total_income` на целочисленный с помощью метода `astype()`.**"
   ]
  },
  {
   "cell_type": "code",
   "execution_count": 14,
   "id": "73da6ea0",
   "metadata": {
    "id": "73da6ea0"
   },
   "outputs": [],
   "source": [
    "data['total_income'] = data['total_income'].astype('int') # ваш код здесь"
   ]
  },
  {
   "cell_type": "markdown",
   "id": "d290239e",
   "metadata": {
    "deletable": false,
    "editable": false,
    "id": "d290239e"
   },
   "source": [
    "### Обработка дубликатов"
   ]
  },
  {
   "cell_type": "markdown",
   "id": "1b5844fd",
   "metadata": {
    "deletable": false,
    "editable": false,
    "id": "1b5844fd",
    "tags": [
     "start_task"
    ]
   },
   "source": [
    "**Задание 14. Обработайте неявные дубликаты в столбце `education`. В этом столбце есть одни и те же значения, но записанные по-разному: с использованием заглавных и строчных букв. Приведите их к нижнему регистру.**"
   ]
  },
  {
   "cell_type": "code",
   "execution_count": 15,
   "id": "3f2504b3",
   "metadata": {
    "id": "3f2504b3"
   },
   "outputs": [],
   "source": [
    "data['education'] = data['education'].str.lower() # ваш код здесь"
   ]
  },
  {
   "cell_type": "markdown",
   "id": "4c22acbc",
   "metadata": {
    "deletable": false,
    "editable": false,
    "id": "4c22acbc",
    "tags": [
     "start_task"
    ]
   },
   "source": [
    "**Задание 15. Выведите на экран количество строк-дубликатов в данных. Если такие строки присутствуют, удалите их.**"
   ]
  },
  {
   "cell_type": "code",
   "execution_count": 16,
   "id": "d34a4325",
   "metadata": {
    "id": "d34a4325"
   },
   "outputs": [
    {
     "data": {
      "text/plain": [
       "71"
      ]
     },
     "execution_count": 16,
     "metadata": {},
     "output_type": "execute_result"
    }
   ],
   "source": [
    "data.duplicated().sum() # посчитайте дубликаты"
   ]
  },
  {
   "cell_type": "code",
   "execution_count": 17,
   "id": "6e1a6499",
   "metadata": {
    "id": "6e1a6499"
   },
   "outputs": [],
   "source": [
    "data = data.drop_duplicates() # удалите дубликаты"
   ]
  },
  {
   "cell_type": "markdown",
   "id": "e5686ccc",
   "metadata": {
    "deletable": false,
    "editable": false,
    "id": "e5686ccc"
   },
   "source": [
    "### Категоризация данных"
   ]
  },
  {
   "cell_type": "markdown",
   "id": "636e9acd",
   "metadata": {
    "deletable": false,
    "editable": false,
    "id": "636e9acd",
    "tags": [
     "start_task"
    ]
   },
   "source": [
    "**Задание 16. На основании диапазонов, указанных ниже, создайте в датафрейме `data` столбец `total_income_category` с категориями:**\n",
    "\n",
    "- 0–30000 — `'E'`;\n",
    "- 30001–50000 — `'D'`;\n",
    "- 50001–200000 — `'C'`;\n",
    "- 200001–1000000 — `'B'`;\n",
    "- 1000001 и выше — `'A'`.\n",
    "\n",
    "\n",
    "**Например, кредитополучателю с доходом 25000 нужно назначить категорию `'E'`, а клиенту, получающему 235000, — `'B'`. Используйте собственную функцию с именем `categorize_income()` и метод `apply()`.**"
   ]
  },
  {
   "cell_type": "code",
   "execution_count": 18,
   "id": "880a77e5",
   "metadata": {
    "id": "880a77e5"
   },
   "outputs": [],
   "source": [
    "# создайте функцию categorize_income()\n",
    "def categorize_income(total_income): \n",
    "    if total_income <= 30000:\n",
    "        return 'E'\n",
    "    if total_income >= 30001 and total_income <= 50000:\n",
    "        return 'D'\n",
    "    if total_income >= 50001 and total_income <= 200000:\n",
    "        return 'C'\n",
    "    if total_income >= 200001 and total_income <= 1000000:\n",
    "        return 'B'\n",
    "    return 'A'"
   ]
  },
  {
   "cell_type": "code",
   "execution_count": 19,
   "id": "6f25f161",
   "metadata": {
    "id": "6f25f161"
   },
   "outputs": [],
   "source": [
    "data['total_income_category'] = data['total_income'].apply(categorize_income) # примените функцию методом apply()"
   ]
  },
  {
   "cell_type": "markdown",
   "id": "3363b685",
   "metadata": {
    "deletable": false,
    "editable": false,
    "id": "3363b685",
    "tags": [
     "start_task"
    ]
   },
   "source": [
    "**Задание 17. Выведите на экран перечень уникальных целей взятия кредита из столбца `purpose`.**"
   ]
  },
  {
   "cell_type": "code",
   "execution_count": 20,
   "id": "e59f2c15",
   "metadata": {
    "id": "e59f2c15"
   },
   "outputs": [
    {
     "data": {
      "text/plain": [
       "array(['покупка жилья', 'приобретение автомобиля',\n",
       "       'дополнительное образование', 'сыграть свадьбу',\n",
       "       'операции с жильем', 'образование', 'на проведение свадьбы',\n",
       "       'покупка жилья для семьи', 'покупка недвижимости',\n",
       "       'покупка коммерческой недвижимости', 'покупка жилой недвижимости',\n",
       "       'строительство собственной недвижимости', 'недвижимость',\n",
       "       'строительство недвижимости', 'на покупку подержанного автомобиля',\n",
       "       'на покупку своего автомобиля',\n",
       "       'операции с коммерческой недвижимостью',\n",
       "       'строительство жилой недвижимости', 'жилье',\n",
       "       'операции со своей недвижимостью', 'автомобили',\n",
       "       'заняться образованием', 'сделка с подержанным автомобилем',\n",
       "       'получение образования', 'автомобиль', 'свадьба',\n",
       "       'получение дополнительного образования', 'покупка своего жилья',\n",
       "       'операции с недвижимостью', 'получение высшего образования',\n",
       "       'свой автомобиль', 'сделка с автомобилем',\n",
       "       'профильное образование', 'высшее образование',\n",
       "       'покупка жилья для сдачи', 'на покупку автомобиля', 'ремонт жилью',\n",
       "       'заняться высшим образованием'], dtype=object)"
      ]
     },
     "execution_count": 20,
     "metadata": {},
     "output_type": "execute_result"
    }
   ],
   "source": [
    "data['purpose'].unique() # ваш код здесь"
   ]
  },
  {
   "cell_type": "markdown",
   "id": "bb33e847",
   "metadata": {
    "deletable": false,
    "editable": false,
    "id": "bb33e847",
    "tags": [
     "start_task"
    ]
   },
   "source": [
    "**Задание 18. Создайте функцию, которая на основании данных из столбца `purpose` сформирует новый столбец `purpose_category`, в который войдут следующие категории:**\n",
    "\n",
    "- `'операции с автомобилем'`,\n",
    "- `'операции с недвижимостью'`,\n",
    "- `'проведение свадьбы'`,\n",
    "- `'получение образования'`.\n",
    "\n",
    "**Например, если в столбце `purpose` находится подстрока `'на покупку автомобиля'`, то в столбце `purpose_category` должна появиться строка `'операции с автомобилем'`.**\n",
    "\n",
    "**Используйте собственную функцию с именем `categorize_purpose()` и метод `apply()`. Изучите данные в столбце `purpose` и определите, какие подстроки помогут вам правильно определить категорию.**"
   ]
  },
  {
   "cell_type": "code",
   "execution_count": 21,
   "id": "63909b83",
   "metadata": {
    "id": "63909b83"
   },
   "outputs": [],
   "source": [
    "# создайте функцию categorize_purpose()\n",
    "def categorize_purpose(purpose): \n",
    "    if purpose == 'приобретение автомобиля' or purpose == 'на покупку подержанного автомобиля' or purpose == 'на покупку своего автомобиля' or purpose == 'автомобили' or purpose == 'сделка с подержанным автомобилем' or purpose == 'автомобиль' or purpose == 'свой автомобиль' or purpose == 'сделка с автомобилем' or purpose == 'на покупку автомобиля':\n",
    "        return 'операции с автомобилем'\n",
    "    if purpose == 'покупка жилья' or purpose == 'операции с жильем' or purpose == 'покупка жилья для семьи' or purpose == 'покупка недвижимости' or purpose == 'покупка коммерческой недвижимости' or purpose == 'покупка жилой недвижимости' or purpose == 'строительство собственной недвижимости' or purpose == 'недвижимость' or purpose == 'строительство недвижимости' or purpose == 'операции с коммерческой недвижимостью' or purpose == 'строительство жилой недвижимости' or purpose == 'жилье' or purpose == 'операции со своей недвижимостью' or purpose == 'покупка своего жилья' or purpose == 'операции с недвижимостью' or purpose == 'покупка жилья для сдачи' or purpose == 'ремонт жилью':\n",
    "        return 'операции с недвижимостью'\n",
    "    if purpose == 'сыграть свадьбу' or purpose == 'на проведение свадьбы' or purpose == 'свадьба':\n",
    "        return 'проведение свадьбы'\n",
    "    if purpose == 'дополнительное образование' or purpose == 'образование' or purpose == 'заняться образованием' or purpose == 'получение образования' or purpose == 'получение дополнительного образования' or purpose == 'получение высшего образования' or purpose == 'профильное образование' or purpose == 'высшее образование' or purpose == 'заняться высшим образованием':\n",
    "        return 'получение образования'"
   ]
  },
  {
   "cell_type": "code",
   "execution_count": 22,
   "id": "7cb4a81d",
   "metadata": {
    "id": "7cb4a81d"
   },
   "outputs": [],
   "source": [
    "data['purpose_category'] = data['purpose'].apply(categorize_purpose) # примените функцию методом apply()"
   ]
  },
  {
   "cell_type": "code",
   "execution_count": 23,
   "id": "d265b27e",
   "metadata": {},
   "outputs": [
    {
     "data": {
      "text/html": [
       "<div>\n",
       "<style scoped>\n",
       "    .dataframe tbody tr th:only-of-type {\n",
       "        vertical-align: middle;\n",
       "    }\n",
       "\n",
       "    .dataframe tbody tr th {\n",
       "        vertical-align: top;\n",
       "    }\n",
       "\n",
       "    .dataframe thead th {\n",
       "        text-align: right;\n",
       "    }\n",
       "</style>\n",
       "<table border=\"1\" class=\"dataframe\">\n",
       "  <thead>\n",
       "    <tr style=\"text-align: right;\">\n",
       "      <th></th>\n",
       "      <th>children</th>\n",
       "      <th>days_employed</th>\n",
       "      <th>dob_years</th>\n",
       "      <th>education</th>\n",
       "      <th>education_id</th>\n",
       "      <th>family_status</th>\n",
       "      <th>family_status_id</th>\n",
       "      <th>gender</th>\n",
       "      <th>income_type</th>\n",
       "      <th>debt</th>\n",
       "      <th>total_income</th>\n",
       "      <th>purpose</th>\n",
       "      <th>total_income_category</th>\n",
       "      <th>purpose_category</th>\n",
       "    </tr>\n",
       "  </thead>\n",
       "  <tbody>\n",
       "    <tr>\n",
       "      <th>0</th>\n",
       "      <td>1</td>\n",
       "      <td>8437.673028</td>\n",
       "      <td>42</td>\n",
       "      <td>высшее</td>\n",
       "      <td>0</td>\n",
       "      <td>женат / замужем</td>\n",
       "      <td>0</td>\n",
       "      <td>F</td>\n",
       "      <td>сотрудник</td>\n",
       "      <td>0</td>\n",
       "      <td>253875</td>\n",
       "      <td>покупка жилья</td>\n",
       "      <td>B</td>\n",
       "      <td>операции с недвижимостью</td>\n",
       "    </tr>\n",
       "    <tr>\n",
       "      <th>1</th>\n",
       "      <td>1</td>\n",
       "      <td>4024.803754</td>\n",
       "      <td>36</td>\n",
       "      <td>среднее</td>\n",
       "      <td>1</td>\n",
       "      <td>женат / замужем</td>\n",
       "      <td>0</td>\n",
       "      <td>F</td>\n",
       "      <td>сотрудник</td>\n",
       "      <td>0</td>\n",
       "      <td>112080</td>\n",
       "      <td>приобретение автомобиля</td>\n",
       "      <td>C</td>\n",
       "      <td>операции с автомобилем</td>\n",
       "    </tr>\n",
       "    <tr>\n",
       "      <th>2</th>\n",
       "      <td>0</td>\n",
       "      <td>5623.422610</td>\n",
       "      <td>33</td>\n",
       "      <td>среднее</td>\n",
       "      <td>1</td>\n",
       "      <td>женат / замужем</td>\n",
       "      <td>0</td>\n",
       "      <td>M</td>\n",
       "      <td>сотрудник</td>\n",
       "      <td>0</td>\n",
       "      <td>145885</td>\n",
       "      <td>покупка жилья</td>\n",
       "      <td>C</td>\n",
       "      <td>операции с недвижимостью</td>\n",
       "    </tr>\n",
       "    <tr>\n",
       "      <th>3</th>\n",
       "      <td>3</td>\n",
       "      <td>4124.747207</td>\n",
       "      <td>32</td>\n",
       "      <td>среднее</td>\n",
       "      <td>1</td>\n",
       "      <td>женат / замужем</td>\n",
       "      <td>0</td>\n",
       "      <td>M</td>\n",
       "      <td>сотрудник</td>\n",
       "      <td>0</td>\n",
       "      <td>267628</td>\n",
       "      <td>дополнительное образование</td>\n",
       "      <td>B</td>\n",
       "      <td>получение образования</td>\n",
       "    </tr>\n",
       "    <tr>\n",
       "      <th>4</th>\n",
       "      <td>0</td>\n",
       "      <td>340266.072047</td>\n",
       "      <td>53</td>\n",
       "      <td>среднее</td>\n",
       "      <td>1</td>\n",
       "      <td>гражданский брак</td>\n",
       "      <td>1</td>\n",
       "      <td>F</td>\n",
       "      <td>пенсионер</td>\n",
       "      <td>0</td>\n",
       "      <td>158616</td>\n",
       "      <td>сыграть свадьбу</td>\n",
       "      <td>C</td>\n",
       "      <td>проведение свадьбы</td>\n",
       "    </tr>\n",
       "    <tr>\n",
       "      <th>...</th>\n",
       "      <td>...</td>\n",
       "      <td>...</td>\n",
       "      <td>...</td>\n",
       "      <td>...</td>\n",
       "      <td>...</td>\n",
       "      <td>...</td>\n",
       "      <td>...</td>\n",
       "      <td>...</td>\n",
       "      <td>...</td>\n",
       "      <td>...</td>\n",
       "      <td>...</td>\n",
       "      <td>...</td>\n",
       "      <td>...</td>\n",
       "      <td>...</td>\n",
       "    </tr>\n",
       "    <tr>\n",
       "      <th>21520</th>\n",
       "      <td>1</td>\n",
       "      <td>4529.316663</td>\n",
       "      <td>43</td>\n",
       "      <td>среднее</td>\n",
       "      <td>1</td>\n",
       "      <td>гражданский брак</td>\n",
       "      <td>1</td>\n",
       "      <td>F</td>\n",
       "      <td>компаньон</td>\n",
       "      <td>0</td>\n",
       "      <td>224791</td>\n",
       "      <td>операции с жильем</td>\n",
       "      <td>B</td>\n",
       "      <td>операции с недвижимостью</td>\n",
       "    </tr>\n",
       "    <tr>\n",
       "      <th>21521</th>\n",
       "      <td>0</td>\n",
       "      <td>343937.404131</td>\n",
       "      <td>67</td>\n",
       "      <td>среднее</td>\n",
       "      <td>1</td>\n",
       "      <td>женат / замужем</td>\n",
       "      <td>0</td>\n",
       "      <td>F</td>\n",
       "      <td>пенсионер</td>\n",
       "      <td>0</td>\n",
       "      <td>155999</td>\n",
       "      <td>сделка с автомобилем</td>\n",
       "      <td>C</td>\n",
       "      <td>операции с автомобилем</td>\n",
       "    </tr>\n",
       "    <tr>\n",
       "      <th>21522</th>\n",
       "      <td>1</td>\n",
       "      <td>2113.346888</td>\n",
       "      <td>38</td>\n",
       "      <td>среднее</td>\n",
       "      <td>1</td>\n",
       "      <td>гражданский брак</td>\n",
       "      <td>1</td>\n",
       "      <td>M</td>\n",
       "      <td>сотрудник</td>\n",
       "      <td>1</td>\n",
       "      <td>89672</td>\n",
       "      <td>недвижимость</td>\n",
       "      <td>C</td>\n",
       "      <td>операции с недвижимостью</td>\n",
       "    </tr>\n",
       "    <tr>\n",
       "      <th>21523</th>\n",
       "      <td>3</td>\n",
       "      <td>3112.481705</td>\n",
       "      <td>38</td>\n",
       "      <td>среднее</td>\n",
       "      <td>1</td>\n",
       "      <td>женат / замужем</td>\n",
       "      <td>0</td>\n",
       "      <td>M</td>\n",
       "      <td>сотрудник</td>\n",
       "      <td>1</td>\n",
       "      <td>244093</td>\n",
       "      <td>на покупку своего автомобиля</td>\n",
       "      <td>B</td>\n",
       "      <td>операции с автомобилем</td>\n",
       "    </tr>\n",
       "    <tr>\n",
       "      <th>21524</th>\n",
       "      <td>2</td>\n",
       "      <td>1984.507589</td>\n",
       "      <td>40</td>\n",
       "      <td>среднее</td>\n",
       "      <td>1</td>\n",
       "      <td>женат / замужем</td>\n",
       "      <td>0</td>\n",
       "      <td>F</td>\n",
       "      <td>сотрудник</td>\n",
       "      <td>0</td>\n",
       "      <td>82047</td>\n",
       "      <td>на покупку автомобиля</td>\n",
       "      <td>C</td>\n",
       "      <td>операции с автомобилем</td>\n",
       "    </tr>\n",
       "  </tbody>\n",
       "</table>\n",
       "<p>21331 rows × 14 columns</p>\n",
       "</div>"
      ],
      "text/plain": [
       "       children  days_employed  dob_years education  education_id  \\\n",
       "0             1    8437.673028         42    высшее             0   \n",
       "1             1    4024.803754         36   среднее             1   \n",
       "2             0    5623.422610         33   среднее             1   \n",
       "3             3    4124.747207         32   среднее             1   \n",
       "4             0  340266.072047         53   среднее             1   \n",
       "...         ...            ...        ...       ...           ...   \n",
       "21520         1    4529.316663         43   среднее             1   \n",
       "21521         0  343937.404131         67   среднее             1   \n",
       "21522         1    2113.346888         38   среднее             1   \n",
       "21523         3    3112.481705         38   среднее             1   \n",
       "21524         2    1984.507589         40   среднее             1   \n",
       "\n",
       "          family_status  family_status_id gender income_type  debt  \\\n",
       "0       женат / замужем                 0      F   сотрудник     0   \n",
       "1       женат / замужем                 0      F   сотрудник     0   \n",
       "2       женат / замужем                 0      M   сотрудник     0   \n",
       "3       женат / замужем                 0      M   сотрудник     0   \n",
       "4      гражданский брак                 1      F   пенсионер     0   \n",
       "...                 ...               ...    ...         ...   ...   \n",
       "21520  гражданский брак                 1      F   компаньон     0   \n",
       "21521   женат / замужем                 0      F   пенсионер     0   \n",
       "21522  гражданский брак                 1      M   сотрудник     1   \n",
       "21523   женат / замужем                 0      M   сотрудник     1   \n",
       "21524   женат / замужем                 0      F   сотрудник     0   \n",
       "\n",
       "       total_income                       purpose total_income_category  \\\n",
       "0            253875                 покупка жилья                     B   \n",
       "1            112080       приобретение автомобиля                     C   \n",
       "2            145885                 покупка жилья                     C   \n",
       "3            267628    дополнительное образование                     B   \n",
       "4            158616               сыграть свадьбу                     C   \n",
       "...             ...                           ...                   ...   \n",
       "21520        224791             операции с жильем                     B   \n",
       "21521        155999          сделка с автомобилем                     C   \n",
       "21522         89672                  недвижимость                     C   \n",
       "21523        244093  на покупку своего автомобиля                     B   \n",
       "21524         82047         на покупку автомобиля                     C   \n",
       "\n",
       "               purpose_category  \n",
       "0      операции с недвижимостью  \n",
       "1        операции с автомобилем  \n",
       "2      операции с недвижимостью  \n",
       "3         получение образования  \n",
       "4            проведение свадьбы  \n",
       "...                         ...  \n",
       "21520  операции с недвижимостью  \n",
       "21521    операции с автомобилем  \n",
       "21522  операции с недвижимостью  \n",
       "21523    операции с автомобилем  \n",
       "21524    операции с автомобилем  \n",
       "\n",
       "[21331 rows x 14 columns]"
      ]
     },
     "execution_count": 23,
     "metadata": {},
     "output_type": "execute_result"
    }
   ],
   "source": [
    "data"
   ]
  },
  {
   "cell_type": "code",
   "execution_count": null,
   "id": "715059e8",
   "metadata": {},
   "outputs": [],
   "source": []
  }
 ],
 "metadata": {
  "ExecuteTimeLog": [
   {
    "duration": 425,
    "start_time": "2024-03-08T14:40:04.695Z"
   },
   {
    "duration": 308,
    "start_time": "2024-03-08T14:40:06.209Z"
   },
   {
    "duration": 22,
    "start_time": "2024-03-08T14:40:30.227Z"
   },
   {
    "duration": 16,
    "start_time": "2024-03-08T14:41:25.142Z"
   },
   {
    "duration": 12,
    "start_time": "2024-03-08T15:18:49.179Z"
   },
   {
    "duration": 67,
    "start_time": "2024-03-08T15:43:16.104Z"
   },
   {
    "duration": 59,
    "start_time": "2024-03-08T16:13:36.337Z"
   },
   {
    "duration": 34,
    "start_time": "2024-03-08T16:15:08.514Z"
   },
   {
    "duration": 4,
    "start_time": "2024-03-08T16:24:16.243Z"
   },
   {
    "duration": 22,
    "start_time": "2024-03-08T16:31:17.583Z"
   },
   {
    "duration": 21,
    "start_time": "2024-03-08T16:31:31.750Z"
   },
   {
    "duration": 29,
    "start_time": "2024-03-08T16:31:48.059Z"
   },
   {
    "duration": 95,
    "start_time": "2024-03-08T17:03:12.036Z"
   },
   {
    "duration": 8,
    "start_time": "2024-03-08T17:03:23.736Z"
   },
   {
    "duration": 73,
    "start_time": "2024-03-08T17:14:42.814Z"
   },
   {
    "duration": 85,
    "start_time": "2024-03-08T17:15:19.906Z"
   },
   {
    "duration": 10,
    "start_time": "2024-03-08T17:15:36.996Z"
   },
   {
    "duration": 14,
    "start_time": "2024-03-08T17:18:53.514Z"
   },
   {
    "duration": 8,
    "start_time": "2024-03-08T17:19:26.473Z"
   },
   {
    "duration": 5,
    "start_time": "2024-03-08T17:20:54.767Z"
   },
   {
    "duration": 17,
    "start_time": "2024-03-08T17:21:40.383Z"
   },
   {
    "duration": 5,
    "start_time": "2024-03-08T17:21:52.212Z"
   },
   {
    "duration": 10,
    "start_time": "2024-03-08T17:22:55.678Z"
   },
   {
    "duration": 8,
    "start_time": "2024-03-08T17:25:22.176Z"
   },
   {
    "duration": 8,
    "start_time": "2024-03-08T17:25:29.185Z"
   },
   {
    "duration": 507,
    "start_time": "2024-03-08T17:31:17.616Z"
   },
   {
    "duration": 14,
    "start_time": "2024-03-08T18:50:30.480Z"
   },
   {
    "duration": 24,
    "start_time": "2024-03-08T18:50:50.285Z"
   },
   {
    "duration": 5,
    "start_time": "2024-03-08T18:52:40.627Z"
   },
   {
    "duration": 23,
    "start_time": "2024-03-08T19:02:43.643Z"
   },
   {
    "duration": 24,
    "start_time": "2024-03-08T19:03:40.022Z"
   },
   {
    "duration": 32,
    "start_time": "2024-03-08T19:04:21.604Z"
   },
   {
    "duration": 10,
    "start_time": "2024-03-08T19:18:24.973Z"
   },
   {
    "duration": 10,
    "start_time": "2024-03-08T19:19:37.151Z"
   },
   {
    "duration": 18,
    "start_time": "2024-03-08T19:31:29.131Z"
   },
   {
    "duration": 7,
    "start_time": "2024-03-08T19:38:51.304Z"
   },
   {
    "duration": 16,
    "start_time": "2024-03-08T19:41:12.029Z"
   },
   {
    "duration": 5,
    "start_time": "2024-03-08T19:43:53.214Z"
   },
   {
    "duration": 11,
    "start_time": "2024-03-08T19:47:46.602Z"
   },
   {
    "duration": 17,
    "start_time": "2024-03-08T19:48:05.903Z"
   },
   {
    "duration": 15,
    "start_time": "2024-03-08T19:48:29.167Z"
   },
   {
    "duration": 11,
    "start_time": "2024-03-08T19:53:43.376Z"
   },
   {
    "duration": 11,
    "start_time": "2024-03-08T19:54:53.280Z"
   },
   {
    "duration": 11,
    "start_time": "2024-03-08T19:55:15.607Z"
   },
   {
    "duration": 8,
    "start_time": "2024-03-08T19:59:58.295Z"
   },
   {
    "duration": 559,
    "start_time": "2024-03-08T20:00:31.252Z"
   },
   {
    "duration": 9,
    "start_time": "2024-03-08T20:00:45.131Z"
   },
   {
    "duration": 9,
    "start_time": "2024-03-08T20:00:51.702Z"
   },
   {
    "duration": 8,
    "start_time": "2024-03-08T20:01:04.897Z"
   },
   {
    "duration": 14,
    "start_time": "2024-03-08T20:01:57.725Z"
   },
   {
    "duration": 15,
    "start_time": "2024-03-08T20:04:54.629Z"
   },
   {
    "duration": 69,
    "start_time": "2024-03-08T20:06:54.927Z"
   },
   {
    "duration": 11,
    "start_time": "2024-03-08T20:07:14.016Z"
   },
   {
    "duration": 11,
    "start_time": "2024-03-08T20:07:36.368Z"
   },
   {
    "duration": 11,
    "start_time": "2024-03-08T20:08:03.267Z"
   },
   {
    "duration": 11,
    "start_time": "2024-03-08T20:09:11.827Z"
   },
   {
    "duration": 12,
    "start_time": "2024-03-08T20:09:31.723Z"
   },
   {
    "duration": 10,
    "start_time": "2024-03-08T20:10:14.539Z"
   },
   {
    "duration": 4,
    "start_time": "2024-03-08T20:10:21.849Z"
   },
   {
    "duration": 15,
    "start_time": "2024-03-08T20:16:46.047Z"
   },
   {
    "duration": 3,
    "start_time": "2024-03-08T20:18:35.698Z"
   },
   {
    "duration": 73,
    "start_time": "2024-03-08T20:18:38.069Z"
   },
   {
    "duration": 15,
    "start_time": "2024-03-08T20:18:40.911Z"
   },
   {
    "duration": 15,
    "start_time": "2024-03-08T20:18:49.366Z"
   },
   {
    "duration": 15,
    "start_time": "2024-03-08T20:18:52.775Z"
   },
   {
    "duration": 34,
    "start_time": "2024-03-08T20:18:56.838Z"
   },
   {
    "duration": 3,
    "start_time": "2024-03-08T20:19:00.091Z"
   },
   {
    "duration": 8,
    "start_time": "2024-03-08T20:19:04.626Z"
   },
   {
    "duration": 4,
    "start_time": "2024-03-08T20:19:08.419Z"
   },
   {
    "duration": 14,
    "start_time": "2024-03-08T20:19:16.383Z"
   },
   {
    "duration": 10,
    "start_time": "2024-03-08T20:19:47.428Z"
   },
   {
    "duration": 5,
    "start_time": "2024-03-08T20:19:49.847Z"
   },
   {
    "duration": 23,
    "start_time": "2024-03-08T20:32:51.894Z"
   },
   {
    "duration": 24,
    "start_time": "2024-03-08T20:33:34.283Z"
   },
   {
    "duration": 17,
    "start_time": "2024-03-08T20:37:03.247Z"
   },
   {
    "duration": 396,
    "start_time": "2024-03-08T20:39:32.233Z"
   },
   {
    "duration": 87,
    "start_time": "2024-03-08T20:39:32.631Z"
   },
   {
    "duration": 22,
    "start_time": "2024-03-08T20:39:32.719Z"
   },
   {
    "duration": 28,
    "start_time": "2024-03-08T20:39:32.743Z"
   },
   {
    "duration": 20,
    "start_time": "2024-03-08T20:39:32.772Z"
   },
   {
    "duration": 51,
    "start_time": "2024-03-08T20:39:32.794Z"
   },
   {
    "duration": 3,
    "start_time": "2024-03-08T20:39:32.847Z"
   },
   {
    "duration": 25,
    "start_time": "2024-03-08T20:39:32.852Z"
   },
   {
    "duration": 25,
    "start_time": "2024-03-08T20:39:32.879Z"
   },
   {
    "duration": 22,
    "start_time": "2024-03-08T20:39:32.906Z"
   },
   {
    "duration": 25,
    "start_time": "2024-03-08T20:39:32.929Z"
   },
   {
    "duration": 44,
    "start_time": "2024-03-08T20:39:32.955Z"
   },
   {
    "duration": 2,
    "start_time": "2024-03-08T20:39:33.001Z"
   },
   {
    "duration": 20,
    "start_time": "2024-03-08T20:39:33.005Z"
   },
   {
    "duration": 15,
    "start_time": "2024-03-08T20:39:33.026Z"
   },
   {
    "duration": 15,
    "start_time": "2024-03-08T20:39:33.043Z"
   },
   {
    "duration": 11,
    "start_time": "2024-03-08T20:39:33.059Z"
   },
   {
    "duration": 32,
    "start_time": "2024-03-08T20:39:33.071Z"
   },
   {
    "duration": 18,
    "start_time": "2024-03-08T20:39:33.104Z"
   },
   {
    "duration": 13,
    "start_time": "2024-03-08T20:39:33.124Z"
   },
   {
    "duration": 34,
    "start_time": "2024-03-08T20:39:33.139Z"
   },
   {
    "duration": 13,
    "start_time": "2024-03-08T20:39:33.174Z"
   },
   {
    "duration": 10,
    "start_time": "2024-03-08T20:40:43.533Z"
   },
   {
    "duration": 4,
    "start_time": "2024-03-08T20:46:25.029Z"
   },
   {
    "duration": 13,
    "start_time": "2024-03-08T20:51:58.992Z"
   },
   {
    "duration": 7,
    "start_time": "2024-03-08T20:53:11.562Z"
   },
   {
    "duration": 12,
    "start_time": "2024-03-08T20:55:30.005Z"
   },
   {
    "duration": 5,
    "start_time": "2024-03-08T20:59:14.816Z"
   },
   {
    "duration": 9,
    "start_time": "2024-03-08T21:02:22.704Z"
   },
   {
    "duration": 4,
    "start_time": "2024-03-08T21:03:07.755Z"
   },
   {
    "duration": 8,
    "start_time": "2024-03-08T21:04:42.816Z"
   },
   {
    "duration": 5,
    "start_time": "2024-03-08T21:07:07.372Z"
   },
   {
    "duration": 5,
    "start_time": "2024-03-08T21:07:38.114Z"
   },
   {
    "duration": 6,
    "start_time": "2024-03-08T21:07:56.155Z"
   },
   {
    "duration": 404,
    "start_time": "2024-03-08T21:08:06.856Z"
   },
   {
    "duration": 76,
    "start_time": "2024-03-08T21:08:07.262Z"
   },
   {
    "duration": 21,
    "start_time": "2024-03-08T21:08:07.339Z"
   },
   {
    "duration": 36,
    "start_time": "2024-03-08T21:08:07.362Z"
   },
   {
    "duration": 9,
    "start_time": "2024-03-08T21:08:07.400Z"
   },
   {
    "duration": 41,
    "start_time": "2024-03-08T21:08:07.410Z"
   },
   {
    "duration": 3,
    "start_time": "2024-03-08T21:08:07.452Z"
   },
   {
    "duration": 16,
    "start_time": "2024-03-08T21:08:07.456Z"
   },
   {
    "duration": 4,
    "start_time": "2024-03-08T21:08:07.473Z"
   },
   {
    "duration": 15,
    "start_time": "2024-03-08T21:08:07.479Z"
   },
   {
    "duration": 8,
    "start_time": "2024-03-08T21:08:07.496Z"
   },
   {
    "duration": 55,
    "start_time": "2024-03-08T21:08:07.506Z"
   },
   {
    "duration": 10,
    "start_time": "2024-03-08T21:08:07.562Z"
   },
   {
    "duration": 18,
    "start_time": "2024-03-08T21:08:07.573Z"
   },
   {
    "duration": 26,
    "start_time": "2024-03-08T21:08:07.592Z"
   },
   {
    "duration": 20,
    "start_time": "2024-03-08T21:08:07.619Z"
   },
   {
    "duration": 10,
    "start_time": "2024-03-08T21:08:07.640Z"
   },
   {
    "duration": 10,
    "start_time": "2024-03-08T21:08:07.652Z"
   },
   {
    "duration": 21,
    "start_time": "2024-03-08T21:08:07.663Z"
   },
   {
    "duration": 9,
    "start_time": "2024-03-08T21:08:07.685Z"
   },
   {
    "duration": 7,
    "start_time": "2024-03-08T21:08:07.695Z"
   },
   {
    "duration": 4,
    "start_time": "2024-03-08T21:08:07.703Z"
   },
   {
    "duration": 6,
    "start_time": "2024-03-08T21:12:58.528Z"
   },
   {
    "duration": 375,
    "start_time": "2024-03-08T21:15:09.797Z"
   },
   {
    "duration": 77,
    "start_time": "2024-03-08T21:15:10.174Z"
   },
   {
    "duration": 21,
    "start_time": "2024-03-08T21:15:10.252Z"
   },
   {
    "duration": 34,
    "start_time": "2024-03-08T21:15:10.275Z"
   },
   {
    "duration": 36,
    "start_time": "2024-03-08T21:15:10.311Z"
   },
   {
    "duration": 46,
    "start_time": "2024-03-08T21:15:10.349Z"
   },
   {
    "duration": 3,
    "start_time": "2024-03-08T21:15:10.397Z"
   },
   {
    "duration": 18,
    "start_time": "2024-03-08T21:15:10.402Z"
   },
   {
    "duration": 20,
    "start_time": "2024-03-08T21:15:10.421Z"
   },
   {
    "duration": 22,
    "start_time": "2024-03-08T21:15:10.442Z"
   },
   {
    "duration": 14,
    "start_time": "2024-03-08T21:15:10.466Z"
   },
   {
    "duration": 54,
    "start_time": "2024-03-08T21:15:10.482Z"
   },
   {
    "duration": 11,
    "start_time": "2024-03-08T21:15:10.537Z"
   },
   {
    "duration": 12,
    "start_time": "2024-03-08T21:15:10.551Z"
   },
   {
    "duration": 22,
    "start_time": "2024-03-08T21:15:10.565Z"
   },
   {
    "duration": 17,
    "start_time": "2024-03-08T21:15:10.589Z"
   },
   {
    "duration": 48,
    "start_time": "2024-03-08T21:15:10.608Z"
   },
   {
    "duration": 25,
    "start_time": "2024-03-08T21:15:10.658Z"
   },
   {
    "duration": 22,
    "start_time": "2024-03-08T21:15:10.685Z"
   },
   {
    "duration": 29,
    "start_time": "2024-03-08T21:15:10.708Z"
   },
   {
    "duration": 20,
    "start_time": "2024-03-08T21:15:10.739Z"
   },
   {
    "duration": 32,
    "start_time": "2024-03-08T21:15:10.761Z"
   },
   {
    "duration": 402,
    "start_time": "2024-03-08T21:15:33.263Z"
   },
   {
    "duration": 86,
    "start_time": "2024-03-08T21:15:33.667Z"
   },
   {
    "duration": 21,
    "start_time": "2024-03-08T21:15:33.754Z"
   },
   {
    "duration": 14,
    "start_time": "2024-03-08T21:15:33.777Z"
   },
   {
    "duration": 25,
    "start_time": "2024-03-08T21:15:33.792Z"
   },
   {
    "duration": 49,
    "start_time": "2024-03-08T21:15:33.819Z"
   },
   {
    "duration": 3,
    "start_time": "2024-03-08T21:15:33.869Z"
   },
   {
    "duration": 15,
    "start_time": "2024-03-08T21:15:33.874Z"
   },
   {
    "duration": 9,
    "start_time": "2024-03-08T21:15:33.890Z"
   },
   {
    "duration": 39,
    "start_time": "2024-03-08T21:15:33.902Z"
   },
   {
    "duration": 5,
    "start_time": "2024-03-08T21:15:33.943Z"
   },
   {
    "duration": 36,
    "start_time": "2024-03-08T21:15:33.950Z"
   },
   {
    "duration": 11,
    "start_time": "2024-03-08T21:15:33.988Z"
   },
   {
    "duration": 3,
    "start_time": "2024-03-08T21:15:34.001Z"
   },
   {
    "duration": 12,
    "start_time": "2024-03-08T21:15:34.005Z"
   },
   {
    "duration": 4,
    "start_time": "2024-03-08T21:15:34.019Z"
   },
   {
    "duration": 4,
    "start_time": "2024-03-08T21:15:34.025Z"
   },
   {
    "duration": 8,
    "start_time": "2024-03-08T21:15:34.031Z"
   },
   {
    "duration": 25,
    "start_time": "2024-03-08T21:15:34.040Z"
   },
   {
    "duration": 2,
    "start_time": "2024-03-08T21:15:34.066Z"
   },
   {
    "duration": 24,
    "start_time": "2024-03-08T21:15:34.070Z"
   },
   {
    "duration": 3,
    "start_time": "2024-03-08T21:15:34.096Z"
   },
   {
    "duration": 5,
    "start_time": "2024-03-08T21:15:59.484Z"
   },
   {
    "duration": 5,
    "start_time": "2024-03-08T21:16:41.331Z"
   },
   {
    "duration": 8,
    "start_time": "2024-03-08T21:23:05.898Z"
   },
   {
    "duration": 9,
    "start_time": "2024-03-08T21:27:09.992Z"
   },
   {
    "duration": 16,
    "start_time": "2024-03-08T21:28:37.486Z"
   },
   {
    "duration": 29,
    "start_time": "2024-03-08T21:29:06.939Z"
   },
   {
    "duration": 438,
    "start_time": "2024-03-08T21:29:24.143Z"
   },
   {
    "duration": 79,
    "start_time": "2024-03-08T21:29:24.583Z"
   },
   {
    "duration": 22,
    "start_time": "2024-03-08T21:29:24.663Z"
   },
   {
    "duration": 34,
    "start_time": "2024-03-08T21:29:24.686Z"
   },
   {
    "duration": 17,
    "start_time": "2024-03-08T21:29:24.722Z"
   },
   {
    "duration": 37,
    "start_time": "2024-03-08T21:29:24.741Z"
   },
   {
    "duration": 2,
    "start_time": "2024-03-08T21:29:24.780Z"
   },
   {
    "duration": 22,
    "start_time": "2024-03-08T21:29:24.784Z"
   },
   {
    "duration": 5,
    "start_time": "2024-03-08T21:29:24.808Z"
   },
   {
    "duration": 14,
    "start_time": "2024-03-08T21:29:24.816Z"
   },
   {
    "duration": 5,
    "start_time": "2024-03-08T21:29:24.832Z"
   },
   {
    "duration": 51,
    "start_time": "2024-03-08T21:29:24.838Z"
   },
   {
    "duration": 10,
    "start_time": "2024-03-08T21:29:24.890Z"
   },
   {
    "duration": 4,
    "start_time": "2024-03-08T21:29:24.902Z"
   },
   {
    "duration": 11,
    "start_time": "2024-03-08T21:29:24.907Z"
   },
   {
    "duration": 18,
    "start_time": "2024-03-08T21:29:24.919Z"
   },
   {
    "duration": 18,
    "start_time": "2024-03-08T21:29:24.966Z"
   },
   {
    "duration": 2,
    "start_time": "2024-03-08T21:29:24.986Z"
   },
   {
    "duration": 6,
    "start_time": "2024-03-08T21:29:24.989Z"
   },
   {
    "duration": 13,
    "start_time": "2024-03-08T21:29:24.996Z"
   },
   {
    "duration": 14,
    "start_time": "2024-03-08T21:29:25.010Z"
   },
   {
    "duration": 12,
    "start_time": "2024-03-08T21:29:25.026Z"
   },
   {
    "duration": 3,
    "start_time": "2024-03-08T21:44:50.137Z"
   },
   {
    "duration": 10,
    "start_time": "2024-03-08T21:44:51.686Z"
   },
   {
    "duration": 11,
    "start_time": "2024-03-08T21:45:42.908Z"
   },
   {
    "duration": 7,
    "start_time": "2024-03-08T21:47:51.821Z"
   },
   {
    "duration": 5,
    "start_time": "2024-03-08T22:41:18.803Z"
   },
   {
    "duration": 17,
    "start_time": "2024-03-08T22:41:21.770Z"
   },
   {
    "duration": 8,
    "start_time": "2024-03-08T22:41:37.648Z"
   },
   {
    "duration": 21,
    "start_time": "2024-03-08T22:51:10.549Z"
   },
   {
    "duration": 4,
    "start_time": "2024-03-08T22:55:40.692Z"
   },
   {
    "duration": 6,
    "start_time": "2024-03-08T22:55:42.732Z"
   },
   {
    "duration": 19,
    "start_time": "2024-03-08T22:55:45.571Z"
   },
   {
    "duration": 7,
    "start_time": "2024-03-08T22:57:25.001Z"
   },
   {
    "duration": 8,
    "start_time": "2024-03-08T22:57:27.563Z"
   },
   {
    "duration": 21,
    "start_time": "2024-03-08T22:57:28.608Z"
   },
   {
    "duration": 68,
    "start_time": "2024-03-08T22:58:47.901Z"
   },
   {
    "duration": 85,
    "start_time": "2024-03-08T23:00:51.786Z"
   },
   {
    "duration": 5,
    "start_time": "2024-03-08T23:02:31.689Z"
   },
   {
    "duration": 8,
    "start_time": "2024-03-08T23:02:34.135Z"
   },
   {
    "duration": 22,
    "start_time": "2024-03-08T23:02:34.870Z"
   },
   {
    "duration": 4,
    "start_time": "2024-03-08T23:03:19.996Z"
   },
   {
    "duration": 9,
    "start_time": "2024-03-08T23:03:20.650Z"
   },
   {
    "duration": 18,
    "start_time": "2024-03-08T23:03:21.442Z"
   },
   {
    "duration": 3,
    "start_time": "2024-03-08T23:04:17.367Z"
   },
   {
    "duration": 3,
    "start_time": "2024-03-08T23:05:00.567Z"
   },
   {
    "duration": 7,
    "start_time": "2024-03-08T23:05:04.206Z"
   },
   {
    "duration": 19,
    "start_time": "2024-03-08T23:05:04.910Z"
   },
   {
    "duration": 122,
    "start_time": "2024-03-08T23:06:37.751Z"
   },
   {
    "duration": 4,
    "start_time": "2024-03-08T23:06:49.205Z"
   },
   {
    "duration": 11,
    "start_time": "2024-03-08T23:06:54.075Z"
   },
   {
    "duration": 21,
    "start_time": "2024-03-08T23:06:54.926Z"
   },
   {
    "duration": 92,
    "start_time": "2024-03-08T23:10:53.010Z"
   },
   {
    "duration": 5,
    "start_time": "2024-03-08T23:11:06.767Z"
   },
   {
    "duration": 15,
    "start_time": "2024-03-08T23:11:08.648Z"
   },
   {
    "duration": 20,
    "start_time": "2024-03-08T23:11:09.649Z"
   },
   {
    "duration": 409,
    "start_time": "2024-03-08T23:11:59.249Z"
   },
   {
    "duration": 80,
    "start_time": "2024-03-08T23:11:59.660Z"
   },
   {
    "duration": 23,
    "start_time": "2024-03-08T23:11:59.742Z"
   },
   {
    "duration": 16,
    "start_time": "2024-03-08T23:11:59.767Z"
   },
   {
    "duration": 10,
    "start_time": "2024-03-08T23:11:59.786Z"
   },
   {
    "duration": 47,
    "start_time": "2024-03-08T23:11:59.798Z"
   },
   {
    "duration": 4,
    "start_time": "2024-03-08T23:11:59.859Z"
   },
   {
    "duration": 12,
    "start_time": "2024-03-08T23:11:59.866Z"
   },
   {
    "duration": 5,
    "start_time": "2024-03-08T23:11:59.880Z"
   },
   {
    "duration": 14,
    "start_time": "2024-03-08T23:11:59.886Z"
   },
   {
    "duration": 4,
    "start_time": "2024-03-08T23:11:59.902Z"
   },
   {
    "duration": 67,
    "start_time": "2024-03-08T23:11:59.908Z"
   },
   {
    "duration": 10,
    "start_time": "2024-03-08T23:11:59.976Z"
   },
   {
    "duration": 17,
    "start_time": "2024-03-08T23:11:59.988Z"
   },
   {
    "duration": 44,
    "start_time": "2024-03-08T23:12:00.007Z"
   },
   {
    "duration": 48,
    "start_time": "2024-03-08T23:12:00.052Z"
   },
   {
    "duration": 47,
    "start_time": "2024-03-08T23:12:00.102Z"
   },
   {
    "duration": 4,
    "start_time": "2024-03-08T23:12:00.151Z"
   },
   {
    "duration": 27,
    "start_time": "2024-03-08T23:12:00.157Z"
   },
   {
    "duration": 16,
    "start_time": "2024-03-08T23:12:00.186Z"
   },
   {
    "duration": 23,
    "start_time": "2024-03-08T23:12:00.204Z"
   },
   {
    "duration": 55,
    "start_time": "2024-03-08T23:12:00.229Z"
   },
   {
    "duration": 21,
    "start_time": "2024-03-08T23:12:00.286Z"
   }
  ],
  "colab": {
   "provenance": []
  },
  "kernelspec": {
   "display_name": "Python 3 (ipykernel)",
   "language": "python",
   "name": "python3"
  },
  "language_info": {
   "codemirror_mode": {
    "name": "ipython",
    "version": 3
   },
   "file_extension": ".py",
   "mimetype": "text/x-python",
   "name": "python",
   "nbconvert_exporter": "python",
   "pygments_lexer": "ipython3",
   "version": "3.12.7"
  },
  "toc": {
   "base_numbering": 1,
   "nav_menu": {},
   "number_sections": true,
   "sideBar": true,
   "skip_h1_title": true,
   "title_cell": "Table of Contents",
   "title_sidebar": "Contents",
   "toc_cell": false,
   "toc_position": {},
   "toc_section_display": true,
   "toc_window_display": false
  }
 },
 "nbformat": 4,
 "nbformat_minor": 5
}

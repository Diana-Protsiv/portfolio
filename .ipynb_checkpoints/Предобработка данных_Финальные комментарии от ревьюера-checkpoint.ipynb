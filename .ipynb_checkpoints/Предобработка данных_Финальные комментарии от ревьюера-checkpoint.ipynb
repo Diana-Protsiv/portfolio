{
 "cells": [
  {
   "cell_type": "markdown",
   "id": "776da9e5",
   "metadata": {},
   "source": [
    "<font face='Liberation serif' size=3>\n",
    "    \n",
    "**Привет!** 👋\n",
    "\n",
    "Меня зовут Артем. Я буду проверять твой проект. В рамках корпоративной этики мы общаемся на «ты». Но если лучше на «Вы», то нужно обозначить это сразу.\n",
    " \n",
    "В тетрадке есть комментарии к проекту, они будут в отдельных ячейках Markdown.\n",
    " \n",
    "<div class=\"alert alert-danger\">\n",
    "\n",
    "**Артём:** ❌ Такой комментарий **нужно исправить** обязательно, он критически влияет на удачное выполнение проекта.\n",
    "\n",
    "</div>\n",
    "\n",
    "<div class=\"alert alert-info\">\n",
    "\n",
    "**Артём:** 💡 Этот комментарий подскажет о небольших ошибках или подсказки как сделать **твой проект ещё лучше**.\n",
    "</div>\n",
    "\n",
    "<div class=\"alert alert-success\">\n",
    "\n",
    "**Артём:** 👍 А это **самый главный комментарий**, значит все сделано хорошо. 😉\n",
    "\n",
    "</div>\n",
    "\n",
    "---\n",
    "\n",
    "**Распространенные ошибки**\n",
    "\n",
    "<div class=\"alert alert-danger\">\n",
    "\n",
    "**Артём:** ❌ Не перемещай и не удаляй мои комментарии. Лучше, чтобы твои ответы на мои комментарии шли по очереди, как сообщения в мессенджере. Это ускорит проверку.\n",
    "    \n",
    "</div>\n",
    "\n",
    "<div class=\"alert alert-danger\">\n",
    "\n",
    "**Артём:** ❌ Проверь проект на работоспособность перед отправкой на проверку. Это важный навык, который тебе пригодится как на собеседовании, при выполнении тестового задания, так и перед совещанием у руководства компании. Помни, ревьеры не вносят изменения в код, даже если это путь к датасету или ячейка в неверном формате (code/mardown).  \n",
    "    \n",
    "</div>\n",
    "\n",
    "<div class=\"alert alert-info\">\n",
    "\n",
    "**Артём:** 💡 Кстати, смотри как можно сделать, чтобы датасет грузился и локально, и в JupyterHub:\n",
    "\n",
    "```py\n",
    "try:\n",
    "    df = pd.read_csv('C:/Users/Student/Desktop/dataset.csv')\n",
    "except:\n",
    "    df = pd.read_csv('/datasets/dataset.csv')\n",
    "```\n",
    "    \n",
    "Используя эту конструкцию в будущих проектах, ты будешь спокойно отправлять проект на проверку зная, что он будет работать.\n",
    "    \n",
    "</div>\n",
    "\n",
    "<div class=\"alert alert-danger\">\n",
    "\n",
    "**Артём:** ❌ Проект должен быть структурирован. Где названия разделов и подразделов будут записаны в ячейках [Markdown](https://paulradzkov.com/2014/markdown_cheatsheet/?).\n",
    "    \n",
    "</div>\n",
    "\n",
    "<div class=\"alert alert-danger\">\n",
    "\n",
    "**Артём:** ❌ Если с твоим проектом будет знакомиться другой человек, например рекрутер или старший дата специалист, в нем должны быть описаны поставленные задачи, содержание датасета, промежуточные и финальные выводы. Как правило, заказчик читает только финальный вывод, поэтому важно добавить информацию о проведенном исследовании, применить форматирование текста, в общем, сделать красиво, чтобы было понятно, что проведено настоящее исследование и выводу можно верить. \n",
    "\n",
    "</div>  \n",
    "\n",
    "<div class=\"alert alert-info\">\n",
    "    \n",
    "**Артём:** 💡 Длинный код и комментарии нужно переносить на новую строку. Согласись, коллеги не оценят, если им придется тратить время на пролистывание ячеек. Согласно международному стандарту [PEP8](https://www.python.org/dev/peps/pep-0008/) длина строки не должна превышать 79 символов.\n",
    "Вот как можно перенести код на новую строку:\n",
    "\n",
    "```py\n",
    "# Переносить можно код внутри скобки\n",
    "example = (2 *\n",
    "           2)\n",
    "```\n",
    "Конечно, я не считаю сколько символов в строке, главное, чтобы код или комментарий не ушел за пределы ячейки (зависит от разрешения экрана). Если ушел, то это желтый комментарий для каждой нечитаемой ячейки.\n",
    "    \n",
    "</div>\n",
    "\n",
    "<div class=\"alert alert-info\">\n",
    "    \n",
    "**Артём:** 💡 Тимлид, старший дата специалист или ревьюер ценят твое и своё время, подсвечивай свои комментарии в ячейках Markdown. Шаблон я тебе оставил ниже. Подробнее про синтаксис Markdown, с примерами, можно почитать [здесь](https://paulradzkov.com/2014/markdown_cheatsheet/?).\n",
    "    \n",
    "</div>\n",
    "\n",
    "<div class=\"alert alert-success\">\n",
    "\n",
    "**Артём:** 👍 Буду рад, если воспользуешься моими советами. Они тебе помогут при трудоустройстве, например в [Яндексе](https://yandex.ru/jobs/pages/analytics_interview?ysclid=l84s63fs1g790141490), и при работе в команде. Если в ходе проведения исследования возникнут вопросы, не стесняйся задавай. 🙂\n",
    "</div>\n",
    "\n",
    "<div class=\"alert alert-info\">\n",
    "\n",
    "**Артём:** 🏁 [Итоги ревью здесь](#results)\n",
    "</div>\n",
    "\n",
    "\n",
    "**Поехали!** 🚀 👨‍🚀\n",
    "<a id=\"start\"></a>"
   ]
  },
  {
   "cell_type": "markdown",
   "id": "41d269cd",
   "metadata": {},
   "source": [
    "<div style=\"background-color:lavender; color:#black; text-align:center; padding:2%\">\n",
    "    \n",
    "**Имя:** ✔️ Это шаблон для тебя. Такой комментарий можно быстро найти."
   ]
  },
  {
   "cell_type": "markdown",
   "id": "386f2ae7",
   "metadata": {
    "deletable": false,
    "editable": false,
    "id": "386f2ae7"
   },
   "source": [
    "# Исследование надежности заемщиков\n"
   ]
  },
  {
   "cell_type": "markdown",
   "id": "ffe86f65",
   "metadata": {
    "deletable": false,
    "editable": false,
    "id": "ffe86f65"
   },
   "source": [
    "Во второй части проекта вы выполните шаги 3 и 4. Их вручную проверит ревьюер.\n",
    "Чтобы вам не пришлось писать код заново для шагов 1 и 2, мы добавили авторские решения в ячейки с кодом. \n",
    "\n"
   ]
  },
  {
   "cell_type": "markdown",
   "id": "26613308",
   "metadata": {
    "deletable": false,
    "editable": false,
    "id": "26613308"
   },
   "source": [
    "## Откройте таблицу и изучите общую информацию о данных"
   ]
  },
  {
   "cell_type": "markdown",
   "id": "3c9f838e",
   "metadata": {
    "deletable": false,
    "editable": false,
    "id": "3c9f838e"
   },
   "source": [
    "**Задание 1. Импортируйте библиотеку pandas. Считайте данные из csv-файла в датафрейм и сохраните в переменную `data`. Путь к файлу:**\n",
    "\n",
    "`/datasets/data.csv`"
   ]
  },
  {
   "cell_type": "code",
   "execution_count": 1,
   "id": "77a68a90",
   "metadata": {
    "deletable": false,
    "id": "77a68a90"
   },
   "outputs": [],
   "source": [
    "import pandas as pd\n",
    "\n",
    "try:\n",
    "    data = pd.read_csv('/datasets/data.csv')\n",
    "except:\n",
    "    data = pd.read_csv('https://code.s3.yandex.net/datasets/data.csv')"
   ]
  },
  {
   "cell_type": "markdown",
   "id": "45365635",
   "metadata": {
    "deletable": false,
    "editable": false,
    "id": "45365635"
   },
   "source": [
    "**Задание 2. Выведите первые 20 строчек датафрейма `data` на экран.**"
   ]
  },
  {
   "cell_type": "code",
   "execution_count": 2,
   "id": "b0451a9a",
   "metadata": {
    "deletable": false,
    "id": "b0451a9a",
    "outputId": "1a8f3ef2-d323-4ec2-ddf7-89670b5944c4"
   },
   "outputs": [
    {
     "data": {
      "text/html": [
       "<div>\n",
       "<style scoped>\n",
       "    .dataframe tbody tr th:only-of-type {\n",
       "        vertical-align: middle;\n",
       "    }\n",
       "\n",
       "    .dataframe tbody tr th {\n",
       "        vertical-align: top;\n",
       "    }\n",
       "\n",
       "    .dataframe thead th {\n",
       "        text-align: right;\n",
       "    }\n",
       "</style>\n",
       "<table border=\"1\" class=\"dataframe\">\n",
       "  <thead>\n",
       "    <tr style=\"text-align: right;\">\n",
       "      <th></th>\n",
       "      <th>children</th>\n",
       "      <th>days_employed</th>\n",
       "      <th>dob_years</th>\n",
       "      <th>education</th>\n",
       "      <th>education_id</th>\n",
       "      <th>family_status</th>\n",
       "      <th>family_status_id</th>\n",
       "      <th>gender</th>\n",
       "      <th>income_type</th>\n",
       "      <th>debt</th>\n",
       "      <th>total_income</th>\n",
       "      <th>purpose</th>\n",
       "    </tr>\n",
       "  </thead>\n",
       "  <tbody>\n",
       "    <tr>\n",
       "      <th>0</th>\n",
       "      <td>1</td>\n",
       "      <td>-8437.673028</td>\n",
       "      <td>42</td>\n",
       "      <td>высшее</td>\n",
       "      <td>0</td>\n",
       "      <td>женат / замужем</td>\n",
       "      <td>0</td>\n",
       "      <td>F</td>\n",
       "      <td>сотрудник</td>\n",
       "      <td>0</td>\n",
       "      <td>253875.639453</td>\n",
       "      <td>покупка жилья</td>\n",
       "    </tr>\n",
       "    <tr>\n",
       "      <th>1</th>\n",
       "      <td>1</td>\n",
       "      <td>-4024.803754</td>\n",
       "      <td>36</td>\n",
       "      <td>среднее</td>\n",
       "      <td>1</td>\n",
       "      <td>женат / замужем</td>\n",
       "      <td>0</td>\n",
       "      <td>F</td>\n",
       "      <td>сотрудник</td>\n",
       "      <td>0</td>\n",
       "      <td>112080.014102</td>\n",
       "      <td>приобретение автомобиля</td>\n",
       "    </tr>\n",
       "    <tr>\n",
       "      <th>2</th>\n",
       "      <td>0</td>\n",
       "      <td>-5623.422610</td>\n",
       "      <td>33</td>\n",
       "      <td>Среднее</td>\n",
       "      <td>1</td>\n",
       "      <td>женат / замужем</td>\n",
       "      <td>0</td>\n",
       "      <td>M</td>\n",
       "      <td>сотрудник</td>\n",
       "      <td>0</td>\n",
       "      <td>145885.952297</td>\n",
       "      <td>покупка жилья</td>\n",
       "    </tr>\n",
       "    <tr>\n",
       "      <th>3</th>\n",
       "      <td>3</td>\n",
       "      <td>-4124.747207</td>\n",
       "      <td>32</td>\n",
       "      <td>среднее</td>\n",
       "      <td>1</td>\n",
       "      <td>женат / замужем</td>\n",
       "      <td>0</td>\n",
       "      <td>M</td>\n",
       "      <td>сотрудник</td>\n",
       "      <td>0</td>\n",
       "      <td>267628.550329</td>\n",
       "      <td>дополнительное образование</td>\n",
       "    </tr>\n",
       "    <tr>\n",
       "      <th>4</th>\n",
       "      <td>0</td>\n",
       "      <td>340266.072047</td>\n",
       "      <td>53</td>\n",
       "      <td>среднее</td>\n",
       "      <td>1</td>\n",
       "      <td>гражданский брак</td>\n",
       "      <td>1</td>\n",
       "      <td>F</td>\n",
       "      <td>пенсионер</td>\n",
       "      <td>0</td>\n",
       "      <td>158616.077870</td>\n",
       "      <td>сыграть свадьбу</td>\n",
       "    </tr>\n",
       "    <tr>\n",
       "      <th>5</th>\n",
       "      <td>0</td>\n",
       "      <td>-926.185831</td>\n",
       "      <td>27</td>\n",
       "      <td>высшее</td>\n",
       "      <td>0</td>\n",
       "      <td>гражданский брак</td>\n",
       "      <td>1</td>\n",
       "      <td>M</td>\n",
       "      <td>компаньон</td>\n",
       "      <td>0</td>\n",
       "      <td>255763.565419</td>\n",
       "      <td>покупка жилья</td>\n",
       "    </tr>\n",
       "    <tr>\n",
       "      <th>6</th>\n",
       "      <td>0</td>\n",
       "      <td>-2879.202052</td>\n",
       "      <td>43</td>\n",
       "      <td>высшее</td>\n",
       "      <td>0</td>\n",
       "      <td>женат / замужем</td>\n",
       "      <td>0</td>\n",
       "      <td>F</td>\n",
       "      <td>компаньон</td>\n",
       "      <td>0</td>\n",
       "      <td>240525.971920</td>\n",
       "      <td>операции с жильем</td>\n",
       "    </tr>\n",
       "    <tr>\n",
       "      <th>7</th>\n",
       "      <td>0</td>\n",
       "      <td>-152.779569</td>\n",
       "      <td>50</td>\n",
       "      <td>СРЕДНЕЕ</td>\n",
       "      <td>1</td>\n",
       "      <td>женат / замужем</td>\n",
       "      <td>0</td>\n",
       "      <td>M</td>\n",
       "      <td>сотрудник</td>\n",
       "      <td>0</td>\n",
       "      <td>135823.934197</td>\n",
       "      <td>образование</td>\n",
       "    </tr>\n",
       "    <tr>\n",
       "      <th>8</th>\n",
       "      <td>2</td>\n",
       "      <td>-6929.865299</td>\n",
       "      <td>35</td>\n",
       "      <td>ВЫСШЕЕ</td>\n",
       "      <td>0</td>\n",
       "      <td>гражданский брак</td>\n",
       "      <td>1</td>\n",
       "      <td>F</td>\n",
       "      <td>сотрудник</td>\n",
       "      <td>0</td>\n",
       "      <td>95856.832424</td>\n",
       "      <td>на проведение свадьбы</td>\n",
       "    </tr>\n",
       "    <tr>\n",
       "      <th>9</th>\n",
       "      <td>0</td>\n",
       "      <td>-2188.756445</td>\n",
       "      <td>41</td>\n",
       "      <td>среднее</td>\n",
       "      <td>1</td>\n",
       "      <td>женат / замужем</td>\n",
       "      <td>0</td>\n",
       "      <td>M</td>\n",
       "      <td>сотрудник</td>\n",
       "      <td>0</td>\n",
       "      <td>144425.938277</td>\n",
       "      <td>покупка жилья для семьи</td>\n",
       "    </tr>\n",
       "    <tr>\n",
       "      <th>10</th>\n",
       "      <td>2</td>\n",
       "      <td>-4171.483647</td>\n",
       "      <td>36</td>\n",
       "      <td>высшее</td>\n",
       "      <td>0</td>\n",
       "      <td>женат / замужем</td>\n",
       "      <td>0</td>\n",
       "      <td>M</td>\n",
       "      <td>компаньон</td>\n",
       "      <td>0</td>\n",
       "      <td>113943.491460</td>\n",
       "      <td>покупка недвижимости</td>\n",
       "    </tr>\n",
       "    <tr>\n",
       "      <th>11</th>\n",
       "      <td>0</td>\n",
       "      <td>-792.701887</td>\n",
       "      <td>40</td>\n",
       "      <td>среднее</td>\n",
       "      <td>1</td>\n",
       "      <td>женат / замужем</td>\n",
       "      <td>0</td>\n",
       "      <td>F</td>\n",
       "      <td>сотрудник</td>\n",
       "      <td>0</td>\n",
       "      <td>77069.234271</td>\n",
       "      <td>покупка коммерческой недвижимости</td>\n",
       "    </tr>\n",
       "    <tr>\n",
       "      <th>12</th>\n",
       "      <td>0</td>\n",
       "      <td>NaN</td>\n",
       "      <td>65</td>\n",
       "      <td>среднее</td>\n",
       "      <td>1</td>\n",
       "      <td>гражданский брак</td>\n",
       "      <td>1</td>\n",
       "      <td>M</td>\n",
       "      <td>пенсионер</td>\n",
       "      <td>0</td>\n",
       "      <td>NaN</td>\n",
       "      <td>сыграть свадьбу</td>\n",
       "    </tr>\n",
       "    <tr>\n",
       "      <th>13</th>\n",
       "      <td>0</td>\n",
       "      <td>-1846.641941</td>\n",
       "      <td>54</td>\n",
       "      <td>неоконченное высшее</td>\n",
       "      <td>2</td>\n",
       "      <td>женат / замужем</td>\n",
       "      <td>0</td>\n",
       "      <td>F</td>\n",
       "      <td>сотрудник</td>\n",
       "      <td>0</td>\n",
       "      <td>130458.228857</td>\n",
       "      <td>приобретение автомобиля</td>\n",
       "    </tr>\n",
       "    <tr>\n",
       "      <th>14</th>\n",
       "      <td>0</td>\n",
       "      <td>-1844.956182</td>\n",
       "      <td>56</td>\n",
       "      <td>высшее</td>\n",
       "      <td>0</td>\n",
       "      <td>гражданский брак</td>\n",
       "      <td>1</td>\n",
       "      <td>F</td>\n",
       "      <td>компаньон</td>\n",
       "      <td>1</td>\n",
       "      <td>165127.911772</td>\n",
       "      <td>покупка жилой недвижимости</td>\n",
       "    </tr>\n",
       "    <tr>\n",
       "      <th>15</th>\n",
       "      <td>1</td>\n",
       "      <td>-972.364419</td>\n",
       "      <td>26</td>\n",
       "      <td>среднее</td>\n",
       "      <td>1</td>\n",
       "      <td>женат / замужем</td>\n",
       "      <td>0</td>\n",
       "      <td>F</td>\n",
       "      <td>сотрудник</td>\n",
       "      <td>0</td>\n",
       "      <td>116820.904450</td>\n",
       "      <td>строительство собственной недвижимости</td>\n",
       "    </tr>\n",
       "    <tr>\n",
       "      <th>16</th>\n",
       "      <td>0</td>\n",
       "      <td>-1719.934226</td>\n",
       "      <td>35</td>\n",
       "      <td>среднее</td>\n",
       "      <td>1</td>\n",
       "      <td>женат / замужем</td>\n",
       "      <td>0</td>\n",
       "      <td>F</td>\n",
       "      <td>сотрудник</td>\n",
       "      <td>0</td>\n",
       "      <td>289202.704229</td>\n",
       "      <td>недвижимость</td>\n",
       "    </tr>\n",
       "    <tr>\n",
       "      <th>17</th>\n",
       "      <td>0</td>\n",
       "      <td>-2369.999720</td>\n",
       "      <td>33</td>\n",
       "      <td>высшее</td>\n",
       "      <td>0</td>\n",
       "      <td>гражданский брак</td>\n",
       "      <td>1</td>\n",
       "      <td>M</td>\n",
       "      <td>сотрудник</td>\n",
       "      <td>0</td>\n",
       "      <td>90410.586745</td>\n",
       "      <td>строительство недвижимости</td>\n",
       "    </tr>\n",
       "    <tr>\n",
       "      <th>18</th>\n",
       "      <td>0</td>\n",
       "      <td>400281.136913</td>\n",
       "      <td>53</td>\n",
       "      <td>среднее</td>\n",
       "      <td>1</td>\n",
       "      <td>вдовец / вдова</td>\n",
       "      <td>2</td>\n",
       "      <td>F</td>\n",
       "      <td>пенсионер</td>\n",
       "      <td>0</td>\n",
       "      <td>56823.777243</td>\n",
       "      <td>на покупку подержанного автомобиля</td>\n",
       "    </tr>\n",
       "    <tr>\n",
       "      <th>19</th>\n",
       "      <td>0</td>\n",
       "      <td>-10038.818549</td>\n",
       "      <td>48</td>\n",
       "      <td>СРЕДНЕЕ</td>\n",
       "      <td>1</td>\n",
       "      <td>в разводе</td>\n",
       "      <td>3</td>\n",
       "      <td>F</td>\n",
       "      <td>сотрудник</td>\n",
       "      <td>0</td>\n",
       "      <td>242831.107982</td>\n",
       "      <td>на покупку своего автомобиля</td>\n",
       "    </tr>\n",
       "  </tbody>\n",
       "</table>\n",
       "</div>"
      ],
      "text/plain": [
       "    children  days_employed  dob_years            education  education_id  \\\n",
       "0          1   -8437.673028         42               высшее             0   \n",
       "1          1   -4024.803754         36              среднее             1   \n",
       "2          0   -5623.422610         33              Среднее             1   \n",
       "3          3   -4124.747207         32              среднее             1   \n",
       "4          0  340266.072047         53              среднее             1   \n",
       "5          0    -926.185831         27               высшее             0   \n",
       "6          0   -2879.202052         43               высшее             0   \n",
       "7          0    -152.779569         50              СРЕДНЕЕ             1   \n",
       "8          2   -6929.865299         35               ВЫСШЕЕ             0   \n",
       "9          0   -2188.756445         41              среднее             1   \n",
       "10         2   -4171.483647         36               высшее             0   \n",
       "11         0    -792.701887         40              среднее             1   \n",
       "12         0            NaN         65              среднее             1   \n",
       "13         0   -1846.641941         54  неоконченное высшее             2   \n",
       "14         0   -1844.956182         56               высшее             0   \n",
       "15         1    -972.364419         26              среднее             1   \n",
       "16         0   -1719.934226         35              среднее             1   \n",
       "17         0   -2369.999720         33               высшее             0   \n",
       "18         0  400281.136913         53              среднее             1   \n",
       "19         0  -10038.818549         48              СРЕДНЕЕ             1   \n",
       "\n",
       "       family_status  family_status_id gender income_type  debt  \\\n",
       "0    женат / замужем                 0      F   сотрудник     0   \n",
       "1    женат / замужем                 0      F   сотрудник     0   \n",
       "2    женат / замужем                 0      M   сотрудник     0   \n",
       "3    женат / замужем                 0      M   сотрудник     0   \n",
       "4   гражданский брак                 1      F   пенсионер     0   \n",
       "5   гражданский брак                 1      M   компаньон     0   \n",
       "6    женат / замужем                 0      F   компаньон     0   \n",
       "7    женат / замужем                 0      M   сотрудник     0   \n",
       "8   гражданский брак                 1      F   сотрудник     0   \n",
       "9    женат / замужем                 0      M   сотрудник     0   \n",
       "10   женат / замужем                 0      M   компаньон     0   \n",
       "11   женат / замужем                 0      F   сотрудник     0   \n",
       "12  гражданский брак                 1      M   пенсионер     0   \n",
       "13   женат / замужем                 0      F   сотрудник     0   \n",
       "14  гражданский брак                 1      F   компаньон     1   \n",
       "15   женат / замужем                 0      F   сотрудник     0   \n",
       "16   женат / замужем                 0      F   сотрудник     0   \n",
       "17  гражданский брак                 1      M   сотрудник     0   \n",
       "18    вдовец / вдова                 2      F   пенсионер     0   \n",
       "19         в разводе                 3      F   сотрудник     0   \n",
       "\n",
       "     total_income                                 purpose  \n",
       "0   253875.639453                           покупка жилья  \n",
       "1   112080.014102                 приобретение автомобиля  \n",
       "2   145885.952297                           покупка жилья  \n",
       "3   267628.550329              дополнительное образование  \n",
       "4   158616.077870                         сыграть свадьбу  \n",
       "5   255763.565419                           покупка жилья  \n",
       "6   240525.971920                       операции с жильем  \n",
       "7   135823.934197                             образование  \n",
       "8    95856.832424                   на проведение свадьбы  \n",
       "9   144425.938277                 покупка жилья для семьи  \n",
       "10  113943.491460                    покупка недвижимости  \n",
       "11   77069.234271       покупка коммерческой недвижимости  \n",
       "12            NaN                         сыграть свадьбу  \n",
       "13  130458.228857                 приобретение автомобиля  \n",
       "14  165127.911772              покупка жилой недвижимости  \n",
       "15  116820.904450  строительство собственной недвижимости  \n",
       "16  289202.704229                            недвижимость  \n",
       "17   90410.586745              строительство недвижимости  \n",
       "18   56823.777243      на покупку подержанного автомобиля  \n",
       "19  242831.107982            на покупку своего автомобиля  "
      ]
     },
     "execution_count": 2,
     "metadata": {},
     "output_type": "execute_result"
    }
   ],
   "source": [
    "data.head(20)"
   ]
  },
  {
   "cell_type": "markdown",
   "id": "0ed8f27f",
   "metadata": {
    "deletable": false,
    "editable": false,
    "id": "0ed8f27f"
   },
   "source": [
    "**Задание 3. Выведите основную информацию о датафрейме с помощью метода `info()`.**"
   ]
  },
  {
   "cell_type": "code",
   "execution_count": 3,
   "id": "ab3f863b",
   "metadata": {
    "deletable": false,
    "id": "ab3f863b",
    "outputId": "15376089-8dad-46c9-b520-c05248d43158"
   },
   "outputs": [
    {
     "name": "stdout",
     "output_type": "stream",
     "text": [
      "<class 'pandas.core.frame.DataFrame'>\n",
      "RangeIndex: 21525 entries, 0 to 21524\n",
      "Data columns (total 12 columns):\n",
      " #   Column            Non-Null Count  Dtype  \n",
      "---  ------            --------------  -----  \n",
      " 0   children          21525 non-null  int64  \n",
      " 1   days_employed     19351 non-null  float64\n",
      " 2   dob_years         21525 non-null  int64  \n",
      " 3   education         21525 non-null  object \n",
      " 4   education_id      21525 non-null  int64  \n",
      " 5   family_status     21525 non-null  object \n",
      " 6   family_status_id  21525 non-null  int64  \n",
      " 7   gender            21525 non-null  object \n",
      " 8   income_type       21525 non-null  object \n",
      " 9   debt              21525 non-null  int64  \n",
      " 10  total_income      19351 non-null  float64\n",
      " 11  purpose           21525 non-null  object \n",
      "dtypes: float64(2), int64(5), object(5)\n",
      "memory usage: 2.0+ MB\n"
     ]
    }
   ],
   "source": [
    "data.info()"
   ]
  },
  {
   "cell_type": "markdown",
   "id": "60e3e22d",
   "metadata": {
    "deletable": false,
    "editable": false,
    "id": "60e3e22d"
   },
   "source": [
    "## Предобработка данных"
   ]
  },
  {
   "cell_type": "markdown",
   "id": "03dc170c",
   "metadata": {
    "deletable": false,
    "editable": false,
    "id": "03dc170c"
   },
   "source": [
    "### Удаление пропусков"
   ]
  },
  {
   "cell_type": "markdown",
   "id": "a4f54eef",
   "metadata": {
    "deletable": false,
    "editable": false,
    "id": "a4f54eef"
   },
   "source": [
    "**Задание 4. Выведите количество пропущенных значений для каждого столбца. Используйте комбинацию двух методов.**"
   ]
  },
  {
   "cell_type": "code",
   "execution_count": 4,
   "id": "2dc372b2",
   "metadata": {
    "deletable": false,
    "id": "2dc372b2",
    "outputId": "81f4d817-781c-465c-ed15-91ce4446810d"
   },
   "outputs": [
    {
     "data": {
      "text/plain": [
       "children               0\n",
       "days_employed       2174\n",
       "dob_years              0\n",
       "education              0\n",
       "education_id           0\n",
       "family_status          0\n",
       "family_status_id       0\n",
       "gender                 0\n",
       "income_type            0\n",
       "debt                   0\n",
       "total_income        2174\n",
       "purpose                0\n",
       "dtype: int64"
      ]
     },
     "execution_count": 4,
     "metadata": {},
     "output_type": "execute_result"
    }
   ],
   "source": [
    "data.isna().sum()"
   ]
  },
  {
   "cell_type": "markdown",
   "id": "14f011b1",
   "metadata": {
    "deletable": false,
    "editable": false,
    "id": "14f011b1"
   },
   "source": [
    "**Задание 5. В двух столбцах есть пропущенные значения. Один из них — `days_employed`. Пропуски в этом столбце вы обработаете на следующем этапе. Другой столбец с пропущенными значениями — `total_income` — хранит данные о доходах. На сумму дохода сильнее всего влияет тип занятости, поэтому заполнить пропуски в этом столбце нужно медианным значением по каждому типу из столбца `income_type`. Например, у человека с типом занятости `сотрудник` пропуск в столбце `total_income` должен быть заполнен медианным доходом среди всех записей с тем же типом.**"
   ]
  },
  {
   "cell_type": "code",
   "execution_count": 5,
   "id": "bdabfb6e",
   "metadata": {
    "deletable": false,
    "id": "bdabfb6e"
   },
   "outputs": [],
   "source": [
    "for t in data['income_type'].unique():\n",
    "    data.loc[(data['income_type'] == t) & (data['total_income'].isna()), 'total_income'] = \\\n",
    "    data.loc[(data['income_type'] == t), 'total_income'].median()"
   ]
  },
  {
   "cell_type": "markdown",
   "id": "5be34059",
   "metadata": {
    "deletable": false,
    "editable": false,
    "id": "5be34059"
   },
   "source": [
    "### Обработка аномальных значений"
   ]
  },
  {
   "cell_type": "markdown",
   "id": "a87606cb",
   "metadata": {
    "deletable": false,
    "editable": false,
    "id": "a87606cb"
   },
   "source": [
    "**Задание 6. В данных могут встречаться артефакты (аномалии) — значения, которые не отражают действительность и появились по какой-то ошибке. таким артефактом будет отрицательное количество дней трудового стажа в столбце `days_employed`. Для реальных данных это нормально. Обработайте значения в этом столбце: замените все отрицательные значения положительными с помощью метода `abs()`.**"
   ]
  },
  {
   "cell_type": "code",
   "execution_count": 6,
   "id": "020c46cc",
   "metadata": {
    "deletable": false,
    "id": "020c46cc"
   },
   "outputs": [],
   "source": [
    "data['days_employed'] = data['days_employed'].abs()"
   ]
  },
  {
   "cell_type": "markdown",
   "id": "45538a3a",
   "metadata": {
    "deletable": false,
    "editable": false,
    "id": "45538a3a"
   },
   "source": [
    "**Задание 7. Для каждого типа занятости выведите медианное значение трудового стажа `days_employed` в днях.**"
   ]
  },
  {
   "cell_type": "code",
   "execution_count": 7,
   "id": "cd3e6328",
   "metadata": {
    "deletable": false,
    "id": "cd3e6328",
    "outputId": "801ef80e-522b-4668-f34e-565af7432bcf"
   },
   "outputs": [
    {
     "data": {
      "text/plain": [
       "income_type\n",
       "безработный        366413.652744\n",
       "в декрете            3296.759962\n",
       "госслужащий          2689.368353\n",
       "компаньон            1547.382223\n",
       "пенсионер          365213.306266\n",
       "предприниматель       520.848083\n",
       "сотрудник            1574.202821\n",
       "студент               578.751554\n",
       "Name: days_employed, dtype: float64"
      ]
     },
     "execution_count": 7,
     "metadata": {},
     "output_type": "execute_result"
    }
   ],
   "source": [
    "data.groupby('income_type')['days_employed'].agg('median')"
   ]
  },
  {
   "cell_type": "markdown",
   "id": "90c5f058",
   "metadata": {
    "deletable": false,
    "editable": false,
    "id": "90c5f058"
   },
   "source": [
    "У двух типов (безработные и пенсионеры) получатся аномально большие значения. Исправить такие значения сложно, поэтому оставьте их как есть."
   ]
  },
  {
   "cell_type": "markdown",
   "id": "9652e50d",
   "metadata": {
    "deletable": false,
    "editable": false,
    "id": "9652e50d"
   },
   "source": [
    "**Задание 8. Выведите перечень уникальных значений столбца `children`.**"
   ]
  },
  {
   "cell_type": "code",
   "execution_count": 8,
   "id": "dbb37b8e",
   "metadata": {
    "deletable": false,
    "id": "dbb37b8e",
    "outputId": "6975b15c-7f95-4697-d16d-a0c79b657b03"
   },
   "outputs": [
    {
     "data": {
      "text/plain": [
       "array([ 1,  0,  3,  2, -1,  4, 20,  5])"
      ]
     },
     "execution_count": 8,
     "metadata": {},
     "output_type": "execute_result"
    }
   ],
   "source": [
    "data['children'].unique()"
   ]
  },
  {
   "cell_type": "markdown",
   "id": "2b8b0715",
   "metadata": {
    "deletable": false,
    "editable": false,
    "id": "2b8b0715"
   },
   "source": [
    "**Задание 9. В столбце `children` есть два аномальных значения. Удалите строки, в которых встречаются такие аномальные значения из датафрейма `data`.**"
   ]
  },
  {
   "cell_type": "code",
   "execution_count": 9,
   "id": "20009df8",
   "metadata": {
    "deletable": false,
    "id": "20009df8"
   },
   "outputs": [],
   "source": [
    "data = data[(data['children'] != -1) & (data['children'] != 20)]"
   ]
  },
  {
   "cell_type": "markdown",
   "id": "8c6ac9f1",
   "metadata": {
    "deletable": false,
    "editable": false,
    "id": "8c6ac9f1"
   },
   "source": [
    "**Задание 10. Ещё раз выведите перечень уникальных значений столбца `children`, чтобы убедиться, что артефакты удалены.**"
   ]
  },
  {
   "cell_type": "code",
   "execution_count": 10,
   "id": "07337b81",
   "metadata": {
    "deletable": false,
    "id": "07337b81",
    "outputId": "b2097101-d49d-44d9-901b-32a65c9463d1"
   },
   "outputs": [
    {
     "data": {
      "text/plain": [
       "array([1, 0, 3, 2, 4, 5])"
      ]
     },
     "execution_count": 10,
     "metadata": {},
     "output_type": "execute_result"
    }
   ],
   "source": [
    "data['children'].unique()"
   ]
  },
  {
   "cell_type": "markdown",
   "id": "ee3f52d4",
   "metadata": {
    "deletable": false,
    "editable": false,
    "id": "ee3f52d4"
   },
   "source": [
    "### Удаление пропусков (продолжение)"
   ]
  },
  {
   "cell_type": "markdown",
   "id": "a700b0e4",
   "metadata": {
    "deletable": false,
    "editable": false,
    "id": "a700b0e4"
   },
   "source": [
    "**Задание 11. Заполните пропуски в столбце `days_employed` медианными значениями по каждого типа занятости `income_type`.**"
   ]
  },
  {
   "cell_type": "code",
   "execution_count": 11,
   "id": "61946b83",
   "metadata": {
    "deletable": false,
    "id": "61946b83"
   },
   "outputs": [],
   "source": [
    "for t in data['income_type'].unique():\n",
    "    data.loc[(data['income_type'] == t) & (data['days_employed'].isna()), 'days_employed'] = \\\n",
    "    data.loc[(data['income_type'] == t), 'days_employed'].median()"
   ]
  },
  {
   "cell_type": "markdown",
   "id": "550dcd9b",
   "metadata": {
    "deletable": false,
    "editable": false,
    "id": "550dcd9b"
   },
   "source": [
    "**Задание 12. Убедитесь, что все пропуски заполнены. Проверьте себя и ещё раз выведите количество пропущенных значений для каждого столбца с помощью двух методов.**"
   ]
  },
  {
   "cell_type": "code",
   "execution_count": 12,
   "id": "937c7014",
   "metadata": {
    "deletable": false,
    "id": "937c7014",
    "outputId": "8da1e4e1-358e-4e87-98c9-f261bce0a7b2"
   },
   "outputs": [
    {
     "data": {
      "text/plain": [
       "children            0\n",
       "days_employed       0\n",
       "dob_years           0\n",
       "education           0\n",
       "education_id        0\n",
       "family_status       0\n",
       "family_status_id    0\n",
       "gender              0\n",
       "income_type         0\n",
       "debt                0\n",
       "total_income        0\n",
       "purpose             0\n",
       "dtype: int64"
      ]
     },
     "execution_count": 12,
     "metadata": {},
     "output_type": "execute_result"
    }
   ],
   "source": [
    "data.isna().sum()"
   ]
  },
  {
   "cell_type": "markdown",
   "id": "d522e295",
   "metadata": {
    "deletable": false,
    "editable": false,
    "id": "d522e295"
   },
   "source": [
    "### Изменение типов данных"
   ]
  },
  {
   "cell_type": "markdown",
   "id": "c229c581",
   "metadata": {
    "deletable": false,
    "editable": false,
    "id": "c229c581"
   },
   "source": [
    "**Задание 13. Замените вещественный тип данных в столбце `total_income` на целочисленный с помощью метода `astype()`.**"
   ]
  },
  {
   "cell_type": "code",
   "execution_count": 13,
   "id": "31036462",
   "metadata": {
    "deletable": false,
    "id": "31036462"
   },
   "outputs": [],
   "source": [
    "data['total_income'] = data['total_income'].astype(int)"
   ]
  },
  {
   "cell_type": "markdown",
   "id": "b8e3d1d9",
   "metadata": {
    "deletable": false,
    "editable": false,
    "id": "b8e3d1d9"
   },
   "source": [
    "### Обработка дубликатов"
   ]
  },
  {
   "cell_type": "markdown",
   "id": "9be53c49",
   "metadata": {
    "deletable": false,
    "editable": false,
    "id": "9be53c49"
   },
   "source": [
    "**Задание 14. Обработайте неявные дубликаты в столбце `education`. В этом столбце есть одни и те же значения, но записанные по-разному: с использованием заглавных и строчных букв. Приведите их к нижнему регистру.**"
   ]
  },
  {
   "cell_type": "code",
   "execution_count": 14,
   "id": "d89e73e1",
   "metadata": {
    "deletable": false,
    "id": "d89e73e1"
   },
   "outputs": [],
   "source": [
    "data['education'] = data['education'].str.lower()"
   ]
  },
  {
   "cell_type": "markdown",
   "id": "01d4500e",
   "metadata": {
    "deletable": false,
    "editable": false,
    "id": "01d4500e"
   },
   "source": [
    "**Задание 15. Выведите на экран количество строк-дубликатов в данных. Если такие строки присутствуют, удалите их.**"
   ]
  },
  {
   "cell_type": "code",
   "execution_count": 15,
   "id": "e10efb23",
   "metadata": {
    "deletable": false,
    "id": "e10efb23",
    "outputId": "9684deba-1934-42d1-99e1-cda61740f822"
   },
   "outputs": [
    {
     "data": {
      "text/plain": [
       "71"
      ]
     },
     "execution_count": 15,
     "metadata": {},
     "output_type": "execute_result"
    }
   ],
   "source": [
    "data.duplicated().sum()"
   ]
  },
  {
   "cell_type": "code",
   "execution_count": 16,
   "id": "df853f20",
   "metadata": {
    "deletable": false,
    "id": "df853f20"
   },
   "outputs": [],
   "source": [
    "data = data.drop_duplicates()"
   ]
  },
  {
   "cell_type": "markdown",
   "id": "627be38f",
   "metadata": {
    "deletable": false,
    "editable": false,
    "id": "627be38f"
   },
   "source": [
    "### Категоризация данных"
   ]
  },
  {
   "cell_type": "markdown",
   "id": "4684c3e0",
   "metadata": {
    "deletable": false,
    "editable": false,
    "id": "4684c3e0"
   },
   "source": [
    "**Задание 16. На основании диапазонов, указанных ниже, создайте в датафрейме `data` столбец `total_income_category` с категориями:**\n",
    "\n",
    "- 0–30000 — `'E'`;\n",
    "- 30001–50000 — `'D'`;\n",
    "- 50001–200000 — `'C'`;\n",
    "- 200001–1000000 — `'B'`;\n",
    "- 1000001 и выше — `'A'`.\n",
    "\n",
    "\n",
    "**Например, кредитополучателю с доходом 25000 нужно назначить категорию `'E'`, а клиенту, получающему 235000, — `'B'`. Используйте собственную функцию с именем `categorize_income()` и метод `apply()`.**"
   ]
  },
  {
   "cell_type": "code",
   "execution_count": 17,
   "id": "78965238",
   "metadata": {
    "deletable": false,
    "id": "78965238"
   },
   "outputs": [],
   "source": [
    "def categorize_income(income):\n",
    "    try:\n",
    "        if 0 <= income <= 30000:\n",
    "            return 'E'\n",
    "        elif 30001 <= income <= 50000:\n",
    "            return 'D'\n",
    "        elif 50001 <= income <= 200000:\n",
    "            return 'C'\n",
    "        elif 200001 <= income <= 1000000:\n",
    "            return 'B'\n",
    "        elif income >= 1000001:\n",
    "            return 'A'\n",
    "    except:\n",
    "        pass"
   ]
  },
  {
   "cell_type": "code",
   "execution_count": 18,
   "id": "0980ada1",
   "metadata": {
    "deletable": false,
    "id": "0980ada1"
   },
   "outputs": [],
   "source": [
    "data['total_income_category'] = data['total_income'].apply(categorize_income)"
   ]
  },
  {
   "cell_type": "markdown",
   "id": "9917bba0",
   "metadata": {
    "deletable": false,
    "editable": false,
    "id": "9917bba0"
   },
   "source": [
    "**Задание 17. Выведите на экран перечень уникальных целей взятия кредита из столбца `purpose`.**"
   ]
  },
  {
   "cell_type": "code",
   "execution_count": 19,
   "id": "ee07b65e",
   "metadata": {
    "deletable": false,
    "id": "ee07b65e",
    "outputId": "673c12d9-7d7e-4ae0-9812-c622c89dd244"
   },
   "outputs": [
    {
     "data": {
      "text/plain": [
       "array(['покупка жилья', 'приобретение автомобиля',\n",
       "       'дополнительное образование', 'сыграть свадьбу',\n",
       "       'операции с жильем', 'образование', 'на проведение свадьбы',\n",
       "       'покупка жилья для семьи', 'покупка недвижимости',\n",
       "       'покупка коммерческой недвижимости', 'покупка жилой недвижимости',\n",
       "       'строительство собственной недвижимости', 'недвижимость',\n",
       "       'строительство недвижимости', 'на покупку подержанного автомобиля',\n",
       "       'на покупку своего автомобиля',\n",
       "       'операции с коммерческой недвижимостью',\n",
       "       'строительство жилой недвижимости', 'жилье',\n",
       "       'операции со своей недвижимостью', 'автомобили',\n",
       "       'заняться образованием', 'сделка с подержанным автомобилем',\n",
       "       'получение образования', 'автомобиль', 'свадьба',\n",
       "       'получение дополнительного образования', 'покупка своего жилья',\n",
       "       'операции с недвижимостью', 'получение высшего образования',\n",
       "       'свой автомобиль', 'сделка с автомобилем',\n",
       "       'профильное образование', 'высшее образование',\n",
       "       'покупка жилья для сдачи', 'на покупку автомобиля', 'ремонт жилью',\n",
       "       'заняться высшим образованием'], dtype=object)"
      ]
     },
     "execution_count": 19,
     "metadata": {},
     "output_type": "execute_result"
    }
   ],
   "source": [
    "data['purpose'].unique()"
   ]
  },
  {
   "cell_type": "markdown",
   "id": "52b79d56",
   "metadata": {
    "deletable": false,
    "editable": false,
    "id": "52b79d56"
   },
   "source": [
    "**Задание 18. Создайте функцию, которая на основании данных из столбца `purpose` сформирует новый столбец `purpose_category`, в который войдут следующие категории:**\n",
    "\n",
    "- `'операции с автомобилем'`,\n",
    "- `'операции с недвижимостью'`,\n",
    "- `'проведение свадьбы'`,\n",
    "- `'получение образования'`.\n",
    "\n",
    "**Например, если в столбце `purpose` находится подстрока `'на покупку автомобиля'`, то в столбце `purpose_category` должна появиться строка `'операции с автомобилем'`.**\n",
    "\n",
    "**Используйте собственную функцию с именем `categorize_purpose()` и метод `apply()`. Изучите данные в столбце `purpose` и определите, какие подстроки помогут вам правильно определить категорию.**"
   ]
  },
  {
   "cell_type": "code",
   "execution_count": 20,
   "id": "be41da5d",
   "metadata": {
    "deletable": false,
    "id": "be41da5d"
   },
   "outputs": [],
   "source": [
    "def categorize_purpose(row):\n",
    "    try:\n",
    "        if 'автом' in row:\n",
    "            return 'операции с автомобилем'\n",
    "        elif 'жил' in row or 'недвиж' in row:\n",
    "            return 'операции с недвижимостью'\n",
    "        elif 'свад' in row:\n",
    "            return 'проведение свадьбы'\n",
    "        elif 'образов' in row:\n",
    "            return 'получение образования'\n",
    "    except:\n",
    "        return 'нет категории'"
   ]
  },
  {
   "cell_type": "code",
   "execution_count": 21,
   "id": "94c4a19a",
   "metadata": {
    "deletable": false,
    "id": "94c4a19a"
   },
   "outputs": [],
   "source": [
    "data['purpose_category'] = data['purpose'].apply(categorize_purpose)"
   ]
  },
  {
   "cell_type": "markdown",
   "id": "3d596c34",
   "metadata": {
    "deletable": false,
    "editable": false,
    "id": "3d596c34"
   },
   "source": [
    "### Шаг 3. Исследуйте данные и ответьте на вопросы"
   ]
  },
  {
   "cell_type": "markdown",
   "id": "648db036",
   "metadata": {
    "deletable": false,
    "editable": false,
    "id": "648db036"
   },
   "source": [
    "#### 3.1 Есть ли зависимость между количеством детей и возвратом кредита в срок?"
   ]
  },
  {
   "cell_type": "markdown",
   "id": "2b14c5f8",
   "metadata": {
    "deletable": false,
    "id": "7fcff25e"
   },
   "source": [
    "Построим гистограмму, чтобы посмотреть соотношение клиентов банка по наличию задолженности по возврату кредитов. Цифрой `'0'` обозначены те, кто не имеет задолженность, `'1'` — те, кто имеет задолженность."
   ]
  },
  {
   "cell_type": "code",
   "execution_count": 22,
   "id": "453ac012",
   "metadata": {},
   "outputs": [
    {
     "data": {
      "text/plain": [
       "Text(0, 0.5, 'Количество клиентов банка')"
      ]
     },
     "execution_count": 22,
     "metadata": {},
     "output_type": "execute_result"
    },
    {
     "data": {
      "image/png": "[encoded data removed]",
      "text/plain": [
       "<Figure size 864x576 with 1 Axes>"
      ]
     },
     "metadata": {},
     "output_type": "display_data"
    }
   ],
   "source": [
    "import seaborn as sns # импорт библиотеки seaborn\n",
    "from matplotlib import pyplot as plt \n",
    "# импорт модуля pyplot из библиотеки matplotlib\n",
    "%matplotlib inline\n",
    "sns.set_style('whitegrid') # установка стиля отображения графика\n",
    "sns.set(rc={'figure.figsize':(12, 8)}) # установка размера графика\n",
    "def graph(variable): # определение функции\n",
    "    graph = sns.countplot(x=variable, data=data, color='b', \n",
    "                          order=data[variable].value_counts().index)\n",
    "    return graph\n",
    "graph('debt') \n",
    "# создание графика, который показывает количество наблюдений \n",
    "# в зависимости от наличия задолженности\n",
    "plt.title('Наличие задолженности по возврату кредитов у клиентов банка', \n",
    "          fontsize=16) # добавление заголовка к графику\n",
    "plt.xlabel('Наличие задолженности по возврату кредитов', fontsize=14) \n",
    "# добавление подписи к горизонтальной оси графика\n",
    "plt.ylabel('Количество клиентов банка', fontsize=14) \n",
    "# добавление подписи к вертикальной оси графика"
   ]
  },
  {
   "cell_type": "markdown",
   "id": "02198e51",
   "metadata": {},
   "source": [
    "<div class=\"alert alert-success\">\n",
    "\n",
    "**Артём:** 👍 Здорово, что используешь визуализацию.\n",
    "\n",
    "</div>"
   ]
  },
  {
   "cell_type": "markdown",
   "id": "9b40f9c1",
   "metadata": {},
   "source": [
    "<div class=\"alert alert-success\">\n",
    "\n",
    "**Артём:**  Чтобы во время совещания не возникало вопросов,\n",
    "`на всех графиках` представленных `в проекте`, лучше добавить:\n",
    "    \n",
    "1. Название на языке заказчика;\n",
    "1. Описание осей на языке заказчика;\n",
    "1. сделать шкалы одним цветом. Разноцветные шкалы нужны когда столбцы нужно различать, например когда есть легенда.\n",
    "\n",
    "**Визуализация - это один из главных инструментов при взаимодействии с руководством.** \n",
    "    \n",
    "</div>"
   ]
  },
  {
   "cell_type": "markdown",
   "id": "4e772ade",
   "metadata": {},
   "source": [
    "<div class=\"alert alert-success\">\n",
    "\n",
    "**Артём:** 👍 Супер!\n",
    "\n",
    "</div>"
   ]
  },
  {
   "cell_type": "markdown",
   "id": "be5dd184",
   "metadata": {},
   "source": [
    "Многие клиенты не имеют задолженность по возврату кредитов."
   ]
  },
  {
   "cell_type": "markdown",
   "id": "8b0c0e74",
   "metadata": {},
   "source": [
    "Определим количество заёмщиков с задолженностью по возврату кредитов и без неё."
   ]
  },
  {
   "cell_type": "code",
   "execution_count": 23,
   "id": "8537e56b",
   "metadata": {},
   "outputs": [
    {
     "data": {
      "text/plain": [
       "(0    19599\n",
       " 1     1732\n",
       " Name: debt, dtype: int64,\n",
       " debt\n",
       " 0    91.880362\n",
       " 1     8.119638\n",
       " dtype: float64)"
      ]
     },
     "execution_count": 23,
     "metadata": {},
     "output_type": "execute_result"
    }
   ],
   "source": [
    "def number_and_proportion_of_variable_values(variable): # определение функции \n",
    "    pivot_table_1 = data[variable].value_counts()\n",
    "    pivot_table_2 = data.groupby(variable).size() / len(data) * 100\n",
    "    return pivot_table_1, pivot_table_2\n",
    "number_and_proportion_of_variable_values('debt') \n",
    "# рассчёт количества наблюдений\n",
    "# и процентного соотношения для каждой группы значений переменной ‘debt’"
   ]
  },
  {
   "cell_type": "markdown",
   "id": "d46ab159",
   "metadata": {},
   "source": [
    "- 19,6 тыс. человек не имеют задолженность по возврату кредитов, что составляет 92% от общего количества кредитополучателей.\n",
    "- 1,7 тыс. человек имеют задолженность, что составляет 8% от всех заёмщиков."
   ]
  },
  {
   "cell_type": "markdown",
   "id": "2da352d4",
   "metadata": {},
   "source": [
    "Построим гистограмму, чтобы посмотреть соотношение клиентов банка по количеству детей в семье."
   ]
  },
  {
   "cell_type": "code",
   "execution_count": 24,
   "id": "7d2901b3",
   "metadata": {},
   "outputs": [
    {
     "data": {
      "text/plain": [
       "Text(0, 0.5, 'Количество клиентов банка')"
      ]
     },
     "execution_count": 24,
     "metadata": {},
     "output_type": "execute_result"
    },
    {
     "data": {
      "image/png": "[encoded data removed]",
      "text/plain": [
       "<Figure size 864x576 with 1 Axes>"
      ]
     },
     "metadata": {},
     "output_type": "display_data"
    }
   ],
   "source": [
    "graph('children') # создание графика, который показывает количество наблюдений\n",
    "# в зависимости от количества детей в семье\n",
    "plt.title('Количество детей у клиентов банка', fontsize=16) \n",
    "# добавление заголовка к графику\n",
    "plt.xlabel('Количество детей', fontsize=14) \n",
    "# добавление подписи к горизонтальной оси графика\n",
    "plt.ylabel('Количество клиентов банка', fontsize=14) \n",
    "# добавление подписи к вертикальной оси графика"
   ]
  },
  {
   "cell_type": "markdown",
   "id": "5853f169",
   "metadata": {},
   "source": [
    "- Большая часть клиентов банка не имеет детей. \n",
    "- Среди тех, у кого есть дети, наиболее распространённым количеством является один ребёнок в семье."
   ]
  },
  {
   "cell_type": "markdown",
   "id": "b4b085bf",
   "metadata": {},
   "source": [
    "Установим число заёмщиков с определённым количеством детей в семье."
   ]
  },
  {
   "cell_type": "code",
   "execution_count": 25,
   "id": "87c08648",
   "metadata": {},
   "outputs": [
    {
     "data": {
      "text/plain": [
       "(0    14091\n",
       " 1     4808\n",
       " 2     2052\n",
       " 3      330\n",
       " 4       41\n",
       " 5        9\n",
       " Name: children, dtype: int64,\n",
       " children\n",
       " 0    66.058788\n",
       " 1    22.539965\n",
       " 2     9.619802\n",
       " 3     1.547044\n",
       " 4     0.192209\n",
       " 5     0.042192\n",
       " dtype: float64)"
      ]
     },
     "execution_count": 25,
     "metadata": {},
     "output_type": "execute_result"
    }
   ],
   "source": [
    "number_and_proportion_of_variable_values('children') \n",
    "# рассчёт количества наблюдений\n",
    "# и процентного соотношения для каждой группы значений переменной ‘children’"
   ]
  },
  {
   "cell_type": "markdown",
   "id": "07befa03",
   "metadata": {},
   "source": [
    "- У 14,1 тыс. человек нет детей, что составляет 66% от всех клиентов банка.\n",
    "- 4,8 тыс. человек имеют 1-го ребёнка, что составляет 23% от общего количества клиентов.\n",
    "- 2,1 тыс. человек имеют 2-х детей, что составляет 10% клиентов.\n",
    "- Лишь у 9-ти человек — 5 детей в семье."
   ]
  },
  {
   "cell_type": "markdown",
   "id": "563b35bd",
   "metadata": {},
   "source": [
    "Определим долю клиентов банка с задолженностью по возврату кредитов и без неё, с детьми и без них."
   ]
  },
  {
   "cell_type": "code",
   "execution_count": 26,
   "id": "aef1acfb",
   "metadata": {},
   "outputs": [
    {
     "name": "stdout",
     "output_type": "stream",
     "text": [
      "Доля клиентов банка без задолженности по кредитам и без детей: (21331, 13028, '61.0%')\n",
      "Доля клиентов банка без задолженности по кредитам и с детьми: (21331, 6571, '31.0%')\n",
      "Доля клиентов банка с задолженностью по кредитам и без детей: (21331, 1063, '5.0%')\n",
      "Доля клиентов банка с задолженностью по кредитам и с детьми: (21331, 669, '3.0%')\n"
     ]
    }
   ],
   "source": [
    "def function(number_debt_children): # определение функции\n",
    "    total_number = data['debt'].count() \n",
    "    # рассчёт общего количества клиентов банка\n",
    "    share_debt_children = number_debt_children / total_number \n",
    "    # рассчёт доли клиентов с задолженностью/без неё и с детьми/без них\n",
    "    share_debt_children = round(share_debt_children, 2) \n",
    "    # округление числа до двух знаков после запятой\n",
    "    share_debt_children = f'{share_debt_children * 100}%' \n",
    "    # преобразование вещественного числа в процент\n",
    "    return total_number, number_debt_children, share_debt_children\n",
    "    \n",
    "print('Доля клиентов банка без задолженности по кредитам и без детей:', \n",
    "      function((data.loc[(data['debt'] == 0) \n",
    "                         & (data['children'] == 0)])['debt'].count())) \n",
    "      # рассчёт количества и доли клиентов, не имеющих задолженность и детей\n",
    "print('Доля клиентов банка без задолженности по кредитам и с детьми:', \n",
    "      function((data.loc[(data['debt'] == 0) \n",
    "                         & (data['children'] != 0)])['debt'].count())) \n",
    "      # рассчёт количества и доли клиентов, не имеющих задолженность, \n",
    "      # но имеющих детей\n",
    "print('Доля клиентов банка с задолженностью по кредитам и без детей:', \n",
    "      function((data.loc[(data['debt'] == 1) \n",
    "                         & (data['children'] == 0)])['debt'].count())) \n",
    "      # рассчёт количества и доли клиентов, имеющих задолженность\n",
    "      # и не имеющих детей\n",
    "print('Доля клиентов банка с задолженностью по кредитам и с детьми:', \n",
    "      function((data.loc[(data['debt'] == 1) \n",
    "                         & (data['children'] != 0)])['debt'].count())) \n",
    "      # рассчёт количества и доли клиентов, имеющих задолженность и детей"
   ]
  },
  {
   "cell_type": "markdown",
   "id": "f08223a3",
   "metadata": {},
   "source": [
    "Более половины клиентов банка (61%) не имеют задолженность по возврату кредитов и являются бездетными."
   ]
  },
  {
   "cell_type": "markdown",
   "id": "bb799f76",
   "metadata": {},
   "source": [
    "Выборки с тремя, четырьмя, и пятью детьми нерепрезентативны, так как имеют слишком мало значений, — в сумме они составляют менее 2%. Поэтому проведём категоризацию.\n",
    "\n",
    "Создадим функцию, которая на основании данных из столбца `children` сформирует новый столбец `children _category`, в который войдут следующие категории:\n",
    "\n",
    "- 0 детей — `'нет детей'`;\n",
    "- 1-2 ребёнка — `'мало детей'`;\n",
    "- 3-5 детей — `'много детей'`."
   ]
  },
  {
   "cell_type": "code",
   "execution_count": 27,
   "id": "dff6c7fa",
   "metadata": {},
   "outputs": [],
   "source": [
    "def categorize_children(children): # определение функции\n",
    "    try:\n",
    "        if children == 0:\n",
    "            return 'нет детей'\n",
    "        elif 1 <= children <= 2:\n",
    "            return 'мало детей'\n",
    "        elif 3 <= children <= 5:\n",
    "            return 'много детей'\n",
    "    except:\n",
    "        pass"
   ]
  },
  {
   "cell_type": "code",
   "execution_count": 28,
   "id": "94e48259",
   "metadata": {},
   "outputs": [],
   "source": [
    "data['children_category'] = data['children'].apply(categorize_children) \n",
    "# применение функции ‘categorize_children’ \n",
    "# к каждому значению столбца ‘children’\n",
    "# создание нового столбца в датафрейме ‘data’ \n",
    "# на основе значения существующего столбца ‘children’"
   ]
  },
  {
   "cell_type": "markdown",
   "id": "b01487a5",
   "metadata": {},
   "source": [
    "Рассчитаем долю заёмщиков с задолженностью по возврату кредитов для определённого количества детей в семье."
   ]
  },
  {
   "cell_type": "code",
   "execution_count": 29,
   "id": "07adfdd1",
   "metadata": {},
   "outputs": [
    {
     "data": {
      "text/html": [
       "<div>\n",
       "<style scoped>\n",
       "    .dataframe tbody tr th:only-of-type {\n",
       "        vertical-align: middle;\n",
       "    }\n",
       "\n",
       "    .dataframe tbody tr th {\n",
       "        vertical-align: top;\n",
       "    }\n",
       "\n",
       "    .dataframe thead th {\n",
       "        text-align: right;\n",
       "    }\n",
       "</style>\n",
       "<table border=\"1\" class=\"dataframe\">\n",
       "  <thead>\n",
       "    <tr style=\"text-align: right;\">\n",
       "      <th></th>\n",
       "      <th>total_number_of_clients</th>\n",
       "      <th>number_of_debtors</th>\n",
       "      <th>share_of_debtors</th>\n",
       "    </tr>\n",
       "    <tr>\n",
       "      <th>children_category</th>\n",
       "      <th></th>\n",
       "      <th></th>\n",
       "      <th></th>\n",
       "    </tr>\n",
       "  </thead>\n",
       "  <tbody>\n",
       "    <tr>\n",
       "      <th>мало детей</th>\n",
       "      <td>6860</td>\n",
       "      <td>638</td>\n",
       "      <td>9.3%</td>\n",
       "    </tr>\n",
       "    <tr>\n",
       "      <th>много детей</th>\n",
       "      <td>380</td>\n",
       "      <td>31</td>\n",
       "      <td>8.2%</td>\n",
       "    </tr>\n",
       "    <tr>\n",
       "      <th>нет детей</th>\n",
       "      <td>14091</td>\n",
       "      <td>1063</td>\n",
       "      <td>7.5%</td>\n",
       "    </tr>\n",
       "  </tbody>\n",
       "</table>\n",
       "</div>"
      ],
      "text/plain": [
       "                   total_number_of_clients  number_of_debtors share_of_debtors\n",
       "children_category                                                             \n",
       "мало детей                            6860                638             9.3%\n",
       "много детей                            380                 31             8.2%\n",
       "нет детей                            14091               1063             7.5%"
      ]
     },
     "execution_count": 29,
     "metadata": {},
     "output_type": "execute_result"
    }
   ],
   "source": [
    "def share_of_debtors(variable): # определение функции\n",
    "    crosstab = data.pivot_table(index = variable, values = 'debt', \n",
    "                                aggfunc=['count', 'sum', 'mean'])\n",
    "    crosstab.columns = ['total_number_of_clients', 'number_of_debtors', \n",
    "                        'share_of_debtors']\n",
    "    crosstab['share_of_debtors'] = crosstab['share_of_debtors'].map('{:.1%}'.format)\n",
    "    crosstab = crosstab.sort_values(by='share_of_debtors', ascending=False)\n",
    "    return crosstab\n",
    "share_of_debtors('children_category')\n",
    "# создание кросс-таблицы, в которой для каждого количества детей в семье \n",
    "# рассчитывается общее количество заёмщиков, \n",
    "# количество и доля заёмщиков с задолженностью по возврату кредитов"
   ]
  },
  {
   "cell_type": "markdown",
   "id": "1ba2a680",
   "metadata": {},
   "source": [
    "Наибольшую долю должников по кредитам составляют те, у кого мало детей (один или два ребёнка). Те, у кого нет детей, — наименьшую долю. В многодетных семьях (три ребёнка и более) доля должников меньше, чем в малодетных семьях."
   ]
  },
  {
   "cell_type": "markdown",
   "id": "2eb9088e",
   "metadata": {
    "deletable": false,
    "id": "2eb9088e"
   },
   "source": [
    "**Вывод:** \n",
    "\n",
    "Большинство бездетных людей не имеют задолженность по возврату кредитов.\n",
    "\n",
    "Наличие детей повышает риск невозврата кредита в срок. Появление ребёнка может потребовать от семьи дополнительных расходов, что приводит к уменьшению её сбережений.\n",
    "\n",
    "С увеличением количества детей вероятность невозврата кредита в срок может уменьшаться. Возможно, это связано с тем, что семьи, в состав которых входит три и более ребёнка, часто получают дополнительные выплаты и льготы от государства, что помогает им справляться с финансовыми трудностями."
   ]
  },
  {
   "cell_type": "markdown",
   "id": "1d590c99",
   "metadata": {},
   "source": [
    "<div class=\"alert alert-info\">\n",
    "    \n",
    "#### **Артём:** 💡 Выборки с тремя, четырьмя, и пятью детьми нерепрезентативны, слишком мало значений, в сумме менее 2%. Их не стоит учитывать при анализе. А лучше провести категоризацию.\n",
    "\n",
    "</div>"
   ]
  },
  {
   "cell_type": "markdown",
   "id": "2e87f348",
   "metadata": {},
   "source": [
    "<div class=\"alert alert-success\">\n",
    "\n",
    "**Артём:** 👍 Основательно, молодец.\n",
    "  \n",
    "</div> "
   ]
  },
  {
   "cell_type": "markdown",
   "id": "74c9b3a7",
   "metadata": {
    "deletable": false,
    "editable": false,
    "id": "74c9b3a7"
   },
   "source": [
    "#### 3.2 Есть ли зависимость между семейным положением и возвратом кредита в срок?"
   ]
  },
  {
   "cell_type": "markdown",
   "id": "86dc43bc",
   "metadata": {
    "deletable": false,
    "id": "8098ab3b"
   },
   "source": [
    "Посмотрим, какие виды семейного положения существуют в датафрейме."
   ]
  },
  {
   "cell_type": "code",
   "execution_count": 30,
   "id": "ef8358c8",
   "metadata": {},
   "outputs": [
    {
     "data": {
      "text/plain": [
       "array(['женат / замужем', 'гражданский брак', 'вдовец / вдова',\n",
       "       'в разводе', 'Не женат / не замужем'], dtype=object)"
      ]
     },
     "execution_count": 30,
     "metadata": {},
     "output_type": "execute_result"
    }
   ],
   "source": [
    "data['family_status'].unique() \n",
    "# просмотр уникальных значений переменной ‘family_status’"
   ]
  },
  {
   "cell_type": "markdown",
   "id": "1fa83908",
   "metadata": {},
   "source": [
    "Построим гистограмму, чтобы посмотреть соотношение получателей кредита по семейному положению."
   ]
  },
  {
   "cell_type": "code",
   "execution_count": 31,
   "id": "00c79644",
   "metadata": {},
   "outputs": [
    {
     "data": {
      "text/plain": [
       "Text(0, 0.5, 'Количество кредитополучателей')"
      ]
     },
     "execution_count": 31,
     "metadata": {},
     "output_type": "execute_result"
    },
    {
     "data": {
      "image/png": "[encoded data removed]",
      "text/plain": [
       "<Figure size 864x576 with 1 Axes>"
      ]
     },
     "metadata": {},
     "output_type": "display_data"
    }
   ],
   "source": [
    "graph('family_status') \n",
    "# создание графика, который показывает количество наблюдений \n",
    "# в зависимости от семейного положения\n",
    "plt.title('Семейное положение кредитополучателей', fontsize=16) \n",
    "# добавление заголовка к графику\n",
    "plt.xlabel('Семейное положение', fontsize=14) \n",
    "# добавление подписи к горизонтальной оси графика\n",
    "plt.ylabel('Количество кредитополучателей', fontsize=14) \n",
    "# добавление подписи к вертикальной оси графика"
   ]
  },
  {
   "cell_type": "markdown",
   "id": "82223ba5",
   "metadata": {},
   "source": [
    "- Большую часть кредитополучателей составляют женатые или замужние. \n",
    "- К следующим по численности группам относятся клиенты банка, состоящие в гражданском браке, а также неженатые или незамужние.\n",
    "- Всех меньше среди получателей кредита разведённых, вдовцов или вдов."
   ]
  },
  {
   "cell_type": "markdown",
   "id": "9e06eb48",
   "metadata": {},
   "source": [
    "Рассчитаем количество клиентов банка с определённым семейным положением."
   ]
  },
  {
   "cell_type": "code",
   "execution_count": 32,
   "id": "f4c2514b",
   "metadata": {},
   "outputs": [
    {
     "data": {
      "text/plain": [
       "(женат / замужем          12261\n",
       " гражданский брак          4134\n",
       " Не женат / не замужем     2796\n",
       " в разводе                 1189\n",
       " вдовец / вдова             951\n",
       " Name: family_status, dtype: int64,\n",
       " family_status\n",
       " Не женат / не замужем    13.107684\n",
       " в разводе                 5.574047\n",
       " вдовец / вдова            4.458300\n",
       " гражданский брак         19.380245\n",
       " женат / замужем          57.479724\n",
       " dtype: float64)"
      ]
     },
     "execution_count": 32,
     "metadata": {},
     "output_type": "execute_result"
    }
   ],
   "source": [
    "number_and_proportion_of_variable_values('family_status') \n",
    "# рассчёт количества наблюдений и процентного соотношения \n",
    "# для каждой группы значений переменной ‘family_status’"
   ]
  },
  {
   "cell_type": "markdown",
   "id": "e9c5fbc0",
   "metadata": {},
   "source": [
    "- 12,3 тыс. человек состоят в зарегистрированном браке, что составляет 58% от общего числа клиентов банка.\n",
    "- 4,1 тыс. человек состоят в незарегистрированном браке, что составляет 19% от всех клиентов.\n",
    "- 2,8 тыс. человек никогда не состояли в браке, что составляет 13% от всех клиентов.\n",
    "- 1,2 тыс. человек разведены, что составляет 6% от всех клиентов банка.\n",
    "- 951 человек являются вдовцами или вдовами, что составляет 5% от всех клиентов."
   ]
  },
  {
   "cell_type": "markdown",
   "id": "1eb4c182",
   "metadata": {},
   "source": [
    "Определим долю заёмщиков с задолженностью по возврату кредитов для определённого вида семейного положения."
   ]
  },
  {
   "cell_type": "code",
   "execution_count": 33,
   "id": "df68ad53",
   "metadata": {},
   "outputs": [
    {
     "data": {
      "text/html": [
       "<div>\n",
       "<style scoped>\n",
       "    .dataframe tbody tr th:only-of-type {\n",
       "        vertical-align: middle;\n",
       "    }\n",
       "\n",
       "    .dataframe tbody tr th {\n",
       "        vertical-align: top;\n",
       "    }\n",
       "\n",
       "    .dataframe thead th {\n",
       "        text-align: right;\n",
       "    }\n",
       "</style>\n",
       "<table border=\"1\" class=\"dataframe\">\n",
       "  <thead>\n",
       "    <tr style=\"text-align: right;\">\n",
       "      <th></th>\n",
       "      <th>total_number_of_clients</th>\n",
       "      <th>number_of_debtors</th>\n",
       "      <th>share_of_debtors</th>\n",
       "    </tr>\n",
       "    <tr>\n",
       "      <th>family_status</th>\n",
       "      <th></th>\n",
       "      <th></th>\n",
       "      <th></th>\n",
       "    </tr>\n",
       "  </thead>\n",
       "  <tbody>\n",
       "    <tr>\n",
       "      <th>Не женат / не замужем</th>\n",
       "      <td>2796</td>\n",
       "      <td>273</td>\n",
       "      <td>9.8%</td>\n",
       "    </tr>\n",
       "    <tr>\n",
       "      <th>гражданский брак</th>\n",
       "      <td>4134</td>\n",
       "      <td>385</td>\n",
       "      <td>9.3%</td>\n",
       "    </tr>\n",
       "    <tr>\n",
       "      <th>женат / замужем</th>\n",
       "      <td>12261</td>\n",
       "      <td>927</td>\n",
       "      <td>7.6%</td>\n",
       "    </tr>\n",
       "    <tr>\n",
       "      <th>в разводе</th>\n",
       "      <td>1189</td>\n",
       "      <td>84</td>\n",
       "      <td>7.1%</td>\n",
       "    </tr>\n",
       "    <tr>\n",
       "      <th>вдовец / вдова</th>\n",
       "      <td>951</td>\n",
       "      <td>63</td>\n",
       "      <td>6.6%</td>\n",
       "    </tr>\n",
       "  </tbody>\n",
       "</table>\n",
       "</div>"
      ],
      "text/plain": [
       "                       total_number_of_clients  number_of_debtors  \\\n",
       "family_status                                                       \n",
       "Не женат / не замужем                     2796                273   \n",
       "гражданский брак                          4134                385   \n",
       "женат / замужем                          12261                927   \n",
       "в разводе                                 1189                 84   \n",
       "вдовец / вдова                             951                 63   \n",
       "\n",
       "                      share_of_debtors  \n",
       "family_status                           \n",
       "Не женат / не замужем             9.8%  \n",
       "гражданский брак                  9.3%  \n",
       "женат / замужем                   7.6%  \n",
       "в разводе                         7.1%  \n",
       "вдовец / вдова                    6.6%  "
      ]
     },
     "execution_count": 33,
     "metadata": {},
     "output_type": "execute_result"
    }
   ],
   "source": [
    "share_of_debtors('family_status') \n",
    "# создание кросс-таблицы, в которой для каждого вида семейного положения \n",
    "# рассчитывается общее количество заёмщиков, \n",
    "# количество и доля заёмщиков с задолженностью по возврату кредитов"
   ]
  },
  {
   "cell_type": "markdown",
   "id": "2b6109b8",
   "metadata": {},
   "source": [
    "Большую долю должников по кредитам составляют неженатые мужчины и незамужние женщины, а также те, кто состоит в гражданском браке. Меньшую долю — те, кто когда-либо состоял или в настоящий момент состоит в зарегистрированном браке."
   ]
  },
  {
   "cell_type": "markdown",
   "id": "c389ca63",
   "metadata": {
    "deletable": false,
    "id": "c389ca63"
   },
   "source": [
    "**Вывод:** \n",
    "\n",
    "Люди, не состоящие в браке, и гражданские супруги больше рискуют стать должниками по кредиту. Причиной этого может служить самостоятельное управление финансами, отсутствие общих денежных накоплений.\n",
    "\n",
    "Те, кто состоит в официальном браке, в меньшей степени подвержены риску возникновения задолженности по возврату кредита. Зарегистрированный брак может способствовать укреплению финансовой устойчивости семьи и улучшению её благосостояния. При оформлении кредита на человека, состоящего в законном браке, второй супруг может стать созаёмщиком и нести ответственность за погашение займа. В случае развода с кредитом ничего не произойдёт, так как имущество и обязательства супругов делятся по семейному кодексу или брачному договору. При смерти одного из супругов второй может получить наследство."
   ]
  },
  {
   "cell_type": "markdown",
   "id": "463abbd2",
   "metadata": {},
   "source": [
    "<div class=\"alert alert-success\">\n",
    "\n",
    "**Артём:** 👍 Верно.\n",
    "  \n",
    "</div> "
   ]
  },
  {
   "cell_type": "markdown",
   "id": "9529de68",
   "metadata": {
    "deletable": false,
    "editable": false,
    "id": "9529de68"
   },
   "source": [
    "#### 3.3 Есть ли зависимость между уровнем дохода и возвратом кредита в срок?"
   ]
  },
  {
   "cell_type": "markdown",
   "id": "77d4d05a",
   "metadata": {
    "deletable": false,
    "id": "8787f44a"
   },
   "source": [
    "Получим среднее значение ежемесячного дохода клиентов банка."
   ]
  },
  {
   "cell_type": "code",
   "execution_count": 34,
   "id": "3573cb40",
   "metadata": {},
   "outputs": [
    {
     "data": {
      "text/plain": [
       "165342.74576906848"
      ]
     },
     "execution_count": 34,
     "metadata": {},
     "output_type": "execute_result"
    }
   ],
   "source": [
    "data['total_income'].mean() # рассчёт среднего значения дохода клиентов банка"
   ]
  },
  {
   "cell_type": "markdown",
   "id": "ea66e7a6",
   "metadata": {},
   "source": [
    "В среднем ежемесячный доход клиентов банка составляет 165,3 тыс."
   ]
  },
  {
   "cell_type": "markdown",
   "id": "44936b65",
   "metadata": {},
   "source": [
    "Найдём медиану ежемесячного дохода клиентов банка."
   ]
  },
  {
   "cell_type": "code",
   "execution_count": 35,
   "id": "e73d2063",
   "metadata": {},
   "outputs": [
    {
     "data": {
      "text/plain": [
       "142594.0"
      ]
     },
     "execution_count": 35,
     "metadata": {},
     "output_type": "execute_result"
    }
   ],
   "source": [
    "data['total_income'].median() # рассчёт медианы дохода клиентов"
   ]
  },
  {
   "cell_type": "markdown",
   "id": "0f070031",
   "metadata": {},
   "source": [
    "Медиана ежемесячного дохода клиентов банка равна 142,6 тыс., что меньше среднего значения. Возможно, это связано с тем, что распределение доходов имеет асимметричный характер. Среднее значение может быть смещено вверх из-за наличия нескольких \"экстремальных\" значений. Медиана является более устойчивой мерой центральной тенденции."
   ]
  },
  {
   "cell_type": "markdown",
   "id": "b280ab55",
   "metadata": {},
   "source": [
    "Рассчитаем среднее значение ежемесячного дохода у заёмщиков с задолженностью по возврату кредитов и без неё."
   ]
  },
  {
   "cell_type": "code",
   "execution_count": 36,
   "id": "e243d252",
   "metadata": {},
   "outputs": [
    {
     "data": {
      "text/html": [
       "<div>\n",
       "<style scoped>\n",
       "    .dataframe tbody tr th:only-of-type {\n",
       "        vertical-align: middle;\n",
       "    }\n",
       "\n",
       "    .dataframe tbody tr th {\n",
       "        vertical-align: top;\n",
       "    }\n",
       "\n",
       "    .dataframe thead tr th {\n",
       "        text-align: left;\n",
       "    }\n",
       "</style>\n",
       "<table border=\"1\" class=\"dataframe\">\n",
       "  <thead>\n",
       "    <tr>\n",
       "      <th></th>\n",
       "      <th colspan=\"2\" halign=\"left\">count</th>\n",
       "      <th colspan=\"2\" halign=\"left\">sum</th>\n",
       "      <th colspan=\"2\" halign=\"left\">mean</th>\n",
       "    </tr>\n",
       "    <tr>\n",
       "      <th>debt</th>\n",
       "      <th>0</th>\n",
       "      <th>1</th>\n",
       "      <th>0</th>\n",
       "      <th>1</th>\n",
       "      <th>0</th>\n",
       "      <th>1</th>\n",
       "    </tr>\n",
       "  </thead>\n",
       "  <tbody>\n",
       "    <tr>\n",
       "      <th>total_income</th>\n",
       "      <td>19599</td>\n",
       "      <td>1732</td>\n",
       "      <td>3247810363</td>\n",
       "      <td>279115747</td>\n",
       "      <td>165713.065105</td>\n",
       "      <td>161152.278868</td>\n",
       "    </tr>\n",
       "  </tbody>\n",
       "</table>\n",
       "</div>"
      ],
      "text/plain": [
       "              count               sum                      mean               \n",
       "debt              0     1           0          1              0              1\n",
       "total_income  19599  1732  3247810363  279115747  165713.065105  161152.278868"
      ]
     },
     "execution_count": 36,
     "metadata": {},
     "output_type": "execute_result"
    }
   ],
   "source": [
    "data.pivot_table(columns='debt', values='total_income', \n",
    "                 aggfunc=['count', 'sum', 'mean']) \n",
    "# cоздание кросс-таблицы, показывающей средний ежемесячный доход, \n",
    "# который приходится на заёмщиков \n",
    "# с задолженностью по возврату кредитов и без неё"
   ]
  },
  {
   "cell_type": "markdown",
   "id": "ddaa96f2",
   "metadata": {},
   "source": [
    "Среднее значение ежемесячного дохода у заёмщиков, не имеющих задолженность по возврату кредитов (165,7 тыс.), выше, чем у тех, кто имеет задолженность (161,2 тыс.)."
   ]
  },
  {
   "cell_type": "markdown",
   "id": "6c7a78c6",
   "metadata": {},
   "source": [
    "Доходы кредитополучателей разделены на разные категории в зависимости от их размера:\n",
    "\n",
    "- 0–30000 — `'E'`;\n",
    "- 30001–50000 — `'D'`;\n",
    "- 50001–200000 — `'C'`;\n",
    "- 200001–1000000 — `'B'`;\n",
    "- 1000001 и выше — `'A'`."
   ]
  },
  {
   "cell_type": "markdown",
   "id": "8029871d",
   "metadata": {},
   "source": [
    "Построим гистограмму, чтобы посмотреть соотношение клиентов банка по уровню дохода."
   ]
  },
  {
   "cell_type": "code",
   "execution_count": 37,
   "id": "03f17665",
   "metadata": {},
   "outputs": [
    {
     "data": {
      "text/plain": [
       "Text(0, 0.5, 'Количество клиентов банка')"
      ]
     },
     "execution_count": 37,
     "metadata": {},
     "output_type": "execute_result"
    },
    {
     "data": {
      "image/png": "[encoded data removed]",
      "text/plain": [
       "<Figure size 864x576 with 1 Axes>"
      ]
     },
     "metadata": {},
     "output_type": "display_data"
    }
   ],
   "source": [
    "graph('total_income_category') \n",
    "# создание графика, который показывает количество наблюдений \n",
    "# в зависимости от уровня дохода\n",
    "plt.title('Уровень дохода клиентов банка', fontsize=16) \n",
    "# добавление заголовка к графику\n",
    "plt.xlabel('Уровень дохода', fontsize=14) \n",
    "# добавление подписи к горизонтальной оси графика\n",
    "plt.ylabel('Количество клиентов банка', fontsize=14) \n",
    "# добавление подписи к вертикальной оси графика"
   ]
  },
  {
   "cell_type": "markdown",
   "id": "3eb16d51",
   "metadata": {},
   "source": [
    "- Наибольшее число клиентов банка имеет средний уровень дохода — от 50 тыс. до 200 тыс.\n",
    "- Ко второй по численности группе относятся клиенты банка с уровнем дохода выше среднего — от 200 тыс. до 1 млн.\n",
    "- Существует небольшое количество клиентов с высоким уровнем дохода (от 1 млн. и выше), уровнем дохода ниже среднего (от 30 тыс. до 50 тыс.) и низким уровнем дохода (от 0 до 30 тыс.)."
   ]
  },
  {
   "cell_type": "markdown",
   "id": "674bebf2",
   "metadata": {},
   "source": [
    "Установим число клиентов банка с определённым уровнем дохода."
   ]
  },
  {
   "cell_type": "code",
   "execution_count": 38,
   "id": "52cffcf6",
   "metadata": {},
   "outputs": [
    {
     "data": {
      "text/plain": [
       "(C    15921\n",
       " B     5014\n",
       " D      349\n",
       " A       25\n",
       " E       22\n",
       " Name: total_income_category, dtype: int64,\n",
       " total_income_category\n",
       " A     0.117200\n",
       " B    23.505696\n",
       " C    74.637851\n",
       " D     1.636116\n",
       " E     0.103136\n",
       " dtype: float64)"
      ]
     },
     "execution_count": 38,
     "metadata": {},
     "output_type": "execute_result"
    }
   ],
   "source": [
    "number_and_proportion_of_variable_values('total_income_category') \n",
    "# рассчёт количества наблюдений и процентного соотношения \n",
    "# для каждой группы значений переменной ‘total_income_category’"
   ]
  },
  {
   "cell_type": "markdown",
   "id": "53e51852",
   "metadata": {},
   "source": [
    "- У 16 тыс. клиентов банка (75%) средний уровень дохода.\n",
    "- У 5 тыс. клиентов банка (24%) уровень дохода выше среднего.\n",
    "- У 349 клиентов банка (2%) уровень дохода ниже среднего.\n",
    "- У 25 клиентов банка высокий уровень дохода.\n",
    "- У 22 клиентов банка низкий уровень дохода.\n",
    "\n",
    "Выборки являются крайне несбалансированными. Самая маленькая категория в 728 раз меньше самой большой. Было бы лучше, если бы они были примерно одинаковыми."
   ]
  },
  {
   "cell_type": "markdown",
   "id": "413f5205",
   "metadata": {},
   "source": [
    "Рассчитаем долю заёмщиков с задолженностью по возврату кредитов для определённого уровня дохода."
   ]
  },
  {
   "cell_type": "code",
   "execution_count": 39,
   "id": "953abd77",
   "metadata": {},
   "outputs": [
    {
     "data": {
      "text/html": [
       "<div>\n",
       "<style scoped>\n",
       "    .dataframe tbody tr th:only-of-type {\n",
       "        vertical-align: middle;\n",
       "    }\n",
       "\n",
       "    .dataframe tbody tr th {\n",
       "        vertical-align: top;\n",
       "    }\n",
       "\n",
       "    .dataframe thead th {\n",
       "        text-align: right;\n",
       "    }\n",
       "</style>\n",
       "<table border=\"1\" class=\"dataframe\">\n",
       "  <thead>\n",
       "    <tr style=\"text-align: right;\">\n",
       "      <th></th>\n",
       "      <th>total_number_of_clients</th>\n",
       "      <th>number_of_debtors</th>\n",
       "      <th>share_of_debtors</th>\n",
       "    </tr>\n",
       "    <tr>\n",
       "      <th>total_income_category</th>\n",
       "      <th></th>\n",
       "      <th></th>\n",
       "      <th></th>\n",
       "    </tr>\n",
       "  </thead>\n",
       "  <tbody>\n",
       "    <tr>\n",
       "      <th>E</th>\n",
       "      <td>22</td>\n",
       "      <td>2</td>\n",
       "      <td>9.1%</td>\n",
       "    </tr>\n",
       "    <tr>\n",
       "      <th>C</th>\n",
       "      <td>15921</td>\n",
       "      <td>1353</td>\n",
       "      <td>8.5%</td>\n",
       "    </tr>\n",
       "    <tr>\n",
       "      <th>A</th>\n",
       "      <td>25</td>\n",
       "      <td>2</td>\n",
       "      <td>8.0%</td>\n",
       "    </tr>\n",
       "    <tr>\n",
       "      <th>B</th>\n",
       "      <td>5014</td>\n",
       "      <td>354</td>\n",
       "      <td>7.1%</td>\n",
       "    </tr>\n",
       "    <tr>\n",
       "      <th>D</th>\n",
       "      <td>349</td>\n",
       "      <td>21</td>\n",
       "      <td>6.0%</td>\n",
       "    </tr>\n",
       "  </tbody>\n",
       "</table>\n",
       "</div>"
      ],
      "text/plain": [
       "                       total_number_of_clients  number_of_debtors  \\\n",
       "total_income_category                                               \n",
       "E                                           22                  2   \n",
       "C                                        15921               1353   \n",
       "A                                           25                  2   \n",
       "B                                         5014                354   \n",
       "D                                          349                 21   \n",
       "\n",
       "                      share_of_debtors  \n",
       "total_income_category                   \n",
       "E                                 9.1%  \n",
       "C                                 8.5%  \n",
       "A                                 8.0%  \n",
       "B                                 7.1%  \n",
       "D                                 6.0%  "
      ]
     },
     "execution_count": 39,
     "metadata": {},
     "output_type": "execute_result"
    }
   ],
   "source": [
    " share_of_debtors('total_income_category') \n",
    "# создание кросс-таблицы, в которой для каждого уровня дохода \n",
    "# рассчитывается общее количество заёмщиков, \n",
    "# количество и доля заёмщиков с задолженностью по возврату кредитов"
   ]
  },
  {
   "cell_type": "markdown",
   "id": "22402d26",
   "metadata": {},
   "source": [
    "Если не учитывать немногочисленные по составу группы (2 должника с низким уровнем дохода и 2 — с высоким, 21 должник с уровнем дохода ниже среднего), то большую долю должников по кредитам составляют заёмщики со средним уровнем дохода (от 50 тыс. до 200 тыс.) и меньшую долю — заёмщики с уровнем дохода выше среднего (от 200 тыс. до 1 млн.)."
   ]
  },
  {
   "cell_type": "markdown",
   "id": "6dd14b57",
   "metadata": {
    "deletable": false,
    "id": "6dd14b57"
   },
   "source": [
    "**Вывод:** \n",
    "\n",
    "С более низким уровнем дохода увеличивается вероятность того, что кредит не будет погашен в установленные сроки. Людям с низким доходом может не хватать денег на своевременную оплату платежей по кредиту. Причиной этого может служить отсутствие стабильного источника дохода, непредвиденные расходы, неумение правильно планировать свой бюджет.\n",
    "\n",
    "Чем выше доход заёмщика, тем больше вероятность того, что он сможет своевременно погасить кредит. Это связано с тем, что у заёмщика с высоким доходом меньше финансовых трудностей и больше возможностей для погашения кредита."
   ]
  },
  {
   "cell_type": "markdown",
   "id": "bd1b2ebf",
   "metadata": {},
   "source": [
    "<div class=\"alert alert-info\">\n",
    "\n",
    "#### **Артём:** 💡 Дам тебе совет на будущее, как лучше проводить категоризацию количественных данных. **В этом проекте переделывать ничего не надо, так как заказчик уже предложил свои категории, его стоит проинформировать, что выборки крайне несбалансированны.** Если только как дополнительное исследование.\n",
    "    \n",
    "Сейчас самая маленькая категория в 728 раз меньше самой большой. Это может отразиться на результатах исследования. Когда мы делим на категории количественные данные, то лучше их делать примерно одинаковыми. Для этого можно воспользоваться методом `qcut()`. Пример:\n",
    "    \n",
    "```py\n",
    "pd.qcut(df['total_income'], 4)\n",
    "```\n",
    "    \n",
    "```\n",
    "Name: total_income, Length: 21453, dtype: category\n",
    "Categories (4, interval[float64]): [(20666.999, 107620.0]  (107620.0, 142594.0]  (142594.0, 195818.0]  (195818.0, 2265604.0]]\n",
    "```\n",
    "                                                                                                               \n",
    "Что внутри: \n",
    "    \n",
    "```py\n",
    "pd.qcut(датафрейм['столбец'], количество_категорий)\n",
    "``` \n",
    "    \n",
    "Итого у нас 4 категории:\n",
    "<ul>\n",
    "  <li>меньше 107_620</li>\n",
    "  <li>от 107_620 до 142_594</li>\n",
    "  <li>от 142_594 до 195_818</li>\n",
    "  <li>от 195_818</li>\n",
    "</ul>"
   ]
  },
  {
   "cell_type": "markdown",
   "id": "1dcc9b12",
   "metadata": {
    "deletable": false,
    "editable": false,
    "id": "1dcc9b12"
   },
   "source": [
    "#### 3.4 Как разные цели кредита влияют на его возврат в срок?"
   ]
  },
  {
   "cell_type": "markdown",
   "id": "0637b40f",
   "metadata": {
    "deletable": false,
    "id": "c602bc8b"
   },
   "source": [
    "Построим гистограмму, чтобы посмотреть соотношение клиентов банка по цели получения кредита."
   ]
  },
  {
   "cell_type": "code",
   "execution_count": 40,
   "id": "b3365817",
   "metadata": {},
   "outputs": [
    {
     "data": {
      "text/plain": [
       "Text(0, 0.5, 'Количество клиентов банка')"
      ]
     },
     "execution_count": 40,
     "metadata": {},
     "output_type": "execute_result"
    },
    {
     "data": {
      "image/png": "[encoded data removed]",
      "text/plain": [
       "<Figure size 864x576 with 1 Axes>"
      ]
     },
     "metadata": {},
     "output_type": "display_data"
    }
   ],
   "source": [
    "graph('purpose_category') \n",
    "# создание графика, который показывает количество наблюдений \n",
    "# в зависимости от цели получения кредита\n",
    "plt.title('Цель получения кредита клиентами банка', fontsize=16) \n",
    "# добавление заголовка к графику\n",
    "plt.xlabel('Цель получения кредита', fontsize=14) \n",
    "# добавление подписи к горизонтальной оси графика\n",
    "plt.ylabel('Количество клиентов банка', fontsize=14) \n",
    "# добавление подписи к вертикальной оси графика"
   ]
  },
  {
   "cell_type": "markdown",
   "id": "d4d346cd",
   "metadata": {},
   "source": [
    "- Самой популярной целью получения кредита является проведение операций с недвижимостью. \n",
    "- К наименее распространённой цели кредита относится проведение свадьбы."
   ]
  },
  {
   "cell_type": "markdown",
   "id": "5c8d86b4",
   "metadata": {},
   "source": [
    "Выявим количество клиентов банка с определённой целью получения кредита."
   ]
  },
  {
   "cell_type": "code",
   "execution_count": 41,
   "id": "c4d38d31",
   "metadata": {},
   "outputs": [
    {
     "data": {
      "text/plain": [
       "(операции с недвижимостью    10751\n",
       " операции с автомобилем       4279\n",
       " получение образования        3988\n",
       " проведение свадьбы           2313\n",
       " Name: purpose_category, dtype: int64,\n",
       " purpose_category\n",
       " операции с автомобилем      20.060007\n",
       " операции с недвижимостью    50.400825\n",
       " получение образования       18.695795\n",
       " проведение свадьбы          10.843373\n",
       " dtype: float64)"
      ]
     },
     "execution_count": 41,
     "metadata": {},
     "output_type": "execute_result"
    }
   ],
   "source": [
    "number_and_proportion_of_variable_values('purpose_category') \n",
    "# рассчёт количества наблюдений и процентного соотношения \n",
    "# для каждой группы значений переменной ‘purpose_category’"
   ]
  },
  {
   "cell_type": "markdown",
   "id": "f0119e79",
   "metadata": {},
   "source": [
    "<div class=\"alert alert-success\">\n",
    "\n",
    "**Артём:**  Когда комментарий или код прешывает 79 символов в строке - это стилистическая ошибка с точки зрения международных стандартов ([PEP 8](https://www.python.org/dev/peps/pep-0008/)) разработчиков на Python. \n",
    "    \n",
    "\n",
    "</div>\n",
    "<div class=\"alert alert-success\">\n",
    "\n",
    "**Артём:** 👍 Спасибо."
   ]
  },
  {
   "cell_type": "markdown",
   "id": "cbf760d7",
   "metadata": {},
   "source": [
    "- 10,8 тыс. человек взяли кредит на операции с недвижимостью, что составляет половину всех клиентов банка.\n",
    "- 4,3 тыс. человек оформили кредит на операции с автомобилем — 20% от общего числа клиентов.\n",
    "- Для 4 тыс. человек (19%) целью кредита является получение образования.\n",
    "- 2,3 тыс. человек (11%) указали в качестве цели получения кредита проведение свадьбы."
   ]
  },
  {
   "cell_type": "markdown",
   "id": "e469078b",
   "metadata": {},
   "source": [
    "Рассчитаем долю заёмщиков с задолженностью по возврату кредитов для определённой цели получения кредита."
   ]
  },
  {
   "cell_type": "code",
   "execution_count": 42,
   "id": "f58cc542",
   "metadata": {},
   "outputs": [
    {
     "data": {
      "text/html": [
       "<div>\n",
       "<style scoped>\n",
       "    .dataframe tbody tr th:only-of-type {\n",
       "        vertical-align: middle;\n",
       "    }\n",
       "\n",
       "    .dataframe tbody tr th {\n",
       "        vertical-align: top;\n",
       "    }\n",
       "\n",
       "    .dataframe thead th {\n",
       "        text-align: right;\n",
       "    }\n",
       "</style>\n",
       "<table border=\"1\" class=\"dataframe\">\n",
       "  <thead>\n",
       "    <tr style=\"text-align: right;\">\n",
       "      <th></th>\n",
       "      <th>total_number_of_clients</th>\n",
       "      <th>number_of_debtors</th>\n",
       "      <th>share_of_debtors</th>\n",
       "    </tr>\n",
       "    <tr>\n",
       "      <th>purpose_category</th>\n",
       "      <th></th>\n",
       "      <th></th>\n",
       "      <th></th>\n",
       "    </tr>\n",
       "  </thead>\n",
       "  <tbody>\n",
       "    <tr>\n",
       "      <th>операции с автомобилем</th>\n",
       "      <td>4279</td>\n",
       "      <td>400</td>\n",
       "      <td>9.3%</td>\n",
       "    </tr>\n",
       "    <tr>\n",
       "      <th>получение образования</th>\n",
       "      <td>3988</td>\n",
       "      <td>369</td>\n",
       "      <td>9.3%</td>\n",
       "    </tr>\n",
       "    <tr>\n",
       "      <th>проведение свадьбы</th>\n",
       "      <td>2313</td>\n",
       "      <td>183</td>\n",
       "      <td>7.9%</td>\n",
       "    </tr>\n",
       "    <tr>\n",
       "      <th>операции с недвижимостью</th>\n",
       "      <td>10751</td>\n",
       "      <td>780</td>\n",
       "      <td>7.3%</td>\n",
       "    </tr>\n",
       "  </tbody>\n",
       "</table>\n",
       "</div>"
      ],
      "text/plain": [
       "                          total_number_of_clients  number_of_debtors  \\\n",
       "purpose_category                                                       \n",
       "операции с автомобилем                       4279                400   \n",
       "получение образования                        3988                369   \n",
       "проведение свадьбы                           2313                183   \n",
       "операции с недвижимостью                    10751                780   \n",
       "\n",
       "                         share_of_debtors  \n",
       "purpose_category                           \n",
       "операции с автомобилем               9.3%  \n",
       "получение образования                9.3%  \n",
       "проведение свадьбы                   7.9%  \n",
       "операции с недвижимостью             7.3%  "
      ]
     },
     "execution_count": 42,
     "metadata": {},
     "output_type": "execute_result"
    }
   ],
   "source": [
    "share_of_debtors('purpose_category') \n",
    "# создание кросс-таблицы, в которой для каждой цели получения кредита \n",
    "# рассчитывается общее колчество заёмщиков, \n",
    "# количество и доля заёмщиков с задолженностью по возврату кредитов"
   ]
  },
  {
   "cell_type": "markdown",
   "id": "50efd030",
   "metadata": {},
   "source": [
    "- На операции с автомобилем и получение образования приходится большая доля должников по возврату кредитов.\n",
    "- Меньшую долю должников составляют те клиенты банка, кто взял кредит на  операции с недвижимостью и проведение свадьбы."
   ]
  },
  {
   "cell_type": "markdown",
   "id": "cf05ed63",
   "metadata": {
    "deletable": false,
    "id": "cf05ed63"
   },
   "source": [
    "**Вывод:** \n",
    "\n",
    "При взятии автокредита вероятность невозврата кредита в установленный срок повышается. Сроки погашения автокредитов, как правило, короткие. Это связано с тем, что автомобиль обычно быстро теряет свою стоимость. Процентные ставки по автокредитам обычно выше, чем по другим кредитам, так как кредиты, связанные с операциями с автомобилем, считаются более рискованными. Возможные аварии и повреждения автомобиля снижают его стоимость и делают менее привлекательным для продажи в случае неплатёжеспособности заёмщика. Рынок автомобилей постоянно меняется, и новые модели могут вытеснить старые, что также оказывает влияние на стоимость машины.\n",
    "\n",
    "При оформлении кредита на получение образования вероятность несвоевременного погашения кредита также возрастает. Стоимость обучения может значительно возрасти в течение срока кредита, что может сделать его более трудным для выплаты заёмщиком. Заёмщик может не получить работу после окончания учебного заведения, решить не работать в выбранной области, что также может затруднить выплату кредита.\n",
    "\n",
    "Кредиты на недвижимость обычно имеют более низкие процентные ставки, что может сделать их доступнее для выплаты. Недвижимость является более стабильным активом, который не теряет своей стоимости так быстро, как, например, автомобиль.  Ипотечные кредиты часто имеют длительные сроки погашения, что позволяет заёмщикам выплачивать кредиты более равномерно и без больших переплат. Кредиты на недвижимость также могут быть погашены досрочно без штрафов.\n",
    "\n",
    "Возможно, кредиты на свадьбу легче выплатить в срок по сравнению с другими видами кредитов, потому что свадьба является важным событием в жизни людей, в связи с чем банки могут быть готовы предложить выгодные условия погашения такого кредита."
   ]
  },
  {
   "cell_type": "markdown",
   "id": "af99490a",
   "metadata": {},
   "source": [
    "<div class=\"alert alert-success\">\n",
    "\n",
    "**Артём:** 👍 Правильно.\n",
    "  \n",
    "</div> "
   ]
  },
  {
   "cell_type": "markdown",
   "id": "46c1f10b",
   "metadata": {
    "deletable": false,
    "editable": false,
    "id": "46c1f10b"
   },
   "source": [
    "#### 3.5 Приведите возможные причины появления пропусков в исходных данных."
   ]
  },
  {
   "cell_type": "markdown",
   "id": "3697d2a9",
   "metadata": {
    "deletable": false,
    "id": "3697d2a9"
   },
   "source": [
    "В двух столбцах есть пропущенные значения. Один из них — `days_employed`, содержащий информацию об общем трудовом стаже в днях. Другой столбец с пропущенными значениями — `total_income`, хранящий данные об ежемесячных доходах.\n",
    "\n",
    "Возможные причины наличия пропущенных значений в данных о трудовом стаже клиентов банка:\n",
    "- ошибки при вводе данных;\n",
    "- технические проблемы;\n",
    "- некоторые клиенты банка считают свой трудовой стаж конфиденциальной информацией и не хотят её раскрывать;\n",
    "- клиенты работают неофициально и не указывают информацию о трудовом стаже;\n",
    "- клиенты часто меняют работу и не имеют стабильного трудового стажа.\n",
    "\n",
    "Возможные причины появления пропусков в данных о доходах клиентов банка:\n",
    "- ошибки ввода данных;\n",
    "- технические проблемы;\n",
    "- нежелание клиентов банка раскрывать информацию о своих доходах;\n",
    "- клиенты имеют доходы из разных источников, которые не всегда легко отследить;\n",
    "- доходы могут быть получены в виде наличных, которые не учитываются в банковских системах;\n",
    "- временные промежутки между доходами слишком короткие, что делает их трудноизмеримыми."
   ]
  },
  {
   "cell_type": "markdown",
   "id": "d39970ea",
   "metadata": {},
   "source": [
    "<div class=\"alert alert-success\">\n",
    "\n",
    "**Артём:** 👍 Согласен.\n",
    "  \n",
    "</div> "
   ]
  },
  {
   "cell_type": "markdown",
   "id": "3137d257",
   "metadata": {
    "deletable": false,
    "editable": false,
    "id": "3137d257"
   },
   "source": [
    "#### 3.6 Объясните, почему заполнить пропуски медианным значением — лучшее решение для количественных переменных."
   ]
  },
  {
   "cell_type": "markdown",
   "id": "cf40012a",
   "metadata": {
    "deletable": false,
    "id": "cf40012a"
   },
   "source": [
    "В столбцах `total_income` (ежемесячный доход) и `days_employed` (количество дней трудового стажа) пропуски заполнены медианными значениями.\n",
    "\n",
    "Доход и трудовой стаж в днях являются количественными значениями. Пропуски в таких колонках обычно заполняют средним арифметическим или медианой. В данном случае лучше использовать медиану, так как в данных могут быть выдающиеся значения, которые сместят среднее. Заполнение пропусков нулём или максимальным значением нецелесообразно, потому что такие значения нельзя назвать характерными."
   ]
  },
  {
   "cell_type": "markdown",
   "id": "28cc0682",
   "metadata": {},
   "source": [
    "<div class=\"alert alert-success\">\n",
    "\n",
    "**Артём:** 👍 Молодец.\n",
    "  \n",
    "</div> "
   ]
  },
  {
   "cell_type": "markdown",
   "id": "57bc304e",
   "metadata": {
    "deletable": false,
    "editable": false,
    "id": "57bc304e"
   },
   "source": [
    "### Шаг 4: общий вывод."
   ]
  },
  {
   "cell_type": "markdown",
   "id": "1ab75d1c",
   "metadata": {
    "deletable": false,
    "id": "1ab75d1c"
   },
   "source": [
    "Нами было проведено исследование надёжности заёмщиков на основе данных от кредитного отдела банка — статистике о платёжеспособности клиентов. При изучении данных было обнаружено, что есть пропущенные и аномальные значения, дубликаты.\n",
    "\n",
    "Пропущенные значения в данных могли появиться из-за ошибок при внесении информации, технических проблем. Кроме того, данные могли быть не указаны намеренно по разным причинам. Пропуски были заполнены медианным значением. Среднее значение некорректно характеризует данные, когда некоторые значения сильно выделяются среди большинства. В таком случае медиана — это более объективная информация.\n",
    "\n",
    "Артефакты или аномалии — значения, которые не отражают действительность и появились по какой-то ошибке. К таким артефактам относятся аномально большие и отрицательные значения. Отрицательные значения были заменены положительными. Аномально большие значения были удалены. Одни и те же значения, но записанные по-разному, также были удалены.\n",
    "\n",
    "Вещественный тип некоторых данных был заменён на целочисленный. Последний обычно имеет большую ёмкость для хранения чисел и обеспечивает более высокую точность при работе с большими числами.\n",
    "\n",
    "Часть данных была разделена на категории. Это позволило работать с меньшим объёмом информации, что ускорило процесс анализа и позволило выявить закономерности и тенденции, которые не видны при работе с большим объёмом данных.\n",
    "\n",
    "В ходе исследования было выявлено, что такие факторы, как количество детей, семейное положение, уровень дохода и цель получения кредита, оказывают влияние на погашение заёмщиком кредита в срок.\n",
    "\n",
    "- Большинство бездетных людей не имеют задолженность по возврату кредитов. Наличие детей повышает риск невозврата кредита в срок. При этом с увеличением количества детей вероятность невозврата кредита в срок может уменьшаться.\n",
    "\n",
    "- Люди, не состоящие в браке, и гражданские супруги больше рискуют стать должниками по кредиту. Те, кто когда-либо состоял или в настоящий момент состоит в официальном браке, в меньшей степени подвержены риску возникновения задолженности по возврату кредита.\n",
    "\n",
    "- С низким уровнем дохода люди могут столкнуться с трудностями в погашении кредита. Чем выше доход заёмщика, тем больше вероятность того, что он сможет своевременно погасить кредит.\n",
    "\n",
    "- При взятии автокредита и кредита на получение образования риск несвоевременного погашения кредита возрастает. При оформлении кредита на недвижимость или свадьбу меньше вероятность того, что он не будет погашен в установленные сроки.\n",
    "\n",
    "Таким образом, к более надёжному кредитополучателю можно отнести человека, в прошлом или настоящем состоящего в зарегистрированном браке, бездетного или многодетного, имеющего доход выше среднего, а также оформляющего кредит либо на операции с недвижимостью, либо с целью проведения свадьбы.\n",
    "\n",
    "Результаты исследования могут быть использованы при построении модели кредитного скоринга — специальной системы, которая оценивает способность потенциального заёмщика вернуть кредит банку."
   ]
  },
  {
   "cell_type": "markdown",
   "id": "64390d5c",
   "metadata": {},
   "source": [
    "<div class=\"alert alert-success\">\n",
    "\n",
    "**Артём:** 👍 Хороший вывод. Аккуратно, последовательно приятно читать.\n",
    "\n",
    "</div>"
   ]
  },
  {
   "cell_type": "markdown",
   "id": "3375bbc1",
   "metadata": {},
   "source": [
    "## 🏁 Итоги ревью\n",
    "<a id=\"results\"></a>\n",
    "[В начало](#start)\n",
    "<div class=\"alert alert-success\">\n",
    "\n",
    "**Артём:** 👍 Диана, у тебя отличная работа. Можно идти к заказчику. Возможно у тебя есть вопросы, если нет, то верни проект, и я его приму.\n",
    "\n",
    "</div>"
   ]
  },
  {
   "cell_type": "markdown",
   "id": "106aacc2",
   "metadata": {},
   "source": [
    "<div style=\"background-color:lavender; color:#black; text-align:center; padding:2%\">\n",
    "    \n",
    "**Диана:** Привет, Артём! 👋 Спасибо тебе большое!!! Постаралась учесть замечания. 🙂"
   ]
  },
  {
   "cell_type": "markdown",
   "id": "52b316e8",
   "metadata": {},
   "source": [
    "<img src=\"https://s19536.pcdn.co/wp-content/uploads/2020/06/Web-Great-Job.jpg\"> \n",
    "<div class=\"alert alert-success\">   \n",
    "\n",
    "**Артём:** ✌️ Диана, и тебе спасибо за работу и внесенные корректировки! Критических замечаний нет.\n",
    "    \n",
    "\n",
    "Поздравляю, **проект принят!** 🥳 🎉 Ты молодец!\n",
    "\n",
    "Желаю тебе успехов в дальнейшем обучении. 😉\n",
    "    \n",
    "---\n",
    "    \n",
    "#### 📖 **Полезные ссылки**\n",
    "\n",
    "* [Работа в Яндексе](https://yandex.ru/jobs/pages/analytics_interview?ysclid=l84s63fs1g790141490)\n",
    "* [Настройте свой Jupyter Notebook правильно](https://medium.com/nuances-of-programming/настройте-свой-jupyter-notebook-правильно-faef14c89434)    \n",
    "* [Краткое руководство по Маркдауну](https://paulradzkov.com/2014/markdown_cheatsheet/?)\n",
    "* [PEP 8 – Style Guide for Python Code](https://www.python.org/dev/peps/pep-0008/)    \n",
    "* [Обработка пропусков в данных](https://loginom.ru/blog/missing)  \n",
    "* [Разделение данных с помощью qcut и cut в Pandas](https://dfedorov.spb.ru/pandas/Разделение%20данных%20в%20Pandas%20с%20помощью%20qcut%20и%20cut.html?)  \n",
    "* [Официальная документаци метода qcut](https://pandas.pydata.org/pandas-docs/stable/reference/api/pandas.qcut.html)  \n",
    "* [Подробное руководство по группировке и агрегированию с помощью pandas](https://dfedorov.spb.ru/pandas/Подробное%20руководство%20по%20группировке%20и%20агрегированию%20с%20помощью%20pandas.html?ysclid=lcmm6rtg2w602526506)\n",
    "* [Шпаргалка по визуализации данных в Python с помощью Plotly](https://habr.com/ru/articles/502958/) \n",
    "* [Тест гигиены визуализации данных](https://bar-or-pie.dianov.org)    \n",
    "* [Задачки SQL](https://habr.com/ru/company/dcmiran/blog/500360/)    \n",
    "* [7 cайтов для оттачивания навыка написания SQL запросов на 2020 год](https://techrocks.ru/2019/11/22/7-sites-to-perfect-sql-query-writing-skills/)\n",
    "* [Главред помогает очистить текст от словесного мусора, проверяет на соответствие информационному стилю.](https://glvrd.ru)\n",
    "\n",
    "</div>    "
   ]
  },
  {
   "cell_type": "code",
   "execution_count": null,
   "id": "fcd43356",
   "metadata": {},
   "outputs": [],
   "source": []
  }
 ],
 "metadata": {
  "ExecuteTimeLog": [
   {
    "duration": 684,
    "start_time": "2024-03-09T16:29:32.666Z"
   },
   {
    "duration": 23,
    "start_time": "2024-03-09T16:29:33.352Z"
   },
   {
    "duration": 16,
    "start_time": "2024-03-09T16:29:33.376Z"
   },
   {
    "duration": 10,
    "start_time": "2024-03-09T16:29:33.394Z"
   },
   {
    "duration": 42,
    "start_time": "2024-03-09T16:29:33.406Z"
   },
   {
    "duration": 3,
    "start_time": "2024-03-09T16:29:33.450Z"
   },
   {
    "duration": 7,
    "start_time": "2024-03-09T16:29:33.455Z"
   },
   {
    "duration": 7,
    "start_time": "2024-03-09T16:29:33.464Z"
   },
   {
    "duration": 8,
    "start_time": "2024-03-09T16:29:33.473Z"
   },
   {
    "duration": 32,
    "start_time": "2024-03-09T16:29:33.483Z"
   },
   {
    "duration": 36,
    "start_time": "2024-03-09T16:29:33.516Z"
   },
   {
    "duration": 11,
    "start_time": "2024-03-09T16:29:33.553Z"
   },
   {
    "duration": 4,
    "start_time": "2024-03-09T16:29:33.565Z"
   },
   {
    "duration": 13,
    "start_time": "2024-03-09T16:29:33.570Z"
   },
   {
    "duration": 45,
    "start_time": "2024-03-09T16:29:33.584Z"
   },
   {
    "duration": 17,
    "start_time": "2024-03-09T16:29:33.631Z"
   },
   {
    "duration": 3,
    "start_time": "2024-03-09T16:29:33.650Z"
   },
   {
    "duration": 12,
    "start_time": "2024-03-09T16:29:33.654Z"
   },
   {
    "duration": 5,
    "start_time": "2024-03-09T16:29:33.668Z"
   },
   {
    "duration": 3,
    "start_time": "2024-03-09T16:29:33.675Z"
   },
   {
    "duration": 42,
    "start_time": "2024-03-09T16:29:33.679Z"
   },
   {
    "duration": 2,
    "start_time": "2024-03-09T16:29:33.723Z"
   },
   {
    "duration": 4,
    "start_time": "2024-03-09T16:29:33.726Z"
   },
   {
    "duration": 3,
    "start_time": "2024-03-09T16:29:33.732Z"
   },
   {
    "duration": 6,
    "start_time": "2024-03-09T16:29:33.736Z"
   },
   {
    "duration": 6,
    "start_time": "2024-03-09T16:38:36.665Z"
   },
   {
    "duration": 1016,
    "start_time": "2024-03-09T16:51:29.598Z"
   },
   {
    "duration": 124,
    "start_time": "2024-03-09T16:51:31.726Z"
   },
   {
    "duration": 148,
    "start_time": "2024-03-09T16:52:10.195Z"
   },
   {
    "duration": 116,
    "start_time": "2024-03-09T17:16:12.303Z"
   },
   {
    "duration": 14,
    "start_time": "2024-03-09T17:16:18.614Z"
   },
   {
    "duration": 221,
    "start_time": "2024-03-09T17:16:21.935Z"
   },
   {
    "duration": 203,
    "start_time": "2024-03-09T17:16:36.804Z"
   },
   {
    "duration": 3,
    "start_time": "2024-03-09T17:21:34.501Z"
   },
   {
    "duration": 15,
    "start_time": "2024-03-09T17:23:20.754Z"
   },
   {
    "duration": 6,
    "start_time": "2024-03-09T17:24:28.511Z"
   },
   {
    "duration": 402,
    "start_time": "2024-03-09T17:24:31.364Z"
   },
   {
    "duration": 15,
    "start_time": "2024-03-09T17:25:04.618Z"
   },
   {
    "duration": 15,
    "start_time": "2024-03-09T17:28:16.841Z"
   },
   {
    "duration": 9,
    "start_time": "2024-03-09T17:29:23.460Z"
   },
   {
    "duration": 7,
    "start_time": "2024-03-09T17:56:20.600Z"
   },
   {
    "duration": 7,
    "start_time": "2024-03-09T17:56:57.438Z"
   },
   {
    "duration": 6,
    "start_time": "2024-03-09T17:57:27.146Z"
   },
   {
    "duration": 7,
    "start_time": "2024-03-09T17:57:44.360Z"
   },
   {
    "duration": 11,
    "start_time": "2024-03-09T18:08:26.555Z"
   },
   {
    "duration": 4,
    "start_time": "2024-03-09T18:10:17.703Z"
   },
   {
    "duration": 10,
    "start_time": "2024-03-09T18:11:12.677Z"
   },
   {
    "duration": 14,
    "start_time": "2024-03-09T18:11:26.943Z"
   },
   {
    "duration": 6,
    "start_time": "2024-03-09T18:14:04.158Z"
   },
   {
    "duration": 7,
    "start_time": "2024-03-09T18:22:36.589Z"
   },
   {
    "duration": 79,
    "start_time": "2024-03-09T18:29:41.569Z"
   },
   {
    "duration": 18,
    "start_time": "2024-03-09T18:29:54.033Z"
   },
   {
    "duration": 8,
    "start_time": "2024-03-09T18:30:29.684Z"
   },
   {
    "duration": 12,
    "start_time": "2024-03-09T18:31:39.577Z"
   },
   {
    "duration": 13,
    "start_time": "2024-03-09T18:38:26.670Z"
   },
   {
    "duration": 13,
    "start_time": "2024-03-09T18:40:23.164Z"
   },
   {
    "duration": 13,
    "start_time": "2024-03-09T18:40:57.641Z"
   },
   {
    "duration": 16,
    "start_time": "2024-03-09T18:41:05.625Z"
   },
   {
    "duration": 17,
    "start_time": "2024-03-09T18:43:45.552Z"
   },
   {
    "duration": 5,
    "start_time": "2024-03-09T18:52:29.359Z"
   },
   {
    "duration": 15,
    "start_time": "2024-03-09T18:55:58.039Z"
   },
   {
    "duration": 22,
    "start_time": "2024-03-09T18:56:54.913Z"
   },
   {
    "duration": 6,
    "start_time": "2024-03-09T19:03:14.627Z"
   },
   {
    "duration": 4,
    "start_time": "2024-03-09T19:04:48.526Z"
   },
   {
    "duration": 5,
    "start_time": "2024-03-09T19:06:03.921Z"
   },
   {
    "duration": 14,
    "start_time": "2024-03-09T19:06:44.835Z"
   },
   {
    "duration": 5,
    "start_time": "2024-03-09T19:10:32.334Z"
   },
   {
    "duration": 16,
    "start_time": "2024-03-09T19:14:20.488Z"
   },
   {
    "duration": 19,
    "start_time": "2024-03-09T19:17:36.912Z"
   },
   {
    "duration": 5,
    "start_time": "2024-03-09T20:18:49.081Z"
   },
   {
    "duration": 48,
    "start_time": "2024-03-09T20:19:48.429Z"
   },
   {
    "duration": 54,
    "start_time": "2024-03-09T20:21:03.725Z"
   },
   {
    "duration": 14,
    "start_time": "2024-03-09T20:21:48.569Z"
   },
   {
    "duration": 14,
    "start_time": "2024-03-09T20:28:29.577Z"
   },
   {
    "duration": 5,
    "start_time": "2024-03-09T20:29:14.119Z"
   },
   {
    "duration": 4,
    "start_time": "2024-03-09T20:30:45.576Z"
   },
   {
    "duration": 4,
    "start_time": "2024-03-09T20:30:58.957Z"
   },
   {
    "duration": 196,
    "start_time": "2024-03-09T20:33:30.373Z"
   },
   {
    "duration": 248,
    "start_time": "2024-03-09T20:34:17.865Z"
   },
   {
    "duration": 198,
    "start_time": "2024-03-09T20:34:30.491Z"
   },
   {
    "duration": 823,
    "start_time": "2024-03-09T20:37:01.788Z"
   },
   {
    "duration": 18,
    "start_time": "2024-03-09T20:38:23.168Z"
   },
   {
    "duration": 17,
    "start_time": "2024-03-09T20:38:48.004Z"
   },
   {
    "duration": 16,
    "start_time": "2024-03-09T20:41:00.806Z"
   },
   {
    "duration": 7,
    "start_time": "2024-03-09T20:41:58.511Z"
   },
   {
    "duration": 563,
    "start_time": "2024-03-10T19:40:38.983Z"
   },
   {
    "duration": 22,
    "start_time": "2024-03-10T19:40:39.548Z"
   },
   {
    "duration": 30,
    "start_time": "2024-03-10T19:40:39.574Z"
   },
   {
    "duration": 12,
    "start_time": "2024-03-10T19:40:39.606Z"
   },
   {
    "duration": 40,
    "start_time": "2024-03-10T19:40:39.620Z"
   },
   {
    "duration": 3,
    "start_time": "2024-03-10T19:40:39.661Z"
   },
   {
    "duration": 13,
    "start_time": "2024-03-10T19:40:39.666Z"
   },
   {
    "duration": 5,
    "start_time": "2024-03-10T19:40:39.681Z"
   },
   {
    "duration": 7,
    "start_time": "2024-03-10T19:40:39.689Z"
   },
   {
    "duration": 7,
    "start_time": "2024-03-10T19:40:39.697Z"
   },
   {
    "duration": 38,
    "start_time": "2024-03-10T19:40:39.705Z"
   },
   {
    "duration": 31,
    "start_time": "2024-03-10T19:40:39.745Z"
   },
   {
    "duration": 9,
    "start_time": "2024-03-10T19:40:39.778Z"
   },
   {
    "duration": 19,
    "start_time": "2024-03-10T19:40:39.789Z"
   },
   {
    "duration": 19,
    "start_time": "2024-03-10T19:40:39.810Z"
   },
   {
    "duration": 18,
    "start_time": "2024-03-10T19:40:39.831Z"
   },
   {
    "duration": 4,
    "start_time": "2024-03-10T19:40:39.851Z"
   },
   {
    "duration": 11,
    "start_time": "2024-03-10T19:40:39.872Z"
   },
   {
    "duration": 12,
    "start_time": "2024-03-10T19:40:39.885Z"
   },
   {
    "duration": 10,
    "start_time": "2024-03-10T19:40:39.899Z"
   },
   {
    "duration": 13,
    "start_time": "2024-03-10T19:40:39.911Z"
   },
   {
    "duration": 10,
    "start_time": "2024-03-10T19:40:39.925Z"
   },
   {
    "duration": 969,
    "start_time": "2024-03-10T19:40:39.937Z"
   },
   {
    "duration": 135,
    "start_time": "2024-03-10T19:40:40.908Z"
   },
   {
    "duration": 148,
    "start_time": "2024-03-10T19:40:41.045Z"
   },
   {
    "duration": 15,
    "start_time": "2024-03-10T19:40:41.195Z"
   },
   {
    "duration": 230,
    "start_time": "2024-03-10T19:40:41.213Z"
   },
   {
    "duration": 6,
    "start_time": "2024-03-10T19:40:41.445Z"
   },
   {
    "duration": 16,
    "start_time": "2024-03-10T19:40:41.452Z"
   },
   {
    "duration": 5,
    "start_time": "2024-03-10T19:40:41.470Z"
   },
   {
    "duration": 14,
    "start_time": "2024-03-10T19:40:41.477Z"
   },
   {
    "duration": 16,
    "start_time": "2024-03-10T19:40:41.492Z"
   },
   {
    "duration": 20,
    "start_time": "2024-03-10T19:40:41.510Z"
   },
   {
    "duration": 9,
    "start_time": "2024-03-10T19:40:41.531Z"
   },
   {
    "duration": 17,
    "start_time": "2024-03-10T19:40:41.541Z"
   },
   {
    "duration": 28,
    "start_time": "2024-03-10T19:40:41.559Z"
   },
   {
    "duration": 22,
    "start_time": "2024-03-10T19:40:41.588Z"
   },
   {
    "duration": 34,
    "start_time": "2024-03-10T19:40:41.613Z"
   },
   {
    "duration": 2,
    "start_time": "2024-03-10T19:40:41.649Z"
   },
   {
    "duration": 40,
    "start_time": "2024-03-10T19:40:41.653Z"
   },
   {
    "duration": 22,
    "start_time": "2024-03-10T19:40:41.695Z"
   },
   {
    "duration": 6,
    "start_time": "2024-03-10T19:40:41.719Z"
   },
   {
    "duration": 18,
    "start_time": "2024-03-10T19:40:41.726Z"
   },
   {
    "duration": 15,
    "start_time": "2024-03-10T19:40:41.746Z"
   },
   {
    "duration": 16,
    "start_time": "2024-03-10T19:40:41.762Z"
   },
   {
    "duration": 3,
    "start_time": "2024-03-10T19:40:41.779Z"
   },
   {
    "duration": 16,
    "start_time": "2024-03-10T19:40:41.784Z"
   },
   {
    "duration": 18,
    "start_time": "2024-03-10T19:40:41.801Z"
   },
   {
    "duration": 27,
    "start_time": "2024-03-10T19:40:41.820Z"
   },
   {
    "duration": 5,
    "start_time": "2024-03-10T19:40:41.849Z"
   },
   {
    "duration": 7,
    "start_time": "2024-03-10T19:40:41.856Z"
   },
   {
    "duration": 9,
    "start_time": "2024-03-10T19:40:41.865Z"
   },
   {
    "duration": 202,
    "start_time": "2024-03-10T19:40:41.875Z"
   },
   {
    "duration": 3,
    "start_time": "2024-03-10T19:40:42.078Z"
   },
   {
    "duration": 19,
    "start_time": "2024-03-10T19:40:42.083Z"
   },
   {
    "duration": 17,
    "start_time": "2024-03-10T19:40:42.103Z"
   },
   {
    "duration": 16,
    "start_time": "2024-03-10T19:40:42.121Z"
   },
   {
    "duration": 697,
    "start_time": "2024-03-19T10:53:52.344Z"
   },
   {
    "duration": 26,
    "start_time": "2024-03-19T10:53:53.044Z"
   },
   {
    "duration": 28,
    "start_time": "2024-03-19T10:53:53.072Z"
   },
   {
    "duration": 12,
    "start_time": "2024-03-19T10:53:53.103Z"
   },
   {
    "duration": 43,
    "start_time": "2024-03-19T10:53:53.117Z"
   },
   {
    "duration": 32,
    "start_time": "2024-03-19T10:53:53.162Z"
   },
   {
    "duration": 11,
    "start_time": "2024-03-19T10:53:53.198Z"
   },
   {
    "duration": 5,
    "start_time": "2024-03-19T10:53:53.211Z"
   },
   {
    "duration": 13,
    "start_time": "2024-03-19T10:53:53.218Z"
   },
   {
    "duration": 9,
    "start_time": "2024-03-19T10:53:53.234Z"
   },
   {
    "duration": 62,
    "start_time": "2024-03-19T10:53:53.245Z"
   },
   {
    "duration": 11,
    "start_time": "2024-03-19T10:53:53.309Z"
   },
   {
    "duration": 17,
    "start_time": "2024-03-19T10:53:53.322Z"
   },
   {
    "duration": 14,
    "start_time": "2024-03-19T10:53:53.341Z"
   },
   {
    "duration": 42,
    "start_time": "2024-03-19T10:53:53.356Z"
   },
   {
    "duration": 19,
    "start_time": "2024-03-19T10:53:53.400Z"
   },
   {
    "duration": 3,
    "start_time": "2024-03-19T10:53:53.421Z"
   },
   {
    "duration": 13,
    "start_time": "2024-03-19T10:53:53.426Z"
   },
   {
    "duration": 5,
    "start_time": "2024-03-19T10:53:53.441Z"
   },
   {
    "duration": 38,
    "start_time": "2024-03-19T10:53:53.448Z"
   },
   {
    "duration": 23,
    "start_time": "2024-03-19T10:53:53.487Z"
   },
   {
    "duration": 1238,
    "start_time": "2024-03-19T10:53:53.512Z"
   },
   {
    "duration": 9,
    "start_time": "2024-03-19T10:53:54.752Z"
   },
   {
    "duration": 201,
    "start_time": "2024-03-19T10:53:54.762Z"
   },
   {
    "duration": 22,
    "start_time": "2024-03-19T10:53:54.964Z"
   },
   {
    "duration": 25,
    "start_time": "2024-03-19T10:53:54.988Z"
   },
   {
    "duration": 30,
    "start_time": "2024-03-19T10:53:55.015Z"
   },
   {
    "duration": 6,
    "start_time": "2024-03-19T10:53:55.048Z"
   },
   {
    "duration": 239,
    "start_time": "2024-03-19T10:53:55.055Z"
   },
   {
    "duration": 11,
    "start_time": "2024-03-19T10:53:55.296Z"
   },
   {
    "duration": 30,
    "start_time": "2024-03-19T10:53:55.308Z"
   },
   {
    "duration": 5,
    "start_time": "2024-03-19T10:53:55.340Z"
   },
   {
    "duration": 6,
    "start_time": "2024-03-19T10:53:55.347Z"
   },
   {
    "duration": 59,
    "start_time": "2024-03-19T10:53:55.355Z"
   },
   {
    "duration": 197,
    "start_time": "2024-03-19T10:53:55.415Z"
   },
   {
    "duration": 10,
    "start_time": "2024-03-19T10:53:55.614Z"
   },
   {
    "duration": 38,
    "start_time": "2024-03-19T10:53:55.626Z"
   },
   {
    "duration": 197,
    "start_time": "2024-03-19T10:53:55.666Z"
   },
   {
    "duration": 20,
    "start_time": "2024-03-19T10:53:55.864Z"
   },
   {
    "duration": 42,
    "start_time": "2024-03-19T10:53:55.888Z"
   },
   {
    "duration": 420,
    "start_time": "2024-03-19T11:25:08.518Z"
   },
   {
    "duration": 18,
    "start_time": "2024-03-19T11:25:08.939Z"
   },
   {
    "duration": 19,
    "start_time": "2024-03-19T11:25:08.959Z"
   },
   {
    "duration": 7,
    "start_time": "2024-03-19T11:25:08.980Z"
   },
   {
    "duration": 34,
    "start_time": "2024-03-19T11:25:08.988Z"
   },
   {
    "duration": 3,
    "start_time": "2024-03-19T11:25:09.023Z"
   },
   {
    "duration": 22,
    "start_time": "2024-03-19T11:25:09.027Z"
   },
   {
    "duration": 9,
    "start_time": "2024-03-19T11:25:09.050Z"
   },
   {
    "duration": 7,
    "start_time": "2024-03-19T11:25:09.060Z"
   },
   {
    "duration": 4,
    "start_time": "2024-03-19T11:25:09.069Z"
   },
   {
    "duration": 34,
    "start_time": "2024-03-19T11:25:09.074Z"
   },
   {
    "duration": 8,
    "start_time": "2024-03-19T11:25:09.109Z"
   },
   {
    "duration": 19,
    "start_time": "2024-03-19T11:25:09.118Z"
   },
   {
    "duration": 13,
    "start_time": "2024-03-19T11:25:09.139Z"
   },
   {
    "duration": 20,
    "start_time": "2024-03-19T11:25:09.154Z"
   },
   {
    "duration": 15,
    "start_time": "2024-03-19T11:25:09.175Z"
   },
   {
    "duration": 10,
    "start_time": "2024-03-19T11:25:09.192Z"
   },
   {
    "duration": 13,
    "start_time": "2024-03-19T11:25:09.203Z"
   },
   {
    "duration": 6,
    "start_time": "2024-03-19T11:25:09.218Z"
   },
   {
    "duration": 8,
    "start_time": "2024-03-19T11:25:09.225Z"
   },
   {
    "duration": 14,
    "start_time": "2024-03-19T11:25:09.235Z"
   },
   {
    "duration": 1019,
    "start_time": "2024-03-19T11:25:09.251Z"
   },
   {
    "duration": 10,
    "start_time": "2024-03-19T11:25:10.272Z"
   },
   {
    "duration": 186,
    "start_time": "2024-03-19T11:25:10.284Z"
   },
   {
    "duration": 6,
    "start_time": "2024-03-19T11:25:10.471Z"
   },
   {
    "duration": 24,
    "start_time": "2024-03-19T11:25:10.478Z"
   },
   {
    "duration": 22,
    "start_time": "2024-03-19T11:25:10.503Z"
   },
   {
    "duration": 5,
    "start_time": "2024-03-19T11:25:10.528Z"
   },
   {
    "duration": 181,
    "start_time": "2024-03-19T11:25:10.534Z"
   },
   {
    "duration": 9,
    "start_time": "2024-03-19T11:25:10.716Z"
   },
   {
    "duration": 23,
    "start_time": "2024-03-19T11:25:10.727Z"
   },
   {
    "duration": 4,
    "start_time": "2024-03-19T11:25:10.751Z"
   },
   {
    "duration": 4,
    "start_time": "2024-03-19T11:25:10.758Z"
   },
   {
    "duration": 47,
    "start_time": "2024-03-19T11:25:10.763Z"
   },
   {
    "duration": 151,
    "start_time": "2024-03-19T11:25:10.812Z"
   },
   {
    "duration": 8,
    "start_time": "2024-03-19T11:25:10.964Z"
   },
   {
    "duration": 32,
    "start_time": "2024-03-19T11:25:10.973Z"
   },
   {
    "duration": 152,
    "start_time": "2024-03-19T11:25:11.007Z"
   },
   {
    "duration": 10,
    "start_time": "2024-03-19T11:25:11.160Z"
   },
   {
    "duration": 42,
    "start_time": "2024-03-19T11:25:11.172Z"
   },
   {
    "duration": 496,
    "start_time": "2024-03-19T20:02:04.205Z"
   },
   {
    "duration": 23,
    "start_time": "2024-03-19T20:02:04.702Z"
   },
   {
    "duration": 14,
    "start_time": "2024-03-19T20:02:04.727Z"
   },
   {
    "duration": 10,
    "start_time": "2024-03-19T20:02:04.742Z"
   },
   {
    "duration": 36,
    "start_time": "2024-03-19T20:02:04.753Z"
   },
   {
    "duration": 2,
    "start_time": "2024-03-19T20:02:04.791Z"
   },
   {
    "duration": 8,
    "start_time": "2024-03-19T20:02:04.795Z"
   },
   {
    "duration": 3,
    "start_time": "2024-03-19T20:02:04.805Z"
   },
   {
    "duration": 8,
    "start_time": "2024-03-19T20:02:04.809Z"
   },
   {
    "duration": 3,
    "start_time": "2024-03-19T20:02:04.819Z"
   },
   {
    "duration": 55,
    "start_time": "2024-03-19T20:02:04.823Z"
   },
   {
    "duration": 10,
    "start_time": "2024-03-19T20:02:04.879Z"
   },
   {
    "duration": 3,
    "start_time": "2024-03-19T20:02:04.890Z"
   },
   {
    "duration": 11,
    "start_time": "2024-03-19T20:02:04.894Z"
   },
   {
    "duration": 17,
    "start_time": "2024-03-19T20:02:04.907Z"
   },
   {
    "duration": 41,
    "start_time": "2024-03-19T20:02:04.926Z"
   },
   {
    "duration": 4,
    "start_time": "2024-03-19T20:02:04.968Z"
   },
   {
    "duration": 12,
    "start_time": "2024-03-19T20:02:04.973Z"
   },
   {
    "duration": 5,
    "start_time": "2024-03-19T20:02:04.986Z"
   },
   {
    "duration": 10,
    "start_time": "2024-03-19T20:02:04.992Z"
   },
   {
    "duration": 23,
    "start_time": "2024-03-19T20:02:05.003Z"
   },
   {
    "duration": 1083,
    "start_time": "2024-03-19T20:02:05.029Z"
   },
   {
    "duration": 8,
    "start_time": "2024-03-19T20:02:06.114Z"
   },
   {
    "duration": 180,
    "start_time": "2024-03-19T20:02:06.123Z"
   },
   {
    "duration": 7,
    "start_time": "2024-03-19T20:02:06.304Z"
   },
   {
    "duration": 17,
    "start_time": "2024-03-19T20:02:06.312Z"
   },
   {
    "duration": 3,
    "start_time": "2024-03-19T20:02:06.330Z"
   },
   {
    "duration": 6,
    "start_time": "2024-03-19T20:02:06.361Z"
   },
   {
    "duration": 34,
    "start_time": "2024-03-19T20:02:06.369Z"
   },
   {
    "duration": 5,
    "start_time": "2024-03-19T20:02:06.404Z"
   },
   {
    "duration": 212,
    "start_time": "2024-03-19T20:02:06.410Z"
   },
   {
    "duration": 10,
    "start_time": "2024-03-19T20:02:06.623Z"
   },
   {
    "duration": 37,
    "start_time": "2024-03-19T20:02:06.634Z"
   },
   {
    "duration": 4,
    "start_time": "2024-03-19T20:02:06.673Z"
   },
   {
    "duration": 44,
    "start_time": "2024-03-19T20:02:06.678Z"
   },
   {
    "duration": 26,
    "start_time": "2024-03-19T20:02:06.724Z"
   },
   {
    "duration": 165,
    "start_time": "2024-03-19T20:02:06.752Z"
   },
   {
    "duration": 9,
    "start_time": "2024-03-19T20:02:06.918Z"
   },
   {
    "duration": 26,
    "start_time": "2024-03-19T20:02:06.928Z"
   },
   {
    "duration": 156,
    "start_time": "2024-03-19T20:02:06.956Z"
   },
   {
    "duration": 10,
    "start_time": "2024-03-19T20:02:07.113Z"
   },
   {
    "duration": 30,
    "start_time": "2024-03-19T20:02:07.124Z"
   },
   {
    "duration": 494,
    "start_time": "2024-03-19T20:07:08.533Z"
   },
   {
    "duration": 24,
    "start_time": "2024-03-19T20:07:09.029Z"
   },
   {
    "duration": 14,
    "start_time": "2024-03-19T20:07:09.054Z"
   },
   {
    "duration": 9,
    "start_time": "2024-03-19T20:07:09.069Z"
   },
   {
    "duration": 33,
    "start_time": "2024-03-19T20:07:09.079Z"
   },
   {
    "duration": 3,
    "start_time": "2024-03-19T20:07:09.113Z"
   },
   {
    "duration": 10,
    "start_time": "2024-03-19T20:07:09.117Z"
   },
   {
    "duration": 4,
    "start_time": "2024-03-19T20:07:09.128Z"
   },
   {
    "duration": 31,
    "start_time": "2024-03-19T20:07:09.133Z"
   },
   {
    "duration": 4,
    "start_time": "2024-03-19T20:07:09.167Z"
   },
   {
    "duration": 38,
    "start_time": "2024-03-19T20:07:09.172Z"
   },
   {
    "duration": 9,
    "start_time": "2024-03-19T20:07:09.211Z"
   },
   {
    "duration": 6,
    "start_time": "2024-03-19T20:07:09.222Z"
   },
   {
    "duration": 30,
    "start_time": "2024-03-19T20:07:09.229Z"
   },
   {
    "duration": 31,
    "start_time": "2024-03-19T20:07:09.260Z"
   },
   {
    "duration": 16,
    "start_time": "2024-03-19T20:07:09.292Z"
   },
   {
    "duration": 3,
    "start_time": "2024-03-19T20:07:09.309Z"
   },
   {
    "duration": 13,
    "start_time": "2024-03-19T20:07:09.314Z"
   },
   {
    "duration": 6,
    "start_time": "2024-03-19T20:07:09.328Z"
   },
   {
    "duration": 3,
    "start_time": "2024-03-19T20:07:09.335Z"
   },
   {
    "duration": 22,
    "start_time": "2024-03-19T20:07:09.339Z"
   },
   {
    "duration": 888,
    "start_time": "2024-03-19T20:07:09.362Z"
   },
   {
    "duration": 11,
    "start_time": "2024-03-19T20:07:10.252Z"
   },
   {
    "duration": 179,
    "start_time": "2024-03-19T20:07:10.264Z"
   },
   {
    "duration": 7,
    "start_time": "2024-03-19T20:07:10.444Z"
   },
   {
    "duration": 15,
    "start_time": "2024-03-19T20:07:10.459Z"
   },
   {
    "duration": 3,
    "start_time": "2024-03-19T20:07:10.475Z"
   },
   {
    "duration": 8,
    "start_time": "2024-03-19T20:07:10.480Z"
   },
   {
    "duration": 37,
    "start_time": "2024-03-19T20:07:10.489Z"
   },
   {
    "duration": 4,
    "start_time": "2024-03-19T20:07:10.527Z"
   },
   {
    "duration": 193,
    "start_time": "2024-03-19T20:07:10.533Z"
   },
   {
    "duration": 9,
    "start_time": "2024-03-19T20:07:10.728Z"
   },
   {
    "duration": 39,
    "start_time": "2024-03-19T20:07:10.738Z"
   },
   {
    "duration": 3,
    "start_time": "2024-03-19T20:07:10.778Z"
   },
   {
    "duration": 6,
    "start_time": "2024-03-19T20:07:10.783Z"
   },
   {
    "duration": 23,
    "start_time": "2024-03-19T20:07:10.790Z"
   },
   {
    "duration": 194,
    "start_time": "2024-03-19T20:07:10.814Z"
   },
   {
    "duration": 9,
    "start_time": "2024-03-19T20:07:11.010Z"
   },
   {
    "duration": 25,
    "start_time": "2024-03-19T20:07:11.020Z"
   },
   {
    "duration": 173,
    "start_time": "2024-03-19T20:07:11.059Z"
   },
   {
    "duration": 9,
    "start_time": "2024-03-19T20:07:11.233Z"
   },
   {
    "duration": 34,
    "start_time": "2024-03-19T20:07:11.243Z"
   },
   {
    "duration": 463,
    "start_time": "2024-03-20T08:17:21.090Z"
   },
   {
    "duration": 23,
    "start_time": "2024-03-20T08:17:21.555Z"
   },
   {
    "duration": 42,
    "start_time": "2024-03-20T08:17:21.579Z"
   },
   {
    "duration": 35,
    "start_time": "2024-03-20T08:17:21.624Z"
   },
   {
    "duration": 50,
    "start_time": "2024-03-20T08:17:21.660Z"
   },
   {
    "duration": 3,
    "start_time": "2024-03-20T08:17:21.712Z"
   },
   {
    "duration": 33,
    "start_time": "2024-03-20T08:17:21.716Z"
   },
   {
    "duration": 18,
    "start_time": "2024-03-20T08:17:21.751Z"
   },
   {
    "duration": 27,
    "start_time": "2024-03-20T08:17:21.771Z"
   },
   {
    "duration": 32,
    "start_time": "2024-03-20T08:17:21.801Z"
   },
   {
    "duration": 58,
    "start_time": "2024-03-20T08:17:21.834Z"
   },
   {
    "duration": 10,
    "start_time": "2024-03-20T08:17:21.894Z"
   },
   {
    "duration": 18,
    "start_time": "2024-03-20T08:17:21.905Z"
   },
   {
    "duration": 46,
    "start_time": "2024-03-20T08:17:21.925Z"
   },
   {
    "duration": 44,
    "start_time": "2024-03-20T08:17:21.973Z"
   },
   {
    "duration": 35,
    "start_time": "2024-03-20T08:17:22.019Z"
   },
   {
    "duration": 16,
    "start_time": "2024-03-20T08:17:22.056Z"
   },
   {
    "duration": 32,
    "start_time": "2024-03-20T08:17:22.073Z"
   },
   {
    "duration": 22,
    "start_time": "2024-03-20T08:17:22.107Z"
   },
   {
    "duration": 11,
    "start_time": "2024-03-20T08:17:22.130Z"
   },
   {
    "duration": 17,
    "start_time": "2024-03-20T08:17:22.142Z"
   },
   {
    "duration": 1123,
    "start_time": "2024-03-20T08:17:22.161Z"
   },
   {
    "duration": 8,
    "start_time": "2024-03-20T08:17:23.285Z"
   },
   {
    "duration": 194,
    "start_time": "2024-03-20T08:17:23.295Z"
   },
   {
    "duration": 6,
    "start_time": "2024-03-20T08:17:23.491Z"
   },
   {
    "duration": 32,
    "start_time": "2024-03-20T08:17:23.498Z"
   },
   {
    "duration": 3,
    "start_time": "2024-03-20T08:17:23.531Z"
   },
   {
    "duration": 17,
    "start_time": "2024-03-20T08:17:23.537Z"
   },
   {
    "duration": 35,
    "start_time": "2024-03-20T08:17:23.556Z"
   },
   {
    "duration": 5,
    "start_time": "2024-03-20T08:17:23.592Z"
   },
   {
    "duration": 202,
    "start_time": "2024-03-20T08:17:23.598Z"
   },
   {
    "duration": 9,
    "start_time": "2024-03-20T08:17:23.802Z"
   },
   {
    "duration": 35,
    "start_time": "2024-03-20T08:17:23.812Z"
   },
   {
    "duration": 18,
    "start_time": "2024-03-20T08:17:23.848Z"
   },
   {
    "duration": 37,
    "start_time": "2024-03-20T08:17:23.867Z"
   },
   {
    "duration": 40,
    "start_time": "2024-03-20T08:17:23.905Z"
   },
   {
    "duration": 226,
    "start_time": "2024-03-20T08:17:23.946Z"
   },
   {
    "duration": 9,
    "start_time": "2024-03-20T08:17:24.174Z"
   },
   {
    "duration": 86,
    "start_time": "2024-03-20T08:17:24.184Z"
   },
   {
    "duration": 331,
    "start_time": "2024-03-20T08:17:24.272Z"
   },
   {
    "duration": 63,
    "start_time": "2024-03-20T08:17:24.604Z"
   },
   {
    "duration": 39,
    "start_time": "2024-03-20T08:17:24.668Z"
   }
  ],
  "colab": {
   "provenance": []
  },
  "kernelspec": {
   "display_name": "Python 3 (ipykernel)",
   "language": "python",
   "name": "python3"
  },
  "language_info": {
   "codemirror_mode": {
    "name": "ipython",
    "version": 3
   },
   "file_extension": ".py",
   "mimetype": "text/x-python",
   "name": "python",
   "nbconvert_exporter": "python",
   "pygments_lexer": "ipython3",
   "version": "3.12.7"
  },
  "toc": {
   "base_numbering": 1,
   "nav_menu": {},
   "number_sections": true,
   "sideBar": true,
   "skip_h1_title": true,
   "title_cell": "Table of Contents",
   "title_sidebar": "Contents",
   "toc_cell": false,
   "toc_position": {
    "height": "calc(100% - 180px)",
    "left": "10px",
    "top": "150px",
    "width": "395.294098px"
   },
   "toc_section_display": true,
   "toc_window_display": true
  }
 },
 "nbformat": 4,
 "nbformat_minor": 5
}

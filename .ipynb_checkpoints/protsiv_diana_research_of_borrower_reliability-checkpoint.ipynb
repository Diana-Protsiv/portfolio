{
 "cells": [
  {
   "cell_type": "markdown",
   "id": "5b9425b0-71df-465b-9748-a7c49dae38a9",
   "metadata": {},
   "source": [
    "# Исследование надёжности заёмщиков"
   ]
  },
  {
   "cell_type": "markdown",
   "id": "e7e2bf48-b1ae-4b1f-9780-4594f4714f6d",
   "metadata": {},
   "source": [
    "**Цель проекта** — выяснить, влияет ли количество детей клиента банка, семейное положение, уровень дохода и цель получения кредита на своевременное погашение кредита.\n",
    "\n",
    "Результаты исследования будут использованы для создания модели кредитного скоринга — специализированной системы, которая определяет способность потенциальных заёмщиков погасить кредит, предоставленный банком."
   ]
  },
  {
   "cell_type": "markdown",
   "id": "58658c78-b99c-4a1a-8f87-aed25b43ec17",
   "metadata": {},
   "source": [
    "**Описание данных**\n",
    "\n",
    "- `children` — количество детей в семье;\n",
    "\n",
    "- `days_employed` — общий трудовой стаж в днях;\n",
    "\n",
    "- `dob_years` — возраст клиента в годах;\n",
    "\n",
    "- `education` — уровень образования клиента;\n",
    "\n",
    "- `education_id` — идентификатор уровня образования;\n",
    "\n",
    "- `family_status` — семейное положение;\n",
    "\n",
    "- `family_status_id` — идентификатор семейного положения;\n",
    "\n",
    "- `gender` — пол клиента;\n",
    "\n",
    "- `income_type` — тип занятости;\n",
    "\n",
    "- `debt` — имел ли задолженность по возврату кредитов;\n",
    "\n",
    "- `total_income` — ежемесячный доход;\n",
    "\n",
    "- `purpose` — цель получения кредита.\n"
   ]
  },
  {
   "cell_type": "markdown",
   "id": "12bc9fad-eb6f-478f-af81-d35ded37b445",
   "metadata": {},
   "source": [
    "**План работы**\n",
    "\n",
    "1. Загрузка данных и изучение общей информации.\n",
    "- Загрузка данных о клиентах банка из csv-файла в переменную.\n",
    "- Вывод первых строк набора данных.\n",
    "- Изучение общей информации о датафрейме.\n",
    "\n",
    "2. Предобработка данных.\n",
    "- Обработка пропущенных значений.\n",
    "- Обработка аномальных значений.\n",
    "- Преобразование данных в нужный тип.\n",
    "- Обработка явных и неявных дубликатов.\n",
    "- Категоризация данных.\n",
    "\n",
    "3. Исследовательский анализ данных.\n",
    "- Изучение зависимости между количеством детей и возвратом кредита в срок.\n",
    "- Изучение зависимости между семейным положением и возвратом кредита в срок.\n",
    "- Изучение зависимости между уровнем дохода и возвратом кредита в срок.\n",
    "- Изучение зависимости между целью кредита и возвратом кредита в срок.\n",
    "\n",
    "4. Написание общих выводов по результатам исследования."
   ]
  },
  {
   "cell_type": "markdown",
   "id": "3e3c6397-e9bd-41f4-991a-4dfa6da10945",
   "metadata": {},
   "source": [
    "## Загрузка данных и изучение общей информации"
   ]
  },
  {
   "cell_type": "markdown",
   "id": "3722939c-5eff-4f7f-af6b-0062c376e676",
   "metadata": {},
   "source": [
    "Импортируем необходимые библиотеки и модули."
   ]
  },
  {
   "cell_type": "code",
   "execution_count": 7,
   "id": "96c97f2a-546b-4774-b588-5547ec857d83",
   "metadata": {},
   "outputs": [],
   "source": [
    "import pandas as pd\n",
    "# импорт библиотеки pandas\n",
    "import seaborn as sns \n",
    "# импорт библиотеки seaborn\n",
    "from matplotlib import pyplot as plt \n",
    "# импорт модуля pyplot из библиотеки matplotlib\n",
    "%matplotlib inline"
   ]
  },
  {
   "cell_type": "markdown",
   "id": "55eadb21-f613-4d68-83e9-8e86d6a0d052",
   "metadata": {},
   "source": [
    "### Считывание файла с данными и сохранение в датафрейм"
   ]
  },
  {
   "cell_type": "markdown",
   "id": "fe00890c-5b45-41db-96ff-cbd1640bd807",
   "metadata": {},
   "source": [
    "Считаем данные из файла в датафрейм и сохраним в переменную `data`."
   ]
  },
  {
   "cell_type": "code",
   "execution_count": 10,
   "id": "cf6a11cb-41e6-4a5c-af32-f6aae9d07e12",
   "metadata": {},
   "outputs": [],
   "source": [
    "try:\n",
    "    data = pd.read_csv('/datasets/data.csv')\n",
    "except:\n",
    "    data = pd.read_csv('https://code.s3.yandex.net/datasets/data.csv')\n",
    "# чтение данных из csv-файла в датафрейм и сохранение в переменную ‘data’"
   ]
  },
  {
   "cell_type": "markdown",
   "id": "e89d20a7-6a5c-43ec-93df-ced4d10da314",
   "metadata": {},
   "source": [
    "### Вывод первых строк набора данных"
   ]
  },
  {
   "cell_type": "markdown",
   "id": "8d3ce82a-9316-4c13-8bd9-44f2b2a174cb",
   "metadata": {},
   "source": [
    "Выведем первые 5 строк датафрейма `data` на экран."
   ]
  },
  {
   "cell_type": "code",
   "execution_count": 13,
   "id": "6a244378-df7c-4172-a60c-daceb860d757",
   "metadata": {},
   "outputs": [
    {
     "data": {
      "text/html": [
       "<div>\n",
       "<style scoped>\n",
       "    .dataframe tbody tr th:only-of-type {\n",
       "        vertical-align: middle;\n",
       "    }\n",
       "\n",
       "    .dataframe tbody tr th {\n",
       "        vertical-align: top;\n",
       "    }\n",
       "\n",
       "    .dataframe thead th {\n",
       "        text-align: right;\n",
       "    }\n",
       "</style>\n",
       "<table border=\"1\" class=\"dataframe\">\n",
       "  <thead>\n",
       "    <tr style=\"text-align: right;\">\n",
       "      <th></th>\n",
       "      <th>children</th>\n",
       "      <th>days_employed</th>\n",
       "      <th>dob_years</th>\n",
       "      <th>education</th>\n",
       "      <th>education_id</th>\n",
       "      <th>family_status</th>\n",
       "      <th>family_status_id</th>\n",
       "      <th>gender</th>\n",
       "      <th>income_type</th>\n",
       "      <th>debt</th>\n",
       "      <th>total_income</th>\n",
       "      <th>purpose</th>\n",
       "    </tr>\n",
       "  </thead>\n",
       "  <tbody>\n",
       "    <tr>\n",
       "      <th>0</th>\n",
       "      <td>1</td>\n",
       "      <td>-8437.673028</td>\n",
       "      <td>42</td>\n",
       "      <td>высшее</td>\n",
       "      <td>0</td>\n",
       "      <td>женат / замужем</td>\n",
       "      <td>0</td>\n",
       "      <td>F</td>\n",
       "      <td>сотрудник</td>\n",
       "      <td>0</td>\n",
       "      <td>253875.639453</td>\n",
       "      <td>покупка жилья</td>\n",
       "    </tr>\n",
       "    <tr>\n",
       "      <th>1</th>\n",
       "      <td>1</td>\n",
       "      <td>-4024.803754</td>\n",
       "      <td>36</td>\n",
       "      <td>среднее</td>\n",
       "      <td>1</td>\n",
       "      <td>женат / замужем</td>\n",
       "      <td>0</td>\n",
       "      <td>F</td>\n",
       "      <td>сотрудник</td>\n",
       "      <td>0</td>\n",
       "      <td>112080.014102</td>\n",
       "      <td>приобретение автомобиля</td>\n",
       "    </tr>\n",
       "    <tr>\n",
       "      <th>2</th>\n",
       "      <td>0</td>\n",
       "      <td>-5623.422610</td>\n",
       "      <td>33</td>\n",
       "      <td>Среднее</td>\n",
       "      <td>1</td>\n",
       "      <td>женат / замужем</td>\n",
       "      <td>0</td>\n",
       "      <td>M</td>\n",
       "      <td>сотрудник</td>\n",
       "      <td>0</td>\n",
       "      <td>145885.952297</td>\n",
       "      <td>покупка жилья</td>\n",
       "    </tr>\n",
       "    <tr>\n",
       "      <th>3</th>\n",
       "      <td>3</td>\n",
       "      <td>-4124.747207</td>\n",
       "      <td>32</td>\n",
       "      <td>среднее</td>\n",
       "      <td>1</td>\n",
       "      <td>женат / замужем</td>\n",
       "      <td>0</td>\n",
       "      <td>M</td>\n",
       "      <td>сотрудник</td>\n",
       "      <td>0</td>\n",
       "      <td>267628.550329</td>\n",
       "      <td>дополнительное образование</td>\n",
       "    </tr>\n",
       "    <tr>\n",
       "      <th>4</th>\n",
       "      <td>0</td>\n",
       "      <td>340266.072047</td>\n",
       "      <td>53</td>\n",
       "      <td>среднее</td>\n",
       "      <td>1</td>\n",
       "      <td>гражданский брак</td>\n",
       "      <td>1</td>\n",
       "      <td>F</td>\n",
       "      <td>пенсионер</td>\n",
       "      <td>0</td>\n",
       "      <td>158616.077870</td>\n",
       "      <td>сыграть свадьбу</td>\n",
       "    </tr>\n",
       "  </tbody>\n",
       "</table>\n",
       "</div>"
      ],
      "text/plain": [
       "   children  days_employed  dob_years education  education_id  \\\n",
       "0         1   -8437.673028         42    высшее             0   \n",
       "1         1   -4024.803754         36   среднее             1   \n",
       "2         0   -5623.422610         33   Среднее             1   \n",
       "3         3   -4124.747207         32   среднее             1   \n",
       "4         0  340266.072047         53   среднее             1   \n",
       "\n",
       "      family_status  family_status_id gender income_type  debt   total_income  \\\n",
       "0   женат / замужем                 0      F   сотрудник     0  253875.639453   \n",
       "1   женат / замужем                 0      F   сотрудник     0  112080.014102   \n",
       "2   женат / замужем                 0      M   сотрудник     0  145885.952297   \n",
       "3   женат / замужем                 0      M   сотрудник     0  267628.550329   \n",
       "4  гражданский брак                 1      F   пенсионер     0  158616.077870   \n",
       "\n",
       "                      purpose  \n",
       "0               покупка жилья  \n",
       "1     приобретение автомобиля  \n",
       "2               покупка жилья  \n",
       "3  дополнительное образование  \n",
       "4             сыграть свадьбу  "
      ]
     },
     "execution_count": 13,
     "metadata": {},
     "output_type": "execute_result"
    }
   ],
   "source": [
    "data.head()\n",
    "# отображение первых 5 строк датафрейма ‘data’"
   ]
  },
  {
   "cell_type": "markdown",
   "id": "2a2e64b4-2146-44f7-a8b4-76cf72eb85b6",
   "metadata": {},
   "source": [
    "### Изучение общей информации о датафрейме"
   ]
  },
  {
   "cell_type": "markdown",
   "id": "d102f315-3e9a-4113-9b75-c2e6f60123cd",
   "metadata": {},
   "source": [
    "Выведем основную информацию о датафрейме `data`."
   ]
  },
  {
   "cell_type": "code",
   "execution_count": 16,
   "id": "ab4590d6-be34-4b08-8424-4930cb8e1526",
   "metadata": {},
   "outputs": [
    {
     "name": "stdout",
     "output_type": "stream",
     "text": [
      "<class 'pandas.core.frame.DataFrame'>\n",
      "RangeIndex: 21525 entries, 0 to 21524\n",
      "Data columns (total 12 columns):\n",
      " #   Column            Non-Null Count  Dtype  \n",
      "---  ------            --------------  -----  \n",
      " 0   children          21525 non-null  int64  \n",
      " 1   days_employed     19351 non-null  float64\n",
      " 2   dob_years         21525 non-null  int64  \n",
      " 3   education         21525 non-null  object \n",
      " 4   education_id      21525 non-null  int64  \n",
      " 5   family_status     21525 non-null  object \n",
      " 6   family_status_id  21525 non-null  int64  \n",
      " 7   gender            21525 non-null  object \n",
      " 8   income_type       21525 non-null  object \n",
      " 9   debt              21525 non-null  int64  \n",
      " 10  total_income      19351 non-null  float64\n",
      " 11  purpose           21525 non-null  object \n",
      "dtypes: float64(2), int64(5), object(5)\n",
      "memory usage: 2.0+ MB\n"
     ]
    }
   ],
   "source": [
    "data.info()\n",
    "# вывод информации о датафрейме ‘data’"
   ]
  },
  {
   "cell_type": "markdown",
   "id": "f3178821-a2f0-45cd-a161-2319385428b7",
   "metadata": {},
   "source": [
    "В таблице `data` 21 тыс. 525 строк и 12 столбцов. Пять столбцов содержат целые числа (`'children'`, `'dob_years'`, `'education_id'`, `'family_status_id'`, `'debt'`), пять столбцов — строки (`'education'`, `'family_status'`, `'gender'`, `'income_type'`, `'purpose'`) и два столбца — вещественные числа (`'days_employed'`, `'total_income'`)."
   ]
  },
  {
   "cell_type": "markdown",
   "id": "b5954b9c-68d6-4a45-acc1-641ec71206f5",
   "metadata": {},
   "source": [
    "## Предобработка данных"
   ]
  },
  {
   "cell_type": "markdown",
   "id": "8ead1803-5eac-463c-a297-84b5068c7ae9",
   "metadata": {},
   "source": [
    "### Обработка пропусков"
   ]
  },
  {
   "cell_type": "markdown",
   "id": "f3b0ec15-777f-46cf-a71a-51b717c8c267",
   "metadata": {},
   "source": [
    "Выведем количество пропущенных значений для каждого столбца датафрейма `data`."
   ]
  },
  {
   "cell_type": "code",
   "execution_count": 21,
   "id": "1ff864f3-d291-4578-8238-2f33aeb1d485",
   "metadata": {},
   "outputs": [
    {
     "data": {
      "text/plain": [
       "days_employed       2174\n",
       "total_income        2174\n",
       "children               0\n",
       "dob_years              0\n",
       "education              0\n",
       "education_id           0\n",
       "family_status          0\n",
       "family_status_id       0\n",
       "gender                 0\n",
       "income_type            0\n",
       "debt                   0\n",
       "purpose                0\n",
       "dtype: int64"
      ]
     },
     "execution_count": 21,
     "metadata": {},
     "output_type": "execute_result"
    }
   ],
   "source": [
    "data.isna().sum().sort_values(ascending=False)\n",
    "# подсчёт количества отсутствующих значений в каждом столбце датафрейма ‘data’\n",
    "# сортировка значений по убыванию"
   ]
  },
  {
   "cell_type": "markdown",
   "id": "665c94d9-fcd1-4920-8204-a16992420cf7",
   "metadata": {},
   "source": [
    "В столбцах `'days_employed'` и `'total_income'` существует 2 тыс. 174 пропущенных значения."
   ]
  },
  {
   "cell_type": "markdown",
   "id": "bcc9f153-3ba4-4e4d-9e7d-a17978499673",
   "metadata": {},
   "source": [
    "Возможные причины наличия пропущенных значений в данных о трудовом стаже клиентов банка:\n",
    "- ошибки при вводе данных;\n",
    "- технические проблемы;\n",
    "- некоторые клиенты банка считают свой трудовой стаж конфиденциальной информацией и не хотят её раскрывать;\n",
    "- клиенты работают неофициально и не указывают информацию о трудовом стаже;\n",
    "- клиенты часто меняют работу и не имеют стабильного трудового стажа.\n",
    "\n",
    "Возможные причины появления пропусков в данных о доходах клиентов банка:\n",
    "- ошибки ввода данных;\n",
    "- технические проблемы;\n",
    "- нежелание клиентов банка раскрывать информацию о своих доходах;\n",
    "- клиенты имеют доходы из разных источников, которые не всегда легко отследить;\n",
    "- доходы могут быть получены в виде наличных, которые не учитываются в банковских системах;\n",
    "- временные промежутки между доходами слишком короткие, что делает их трудноизмеримыми."
   ]
  },
  {
   "cell_type": "markdown",
   "id": "c0f05322-3b79-4126-bc34-0f9483dccf2e",
   "metadata": {},
   "source": [
    "Доход в большей степени определяется типом занятости, поэтому заполним пропущенные значения в столбце `'total_income'` медианными значениями по каждому типу из столбца `'income_type'`."
   ]
  },
  {
   "cell_type": "code",
   "execution_count": 25,
   "id": "a580b80b-63ad-47b0-b441-e125d3a5c964",
   "metadata": {},
   "outputs": [],
   "source": [
    "for i in data['income_type'].unique(): \n",
    "    data.loc[(data['income_type'] == i) & (data['total_income'].isna()), 'total_income'] = \\\n",
    "    data.loc[(data['income_type'] == i), 'total_income'].median()\n",
    "# на каждом шаге цикла выбираем строки,\n",
    "# в которых в ‘income_type’ содержится текущий тип занятости (i) и есть пропуски в ‘total_income’\n",
    "# и записываем в них медианное значение ‘total_income’ среди строк с текущим типом занятости (i)"
   ]
  },
  {
   "cell_type": "markdown",
   "id": "3e0eea2b-7ba2-4e05-bf15-e129e5772d00",
   "metadata": {},
   "source": [
    "Заполним пропуски в столбце `'days_employed'` медианными значениями по каждому типу занятости `'income_type'`."
   ]
  },
  {
   "cell_type": "code",
   "execution_count": 27,
   "id": "a4c11832-08d6-42a5-b1b6-491deb95d21d",
   "metadata": {},
   "outputs": [],
   "source": [
    "for i in data['income_type'].unique():\n",
    "    data.loc[(data['income_type'] == i) & (data['days_employed'].isna()), 'days_employed'] = \\\n",
    "    data.loc[(data['income_type'] == i), 'days_employed'].median()\n",
    "# на каждом шаге цикла выбираем строки,\n",
    "# в которых в ‘income_type’ текущий тип занятости (i) и есть пропуски в ‘days_employed’\n",
    "# и записываем в них медианное значение ‘days_employed’ среди строк с текущим типом занятости (i)"
   ]
  },
  {
   "cell_type": "markdown",
   "id": "283f1753-1de4-4c50-8045-447b42e2003b",
   "metadata": {},
   "source": [
    "Убедимся, что все пропуски заполнены. Выведем количество пропущенных значений для каждого столбца датафрейма `data`."
   ]
  },
  {
   "cell_type": "code",
   "execution_count": 29,
   "id": "20cc60f6-6605-4afa-8ab9-1910623e76ff",
   "metadata": {},
   "outputs": [
    {
     "data": {
      "text/plain": [
       "children            0\n",
       "days_employed       0\n",
       "dob_years           0\n",
       "education           0\n",
       "education_id        0\n",
       "family_status       0\n",
       "family_status_id    0\n",
       "gender              0\n",
       "income_type         0\n",
       "debt                0\n",
       "total_income        0\n",
       "purpose             0\n",
       "dtype: int64"
      ]
     },
     "execution_count": 29,
     "metadata": {},
     "output_type": "execute_result"
    }
   ],
   "source": [
    "data.isna().sum()\n",
    "# подсчёт количества отсутствующих значений в каждом столбце датафрейма ‘data’"
   ]
  },
  {
   "cell_type": "markdown",
   "id": "b1f6f5df-5642-4028-bf31-74ba7322f468",
   "metadata": {},
   "source": [
    "В столбцах `total_income` (ежемесячный доход) и `days_employed` (количество дней трудового стажа) пропуски заполнены медианными значениями.\n",
    "\n",
    "Доход и трудовой стаж в днях являются количественными значениями. Пропуски в таких колонках обычно заполняют средним арифметическим или медианой. В данном случае лучше использовать медиану, так как в данных могут быть выдающиеся значения, которые сместят среднее. Заполнение пропусков нулём или максимальным значением нецелесообразно, потому что такие значения нельзя назвать характерными."
   ]
  },
  {
   "cell_type": "markdown",
   "id": "d78fefc9-1d49-4bd6-9521-829331e6488e",
   "metadata": {},
   "source": [
    "### Обработка аномальных значений"
   ]
  },
  {
   "cell_type": "markdown",
   "id": "44235dfd-912c-48df-8878-8bf2e761202d",
   "metadata": {},
   "source": [
    "В данных встречается отрицательное количество дней трудового стажа в столбце `'days_employed'`. Заменим все отрицательные значения положительными."
   ]
  },
  {
   "cell_type": "code",
   "execution_count": 33,
   "id": "d468cf31-133a-4338-8677-76f61433d9cf",
   "metadata": {},
   "outputs": [],
   "source": [
    "data['days_employed'] = data['days_employed'].abs()\n",
    "# замена значений в столбце ‘days_employed’ датафрейма ‘data’ на абсолютные"
   ]
  },
  {
   "cell_type": "markdown",
   "id": "b08761a6-0d36-4f41-9f1d-d2429c27f3e5",
   "metadata": {},
   "source": [
    "Для каждого типа занятости выведем медианное значение трудового стажа `'days_employed'` в днях."
   ]
  },
  {
   "cell_type": "code",
   "execution_count": 35,
   "id": "8be63aa2-498b-4ad9-a5ea-e2737cd55311",
   "metadata": {},
   "outputs": [
    {
     "data": {
      "text/html": [
       "<div>\n",
       "<style scoped>\n",
       "    .dataframe tbody tr th:only-of-type {\n",
       "        vertical-align: middle;\n",
       "    }\n",
       "\n",
       "    .dataframe tbody tr th {\n",
       "        vertical-align: top;\n",
       "    }\n",
       "\n",
       "    .dataframe thead th {\n",
       "        text-align: right;\n",
       "    }\n",
       "</style>\n",
       "<table border=\"1\" class=\"dataframe\">\n",
       "  <thead>\n",
       "    <tr style=\"text-align: right;\">\n",
       "      <th></th>\n",
       "      <th>days_employed</th>\n",
       "    </tr>\n",
       "    <tr>\n",
       "      <th>income_type</th>\n",
       "      <th></th>\n",
       "    </tr>\n",
       "  </thead>\n",
       "  <tbody>\n",
       "    <tr>\n",
       "      <th>безработный</th>\n",
       "      <td>366413.7</td>\n",
       "    </tr>\n",
       "    <tr>\n",
       "      <th>пенсионер</th>\n",
       "      <td>365213.3</td>\n",
       "    </tr>\n",
       "    <tr>\n",
       "      <th>в декрете</th>\n",
       "      <td>3296.8</td>\n",
       "    </tr>\n",
       "    <tr>\n",
       "      <th>госслужащий</th>\n",
       "      <td>2689.4</td>\n",
       "    </tr>\n",
       "    <tr>\n",
       "      <th>сотрудник</th>\n",
       "      <td>1574.2</td>\n",
       "    </tr>\n",
       "    <tr>\n",
       "      <th>компаньон</th>\n",
       "      <td>1547.4</td>\n",
       "    </tr>\n",
       "    <tr>\n",
       "      <th>студент</th>\n",
       "      <td>578.8</td>\n",
       "    </tr>\n",
       "    <tr>\n",
       "      <th>предприниматель</th>\n",
       "      <td>520.8</td>\n",
       "    </tr>\n",
       "  </tbody>\n",
       "</table>\n",
       "</div>"
      ],
      "text/plain": [
       "                 days_employed\n",
       "income_type                   \n",
       "безработный           366413.7\n",
       "пенсионер             365213.3\n",
       "в декрете               3296.8\n",
       "госслужащий             2689.4\n",
       "сотрудник               1574.2\n",
       "компаньон               1547.4\n",
       "студент                  578.8\n",
       "предприниматель          520.8"
      ]
     },
     "execution_count": 35,
     "metadata": {},
     "output_type": "execute_result"
    }
   ],
   "source": [
    "round(data.groupby('income_type')['days_employed'].agg('median').sort_values(ascending=False), 1).to_frame()\n",
    "# группировка данных по столбцу ‘income_type’ и вычисление медианы значений в столбце ‘days_employed’\n",
    "# сортировка значений по убыванию\n",
    "# округление результатов до 1-го знака после запятой"
   ]
  },
  {
   "cell_type": "markdown",
   "id": "35e00cde-da80-4e9f-8a5d-1164c4dc8a93",
   "metadata": {},
   "source": [
    "У безработных и пенсионеров наблюдаются аномально высокие медианные значения трудового стажа. Исправить эти значения сложно, поэтому оставим их без изменений."
   ]
  },
  {
   "cell_type": "markdown",
   "id": "d623c033-e795-4731-b224-dc725f90807d",
   "metadata": {},
   "source": [
    "Выведем уникальные значения столбца `'children'`."
   ]
  },
  {
   "cell_type": "code",
   "execution_count": 38,
   "id": "f9a4bf54-cc1a-4b12-938c-95389d533f26",
   "metadata": {},
   "outputs": [
    {
     "data": {
      "text/plain": [
       "array([ 1,  0,  3,  2, -1,  4, 20,  5], dtype=int64)"
      ]
     },
     "execution_count": 38,
     "metadata": {},
     "output_type": "execute_result"
    }
   ],
   "source": [
    "data['children'].unique()\n",
    "# получение уникальных значений столбца ‘children’ датафрейма ‘data’"
   ]
  },
  {
   "cell_type": "markdown",
   "id": "558a3a56-3d03-4f74-a739-746a410e1480",
   "metadata": {},
   "source": [
    "В столбце `'children'` содержатся два аномальных значения. Удалим строки из датафрейма `data`, в которых присутствуют эти аномальные значения."
   ]
  },
  {
   "cell_type": "code",
   "execution_count": 40,
   "id": "e7fd730b-db21-42e0-8ed5-8cefc2c6512c",
   "metadata": {},
   "outputs": [],
   "source": [
    "data = data.query('children != -1 and children != 20')\n",
    "# запись в переменную data строк из датафрейма ‘data’, где значения столбца ‘children’ не равны -1 и 20"
   ]
  },
  {
   "cell_type": "markdown",
   "id": "de4a8092-fbdd-4b80-9c11-ce52dc89588d",
   "metadata": {},
   "source": [
    "Ещё раз выведем уникальные значенийя столбца `'children'`, чтобы убедиться, что аномалии удалены."
   ]
  },
  {
   "cell_type": "code",
   "execution_count": 42,
   "id": "2b898a5e-9b40-47f6-ad55-04eb227e5895",
   "metadata": {},
   "outputs": [
    {
     "data": {
      "text/plain": [
       "array([1, 0, 3, 2, 4, 5], dtype=int64)"
      ]
     },
     "execution_count": 42,
     "metadata": {},
     "output_type": "execute_result"
    }
   ],
   "source": [
    "data['children'].unique()\n",
    "# получение уникальных значений столбца ‘children’ датафрейма ‘data’"
   ]
  },
  {
   "cell_type": "markdown",
   "id": "10fb5177-da46-4008-a286-a4cc7efce9c2",
   "metadata": {},
   "source": [
    "### Изменение типов данных"
   ]
  },
  {
   "cell_type": "markdown",
   "id": "8beb6d74-dc2e-4ad2-9cb0-0b745ca632ca",
   "metadata": {},
   "source": [
    "Заменим вещественный тип данных в столбце `'total_income'` на целочисленный."
   ]
  },
  {
   "cell_type": "code",
   "execution_count": 45,
   "id": "cfcb74e1-a73d-4d13-8364-5b019dfbface",
   "metadata": {},
   "outputs": [],
   "source": [
    "data['total_income'] = data['total_income'].astype(int)\n",
    "# преобразование значений столбца ‘total_income’ датафрейма ‘data’ в целочисленный тип"
   ]
  },
  {
   "cell_type": "markdown",
   "id": "af300568-a35d-4a5e-b861-adab2e37d62c",
   "metadata": {},
   "source": [
    "### Обработка дубликатов"
   ]
  },
  {
   "cell_type": "markdown",
   "id": "38b78c5c-28bd-4a5c-8c30-0b909dae5aa5",
   "metadata": {},
   "source": [
    "Обработаем неявные дубликаты в столбце `'education'`. В этом столбце одни и те же значения записаны по-разному: с использованием заглавных и строчных букв. Приведём их к нижнему регистру."
   ]
  },
  {
   "cell_type": "code",
   "execution_count": 48,
   "id": "7a249377-84a8-478e-a5c8-265bdc034867",
   "metadata": {},
   "outputs": [],
   "source": [
    "data['education'] = data['education'].str.lower()\n",
    "# приведение значений столбца ‘education’ датафрейма ‘data’ к нижнему регистру"
   ]
  },
  {
   "cell_type": "markdown",
   "id": "c5332304-0019-445c-b994-e0d34547183c",
   "metadata": {},
   "source": [
    "Выведем на экран количество строк-дубликатов в данных."
   ]
  },
  {
   "cell_type": "code",
   "execution_count": 50,
   "id": "7e3a66e3-f569-4720-9594-58e0359adad1",
   "metadata": {},
   "outputs": [
    {
     "data": {
      "text/plain": [
       "71"
      ]
     },
     "execution_count": 50,
     "metadata": {},
     "output_type": "execute_result"
    }
   ],
   "source": [
    "data.duplicated().sum()\n",
    "# подсчёт количества дубликатов в датафрейме ‘data’"
   ]
  },
  {
   "cell_type": "markdown",
   "id": "3f3cec85-1af7-466f-982b-2ef4119f3e53",
   "metadata": {},
   "source": [
    "Обнаружен 71 дубликат. Удалим повторяющиеся строки из датафрейма `data`."
   ]
  },
  {
   "cell_type": "code",
   "execution_count": 52,
   "id": "aaab0d1a-ad3e-4126-89b0-793e57e41c26",
   "metadata": {},
   "outputs": [
    {
     "data": {
      "text/plain": [
       "0"
      ]
     },
     "execution_count": 52,
     "metadata": {},
     "output_type": "execute_result"
    }
   ],
   "source": [
    "data = data.drop_duplicates()\n",
    "# удаление дубликатов из датафрейма ‘data’\n",
    "data.duplicated().sum()\n",
    "# подсчёт количества дубликатов в датафрейме ‘data’"
   ]
  },
  {
   "cell_type": "markdown",
   "id": "bcbbfb5d-3e6c-43f2-ad5d-b96c5a3653d6",
   "metadata": {},
   "source": [
    "### Категоризация данных"
   ]
  },
  {
   "cell_type": "markdown",
   "id": "6b6aff96-1e29-4934-9248-142a2fc20890",
   "metadata": {},
   "source": [
    "Создадим функцию, которая будет назначать определённую категорию в зависимости от дохода клиента.\n",
    "\n",
    "- 0–30000 — `'E'`;\n",
    "- 30001–50000 — `'D'`;\n",
    "- 50001–200000 — `'C'`;\n",
    "- 200001–1000000 — `'B'`;\n",
    "- 1000001 и выше — `'A'`."
   ]
  },
  {
   "cell_type": "code",
   "execution_count": 55,
   "id": "e0554c98-625e-432c-99fe-57404bc760df",
   "metadata": {},
   "outputs": [],
   "source": [
    "def categorize_income(income):\n",
    "    try:\n",
    "        if 0 <= income <= 30000:\n",
    "            return 'E'\n",
    "        elif 30001 <= income <= 50000:\n",
    "            return 'D'\n",
    "        elif 50001 <= income <= 200000:\n",
    "            return 'C'\n",
    "        elif 200001 <= income <= 1000000:\n",
    "            return 'B'\n",
    "        elif income >= 1000001:\n",
    "            return 'A'\n",
    "    except:\n",
    "        pass\n",
    "# создание функции ‘categorize_income’"
   ]
  },
  {
   "cell_type": "markdown",
   "id": "56bb1059-3a79-4cbb-aa8e-e759a153588e",
   "metadata": {},
   "source": [
    "На основании данных из столбца `'total_income'` и выделенных диапазонов сформируем новый столбец `'total_income_category'` с категориями."
   ]
  },
  {
   "cell_type": "code",
   "execution_count": 57,
   "id": "7f9452f3-547e-4ebe-8ecb-d27361f0200a",
   "metadata": {},
   "outputs": [
    {
     "data": {
      "text/plain": [
       "0    B\n",
       "1    C\n",
       "2    C\n",
       "3    B\n",
       "4    C\n",
       "Name: total_income_category, dtype: object"
      ]
     },
     "execution_count": 57,
     "metadata": {},
     "output_type": "execute_result"
    }
   ],
   "source": [
    "data['total_income_category'] = data['total_income'].apply(categorize_income)\n",
    "# создание нового столбца ‘total_income_category’ в датафрейме ‘data’ \n",
    "# с преобразованными значениями столбца ‘total_income’ в соответствующие категории с помощью функции ‘categorize_income’\n",
    "data['total_income_category'].head()\n",
    "# отображение первых 5 строк столбца ‘total_income_category’ датафрейма ‘data’"
   ]
  },
  {
   "cell_type": "markdown",
   "id": "9ade9134-3e2d-4df5-8863-de34120e2b9b",
   "metadata": {},
   "source": [
    "Выведем уникальные цели взятия кредита из столбца `'purpose'`."
   ]
  },
  {
   "cell_type": "code",
   "execution_count": 59,
   "id": "d2106eb1-8077-4364-b9c3-2302cc5b6fd9",
   "metadata": {},
   "outputs": [
    {
     "data": {
      "text/plain": [
       "array(['покупка жилья', 'приобретение автомобиля',\n",
       "       'дополнительное образование', 'сыграть свадьбу',\n",
       "       'операции с жильем', 'образование', 'на проведение свадьбы',\n",
       "       'покупка жилья для семьи', 'покупка недвижимости',\n",
       "       'покупка коммерческой недвижимости', 'покупка жилой недвижимости',\n",
       "       'строительство собственной недвижимости', 'недвижимость',\n",
       "       'строительство недвижимости', 'на покупку подержанного автомобиля',\n",
       "       'на покупку своего автомобиля',\n",
       "       'операции с коммерческой недвижимостью',\n",
       "       'строительство жилой недвижимости', 'жилье',\n",
       "       'операции со своей недвижимостью', 'автомобили',\n",
       "       'заняться образованием', 'сделка с подержанным автомобилем',\n",
       "       'получение образования', 'автомобиль', 'свадьба',\n",
       "       'получение дополнительного образования', 'покупка своего жилья',\n",
       "       'операции с недвижимостью', 'получение высшего образования',\n",
       "       'свой автомобиль', 'сделка с автомобилем',\n",
       "       'профильное образование', 'высшее образование',\n",
       "       'покупка жилья для сдачи', 'на покупку автомобиля', 'ремонт жилью',\n",
       "       'заняться высшим образованием'], dtype=object)"
      ]
     },
     "execution_count": 59,
     "metadata": {},
     "output_type": "execute_result"
    }
   ],
   "source": [
    "data['purpose'].unique()\n",
    "# получение уникальных значений столбца ‘purpose’ датафрейма ‘data’"
   ]
  },
  {
   "cell_type": "markdown",
   "id": "22aa3407-9e83-4e35-9c8f-f7438905ac84",
   "metadata": {},
   "source": [
    "Создадим функцию, которая на основании данных из столбца `purpose` сформирует новый столбец `'purpose_category'`, в который войдут следующие категории:\n",
    "\n",
    "- `'операции с автомобилем'`,\n",
    "- `'операции с недвижимостью'`,\n",
    "- `'проведение свадьбы'`,\n",
    "- `'получение образования'`."
   ]
  },
  {
   "cell_type": "code",
   "execution_count": 61,
   "id": "96f14d8b-8de4-4634-88b6-e875fb83c122",
   "metadata": {},
   "outputs": [],
   "source": [
    "def categorize_purpose(row):\n",
    "    try:\n",
    "        if 'автом' in row:\n",
    "            return 'операции с автомобилем'\n",
    "        elif 'жил' in row or 'недвиж' in row:\n",
    "            return 'операции с недвижимостью'\n",
    "        elif 'свад' in row:\n",
    "            return 'проведение свадьбы'\n",
    "        elif 'образов' in row:\n",
    "            return 'получение образования'\n",
    "    except:\n",
    "        return 'нет категории'\n",
    "# создание функции ‘categorize_purpose’"
   ]
  },
  {
   "cell_type": "code",
   "execution_count": 62,
   "id": "c101f585-1031-4287-a142-fa92a172e3be",
   "metadata": {},
   "outputs": [
    {
     "data": {
      "text/plain": [
       "0    операции с недвижимостью\n",
       "1      операции с автомобилем\n",
       "2    операции с недвижимостью\n",
       "3       получение образования\n",
       "4          проведение свадьбы\n",
       "Name: purpose_category, dtype: object"
      ]
     },
     "execution_count": 62,
     "metadata": {},
     "output_type": "execute_result"
    }
   ],
   "source": [
    "data['purpose_category'] = data['purpose'].apply(categorize_purpose)\n",
    "# создание нового столбца ‘purpose_category’ в датафрейме ‘data’\n",
    "# с преобразованными значениями столбца ‘purpose’ в соответствующие категории с помощью функции ‘categorize_purpose’\n",
    "data['purpose_category'].head()\n",
    "# отображение первых 5 строк столбца ‘purpose_category’ датафрейма ‘data’"
   ]
  },
  {
   "cell_type": "markdown",
   "id": "73187ac7-7e51-4b4f-909f-3c4553450244",
   "metadata": {},
   "source": [
    "## Исследование данных"
   ]
  },
  {
   "cell_type": "markdown",
   "id": "0946ec10-af0e-407d-97a8-49eb710ba594",
   "metadata": {},
   "source": [
    "### Зависимость между количеством детей и возвратом кредита в срок"
   ]
  },
  {
   "cell_type": "markdown",
   "id": "53dfe9e0-1e92-422f-9954-f8562881ac06",
   "metadata": {},
   "source": [
    "Построим гистограмму, чтобы посмотреть соотношение клиентов банка по наличию задолженности по возврату кредитов. Цифрой `'0'` обозначены те, кто не имеет задолженность, `'1'` — те, кто имеет задолженность."
   ]
  },
  {
   "cell_type": "code",
   "execution_count": 66,
   "id": "8c297c1a-3867-40ab-b6a5-5e28a3187301",
   "metadata": {},
   "outputs": [
    {
     "data": {
      "image/png": "[encoded data removed]",
      "text/plain": [
       "<Figure size 600x400 with 1 Axes>"
      ]
     },
     "metadata": {},
     "output_type": "display_data"
    }
   ],
   "source": [
    "sns.set_style('whitegrid') \n",
    "# установка стиля отображения графика\n",
    "sns.set(rc={'figure.figsize':(6, 4)}) \n",
    "# установка размера графика\n",
    "def graph(variable): \n",
    "# определение функции ‘graph’\n",
    "    graph = sns.countplot(x=variable, data=data, color='b', \n",
    "                          order=data[variable].value_counts().index)\n",
    "    return graph\n",
    "graph('debt') \n",
    "# создание графика, который показывает количество наблюдений \n",
    "# в зависимости от наличия задолженности\n",
    "plt.xticks(fontsize=10)\n",
    "# установка размера шрифта меток горизонтальной оси\n",
    "plt.yticks(fontsize=10)\n",
    "# установка размера шрифта меток вертикальной оси\n",
    "plt.title('Наличие задолженности по возврату кредитов у клиентов банка', \n",
    "          fontsize=12) \n",
    "# добавление заголовка к графику\n",
    "plt.xlabel('Наличие задолженности по возврату кредитов', fontsize=10) \n",
    "# добавление подписи к горизонтальной оси графика\n",
    "plt.ylabel('Количество клиентов банка', fontsize=10)\n",
    "# добавление подписи к вертикальной оси графика\n",
    "plt.show()\n",
    "# отображение графика"
   ]
  },
  {
   "cell_type": "markdown",
   "id": "df2212ef-697d-42ba-89f7-e5582fc34779",
   "metadata": {},
   "source": [
    "Многие клиенты не имеют задолженность по возврату кредитов."
   ]
  },
  {
   "cell_type": "markdown",
   "id": "1bf568e7-efd1-482d-8b80-9c4bc118a735",
   "metadata": {},
   "source": [
    "Определим количество заёмщиков с задолженностью по возврату кредитов и без неё."
   ]
  },
  {
   "cell_type": "code",
   "execution_count": 69,
   "id": "1d8b4e24-c15e-49c0-9344-9b77f190e4b7",
   "metadata": {},
   "outputs": [
    {
     "data": {
      "text/plain": [
       "(debt\n",
       " 0    19599\n",
       " 1     1732\n",
       " Name: count, dtype: int64,\n",
       " debt\n",
       " 0    91.880362\n",
       " 1     8.119638\n",
       " dtype: float64)"
      ]
     },
     "execution_count": 69,
     "metadata": {},
     "output_type": "execute_result"
    }
   ],
   "source": [
    "def number_and_proportion_of_variable_values(variable): \n",
    "# определение функции ‘number_and_proportion_of_variable_values’\n",
    "    pivot_table_1 = data[variable].value_counts()\n",
    "    pivot_table_2 = data.groupby(variable).size() / len(data) * 100\n",
    "    return pivot_table_1, pivot_table_2\n",
    "number_and_proportion_of_variable_values('debt') \n",
    "# рассчёт количества наблюдений\n",
    "# и процентного соотношения для каждой группы значений переменной ‘debt’"
   ]
  },
  {
   "cell_type": "markdown",
   "id": "f9e40621-05f8-4568-9fc7-dd1c299f2467",
   "metadata": {},
   "source": [
    "19.6 тыс. человек не имеют задолженность по возврату кредитов, что составляет 92% от общего количества кредитополучателей.\n",
    "\n",
    "1.7 тыс. человек имеют задолженность, что составляет 8% от всех заёмщиков."
   ]
  },
  {
   "cell_type": "markdown",
   "id": "888408f8-872d-436b-986b-b0795af7375a",
   "metadata": {},
   "source": [
    "Построим гистограмму, чтобы посмотреть соотношение клиентов банка по количеству детей в семье."
   ]
  },
  {
   "cell_type": "code",
   "execution_count": 72,
   "id": "8f37b0e7-475c-4328-a6a2-9dc204acb680",
   "metadata": {},
   "outputs": [
    {
     "data": {
      "image/png": "[encoded data removed]",
      "text/plain": [
       "<Figure size 600x400 with 1 Axes>"
      ]
     },
     "metadata": {},
     "output_type": "display_data"
    }
   ],
   "source": [
    "graph('children') \n",
    "# создание графика, который показывает количество наблюдений\n",
    "# в зависимости от количества детей в семье\n",
    "plt.xticks(fontsize=10)\n",
    "# установка размера шрифта меток горизонтальной оси\n",
    "plt.yticks(fontsize=10)\n",
    "# установка размера шрифта меток вертикальной оси\n",
    "plt.title('Количество детей у клиентов банка', fontsize=12) \n",
    "# добавление заголовка к графику\n",
    "plt.xlabel('Количество детей', fontsize=10) \n",
    "# добавление подписи к горизонтальной оси графика\n",
    "plt.ylabel('Количество клиентов банка', fontsize=10) \n",
    "# добавление подписи к вертикальной оси графика\n",
    "plt.show()\n",
    "# отображение графика"
   ]
  },
  {
   "cell_type": "markdown",
   "id": "8b4db72d-9cae-4bab-adaf-fdab56472bcf",
   "metadata": {},
   "source": [
    "Большая часть клиентов банка не имеет детей. \n",
    "\n",
    "Среди тех, у кого есть дети, наиболее распространённым количеством является один ребёнок в семье."
   ]
  },
  {
   "cell_type": "markdown",
   "id": "3333ac55-2aae-4ddf-9b0e-4ecfb60893b1",
   "metadata": {},
   "source": [
    "Установим число заёмщиков с определённым количеством детей в семье."
   ]
  },
  {
   "cell_type": "code",
   "execution_count": 75,
   "id": "d16edecc-48b4-479e-a8ec-8169ecfbcdac",
   "metadata": {},
   "outputs": [
    {
     "data": {
      "text/plain": [
       "(children\n",
       " 0    14091\n",
       " 1     4808\n",
       " 2     2052\n",
       " 3      330\n",
       " 4       41\n",
       " 5        9\n",
       " Name: count, dtype: int64,\n",
       " children\n",
       " 0    66.058788\n",
       " 1    22.539965\n",
       " 2     9.619802\n",
       " 3     1.547044\n",
       " 4     0.192209\n",
       " 5     0.042192\n",
       " dtype: float64)"
      ]
     },
     "execution_count": 75,
     "metadata": {},
     "output_type": "execute_result"
    }
   ],
   "source": [
    "number_and_proportion_of_variable_values('children') \n",
    "# рассчёт количества наблюдений\n",
    "# и процентного соотношения для каждой группы значений переменной ‘children’"
   ]
  },
  {
   "cell_type": "markdown",
   "id": "71a8dc9a-71c6-4ea1-9870-8677857a5a8d",
   "metadata": {},
   "source": [
    "У 14.1 тыс. человек нет детей, что составляет 66% от всех клиентов банка.\n",
    "\n",
    "4.8 тыс. человек имеют 1-го ребёнка, что составляет 23% от общего количества клиентов.\n",
    "\n",
    "2.1 тыс. человек имеют 2-х детей, что составляет 10% клиентов.\n",
    "\n",
    "Лишь у 9-ти человек — 5 детей в семье."
   ]
  },
  {
   "cell_type": "markdown",
   "id": "89f3ef8c-5331-458a-8119-24546bf6c39a",
   "metadata": {},
   "source": [
    "Определим долю клиентов банка с задолженностью по возврату кредитов и без неё, с детьми и без них."
   ]
  },
  {
   "cell_type": "code",
   "execution_count": 78,
   "id": "ddfcabff-5e92-4f2a-b0d6-52cbc4a1fbc6",
   "metadata": {},
   "outputs": [
    {
     "name": "stdout",
     "output_type": "stream",
     "text": [
      "Количество и доля клиентов банка без задолженности по кредитам и без детей: (21331, 13028, '61.0%')\n",
      "Количество и доля клиентов банка без задолженности по кредитам и с детьми: (21331, 6571, '31.0%')\n",
      "Количество и доля клиентов банка с задолженностью по кредитам и без детей: (21331, 1063, '5.0%')\n",
      "Количество и доля клиентов банка с задолженностью по кредитам и с детьми: (21331, 669, '3.0%')\n"
     ]
    }
   ],
   "source": [
    "def function(number_debt_children): \n",
    "# определение функции ‘function’\n",
    "    total_number = data['debt'].count() \n",
    "    # рассчёт общего количества клиентов банка\n",
    "    share_debt_children = number_debt_children / total_number \n",
    "    # рассчёт доли клиентов с задолженностью/без неё и с детьми/без них\n",
    "    share_debt_children = round(share_debt_children, 2) \n",
    "    # округление числа до двух знаков после запятой\n",
    "    share_debt_children = f'{share_debt_children * 100}%' \n",
    "    # преобразование вещественного числа в процент\n",
    "    return total_number, number_debt_children, share_debt_children\n",
    "\n",
    "print('Количество и доля клиентов банка без задолженности по кредитам и без детей:', \n",
    "      function((data.loc[(data['debt'] == 0) \n",
    "                         & (data['children'] == 0)])['debt'].count())) \n",
    "      # рассчёт количества и доли клиентов, не имеющих задолженность и детей\n",
    "print('Количество и доля клиентов банка без задолженности по кредитам и с детьми:', \n",
    "      function((data.loc[(data['debt'] == 0) \n",
    "                         & (data['children'] != 0)])['debt'].count())) \n",
    "      # рассчёт количества и доли клиентов, не имеющих задолженность, \n",
    "      # но имеющих детей\n",
    "print('Количество и доля клиентов банка с задолженностью по кредитам и без детей:', \n",
    "      function((data.loc[(data['debt'] == 1) \n",
    "                         & (data['children'] == 0)])['debt'].count())) \n",
    "      # рассчёт количества и доли клиентов, имеющих задолженность\n",
    "      # и не имеющих детей\n",
    "print('Количество и доля клиентов банка с задолженностью по кредитам и с детьми:', \n",
    "      function((data.loc[(data['debt'] == 1) \n",
    "                         & (data['children'] != 0)])['debt'].count())) \n",
    "      # рассчёт количества и доли клиентов, имеющих задолженность и детей"
   ]
  },
  {
   "cell_type": "markdown",
   "id": "d78bc7ec-b91c-4d30-837d-16daea8b5bbc",
   "metadata": {},
   "source": [
    "Более половины клиентов банка (61%) не имеют задолженность по возврату кредитов и являются бездетными."
   ]
  },
  {
   "cell_type": "markdown",
   "id": "57e036d0-7809-43b4-bcc3-0c8f15d33aa5",
   "metadata": {},
   "source": [
    "Выборки с тремя, четырьмя, и пятью детьми нерепрезентативны, так как имеют слишком мало значений, — в сумме они составляют менее 2%. Поэтому проведём категоризацию.\n",
    "\n",
    "Создадим функцию, которая на основании данных из столбца `children` сформирует новый столбец `children _category`, в который войдут следующие категории:\n",
    "\n",
    "- 0 детей — `'нет детей'`;\n",
    "- 1-2 ребёнка — `'мало детей'`;\n",
    "- 3-5 детей — `'много детей'`."
   ]
  },
  {
   "cell_type": "code",
   "execution_count": 81,
   "id": "4e37cd44-750d-4d94-ab47-521116696faf",
   "metadata": {},
   "outputs": [],
   "source": [
    "def categorize_children(children):\n",
    "    try:\n",
    "        if children == 0:\n",
    "            return 'нет детей'\n",
    "        elif 1 <= children <= 2:\n",
    "            return 'мало детей'\n",
    "        elif 3 <= children <= 5:\n",
    "            return 'много детей'\n",
    "    except:\n",
    "        pass\n",
    "# создание функции ‘categorize_children’"
   ]
  },
  {
   "cell_type": "code",
   "execution_count": 82,
   "id": "38bdb832-fdf5-4936-853a-6997eb2bf9fd",
   "metadata": {},
   "outputs": [
    {
     "data": {
      "text/plain": [
       "0     мало детей\n",
       "1     мало детей\n",
       "2      нет детей\n",
       "3    много детей\n",
       "4      нет детей\n",
       "Name: children_category, dtype: object"
      ]
     },
     "execution_count": 82,
     "metadata": {},
     "output_type": "execute_result"
    }
   ],
   "source": [
    "data['children_category'] = data['children'].apply(categorize_children) \n",
    "# применение функции ‘categorize_children’ \n",
    "# к каждому значению столбца ‘children’\n",
    "# создание нового столбца в датафрейме ‘data’ \n",
    "# на основе значения существующего столбца ‘children’\n",
    "data['children_category'].head()\n",
    "# отображение первых 5 строк столбца ‘children_category’ датафрейма ‘data’"
   ]
  },
  {
   "cell_type": "markdown",
   "id": "b2e24913-584a-483d-a966-7938d5f922e2",
   "metadata": {},
   "source": [
    "Рассчитаем долю заёмщиков с задолженностью по возврату кредитов для определённого количества детей в семье."
   ]
  },
  {
   "cell_type": "code",
   "execution_count": 84,
   "id": "2e6f5dbe-1b4b-4ea8-9f39-d0a66b0e4bb3",
   "metadata": {},
   "outputs": [
    {
     "data": {
      "text/html": [
       "<div>\n",
       "<style scoped>\n",
       "    .dataframe tbody tr th:only-of-type {\n",
       "        vertical-align: middle;\n",
       "    }\n",
       "\n",
       "    .dataframe tbody tr th {\n",
       "        vertical-align: top;\n",
       "    }\n",
       "\n",
       "    .dataframe thead th {\n",
       "        text-align: right;\n",
       "    }\n",
       "</style>\n",
       "<table border=\"1\" class=\"dataframe\">\n",
       "  <thead>\n",
       "    <tr style=\"text-align: right;\">\n",
       "      <th></th>\n",
       "      <th>total_number_of_clients</th>\n",
       "      <th>number_of_debtors</th>\n",
       "      <th>share_of_debtors</th>\n",
       "    </tr>\n",
       "    <tr>\n",
       "      <th>children_category</th>\n",
       "      <th></th>\n",
       "      <th></th>\n",
       "      <th></th>\n",
       "    </tr>\n",
       "  </thead>\n",
       "  <tbody>\n",
       "    <tr>\n",
       "      <th>мало детей</th>\n",
       "      <td>6860</td>\n",
       "      <td>638</td>\n",
       "      <td>9.3%</td>\n",
       "    </tr>\n",
       "    <tr>\n",
       "      <th>много детей</th>\n",
       "      <td>380</td>\n",
       "      <td>31</td>\n",
       "      <td>8.2%</td>\n",
       "    </tr>\n",
       "    <tr>\n",
       "      <th>нет детей</th>\n",
       "      <td>14091</td>\n",
       "      <td>1063</td>\n",
       "      <td>7.5%</td>\n",
       "    </tr>\n",
       "  </tbody>\n",
       "</table>\n",
       "</div>"
      ],
      "text/plain": [
       "                   total_number_of_clients  number_of_debtors share_of_debtors\n",
       "children_category                                                             \n",
       "мало детей                            6860                638             9.3%\n",
       "много детей                            380                 31             8.2%\n",
       "нет детей                            14091               1063             7.5%"
      ]
     },
     "execution_count": 84,
     "metadata": {},
     "output_type": "execute_result"
    }
   ],
   "source": [
    "def share_of_debtors(variable): \n",
    "# определение функции ‘share_of_debtors’\n",
    "    crosstab = data.pivot_table(index = variable, values = 'debt', \n",
    "                                aggfunc=['count', 'sum', 'mean'])\n",
    "    crosstab.columns = ['total_number_of_clients', 'number_of_debtors', \n",
    "                        'share_of_debtors']\n",
    "    crosstab['share_of_debtors'] = crosstab['share_of_debtors'].map('{:.1%}'.format)\n",
    "    crosstab = crosstab.sort_values(by='share_of_debtors', ascending=False)\n",
    "    return crosstab\n",
    "share_of_debtors('children_category')\n",
    "# создание кросс-таблицы, в которой для каждого количества детей в семье \n",
    "# рассчитывается общее количество заёмщиков, \n",
    "# количество и доля заёмщиков с задолженностью по возврату кредитов"
   ]
  },
  {
   "cell_type": "markdown",
   "id": "f3df7a1d-39ef-4433-b2ad-403a913660e8",
   "metadata": {},
   "source": [
    "Наибольшую долю должников по кредитам составляют те, у кого мало детей (один или два ребёнка). Те, у кого нет детей, — наименьшую долю. В многодетных семьях (три ребёнка и более) доля должников меньше, чем в малодетных семьях."
   ]
  },
  {
   "cell_type": "markdown",
   "id": "5d059ad9-87a6-4d4d-ab22-6a73294eb1b9",
   "metadata": {},
   "source": [
    "**Вывод:** \n",
    "\n",
    "Большинство бездетных людей не имеют задолженность по возврату кредитов.\n",
    "\n",
    "Наличие детей повышает риск невозврата кредита в срок. Появление ребёнка может потребовать от семьи дополнительных расходов, что приводит к уменьшению её сбережений.\n",
    "\n",
    "С увеличением количества детей вероятность невозврата кредита в срок может уменьшаться. Возможно, это связано с тем, что семьи, в состав которых входит три и более ребёнка, часто получают дополнительные выплаты и льготы от государства, что помогает им справляться с финансовыми трудностями."
   ]
  },
  {
   "cell_type": "markdown",
   "id": "045cebb3-05d2-44ce-9029-6bd9e554a05e",
   "metadata": {},
   "source": [
    "### Зависимость между семейным положением и возвратом кредита в срок"
   ]
  },
  {
   "cell_type": "markdown",
   "id": "2113402f-4eaa-4177-9c5f-760c43c86c0d",
   "metadata": {},
   "source": [
    "Посмотрим, какие виды семейного положения существуют в датафрейме."
   ]
  },
  {
   "cell_type": "code",
   "execution_count": 89,
   "id": "3582bb04-a1a2-418b-880f-0c10b75ca842",
   "metadata": {},
   "outputs": [
    {
     "data": {
      "text/plain": [
       "array(['женат / замужем', 'гражданский брак', 'вдовец / вдова',\n",
       "       'в разводе', 'Не женат / не замужем'], dtype=object)"
      ]
     },
     "execution_count": 89,
     "metadata": {},
     "output_type": "execute_result"
    }
   ],
   "source": [
    "data['family_status'].unique() \n",
    "# просмотр уникальных значений переменной ‘family_status’"
   ]
  },
  {
   "cell_type": "markdown",
   "id": "b75942da-62b9-4bba-8893-96da88e712e2",
   "metadata": {},
   "source": [
    "Построим гистограмму, чтобы посмотреть соотношение получателей кредита по семейному положению."
   ]
  },
  {
   "cell_type": "code",
   "execution_count": 91,
   "id": "7be9c527-d7e0-4b4b-941e-ede6a303a178",
   "metadata": {},
   "outputs": [
    {
     "data": {
      "image/png": "[encoded data removed]",
      "text/plain": [
       "<Figure size 600x400 with 1 Axes>"
      ]
     },
     "metadata": {},
     "output_type": "display_data"
    }
   ],
   "source": [
    "graph('family_status') \n",
    "# создание графика, который показывает количество наблюдений \n",
    "# в зависимости от семейного положения\n",
    "plt.xticks(rotation=25)\n",
    "# установка расположения меток горизонтальной оси\n",
    "plt.xticks(fontsize=8)\n",
    "# установка размера шрифта меток горизонтальной оси\n",
    "plt.yticks(fontsize=8)\n",
    "# установка размера шрифта меток вертикальной оси\n",
    "plt.title('Семейное положение кредитополучателей', fontsize=12) \n",
    "# добавление заголовка к графику\n",
    "plt.xlabel('Семейное положение', fontsize=10) \n",
    "# добавление подписи к горизонтальной оси графика\n",
    "plt.ylabel('Количество кредитополучателей', fontsize=10) \n",
    "# добавление подписи к вертикальной оси графика\n",
    "plt.show()\n",
    "# отображение графика"
   ]
  },
  {
   "cell_type": "markdown",
   "id": "e7f45b37-40a6-409b-8293-085166d8d0ea",
   "metadata": {},
   "source": [
    "Большую часть кредитополучателей составляют женатые или замужние. \n",
    "\n",
    "К следующим по численности группам относятся клиенты банка, состоящие в гражданском браке, а также неженатые или незамужние.\n",
    "\n",
    "Всех меньше среди получателей кредита разведённых, вдовцов или вдов."
   ]
  },
  {
   "cell_type": "markdown",
   "id": "228dfd59-71c0-4b15-88a5-9339b4ab336f",
   "metadata": {},
   "source": [
    "Рассчитаем количество клиентов банка с определённым семейным положением."
   ]
  },
  {
   "cell_type": "code",
   "execution_count": 94,
   "id": "c30d467e-ec33-493a-9f21-f46df917b487",
   "metadata": {},
   "outputs": [
    {
     "data": {
      "text/plain": [
       "(family_status\n",
       " женат / замужем          12261\n",
       " гражданский брак          4134\n",
       " Не женат / не замужем     2796\n",
       " в разводе                 1189\n",
       " вдовец / вдова             951\n",
       " Name: count, dtype: int64,\n",
       " family_status\n",
       " Не женат / не замужем    13.107684\n",
       " в разводе                 5.574047\n",
       " вдовец / вдова            4.458300\n",
       " гражданский брак         19.380245\n",
       " женат / замужем          57.479724\n",
       " dtype: float64)"
      ]
     },
     "execution_count": 94,
     "metadata": {},
     "output_type": "execute_result"
    }
   ],
   "source": [
    "number_and_proportion_of_variable_values('family_status') \n",
    "# рассчёт количества наблюдений и процентного соотношения \n",
    "# для каждой группы значений переменной ‘family_status’"
   ]
  },
  {
   "cell_type": "markdown",
   "id": "a350382b-2b51-4912-ab73-d5de71039037",
   "metadata": {},
   "source": [
    "12.3 тыс. человек состоят в зарегистрированном браке, что составляет 58% от общего числа клиентов банка.\n",
    "\n",
    "4.1 тыс. человек состоят в незарегистрированном браке, что составляет 19% от всех клиентов.\n",
    "\n",
    "2.8 тыс. человек никогда не состояли в браке, что составляет 13% от всех клиентов.\n",
    "\n",
    "1.2 тыс. человек разведены, что составляет 6% от всех клиентов банка.\n",
    "\n",
    "951 человек являются вдовцами или вдовами, что составляет 5% от всех клиентов."
   ]
  },
  {
   "cell_type": "markdown",
   "id": "0c0f686c-861d-43a5-8d4f-1dab07ff1c37",
   "metadata": {},
   "source": [
    "Определим долю заёмщиков с задолженностью по возврату кредитов для определённого вида семейного положения."
   ]
  },
  {
   "cell_type": "code",
   "execution_count": 97,
   "id": "8c4a29b3-35d8-4821-b7eb-266b88e4bf44",
   "metadata": {},
   "outputs": [
    {
     "data": {
      "text/html": [
       "<div>\n",
       "<style scoped>\n",
       "    .dataframe tbody tr th:only-of-type {\n",
       "        vertical-align: middle;\n",
       "    }\n",
       "\n",
       "    .dataframe tbody tr th {\n",
       "        vertical-align: top;\n",
       "    }\n",
       "\n",
       "    .dataframe thead th {\n",
       "        text-align: right;\n",
       "    }\n",
       "</style>\n",
       "<table border=\"1\" class=\"dataframe\">\n",
       "  <thead>\n",
       "    <tr style=\"text-align: right;\">\n",
       "      <th></th>\n",
       "      <th>total_number_of_clients</th>\n",
       "      <th>number_of_debtors</th>\n",
       "      <th>share_of_debtors</th>\n",
       "    </tr>\n",
       "    <tr>\n",
       "      <th>family_status</th>\n",
       "      <th></th>\n",
       "      <th></th>\n",
       "      <th></th>\n",
       "    </tr>\n",
       "  </thead>\n",
       "  <tbody>\n",
       "    <tr>\n",
       "      <th>Не женат / не замужем</th>\n",
       "      <td>2796</td>\n",
       "      <td>273</td>\n",
       "      <td>9.8%</td>\n",
       "    </tr>\n",
       "    <tr>\n",
       "      <th>гражданский брак</th>\n",
       "      <td>4134</td>\n",
       "      <td>385</td>\n",
       "      <td>9.3%</td>\n",
       "    </tr>\n",
       "    <tr>\n",
       "      <th>женат / замужем</th>\n",
       "      <td>12261</td>\n",
       "      <td>927</td>\n",
       "      <td>7.6%</td>\n",
       "    </tr>\n",
       "    <tr>\n",
       "      <th>в разводе</th>\n",
       "      <td>1189</td>\n",
       "      <td>84</td>\n",
       "      <td>7.1%</td>\n",
       "    </tr>\n",
       "    <tr>\n",
       "      <th>вдовец / вдова</th>\n",
       "      <td>951</td>\n",
       "      <td>63</td>\n",
       "      <td>6.6%</td>\n",
       "    </tr>\n",
       "  </tbody>\n",
       "</table>\n",
       "</div>"
      ],
      "text/plain": [
       "                       total_number_of_clients  number_of_debtors  \\\n",
       "family_status                                                       \n",
       "Не женат / не замужем                     2796                273   \n",
       "гражданский брак                          4134                385   \n",
       "женат / замужем                          12261                927   \n",
       "в разводе                                 1189                 84   \n",
       "вдовец / вдова                             951                 63   \n",
       "\n",
       "                      share_of_debtors  \n",
       "family_status                           \n",
       "Не женат / не замужем             9.8%  \n",
       "гражданский брак                  9.3%  \n",
       "женат / замужем                   7.6%  \n",
       "в разводе                         7.1%  \n",
       "вдовец / вдова                    6.6%  "
      ]
     },
     "execution_count": 97,
     "metadata": {},
     "output_type": "execute_result"
    }
   ],
   "source": [
    "share_of_debtors('family_status') \n",
    "# создание кросс-таблицы, в которой для каждого вида семейного положения \n",
    "# рассчитывается общее количество заёмщиков, \n",
    "# количество и доля заёмщиков с задолженностью по возврату кредитов"
   ]
  },
  {
   "cell_type": "markdown",
   "id": "ba4eb321-8dc4-417c-9c55-0ef6ccbed413",
   "metadata": {},
   "source": [
    "Большую долю должников по кредитам составляют неженатые мужчины и незамужние женщины, а также те, кто состоит в гражданском браке. Меньшую долю — те, кто когда-либо состоял или в настоящий момент состоит в зарегистрированном браке."
   ]
  },
  {
   "cell_type": "markdown",
   "id": "b59ccda1-6fb3-482b-b2f4-270da422afc9",
   "metadata": {},
   "source": [
    "**Вывод:** \n",
    "\n",
    "Люди, не состоящие в браке, и гражданские супруги больше рискуют стать должниками по кредиту. Причиной этого может служить самостоятельное управление финансами, отсутствие общих денежных накоплений.\n",
    "\n",
    "Те, кто состоит в официальном браке, в меньшей степени подвержены риску возникновения задолженности по возврату кредита. Зарегистрированный брак может способствовать укреплению финансовой устойчивости семьи и улучшению её благосостояния. При оформлении кредита на человека, состоящего в законном браке, второй супруг может стать созаёмщиком и нести ответственность за погашение займа. В случае развода с кредитом ничего не произойдёт, так как имущество и обязательства супругов делятся по семейному кодексу или брачному договору. При смерти одного из супругов второй может получить наследство."
   ]
  },
  {
   "cell_type": "markdown",
   "id": "0c53e3fc-524c-4cc5-95cf-85395d443fda",
   "metadata": {},
   "source": [
    "### Зависимость между уровнем дохода и возвратом кредита в срок"
   ]
  },
  {
   "cell_type": "markdown",
   "id": "9fafbb18-fa86-43bc-b5d4-e5a0bd8787b4",
   "metadata": {},
   "source": [
    "Получим среднее значение ежемесячного дохода клиентов банка."
   ]
  },
  {
   "cell_type": "code",
   "execution_count": 102,
   "id": "1de031bc-4385-44be-a5d8-ab10c0286728",
   "metadata": {},
   "outputs": [
    {
     "data": {
      "text/plain": [
       "165342.7"
      ]
     },
     "execution_count": 102,
     "metadata": {},
     "output_type": "execute_result"
    }
   ],
   "source": [
    "round(data['total_income'].mean(), 1)\n",
    "# рассчёт среднего значения дохода клиентов банка"
   ]
  },
  {
   "cell_type": "markdown",
   "id": "c96170e4-4dbe-4a1a-90c0-0ac4b09b62ed",
   "metadata": {},
   "source": [
    "В среднем ежемесячный доход клиентов банка составляет 165.3 тыс."
   ]
  },
  {
   "cell_type": "markdown",
   "id": "9cded629-67f8-48ca-87bc-eda2a6d50b9c",
   "metadata": {},
   "source": [
    "Найдём медиану ежемесячного дохода клиентов банка."
   ]
  },
  {
   "cell_type": "code",
   "execution_count": 105,
   "id": "2542a0a6-437d-4cbc-8f94-7e09c7667fd1",
   "metadata": {},
   "outputs": [
    {
     "data": {
      "text/plain": [
       "142594.0"
      ]
     },
     "execution_count": 105,
     "metadata": {},
     "output_type": "execute_result"
    }
   ],
   "source": [
    "data['total_income'].median() \n",
    "# рассчёт медианы дохода клиентов"
   ]
  },
  {
   "cell_type": "markdown",
   "id": "9a8ba75b-c008-475a-8b5d-e9c7e6cdcf0f",
   "metadata": {},
   "source": [
    "Медиана ежемесячного дохода клиентов банка равна 142,6 тыс., что меньше среднего значения. Возможно, это связано с тем, что распределение доходов имеет асимметричный характер. Среднее значение может быть смещено вверх из-за наличия нескольких \"экстремальных\" значений. Медиана является более устойчивой мерой центральной тенденции."
   ]
  },
  {
   "cell_type": "markdown",
   "id": "691bc8e8-1b80-4303-98d3-7da2c6be1027",
   "metadata": {},
   "source": [
    "Рассчитаем среднее значение ежемесячного дохода у заёмщиков с задолженностью по возврату кредитов и без неё."
   ]
  },
  {
   "cell_type": "code",
   "execution_count": 108,
   "id": "88ff170e-c910-42ed-a789-5297a7d65f9b",
   "metadata": {},
   "outputs": [
    {
     "data": {
      "text/html": [
       "<div>\n",
       "<style scoped>\n",
       "    .dataframe tbody tr th:only-of-type {\n",
       "        vertical-align: middle;\n",
       "    }\n",
       "\n",
       "    .dataframe tbody tr th {\n",
       "        vertical-align: top;\n",
       "    }\n",
       "\n",
       "    .dataframe thead tr th {\n",
       "        text-align: left;\n",
       "    }\n",
       "</style>\n",
       "<table border=\"1\" class=\"dataframe\">\n",
       "  <thead>\n",
       "    <tr>\n",
       "      <th></th>\n",
       "      <th colspan=\"2\" halign=\"left\">count</th>\n",
       "      <th colspan=\"2\" halign=\"left\">sum</th>\n",
       "      <th colspan=\"2\" halign=\"left\">mean</th>\n",
       "    </tr>\n",
       "    <tr>\n",
       "      <th>debt</th>\n",
       "      <th>0</th>\n",
       "      <th>1</th>\n",
       "      <th>0</th>\n",
       "      <th>1</th>\n",
       "      <th>0</th>\n",
       "      <th>1</th>\n",
       "    </tr>\n",
       "  </thead>\n",
       "  <tbody>\n",
       "    <tr>\n",
       "      <th>total_income</th>\n",
       "      <td>19599</td>\n",
       "      <td>1732</td>\n",
       "      <td>3247810363</td>\n",
       "      <td>279115747</td>\n",
       "      <td>165713.065105</td>\n",
       "      <td>161152.278868</td>\n",
       "    </tr>\n",
       "  </tbody>\n",
       "</table>\n",
       "</div>"
      ],
      "text/plain": [
       "              count               sum                      mean               \n",
       "debt              0     1           0          1              0              1\n",
       "total_income  19599  1732  3247810363  279115747  165713.065105  161152.278868"
      ]
     },
     "execution_count": 108,
     "metadata": {},
     "output_type": "execute_result"
    }
   ],
   "source": [
    "data.pivot_table(columns='debt', values='total_income', \n",
    "                 aggfunc=['count', 'sum', 'mean']) \n",
    "# cоздание кросс-таблицы, показывающей средний ежемесячный доход, \n",
    "# который приходится на заёмщиков \n",
    "# с задолженностью по возврату кредитов и без неё"
   ]
  },
  {
   "cell_type": "markdown",
   "id": "23186094-c4ef-4fe5-8370-e4c080919ab8",
   "metadata": {},
   "source": [
    "Среднее значение ежемесячного дохода у заёмщиков, не имеющих задолженность по возврату кредитов (165,7 тыс.), выше, чем у тех, кто имеет задолженность (161,2 тыс.)."
   ]
  },
  {
   "cell_type": "markdown",
   "id": "6cd8d0db-6456-4e21-91e3-2f72cf3c06f8",
   "metadata": {},
   "source": [
    "Доходы кредитополучателей разделены на разные категории в зависимости от их размера:\n",
    "\n",
    "- 0–30000 — `'E'`;\n",
    "- 30001–50000 — `'D'`;\n",
    "- 50001–200000 — `'C'`;\n",
    "- 200001–1000000 — `'B'`;\n",
    "- 1000001 и выше — `'A'`."
   ]
  },
  {
   "cell_type": "markdown",
   "id": "1d01a8b7-3df8-40b0-9ca7-b84c1d14a06e",
   "metadata": {},
   "source": [
    "Построим гистограмму, чтобы посмотреть соотношение клиентов банка по уровню дохода."
   ]
  },
  {
   "cell_type": "code",
   "execution_count": 112,
   "id": "7f98c35c-3824-4bef-a14f-288b5f63bdff",
   "metadata": {},
   "outputs": [
    {
     "data": {
      "image/png": "[encoded data removed]",
      "text/plain": [
       "<Figure size 600x400 with 1 Axes>"
      ]
     },
     "metadata": {},
     "output_type": "display_data"
    }
   ],
   "source": [
    "graph('total_income_category') \n",
    "# создание графика, который показывает количество наблюдений \n",
    "# в зависимости от уровня дохода\n",
    "plt.xticks(fontsize=10)\n",
    "# установка размера шрифта меток горизонтальной оси\n",
    "plt.yticks(fontsize=10)\n",
    "# установка размера шрифта меток вертикальной оси\n",
    "plt.title('Уровень дохода клиентов банка', fontsize=12) \n",
    "# добавление заголовка к графику\n",
    "plt.xlabel('Уровень дохода', fontsize=10) \n",
    "# добавление подписи к горизонтальной оси графика\n",
    "plt.ylabel('Количество клиентов банка', fontsize=10) \n",
    "# добавление подписи к вертикальной оси графика\n",
    "plt.show()\n",
    "# отображение графика"
   ]
  },
  {
   "cell_type": "markdown",
   "id": "a4ccad5a-a10a-457c-9dfa-f7ca6a10bc09",
   "metadata": {},
   "source": [
    "Наибольшее число клиентов банка имеет средний уровень дохода — от 50 тыс. до 200 тыс.\n",
    "\n",
    "Ко второй по численности группе относятся клиенты банка с уровнем дохода выше среднего — от 200 тыс. до 1 млн.\n",
    "\n",
    "Существует небольшое количество клиентов с высоким уровнем дохода (от 1 млн. и выше), уровнем дохода ниже среднего (от 30 тыс. до 50 тыс.) и низким уровнем дохода (от 0 до 30 тыс.)."
   ]
  },
  {
   "cell_type": "markdown",
   "id": "d3813876-6cd0-48ae-b8ed-60e4cb31ab07",
   "metadata": {},
   "source": [
    "Установим число клиентов банка с определённым уровнем дохода."
   ]
  },
  {
   "cell_type": "code",
   "execution_count": 115,
   "id": "ad2bd06c-6719-48ee-9fbb-fb48cb3d8a2b",
   "metadata": {},
   "outputs": [
    {
     "data": {
      "text/plain": [
       "(total_income_category\n",
       " C    15921\n",
       " B     5014\n",
       " D      349\n",
       " A       25\n",
       " E       22\n",
       " Name: count, dtype: int64,\n",
       " total_income_category\n",
       " A     0.117200\n",
       " B    23.505696\n",
       " C    74.637851\n",
       " D     1.636116\n",
       " E     0.103136\n",
       " dtype: float64)"
      ]
     },
     "execution_count": 115,
     "metadata": {},
     "output_type": "execute_result"
    }
   ],
   "source": [
    "number_and_proportion_of_variable_values('total_income_category') \n",
    "# рассчёт количества наблюдений и процентного соотношения \n",
    "# для каждой группы значений переменной ‘total_income_category’"
   ]
  },
  {
   "cell_type": "markdown",
   "id": "e3f52a54-23ae-47d2-90ac-3faeb5589ef0",
   "metadata": {},
   "source": [
    "У 16 тыс. клиентов банка (75%) средний уровень дохода.\n",
    "\n",
    "У 5 тыс. клиентов банка (24%) уровень дохода выше среднего.\n",
    "\n",
    "У 349 клиентов банка (2%) уровень дохода ниже среднего.\n",
    "\n",
    "У 25 клиентов банка высокий уровень дохода.\n",
    "\n",
    "У 22 клиентов банка низкий уровень дохода.\n",
    "\n",
    "Выборки являются крайне несбалансированными. Самая маленькая категория в 728 раз меньше самой большой. Было бы лучше, если бы они были примерно одинаковыми."
   ]
  },
  {
   "cell_type": "markdown",
   "id": "8fe75e88-5a69-4e10-89a3-eac96977ce3b",
   "metadata": {},
   "source": [
    "Рассчитаем долю заёмщиков с задолженностью по возврату кредитов для определённого уровня дохода."
   ]
  },
  {
   "cell_type": "code",
   "execution_count": 118,
   "id": "9cf56da6-f6f1-42b3-b827-0ffd5994246f",
   "metadata": {},
   "outputs": [
    {
     "data": {
      "text/html": [
       "<div>\n",
       "<style scoped>\n",
       "    .dataframe tbody tr th:only-of-type {\n",
       "        vertical-align: middle;\n",
       "    }\n",
       "\n",
       "    .dataframe tbody tr th {\n",
       "        vertical-align: top;\n",
       "    }\n",
       "\n",
       "    .dataframe thead th {\n",
       "        text-align: right;\n",
       "    }\n",
       "</style>\n",
       "<table border=\"1\" class=\"dataframe\">\n",
       "  <thead>\n",
       "    <tr style=\"text-align: right;\">\n",
       "      <th></th>\n",
       "      <th>total_number_of_clients</th>\n",
       "      <th>number_of_debtors</th>\n",
       "      <th>share_of_debtors</th>\n",
       "    </tr>\n",
       "    <tr>\n",
       "      <th>total_income_category</th>\n",
       "      <th></th>\n",
       "      <th></th>\n",
       "      <th></th>\n",
       "    </tr>\n",
       "  </thead>\n",
       "  <tbody>\n",
       "    <tr>\n",
       "      <th>E</th>\n",
       "      <td>22</td>\n",
       "      <td>2</td>\n",
       "      <td>9.1%</td>\n",
       "    </tr>\n",
       "    <tr>\n",
       "      <th>C</th>\n",
       "      <td>15921</td>\n",
       "      <td>1353</td>\n",
       "      <td>8.5%</td>\n",
       "    </tr>\n",
       "    <tr>\n",
       "      <th>A</th>\n",
       "      <td>25</td>\n",
       "      <td>2</td>\n",
       "      <td>8.0%</td>\n",
       "    </tr>\n",
       "    <tr>\n",
       "      <th>B</th>\n",
       "      <td>5014</td>\n",
       "      <td>354</td>\n",
       "      <td>7.1%</td>\n",
       "    </tr>\n",
       "    <tr>\n",
       "      <th>D</th>\n",
       "      <td>349</td>\n",
       "      <td>21</td>\n",
       "      <td>6.0%</td>\n",
       "    </tr>\n",
       "  </tbody>\n",
       "</table>\n",
       "</div>"
      ],
      "text/plain": [
       "                       total_number_of_clients  number_of_debtors  \\\n",
       "total_income_category                                               \n",
       "E                                           22                  2   \n",
       "C                                        15921               1353   \n",
       "A                                           25                  2   \n",
       "B                                         5014                354   \n",
       "D                                          349                 21   \n",
       "\n",
       "                      share_of_debtors  \n",
       "total_income_category                   \n",
       "E                                 9.1%  \n",
       "C                                 8.5%  \n",
       "A                                 8.0%  \n",
       "B                                 7.1%  \n",
       "D                                 6.0%  "
      ]
     },
     "execution_count": 118,
     "metadata": {},
     "output_type": "execute_result"
    }
   ],
   "source": [
    "share_of_debtors('total_income_category') \n",
    "# создание кросс-таблицы, в которой для каждого уровня дохода \n",
    "# рассчитывается общее количество заёмщиков, \n",
    "# количество и доля заёмщиков с задолженностью по возврату кредитов"
   ]
  },
  {
   "cell_type": "markdown",
   "id": "8a2ef80f-09a3-42ad-9c4b-a414522e21ff",
   "metadata": {},
   "source": [
    "Если не учитывать немногочисленные по составу группы (2 должника с низким уровнем дохода и 2 — с высоким, 21 должник с уровнем дохода ниже среднего), то большую долю должников по кредитам составляют заёмщики со средним уровнем дохода (от 50 тыс. до 200 тыс.) и меньшую долю — заёмщики с уровнем дохода выше среднего (от 200 тыс. до 1 млн.)."
   ]
  },
  {
   "cell_type": "markdown",
   "id": "dbe865d2-d6ae-4b37-a840-5b0f2edd1498",
   "metadata": {},
   "source": [
    "**Вывод:** \n",
    "\n",
    "С более низким уровнем дохода увеличивается вероятность того, что кредит не будет погашен в установленные сроки. Людям с низким доходом может не хватать денег на своевременную оплату платежей по кредиту. Причиной этого может служить отсутствие стабильного источника дохода, непредвиденные расходы, неумение правильно планировать свой бюджет.\n",
    "\n",
    "Чем выше доход заёмщика, тем больше вероятность того, что он сможет своевременно погасить кредит. Это связано с тем, что у заёмщика с высоким доходом меньше финансовых трудностей и больше возможностей для погашения кредита."
   ]
  },
  {
   "cell_type": "markdown",
   "id": "b4537453-1795-432a-b08a-dd00e3099327",
   "metadata": {},
   "source": [
    "### Зависимость между целью кредита и возвратом кредита в срок"
   ]
  },
  {
   "cell_type": "markdown",
   "id": "891d40f0-07ff-4a02-b69a-8d7a78ea1f95",
   "metadata": {},
   "source": [
    "Построим гистограмму, чтобы посмотреть соотношение клиентов банка по цели получения кредита."
   ]
  },
  {
   "cell_type": "code",
   "execution_count": 123,
   "id": "1f8bd917-9f60-4c6e-b9e3-0cdc2fee131f",
   "metadata": {},
   "outputs": [
    {
     "data": {
      "image/png": "[encoded data removed]",
      "text/plain": [
       "<Figure size 600x400 with 1 Axes>"
      ]
     },
     "metadata": {},
     "output_type": "display_data"
    }
   ],
   "source": [
    "graph('purpose_category') \n",
    "# создание графика, который показывает количество наблюдений \n",
    "# в зависимости от цели получения кредита\n",
    "plt.xticks(rotation=25)\n",
    "# установка расположения меток горизонтальной оси\n",
    "plt.xticks(fontsize=8)\n",
    "# установка размера шрифта меток горизонтальной оси\n",
    "plt.yticks(fontsize=8)\n",
    "# установка размера шрифта меток вертикальной оси\n",
    "plt.title('Цель получения кредита клиентами банка', fontsize=12) \n",
    "# добавление заголовка к графику\n",
    "plt.xlabel('Цель получения кредита', fontsize=10) \n",
    "# добавление подписи к горизонтальной оси графика\n",
    "plt.ylabel('Количество клиентов банка', fontsize=10) \n",
    "# добавление подписи к вертикальной оси графика\n",
    "plt.show()\n",
    "# отображение графика"
   ]
  },
  {
   "cell_type": "markdown",
   "id": "0ee3c7a0-daf5-468d-84fa-e6623d6c49d2",
   "metadata": {},
   "source": [
    "Самой популярной целью получения кредита является проведение операций с недвижимостью. \n",
    "\n",
    "К наименее распространённой цели кредита относится проведение свадьбы."
   ]
  },
  {
   "cell_type": "markdown",
   "id": "dd915883-162f-451c-a973-b73be428ccd8",
   "metadata": {},
   "source": [
    "Выявим количество клиентов банка с определённой целью получения кредита."
   ]
  },
  {
   "cell_type": "code",
   "execution_count": 126,
   "id": "5ebb3fbb-ae1e-4940-99ed-312777ed862f",
   "metadata": {},
   "outputs": [
    {
     "data": {
      "text/plain": [
       "(purpose_category\n",
       " операции с недвижимостью    10751\n",
       " операции с автомобилем       4279\n",
       " получение образования        3988\n",
       " проведение свадьбы           2313\n",
       " Name: count, dtype: int64,\n",
       " purpose_category\n",
       " операции с автомобилем      20.060007\n",
       " операции с недвижимостью    50.400825\n",
       " получение образования       18.695795\n",
       " проведение свадьбы          10.843373\n",
       " dtype: float64)"
      ]
     },
     "execution_count": 126,
     "metadata": {},
     "output_type": "execute_result"
    }
   ],
   "source": [
    "number_and_proportion_of_variable_values('purpose_category') \n",
    "# рассчёт количества наблюдений и процентного соотношения \n",
    "# для каждой группы значений переменной ‘purpose_category’"
   ]
  },
  {
   "cell_type": "markdown",
   "id": "378bd2f4-6107-4ebd-8c66-2dd151ca1011",
   "metadata": {},
   "source": [
    "10.8 тыс. человек взяли кредит на операции с недвижимостью, что составляет половину всех клиентов банка.\n",
    "\n",
    "4.3 тыс. человек оформили кредит на операции с автомобилем — 20% от общего числа клиентов.\n",
    "\n",
    "Для 4 тыс. человек (19%) целью кредита является получение образования.\n",
    "\n",
    "2.3 тыс. человек (11%) указали в качестве цели получения кредита проведение свадьбы."
   ]
  },
  {
   "cell_type": "markdown",
   "id": "81f53f52-47b7-456e-9889-9b2b6e30bb46",
   "metadata": {},
   "source": [
    "Рассчитаем долю заёмщиков с задолженностью по возврату кредитов для определённой цели получения кредита."
   ]
  },
  {
   "cell_type": "code",
   "execution_count": 129,
   "id": "e9812d88-c5b4-4515-abb4-5c280b66d44c",
   "metadata": {},
   "outputs": [
    {
     "data": {
      "text/html": [
       "<div>\n",
       "<style scoped>\n",
       "    .dataframe tbody tr th:only-of-type {\n",
       "        vertical-align: middle;\n",
       "    }\n",
       "\n",
       "    .dataframe tbody tr th {\n",
       "        vertical-align: top;\n",
       "    }\n",
       "\n",
       "    .dataframe thead th {\n",
       "        text-align: right;\n",
       "    }\n",
       "</style>\n",
       "<table border=\"1\" class=\"dataframe\">\n",
       "  <thead>\n",
       "    <tr style=\"text-align: right;\">\n",
       "      <th></th>\n",
       "      <th>total_number_of_clients</th>\n",
       "      <th>number_of_debtors</th>\n",
       "      <th>share_of_debtors</th>\n",
       "    </tr>\n",
       "    <tr>\n",
       "      <th>purpose_category</th>\n",
       "      <th></th>\n",
       "      <th></th>\n",
       "      <th></th>\n",
       "    </tr>\n",
       "  </thead>\n",
       "  <tbody>\n",
       "    <tr>\n",
       "      <th>операции с автомобилем</th>\n",
       "      <td>4279</td>\n",
       "      <td>400</td>\n",
       "      <td>9.3%</td>\n",
       "    </tr>\n",
       "    <tr>\n",
       "      <th>получение образования</th>\n",
       "      <td>3988</td>\n",
       "      <td>369</td>\n",
       "      <td>9.3%</td>\n",
       "    </tr>\n",
       "    <tr>\n",
       "      <th>проведение свадьбы</th>\n",
       "      <td>2313</td>\n",
       "      <td>183</td>\n",
       "      <td>7.9%</td>\n",
       "    </tr>\n",
       "    <tr>\n",
       "      <th>операции с недвижимостью</th>\n",
       "      <td>10751</td>\n",
       "      <td>780</td>\n",
       "      <td>7.3%</td>\n",
       "    </tr>\n",
       "  </tbody>\n",
       "</table>\n",
       "</div>"
      ],
      "text/plain": [
       "                          total_number_of_clients  number_of_debtors  \\\n",
       "purpose_category                                                       \n",
       "операции с автомобилем                       4279                400   \n",
       "получение образования                        3988                369   \n",
       "проведение свадьбы                           2313                183   \n",
       "операции с недвижимостью                    10751                780   \n",
       "\n",
       "                         share_of_debtors  \n",
       "purpose_category                           \n",
       "операции с автомобилем               9.3%  \n",
       "получение образования                9.3%  \n",
       "проведение свадьбы                   7.9%  \n",
       "операции с недвижимостью             7.3%  "
      ]
     },
     "execution_count": 129,
     "metadata": {},
     "output_type": "execute_result"
    }
   ],
   "source": [
    "share_of_debtors('purpose_category') \n",
    "# создание кросс-таблицы, в которой для каждой цели получения кредита \n",
    "# рассчитывается общее колчество заёмщиков, \n",
    "# количество и доля заёмщиков с задолженностью по возврату кредитов"
   ]
  },
  {
   "cell_type": "markdown",
   "id": "1027ed00-b1fd-41b0-9405-e0c4f335cab4",
   "metadata": {},
   "source": [
    "На операции с автомобилем и получение образования приходится большая доля должников по возврату кредитов.\n",
    "\n",
    "Меньшую долю должников составляют те клиенты банка, кто взял кредит на  операции с недвижимостью и проведение свадьбы."
   ]
  },
  {
   "cell_type": "markdown",
   "id": "68faa025-f153-4aba-8dcd-f4282e013d4e",
   "metadata": {},
   "source": [
    "**Вывод:** \n",
    "\n",
    "При взятии автокредита вероятность невозврата кредита в установленный срок повышается. Сроки погашения автокредитов, как правило, короткие. Это связано с тем, что автомобиль обычно быстро теряет свою стоимость. Процентные ставки по автокредитам обычно выше, чем по другим кредитам, так как кредиты, связанные с операциями с автомобилем, считаются более рискованными. Возможные аварии и повреждения автомобиля снижают его стоимость и делают менее привлекательным для продажи в случае неплатёжеспособности заёмщика. Рынок автомобилей постоянно меняется, и новые модели могут вытеснить старые, что также оказывает влияние на стоимость машины.\n",
    "\n",
    "При оформлении кредита на получение образования вероятность несвоевременного погашения кредита также возрастает. Стоимость обучения может значительно возрасти в течение срока кредита, что может сделать его более трудным для выплаты заёмщиком. Заёмщик может не получить работу после окончания учебного заведения, решить не работать в выбранной области, что также может затруднить выплату кредита.\n",
    "\n",
    "Кредиты на недвижимость обычно имеют более низкие процентные ставки, что может сделать их доступнее для выплаты. Недвижимость является более стабильным активом, который не теряет своей стоимости так быстро, как, например, автомобиль.  Ипотечные кредиты часто имеют длительные сроки погашения, что позволяет заёмщикам выплачивать кредиты более равномерно и без больших переплат. Кредиты на недвижимость также могут быть погашены досрочно без штрафов.\n",
    "\n",
    "Возможно, кредиты на свадьбу легче выплатить в срок по сравнению с другими видами кредитов, потому что свадьба является важным событием в жизни людей, в связи с чем банки могут быть готовы предложить выгодные условия погашения такого кредита."
   ]
  },
  {
   "cell_type": "markdown",
   "id": "64b8d95a-9e00-4758-845e-e06c47b5ab2a",
   "metadata": {},
   "source": [
    "## Общий вывод"
   ]
  },
  {
   "cell_type": "markdown",
   "id": "d0d22a51-503f-4690-949b-5bb8221f4a40",
   "metadata": {},
   "source": [
    "Нами было проведено исследование надёжности заёмщиков на основе данных от кредитного отдела банка — статистике о платёжеспособности клиентов. При изучении данных было обнаружено, что есть пропущенные и аномальные значения, дубликаты.\n",
    "\n",
    "Пропущенные значения в данных могли появиться из-за ошибок при внесении информации, технических проблем. Кроме того, данные могли быть не указаны намеренно по разным причинам. Пропуски были заполнены медианным значением. Среднее значение некорректно характеризует данные, когда некоторые значения сильно выделяются среди большинства. В таком случае медиана — это более объективная информация.\n",
    "\n",
    "Артефакты или аномалии — значения, которые не отражают действительность и появились по какой-то ошибке. К таким артефактам относятся аномально большие и отрицательные значения. Отрицательные значения были заменены положительными. Аномально большие значения были удалены. Одни и те же значения, но записанные по-разному, также были удалены.\n",
    "\n",
    "Вещественный тип некоторых данных был заменён на целочисленный. Последний обычно имеет большую ёмкость для хранения чисел и обеспечивает более высокую точность при работе с большими числами.\n",
    "\n",
    "Часть данных была разделена на категории. Это позволило работать с меньшим объёмом информации, что ускорило процесс анализа и позволило выявить закономерности и тенденции, которые не видны при работе с большим объёмом данных.\n",
    "\n",
    "В ходе исследования было выявлено, что такие факторы, как количество детей, семейное положение, уровень дохода и цель получения кредита, оказывают влияние на погашение заёмщиком кредита в срок.\n",
    "\n",
    "- Большинство бездетных людей не имеют задолженность по возврату кредитов. Наличие детей повышает риск невозврата кредита в срок. При этом с увеличением количества детей вероятность невозврата кредита в срок может уменьшаться.\n",
    "\n",
    "- Люди, не состоящие в браке, и гражданские супруги больше рискуют стать должниками по кредиту. Те, кто когда-либо состоял или в настоящий момент состоит в официальном браке, в меньшей степени подвержены риску возникновения задолженности по возврату кредита.\n",
    "\n",
    "- С низким уровнем дохода люди могут столкнуться с трудностями в погашении кредита. Чем выше доход заёмщика, тем больше вероятность того, что он сможет своевременно погасить кредит.\n",
    "\n",
    "- При взятии автокредита и кредита на получение образования риск несвоевременного погашения кредита возрастает. При оформлении кредита на недвижимость или свадьбу меньше вероятность того, что он не будет погашен в установленные сроки.\n",
    "\n",
    "Таким образом, к более надёжному кредитополучателю можно отнести человека, в прошлом или настоящем состоящего в зарегистрированном браке, бездетного или многодетного, имеющего доход выше среднего, а также оформляющего кредит либо на операции с недвижимостью, либо с целью проведения свадьбы.\n",
    "\n",
    "Результаты исследования могут быть использованы при построении модели кредитного скоринга — специальной системы, которая оценивает способность потенциального заёмщика вернуть кредит банку."
   ]
  }
 ],
 "metadata": {
  "kernelspec": {
   "display_name": "Python 3 (ipykernel)",
   "language": "python",
   "name": "python3"
  },
  "language_info": {
   "codemirror_mode": {
    "name": "ipython",
    "version": 3
   },
   "file_extension": ".py",
   "mimetype": "text/x-python",
   "name": "python",
   "nbconvert_exporter": "python",
   "pygments_lexer": "ipython3",
   "version": "3.12.7"
  }
 },
 "nbformat": 4,
 "nbformat_minor": 5
}

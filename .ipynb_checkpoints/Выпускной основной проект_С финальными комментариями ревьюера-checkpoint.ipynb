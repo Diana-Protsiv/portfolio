{
 "cells": [
  {
   "cell_type": "markdown",
   "id": "29443ab7",
   "metadata": {},
   "source": [
    "  <div class=\"alert alert-info\">\n",
    "  Привет, Диана! Меня зовут Светлана Чих и я буду проверять твой проект. Моя основная цель — не указать на совершенные тобою ошибки, а поделиться своим опытом и помочь тебе. Предлагаю общаться на «ты». Но если это не удобно - дай знать, и мы перейдем на «вы».\n",
    "\n",
    "  <div class=\"alert alert-success\">\n",
    "  <b>👍 Успех:</b> Зелёным цветом отмечены удачные и элегантные решения, на которые можно опираться в будущих проектах.\n",
    "  </div>\n",
    "  <div class=\"alert alert-warning\">\n",
    "  <b>🤔 Рекомендация:</b> Жёлтым цветом выделено то, что в следующий раз можно сделать по-другому. Ты можешь учесть эти комментарии при выполнении будущих заданий или доработать проект сейчас (однако это не обязательно).\n",
    "  </div>\n",
    "  <div class=\"alert alert-danger\">\n",
    "  <b>😔 Необходимо исправить:</b> Красным цветом выделены комментарии, без исправления которых, я не смогу принять проект :(\n",
    "  </div>\n",
    "  <div class=\"alert alert-info\">\n",
    "  <b>👂 Совет:</b> Какие-то дополнительные материалы\n",
    "  </div>\n",
    "  Давай работать над проектом в диалоге: если ты что-то меняешь в проекте по моим рекомендациям — пиши об этом.\n",
    "  Мне будет легче отследить изменения, если ты выделишь свои комментарии:\n",
    "  <div class=\"alert alert-info\"> <b>🎓 Комментарий студента:</b> Например, вот так.</div>\n",
    "  Пожалуйста, не перемещай, не изменяй и не удаляй мои комментарии. Всё это поможет выполнить повторную проверку твоего проекта быстрее.\n",
    "   </div>"
   ]
  },
  {
   "cell_type": "markdown",
   "id": "54f16f04",
   "metadata": {},
   "source": [
    "# Анализ оттока клиентов банка «Метанпром»"
   ]
  },
  {
   "cell_type": "markdown",
   "id": "69709014",
   "metadata": {},
   "source": [
    "## Материалы:\n",
    "\n",
    "Ссылка на облачное хранилище с презентацией: https://disk.yandex.ru/i/SHDbSdolan_MLA"
   ]
  },
  {
   "cell_type": "markdown",
   "id": "c6302f15",
   "metadata": {},
   "source": [
    "**Описание проекта**\n",
    "\n",
    "В последнее время в банке «Метанпром» значительно повысился отток клиентов. Это становится серьёзной проблемой, которая угрожает существованию банка. Необходимо максимально эффективно выделить сегменты склонных к уходу из банка клиентов, чтобы они были однородными, высокоотточными и охватывали максимальное количество проблемных зон банка. Последующее маркетинговое воздействие на эти сегменты должно привести к уменьшению оттока клиентов.\n",
    "\n",
    "Проект включает в себя анализ клиентов регионального банка, проверку гипотез, выделение сегментов клиентов, склонных уходить из банка, и предоставление рекомендаций для отдела маркетинга.\n",
    "\n",
    "**Цель исследования** — анализ оттока клиентов банка «Метанпром». Анализ покажет, какие клиенты уходят из банка, а также поможет составить сегменты клиентов, которые склонны уходить из банка."
   ]
  },
  {
   "cell_type": "markdown",
   "id": "2f233a3d",
   "metadata": {},
   "source": [
    "**Описание данных**\n",
    "\n",
    "Датасет содержит данные о клиентах банка «Метанпром». Банк располагается в Ярославле и областных городах: Ростов Великий и Рыбинск.\n",
    "\n",
    "- `USERID` — идентификатор пользователя;\n",
    "\n",
    "- `score` — баллы кредитного скоринга;\n",
    "\n",
    "- `city` — город;\n",
    "\n",
    "- `gender` — пол;\n",
    "\n",
    "- `age` — возраст;\n",
    "\n",
    "- `equity` — количество баллов собственности;\n",
    "\n",
    "- `balance` — баланс на счёте;\n",
    "\n",
    "- `products` — количество продуктов, которыми пользуется клиент;\n",
    "\n",
    "- `credit_card` — есть ли кредитная карта;\n",
    "\n",
    "- `last_activity` — активный клиент;\n",
    "\n",
    "- `EST_SALARY` — оценочный доход клиента;\n",
    "\n",
    "- `сhurn` — признак оттока."
   ]
  },
  {
   "cell_type": "markdown",
   "id": "0b16e7c7",
   "metadata": {},
   "source": [
    "**План работы**\n",
    "\n",
    "1. Загрузка и предобработка данных.\n",
    "- Загрузка данных о клиентах банка из csv-файла в переменную.\n",
    "- Вывод первых строк набора данных.\n",
    "- Изучение общей информации о датафрейме.\n",
    "- Анализ пропущенных значений, явных и неявных дубликатов в данных.\n",
    "- Замена названий столбцов датафрейма.\n",
    "- Преобразование данных в нужный тип.\n",
    "- Анализ выбросов в данных.\n",
    "\n",
    "2. Исследовательский анализ данных.\n",
    "- Изучение распределений по всем признакам с разбивкой по признаку оттока.\n",
    "- Выделение значений и интервалов отточности.\n",
    "- Составление и сравнение портретов типичных клиентов, которые склонны и не склонны уходить из банка.\n",
    "- Корреляционный анализ. Определение, существует ли зависимость между признаком оттока и другими переменными и насколько она сильна.\n",
    "- Определение всех значимых признаков отточности.\n",
    "\n",
    "3. Проверка статистических гипотез.\n",
    "- Обоснование выбора статистического метода проверки гипотез.\n",
    "- Проверка гипотезы различия дохода между теми клиентами, которые ушли и теми, которые остались.\n",
    "- Проверка гипотезы различия возраста между теми клиентами, которые ушли и теми, которые остались.\n",
    "- Проверка гипотезы различия в наличии кредитной карты между теми клиентами, которые ушли и теми, которые остались.\n",
    "- Проверка гипотезы различия пола между теми клиентами, которые ушли и теми, которые остались.\n",
    "- Проверка гипотезы различия количества баллов кредитного скоринга между теми клиентами, которые ушли и теми, которые остались.\n",
    "- Проверка гипотезы различия количества используемых банковских продуктов между теми клиентами, которые ушли и теми, которые остались.\n",
    "- Проверка гипотезы различия в проявлении активности между теми клиентами, которые ушли и теми, которые остались.\n",
    "- Проверка гипотезы различия количества баллов собственности между теми клиентами, которые ушли и теми, которые остались.\n",
    "- Подведение промежуточных итогов о том, какие показатели стратегически влияют на отток клиентов банка, какие значения и интервалы этих признаков связаны с оттоком.\n",
    "\n",
    "4. Формирование сегментов клиентов, которые склонны уходить из банка.\n",
    "- Использование признаков, влияющих на отток клиентов, полученных в ходе исследовательского анализа данных и проверки гипотез, для выделения 3-х или более сегментов (размер сегмента — от 500 до 2 тыс. человек).\n",
    "- Приоритизация выделенных сегментов.\n",
    "- Рассчёт для каждого сегмента 3-х показателей: количество пользователей в сегменте, количество ушедших из банка клиентов и процент оттока.\n",
    "- Описание полученных сегментов.\n",
    "- Написание конкретных рекомендаций по снижению оттока для отдела маркетинга по сегментам.\n",
    "\n",
    "5. Подготовка презентации по итогам исследования.\n",
    "- Отбор важных тезисов и наблюдений, которые могут заинтересовать заказчика.\n",
    "- Презентация полученных результатов, которые в будущем помогут в сокращении оттока клиентов.\n",
    "\n",
    "6. Написание общих выводов по результатам исследования."
   ]
  },
  {
   "cell_type": "markdown",
   "id": "296fb215",
   "metadata": {},
   "source": [
    "## Загрузка данных и подготовка их к анализу"
   ]
  },
  {
   "cell_type": "markdown",
   "id": "83f82ee5",
   "metadata": {},
   "source": [
    "### Считывание файла с данными и сохранение в датафрейм"
   ]
  },
  {
   "cell_type": "code",
   "execution_count": 1,
   "id": "c2c3b04a",
   "metadata": {},
   "outputs": [
    {
     "name": "stdout",
     "output_type": "stream",
     "text": [
      "Requirement already satisfied: scipy in /opt/conda/lib/python3.9/site-packages (1.13.1)\n",
      "Requirement already satisfied: numpy<2.3,>=1.22.4 in /opt/conda/lib/python3.9/site-packages (from scipy) (1.26.4)\n"
     ]
    }
   ],
   "source": [
    "!pip install scipy\n",
    "# установка пакета scipy"
   ]
  },
  {
   "cell_type": "code",
   "execution_count": 2,
   "id": "77f8fd9b",
   "metadata": {},
   "outputs": [
    {
     "name": "stdout",
     "output_type": "stream",
     "text": [
      "Requirement already satisfied: scipy in /opt/conda/lib/python3.9/site-packages (1.13.1)\n",
      "Requirement already satisfied: numpy<2.3,>=1.22.4 in /opt/conda/lib/python3.9/site-packages (from scipy) (1.26.4)\n"
     ]
    }
   ],
   "source": [
    "!pip install --upgrade scipy\n",
    "# обновление пакета scipy"
   ]
  },
  {
   "cell_type": "code",
   "execution_count": 3,
   "id": "c2add6f1",
   "metadata": {},
   "outputs": [
    {
     "name": "stdout",
     "output_type": "stream",
     "text": [
      "Requirement already satisfied: phik in /opt/conda/lib/python3.9/site-packages (0.12.4)\n",
      "Requirement already satisfied: numpy>=1.18.0 in /opt/conda/lib/python3.9/site-packages (from phik) (1.26.4)\n",
      "Requirement already satisfied: pandas>=0.25.1 in /opt/conda/lib/python3.9/site-packages (from phik) (1.2.4)\n",
      "Requirement already satisfied: joblib>=0.14.1 in /opt/conda/lib/python3.9/site-packages (from phik) (1.1.0)\n",
      "Requirement already satisfied: matplotlib>=2.2.3 in /opt/conda/lib/python3.9/site-packages (from phik) (3.3.4)\n",
      "Requirement already satisfied: scipy>=1.5.2 in /opt/conda/lib/python3.9/site-packages (from phik) (1.13.1)\n",
      "Requirement already satisfied: python-dateutil>=2.1 in /opt/conda/lib/python3.9/site-packages (from matplotlib>=2.2.3->phik) (2.8.1)\n",
      "Requirement already satisfied: pillow>=6.2.0 in /opt/conda/lib/python3.9/site-packages (from matplotlib>=2.2.3->phik) (8.4.0)\n",
      "Requirement already satisfied: pyparsing!=2.0.4,!=2.1.2,!=2.1.6,>=2.0.3 in /opt/conda/lib/python3.9/site-packages (from matplotlib>=2.2.3->phik) (2.4.7)\n",
      "Requirement already satisfied: cycler>=0.10 in /opt/conda/lib/python3.9/site-packages (from matplotlib>=2.2.3->phik) (0.11.0)\n",
      "Requirement already satisfied: kiwisolver>=1.0.1 in /opt/conda/lib/python3.9/site-packages (from matplotlib>=2.2.3->phik) (1.4.4)\n",
      "Requirement already satisfied: pytz>=2017.3 in /opt/conda/lib/python3.9/site-packages (from pandas>=0.25.1->phik) (2021.1)\n",
      "Requirement already satisfied: six>=1.5 in /opt/conda/lib/python3.9/site-packages (from python-dateutil>=2.1->matplotlib>=2.2.3->phik) (1.16.0)\n"
     ]
    }
   ],
   "source": [
    "!pip install phik\n",
    "# установка пакета phik"
   ]
  },
  {
   "cell_type": "code",
   "execution_count": 4,
   "id": "c4f4410f",
   "metadata": {},
   "outputs": [
    {
     "name": "stdout",
     "output_type": "stream",
     "text": [
      "Requirement already satisfied: phik in /opt/conda/lib/python3.9/site-packages (0.12.4)\n",
      "Requirement already satisfied: matplotlib>=2.2.3 in /opt/conda/lib/python3.9/site-packages (from phik) (3.3.4)\n",
      "Requirement already satisfied: scipy>=1.5.2 in /opt/conda/lib/python3.9/site-packages (from phik) (1.13.1)\n",
      "Requirement already satisfied: pandas>=0.25.1 in /opt/conda/lib/python3.9/site-packages (from phik) (1.2.4)\n",
      "Requirement already satisfied: numpy>=1.18.0 in /opt/conda/lib/python3.9/site-packages (from phik) (1.26.4)\n",
      "Requirement already satisfied: joblib>=0.14.1 in /opt/conda/lib/python3.9/site-packages (from phik) (1.1.0)\n",
      "Requirement already satisfied: kiwisolver>=1.0.1 in /opt/conda/lib/python3.9/site-packages (from matplotlib>=2.2.3->phik) (1.4.4)\n",
      "Requirement already satisfied: pillow>=6.2.0 in /opt/conda/lib/python3.9/site-packages (from matplotlib>=2.2.3->phik) (8.4.0)\n",
      "Requirement already satisfied: pyparsing!=2.0.4,!=2.1.2,!=2.1.6,>=2.0.3 in /opt/conda/lib/python3.9/site-packages (from matplotlib>=2.2.3->phik) (2.4.7)\n",
      "Requirement already satisfied: python-dateutil>=2.1 in /opt/conda/lib/python3.9/site-packages (from matplotlib>=2.2.3->phik) (2.8.1)\n",
      "Requirement already satisfied: cycler>=0.10 in /opt/conda/lib/python3.9/site-packages (from matplotlib>=2.2.3->phik) (0.11.0)\n",
      "Requirement already satisfied: pytz>=2017.3 in /opt/conda/lib/python3.9/site-packages (from pandas>=0.25.1->phik) (2021.1)\n",
      "Requirement already satisfied: six>=1.5 in /opt/conda/lib/python3.9/site-packages (from python-dateutil>=2.1->matplotlib>=2.2.3->phik) (1.16.0)\n"
     ]
    }
   ],
   "source": [
    "!pip install --upgrade phik\n",
    "# обновление пакета phik"
   ]
  },
  {
   "cell_type": "code",
   "execution_count": 5,
   "id": "4d76155d",
   "metadata": {},
   "outputs": [
    {
     "name": "stdout",
     "output_type": "stream",
     "text": [
      "Requirement already satisfied: numpy==1.26.4 in /opt/conda/lib/python3.9/site-packages (1.26.4)\r\n"
     ]
    }
   ],
   "source": [
    "!pip install numpy==1.26.4"
   ]
  },
  {
   "cell_type": "markdown",
   "id": "71fef600",
   "metadata": {},
   "source": [
    "Импортируем необходимые библиотеки и модули."
   ]
  },
  {
   "cell_type": "code",
   "execution_count": 6,
   "id": "bd7db60a",
   "metadata": {},
   "outputs": [],
   "source": [
    "import pandas as pd \n",
    "# импорт библиотеки pandas\n",
    "from matplotlib import pyplot as plt \n",
    "%matplotlib inline\n",
    "# импорт модуля pyplot из библиотеки matplotlib\n",
    "import seaborn as sns\n",
    "# импорт библиотеки seaborn\n",
    "import phik\n",
    "# импорт модуля phik\n",
    "from phik.report import plot_correlation_matrix\n",
    "# импорт функции plot_correlation_matrix из модуля phik.report\n",
    "import scipy.stats as st\n",
    "# импорт модуля stats из библиотеки scipy"
   ]
  },
  {
   "cell_type": "markdown",
   "id": "0179efd1",
   "metadata": {},
   "source": [
    "Считаем данные из файла в датафрейм и сохраним в переменную `data`."
   ]
  },
  {
   "cell_type": "code",
   "execution_count": 7,
   "id": "abfdb817",
   "metadata": {},
   "outputs": [],
   "source": [
    "try:\n",
    "    data = pd.read_csv('/datasets/bank_scrooge.csv')\n",
    "except:\n",
    "    data = pd.read_csv('https://code.s3.yandex.net/datasets/bank_scrooge.csv')\n",
    "# чтение данных из csv-файла в датафрейм и сохранение в переменную ‘data’"
   ]
  },
  {
   "cell_type": "markdown",
   "id": "04a3c67d",
   "metadata": {},
   "source": [
    "### Вывод первых строк набора данных"
   ]
  },
  {
   "cell_type": "markdown",
   "id": "6d318dd9",
   "metadata": {},
   "source": [
    "Выведем первые 5 строк датафрейма `data` на экран."
   ]
  },
  {
   "cell_type": "code",
   "execution_count": 8,
   "id": "f95452d0",
   "metadata": {},
   "outputs": [
    {
     "data": {
      "text/html": [
       "<div>\n",
       "<style scoped>\n",
       "    .dataframe tbody tr th:only-of-type {\n",
       "        vertical-align: middle;\n",
       "    }\n",
       "\n",
       "    .dataframe tbody tr th {\n",
       "        vertical-align: top;\n",
       "    }\n",
       "\n",
       "    .dataframe thead th {\n",
       "        text-align: right;\n",
       "    }\n",
       "</style>\n",
       "<table border=\"1\" class=\"dataframe\">\n",
       "  <thead>\n",
       "    <tr style=\"text-align: right;\">\n",
       "      <th></th>\n",
       "      <th>USERID</th>\n",
       "      <th>score</th>\n",
       "      <th>city</th>\n",
       "      <th>gender</th>\n",
       "      <th>age</th>\n",
       "      <th>equity</th>\n",
       "      <th>balance</th>\n",
       "      <th>products</th>\n",
       "      <th>credit_card</th>\n",
       "      <th>last_activity</th>\n",
       "      <th>EST_SALARY</th>\n",
       "      <th>churn</th>\n",
       "    </tr>\n",
       "  </thead>\n",
       "  <tbody>\n",
       "    <tr>\n",
       "      <th>0</th>\n",
       "      <td>183012</td>\n",
       "      <td>850.0</td>\n",
       "      <td>Рыбинск</td>\n",
       "      <td>Ж</td>\n",
       "      <td>25.0</td>\n",
       "      <td>1</td>\n",
       "      <td>59214.82</td>\n",
       "      <td>2</td>\n",
       "      <td>0</td>\n",
       "      <td>1</td>\n",
       "      <td>75719.14</td>\n",
       "      <td>1</td>\n",
       "    </tr>\n",
       "    <tr>\n",
       "      <th>1</th>\n",
       "      <td>146556</td>\n",
       "      <td>861.0</td>\n",
       "      <td>Рыбинск</td>\n",
       "      <td>Ж</td>\n",
       "      <td>37.0</td>\n",
       "      <td>5</td>\n",
       "      <td>850594.33</td>\n",
       "      <td>3</td>\n",
       "      <td>1</td>\n",
       "      <td>0</td>\n",
       "      <td>86621.77</td>\n",
       "      <td>0</td>\n",
       "    </tr>\n",
       "    <tr>\n",
       "      <th>2</th>\n",
       "      <td>120722</td>\n",
       "      <td>892.0</td>\n",
       "      <td>Рыбинск</td>\n",
       "      <td>Ж</td>\n",
       "      <td>30.0</td>\n",
       "      <td>0</td>\n",
       "      <td>NaN</td>\n",
       "      <td>1</td>\n",
       "      <td>1</td>\n",
       "      <td>1</td>\n",
       "      <td>107683.34</td>\n",
       "      <td>0</td>\n",
       "    </tr>\n",
       "    <tr>\n",
       "      <th>3</th>\n",
       "      <td>225363</td>\n",
       "      <td>866.0</td>\n",
       "      <td>Ярославль</td>\n",
       "      <td>Ж</td>\n",
       "      <td>51.0</td>\n",
       "      <td>5</td>\n",
       "      <td>1524746.26</td>\n",
       "      <td>2</td>\n",
       "      <td>0</td>\n",
       "      <td>1</td>\n",
       "      <td>174423.53</td>\n",
       "      <td>1</td>\n",
       "    </tr>\n",
       "    <tr>\n",
       "      <th>4</th>\n",
       "      <td>157978</td>\n",
       "      <td>730.0</td>\n",
       "      <td>Ярославль</td>\n",
       "      <td>М</td>\n",
       "      <td>34.0</td>\n",
       "      <td>5</td>\n",
       "      <td>174.00</td>\n",
       "      <td>1</td>\n",
       "      <td>1</td>\n",
       "      <td>0</td>\n",
       "      <td>67353.16</td>\n",
       "      <td>1</td>\n",
       "    </tr>\n",
       "  </tbody>\n",
       "</table>\n",
       "</div>"
      ],
      "text/plain": [
       "   USERID  score       city gender   age  equity     balance  products  \\\n",
       "0  183012  850.0    Рыбинск      Ж  25.0       1    59214.82         2   \n",
       "1  146556  861.0    Рыбинск      Ж  37.0       5   850594.33         3   \n",
       "2  120722  892.0    Рыбинск      Ж  30.0       0         NaN         1   \n",
       "3  225363  866.0  Ярославль      Ж  51.0       5  1524746.26         2   \n",
       "4  157978  730.0  Ярославль      М  34.0       5      174.00         1   \n",
       "\n",
       "   credit_card  last_activity  EST_SALARY  churn  \n",
       "0            0              1    75719.14      1  \n",
       "1            1              0    86621.77      0  \n",
       "2            1              1   107683.34      0  \n",
       "3            0              1   174423.53      1  \n",
       "4            1              0    67353.16      1  "
      ]
     },
     "execution_count": 8,
     "metadata": {},
     "output_type": "execute_result"
    }
   ],
   "source": [
    "data.head()\n",
    "# отображение первых 5 строк датафрейма ‘data’"
   ]
  },
  {
   "cell_type": "markdown",
   "id": "f4540630",
   "metadata": {},
   "source": [
    "<div class=\"alert alert-success\">\n",
    "<b>👍 Успех:</b> Есть описание задачи, план реализации проекта, импортированы нужные библиотеки, датасет загружен и просмотрен\n",
    "</div>"
   ]
  },
  {
   "cell_type": "markdown",
   "id": "c0c0f40b",
   "metadata": {},
   "source": [
    "### Изучение общей информации о датафрейме. Анализ пропусков и дубликатов"
   ]
  },
  {
   "cell_type": "markdown",
   "id": "b52a77e1",
   "metadata": {},
   "source": [
    "Выведем основную и статистическую информацию о датафрейме `data`, число дубликатов, а также количество и долю пропущенных значений для всех столбцов."
   ]
  },
  {
   "cell_type": "code",
   "execution_count": 9,
   "id": "cfd27c3c",
   "metadata": {},
   "outputs": [],
   "source": [
    "#def df_info(df, name):\n",
    "# функция для вывода информации о датафрейме\n",
    "    # print('\\033[1m', f'Таблица «{name}»', '\\033[0m')\n",
    "    # вывод названия датафрейма\n",
    "    # print(df.info())\n",
    "    # вывод информации о структуре данных, хранящихся в переменной ‘df’\n",
    "    # print('-' * 80)\n",
    "    # вывод символа «-» 80 раз\n",
    "    # print(df.describe())\n",
    "    # вывод статистической информации о значениях столбцов датафрейма ‘df’\n",
    "    # print('-' * 80)\n",
    "    # вывод символа «-» 80 раз\n",
    "    # print('\\033[1m', f'Количество дубликатов в таблице «{name}»:', df.duplicated().sum(), \n",
    "          # ', процент дубликатов:', round((df.duplicated().sum() / len(df)) * 100, 2), '%',\n",
    "          # '\\033[0m')\n",
    "    # вычисление количества и доли дубликатов в датафрейме ‘df’\n",
    "    # print('-' * 80)\n",
    "    # вывод символа «-» 80 раз\n",
    "    # for i in df.columns:\n",
    "        # print('\\033[1m', f'Столбец «{i}» -', 'количество NaN:', df[i].isna().sum(),\n",
    "        # ', процент NaN:', round(df[i].isna().mean() * 100, 2), '%', '\\033[0m')\n",
    "        # вычисление количества и доли отсутствующих значений (NaN) в каждом столбце датафрейма ‘df’\n",
    "        # print('-' * 80)\n",
    "        # вывод символа «-» 80 раз\n",
    "    \n",
    "# df_info(data, 'data')\n",
    "# вызов функции df_info для датафрейма ‘data’"
   ]
  },
  {
   "cell_type": "code",
   "execution_count": 10,
   "id": "61f01a8e",
   "metadata": {},
   "outputs": [
    {
     "name": "stdout",
     "output_type": "stream",
     "text": [
      "\u001b[1m Таблица «data» \u001b[0m\n",
      "<class 'pandas.core.frame.DataFrame'>\n",
      "RangeIndex: 10000 entries, 0 to 9999\n",
      "Data columns (total 12 columns):\n",
      " #   Column         Non-Null Count  Dtype  \n",
      "---  ------         --------------  -----  \n",
      " 0   USERID         10000 non-null  int64  \n",
      " 1   score          10000 non-null  float64\n",
      " 2   city           10000 non-null  object \n",
      " 3   gender         10000 non-null  object \n",
      " 4   age            9974 non-null   float64\n",
      " 5   equity         10000 non-null  int64  \n",
      " 6   balance        7705 non-null   float64\n",
      " 7   products       10000 non-null  int64  \n",
      " 8   credit_card    10000 non-null  int64  \n",
      " 9   last_activity  10000 non-null  int64  \n",
      " 10  EST_SALARY     10000 non-null  float64\n",
      " 11  churn          10000 non-null  int64  \n",
      "dtypes: float64(4), int64(6), object(2)\n",
      "memory usage: 937.6+ KB\n",
      "None\n",
      "--------------------------------------------------------------------------------\n"
     ]
    },
    {
     "data": {
      "text/html": [
       "<div>\n",
       "<style scoped>\n",
       "    .dataframe tbody tr th:only-of-type {\n",
       "        vertical-align: middle;\n",
       "    }\n",
       "\n",
       "    .dataframe tbody tr th {\n",
       "        vertical-align: top;\n",
       "    }\n",
       "\n",
       "    .dataframe thead th {\n",
       "        text-align: right;\n",
       "    }\n",
       "</style>\n",
       "<table border=\"1\" class=\"dataframe\">\n",
       "  <thead>\n",
       "    <tr style=\"text-align: right;\">\n",
       "      <th></th>\n",
       "      <th>USERID</th>\n",
       "      <th>score</th>\n",
       "      <th>age</th>\n",
       "      <th>equity</th>\n",
       "      <th>balance</th>\n",
       "      <th>products</th>\n",
       "      <th>credit_card</th>\n",
       "      <th>last_activity</th>\n",
       "      <th>EST_SALARY</th>\n",
       "      <th>churn</th>\n",
       "    </tr>\n",
       "  </thead>\n",
       "  <tbody>\n",
       "    <tr>\n",
       "      <th>count</th>\n",
       "      <td>10000.00000</td>\n",
       "      <td>10000.000000</td>\n",
       "      <td>9974.000000</td>\n",
       "      <td>10000.000000</td>\n",
       "      <td>7.705000e+03</td>\n",
       "      <td>10000.000000</td>\n",
       "      <td>10000.000000</td>\n",
       "      <td>10000.000000</td>\n",
       "      <td>1.000000e+04</td>\n",
       "      <td>10000.000000</td>\n",
       "    </tr>\n",
       "    <tr>\n",
       "      <th>mean</th>\n",
       "      <td>171814.71260</td>\n",
       "      <td>848.699400</td>\n",
       "      <td>42.734409</td>\n",
       "      <td>2.627600</td>\n",
       "      <td>8.277943e+05</td>\n",
       "      <td>1.870100</td>\n",
       "      <td>0.680400</td>\n",
       "      <td>0.523500</td>\n",
       "      <td>1.478669e+05</td>\n",
       "      <td>0.182000</td>\n",
       "    </tr>\n",
       "    <tr>\n",
       "      <th>std</th>\n",
       "      <td>33708.23812</td>\n",
       "      <td>65.448519</td>\n",
       "      <td>12.179971</td>\n",
       "      <td>1.980836</td>\n",
       "      <td>1.980614e+06</td>\n",
       "      <td>0.792647</td>\n",
       "      <td>0.466345</td>\n",
       "      <td>0.499472</td>\n",
       "      <td>1.393885e+05</td>\n",
       "      <td>0.385864</td>\n",
       "    </tr>\n",
       "    <tr>\n",
       "      <th>min</th>\n",
       "      <td>94561.00000</td>\n",
       "      <td>642.000000</td>\n",
       "      <td>18.000000</td>\n",
       "      <td>0.000000</td>\n",
       "      <td>0.000000e+00</td>\n",
       "      <td>0.000000</td>\n",
       "      <td>0.000000</td>\n",
       "      <td>0.000000</td>\n",
       "      <td>2.546300e+03</td>\n",
       "      <td>0.000000</td>\n",
       "    </tr>\n",
       "    <tr>\n",
       "      <th>25%</th>\n",
       "      <td>142810.25000</td>\n",
       "      <td>802.000000</td>\n",
       "      <td>33.000000</td>\n",
       "      <td>0.000000</td>\n",
       "      <td>2.955542e+05</td>\n",
       "      <td>1.000000</td>\n",
       "      <td>0.000000</td>\n",
       "      <td>0.000000</td>\n",
       "      <td>7.525190e+04</td>\n",
       "      <td>0.000000</td>\n",
       "    </tr>\n",
       "    <tr>\n",
       "      <th>50%</th>\n",
       "      <td>172728.00000</td>\n",
       "      <td>853.000000</td>\n",
       "      <td>40.000000</td>\n",
       "      <td>3.000000</td>\n",
       "      <td>5.242722e+05</td>\n",
       "      <td>2.000000</td>\n",
       "      <td>1.000000</td>\n",
       "      <td>1.000000</td>\n",
       "      <td>1.196581e+05</td>\n",
       "      <td>0.000000</td>\n",
       "    </tr>\n",
       "    <tr>\n",
       "      <th>75%</th>\n",
       "      <td>201261.75000</td>\n",
       "      <td>900.000000</td>\n",
       "      <td>51.000000</td>\n",
       "      <td>4.000000</td>\n",
       "      <td>9.807058e+05</td>\n",
       "      <td>2.000000</td>\n",
       "      <td>1.000000</td>\n",
       "      <td>1.000000</td>\n",
       "      <td>1.745005e+05</td>\n",
       "      <td>0.000000</td>\n",
       "    </tr>\n",
       "    <tr>\n",
       "      <th>max</th>\n",
       "      <td>229145.00000</td>\n",
       "      <td>1000.000000</td>\n",
       "      <td>86.000000</td>\n",
       "      <td>9.000000</td>\n",
       "      <td>1.191136e+08</td>\n",
       "      <td>5.000000</td>\n",
       "      <td>1.000000</td>\n",
       "      <td>1.000000</td>\n",
       "      <td>1.395064e+06</td>\n",
       "      <td>1.000000</td>\n",
       "    </tr>\n",
       "  </tbody>\n",
       "</table>\n",
       "</div>"
      ],
      "text/plain": [
       "             USERID         score          age        equity       balance  \\\n",
       "count   10000.00000  10000.000000  9974.000000  10000.000000  7.705000e+03   \n",
       "mean   171814.71260    848.699400    42.734409      2.627600  8.277943e+05   \n",
       "std     33708.23812     65.448519    12.179971      1.980836  1.980614e+06   \n",
       "min     94561.00000    642.000000    18.000000      0.000000  0.000000e+00   \n",
       "25%    142810.25000    802.000000    33.000000      0.000000  2.955542e+05   \n",
       "50%    172728.00000    853.000000    40.000000      3.000000  5.242722e+05   \n",
       "75%    201261.75000    900.000000    51.000000      4.000000  9.807058e+05   \n",
       "max    229145.00000   1000.000000    86.000000      9.000000  1.191136e+08   \n",
       "\n",
       "           products   credit_card  last_activity    EST_SALARY         churn  \n",
       "count  10000.000000  10000.000000   10000.000000  1.000000e+04  10000.000000  \n",
       "mean       1.870100      0.680400       0.523500  1.478669e+05      0.182000  \n",
       "std        0.792647      0.466345       0.499472  1.393885e+05      0.385864  \n",
       "min        0.000000      0.000000       0.000000  2.546300e+03      0.000000  \n",
       "25%        1.000000      0.000000       0.000000  7.525190e+04      0.000000  \n",
       "50%        2.000000      1.000000       1.000000  1.196581e+05      0.000000  \n",
       "75%        2.000000      1.000000       1.000000  1.745005e+05      0.000000  \n",
       "max        5.000000      1.000000       1.000000  1.395064e+06      1.000000  "
      ]
     },
     "metadata": {},
     "output_type": "display_data"
    },
    {
     "name": "stdout",
     "output_type": "stream",
     "text": [
      "--------------------------------------------------------------------------------\n",
      "\u001b[1m Количество дубликатов в таблице «data»: 0 , процент дубликатов: 0.0 % \u001b[0m\n",
      "--------------------------------------------------------------------------------\n",
      "\u001b[1m Столбец «USERID» - количество NaN: 0 , процент NaN: 0.0 % \u001b[0m\n",
      "--------------------------------------------------------------------------------\n",
      "\u001b[1m Столбец «score» - количество NaN: 0 , процент NaN: 0.0 % \u001b[0m\n",
      "--------------------------------------------------------------------------------\n",
      "\u001b[1m Столбец «city» - количество NaN: 0 , процент NaN: 0.0 % \u001b[0m\n",
      "--------------------------------------------------------------------------------\n",
      "\u001b[1m Столбец «gender» - количество NaN: 0 , процент NaN: 0.0 % \u001b[0m\n",
      "--------------------------------------------------------------------------------\n",
      "\u001b[1m Столбец «age» - количество NaN: 26 , процент NaN: 0.26 % \u001b[0m\n",
      "--------------------------------------------------------------------------------\n",
      "\u001b[1m Столбец «equity» - количество NaN: 0 , процент NaN: 0.0 % \u001b[0m\n",
      "--------------------------------------------------------------------------------\n",
      "\u001b[1m Столбец «balance» - количество NaN: 2295 , процент NaN: 22.95 % \u001b[0m\n",
      "--------------------------------------------------------------------------------\n",
      "\u001b[1m Столбец «products» - количество NaN: 0 , процент NaN: 0.0 % \u001b[0m\n",
      "--------------------------------------------------------------------------------\n",
      "\u001b[1m Столбец «credit_card» - количество NaN: 0 , процент NaN: 0.0 % \u001b[0m\n",
      "--------------------------------------------------------------------------------\n",
      "\u001b[1m Столбец «last_activity» - количество NaN: 0 , процент NaN: 0.0 % \u001b[0m\n",
      "--------------------------------------------------------------------------------\n",
      "\u001b[1m Столбец «EST_SALARY» - количество NaN: 0 , процент NaN: 0.0 % \u001b[0m\n",
      "--------------------------------------------------------------------------------\n",
      "\u001b[1m Столбец «churn» - количество NaN: 0 , процент NaN: 0.0 % \u001b[0m\n",
      "--------------------------------------------------------------------------------\n"
     ]
    }
   ],
   "source": [
    "def df_info(df, name):\n",
    "# функция для вывода информации о датафрейме\n",
    "    print('\\033[1m', f'Таблица «{name}»', '\\033[0m')\n",
    "    # вывод названия датафрейма\n",
    "    print(df.info())\n",
    "    # вывод информации о структуре данных, хранящихся в переменной ‘df’\n",
    "    print('-' * 80)\n",
    "    # вывод символа «-» 80 раз\n",
    "    display(df.describe())\n",
    "    # вывод статистической информации о значениях столбцов датафрейма ‘df’\n",
    "    print('-' * 80)\n",
    "    # вывод символа «-» 80 раз\n",
    "    print('\\033[1m', f'Количество дубликатов в таблице «{name}»:', df.duplicated().sum(), \n",
    "          ', процент дубликатов:', round((df.duplicated().sum() / len(df)) * 100, 2), '%',\n",
    "          '\\033[0m')\n",
    "    # вычисление количества и доли дубликатов в датафрейме ‘df’\n",
    "    print('-' * 80)\n",
    "    # вывод символа «-» 80 раз\n",
    "    for i in df.columns:\n",
    "        print('\\033[1m', f'Столбец «{i}» -', 'количество NaN:', df[i].isna().sum(),\n",
    "        ', процент NaN:', round(df[i].isna().mean() * 100, 2), '%', '\\033[0m')\n",
    "        # вычисление количества и доли отсутствующих значений (NaN) в каждом столбце датафрейма ‘df’\n",
    "        print('-' * 80)\n",
    "        # вывод символа «-» 80 раз\n",
    "    \n",
    "df_info(data, 'data')\n",
    "# вызов функции df_info для датафрейма ‘data’"
   ]
  },
  {
   "cell_type": "markdown",
   "id": "8252833b",
   "metadata": {},
   "source": [
    "<div class=\"alert alert-warning\">\n",
    "<b>🤔 Рекомендация:</b> Вывод датасетов через print() делает их нечитаемыми, используй display()\n",
    "</div>"
   ]
  },
  {
   "cell_type": "markdown",
   "id": "d432e1b4",
   "metadata": {},
   "source": [
    "Датасет хранит информацию о 10 тыс. клиентов банка. В таблице `data` 10 тыс. строк и 12 столбцов. Названия некоторых столбцов необходимо привести к «змеиному» регистру. Шесть столбцов содержат целые числа (`'USERID'`, `'equity'`, `'products'`, `'credit_card'`, `'last_activity'`, `'churn'`), четыре столбца — вещественные числа (`'score'`, `'age'`, `'balance'`, `'EST_SALARY'`) и два столбца — данные с типом object (`'city'`, `'gender'`). Явные дубликаты в датафрейме `data` отсутствуют. Существует 2 тыс. 295 пропусков в столбце `'balance'`, что составляет 22.95% от общего количества наблюдений, а также 26 пропусков в столбце `'age'` — 0.26%."
   ]
  },
  {
   "cell_type": "markdown",
   "id": "af8439ce",
   "metadata": {},
   "source": [
    "Выясним, существует ли зависимость между пропущенными значениями в данных и другими переменными."
   ]
  },
  {
   "cell_type": "code",
   "execution_count": 11,
   "id": "b23fcb43",
   "metadata": {},
   "outputs": [
    {
     "data": {
      "image/png": "[encoded data removed]",
      "text/plain": [
       "<Figure size 720x612 with 2 Axes>"
      ]
     },
     "metadata": {
      "needs_background": "light"
     },
     "output_type": "display_data"
    }
   ],
   "source": [
    "data_copy = data.copy()\n",
    "# создание копии датафрейма ‘data’ и сохранение её в переменной ‘data_copy’\n",
    "data_copy['age_gaps'] = data_copy['age'].isnull()\n",
    "# создание нового столбца с именем ‘age_gaps’, который содержит логические значения, \n",
    "# указывающие на наличие или отсутствие пропущенных значений в столбце ‘age’ датафрейма ‘data_copy’\n",
    "data_copy['balance_gaps'] = data_copy['balance'].isnull()\n",
    "# создание нового столбца с именем ‘balance_gaps’, который содержит логические значения, \n",
    "# указывающие на наличие или отсутствие пропущенных значений в столбце ‘balance’ датафрейма ‘data_copy’\n",
    "phik_matrix = data_copy.drop('USERID', axis=1).phik_matrix(interval_cols=['score', 'age', 'balance', 'EST_SALARY'])\n",
    "# рассчёт корреляционной матрицы\n",
    "# вычисление коэффициента корреляции phik между всеми парами столбцов датафрейма ‘data_copy’, кроме столбца ‘user_id’\n",
    "# указание столбцов ‘score’, ‘age’, ‘balance’, ‘EST_SALARY’ в качестве непрерывных признаков\n",
    "plot_correlation_matrix(phik_matrix.values, x_labels=phik_matrix.columns, y_labels=phik_matrix.index, \n",
    "                        vmin=0, vmax=1, color_map='Blues', \n",
    "                        title=r'Матрица корреляций $\\phi_K$', \n",
    "                        fontsize_factor=1, figsize=(10, 8.5))\n",
    "# создание тепловой карты на основе корреляционной матрицы\n",
    "# phik_matrix.values: значения корреляционной матрицы\n",
    "# x_labels, y_labels: метки строк и столбцов корреляционной матрицы\n",
    "# vmin, vmax: диапазон значений для цветовой шкалы\n",
    "# color_map: цветовая карта для отображения значений\n",
    "# title: заголовок графика\n",
    "# fontsize_factor: коэффициент масштабирования размера шрифта\n",
    "# figsize: размер графика\n",
    "plt.tight_layout()\n",
    "# автоматическая настройка расположения элементов графика"
   ]
  },
  {
   "cell_type": "markdown",
   "id": "e35d9df3",
   "metadata": {},
   "source": [
    "Пропущенные значения в столбце с возрастами клиентов банка очень слабо коррелируют с другими столбцами — корреляция близка к 0. Пропуски могут быть связаны с отсутствием информации о возрасте у некоторых клиентов банка. Заполнять пропущенные значения средними или медианными значениями будет неправильно. Пропусков в столбце `'age'` датафрейма `data` очень мало, удалим их."
   ]
  },
  {
   "cell_type": "markdown",
   "id": "00cdc46f",
   "metadata": {},
   "source": [
    "<div class=\"alert alert-success\">\n",
    "<b>👍 Успех:</b> Все верно! Эти строки лучше удалить\n",
    "</div>"
   ]
  },
  {
   "cell_type": "code",
   "execution_count": 12,
   "id": "162189f7",
   "metadata": {},
   "outputs": [
    {
     "name": "stdout",
     "output_type": "stream",
     "text": [
      "Суммарный баланс на счетах всех клиентов банка: 6378155131.66\n",
      "Суммарный баланс на счетах клиентов, у которых не указан возраст: 12500335.73\n",
      "Доля суммарного баланса на счетах клиентов, у которых не указан возраст 0.2 %\n",
      "Длина датафрейма до удаления пропусков: 10000\n",
      "Длина датафрейма после удаления пропусков: 9974\n",
      "Доля удалённых данных: 0.26 %\n",
      "Количество пропусков в столбце с возрастами клиентов банка: 0\n"
     ]
    }
   ],
   "source": [
    "len_original_df = len(data)\n",
    "# запись в переменную ‘len_original_df’ значения длины исходного датафрейма ‘data’\n",
    "print('Суммарный баланс на счетах всех клиентов банка:', data['balance'].sum())\n",
    "# суммирование значений столбца ‘balance’ датафрейма ‘data’\n",
    "print('Суммарный баланс на счетах клиентов, у которых не указан возраст:', \n",
    "      data_copy.query('age_gaps == True')['balance'].sum())\n",
    "# суммирование значений столбца ‘balance’ датафрейма ‘data_copy’ с условием, что значения столбца ‘age_gaps’ соответствуют True\n",
    "print('Доля суммарного баланса на счетах клиентов, у которых не указан возраст', \n",
    "      round(data_copy.query('age_gaps == True')['balance'].sum() / data['balance'].sum() * 100, 2), '%')\n",
    "# деление суммы значений столбца ‘balance’ датафрейма ‘data’ \n",
    "# на сумму значений столбца ‘balance’ датафрейма ‘data_copy’ с условием, что значения столбца ‘age_gaps’ соответствуют True,\n",
    "# и умножение на 100\n",
    "# округление результата до 2-х знаков после запятой\n",
    "data.dropna(subset=['age'], inplace=True)\n",
    "# удаление пропущенных значений в столбце ‘age’ датафрейма ‘data’\n",
    "print('Длина датафрейма до удаления пропусков:', len_original_df)\n",
    "# вывод длины исходного датафрейма ‘data’\n",
    "print('Длина датафрейма после удаления пропусков:', len(data))\n",
    "# вывод длины датафрейма ‘data’ после удаления пропусков\n",
    "print('Доля удалённых данных:', round((len_original_df - len(data)) / len_original_df * 100, 2), '%')\n",
    "# вычисление процента потерянных данных после удаления пропусков\n",
    "# вычисление разницы между длиной исходного датафрейма и длиной датафрейма, полученного после удаления части данных, \n",
    "# деление полученной разницы на длину исходного датафрейма и умножение на 100 \n",
    "# округление результата до 2-х знаков после запятой\n",
    "print('Количество пропусков в столбце с возрастами клиентов банка:', data['age'].isna().sum())\n",
    "# вычисление количества отсутствующих значений в столбце ‘age’ датафрейма ‘data’"
   ]
  },
  {
   "cell_type": "markdown",
   "id": "cc776f08",
   "metadata": {},
   "source": [
    "В столбце `'age'` все пропуски удалены. Доля удалённых данных составила всего лишь 0.26%."
   ]
  },
  {
   "cell_type": "markdown",
   "id": "ac7ebc5f",
   "metadata": {},
   "source": [
    "<div class=\"alert alert-success\">\n",
    "<b>👍 Успех:</b> Все верно!\n",
    "</div>"
   ]
  },
  {
   "cell_type": "markdown",
   "id": "64b5aede",
   "metadata": {},
   "source": [
    "Пропуски в балансах на счетах клиентов тесно связаны с количеством баллов собственности. Между этими переменными существует очень высокая корреляция — 0.98. Определим наиболее распространённое количество баллов собственности у клиентов без баланса."
   ]
  },
  {
   "cell_type": "code",
   "execution_count": 13,
   "id": "68b814f1",
   "metadata": {},
   "outputs": [
    {
     "data": {
      "text/plain": [
       "0    0\n",
       "dtype: int64"
      ]
     },
     "execution_count": 13,
     "metadata": {},
     "output_type": "execute_result"
    }
   ],
   "source": [
    "data_copy.query('balance_gaps == True')['equity'].mode()\n",
    "# возвращение наиболее часто встречающегося значения в столбце ‘equity’ датафрейма ‘data_copy’ с условием, \n",
    "# что значения столбца ‘balance_gaps’ соответствуют значению True"
   ]
  },
  {
   "cell_type": "markdown",
   "id": "5f504c4d",
   "metadata": {},
   "source": [
    "Наличие пропущенных значений обусловлено особенностями данных. Как правило, клиенты банка, у которых не указан баланс на счёте, имеют нулевое количество баллов собственности. \n",
    "\n",
    "Между пропусками в балансах и некоторыми другими переменными также есть зависимость. \n",
    "\n",
    "Не будем заполнять или удалять пропущенные значения в столбце `'balance'` датафрейма `data`. Это может привести к неточностям при анализе данных, потере большого объёма значимой информации."
   ]
  },
  {
   "cell_type": "markdown",
   "id": "0abe0ffa",
   "metadata": {},
   "source": [
    "<div class=\"alert alert-success\">\n",
    "<b>👍 Успех:</b> Все верно!\n",
    "</div>"
   ]
  },
  {
   "cell_type": "markdown",
   "id": "cff189b9",
   "metadata": {},
   "source": [
    "Выведем уникальные значения из столбцов с городами и полом клиентов, чтобы убедиться в отсутствии неявных дубликатов."
   ]
  },
  {
   "cell_type": "code",
   "execution_count": 14,
   "id": "f95cfd48",
   "metadata": {},
   "outputs": [
    {
     "name": "stdout",
     "output_type": "stream",
     "text": [
      "Уникальные города: ['Рыбинск' 'Ярославль' 'Ростов']\n",
      "Пол клиентов: ['Ж' 'М']\n"
     ]
    }
   ],
   "source": [
    "print('Уникальные города:', data['city'].unique())\n",
    "# получение уникальных значений из столбца ‘city’ датафрейма ‘data’\n",
    "print('Пол клиентов:', data['gender'].unique())\n",
    "# получение уникальных значений из столбца ‘gender’ датафрейма ‘data’"
   ]
  },
  {
   "cell_type": "markdown",
   "id": "c3ad390a",
   "metadata": {},
   "source": [
    "Неявные дубликаты отсутствуют в столбцах с городами и полом клиентов."
   ]
  },
  {
   "cell_type": "markdown",
   "id": "0411b2ee",
   "metadata": {},
   "source": [
    "<div class=\"alert alert-success\">\n",
    "<b>👍 Успех:</b> Все верно!\n",
    "</div>"
   ]
  },
  {
   "cell_type": "markdown",
   "id": "34533fab",
   "metadata": {},
   "source": [
    "Определим, существуют ли идентификаторы пользователей, которые встречаются в наборе данных несколько раз."
   ]
  },
  {
   "cell_type": "code",
   "execution_count": 15,
   "id": "c62ad7a4",
   "metadata": {},
   "outputs": [
    {
     "data": {
      "text/plain": [
       "170312    2\n",
       "188957    2\n",
       "199312    2\n",
       "200863    2\n",
       "141265    2\n",
       "         ..\n",
       "179637    1\n",
       "173494    1\n",
       "175543    1\n",
       "136632    1\n",
       "183723    1\n",
       "Name: USERID, Length: 9924, dtype: int64"
      ]
     },
     "execution_count": 15,
     "metadata": {},
     "output_type": "execute_result"
    }
   ],
   "source": [
    "data['USERID'].value_counts()\n",
    "# подсчёт количества уникальных значений в столбце ‘USERID’ датафрейма ‘data’"
   ]
  },
  {
   "cell_type": "markdown",
   "id": "dcacc96f",
   "metadata": {},
   "source": [
    "В датасете есть идентификаторы, которые повторяются дважды."
   ]
  },
  {
   "cell_type": "markdown",
   "id": "04eb7c00",
   "metadata": {},
   "source": [
    "Выведем несколько строк с повторяющимися индентификаторами пользователей."
   ]
  },
  {
   "cell_type": "code",
   "execution_count": 16,
   "id": "88e75e19",
   "metadata": {},
   "outputs": [
    {
     "data": {
      "text/html": [
       "<div>\n",
       "<style scoped>\n",
       "    .dataframe tbody tr th:only-of-type {\n",
       "        vertical-align: middle;\n",
       "    }\n",
       "\n",
       "    .dataframe tbody tr th {\n",
       "        vertical-align: top;\n",
       "    }\n",
       "\n",
       "    .dataframe thead th {\n",
       "        text-align: right;\n",
       "    }\n",
       "</style>\n",
       "<table border=\"1\" class=\"dataframe\">\n",
       "  <thead>\n",
       "    <tr style=\"text-align: right;\">\n",
       "      <th></th>\n",
       "      <th>USERID</th>\n",
       "      <th>score</th>\n",
       "      <th>city</th>\n",
       "      <th>gender</th>\n",
       "      <th>age</th>\n",
       "      <th>equity</th>\n",
       "      <th>balance</th>\n",
       "      <th>products</th>\n",
       "      <th>credit_card</th>\n",
       "      <th>last_activity</th>\n",
       "      <th>EST_SALARY</th>\n",
       "      <th>churn</th>\n",
       "    </tr>\n",
       "  </thead>\n",
       "  <tbody>\n",
       "    <tr>\n",
       "      <th>2226</th>\n",
       "      <td>195884</td>\n",
       "      <td>906.0</td>\n",
       "      <td>Ярославль</td>\n",
       "      <td>М</td>\n",
       "      <td>49.0</td>\n",
       "      <td>6</td>\n",
       "      <td>1354552.83</td>\n",
       "      <td>2</td>\n",
       "      <td>0</td>\n",
       "      <td>0</td>\n",
       "      <td>270678.42</td>\n",
       "      <td>1</td>\n",
       "    </tr>\n",
       "    <tr>\n",
       "      <th>9659</th>\n",
       "      <td>195884</td>\n",
       "      <td>767.0</td>\n",
       "      <td>Рыбинск</td>\n",
       "      <td>Ж</td>\n",
       "      <td>45.0</td>\n",
       "      <td>1</td>\n",
       "      <td>335652.56</td>\n",
       "      <td>3</td>\n",
       "      <td>1</td>\n",
       "      <td>1</td>\n",
       "      <td>100197.67</td>\n",
       "      <td>0</td>\n",
       "    </tr>\n",
       "  </tbody>\n",
       "</table>\n",
       "</div>"
      ],
      "text/plain": [
       "      USERID  score       city gender   age  equity     balance  products  \\\n",
       "2226  195884  906.0  Ярославль      М  49.0       6  1354552.83         2   \n",
       "9659  195884  767.0    Рыбинск      Ж  45.0       1   335652.56         3   \n",
       "\n",
       "      credit_card  last_activity  EST_SALARY  churn  \n",
       "2226            0              0   270678.42      1  \n",
       "9659            1              1   100197.67      0  "
      ]
     },
     "execution_count": 16,
     "metadata": {},
     "output_type": "execute_result"
    }
   ],
   "source": [
    "data.query('USERID == 195884')\n",
    "# вывод строк датафрейма ‘data’ с условием, что значения столбца ‘USERID’ равны 195884"
   ]
  },
  {
   "cell_type": "code",
   "execution_count": 17,
   "id": "85a1b455",
   "metadata": {},
   "outputs": [
    {
     "data": {
      "text/html": [
       "<div>\n",
       "<style scoped>\n",
       "    .dataframe tbody tr th:only-of-type {\n",
       "        vertical-align: middle;\n",
       "    }\n",
       "\n",
       "    .dataframe tbody tr th {\n",
       "        vertical-align: top;\n",
       "    }\n",
       "\n",
       "    .dataframe thead th {\n",
       "        text-align: right;\n",
       "    }\n",
       "</style>\n",
       "<table border=\"1\" class=\"dataframe\">\n",
       "  <thead>\n",
       "    <tr style=\"text-align: right;\">\n",
       "      <th></th>\n",
       "      <th>USERID</th>\n",
       "      <th>score</th>\n",
       "      <th>city</th>\n",
       "      <th>gender</th>\n",
       "      <th>age</th>\n",
       "      <th>equity</th>\n",
       "      <th>balance</th>\n",
       "      <th>products</th>\n",
       "      <th>credit_card</th>\n",
       "      <th>last_activity</th>\n",
       "      <th>EST_SALARY</th>\n",
       "      <th>churn</th>\n",
       "    </tr>\n",
       "  </thead>\n",
       "  <tbody>\n",
       "    <tr>\n",
       "      <th>4866</th>\n",
       "      <td>117943</td>\n",
       "      <td>855.0</td>\n",
       "      <td>Рыбинск</td>\n",
       "      <td>Ж</td>\n",
       "      <td>32.0</td>\n",
       "      <td>6</td>\n",
       "      <td>1036832.93</td>\n",
       "      <td>4</td>\n",
       "      <td>1</td>\n",
       "      <td>1</td>\n",
       "      <td>107792.71</td>\n",
       "      <td>1</td>\n",
       "    </tr>\n",
       "    <tr>\n",
       "      <th>7542</th>\n",
       "      <td>117943</td>\n",
       "      <td>880.0</td>\n",
       "      <td>Ярославль</td>\n",
       "      <td>Ж</td>\n",
       "      <td>40.0</td>\n",
       "      <td>0</td>\n",
       "      <td>NaN</td>\n",
       "      <td>1</td>\n",
       "      <td>1</td>\n",
       "      <td>0</td>\n",
       "      <td>137718.93</td>\n",
       "      <td>0</td>\n",
       "    </tr>\n",
       "  </tbody>\n",
       "</table>\n",
       "</div>"
      ],
      "text/plain": [
       "      USERID  score       city gender   age  equity     balance  products  \\\n",
       "4866  117943  855.0    Рыбинск      Ж  32.0       6  1036832.93         4   \n",
       "7542  117943  880.0  Ярославль      Ж  40.0       0         NaN         1   \n",
       "\n",
       "      credit_card  last_activity  EST_SALARY  churn  \n",
       "4866            1              1   107792.71      1  \n",
       "7542            1              0   137718.93      0  "
      ]
     },
     "execution_count": 17,
     "metadata": {},
     "output_type": "execute_result"
    }
   ],
   "source": [
    "data.query('USERID == 117943')\n",
    "# вывод строк датафрейма ‘data’ с условием, что значения столбца ‘USERID’ равны 117943"
   ]
  },
  {
   "cell_type": "code",
   "execution_count": 18,
   "id": "76fbeff8",
   "metadata": {},
   "outputs": [
    {
     "data": {
      "text/html": [
       "<div>\n",
       "<style scoped>\n",
       "    .dataframe tbody tr th:only-of-type {\n",
       "        vertical-align: middle;\n",
       "    }\n",
       "\n",
       "    .dataframe tbody tr th {\n",
       "        vertical-align: top;\n",
       "    }\n",
       "\n",
       "    .dataframe thead th {\n",
       "        text-align: right;\n",
       "    }\n",
       "</style>\n",
       "<table border=\"1\" class=\"dataframe\">\n",
       "  <thead>\n",
       "    <tr style=\"text-align: right;\">\n",
       "      <th></th>\n",
       "      <th>USERID</th>\n",
       "      <th>score</th>\n",
       "      <th>city</th>\n",
       "      <th>gender</th>\n",
       "      <th>age</th>\n",
       "      <th>equity</th>\n",
       "      <th>balance</th>\n",
       "      <th>products</th>\n",
       "      <th>credit_card</th>\n",
       "      <th>last_activity</th>\n",
       "      <th>EST_SALARY</th>\n",
       "      <th>churn</th>\n",
       "    </tr>\n",
       "  </thead>\n",
       "  <tbody>\n",
       "    <tr>\n",
       "      <th>1740</th>\n",
       "      <td>220816</td>\n",
       "      <td>840.0</td>\n",
       "      <td>Ярославль</td>\n",
       "      <td>Ж</td>\n",
       "      <td>41.0</td>\n",
       "      <td>3</td>\n",
       "      <td>1193287.13</td>\n",
       "      <td>2</td>\n",
       "      <td>1</td>\n",
       "      <td>1</td>\n",
       "      <td>76434.94</td>\n",
       "      <td>1</td>\n",
       "    </tr>\n",
       "    <tr>\n",
       "      <th>2302</th>\n",
       "      <td>220816</td>\n",
       "      <td>934.0</td>\n",
       "      <td>Рыбинск</td>\n",
       "      <td>Ж</td>\n",
       "      <td>74.0</td>\n",
       "      <td>5</td>\n",
       "      <td>1294285.39</td>\n",
       "      <td>3</td>\n",
       "      <td>1</td>\n",
       "      <td>0</td>\n",
       "      <td>95606.80</td>\n",
       "      <td>0</td>\n",
       "    </tr>\n",
       "  </tbody>\n",
       "</table>\n",
       "</div>"
      ],
      "text/plain": [
       "      USERID  score       city gender   age  equity     balance  products  \\\n",
       "1740  220816  840.0  Ярославль      Ж  41.0       3  1193287.13         2   \n",
       "2302  220816  934.0    Рыбинск      Ж  74.0       5  1294285.39         3   \n",
       "\n",
       "      credit_card  last_activity  EST_SALARY  churn  \n",
       "1740            1              1    76434.94      1  \n",
       "2302            1              0    95606.80      0  "
      ]
     },
     "execution_count": 18,
     "metadata": {},
     "output_type": "execute_result"
    }
   ],
   "source": [
    "data.query('USERID == 220816')\n",
    "# вывод строк датафрейма ‘data’ с условием, что значения столбца ‘USERID’ равны 220816"
   ]
  },
  {
   "cell_type": "markdown",
   "id": "7212bd55",
   "metadata": {},
   "source": [
    "Несмотря на одинаковые индентификаторы, пользователи являются клиентами банков из разных городов. У данных клиентов может не совпадать возраст, количество баллов кредитного скоринга и т.д."
   ]
  },
  {
   "cell_type": "markdown",
   "id": "375b60d6",
   "metadata": {},
   "source": [
    "Убедимся, что нет дубликатов по столбцам датафрейма `data` с идентификаторами пользователей и городами."
   ]
  },
  {
   "cell_type": "code",
   "execution_count": 19,
   "id": "2d791eb4",
   "metadata": {},
   "outputs": [
    {
     "data": {
      "text/plain": [
       "0"
      ]
     },
     "execution_count": 19,
     "metadata": {},
     "output_type": "execute_result"
    }
   ],
   "source": [
    "data.duplicated(['USERID', 'city']).sum()\n",
    "# вычисление количества дубликатов по столбцам ‘user_id’, ‘city’ датафрейма ‘data’"
   ]
  },
  {
   "cell_type": "markdown",
   "id": "f4ee9476",
   "metadata": {},
   "source": [
    "Не существует неявных дубликатов по отдельным столбцам датафрейма `data`: с идентификаторами пользователей и городами. Можно сделать вывод, что пользователи с одинаковыми идентификаторами являются клиентами банков, располагающихся в разных городах."
   ]
  },
  {
   "cell_type": "markdown",
   "id": "32c0813f",
   "metadata": {},
   "source": [
    "<div class=\"alert alert-success\">\n",
    "<b>👍 Успех:</b> Все верно!\n",
    "</div>"
   ]
  },
  {
   "cell_type": "markdown",
   "id": "2dac45d4",
   "metadata": {},
   "source": [
    "### Замена названий столбцов"
   ]
  },
  {
   "cell_type": "markdown",
   "id": "1421b3d0",
   "metadata": {},
   "source": [
    "Приведём к нижнему регистру название столбца `'EST_SALARY'` датафрейма `data` и к «змеиному» регистру название столбца `'USERID'` датафрейма `data`."
   ]
  },
  {
   "cell_type": "code",
   "execution_count": 20,
   "id": "ba7ed80a",
   "metadata": {},
   "outputs": [
    {
     "data": {
      "text/plain": [
       "Index(['user_id', 'score', 'city', 'gender', 'age', 'equity', 'balance',\n",
       "       'products', 'credit_card', 'last_activity', 'est_salary', 'churn'],\n",
       "      dtype='object')"
      ]
     },
     "execution_count": 20,
     "metadata": {},
     "output_type": "execute_result"
    }
   ],
   "source": [
    "data.columns = data.columns.str.lower().str.replace('id', '_id')\n",
    "# приведение названий столбцов датафрейма ‘data’ к нижнему регистру\n",
    "# приведение названий столбцов датафрейма ‘data’, содержащих id, к змеиному регистру\n",
    "data.columns \n",
    "# вывод списка столбцов датафрейма ‘data’"
   ]
  },
  {
   "cell_type": "markdown",
   "id": "c9ce0b79",
   "metadata": {},
   "source": [
    "<div class=\"alert alert-success\">\n",
    "<b>👍 Успех:</b> Все верно!\n",
    "</div>"
   ]
  },
  {
   "cell_type": "markdown",
   "id": "1509f256",
   "metadata": {},
   "source": [
    "### Изменение типа данных"
   ]
  },
  {
   "cell_type": "markdown",
   "id": "487bd660",
   "metadata": {},
   "source": [
    "Проверим, равна ли нулю дробная часть всех чисел в столбце `'score'` датафрейма `data`."
   ]
  },
  {
   "cell_type": "code",
   "execution_count": 21,
   "id": "53eab92b",
   "metadata": {},
   "outputs": [
    {
     "data": {
      "text/plain": [
       "array([ 642.,  646.,  648.,  649.,  650.,  651.,  652.,  653.,  654.,\n",
       "        655.,  656.,  657.,  658.,  659.,  660.,  661.,  662.,  663.,\n",
       "        664.,  665.,  666.,  667.,  668.,  669.,  670.,  671.,  673.,\n",
       "        678.,  680.,  681.,  682.,  684.,  685.,  686.,  687.,  688.,\n",
       "        689.,  690.,  691.,  692.,  693.,  694.,  695.,  696.,  697.,\n",
       "        698.,  699.,  700.,  701.,  702.,  703.,  704.,  705.,  706.,\n",
       "        707.,  708.,  709.,  710.,  711.,  712.,  713.,  714.,  715.,\n",
       "        716.,  717.,  718.,  719.,  720.,  721.,  722.,  723.,  724.,\n",
       "        725.,  726.,  727.,  728.,  729.,  730.,  731.,  732.,  733.,\n",
       "        734.,  735.,  736.,  737.,  738.,  739.,  740.,  741.,  742.,\n",
       "        743.,  744.,  745.,  746.,  747.,  748.,  749.,  750.,  751.,\n",
       "        752.,  753.,  754.,  755.,  756.,  757.,  758.,  759.,  760.,\n",
       "        761.,  762.,  763.,  764.,  765.,  766.,  767.,  768.,  769.,\n",
       "        770.,  771.,  772.,  773.,  774.,  775.,  776.,  777.,  778.,\n",
       "        779.,  780.,  781.,  782.,  783.,  784.,  785.,  786.,  787.,\n",
       "        788.,  789.,  790.,  791.,  792.,  793.,  794.,  795.,  796.,\n",
       "        797.,  798.,  799.,  800.,  801.,  802.,  803.,  804.,  805.,\n",
       "        806.,  807.,  808.,  809.,  810.,  811.,  812.,  813.,  814.,\n",
       "        815.,  816.,  817.,  818.,  819.,  820.,  821.,  822.,  823.,\n",
       "        824.,  825.,  826.,  827.,  828.,  829.,  830.,  831.,  832.,\n",
       "        833.,  834.,  835.,  836.,  837.,  838.,  839.,  840.,  841.,\n",
       "        842.,  843.,  844.,  845.,  846.,  847.,  848.,  849.,  850.,\n",
       "        851.,  852.,  853.,  854.,  855.,  856.,  857.,  858.,  859.,\n",
       "        860.,  861.,  862.,  863.,  864.,  865.,  866.,  867.,  868.,\n",
       "        869.,  870.,  871.,  872.,  873.,  874.,  875.,  876.,  877.,\n",
       "        878.,  879.,  880.,  881.,  882.,  883.,  884.,  885.,  886.,\n",
       "        887.,  888.,  889.,  890.,  891.,  892.,  893.,  894.,  895.,\n",
       "        896.,  897.,  898.,  899.,  900.,  901.,  902.,  903.,  904.,\n",
       "        905.,  906.,  907.,  908.,  909.,  910.,  911.,  912.,  913.,\n",
       "        914.,  915.,  916.,  917.,  918.,  919.,  920.,  921.,  922.,\n",
       "        923.,  924.,  925.,  926.,  927.,  928.,  929.,  930.,  931.,\n",
       "        932.,  933.,  934.,  935.,  936.,  937.,  938.,  939.,  940.,\n",
       "        941.,  942.,  943.,  944.,  945.,  946.,  947.,  948.,  949.,\n",
       "        950.,  951.,  952.,  953.,  954.,  955.,  956.,  957.,  958.,\n",
       "        959.,  960.,  961.,  962.,  963.,  964.,  965.,  966.,  967.,\n",
       "        968.,  969.,  970.,  971.,  972.,  973.,  974.,  975.,  976.,\n",
       "        977.,  978.,  979.,  980.,  981.,  982.,  983.,  984.,  985.,\n",
       "        986.,  987.,  988.,  989.,  990.,  991.,  992.,  993.,  994.,\n",
       "        995.,  996.,  997.,  998.,  999., 1000.])"
      ]
     },
     "execution_count": 21,
     "metadata": {},
     "output_type": "execute_result"
    }
   ],
   "source": [
    "data['score'].sort_values().unique()\n",
    "# сортировка значений столбца ‘score’ датафрейма ‘data’ и вывод уникальных значений"
   ]
  },
  {
   "cell_type": "markdown",
   "id": "f2d3c841",
   "metadata": {},
   "source": [
    "У всех чисел в столбце `'score'` датафрейма `data` дробная часть равна нулю."
   ]
  },
  {
   "cell_type": "markdown",
   "id": "8895125a",
   "metadata": {},
   "source": [
    "Проверим, равна ли нулю дробная часть всех чисел в столбце `'age'` датафрейма `data`."
   ]
  },
  {
   "cell_type": "code",
   "execution_count": 22,
   "id": "0dbe27ce",
   "metadata": {},
   "outputs": [
    {
     "data": {
      "text/plain": [
       "array([18., 19., 20., 21., 22., 23., 24., 25., 26., 27., 28., 29., 30.,\n",
       "       31., 32., 33., 34., 35., 36., 37., 38., 39., 40., 41., 42., 43.,\n",
       "       44., 45., 46., 47., 48., 49., 50., 51., 52., 53., 54., 55., 56.,\n",
       "       57., 58., 59., 60., 61., 62., 63., 64., 65., 66., 67., 68., 69.,\n",
       "       70., 71., 72., 73., 74., 75., 76., 77., 78., 79., 80., 81., 82.,\n",
       "       83., 84., 86.])"
      ]
     },
     "execution_count": 22,
     "metadata": {},
     "output_type": "execute_result"
    }
   ],
   "source": [
    "data['age'].sort_values().unique()\n",
    "# сортировка значений столбца ‘age’ датафрейма ‘data’ и вывод уникальных значений"
   ]
  },
  {
   "cell_type": "markdown",
   "id": "cedd3251",
   "metadata": {},
   "source": [
    "У всех чисел в столбце `'age'` датафрейма `data` дробная часть равна нулю."
   ]
  },
  {
   "cell_type": "markdown",
   "id": "cd59226c",
   "metadata": {},
   "source": [
    "Для лучшей интерпретации преобразуем данные в целочисленный тип в столбцах с баллами кредитного скоринга и возрастами клиентов, так как они содержат вещественные числа, у которых дробная часть равна нулю."
   ]
  },
  {
   "cell_type": "code",
   "execution_count": 23,
   "id": "da50ca05",
   "metadata": {},
   "outputs": [
    {
     "data": {
      "text/html": [
       "<div>\n",
       "<style scoped>\n",
       "    .dataframe tbody tr th:only-of-type {\n",
       "        vertical-align: middle;\n",
       "    }\n",
       "\n",
       "    .dataframe tbody tr th {\n",
       "        vertical-align: top;\n",
       "    }\n",
       "\n",
       "    .dataframe thead th {\n",
       "        text-align: right;\n",
       "    }\n",
       "</style>\n",
       "<table border=\"1\" class=\"dataframe\">\n",
       "  <thead>\n",
       "    <tr style=\"text-align: right;\">\n",
       "      <th></th>\n",
       "      <th>data_type</th>\n",
       "    </tr>\n",
       "  </thead>\n",
       "  <tbody>\n",
       "    <tr>\n",
       "      <th>score</th>\n",
       "      <td>int64</td>\n",
       "    </tr>\n",
       "    <tr>\n",
       "      <th>age</th>\n",
       "      <td>int64</td>\n",
       "    </tr>\n",
       "  </tbody>\n",
       "</table>\n",
       "</div>"
      ],
      "text/plain": [
       "      data_type\n",
       "score     int64\n",
       "age       int64"
      ]
     },
     "execution_count": 23,
     "metadata": {},
     "output_type": "execute_result"
    }
   ],
   "source": [
    "data[['score', 'age']] = data[['score', 'age']].astype('int64') \n",
    "# преобразование вещественных чисел в столбцах ‘score’, ‘age’ датафрейма ‘data’ в целые числа\n",
    "data[['score', 'age']].dtypes.to_frame(name='data_type')\n",
    "# вывод информации о типе данных в столбцах ‘score’, ‘age’"
   ]
  },
  {
   "cell_type": "markdown",
   "id": "75dfcf26",
   "metadata": {},
   "source": [
    "Столбцы `'score'` и `'age'` теперь содержат целые числа."
   ]
  },
  {
   "cell_type": "markdown",
   "id": "781d89fd",
   "metadata": {},
   "source": [
    "<div class=\"alert alert-success\">\n",
    "<b>👍 Успех:</b> Все верно!\n",
    "</div>"
   ]
  },
  {
   "cell_type": "markdown",
   "id": "645348df",
   "metadata": {},
   "source": [
    "### Анализ выбросов в данных"
   ]
  },
  {
   "cell_type": "markdown",
   "id": "5f490547",
   "metadata": {},
   "source": [
    "Построим диаграмму размаха по балансам на счетах клиентов."
   ]
  },
  {
   "cell_type": "code",
   "execution_count": 24,
   "id": "da629299",
   "metadata": {},
   "outputs": [
    {
     "data": {
      "image/png": "[encoded data removed]",
      "text/plain": [
       "<Figure size 1440x216 with 1 Axes>"
      ]
     },
     "metadata": {
      "needs_background": "light"
     },
     "output_type": "display_data"
    }
   ],
   "source": [
    "plt.figure(figsize=(20, 3))\n",
    "# установка размера графика\n",
    "boxplot = sns.boxplot(data=data, x='balance', color='#5d74f4')\n",
    "# построение диаграмм размаха для значений столбца ‘balance’\n",
    "boxplot.axes.set_title('Размах балансов на счетах клиентов', fontsize=12)\n",
    "# установка заголовка для графика\n",
    "boxplot.set_xlabel('Баланс', fontsize=10);\n",
    "# установка подписи для горизонтальной оси графика"
   ]
  },
  {
   "cell_type": "markdown",
   "id": "89f85a62",
   "metadata": {},
   "source": [
    "На графике можно наблюдать выбросы. Выведем строки датафрейма `data`, где баланс на счёте клиента больше 40 млн."
   ]
  },
  {
   "cell_type": "code",
   "execution_count": 25,
   "id": "fd6d5d7d",
   "metadata": {},
   "outputs": [
    {
     "data": {
      "text/html": [
       "<div>\n",
       "<style scoped>\n",
       "    .dataframe tbody tr th:only-of-type {\n",
       "        vertical-align: middle;\n",
       "    }\n",
       "\n",
       "    .dataframe tbody tr th {\n",
       "        vertical-align: top;\n",
       "    }\n",
       "\n",
       "    .dataframe thead th {\n",
       "        text-align: right;\n",
       "    }\n",
       "</style>\n",
       "<table border=\"1\" class=\"dataframe\">\n",
       "  <thead>\n",
       "    <tr style=\"text-align: right;\">\n",
       "      <th></th>\n",
       "      <th>user_id</th>\n",
       "      <th>score</th>\n",
       "      <th>city</th>\n",
       "      <th>gender</th>\n",
       "      <th>age</th>\n",
       "      <th>equity</th>\n",
       "      <th>balance</th>\n",
       "      <th>products</th>\n",
       "      <th>credit_card</th>\n",
       "      <th>last_activity</th>\n",
       "      <th>est_salary</th>\n",
       "      <th>churn</th>\n",
       "    </tr>\n",
       "  </thead>\n",
       "  <tbody>\n",
       "    <tr>\n",
       "      <th>1059</th>\n",
       "      <td>114103</td>\n",
       "      <td>894</td>\n",
       "      <td>Ярославль</td>\n",
       "      <td>М</td>\n",
       "      <td>58</td>\n",
       "      <td>4</td>\n",
       "      <td>6.486621e+07</td>\n",
       "      <td>2</td>\n",
       "      <td>1</td>\n",
       "      <td>1</td>\n",
       "      <td>88861.60</td>\n",
       "      <td>1</td>\n",
       "    </tr>\n",
       "    <tr>\n",
       "      <th>1846</th>\n",
       "      <td>114088</td>\n",
       "      <td>927</td>\n",
       "      <td>Ярославль</td>\n",
       "      <td>М</td>\n",
       "      <td>57</td>\n",
       "      <td>5</td>\n",
       "      <td>4.327710e+07</td>\n",
       "      <td>3</td>\n",
       "      <td>0</td>\n",
       "      <td>1</td>\n",
       "      <td>82619.00</td>\n",
       "      <td>0</td>\n",
       "    </tr>\n",
       "    <tr>\n",
       "      <th>7597</th>\n",
       "      <td>156149</td>\n",
       "      <td>900</td>\n",
       "      <td>Ярославль</td>\n",
       "      <td>М</td>\n",
       "      <td>62</td>\n",
       "      <td>5</td>\n",
       "      <td>1.191136e+08</td>\n",
       "      <td>2</td>\n",
       "      <td>1</td>\n",
       "      <td>1</td>\n",
       "      <td>138041.31</td>\n",
       "      <td>0</td>\n",
       "    </tr>\n",
       "  </tbody>\n",
       "</table>\n",
       "</div>"
      ],
      "text/plain": [
       "      user_id  score       city gender  age  equity       balance  products  \\\n",
       "1059   114103    894  Ярославль      М   58       4  6.486621e+07         2   \n",
       "1846   114088    927  Ярославль      М   57       5  4.327710e+07         3   \n",
       "7597   156149    900  Ярославль      М   62       5  1.191136e+08         2   \n",
       "\n",
       "      credit_card  last_activity  est_salary  churn  \n",
       "1059            1              1    88861.60      1  \n",
       "1846            0              1    82619.00      0  \n",
       "7597            1              1   138041.31      0  "
      ]
     },
     "execution_count": 25,
     "metadata": {},
     "output_type": "execute_result"
    }
   ],
   "source": [
    "data.query('balance > 40000000')\n",
    "# вывод строк датафрейма ‘data’ с условием, что значения столбца ‘balance’ больше 40 млн."
   ]
  },
  {
   "cell_type": "markdown",
   "id": "28587a1b",
   "metadata": {},
   "source": [
    "У трёх клиентов банка баланс на счёте превышает 40 млн. Самый большой баланс составляет более 119 млн. Все клиенты с очень высоким балансом из Ярославля, являются мужчинами и активными клиентами банка. Возраст этих клиентов — 57 лет и старше. Их оценочный доход — более 80 тыс. Их кредитный скоринг является достаточно высоким (составляет около 900 баллов из 1000 возможных)."
   ]
  },
  {
   "cell_type": "markdown",
   "id": "4c1253a3",
   "metadata": {},
   "source": [
    "<div class=\"alert alert-success\">\n",
    "<b>👍 Успех:</b> Все верно!\n",
    "</div>"
   ]
  },
  {
   "cell_type": "markdown",
   "id": "77c243c9",
   "metadata": {},
   "source": [
    "Построим диаграмму размаха по оценочным доходам клиентов."
   ]
  },
  {
   "cell_type": "code",
   "execution_count": 26,
   "id": "6de852f7",
   "metadata": {},
   "outputs": [
    {
     "data": {
      "image/png": "[encoded data removed]",
      "text/plain": [
       "<Figure size 1440x216 with 1 Axes>"
      ]
     },
     "metadata": {
      "needs_background": "light"
     },
     "output_type": "display_data"
    }
   ],
   "source": [
    "plt.figure(figsize=(20, 3))\n",
    "# установка размера графика\n",
    "boxplot = sns.boxplot(data=data, x='est_salary', color='#5d74f4')\n",
    "# построение диаграмм размаха для значений столбца ‘est_salary’\n",
    "boxplot.axes.set_title('Размах оценочных доходов клиентов', fontsize=12)\n",
    "# установка заголовка для графика\n",
    "boxplot.set_xlabel('Оценочный доход', fontsize=10);\n",
    "# установка подписи для горизонтальной оси графика"
   ]
  },
  {
   "cell_type": "markdown",
   "id": "f6ed607f",
   "metadata": {},
   "source": [
    "Существуют клиенты банка с очень высоким уровнем дохода по сравнению с большинством. Выведем строки датафрейма `data`, где оценочный доход клиента больше 1.3 млн."
   ]
  },
  {
   "cell_type": "markdown",
   "id": "487008f0",
   "metadata": {},
   "source": [
    "<div class=\"alert alert-success\">\n",
    "<b>👍 Успех:</b> Все верно!\n",
    "</div>"
   ]
  },
  {
   "cell_type": "code",
   "execution_count": 27,
   "id": "08d7c8c7",
   "metadata": {},
   "outputs": [
    {
     "data": {
      "text/html": [
       "<div>\n",
       "<style scoped>\n",
       "    .dataframe tbody tr th:only-of-type {\n",
       "        vertical-align: middle;\n",
       "    }\n",
       "\n",
       "    .dataframe tbody tr th {\n",
       "        vertical-align: top;\n",
       "    }\n",
       "\n",
       "    .dataframe thead th {\n",
       "        text-align: right;\n",
       "    }\n",
       "</style>\n",
       "<table border=\"1\" class=\"dataframe\">\n",
       "  <thead>\n",
       "    <tr style=\"text-align: right;\">\n",
       "      <th></th>\n",
       "      <th>user_id</th>\n",
       "      <th>score</th>\n",
       "      <th>city</th>\n",
       "      <th>gender</th>\n",
       "      <th>age</th>\n",
       "      <th>equity</th>\n",
       "      <th>balance</th>\n",
       "      <th>products</th>\n",
       "      <th>credit_card</th>\n",
       "      <th>last_activity</th>\n",
       "      <th>est_salary</th>\n",
       "      <th>churn</th>\n",
       "    </tr>\n",
       "  </thead>\n",
       "  <tbody>\n",
       "    <tr>\n",
       "      <th>1600</th>\n",
       "      <td>197637</td>\n",
       "      <td>785</td>\n",
       "      <td>Ярославль</td>\n",
       "      <td>М</td>\n",
       "      <td>41</td>\n",
       "      <td>0</td>\n",
       "      <td>NaN</td>\n",
       "      <td>1</td>\n",
       "      <td>1</td>\n",
       "      <td>0</td>\n",
       "      <td>1307090.18</td>\n",
       "      <td>0</td>\n",
       "    </tr>\n",
       "    <tr>\n",
       "      <th>4005</th>\n",
       "      <td>163640</td>\n",
       "      <td>912</td>\n",
       "      <td>Ярославль</td>\n",
       "      <td>М</td>\n",
       "      <td>35</td>\n",
       "      <td>4</td>\n",
       "      <td>15624095.80</td>\n",
       "      <td>2</td>\n",
       "      <td>0</td>\n",
       "      <td>1</td>\n",
       "      <td>1395064.45</td>\n",
       "      <td>0</td>\n",
       "    </tr>\n",
       "    <tr>\n",
       "      <th>4473</th>\n",
       "      <td>216422</td>\n",
       "      <td>956</td>\n",
       "      <td>Ярославль</td>\n",
       "      <td>М</td>\n",
       "      <td>27</td>\n",
       "      <td>0</td>\n",
       "      <td>NaN</td>\n",
       "      <td>1</td>\n",
       "      <td>1</td>\n",
       "      <td>0</td>\n",
       "      <td>1333687.36</td>\n",
       "      <td>0</td>\n",
       "    </tr>\n",
       "    <tr>\n",
       "      <th>4637</th>\n",
       "      <td>149430</td>\n",
       "      <td>961</td>\n",
       "      <td>Ярославль</td>\n",
       "      <td>М</td>\n",
       "      <td>37</td>\n",
       "      <td>5</td>\n",
       "      <td>4054667.81</td>\n",
       "      <td>3</td>\n",
       "      <td>0</td>\n",
       "      <td>0</td>\n",
       "      <td>1363549.52</td>\n",
       "      <td>0</td>\n",
       "    </tr>\n",
       "  </tbody>\n",
       "</table>\n",
       "</div>"
      ],
      "text/plain": [
       "      user_id  score       city gender  age  equity      balance  products  \\\n",
       "1600   197637    785  Ярославль      М   41       0          NaN         1   \n",
       "4005   163640    912  Ярославль      М   35       4  15624095.80         2   \n",
       "4473   216422    956  Ярославль      М   27       0          NaN         1   \n",
       "4637   149430    961  Ярославль      М   37       5   4054667.81         3   \n",
       "\n",
       "      credit_card  last_activity  est_salary  churn  \n",
       "1600            1              0  1307090.18      0  \n",
       "4005            0              1  1395064.45      0  \n",
       "4473            1              0  1333687.36      0  \n",
       "4637            0              0  1363549.52      0  "
      ]
     },
     "execution_count": 27,
     "metadata": {},
     "output_type": "execute_result"
    }
   ],
   "source": [
    "data.query('est_salary > 1300000')\n",
    "# вывод строк датафрейма ‘data’ с условием, что значения столбца ‘est_salary’ больше 1.3 млн."
   ]
  },
  {
   "cell_type": "markdown",
   "id": "cd3542ed",
   "metadata": {},
   "source": [
    "Четыре человека, у кого оценочный доход превышает 1.3 млн., являются представителями мужского пола, жителями Ярославля, действующими клиентами банка (не ушли из банка). Кредитный скоринг трёх клиентов с наибольшим доходом составляет более 900 баллов."
   ]
  },
  {
   "cell_type": "markdown",
   "id": "17fe1221",
   "metadata": {},
   "source": [
    "Не будем удалять выбросы, так как существует риск потери важных данных. Клиентов с крупным балансом на счёте и высоким доходом не так много, но они могут приносить больше выгоды для банка, чем остальные клиенты."
   ]
  },
  {
   "cell_type": "markdown",
   "id": "538b2293",
   "metadata": {},
   "source": [
    "<div class=\"alert alert-success\">\n",
    "<b>👍 Успех:</b> Все верно!\n",
    "</div>"
   ]
  },
  {
   "cell_type": "markdown",
   "id": "fedd06cb",
   "metadata": {},
   "source": [
    "Установим, сколько клиентов пользуются определённым количеством продуктов банка."
   ]
  },
  {
   "cell_type": "code",
   "execution_count": 28,
   "id": "adb4c412",
   "metadata": {},
   "outputs": [
    {
     "data": {
      "text/plain": [
       "2    5119\n",
       "1    3323\n",
       "3    1038\n",
       "4     474\n",
       "5      19\n",
       "0       1\n",
       "Name: products, dtype: int64"
      ]
     },
     "execution_count": 28,
     "metadata": {},
     "output_type": "execute_result"
    }
   ],
   "source": [
    "data['products'].value_counts()\n",
    "# подсчёт количества уникальных значений в столбце ‘products’ датафрейма ‘data’"
   ]
  },
  {
   "cell_type": "markdown",
   "id": "f3640dad",
   "metadata": {},
   "source": [
    "В данных встречается одно аномальное значение — нулевое количество банковских продуктов, которыми пользуется клиент. Если человек является клиентом банка, то он должен пользоваться хотя бы одним продуктом. Выведем строку с данным значением."
   ]
  },
  {
   "cell_type": "code",
   "execution_count": 29,
   "id": "5b81a66a",
   "metadata": {},
   "outputs": [
    {
     "data": {
      "text/html": [
       "<div>\n",
       "<style scoped>\n",
       "    .dataframe tbody tr th:only-of-type {\n",
       "        vertical-align: middle;\n",
       "    }\n",
       "\n",
       "    .dataframe tbody tr th {\n",
       "        vertical-align: top;\n",
       "    }\n",
       "\n",
       "    .dataframe thead th {\n",
       "        text-align: right;\n",
       "    }\n",
       "</style>\n",
       "<table border=\"1\" class=\"dataframe\">\n",
       "  <thead>\n",
       "    <tr style=\"text-align: right;\">\n",
       "      <th></th>\n",
       "      <th>user_id</th>\n",
       "      <th>score</th>\n",
       "      <th>city</th>\n",
       "      <th>gender</th>\n",
       "      <th>age</th>\n",
       "      <th>equity</th>\n",
       "      <th>balance</th>\n",
       "      <th>products</th>\n",
       "      <th>credit_card</th>\n",
       "      <th>last_activity</th>\n",
       "      <th>est_salary</th>\n",
       "      <th>churn</th>\n",
       "    </tr>\n",
       "  </thead>\n",
       "  <tbody>\n",
       "    <tr>\n",
       "      <th>8957</th>\n",
       "      <td>147837</td>\n",
       "      <td>962</td>\n",
       "      <td>Рыбинск</td>\n",
       "      <td>Ж</td>\n",
       "      <td>79</td>\n",
       "      <td>3</td>\n",
       "      <td>NaN</td>\n",
       "      <td>0</td>\n",
       "      <td>0</td>\n",
       "      <td>0</td>\n",
       "      <td>25063.96</td>\n",
       "      <td>1</td>\n",
       "    </tr>\n",
       "  </tbody>\n",
       "</table>\n",
       "</div>"
      ],
      "text/plain": [
       "      user_id  score     city gender  age  equity  balance  products  \\\n",
       "8957   147837    962  Рыбинск      Ж   79       3      NaN         0   \n",
       "\n",
       "      credit_card  last_activity  est_salary  churn  \n",
       "8957            0              0    25063.96      1  "
      ]
     },
     "execution_count": 29,
     "metadata": {},
     "output_type": "execute_result"
    }
   ],
   "source": [
    "data.query('products == 0')\n",
    "# вывод строк датафрейма ‘data’ с условием, что значения столбца ‘products’ равны 0"
   ]
  },
  {
   "cell_type": "markdown",
   "id": "9606ad8e",
   "metadata": {},
   "source": [
    "Женщина из Рыбинска, не пользующаяся банковскими продуктами, является бывшим клиентом банка. Информация о её балансе на счёте отсутствует. Она не имела кредитной карты, не проявляла активности в последнее время. Удалим строку с данным клиентом из датафрейма `data`, чтобы избежать искажения результатов при анализе данных."
   ]
  },
  {
   "cell_type": "code",
   "execution_count": 30,
   "id": "b56902cf",
   "metadata": {},
   "outputs": [
    {
     "name": "stdout",
     "output_type": "stream",
     "text": [
      "Длина датафрейма до удаления аномального значения: 9974\n",
      "Длина датафрейма после удаления аномального значения: 9973\n",
      "Доля удалённых данных: 0.01 %\n"
     ]
    }
   ],
   "source": [
    "len_df = len(data)\n",
    "# запись в переменную ‘len_df’ значения длины датафрейма ‘data’ до удаления аномалии\n",
    "data = data.drop(index=8957)\n",
    "# удаление строки с индексом 8957 из датафрейма ‘data’\n",
    "print('Длина датафрейма до удаления аномального значения:', len_df)\n",
    "# вывод длины датафрейма ‘data’ до удаления аномалии\n",
    "print('Длина датафрейма после удаления аномального значения:', len(data))\n",
    "# вывод длины датафрейма ‘data’ после удаления аномалии\n",
    "print('Доля удалённых данных:', round((len_df - len(data)) / len_df * 100, 2), '%')\n",
    "# вычисление процента потерянных данных после удаления аномалии\n",
    "# вычисление разницы между длиной датафрейма до удаления части данных и длиной датафрейма, полученного после удаления, \n",
    "# деление полученной разницы на длину датафрейма до удаления и умножение на 100 \n",
    "# округление результата до 2-х знаков после запятой"
   ]
  },
  {
   "cell_type": "markdown",
   "id": "51daeb52",
   "metadata": {},
   "source": [
    "После удаления аномального значения потеря данных составила лишь 0.01%."
   ]
  },
  {
   "cell_type": "markdown",
   "id": "82cf521e",
   "metadata": {},
   "source": [
    "<div class=\"alert alert-success\">\n",
    "<b>👍 Успех:</b> Все верно!\n",
    "</div>"
   ]
  },
  {
   "cell_type": "markdown",
   "id": "b9e4ce17",
   "metadata": {},
   "source": [
    "Определим, сколько всего данных было потеряно в результате предобработки данных."
   ]
  },
  {
   "cell_type": "code",
   "execution_count": 31,
   "id": "d24d40e5",
   "metadata": {},
   "outputs": [
    {
     "name": "stdout",
     "output_type": "stream",
     "text": [
      "Длина датафрейма до удаления пропущенных и аномальных значений: 10000\n",
      "Длина датафрейма после удаления пропущенных и аномальных значений: 9973\n",
      "Доля удалённых данных: 0.27 %\n"
     ]
    }
   ],
   "source": [
    "print('Длина датафрейма до удаления пропущенных и аномальных значений:', len_original_df)\n",
    "# вывод длины датафрейма ‘data’ до удаления пропусков и аномалии\n",
    "print('Длина датафрейма после удаления пропущенных и аномальных значений:', len(data))\n",
    "# вывод длины датафрейма ‘data’ после удаления пропусков и аномалии\n",
    "print('Доля удалённых данных:', round((len_original_df - len(data)) / len_original_df * 100, 2), '%')\n",
    "# вычисление процента потерянных данных после удаления пропусков и аномалии\n",
    "# вычисление разницы между длиной исходного датафрейма и длиной датафрейма, полученного после удаления данных, \n",
    "# деление полученной разницы на длину исходного датафрейма и умножение на 100 \n",
    "# округление результата до 2-х знаков после запятой"
   ]
  },
  {
   "cell_type": "markdown",
   "id": "bc4c2639",
   "metadata": {},
   "source": [
    "В результате удаления пропущенных и аномальных значений было потеряно меньше одного процента данных — 0.27%."
   ]
  },
  {
   "cell_type": "markdown",
   "id": "15be0977",
   "metadata": {},
   "source": [
    "<div class=\"alert alert-success\">\n",
    "<b>👍 Успех:</b> Все верно!\n",
    "</div>"
   ]
  },
  {
   "cell_type": "markdown",
   "id": "a0b1a6ca",
   "metadata": {},
   "source": [
    "Выведем информацию о датафрейме `data` после предобработки данных."
   ]
  },
  {
   "cell_type": "code",
   "execution_count": 32,
   "id": "2619cba7",
   "metadata": {},
   "outputs": [
    {
     "name": "stdout",
     "output_type": "stream",
     "text": [
      "\u001b[1m Таблица «data» \u001b[0m\n",
      "<class 'pandas.core.frame.DataFrame'>\n",
      "Int64Index: 9973 entries, 0 to 9999\n",
      "Data columns (total 12 columns):\n",
      " #   Column         Non-Null Count  Dtype  \n",
      "---  ------         --------------  -----  \n",
      " 0   user_id        9973 non-null   int64  \n",
      " 1   score          9973 non-null   int64  \n",
      " 2   city           9973 non-null   object \n",
      " 3   gender         9973 non-null   object \n",
      " 4   age            9973 non-null   int64  \n",
      " 5   equity         9973 non-null   int64  \n",
      " 6   balance        7695 non-null   float64\n",
      " 7   products       9973 non-null   int64  \n",
      " 8   credit_card    9973 non-null   int64  \n",
      " 9   last_activity  9973 non-null   int64  \n",
      " 10  est_salary     9973 non-null   float64\n",
      " 11  churn          9973 non-null   int64  \n",
      "dtypes: float64(2), int64(8), object(2)\n",
      "memory usage: 1012.9+ KB\n",
      "None\n",
      "--------------------------------------------------------------------------------\n"
     ]
    },
    {
     "data": {
      "text/html": [
       "<div>\n",
       "<style scoped>\n",
       "    .dataframe tbody tr th:only-of-type {\n",
       "        vertical-align: middle;\n",
       "    }\n",
       "\n",
       "    .dataframe tbody tr th {\n",
       "        vertical-align: top;\n",
       "    }\n",
       "\n",
       "    .dataframe thead th {\n",
       "        text-align: right;\n",
       "    }\n",
       "</style>\n",
       "<table border=\"1\" class=\"dataframe\">\n",
       "  <thead>\n",
       "    <tr style=\"text-align: right;\">\n",
       "      <th></th>\n",
       "      <th>user_id</th>\n",
       "      <th>score</th>\n",
       "      <th>age</th>\n",
       "      <th>equity</th>\n",
       "      <th>balance</th>\n",
       "      <th>products</th>\n",
       "      <th>credit_card</th>\n",
       "      <th>last_activity</th>\n",
       "      <th>est_salary</th>\n",
       "      <th>churn</th>\n",
       "    </tr>\n",
       "  </thead>\n",
       "  <tbody>\n",
       "    <tr>\n",
       "      <th>count</th>\n",
       "      <td>9973.000000</td>\n",
       "      <td>9973.000000</td>\n",
       "      <td>9973.000000</td>\n",
       "      <td>9973.000000</td>\n",
       "      <td>7.695000e+03</td>\n",
       "      <td>9973.000000</td>\n",
       "      <td>9973.000000</td>\n",
       "      <td>9973.000000</td>\n",
       "      <td>9.973000e+03</td>\n",
       "      <td>9973.000000</td>\n",
       "    </tr>\n",
       "    <tr>\n",
       "      <th>mean</th>\n",
       "      <td>171757.616966</td>\n",
       "      <td>848.671212</td>\n",
       "      <td>42.730773</td>\n",
       "      <td>2.630803</td>\n",
       "      <td>8.272456e+05</td>\n",
       "      <td>1.871653</td>\n",
       "      <td>0.680237</td>\n",
       "      <td>0.522912</td>\n",
       "      <td>1.477991e+05</td>\n",
       "      <td>0.182292</td>\n",
       "    </tr>\n",
       "    <tr>\n",
       "      <th>std</th>\n",
       "      <td>33696.365256</td>\n",
       "      <td>65.393153</td>\n",
       "      <td>12.175166</td>\n",
       "      <td>1.980060</td>\n",
       "      <td>1.980327e+06</td>\n",
       "      <td>0.792547</td>\n",
       "      <td>0.466408</td>\n",
       "      <td>0.499500</td>\n",
       "      <td>1.392871e+05</td>\n",
       "      <td>0.386105</td>\n",
       "    </tr>\n",
       "    <tr>\n",
       "      <th>min</th>\n",
       "      <td>94561.000000</td>\n",
       "      <td>642.000000</td>\n",
       "      <td>18.000000</td>\n",
       "      <td>0.000000</td>\n",
       "      <td>0.000000e+00</td>\n",
       "      <td>1.000000</td>\n",
       "      <td>0.000000</td>\n",
       "      <td>0.000000</td>\n",
       "      <td>2.546300e+03</td>\n",
       "      <td>0.000000</td>\n",
       "    </tr>\n",
       "    <tr>\n",
       "      <th>25%</th>\n",
       "      <td>142757.000000</td>\n",
       "      <td>802.000000</td>\n",
       "      <td>33.000000</td>\n",
       "      <td>0.000000</td>\n",
       "      <td>2.956987e+05</td>\n",
       "      <td>1.000000</td>\n",
       "      <td>0.000000</td>\n",
       "      <td>0.000000</td>\n",
       "      <td>7.525202e+04</td>\n",
       "      <td>0.000000</td>\n",
       "    </tr>\n",
       "    <tr>\n",
       "      <th>50%</th>\n",
       "      <td>172651.000000</td>\n",
       "      <td>853.000000</td>\n",
       "      <td>40.000000</td>\n",
       "      <td>3.000000</td>\n",
       "      <td>5.242953e+05</td>\n",
       "      <td>2.000000</td>\n",
       "      <td>1.000000</td>\n",
       "      <td>1.000000</td>\n",
       "      <td>1.196431e+05</td>\n",
       "      <td>0.000000</td>\n",
       "    </tr>\n",
       "    <tr>\n",
       "      <th>75%</th>\n",
       "      <td>201164.000000</td>\n",
       "      <td>900.000000</td>\n",
       "      <td>51.000000</td>\n",
       "      <td>4.000000</td>\n",
       "      <td>9.800512e+05</td>\n",
       "      <td>2.000000</td>\n",
       "      <td>1.000000</td>\n",
       "      <td>1.000000</td>\n",
       "      <td>1.745000e+05</td>\n",
       "      <td>0.000000</td>\n",
       "    </tr>\n",
       "    <tr>\n",
       "      <th>max</th>\n",
       "      <td>229145.000000</td>\n",
       "      <td>1000.000000</td>\n",
       "      <td>86.000000</td>\n",
       "      <td>9.000000</td>\n",
       "      <td>1.191136e+08</td>\n",
       "      <td>5.000000</td>\n",
       "      <td>1.000000</td>\n",
       "      <td>1.000000</td>\n",
       "      <td>1.395064e+06</td>\n",
       "      <td>1.000000</td>\n",
       "    </tr>\n",
       "  </tbody>\n",
       "</table>\n",
       "</div>"
      ],
      "text/plain": [
       "             user_id        score          age       equity       balance  \\\n",
       "count    9973.000000  9973.000000  9973.000000  9973.000000  7.695000e+03   \n",
       "mean   171757.616966   848.671212    42.730773     2.630803  8.272456e+05   \n",
       "std     33696.365256    65.393153    12.175166     1.980060  1.980327e+06   \n",
       "min     94561.000000   642.000000    18.000000     0.000000  0.000000e+00   \n",
       "25%    142757.000000   802.000000    33.000000     0.000000  2.956987e+05   \n",
       "50%    172651.000000   853.000000    40.000000     3.000000  5.242953e+05   \n",
       "75%    201164.000000   900.000000    51.000000     4.000000  9.800512e+05   \n",
       "max    229145.000000  1000.000000    86.000000     9.000000  1.191136e+08   \n",
       "\n",
       "          products  credit_card  last_activity    est_salary        churn  \n",
       "count  9973.000000  9973.000000    9973.000000  9.973000e+03  9973.000000  \n",
       "mean      1.871653     0.680237       0.522912  1.477991e+05     0.182292  \n",
       "std       0.792547     0.466408       0.499500  1.392871e+05     0.386105  \n",
       "min       1.000000     0.000000       0.000000  2.546300e+03     0.000000  \n",
       "25%       1.000000     0.000000       0.000000  7.525202e+04     0.000000  \n",
       "50%       2.000000     1.000000       1.000000  1.196431e+05     0.000000  \n",
       "75%       2.000000     1.000000       1.000000  1.745000e+05     0.000000  \n",
       "max       5.000000     1.000000       1.000000  1.395064e+06     1.000000  "
      ]
     },
     "metadata": {},
     "output_type": "display_data"
    },
    {
     "name": "stdout",
     "output_type": "stream",
     "text": [
      "--------------------------------------------------------------------------------\n",
      "\u001b[1m Количество дубликатов в таблице «data»: 0 , процент дубликатов: 0.0 % \u001b[0m\n",
      "--------------------------------------------------------------------------------\n",
      "\u001b[1m Столбец «user_id» - количество NaN: 0 , процент NaN: 0.0 % \u001b[0m\n",
      "--------------------------------------------------------------------------------\n",
      "\u001b[1m Столбец «score» - количество NaN: 0 , процент NaN: 0.0 % \u001b[0m\n",
      "--------------------------------------------------------------------------------\n",
      "\u001b[1m Столбец «city» - количество NaN: 0 , процент NaN: 0.0 % \u001b[0m\n",
      "--------------------------------------------------------------------------------\n",
      "\u001b[1m Столбец «gender» - количество NaN: 0 , процент NaN: 0.0 % \u001b[0m\n",
      "--------------------------------------------------------------------------------\n",
      "\u001b[1m Столбец «age» - количество NaN: 0 , процент NaN: 0.0 % \u001b[0m\n",
      "--------------------------------------------------------------------------------\n",
      "\u001b[1m Столбец «equity» - количество NaN: 0 , процент NaN: 0.0 % \u001b[0m\n",
      "--------------------------------------------------------------------------------\n",
      "\u001b[1m Столбец «balance» - количество NaN: 2278 , процент NaN: 22.84 % \u001b[0m\n",
      "--------------------------------------------------------------------------------\n",
      "\u001b[1m Столбец «products» - количество NaN: 0 , процент NaN: 0.0 % \u001b[0m\n",
      "--------------------------------------------------------------------------------\n",
      "\u001b[1m Столбец «credit_card» - количество NaN: 0 , процент NaN: 0.0 % \u001b[0m\n",
      "--------------------------------------------------------------------------------\n",
      "\u001b[1m Столбец «last_activity» - количество NaN: 0 , процент NaN: 0.0 % \u001b[0m\n",
      "--------------------------------------------------------------------------------\n",
      "\u001b[1m Столбец «est_salary» - количество NaN: 0 , процент NaN: 0.0 % \u001b[0m\n",
      "--------------------------------------------------------------------------------\n",
      "\u001b[1m Столбец «churn» - количество NaN: 0 , процент NaN: 0.0 % \u001b[0m\n",
      "--------------------------------------------------------------------------------\n"
     ]
    }
   ],
   "source": [
    "df_info(data, 'data')\n",
    "# вызов функции df_info для датафрейма ‘data’"
   ]
  },
  {
   "cell_type": "markdown",
   "id": "754d85d8",
   "metadata": {},
   "source": [
    "После предобработки данных в датафрейме `data` стало 9 тыс. 973 строки и 12 столбцов. Восемь столбцов содержат целые числа (`'user_id'`, `'score'`, `'age'`, `'equity'`, `'products'`, `'credit_card'`, `'last_activity'`, `'churn'`), два столбца — вещественные числа (`'balance'`, `'est_salary'`) и два столбца — данные с типом object (`'city'`, `'gender'`). Пропущенные значения существуют в столбце `'balance'` (22.84%). Дубликаты в датафрейме `data` отсутствуют."
   ]
  },
  {
   "cell_type": "markdown",
   "id": "56758a55",
   "metadata": {},
   "source": [
    "<div class=\"alert alert-success\">\n",
    "<b>👍 Успех:</b> Все верно!\n",
    "</div>"
   ]
  },
  {
   "cell_type": "markdown",
   "id": "e23e8cd9",
   "metadata": {},
   "source": [
    "### Вывод"
   ]
  },
  {
   "cell_type": "markdown",
   "id": "4474a5c2",
   "metadata": {},
   "source": [
    "Мы считали csv-файл с данными о клиентах банка «Метанпром» и сохранили в датафрейм. Вывели первые строки набора данных. \n",
    "\n",
    "Изучили общую информацию о датафрейме. Установили, что существуют пропуски в столбцах датафрейма с возрастами клиентов и балансами на счетах. \n",
    "\n",
    "Анализ показал, что пропущенные значения в столбце с возрастами клиентов банка имеют очень слабую корреляцию с остальными столбцами, близкую к нулю. В данном столбце содержится небольшое количество пропусков (0.26% от общего числа наблюдений), они были удалены.\n",
    "\n",
    "Между пропусками в балансах на счетах клиентов и количеством баллов собственности существует очень высокая корреляция — 0.98. Как правило, клиенты банка, у которых не указан баланс на счёте, имеют нулевое количество баллов собственности. Между пропусками в балансах и некоторыми другими переменными также есть зависимость. Пропущенные значения в столбце с балансами на счетах клиентов не были удалены, чтобы избежать потери большого количества значимых данных (22.95%). \n",
    "\n",
    "Явные и неявные дубликаты не были найдены. \n",
    "\n",
    "Название столбца с оценочными доходами клиентов банка было приведено к нижнему регистру. Название столбца с идентификаторами клиентов было приведено к «змеиному» регистру. \n",
    "\n",
    "Данные в столбцах с баллами кредитного скоринга и возрастами клиентов были преобразованы в целочисленный тип. \n",
    "\n",
    "Были проанализированы выбросы. В данных встретилось и было удалено одно аномальное значение — нулевое количество банковских продуктов, которыми пользуется клиент. \n",
    "\n",
    "В результате удаления пропущенных и аномальных значений было потеряно меньше одного процента данных — 0.27%."
   ]
  },
  {
   "cell_type": "markdown",
   "id": "3066daa5",
   "metadata": {},
   "source": [
    "<div class=\"alert alert-success\">\n",
    "<b>👍 Успех:</b> Все верно!\n",
    "</div>"
   ]
  },
  {
   "cell_type": "markdown",
   "id": "fc3a0e8d",
   "metadata": {},
   "source": [
    "## Исследовательский анализ данных"
   ]
  },
  {
   "cell_type": "markdown",
   "id": "cf913464",
   "metadata": {},
   "source": [
    "### Изучение распределений по всем признакам с разбивкой по признаку оттока"
   ]
  },
  {
   "cell_type": "markdown",
   "id": "02d09e8d",
   "metadata": {},
   "source": [
    "Определим, сколько в датасете встречается клиентов, которые ушли из банка и которые остались."
   ]
  },
  {
   "cell_type": "code",
   "execution_count": 33,
   "id": "a47cb636",
   "metadata": {},
   "outputs": [
    {
     "data": {
      "text/html": [
       "<div>\n",
       "<style scoped>\n",
       "    .dataframe tbody tr th:only-of-type {\n",
       "        vertical-align: middle;\n",
       "    }\n",
       "\n",
       "    .dataframe tbody tr th {\n",
       "        vertical-align: top;\n",
       "    }\n",
       "\n",
       "    .dataframe thead th {\n",
       "        text-align: right;\n",
       "    }\n",
       "</style>\n",
       "<table border=\"1\" class=\"dataframe\">\n",
       "  <thead>\n",
       "    <tr style=\"text-align: right;\">\n",
       "      <th></th>\n",
       "      <th>Признак оттока</th>\n",
       "      <th>Количество клиентов</th>\n",
       "    </tr>\n",
       "  </thead>\n",
       "  <tbody>\n",
       "    <tr>\n",
       "      <th>0</th>\n",
       "      <td>0</td>\n",
       "      <td>8155</td>\n",
       "    </tr>\n",
       "    <tr>\n",
       "      <th>1</th>\n",
       "      <td>1</td>\n",
       "      <td>1818</td>\n",
       "    </tr>\n",
       "  </tbody>\n",
       "</table>\n",
       "</div>"
      ],
      "text/plain": [
       "   Признак оттока  Количество клиентов\n",
       "0               0                 8155\n",
       "1               1                 1818"
      ]
     },
     "execution_count": 33,
     "metadata": {},
     "output_type": "execute_result"
    },
    {
     "data": {
      "image/png": "[encoded data removed]",
      "text/plain": [
       "<Figure size 432x432 with 1 Axes>"
      ]
     },
     "metadata": {},
     "output_type": "display_data"
    }
   ],
   "source": [
    "number_of_clients_with_and_without_churn = data['churn'].value_counts().reset_index()\n",
    "# подсчёт количества значений в столбце ‘churn’ датафрейма ‘data’\n",
    "# сброс индекса\n",
    "number_of_clients_with_and_without_churn.columns = ['Признак оттока', 'Количество клиентов']\n",
    "# присваивание названий столбцам таблицы ‘number_of_clients_with_and_without_churn’\n",
    "plt.figure(figsize=(6, 6))\n",
    "# установка размера графика\n",
    "plt.pie(data=number_of_clients_with_and_without_churn, x='Количество клиентов',  \n",
    "        labels=['не ушли из банка', 'ушли из банка'], colors=['#5d74f4', '#d7526f'], autopct='%.1f%%', \n",
    "        wedgeprops={'edgecolor':'white'})\n",
    "# построение круговой диаграммы\n",
    "plt.title('Соотношение оставшихся и ушедших из банка клиентов, %')\n",
    "# установка заголовка для графика\n",
    "number_of_clients_with_and_without_churn\n",
    "# вывод таблицы ‘number_of_clients_with_and_without_churn’ на экран"
   ]
  },
  {
   "cell_type": "markdown",
   "id": "aea2f987",
   "metadata": {},
   "source": [
    "В выборке больше людей, которые остались клиентами банка на момент сбора данных, — 8 тыс. 155 человек, что составляет 81.8% от общего числа клиентов. 1 тыс. 818 человек ушли из банка — это 18.2%."
   ]
  },
  {
   "cell_type": "markdown",
   "id": "95fcb00a",
   "metadata": {},
   "source": [
    "<div class=\"alert alert-success\">\n",
    "<b>👍 Успех:</b> Все верно!\n",
    "</div>"
   ]
  },
  {
   "cell_type": "markdown",
   "id": "ae24c5ef",
   "metadata": {},
   "source": [
    "Изучим распределение клиентов банка по полу с разделением по признаку оттока."
   ]
  },
  {
   "cell_type": "code",
   "execution_count": 34,
   "id": "3f8d5491",
   "metadata": {},
   "outputs": [
    {
     "data": {
      "image/png": "[encoded data removed]",
      "text/plain": [
       "<Figure size 504x432 with 1 Axes>"
      ]
     },
     "metadata": {
      "needs_background": "light"
     },
     "output_type": "display_data"
    }
   ],
   "source": [
    "plt.figure(figsize=(7, 6))\n",
    "# установка размера графика\n",
    "sns.histplot(data=data, x='gender', hue='churn', stat='density', \n",
    "             common_norm=False, discrete=True, palette=['#5d74f4', '#d7526f'])\n",
    "# построение нормализованной гистограммы по значениям столбца ‘gender’ датафрейма ‘data’\n",
    "# с разбивкой по столбцу ‘churn’ датафрейма ‘data’\n",
    "plt.title('Распределение клиентов по полу с разбивкой по признаку оттока', fontsize=12)\n",
    "# установка заголовка для графика\n",
    "plt.xlabel('Пол', fontsize=11)\n",
    "# установка подписи для горизонтальной оси графика\n",
    "plt.ylabel('Плотность распределения вероятностей', fontsize=11);\n",
    "# установка подписи для вертикальной оси графика"
   ]
  },
  {
   "cell_type": "markdown",
   "id": "a9715ca7",
   "metadata": {},
   "source": [
    "Среди клиентов мужского пола плотность распределения вероятностей выше у тех, кто ушёл из банка."
   ]
  },
  {
   "cell_type": "markdown",
   "id": "5bf1e6b8",
   "metadata": {},
   "source": [
    "<div class=\"alert alert-success\">\n",
    "<b>👍 Успех:</b> Все верно!\n",
    "</div>"
   ]
  },
  {
   "cell_type": "markdown",
   "id": "0ff0d215",
   "metadata": {},
   "source": [
    "Рассчитаем процент клиентов, которые ушли из банка, отдельно для каждого пола. Сравним с общим процентом клиентов, ушедших из банка."
   ]
  },
  {
   "cell_type": "code",
   "execution_count": 35,
   "id": "e931fd9f",
   "metadata": {},
   "outputs": [
    {
     "data": {
      "text/html": [
       "<style  type=\"text/css\" >\n",
       "</style><table id=\"T_32173_\" ><thead>    <tr>        <th class=\"blank level0\" ></th>        <th class=\"col_heading level0 col0\" >Пол</th>        <th class=\"col_heading level0 col1\" >Процент клиентов, ушедших из банка</th>    </tr></thead><tbody>\n",
       "                <tr>\n",
       "                        <th id=\"T_32173_level0_row0\" class=\"row_heading level0 row0\" >0</th>\n",
       "                        <td id=\"T_32173_row0_col0\" class=\"data row0 col0\" >Ж</td>\n",
       "                        <td id=\"T_32173_row0_col1\" class=\"data row0 col1\" >12.7%</td>\n",
       "            </tr>\n",
       "            <tr>\n",
       "                        <th id=\"T_32173_level0_row1\" class=\"row_heading level0 row1\" >1</th>\n",
       "                        <td id=\"T_32173_row1_col0\" class=\"data row1 col0\" >М</td>\n",
       "                        <td id=\"T_32173_row1_col1\" class=\"data row1 col1\" >23.7%</td>\n",
       "            </tr>\n",
       "    </tbody></table>"
      ],
      "text/plain": [
       "<pandas.io.formats.style.Styler at 0x7f38012c0ca0>"
      ]
     },
     "execution_count": 35,
     "metadata": {},
     "output_type": "execute_result"
    },
    {
     "data": {
      "image/png": "[encoded data removed]",
      "text/plain": [
       "<Figure size 1152x216 with 1 Axes>"
      ]
     },
     "metadata": {
      "needs_background": "light"
     },
     "output_type": "display_data"
    }
   ],
   "source": [
    "churn_by_gender = (data.groupby('gender')['churn'].mean().sort_values())\n",
    "# группировка данных по столбцу ‘gender’ датафрейма ‘data’, вычисление среднего значения столбца ‘churn’ для каждой группы, \n",
    "# сортировка полученных значений\n",
    "fig, ax = plt.subplots(figsize=(16, 3))\n",
    "# установка размера графика\n",
    "(churn_by_gender * 100).plot(kind='barh', ax=ax)\n",
    "# построение горизонтального барного графика по ‘churn_by_gender’ с умножением на 100, \n",
    "# где длина каждого столбца соответствует среднему значению ‘churn’ для соответствующей группы\n",
    "plt.axvline(x=(data['churn'].mean() * 100), linestyle='--', color='red', label='Общий процент оттока клиентов банка')\n",
    "# создание вертикального пунктира на графике\n",
    "# расположение пунктирной линии на уровне среднего значения столбца ‘churn’ датафрейма ‘data’\n",
    "plt.legend(fontsize=8)\n",
    "# отображение легенды на графике\n",
    "plt.title('Процент оттока клиентов банка в зависимости от пола', fontsize=12)\n",
    "# установка заголовка для графика\n",
    "plt.xlabel('Процент оттока клиентов банка', fontsize=10)\n",
    "# установка подписи для горизонтальной оси графика\n",
    "plt.ylabel('Пол', fontsize=10)\n",
    "# установка подписи для вертикальной оси графика\n",
    "churn_by_gender = churn_by_gender.reset_index()\n",
    "# сброс индекса у таблицы ‘churn_by_gender’\n",
    "churn_by_gender.columns = ['Пол', 'Процент клиентов, ушедших из банка']\n",
    "# присваивание названий столбцам таблицы ‘churn_by_gender’\n",
    "churn_by_gender = churn_by_gender.style.format({'Процент клиентов, ушедших из банка': \"{:.1%}\"})\n",
    "# отображение значений столбца ‘Процент клиентов, ушедших из банка’\n",
    "# таблицы ‘churn_by_gender’ \n",
    "# с 1-м знаком после запятой и в процентах\n",
    "churn_by_gender\n",
    "# вывод таблицы ‘churn_by_gender’ на экран"
   ]
  },
  {
   "cell_type": "markdown",
   "id": "7c1d7c19",
   "metadata": {},
   "source": [
    "Процент клиентов, покинувших банк, различается в зависимости от пола. Для женщин этот показатель равен 12.7%, что ниже общего уровня оттока — 18.2%. Среди мужчин доля оттока составляет 23.7%, что превышает общий показатель — 18.2%. Клиенты банка мужского пола более склонны к оттоку."
   ]
  },
  {
   "cell_type": "markdown",
   "id": "b945f637",
   "metadata": {},
   "source": [
    "<div class=\"alert alert-success\">\n",
    "<b>👍 Успех:</b> Все верно!\n",
    "</div>"
   ]
  },
  {
   "cell_type": "markdown",
   "id": "43014d83",
   "metadata": {},
   "source": [
    "Изучим распределение клиентов банка по возрасту с разделением по признаку оттока."
   ]
  },
  {
   "cell_type": "code",
   "execution_count": 36,
   "id": "7106f791",
   "metadata": {},
   "outputs": [
    {
     "data": {
      "image/png": "[encoded data removed]",
      "text/plain": [
       "<Figure size 864x576 with 1 Axes>"
      ]
     },
     "metadata": {
      "needs_background": "light"
     },
     "output_type": "display_data"
    }
   ],
   "source": [
    "plt.figure(figsize=(12, 8))\n",
    "# установка размера графика\n",
    "sns.histplot(data=data, x='age', hue='churn', stat='density', common_norm=False, bins=34, palette=['#5d74f4', '#d7526f'])\n",
    "# построение нормализованной гистограммы по значениям столбца ‘age’ датафрейма ‘data’\n",
    "# с разбивкой по столбцу ‘churn’ датафрейма ‘data’\n",
    "plt.title('Распределение возрастов клиентов с разбивкой по признаку оттока', fontsize=14)\n",
    "# установка заголовка для графика\n",
    "plt.xlabel('Возраст', fontsize=12)\n",
    "# установка подписи для горизонтальной оси графика\n",
    "plt.ylabel('Плотность распределения вероятностей', fontsize=12);\n",
    "# установка подписи для вертикальной оси графика"
   ]
  },
  {
   "cell_type": "markdown",
   "id": "1d50ad10",
   "metadata": {},
   "source": [
    "Чаще всего встречаются клиенты банка в возрасте от 32 до 38 лет. Меньше всего клиентов 77 лет и старше.\n",
    "\n",
    "Плотность распределения вероятностей выше у клиентов, которые ушли из банка, чем у тех, кто остался, в возрасте от 24 до 36 лет и от 50 до 60 лет."
   ]
  },
  {
   "cell_type": "markdown",
   "id": "db707d15",
   "metadata": {},
   "source": [
    "<div class=\"alert alert-success\">\n",
    "<b>👍 Успех:</b> Все верно!\n",
    "</div>"
   ]
  },
  {
   "cell_type": "markdown",
   "id": "bfa0c83b",
   "metadata": {},
   "source": [
    "Изучим распределение клиентов банка по городам с разделением по признаку оттока."
   ]
  },
  {
   "cell_type": "code",
   "execution_count": 37,
   "id": "2eca46f6",
   "metadata": {},
   "outputs": [
    {
     "data": {
      "image/png": "[encoded data removed]",
      "text/plain": [
       "<Figure size 720x504 with 1 Axes>"
      ]
     },
     "metadata": {
      "needs_background": "light"
     },
     "output_type": "display_data"
    }
   ],
   "source": [
    "plt.figure(figsize=(10, 7))\n",
    "# установка размера графика\n",
    "sns.histplot(data=data, x='city', hue='churn', stat='density', \n",
    "             common_norm=False, discrete=True, palette=['#5d74f4', '#d7526f'])\n",
    "# построение нормализованной гистограммы по значениям столбца ‘city’ датафрейма ‘data’\n",
    "# с разбивкой по столбцу ‘churn’ датафрейма ‘data’\n",
    "plt.title('Распределение клиентов по городам с разбивкой по признаку оттока', fontsize=12)\n",
    "# установка заголовка для графика\n",
    "plt.xlabel('Город', fontsize=11)\n",
    "# установка подписи для горизонтальной оси графика\n",
    "plt.ylabel('Плотность распределения вероятностей', fontsize=11);\n",
    "# установка подписи для вертикальной оси графика"
   ]
  },
  {
   "cell_type": "markdown",
   "id": "9688a5dc",
   "metadata": {},
   "source": [
    "Среди клиентов из Ярославля и Ростова плотность распределения вероятностей выше у тех, кто ушёл из банка."
   ]
  },
  {
   "cell_type": "markdown",
   "id": "a7d5d3cd",
   "metadata": {},
   "source": [
    "<div class=\"alert alert-success\">\n",
    "<b>👍 Успех:</b> Все верно!\n",
    "</div>"
   ]
  },
  {
   "cell_type": "markdown",
   "id": "bdd41f1e",
   "metadata": {},
   "source": [
    "Рассчитаем процент клиентов, которые ушли из банка, отдельно для каждого города. Сравним с общим процентом клиентов, ушедших из банка."
   ]
  },
  {
   "cell_type": "code",
   "execution_count": 38,
   "id": "f5c43543",
   "metadata": {},
   "outputs": [
    {
     "data": {
      "text/html": [
       "<style  type=\"text/css\" >\n",
       "</style><table id=\"T_63839_\" ><thead>    <tr>        <th class=\"blank level0\" ></th>        <th class=\"col_heading level0 col0\" >Город</th>        <th class=\"col_heading level0 col1\" >Процент клиентов, ушедших из банка</th>    </tr></thead><tbody>\n",
       "                <tr>\n",
       "                        <th id=\"T_63839_level0_row0\" class=\"row_heading level0 row0\" >0</th>\n",
       "                        <td id=\"T_63839_row0_col0\" class=\"data row0 col0\" >Рыбинск</td>\n",
       "                        <td id=\"T_63839_row0_col1\" class=\"data row0 col1\" >16.3%</td>\n",
       "            </tr>\n",
       "            <tr>\n",
       "                        <th id=\"T_63839_level0_row1\" class=\"row_heading level0 row1\" >1</th>\n",
       "                        <td id=\"T_63839_row1_col0\" class=\"data row1 col0\" >Ростов</td>\n",
       "                        <td id=\"T_63839_row1_col1\" class=\"data row1 col1\" >18.7%</td>\n",
       "            </tr>\n",
       "            <tr>\n",
       "                        <th id=\"T_63839_level0_row2\" class=\"row_heading level0 row2\" >2</th>\n",
       "                        <td id=\"T_63839_row2_col0\" class=\"data row2 col0\" >Ярославль</td>\n",
       "                        <td id=\"T_63839_row2_col1\" class=\"data row2 col1\" >19.0%</td>\n",
       "            </tr>\n",
       "    </tbody></table>"
      ],
      "text/plain": [
       "<pandas.io.formats.style.Styler at 0x7f380133a4f0>"
      ]
     },
     "execution_count": 38,
     "metadata": {},
     "output_type": "execute_result"
    },
    {
     "data": {
      "image/png": "[encoded data removed]",
      "text/plain": [
       "<Figure size 792x432 with 1 Axes>"
      ]
     },
     "metadata": {
      "needs_background": "light"
     },
     "output_type": "display_data"
    }
   ],
   "source": [
    "churn_by_city = (data.groupby('city')['churn'].mean().sort_values())\n",
    "# группировка данных по столбцу ‘city’ датафрейма ‘data’, вычисление среднего значения столбца ‘churn’ для каждой группы, \n",
    "# сортировка полученных значений\n",
    "fig, ax = plt.subplots(figsize=(11, 6))\n",
    "# установка размера графика\n",
    "(churn_by_city * 100).plot(kind='barh', ax=ax)\n",
    "# построение горизонтального барного графика по ‘churn_by_city’ с умножением на 100\n",
    "plt.axvline(x=(data['churn'].mean() * 100), linestyle='--', color='red', label='Общий процент оттока клиентов банка')\n",
    "# создание вертикального пунктира на графике\n",
    "# расположение пунктирной линии на уровне среднего значения столбца ‘churn’ датафрейма ‘data’\n",
    "plt.legend(fontsize=7.5)\n",
    "# отображение легенды на графике\n",
    "plt.title('Процент оттока клиентов банка в зависимости от города', fontsize=12)\n",
    "# установка заголовка для графика\n",
    "plt.xlabel('Процент оттока клиентов банка', fontsize=10)\n",
    "# установка подписи для горизонтальной оси графика\n",
    "plt.ylabel('Город', fontsize=10);\n",
    "# установка подписи для вертикальной оси графика\n",
    "churn_by_city = churn_by_city.reset_index()\n",
    "# сброс индекса у таблицы ‘churn_by_city’\n",
    "churn_by_city.columns = ['Город', 'Процент клиентов, ушедших из банка']\n",
    "# присваивание названий столбцам таблицы ‘churn_by_city’\n",
    "churn_by_city = churn_by_city.style.format({'Процент клиентов, ушедших из банка': \"{:.1%}\"})\n",
    "# отображение значений столбца ‘Процент клиентов, ушедших из банка’\n",
    "# таблицы ‘churn_by_city’ \n",
    "# с 1-м знаком после запятой и в процентах\n",
    "churn_by_city\n",
    "# вывод таблицы ‘churn_by_city’ на экран"
   ]
  },
  {
   "cell_type": "markdown",
   "id": "1a2f025e",
   "metadata": {},
   "source": [
    "В разных городах процент клиентов, ушедших из банка, отличается. В Рыбинске доля ушедших составляет 16.3%, что меньше общего показателя оттока — 18.2%. В Ростове и Ярославле доля клиентов, ушедших из банка, равна 18.7% и 19% соответственно, что чуть выше общего уровня оттока — 18.2%. Таким образом, клиенты из Ростова и Ярославля более склонны к оттоку."
   ]
  },
  {
   "cell_type": "markdown",
   "id": "0351fc82",
   "metadata": {},
   "source": [
    "<div class=\"alert alert-success\">\n",
    "<b>👍 Успех:</b> Все верно!\n",
    "</div>"
   ]
  },
  {
   "cell_type": "markdown",
   "id": "3d5ce84b",
   "metadata": {},
   "source": [
    "Изучим распределение клиентов банка по количеству баллов кредитного скоринга с разделением по признаку оттока."
   ]
  },
  {
   "cell_type": "code",
   "execution_count": 39,
   "id": "f290142d",
   "metadata": {},
   "outputs": [
    {
     "data": {
      "image/png": "[encoded data removed]",
      "text/plain": [
       "<Figure size 864x576 with 1 Axes>"
      ]
     },
     "metadata": {
      "needs_background": "light"
     },
     "output_type": "display_data"
    }
   ],
   "source": [
    "plt.figure(figsize=(12, 8))\n",
    "# установка размера графика\n",
    "sns.histplot(data=data, x='score', hue='churn', stat='density', common_norm=False, palette=['#5d74f4', '#d7526f'])\n",
    "# построение нормализованной гистограммы по значениям столбца ‘score’ датафрейма ‘data’\n",
    "# с разбивкой по столбцу ‘churn’ датафрейма ‘data’\n",
    "plt.title('Распределение количества баллов кредитного скоринга с разбивкой по признаку оттока', fontsize=14)\n",
    "# установка заголовка для графика\n",
    "plt.xlabel('Количество баллов кредитного скоринга', fontsize=12)\n",
    "# установка подписи для горизонтальной оси графика\n",
    "plt.ylabel('Плотность распределения вероятностей', fontsize=12);\n",
    "# установка подписи для вертикальной оси графика"
   ]
  },
  {
   "cell_type": "markdown",
   "id": "5a485d52",
   "metadata": {},
   "source": [
    "Чаще всего встречаются клиенты банка, у которых кредитный скоринг составляет 850-900 баллов. Меньше всего клиентов с количеством баллов кредитного скоринга, равным 660-680.\n",
    "\n",
    "Плотность распределения вероятностей выше у клиентов, которые ушли из банка, чем у тех, кто остался, с кредитным скорингом от 820 до 910 баллов и от 920 до 940 баллов."
   ]
  },
  {
   "cell_type": "markdown",
   "id": "106aa5c2",
   "metadata": {},
   "source": [
    "<div class=\"alert alert-success\">\n",
    "<b>👍 Успех:</b> Все верно!\n",
    "</div>"
   ]
  },
  {
   "cell_type": "markdown",
   "id": "b8b4f8d8",
   "metadata": {},
   "source": [
    "Изучим распределение клиентов банка по количеству баллов собственности с разделением по признаку оттока."
   ]
  },
  {
   "cell_type": "code",
   "execution_count": 40,
   "id": "41048f4b",
   "metadata": {},
   "outputs": [
    {
     "data": {
      "image/png": "[encoded data removed]",
      "text/plain": [
       "<Figure size 864x576 with 1 Axes>"
      ]
     },
     "metadata": {
      "needs_background": "light"
     },
     "output_type": "display_data"
    }
   ],
   "source": [
    "plt.figure(figsize=(12, 8))\n",
    "# установка размера графика\n",
    "sns.histplot(data=data, x='equity', hue='churn', stat='density', \n",
    "             common_norm=False, discrete=True, palette=['#5d74f4', '#d7526f'])\n",
    "# построение нормализованной гистограммы по значениям столбца ‘equity’ датафрейма ‘data’\n",
    "# с разбивкой по столбцу ‘churn’ датафрейма ‘data’\n",
    "plt.title('Распределение клиентов по количеству баллов собственности с разбивкой по признаку оттока', fontsize=12)\n",
    "# установка заголовка для графика\n",
    "plt.xlabel('Количество баллов собственности', fontsize=11)\n",
    "# установка подписи для горизонтальной оси графика\n",
    "plt.ylabel('Плотность распределения вероятностей', fontsize=11);\n",
    "# установка подписи для вертикальной оси графика"
   ]
  },
  {
   "cell_type": "markdown",
   "id": "fe5fb2e5",
   "metadata": {},
   "source": [
    "Среди клиентов с тремя и более баллами собственности плотность распределения вероятностей выше у тех, кто ушёл из банка."
   ]
  },
  {
   "cell_type": "markdown",
   "id": "13242d4a",
   "metadata": {},
   "source": [
    "<div class=\"alert alert-success\">\n",
    "<b>👍 Успех:</b> Все верно!\n",
    "</div>"
   ]
  },
  {
   "cell_type": "markdown",
   "id": "ce4aeac9",
   "metadata": {},
   "source": [
    "Рассчитаем процент клиентов, которые ушли из банка, по количеству баллов собственности. Сравним с общим процентом клиентов, ушедших из банка."
   ]
  },
  {
   "cell_type": "code",
   "execution_count": 41,
   "id": "2a3111e3",
   "metadata": {},
   "outputs": [
    {
     "data": {
      "text/html": [
       "<style  type=\"text/css\" >\n",
       "</style><table id=\"T_03a80_\" ><thead>    <tr>        <th class=\"blank level0\" ></th>        <th class=\"col_heading level0 col0\" >Кол-во баллов собственности</th>        <th class=\"col_heading level0 col1\" >Процент клиентов, ушедших из банка</th>    </tr></thead><tbody>\n",
       "                <tr>\n",
       "                        <th id=\"T_03a80_level0_row0\" class=\"row_heading level0 row0\" >0</th>\n",
       "                        <td id=\"T_03a80_row0_col0\" class=\"data row0 col0\" >0</td>\n",
       "                        <td id=\"T_03a80_row0_col1\" class=\"data row0 col1\" >3.5%</td>\n",
       "            </tr>\n",
       "            <tr>\n",
       "                        <th id=\"T_03a80_level0_row1\" class=\"row_heading level0 row1\" >1</th>\n",
       "                        <td id=\"T_03a80_row1_col0\" class=\"data row1 col0\" >1</td>\n",
       "                        <td id=\"T_03a80_row1_col1\" class=\"data row1 col1\" >12.0%</td>\n",
       "            </tr>\n",
       "            <tr>\n",
       "                        <th id=\"T_03a80_level0_row2\" class=\"row_heading level0 row2\" >2</th>\n",
       "                        <td id=\"T_03a80_row2_col0\" class=\"data row2 col0\" >2</td>\n",
       "                        <td id=\"T_03a80_row2_col1\" class=\"data row2 col1\" >15.8%</td>\n",
       "            </tr>\n",
       "            <tr>\n",
       "                        <th id=\"T_03a80_level0_row3\" class=\"row_heading level0 row3\" >3</th>\n",
       "                        <td id=\"T_03a80_row3_col0\" class=\"data row3 col0\" >3</td>\n",
       "                        <td id=\"T_03a80_row3_col1\" class=\"data row3 col1\" >20.8%</td>\n",
       "            </tr>\n",
       "            <tr>\n",
       "                        <th id=\"T_03a80_level0_row4\" class=\"row_heading level0 row4\" >4</th>\n",
       "                        <td id=\"T_03a80_row4_col0\" class=\"data row4 col0\" >4</td>\n",
       "                        <td id=\"T_03a80_row4_col1\" class=\"data row4 col1\" >25.1%</td>\n",
       "            </tr>\n",
       "            <tr>\n",
       "                        <th id=\"T_03a80_level0_row5\" class=\"row_heading level0 row5\" >5</th>\n",
       "                        <td id=\"T_03a80_row5_col0\" class=\"data row5 col0\" >5</td>\n",
       "                        <td id=\"T_03a80_row5_col1\" class=\"data row5 col1\" >30.1%</td>\n",
       "            </tr>\n",
       "            <tr>\n",
       "                        <th id=\"T_03a80_level0_row6\" class=\"row_heading level0 row6\" >6</th>\n",
       "                        <td id=\"T_03a80_row6_col0\" class=\"data row6 col0\" >8</td>\n",
       "                        <td id=\"T_03a80_row6_col1\" class=\"data row6 col1\" >35.3%</td>\n",
       "            </tr>\n",
       "            <tr>\n",
       "                        <th id=\"T_03a80_level0_row7\" class=\"row_heading level0 row7\" >7</th>\n",
       "                        <td id=\"T_03a80_row7_col0\" class=\"data row7 col0\" >6</td>\n",
       "                        <td id=\"T_03a80_row7_col1\" class=\"data row7 col1\" >36.0%</td>\n",
       "            </tr>\n",
       "            <tr>\n",
       "                        <th id=\"T_03a80_level0_row8\" class=\"row_heading level0 row8\" >8</th>\n",
       "                        <td id=\"T_03a80_row8_col0\" class=\"data row8 col0\" >7</td>\n",
       "                        <td id=\"T_03a80_row8_col1\" class=\"data row8 col1\" >46.2%</td>\n",
       "            </tr>\n",
       "            <tr>\n",
       "                        <th id=\"T_03a80_level0_row9\" class=\"row_heading level0 row9\" >9</th>\n",
       "                        <td id=\"T_03a80_row9_col0\" class=\"data row9 col0\" >9</td>\n",
       "                        <td id=\"T_03a80_row9_col1\" class=\"data row9 col1\" >53.8%</td>\n",
       "            </tr>\n",
       "    </tbody></table>"
      ],
      "text/plain": [
       "<pandas.io.formats.style.Styler at 0x7f37fb762b50>"
      ]
     },
     "execution_count": 41,
     "metadata": {},
     "output_type": "execute_result"
    },
    {
     "data": {
      "image/png": "[encoded data removed]",
      "text/plain": [
       "<Figure size 864x576 with 1 Axes>"
      ]
     },
     "metadata": {
      "needs_background": "light"
     },
     "output_type": "display_data"
    }
   ],
   "source": [
    "churn_by_equity = (data.groupby('equity')['churn'].mean().sort_values())\n",
    "# группировка данных по столбцу ‘equity’ датафрейма ‘data’, вычисление среднего значения столбца ‘churn’ для каждой группы, \n",
    "# сортировка полученных значений\n",
    "fig, ax = plt.subplots(figsize=(12, 8))\n",
    "# установка размера графика\n",
    "(churn_by_equity * 100).plot(kind='barh', ax=ax)\n",
    "# построение горизонтального барного графика по ‘churn_by_equity’ с умножением на 100\n",
    "plt.axvline(x=(data['churn'].mean() * 100), linestyle='--', color='red', label='Общий процент оттока клиентов банка')\n",
    "# создание вертикального пунктира на графике\n",
    "# расположение пунктирной линии на уровне среднего значения столбца ‘churn’ датафрейма ‘data’\n",
    "plt.legend()\n",
    "# отображение легенды на графике\n",
    "plt.title('Процент оттока клиентов банка в зависимости от количества баллов собственности', fontsize=12)\n",
    "# установка заголовка для графика\n",
    "plt.xlabel('Процент оттока клиентов банка', fontsize=10)\n",
    "# установка подписи для горизонтальной оси графика\n",
    "plt.ylabel('Количество баллов собственности', fontsize=10);\n",
    "# установка подписи для вертикальной оси графика\n",
    "churn_by_equity = churn_by_equity.reset_index()\n",
    "# сброс индекса у таблицы ‘churn_by_equity’\n",
    "churn_by_equity.columns = ['Кол-во баллов собственности', 'Процент клиентов, ушедших из банка']\n",
    "# присваивание названий столбцам таблицы ‘churn_by_equity’\n",
    "churn_by_equity = churn_by_equity.style.format({'Процент клиентов, ушедших из банка': \"{:.1%}\"})\n",
    "# отображение значений столбца ‘Процент клиентов, ушедших из банка’\n",
    "# таблицы ‘churn_by_equity’ \n",
    "# с 1-м знаком после запятой и в процентах\n",
    "churn_by_equity\n",
    "# вывод таблицы ‘churn_by_equity’ на экран"
   ]
  },
  {
   "cell_type": "markdown",
   "id": "8a83d188",
   "metadata": {},
   "source": [
    "Процент клиентов, покинувших банк и имеющих от 0 до 2 баллов собственности, ниже среднего показателя оттока. А процент ушедших из банка клиентов с количеством баллов собственности от 3 до 9 выше среднего значения оттока. То есть, клиенты с тремя и более баллами собственности более склонны к уходу из банка. В основном, чем выше балл собственности, тем больше процент оттока. Наибольший процент оттока характерен для клиентов банка с 9 баллами собственности — 53.8%."
   ]
  },
  {
   "cell_type": "markdown",
   "id": "29f8cfc2",
   "metadata": {},
   "source": [
    "<div class=\"alert alert-success\">\n",
    "<b>👍 Успех:</b> Все верно!\n",
    "</div>"
   ]
  },
  {
   "cell_type": "markdown",
   "id": "e29ffd13",
   "metadata": {},
   "source": [
    "Изучим распределение клиентов банка по балансу на счёте с разделением по признаку оттока."
   ]
  },
  {
   "cell_type": "code",
   "execution_count": 42,
   "id": "a432352a",
   "metadata": {},
   "outputs": [
    {
     "data": {
      "image/png": "[encoded data removed]",
      "text/plain": [
       "<Figure size 864x576 with 1 Axes>"
      ]
     },
     "metadata": {
      "needs_background": "light"
     },
     "output_type": "display_data"
    }
   ],
   "source": [
    "plt.figure(figsize=(12, 8))\n",
    "# установка размера графика\n",
    "sns.histplot(data=data, x='balance', hue='churn', stat='density', common_norm=False, bins=1200, palette=['#5d74f4', '#d7526f'])\n",
    "# построение нормализованной гистограммы по значениям столбца ‘balance’ датафрейма ‘data’\n",
    "# с разбивкой по столбцу ‘churn’ датафрейма ‘data’\n",
    "plt.xlim(0, 5000000)\n",
    "# ограничение горизонтальной оси графика до 5 млн.\n",
    "plt.title('Распределение балансов на счетах с разбивкой по признаку оттока', fontsize=14)\n",
    "# установка заголовка для графика\n",
    "plt.xlabel('Баланс на счёте', fontsize=12)\n",
    "# установка подписи для горизонтальной оси графика\n",
    "plt.ylabel('Плотность распределения вероятностей', fontsize=12);\n",
    "# установка подписи для вертикальной оси графика"
   ]
  },
  {
   "cell_type": "markdown",
   "id": "3a8567f6",
   "metadata": {},
   "source": [
    "Гистограмма имеет длинный хвост в правой части, так как в наборе данных есть значения баланса на счёте, которые значительно больше среднего. Для наглядности на графике баланс ограничен пятью миллионами. Чаще всего остатки на счетах клиентов банка находятся в диапазоне от нуля до 800 тысяч.\n",
    "\n",
    "Вероятность ухода из банка выше среди клиентов с более высоким балансом на счёте — от 700 тысяч."
   ]
  },
  {
   "cell_type": "markdown",
   "id": "b73c5d0f",
   "metadata": {},
   "source": [
    "<div class=\"alert alert-success\">\n",
    "<b>👍 Успех:</b> Все верно!\n",
    "</div>"
   ]
  },
  {
   "cell_type": "markdown",
   "id": "b6fe7ac6",
   "metadata": {},
   "source": [
    "Изучим распределение клиентов банка по количеству используемых банковских продуктов с разделением по признаку оттока."
   ]
  },
  {
   "cell_type": "code",
   "execution_count": 43,
   "id": "13b28a3c",
   "metadata": {},
   "outputs": [
    {
     "data": {
      "image/png": "[encoded data removed]",
      "text/plain": [
       "<Figure size 864x576 with 1 Axes>"
      ]
     },
     "metadata": {
      "needs_background": "light"
     },
     "output_type": "display_data"
    }
   ],
   "source": [
    "plt.figure(figsize=(12, 8))\n",
    "# установка размера графика\n",
    "sns.histplot(data=data, x='products', hue='churn', stat='density', \n",
    "             common_norm=False, discrete=True, palette=['#5d74f4', '#d7526f'])\n",
    "# построение нормализованной гистограммы по значениям столбца ‘products’ датафрейма ‘data’\n",
    "# с разбивкой по столбцу ‘churn’ датафрейма ‘data’\n",
    "plt.title('Распределение клиентов по количеству используемых продуктов с разбивкой по признаку оттока', fontsize=12)\n",
    "# установка заголовка для графика\n",
    "plt.xlabel('Количество используемых продуктов', fontsize=11)\n",
    "# установка подписи для горизонтальной оси графика\n",
    "plt.ylabel('Плотность распределения вероятностей', fontsize=11);\n",
    "# установка подписи для вертикальной оси графика"
   ]
  },
  {
   "cell_type": "markdown",
   "id": "39830819",
   "metadata": {},
   "source": [
    "Среди клиентов, пользующихся двумя и более продуктами, плотность распределения вероятностей выше у тех, кто ушёл из банка."
   ]
  },
  {
   "cell_type": "markdown",
   "id": "a2615cd5",
   "metadata": {},
   "source": [
    "<div class=\"alert alert-success\">\n",
    "<b>👍 Успех:</b> Все верно!\n",
    "</div>"
   ]
  },
  {
   "cell_type": "markdown",
   "id": "73c05df3",
   "metadata": {},
   "source": [
    "Рассчитаем процент клиентов, которые ушли из банка, по количеству используемых продуктов. Сравним с общим процентом клиентов, ушедших из банка."
   ]
  },
  {
   "cell_type": "code",
   "execution_count": 44,
   "id": "a1d511c1",
   "metadata": {},
   "outputs": [
    {
     "data": {
      "text/html": [
       "<style  type=\"text/css\" >\n",
       "</style><table id=\"T_b3d93_\" ><thead>    <tr>        <th class=\"blank level0\" ></th>        <th class=\"col_heading level0 col0\" >Кол-во банковских продуктов</th>        <th class=\"col_heading level0 col1\" >Процент клиентов, ушедших из банка</th>    </tr></thead><tbody>\n",
       "                <tr>\n",
       "                        <th id=\"T_b3d93_level0_row0\" class=\"row_heading level0 row0\" >0</th>\n",
       "                        <td id=\"T_b3d93_row0_col0\" class=\"data row0 col0\" >1</td>\n",
       "                        <td id=\"T_b3d93_row0_col1\" class=\"data row0 col1\" >7.1%</td>\n",
       "            </tr>\n",
       "            <tr>\n",
       "                        <th id=\"T_b3d93_level0_row1\" class=\"row_heading level0 row1\" >1</th>\n",
       "                        <td id=\"T_b3d93_row1_col0\" class=\"data row1 col0\" >2</td>\n",
       "                        <td id=\"T_b3d93_row1_col1\" class=\"data row1 col1\" >19.1%</td>\n",
       "            </tr>\n",
       "            <tr>\n",
       "                        <th id=\"T_b3d93_level0_row2\" class=\"row_heading level0 row2\" >2</th>\n",
       "                        <td id=\"T_b3d93_row2_col0\" class=\"data row2 col0\" >3</td>\n",
       "                        <td id=\"T_b3d93_row2_col1\" class=\"data row2 col1\" >28.6%</td>\n",
       "            </tr>\n",
       "            <tr>\n",
       "                        <th id=\"T_b3d93_level0_row3\" class=\"row_heading level0 row3\" >3</th>\n",
       "                        <td id=\"T_b3d93_row3_col0\" class=\"data row3 col0\" >5</td>\n",
       "                        <td id=\"T_b3d93_row3_col1\" class=\"data row3 col1\" >42.1%</td>\n",
       "            </tr>\n",
       "            <tr>\n",
       "                        <th id=\"T_b3d93_level0_row4\" class=\"row_heading level0 row4\" >4</th>\n",
       "                        <td id=\"T_b3d93_row4_col0\" class=\"data row4 col0\" >4</td>\n",
       "                        <td id=\"T_b3d93_row4_col1\" class=\"data row4 col1\" >63.3%</td>\n",
       "            </tr>\n",
       "    </tbody></table>"
      ],
      "text/plain": [
       "<pandas.io.formats.style.Styler at 0x7f3801430e20>"
      ]
     },
     "execution_count": 44,
     "metadata": {},
     "output_type": "execute_result"
    },
    {
     "data": {
      "image/png": "[encoded data removed]",
      "text/plain": [
       "<Figure size 864x576 with 1 Axes>"
      ]
     },
     "metadata": {
      "needs_background": "light"
     },
     "output_type": "display_data"
    }
   ],
   "source": [
    "churn_by_products = (data.groupby('products')['churn'].mean().sort_values())\n",
    "# группировка данных по столбцу ‘products’ датафрейма ‘data’, вычисление среднего значения столбца ‘churn’ для каждой группы, \n",
    "# сортировка полученных значений\n",
    "fig, ax = plt.subplots(figsize=(12, 8))\n",
    "# установка размера графика\n",
    "(churn_by_products * 100).plot(kind='barh', ax=ax)\n",
    "# построение горизонтального барного графика по ‘churn_by_products’ с умножением на 100\n",
    "plt.axvline(x=(data['churn'].mean() * 100), linestyle='--', color='red', label='Общий процент оттока клиентов банка')\n",
    "# создание вертикального пунктира на графике\n",
    "# расположение пунктирной линии на уровне среднего значения столбца ‘churn’ датафрейма ‘data’\n",
    "plt.legend()\n",
    "# отображение легенды на графике\n",
    "plt.title('Процент оттока клиентов банка в зависимости от количества используемых банковских продуктов', fontsize=12)\n",
    "# установка заголовка для графика\n",
    "plt.xlabel('Процент оттока клиентов банка', fontsize=10)\n",
    "# установка подписи для горизонтальной оси графика\n",
    "plt.ylabel('Количество банковских продуктов', fontsize=10);\n",
    "# установка подписи для вертикальной оси графика\n",
    "churn_by_products = churn_by_products.reset_index()\n",
    "# сброс индекса у таблицы ‘churn_by_products’\n",
    "churn_by_products.columns = ['Кол-во банковских продуктов', 'Процент клиентов, ушедших из банка']\n",
    "# присваивание названий столбцам таблицы ‘churn_by_products’\n",
    "churn_by_products = churn_by_products.style.format({'Процент клиентов, ушедших из банка': \"{:.1%}\"})\n",
    "# отображение значений столбца ‘Процент клиентов, ушедших из банка’\n",
    "# таблицы ‘churn_by_products’ \n",
    "# с 1-м знаком после запятой и в процентах\n",
    "churn_by_products\n",
    "# вывод таблицы ‘churn_by_products’ на экран"
   ]
  },
  {
   "cell_type": "markdown",
   "id": "1c6a8a4e",
   "metadata": {},
   "source": [
    "Клиенты, использующие несколько банковских продуктов, более склонны к уходу из банка. Процент оттока клиентов банка, пользующихся одним банковским продуктом, ниже общего процента оттока клиентов. Среди клиентов, которые пользуются двумя и более банковскими продуктами, процент оттока выше общего показателя оттока. Всех выше процент оттока у тех, кто пользуется четырьмя продуктами, — 63.3%."
   ]
  },
  {
   "cell_type": "markdown",
   "id": "a02e1067",
   "metadata": {},
   "source": [
    "<div class=\"alert alert-success\">\n",
    "<b>👍 Успех:</b> Все верно!\n",
    "</div>"
   ]
  },
  {
   "cell_type": "markdown",
   "id": "b0937faa",
   "metadata": {},
   "source": [
    "Изучим распределение клиентов банка по наличию кредитной карты с разделением по признаку оттока."
   ]
  },
  {
   "cell_type": "code",
   "execution_count": 45,
   "id": "e221a04b",
   "metadata": {},
   "outputs": [
    {
     "data": {
      "image/png": "[encoded data removed]",
      "text/plain": [
       "<Figure size 504x432 with 1 Axes>"
      ]
     },
     "metadata": {
      "needs_background": "light"
     },
     "output_type": "display_data"
    }
   ],
   "source": [
    "plt.figure(figsize=(7, 6))\n",
    "# установка размера графика\n",
    "sns.histplot(data=data, x='credit_card', hue='churn', stat='density', \n",
    "             common_norm=False, discrete=True, palette=['#5d74f4', '#d7526f'])\n",
    "# построение нормализованной гистограммы по значениям столбца ‘credit_card’ датафрейма ‘data’\n",
    "# с разбивкой по столбцу ‘churn’ датафрейма ‘data’\n",
    "plt.title('Распределение клиентов по наличию кредитной карты с разбивкой по признаку оттока', fontsize=10)\n",
    "# установка заголовка для графика\n",
    "plt.xlabel('Наличие кредитной карты', fontsize=9)\n",
    "# установка подписи для горизонтальной оси графика\n",
    "plt.ylabel('Плотность распределения вероятностей', fontsize=9);\n",
    "# установка подписи для вертикальной оси графика"
   ]
  },
  {
   "cell_type": "markdown",
   "id": "3cdbfed5",
   "metadata": {},
   "source": [
    "Среди клиентов, не имеющих кредитной карты, плотность распределения вероятностей выше у тех, кто ушёл из банка."
   ]
  },
  {
   "cell_type": "markdown",
   "id": "591109db",
   "metadata": {},
   "source": [
    "<div class=\"alert alert-success\">\n",
    "<b>👍 Успех:</b> Все верно!\n",
    "</div>"
   ]
  },
  {
   "cell_type": "markdown",
   "id": "6e2b0004",
   "metadata": {},
   "source": [
    "Рассчитаем процент клиентов, которые ушли из банка, по наличию кредитной карты. Сравним с общим процентом клиентов, ушедших из банка."
   ]
  },
  {
   "cell_type": "code",
   "execution_count": 46,
   "id": "ee5423b0",
   "metadata": {},
   "outputs": [
    {
     "data": {
      "text/html": [
       "<style  type=\"text/css\" >\n",
       "</style><table id=\"T_56f6c_\" ><thead>    <tr>        <th class=\"blank level0\" ></th>        <th class=\"col_heading level0 col0\" >Наличие кредитной карты</th>        <th class=\"col_heading level0 col1\" >Процент клиентов, ушедших из банка</th>    </tr></thead><tbody>\n",
       "                <tr>\n",
       "                        <th id=\"T_56f6c_level0_row0\" class=\"row_heading level0 row0\" >0</th>\n",
       "                        <td id=\"T_56f6c_row0_col0\" class=\"data row0 col0\" >1</td>\n",
       "                        <td id=\"T_56f6c_row0_col1\" class=\"data row0 col1\" >14.8%</td>\n",
       "            </tr>\n",
       "            <tr>\n",
       "                        <th id=\"T_56f6c_level0_row1\" class=\"row_heading level0 row1\" >1</th>\n",
       "                        <td id=\"T_56f6c_row1_col0\" class=\"data row1 col0\" >0</td>\n",
       "                        <td id=\"T_56f6c_row1_col1\" class=\"data row1 col1\" >25.6%</td>\n",
       "            </tr>\n",
       "    </tbody></table>"
      ],
      "text/plain": [
       "<pandas.io.formats.style.Styler at 0x7f380385edc0>"
      ]
     },
     "execution_count": 46,
     "metadata": {},
     "output_type": "execute_result"
    },
    {
     "data": {
      "image/png": "[encoded data removed]",
      "text/plain": [
       "<Figure size 1152x216 with 1 Axes>"
      ]
     },
     "metadata": {
      "needs_background": "light"
     },
     "output_type": "display_data"
    }
   ],
   "source": [
    "churn_by_credit_card = (data.groupby('credit_card')['churn'].mean().sort_values())\n",
    "# группировка данных по столбцу ‘credit_card’ датафрейма ‘data’, вычисление среднего значения столбца ‘churn’ для каждой группы, \n",
    "# сортировка полученных значений\n",
    "fig, ax = plt.subplots(figsize=(16, 3))\n",
    "# установка размера графика\n",
    "(churn_by_credit_card * 100).plot(kind='barh', ax=ax)\n",
    "# построение горизонтального барного графика по ‘churn_by_credit_card’ с умножением на 100\n",
    "plt.axvline(x=(data['churn'].mean() * 100), linestyle='--', color='red', label='Общий процент оттока клиентов банка')\n",
    "# создание вертикального пунктира на графике\n",
    "# расположение пунктирной линии на уровне среднего значения столбца ‘churn’ датафрейма ‘data’\n",
    "plt.legend()\n",
    "# отображение легенды на графике\n",
    "plt.title('Процент оттока клиентов банка в зависимости от наличия кредитной карты', fontsize=12)\n",
    "# установка заголовка для графика\n",
    "plt.xlabel('Процент оттока клиентов банка', fontsize=10)\n",
    "# установка подписи для горизонтальной оси графика\n",
    "plt.ylabel('Наличие кредитной карты', fontsize=10);\n",
    "# установка подписи для вертикальной оси графика\n",
    "churn_by_credit_card = churn_by_credit_card.reset_index()\n",
    "# сброс индекса у таблицы ‘churn_by_credit_card’\n",
    "churn_by_credit_card.columns = ['Наличие кредитной карты', 'Процент клиентов, ушедших из банка']\n",
    "# присваивание названий столбцам таблицы ‘churn_by_credit_card’\n",
    "churn_by_credit_card = churn_by_credit_card.style.format({'Процент клиентов, ушедших из банка': \"{:.1%}\"})\n",
    "# отображение значений столбца ‘Процент клиентов, ушедших из банка’\n",
    "# таблицы ‘churn_by_credit_card’ \n",
    "# с 1-м знаком после запятой и в процентах\n",
    "churn_by_credit_card\n",
    "# вывод таблицы ‘churn_by_credit_card’ на экран"
   ]
  },
  {
   "cell_type": "markdown",
   "id": "d882c8d2",
   "metadata": {},
   "source": [
    "У клиентов с кредитными картами процент ушедших из банка составляет 14.8%, что меньше общего процента оттока (18.2%). Процент ушедших из банка клиентов без кредитных карт превышает общий процент оттока — 25.6%. Таким образом, клиенты, не имеющие кредитных карт, более склонны к оттоку."
   ]
  },
  {
   "cell_type": "markdown",
   "id": "ab3a2111",
   "metadata": {},
   "source": [
    "Изучим распределение клиентов банка по проявлению активности с разделением по признаку оттока."
   ]
  },
  {
   "cell_type": "code",
   "execution_count": 47,
   "id": "c11df5b2",
   "metadata": {},
   "outputs": [
    {
     "data": {
      "image/png": "[encoded data removed]",
      "text/plain": [
       "<Figure size 504x432 with 1 Axes>"
      ]
     },
     "metadata": {
      "needs_background": "light"
     },
     "output_type": "display_data"
    }
   ],
   "source": [
    "plt.figure(figsize=(7, 6))\n",
    "# установка размера графика\n",
    "sns.histplot(data=data, x='last_activity', hue='churn', stat='density', \n",
    "             common_norm=False, discrete=True, palette=['#5d74f4', '#d7526f'])\n",
    "# построение нормализованной гистограммы по значениям столбца ‘last_activity’ датафрейма ‘data’\n",
    "# с разбивкой по столбцу ‘churn’ датафрейма ‘data’\n",
    "plt.title('Распределение клиентов по проявлению активности с разбивкой по признаку оттока', fontsize=10)\n",
    "# установка заголовка для графика\n",
    "plt.xlabel('Проявление активности', fontsize=9)\n",
    "# установка подписи для горизонтальной оси графика\n",
    "plt.ylabel('Плотность распределения вероятностей', fontsize=9);\n",
    "# установка подписи для вертикальной оси графика"
   ]
  },
  {
   "cell_type": "markdown",
   "id": "7075c9ae",
   "metadata": {},
   "source": [
    "Среди активных клиентов плотность распределения вероятностей выше у тех, кто ушёл из банка."
   ]
  },
  {
   "cell_type": "markdown",
   "id": "399b43db",
   "metadata": {},
   "source": [
    "<div class=\"alert alert-success\">\n",
    "<b>👍 Успех:</b> Все верно!\n",
    "</div>"
   ]
  },
  {
   "cell_type": "markdown",
   "id": "2511abe6",
   "metadata": {},
   "source": [
    "Рассчитаем процент клиентов, которые ушли из банка, по проявлению активности. Сравним с общим процентом клиентов, ушедших из банка."
   ]
  },
  {
   "cell_type": "code",
   "execution_count": 48,
   "id": "4f9bc909",
   "metadata": {},
   "outputs": [
    {
     "data": {
      "text/html": [
       "<style  type=\"text/css\" >\n",
       "</style><table id=\"T_7612e_\" ><thead>    <tr>        <th class=\"blank level0\" ></th>        <th class=\"col_heading level0 col0\" >Проявление активности</th>        <th class=\"col_heading level0 col1\" >Процент клиентов, ушедших из банка</th>    </tr></thead><tbody>\n",
       "                <tr>\n",
       "                        <th id=\"T_7612e_level0_row0\" class=\"row_heading level0 row0\" >0</th>\n",
       "                        <td id=\"T_7612e_row0_col0\" class=\"data row0 col0\" >0</td>\n",
       "                        <td id=\"T_7612e_row0_col1\" class=\"data row0 col1\" >11.4%</td>\n",
       "            </tr>\n",
       "            <tr>\n",
       "                        <th id=\"T_7612e_level0_row1\" class=\"row_heading level0 row1\" >1</th>\n",
       "                        <td id=\"T_7612e_row1_col0\" class=\"data row1 col0\" >1</td>\n",
       "                        <td id=\"T_7612e_row1_col1\" class=\"data row1 col1\" >24.5%</td>\n",
       "            </tr>\n",
       "    </tbody></table>"
      ],
      "text/plain": [
       "<pandas.io.formats.style.Styler at 0x7f38036faf40>"
      ]
     },
     "execution_count": 48,
     "metadata": {},
     "output_type": "execute_result"
    },
    {
     "data": {
      "image/png": "[encoded data removed]",
      "text/plain": [
       "<Figure size 1152x216 with 1 Axes>"
      ]
     },
     "metadata": {
      "needs_background": "light"
     },
     "output_type": "display_data"
    }
   ],
   "source": [
    "churn_by_last_activity = (data.groupby('last_activity')['churn'].mean().sort_values())\n",
    "# группировка данных по столбцу ‘last_activity’ датафрейма ‘data’,\n",
    "# вычисление среднего значения столбца ‘churn’ для каждой группы,\n",
    "# сортировка полученных значений\n",
    "fig, ax = plt.subplots(figsize=(16, 3))\n",
    "# установка размера графика\n",
    "(churn_by_last_activity * 100).plot(kind='barh', ax=ax)\n",
    "# построение горизонтального барного графика по ‘churn_by_last_activity’ с умножением на 100\n",
    "plt.axvline(x=(data['churn'].mean() * 100), linestyle='--', color='red', label='Общий процент оттока клиентов банка')\n",
    "# создание вертикального пунктира на графике\n",
    "# расположение пунктирной линии на уровне среднего значения столбца ‘churn’ датафрейма ‘data’\n",
    "plt.legend()\n",
    "# отображение легенды на графике\n",
    "plt.title('Процент оттока клиентов банка в зависимости от проявления активности в последнее время', fontsize=12)\n",
    "# установка заголовка для графика\n",
    "plt.xlabel('Процент оттока клиентов банка', fontsize=10)\n",
    "# установка подписи для горизонтальной оси графика\n",
    "plt.ylabel('Проявление активности', fontsize=10);\n",
    "# установка подписи для вертикальной оси графика\n",
    "churn_by_last_activity = churn_by_last_activity.reset_index()\n",
    "# сброс индекса у таблицы ‘churn_by_last_activity’\n",
    "churn_by_last_activity.columns = ['Проявление активности', 'Процент клиентов, ушедших из банка']\n",
    "# присваивание названий столбцам таблицы ‘churn_by_last_activity’\n",
    "churn_by_last_activity = churn_by_last_activity.style.format({'Процент клиентов, ушедших из банка': \"{:.1%}\"})\n",
    "# отображение значений столбца ‘Процент клиентов, ушедших из банка’\n",
    "# таблицы ‘churn_by_last_activity’ \n",
    "# с 1-м знаком после запятой и в процентах\n",
    "churn_by_last_activity\n",
    "# вывод таблицы ‘churn_by_last_activity’ на экран"
   ]
  },
  {
   "cell_type": "markdown",
   "id": "dfc60282",
   "metadata": {},
   "source": [
    "Среди клиентов банка, которые не совершали активных действий в последнее время (не было движения средств), доля оттока составляет 11.4%, что ниже общего показателя оттока (18.2%). У тех клиентов, кто был активным в последнее время, доля оттока составляет 24.5%, что превышает общий процент оттока. Это указывает на то, что активные клиенты банка более склонны к оттоку."
   ]
  },
  {
   "cell_type": "markdown",
   "id": "3ee5c98d",
   "metadata": {},
   "source": [
    "Изучим распределение клиентов банка по оценочному доходу с разделением по признаку оттока."
   ]
  },
  {
   "cell_type": "code",
   "execution_count": 49,
   "id": "ce9c6d8a",
   "metadata": {},
   "outputs": [
    {
     "data": {
      "image/png": "[encoded data removed]",
      "text/plain": [
       "<Figure size 864x576 with 1 Axes>"
      ]
     },
     "metadata": {
      "needs_background": "light"
     },
     "output_type": "display_data"
    }
   ],
   "source": [
    "plt.figure(figsize=(12, 8))\n",
    "# установка размера графика\n",
    "sns.histplot(data=data, x='est_salary', hue='churn', stat='density', common_norm=False, \n",
    "             bins=145, palette=['#5d74f4', '#d7526f'])\n",
    "# построение нормализованной гистограммы по значениям столбца ‘est_salary’ датафрейма ‘data’\n",
    "# с разбивкой по столбцу ‘churn’ датафрейма ‘data’\n",
    "plt.xlim(0, 600000)\n",
    "# ограничение горизонтальной оси графика до 600 тыс.\n",
    "plt.title('Распределение оценочных доходов клиентов с разбивкой по признаку оттока', fontsize=14)\n",
    "# установка заголовка для графика\n",
    "plt.xlabel('Оценочный доход', fontsize=12)\n",
    "# установка подписи для горизонтальной оси графика\n",
    "plt.ylabel('Плотность распределения вероятностей', fontsize=12);\n",
    "# установка подписи для вертикальной оси графика"
   ]
  },
  {
   "cell_type": "markdown",
   "id": "777d303f",
   "metadata": {},
   "source": [
    "Гистограмма имеет длинный правый «хвост», так как в датасете присутствуют значения оценочного дохода, значительно превышающие среднее значение. Для наглядности на графике доход ограничен 600 тысячами. Чаще всего клиенты оценивают свой доход в пределах от 50 до 150 тысяч.\n",
    "\n",
    "Вероятность ухода из банка выше среди клиентов с оценочным доходом от 100 до 210 тысяч."
   ]
  },
  {
   "cell_type": "markdown",
   "id": "18cf5586",
   "metadata": {},
   "source": [
    "<div class=\"alert alert-success\">\n",
    "<b>👍 Успех:</b> Все верно!\n",
    "</div>"
   ]
  },
  {
   "cell_type": "markdown",
   "id": "8c0be016",
   "metadata": {},
   "source": [
    "### Составление и сравнение портретов типичных клиентов, которые склонны и не склонны уходить из банка"
   ]
  },
  {
   "cell_type": "markdown",
   "id": "445ca93e",
   "metadata": {},
   "source": [
    "Портрет типичных клиентов, которые менее склонны к уходу из банка:\n",
    "\n",
    "- женщины;\n",
    "\n",
    "- 18-23 года, 37-49 лет, 61-86 лет;\n",
    "\n",
    "- город Рыбинск;\n",
    "\n",
    "- кредитный скоринг: 642-819 баллов, 911-919 баллов, 941-1000 баллов;\n",
    "\n",
    "- 0-2 балла собственности;\n",
    "\n",
    "- баланс на счёте: от 0 до 700 тыс.;\n",
    "\n",
    "- 1 банковский продукт;\n",
    "\n",
    "- есть кредитная карта;\n",
    "\n",
    "- неактивные клиенты;\n",
    "\n",
    "- оценочный доход: от 2 тыс. 546 до 100 тыс.\n",
    "\n",
    "Портрет типичных клиентов, которые более склонны к уходу из банка:\n",
    "\n",
    "- мужчины;\n",
    "\n",
    "- 24-36 лет, 50-60 лет;\n",
    "\n",
    "- город Ростов, город Ярославль;\n",
    "\n",
    "- кредитный скоринг: 820-910 баллов, 920-940 баллов;\n",
    "\n",
    "- 3-9 баллов собственности;\n",
    "\n",
    "- баланс на счёте: от 700 тыс.;\n",
    "\n",
    "- 2-5 банковских продуктов;\n",
    "\n",
    "- нет кредитной карты;\n",
    "\n",
    "- активные клиенты;\n",
    "\n",
    "- оценочный доход: 100-210 тыс."
   ]
  },
  {
   "cell_type": "markdown",
   "id": "9037e630",
   "metadata": {},
   "source": [
    "<div class=\"alert alert-success\">\n",
    "<b>👍 Успех:</b> Все верно!\n",
    "</div>"
   ]
  },
  {
   "cell_type": "markdown",
   "id": "6ec5d7ff",
   "metadata": {},
   "source": [
    "<strike> Рассчитем процент оттока клиентов, менее и более склонных к уходу из банка по всем признакам. </strike>"
   ]
  },
  {
   "cell_type": "code",
   "execution_count": 50,
   "id": "71a96bbb",
   "metadata": {},
   "outputs": [],
   "source": [
    "# print('Доля оттока клиентов, менее склонных к уходу из банка:', \n",
    "# round(data.query('(gender == \"Ж\") and ((age <= 23) or (age >= 37 and age <= 49) or (age >= 61)) \\\n",
    "# and (city == \"Рыбинск\") and ((score >= 642 and score <= 819) or (score >= 911 and score <= 919) or (score >= 941)) \\\n",
    "# and (equity <= 2) and (balance < 700000) and (products == 1) and (credit_card == 1) and (last_activity == 0) \\\n",
    "# and (est_salary <= 100000)')['churn'].mean() * 100), '%')\n",
    "# задание условий для значений столбцов датафрейма ‘data’\n",
    "# вычисление среднего значения столбца ‘churn’ датафрейма ‘data’ и умножение на 100\n",
    "# print('Доля оттока клиентов, более склонных к уходу из банка:', \n",
    "# round(data.query('(gender == \"М\") and ((age >= 24 and age <= 36) or (age >= 50 and age <= 60)) \\\n",
    "# and (city == \"Ростов\" or city == \"Ярославль\") and ((score >= 820 and score <= 910) or (score >= 920 and score <= 940)) \\\n",
    "# and (equity >= 3) and (balance >= 700000) and (products >= 2) and (credit_card == 0) and (last_activity == 1) \\\n",
    "# and (est_salary >= 100000 and est_salary <= 210000)')['churn'].mean() * 100), '%')\n",
    "# задание условий для значений столбцов датафрейма ‘data’\n",
    "# вычисление среднего значения столбца ‘churn’ датафрейма ‘data’ и умножение на 100"
   ]
  },
  {
   "cell_type": "markdown",
   "id": "0308ad00",
   "metadata": {},
   "source": [
    "<div class=\"alert alert-info\"> <b>🎓 Комментарий студента: </b> \n",
    "    \n",
    "Рассчитем количество клиентов, менее и более склонных к уходу из банка по всем признакам.\n",
    "Также рассчитем количество и процент ушедших из банка клиентов среди клиентов, менее склонных к уходу из банка по всем признакам, и среди клиентов, более склонных к уходу из банка по всем признакам.\n",
    "\n",
    "</div>"
   ]
  },
  {
   "cell_type": "code",
   "execution_count": 51,
   "id": "bfca1437",
   "metadata": {},
   "outputs": [
    {
     "name": "stdout",
     "output_type": "stream",
     "text": [
      "Общее количество клиентов, менее склонных к уходу из банка по всем признакам: 4\n",
      "Количество ушедших из банка клиентов среди всех клиентов, менее склонных к уходу из банка по всем признакам: 0\n",
      "Процент ушедших из банка клиентов от общего числа клиентов, менее склонных к уходу из банка по всем признакам: 0 %\n",
      "Общее количество клиентов, более склонных к уходу из банка по всем признакам: 50\n",
      "Количество ушедших из банка клиентов среди всех клиентов, более склонных к уходу из банка по всем признакам: 44\n",
      "Процент ушедших из банка клиентов от общего числа клиентов, более склонных к уходу из банка по всем признакам: 88 %\n"
     ]
    }
   ],
   "source": [
    "clients_less_prone_to_churn = data.query('(gender == \"Ж\") and ((age <= 23) or (age >= 37 and age <= 49) or (age >= 61)) \\\n",
    "and (city == \"Рыбинск\") and ((score >= 642 and score <= 819) or (score >= 911 and score <= 919) or (score >= 941)) \\\n",
    "and (equity <= 2) and (balance < 700000) and (products == 1) and (credit_card == 1) and (last_activity == 0) \\\n",
    "and (est_salary <= 100000)')\n",
    "# задание условий для значений столбцов датафрейма ‘data’\n",
    "# запись в переменную ‘clients_less_prone_to_churn’ отфильтрованного датафрейма ‘data’\n",
    "clients_more_prone_to_churn = data.query('(gender == \"М\") and ((age >= 24 and age <= 36) or (age >= 50 and age <= 60)) \\\n",
    "and (city == \"Ростов\" or city == \"Ярославль\") and ((score >= 820 and score <= 910) or (score >= 920 and score <= 940)) \\\n",
    "and (equity >= 3) and (balance >= 700000) and (products >= 2) and (credit_card == 0) and (last_activity == 1) \\\n",
    "and (est_salary >= 100000 and est_salary <= 210000)')\n",
    "# задание условий для значений столбцов датафрейма ‘data’\n",
    "# запись в переменную ‘clients_more_prone_to_churn’ отфильтрованного датафрейма ‘data’\n",
    "print('Общее количество клиентов, менее склонных к уходу из банка по всем признакам:', len(clients_less_prone_to_churn))\n",
    "# вычисление длины датафрейма ‘clients_less_prone_to_churn’\n",
    "print('Количество ушедших из банка клиентов среди всех клиентов, менее склонных к уходу из банка по всем признакам:', \n",
    "len(clients_less_prone_to_churn.query('churn == 1')))\n",
    "# вычисление длины датафрейма ‘clients_less_prone_to_churn’ с условием, что значения столбца ‘churn’ равны 1\n",
    "print('Процент ушедших из банка клиентов от общего числа клиентов, менее склонных к уходу из банка по всем признакам:', \n",
    "round(clients_less_prone_to_churn['churn'].mean() * 100), '%')\n",
    "# вычисление среднего значения столбца ‘churn’ датафрейма ‘clients_less_prone_to_churn’, умножение на 100 и округление\n",
    "print('Общее количество клиентов, более склонных к уходу из банка по всем признакам:', \n",
    "len(clients_more_prone_to_churn))\n",
    "# вычисление длины датафрейма ‘clients_more_prone_to_churn’\n",
    "print('Количество ушедших из банка клиентов среди всех клиентов, более склонных к уходу из банка по всем признакам:', \n",
    "len(clients_more_prone_to_churn.query('churn == 1')))\n",
    "# вычисление длины датафрейма ‘clients_more_prone_to_churn’ с условием, что значения столбца ‘churn’ равны 1\n",
    "print('Процент ушедших из банка клиентов от общего числа клиентов, более склонных к уходу из банка по всем признакам:', \n",
    "round(clients_more_prone_to_churn['churn'].mean() * 100), '%')\n",
    "# вычисление среднего значения столбца ‘churn’ датафрейма ‘clients_more_prone_to_churn’, умножение на 100 и округление"
   ]
  },
  {
   "cell_type": "markdown",
   "id": "c9b4d27b",
   "metadata": {},
   "source": [
    "<strike> Доля оттока клиентов, которые менее склонны к уходу из банка, составляет 0%, в то время как для клиентов, более склонных к уходу, этот показатель равен 88%. </strike>"
   ]
  },
  {
   "cell_type": "markdown",
   "id": "58df7c2b",
   "metadata": {},
   "source": [
    "<div class=\"alert alert-info\"> <b>🎓 Комментарий студента: </b> \n",
    "    \n",
    "Четверо клиентов полностью подходят под описание тех, кто менее склонен к уходу из банка. Все они являются действующими клиентами банка — 0% составляют ушедшие из банка клиенты от общего числа клиентов, менее склонных к уходу из банка по всем признакам.\n",
    "    \n",
    "50 клиентов полностью подходят под описание тех, кто более склонен к уходу из банка. 44 из них являются бывшими клиентами банка — 88% составляют ушедшие из банка клиенты от общего числа клиентов, более склонных к уходу из банка по всем признакам.\n",
    "\n",
    "</div>"
   ]
  },
  {
   "cell_type": "markdown",
   "id": "c5c03845",
   "metadata": {},
   "source": [
    " <div class=\"alert alert-success\">\n",
    " <b>👍 Успех:</b> Все верно! Обрати внимание как сильно отличаются по смыслу предыдущий вывод и этот. Важно писать все конкретно\n",
    " </div>"
   ]
  },
  {
   "cell_type": "markdown",
   "id": "703528f7",
   "metadata": {},
   "source": [
    "<div class=\"alert alert-danger\">\n",
    "<s><b>😔 Необходимо исправить:</b> Сколько клиентов удовлетворяют этим условиям? Ты рассчитала процент от чего?</s>\n",
    "</div>"
   ]
  },
  {
   "cell_type": "markdown",
   "id": "149876c8",
   "metadata": {},
   "source": [
    "### Корреляционный анализ"
   ]
  },
  {
   "cell_type": "markdown",
   "id": "8454d56c",
   "metadata": {},
   "source": [
    "Вычислим коэффициенты корреляции phik между всеми парами столбцов датафрейма `data`, кроме столбца `'user_id'`. Визуализируем корреляционную матрицу с помощью тепловой карты."
   ]
  },
  {
   "cell_type": "code",
   "execution_count": 52,
   "id": "eb4d24b6",
   "metadata": {},
   "outputs": [
    {
     "data": {
      "image/png": "[encoded data removed]",
      "text/plain": [
       "<Figure size 720x612 with 2 Axes>"
      ]
     },
     "metadata": {
      "needs_background": "light"
     },
     "output_type": "display_data"
    }
   ],
   "source": [
    "phik_matrix = data.drop('user_id', axis=1).phik_matrix(interval_cols=['score', 'age', 'balance', 'est_salary'])\n",
    "# рассчёт корреляционной матрицы\n",
    "# вычисление коэффициента корреляции phik между всеми парами столбцов датафрейма ‘data’, кроме столбца ‘user_id’\n",
    "# указание столбцов ‘balance’, ‘est_salary’ в качестве непрерывных признаков\n",
    "plot_correlation_matrix(phik_matrix.values, x_labels=phik_matrix.columns, y_labels=phik_matrix.index, \n",
    "                        vmin=0, vmax=1, color_map='Blues', \n",
    "                        title=r'Матрица корреляций $\\phi_K$', \n",
    "                        fontsize_factor=1, figsize=(10, 8.5))\n",
    "# создание тепловой карты на основе корреляционной матрицы\n",
    "plt.tight_layout()\n",
    "# автоматическая настройка расположения элементов графика"
   ]
  },
  {
   "cell_type": "markdown",
   "id": "7c344959",
   "metadata": {},
   "source": [
    "Наибольший коэффициент корреляции среди всех пар переменных составляет 0.58 и указывает на связь между количеством баллов собственности и количеством банковских продуктов.\n",
    "\n",
    "<div class=\"alert alert-success\">\n",
    "<b>👍 Успех:</b> Все верно!\n",
    "</div>\n",
    "\n",
    "Рассчитаем медианное количество баллов собственности у клиентов, пользующихся одним и несколькими банковскими продуктами."
   ]
  },
  {
   "cell_type": "code",
   "execution_count": 53,
   "id": "4cd314d5",
   "metadata": {},
   "outputs": [
    {
     "name": "stdout",
     "output_type": "stream",
     "text": [
      "Медианное количество баллов собственности у клиентов, пользующихся одним банковским продуктом: 0\n",
      "Медианное количество баллов собственности у клиентов, пользующихся несколькими банковскими продуктами: 4\n"
     ]
    }
   ],
   "source": [
    "print('Медианное количество баллов собственности у клиентов, пользующихся одним банковским продуктом:', \n",
    "      round(data.query('products == 1')['equity'].median()))\n",
    "# расчёт медианного значения переменной ‘equity’ датафрейма ‘data’ при условии, \n",
    "# что значения столбца ‘products’ равны 1\n",
    "print('Медианное количество баллов собственности у клиентов, пользующихся несколькими банковскими продуктами:', \n",
    "      round(data.query('products > 1')['equity'].median()))\n",
    "# расчёт медианного значения переменной ‘equity’ датафрейма ‘data’ при условии, \n",
    "# что значения столбца ‘products’ больше 1"
   ]
  },
  {
   "cell_type": "markdown",
   "id": "6d3af0a8",
   "metadata": {},
   "source": [
    "У клиентов с одним банковским продуктом медианное количество баллов собственности равно нулю, а у клиентов с несколькими продуктами — четырём. Клиенты с большим количеством баллов собственности могут позволить себе пользоваться несколькими различными банковскими продуктами."
   ]
  },
  {
   "cell_type": "markdown",
   "id": "6d3e933f",
   "metadata": {},
   "source": [
    "Отобразим только один столбец из матрицы корреляций. Определим силу связи между признаком оттока клиентов банка и другими переменными."
   ]
  },
  {
   "cell_type": "code",
   "execution_count": 54,
   "id": "143de810",
   "metadata": {},
   "outputs": [
    {
     "data": {
      "image/png": "[encoded data removed]",
      "text/plain": [
       "<Figure size 504x360 with 2 Axes>"
      ]
     },
     "metadata": {
      "needs_background": "light"
     },
     "output_type": "display_data"
    }
   ],
   "source": [
    "plt.figure(figsize=(7, 5))\n",
    "# установка размера графика\n",
    "sns.heatmap(phik_matrix.loc[:, ['churn']].drop('churn').sort_values('churn', ascending = False), annot=True, cmap='Blues')\n",
    "# создание тепловой карты на основе всех строк, кроме ‘churn’, и столбца ‘churn’ матрицы данных ‘phik_matrix’\n",
    "# сортировка по убыванию значений столбца ‘churn’\n",
    "plt.title(r'Корреляция $\\phi_K$ для столбца с оттоком клиентов')\n",
    "# установка заголовка для графика\n",
    "plt.tight_layout()\n",
    "# автоматическая настройка расположения элементов графика"
   ]
  },
  {
   "cell_type": "markdown",
   "id": "de111fb7",
   "metadata": {},
   "source": [
    "Наиболее сильная связь наблюдается между признаком оттока клиентов банка и количеством баллов собственности — 0.35. Как уже было отмечено ранее, чем больше баллов собственности, тем выше уровень оттока клиентов банка. Клиенты с большим количеством баллов собственности могут иметь более высокие доходы, что позволяет им выбирать лучшие условия обслуживания и принимать предложения от других банков.\n",
    "\n",
    "Одинаковая сила корреляции у признака оттока клиентов банка с проявлением клиентами активности и количеством банковских продуктов — 0.26. Активные клиенты более склонны к уходу из банка. Появление новых банков или улучшение условий обслуживания у конкурентов может привлечь внимание активных клиентов и стимулировать их переход. Для клиентов банка, которые пользуются двумя и более банковскими продуктами, более характерен отток. Возможные причины, по которым клиенты банка с несколькими продуктами более склонны к оттоку:\n",
    "- клиенты могут испытывать сложности в управлении несколькими продуктами банка, что приводит к ошибкам и недовольству;\n",
    "- несовместимые банковские продукты могут вызывать неудобства и снижать удовлетворённость клиентов;\n",
    "- клиенты могут столкнуться с неожиданными расходами при использовании нескольких продуктов, что снижает их лояльность.\n",
    "\n",
    "Почти одинаковая сила связи (около 0.2):\n",
    "- между оттоком клиентов банка и баллами кредитного скоринга (0.23);\n",
    "- между оттоком клиентов банка и полом клиентов (0.22);\n",
    "- между оттоком клиентов банка и наличием кредитной карты (0.2);\n",
    "- между оттоком клиентов банка и возрастами клиентов (0.19).\n",
    "\n",
    "Клиенты с достаточно высокими баллами кредитного скоринга склонны к уходу из банка. Конкуренция со стороны других банков с более выгодными предложениями, изменение потребностей и финансовых возможностей могут выступать причинами оттока клиентов банка с высокими баллами кредитного скоринга.\n",
    "\n",
    "Клиенты мужского пола чаще покидают банк. Мужчины могут быть более требовательными, а женщины более лояльными при выборе и использовании банковских продуктов и услуг.\n",
    "\n",
    "Клиенты, не имеющие кредитных карт, более склонны к оттоку. Клиенты, у которых есть кредитные карты, могут выплачивать проценты по кредитам, что удерживает их от ухода.\n",
    "\n",
    "Более склонными к оттоку являются клиенты в возрасте от 24 до 36 лет и от 50 до 60 лет. \n",
    "\n",
    "Возможные причины, по которым клиенты в возрасте от 24 до 36 лет могут быть более склонны к уходу из банка:\n",
    "- молодые люди в этом возрасте часто начинают строить карьеру и стремятся к финансовой независимости, что может привести к поиску альтернативных финансовых услуг;\n",
    "- в этом возрасте люди часто меняют место работы, переезжают и создают семьи, что может потребовать изменения финансового плана и поиска новых банковских продуктов и услуг;\n",
    "- молодые люди могут быть более чувствительны к предложениям конкурентов, предлагающих инновационные продукты и услуги, которые могут привлечь их внимание.\n",
    "\n",
    "В возрасте 50-60 лет люди часто выходят на пенсию, сокращают расходы и пересматривают свои финансовые цели, что может привести к изменению их потребностей в банковских продуктах и услугах.\n",
    "\n",
    "Очень слабая корреляция между оттоком клиентов банка и оценочными доходами клиентов (0.049), оттоком клиентов банка и балансами на счетах клиентов (0.025), оттоком клиентов банка и городом (0.017)."
   ]
  },
  {
   "cell_type": "markdown",
   "id": "daa1c99d",
   "metadata": {},
   "source": [
    "<div class=\"alert alert-success\">\n",
    "<b>👍 Успех:</b> Все верно!\n",
    "</div>"
   ]
  },
  {
   "cell_type": "markdown",
   "id": "a13b09b6",
   "metadata": {},
   "source": [
    "### Вывод"
   ]
  },
  {
   "cell_type": "markdown",
   "id": "6cd80683",
   "metadata": {},
   "source": [
    "В датасете больше тех, кто остался клиентом банка на момент сбора данных, — 81.8% от общего числа клиентов. 18.2% человек ушли из банка.\n",
    "\n",
    "Клиенты банка мужского пола более склонны к оттоку. Среди мужчин доля оттока составляет 23.7%, что превышает общий показатель (18.2%). \n",
    "\n",
    "В Ростове и Ярославле доля клиентов, ушедших из банка, равна 18.7% и 19% соответственно, что чуть выше общего уровня оттока (18.2%). \n",
    "\n",
    "Выше среднего значения оттока (18.2%) процент ушедших из банка клиентов с количеством баллов собственности от 3 до 9. Наибольший процент оттока характерен для клиентов банка с 9 баллами собственности — 53.8%.\n",
    "\n",
    "Клиенты, использующие несколько банковских продуктов, более склонны к уходу из банка. Всех выше процент оттока у тех, кто пользуется четырьмя продуктами, — 63.3%. \n",
    "\n",
    "Доля ушедших из банка клиентов без кредитных карт составляет 25.6%, что превышает общий процент оттока (18.2%). \n",
    "\n",
    "У тех клиентов, кто был активным в последнее время, доля оттока составляет 24.5%, что выше общей доли оттока (18.2%).\n",
    "\n",
    "Интервалы отточности: возраст клиента банка от 24 до 36 лет и от 50 до 60 лет; кредитный скоринг от 820 до 910 баллов и от 920 до 940 баллов; баланс на счёте от 700 тыс.; оценочный доход от 100 до 210 тыс.\n",
    "\n",
    "Портрет типичных клиентов, которые менее склонны к уходу из банка: женщины; 18-23 года, 37-49 лет, 61-86 лет; город Рыбинск; кредитный скоринг: 642-819 баллов, 911-919 баллов, 941-1000 баллов; 0-2 балла собственности; баланс на счёте: от 0 до 700 тыс.; 1 банковский продукт; есть кредитная карта; неактивные клиенты; оценочный доход: от 2 тыс. 546 до 100 тыс.\n",
    "\n",
    "Портрет типичных клиентов, которые более склонны к уходу из банка: мужчины; 24-36 лет, 50-60 лет; город Ростов, город Ярославль; кредитный скоринг: 820-910 баллов, 920-940 баллов; 3-9 баллов собственности; баланс на счёте: от 700 тыс.; 2-5 банковских продуктов; нет кредитной карты; активные клиенты; оценочный доход: 100-210 тыс.\n",
    "\n",
    "Наиболее сильная связь наблюдается между признаком оттока клиентов банка и количеством баллов собственности — 0.35. Одинаковая сила корреляции у признака оттока клиентов банка с проявлением клиентами активности и количеством банковских продуктов — 0.26. Почти одинаковая сила связи между оттоком клиентов банка и такими показателями, как баллы кредитного скоринга (0.23), пол (0.22), наличие кредитной карты (0.2), возраст (0.19). \n",
    "\n",
    "Очень слабая корреляция между оттоком клиентов банка и следующими показателями: оценочный доход (0.049), баланс на счёте (0.025) и город (0.017).\n",
    "\n",
    "Можно сделать вывод, что к более значимым факторам, влияющим на отток клиентов банка, относятся: количество баллов собственности, проявление клиентами активности, количество банковских продуктов, количество баллов кредитного скоринга, пол клиентов, наличие кредитной карты, возраст клиентов."
   ]
  },
  {
   "cell_type": "markdown",
   "id": "6e718c63",
   "metadata": {},
   "source": [
    "## Проверка гипотез"
   ]
  },
  {
   "cell_type": "markdown",
   "id": "96e7a695",
   "metadata": {},
   "source": [
    "### Проверка гипотезы различия дохода между теми клиентами, которые ушли и теми, которые остались"
   ]
  },
  {
   "cell_type": "markdown",
   "id": "782f1f29",
   "metadata": {},
   "source": [
    "Проверим гипотезу о том, что средние значения дохода клиентов, которые ушли из банка и которые остались, разные. Чтобы сравнить средние арифметические двух групп между собой, необходимо применить t-тест (критерий Стьюдента).\n",
    "    \n",
    "Рассчитаем размер выборок и стандартные отклонения, по которым можно судить о равенстве дисперсий рассматриваемых совокупностей. Если выборки одного размера и дисперсии равны, то тест может объединить обе выборки в одну, чтобы поточнее оценить дисперсию. Если выборки разного размера и/или дисперсии у совокупностей неодинаковые, то тест может посчитать дисперсии выборок по отдельности."
   ]
  },
  {
   "cell_type": "code",
   "execution_count": 55,
   "id": "634f2d58",
   "metadata": {},
   "outputs": [],
   "source": [
    "salary_not_churn = data.query('churn == 0')['est_salary']\n",
    "# присваивание переменной ‘salary_not_churn’ значений столбца ‘est_salary’ датафрейма ‘data’ с условием, \n",
    "# что значения столбца ‘churn’ равны 0"
   ]
  },
  {
   "cell_type": "code",
   "execution_count": 56,
   "id": "78454897",
   "metadata": {},
   "outputs": [],
   "source": [
    "salary_churn = data.query('churn == 1')['est_salary']\n",
    "# присваивание переменной ‘salary_churn’ значений столбца ‘est_salary’ датафрейма ‘data’ с условием, \n",
    "# что значения столбца ‘churn’ равны 1"
   ]
  },
  {
   "cell_type": "code",
   "execution_count": 57,
   "id": "e6bb529a",
   "metadata": {},
   "outputs": [
    {
     "data": {
      "text/html": [
       "<div>\n",
       "<style scoped>\n",
       "    .dataframe tbody tr th:only-of-type {\n",
       "        vertical-align: middle;\n",
       "    }\n",
       "\n",
       "    .dataframe tbody tr th {\n",
       "        vertical-align: top;\n",
       "    }\n",
       "\n",
       "    .dataframe thead th {\n",
       "        text-align: right;\n",
       "    }\n",
       "</style>\n",
       "<table border=\"1\" class=\"dataframe\">\n",
       "  <thead>\n",
       "    <tr style=\"text-align: right;\">\n",
       "      <th></th>\n",
       "      <th>est_salary</th>\n",
       "    </tr>\n",
       "  </thead>\n",
       "  <tbody>\n",
       "    <tr>\n",
       "      <th>count</th>\n",
       "      <td>8155.00</td>\n",
       "    </tr>\n",
       "    <tr>\n",
       "      <th>mean</th>\n",
       "      <td>147674.64</td>\n",
       "    </tr>\n",
       "    <tr>\n",
       "      <th>std</th>\n",
       "      <td>142684.41</td>\n",
       "    </tr>\n",
       "    <tr>\n",
       "      <th>min</th>\n",
       "      <td>2546.30</td>\n",
       "    </tr>\n",
       "    <tr>\n",
       "      <th>25%</th>\n",
       "      <td>73445.55</td>\n",
       "    </tr>\n",
       "    <tr>\n",
       "      <th>50%</th>\n",
       "      <td>118227.60</td>\n",
       "    </tr>\n",
       "    <tr>\n",
       "      <th>75%</th>\n",
       "      <td>173960.92</td>\n",
       "    </tr>\n",
       "    <tr>\n",
       "      <th>max</th>\n",
       "      <td>1395064.45</td>\n",
       "    </tr>\n",
       "  </tbody>\n",
       "</table>\n",
       "</div>"
      ],
      "text/plain": [
       "       est_salary\n",
       "count     8155.00\n",
       "mean    147674.64\n",
       "std     142684.41\n",
       "min       2546.30\n",
       "25%      73445.55\n",
       "50%     118227.60\n",
       "75%     173960.92\n",
       "max    1395064.45"
      ]
     },
     "execution_count": 57,
     "metadata": {},
     "output_type": "execute_result"
    }
   ],
   "source": [
    "round(salary_not_churn.describe().to_frame(), 2)\n",
    "# вывод статистической информации о значениях ‘salary_not_churn’\n",
    "# с округлением до 2-х знаков после запятой"
   ]
  },
  {
   "cell_type": "code",
   "execution_count": 58,
   "id": "49b6eb36",
   "metadata": {},
   "outputs": [
    {
     "data": {
      "text/html": [
       "<div>\n",
       "<style scoped>\n",
       "    .dataframe tbody tr th:only-of-type {\n",
       "        vertical-align: middle;\n",
       "    }\n",
       "\n",
       "    .dataframe tbody tr th {\n",
       "        vertical-align: top;\n",
       "    }\n",
       "\n",
       "    .dataframe thead th {\n",
       "        text-align: right;\n",
       "    }\n",
       "</style>\n",
       "<table border=\"1\" class=\"dataframe\">\n",
       "  <thead>\n",
       "    <tr style=\"text-align: right;\">\n",
       "      <th></th>\n",
       "      <th>est_salary</th>\n",
       "    </tr>\n",
       "  </thead>\n",
       "  <tbody>\n",
       "    <tr>\n",
       "      <th>count</th>\n",
       "      <td>1818.00</td>\n",
       "    </tr>\n",
       "    <tr>\n",
       "      <th>mean</th>\n",
       "      <td>148357.48</td>\n",
       "    </tr>\n",
       "    <tr>\n",
       "      <th>std</th>\n",
       "      <td>122931.98</td>\n",
       "    </tr>\n",
       "    <tr>\n",
       "      <th>min</th>\n",
       "      <td>10880.27</td>\n",
       "    </tr>\n",
       "    <tr>\n",
       "      <th>25%</th>\n",
       "      <td>83285.66</td>\n",
       "    </tr>\n",
       "    <tr>\n",
       "      <th>50%</th>\n",
       "      <td>125408.88</td>\n",
       "    </tr>\n",
       "    <tr>\n",
       "      <th>75%</th>\n",
       "      <td>176017.84</td>\n",
       "    </tr>\n",
       "    <tr>\n",
       "      <th>max</th>\n",
       "      <td>1263028.49</td>\n",
       "    </tr>\n",
       "  </tbody>\n",
       "</table>\n",
       "</div>"
      ],
      "text/plain": [
       "       est_salary\n",
       "count     1818.00\n",
       "mean    148357.48\n",
       "std     122931.98\n",
       "min      10880.27\n",
       "25%      83285.66\n",
       "50%     125408.88\n",
       "75%     176017.84\n",
       "max    1263028.49"
      ]
     },
     "execution_count": 58,
     "metadata": {},
     "output_type": "execute_result"
    }
   ],
   "source": [
    "round(salary_churn.describe().to_frame(), 2)\n",
    "# вывод статистической информации о значениях ‘salary_churn’\n",
    "# с округлением до 2-х знаков после запятой"
   ]
  },
  {
   "cell_type": "markdown",
   "id": "30aafbcb",
   "metadata": {},
   "source": [
    "Количество клиентов, оставшихся в банке (8 тыс. 155) и ушедших из него (1 тыс. 818) не совпадает. Стандартные отклонения оценочных доходов тех клиентов, которые не ушли из банка (142 тыс. 684), и тех, которые ушли из банка (122 тыс. 932), разные, что указывает на то, что дисперсии тоже не являются одинаковыми. Укажем параметр equal_var как False при вызове метода scipy.stats.ttest_ind(), чтобы тест посчитал дисперсии выборок независимо друг от друга."
   ]
  },
  {
   "cell_type": "markdown",
   "id": "a12e4106",
   "metadata": {},
   "source": [
    "Проверим, являются ли разными средние значения дохода клиентов, которые ушли из банка и которые остались.\n",
    "    \n",
    "Нулевую гипотезу часто формулируют так, чтобы использовать знак равенства. При сравнении средних двух групп, нулевая гипотеза будет звучать следующим образом: «средние значения групп равны». Альтернативная гипотеза будет сформулирована так: «средние значения групп не равны». Такая альтернативная гипотеза относится к двусторонней, потому что она предполагает возможное отклонение и в большую, и в меньшую стороны.\n",
    "\n",
    "- Нулевая гипотеза: средние значения дохода клиентов, которые ушли из банка и которые остались, равны.\n",
    "- Альтернативная гипотеза: средние значения дохода клиентов, которые ушли из банка и которые остались, не равны.\n",
    "    \n",
    "Наиболее точен уровень статистической значимости, при котором вероятность принятия верной гипотезы максимальна. Обычно используют значения 0.05 (5%) или 0.01 (1%). Будем использовать значение 0.05 в качестве уровня статистической значимости."
   ]
  },
  {
   "cell_type": "code",
   "execution_count": 59,
   "id": "fdf98cc5",
   "metadata": {},
   "outputs": [
    {
     "name": "stdout",
     "output_type": "stream",
     "text": [
      "p-value: 0.8354803526840116\n",
      "Нет оснований отвергнуть нулевую гипотезу\n"
     ]
    }
   ],
   "source": [
    "alpha = 0.05\n",
    "# создание переменной ‘alpha’, равной 0.05, для установки уровня статистической значимости\n",
    "\n",
    "results = st.ttest_ind(salary_not_churn, salary_churn, equal_var=False)\n",
    "# проведение ttest для двух выборок\n",
    "\n",
    "print(f'p-value: {results.pvalue}')\n",
    "# вывод на экран получившегося p-значения\n",
    "\n",
    "if results.pvalue < alpha:\n",
    "    print('Отвергаем нулевую гипотезу')\n",
    "else:\n",
    "    print('Нет оснований отвергнуть нулевую гипотезу')\n",
    "# проверка, меньше ли p-значение результатов исследования, чем уровень значимости \n",
    "# если это так, то нулевая гипотеза отвергается и выводится соответствующее сообщение\n",
    "# в противном случае выводится сообщение о том, что нет оснований отвергать нулевую гипотезу"
   ]
  },
  {
   "cell_type": "markdown",
   "id": "4ac194d8",
   "metadata": {},
   "source": [
    "Полученное значение p-value (0.84) больше заданного уровня значимости, равного 0.05, поэтому нельзя отвергнуть нулевую гипотезу. Различие средних значений дохода клиентов, которые ушли из банка и которые остались, не имеет статистической значимости."
   ]
  },
  {
   "cell_type": "markdown",
   "id": "1c539d52",
   "metadata": {},
   "source": [
    "<div class=\"alert alert-success\">\n",
    "<b>👍 Успех:</b> Все верно!\n",
    "</div>"
   ]
  },
  {
   "cell_type": "markdown",
   "id": "15970a9d",
   "metadata": {},
   "source": [
    "### Проверка гипотезы различия возраста между теми клиентами, которые ушли и теми, которые остались"
   ]
  },
  {
   "cell_type": "markdown",
   "id": "880a463e",
   "metadata": {},
   "source": [
    "Проверим гипотезу о том, что средние значения возраста клиентов, которые ушли из банка и которые остались, разные. Рассчитаем размер выборок и стандартные отклонения, по которым можно судить о равенстве дисперсий рассматриваемых выборок."
   ]
  },
  {
   "cell_type": "code",
   "execution_count": 60,
   "id": "93e9b07b",
   "metadata": {},
   "outputs": [],
   "source": [
    "age_not_churn = data.query('churn == 0')['age']\n",
    "# присваивание переменной ‘age_not_churn’ значений столбца ‘age’ датафрейма ‘data’ с условием, \n",
    "# что значения столбца ‘churn’ равны 0"
   ]
  },
  {
   "cell_type": "code",
   "execution_count": 61,
   "id": "c263f805",
   "metadata": {},
   "outputs": [],
   "source": [
    "age_churn = data.query('churn == 1')['age']\n",
    "# присваивание переменной ‘age_churn’ значений столбца ‘age’ датафрейма ‘data’ с условием, \n",
    "# что значения столбца ‘churn’ равны 1"
   ]
  },
  {
   "cell_type": "code",
   "execution_count": 62,
   "id": "5a5c4b69",
   "metadata": {},
   "outputs": [
    {
     "data": {
      "text/html": [
       "<div>\n",
       "<style scoped>\n",
       "    .dataframe tbody tr th:only-of-type {\n",
       "        vertical-align: middle;\n",
       "    }\n",
       "\n",
       "    .dataframe tbody tr th {\n",
       "        vertical-align: top;\n",
       "    }\n",
       "\n",
       "    .dataframe thead th {\n",
       "        text-align: right;\n",
       "    }\n",
       "</style>\n",
       "<table border=\"1\" class=\"dataframe\">\n",
       "  <thead>\n",
       "    <tr style=\"text-align: right;\">\n",
       "      <th></th>\n",
       "      <th>age</th>\n",
       "    </tr>\n",
       "  </thead>\n",
       "  <tbody>\n",
       "    <tr>\n",
       "      <th>count</th>\n",
       "      <td>8155.00</td>\n",
       "    </tr>\n",
       "    <tr>\n",
       "      <th>mean</th>\n",
       "      <td>43.02</td>\n",
       "    </tr>\n",
       "    <tr>\n",
       "      <th>std</th>\n",
       "      <td>12.38</td>\n",
       "    </tr>\n",
       "    <tr>\n",
       "      <th>min</th>\n",
       "      <td>18.00</td>\n",
       "    </tr>\n",
       "    <tr>\n",
       "      <th>25%</th>\n",
       "      <td>34.00</td>\n",
       "    </tr>\n",
       "    <tr>\n",
       "      <th>50%</th>\n",
       "      <td>40.00</td>\n",
       "    </tr>\n",
       "    <tr>\n",
       "      <th>75%</th>\n",
       "      <td>51.00</td>\n",
       "    </tr>\n",
       "    <tr>\n",
       "      <th>max</th>\n",
       "      <td>86.00</td>\n",
       "    </tr>\n",
       "  </tbody>\n",
       "</table>\n",
       "</div>"
      ],
      "text/plain": [
       "           age\n",
       "count  8155.00\n",
       "mean     43.02\n",
       "std      12.38\n",
       "min      18.00\n",
       "25%      34.00\n",
       "50%      40.00\n",
       "75%      51.00\n",
       "max      86.00"
      ]
     },
     "execution_count": 62,
     "metadata": {},
     "output_type": "execute_result"
    }
   ],
   "source": [
    "round(age_not_churn.describe().to_frame(), 2)\n",
    "# вывод статистической информации о значениях ‘age_not_churn’\n",
    "# с округлением до 2-х знаков после запятой"
   ]
  },
  {
   "cell_type": "code",
   "execution_count": 63,
   "id": "abf7c44d",
   "metadata": {},
   "outputs": [
    {
     "data": {
      "text/html": [
       "<div>\n",
       "<style scoped>\n",
       "    .dataframe tbody tr th:only-of-type {\n",
       "        vertical-align: middle;\n",
       "    }\n",
       "\n",
       "    .dataframe tbody tr th {\n",
       "        vertical-align: top;\n",
       "    }\n",
       "\n",
       "    .dataframe thead th {\n",
       "        text-align: right;\n",
       "    }\n",
       "</style>\n",
       "<table border=\"1\" class=\"dataframe\">\n",
       "  <thead>\n",
       "    <tr style=\"text-align: right;\">\n",
       "      <th></th>\n",
       "      <th>age</th>\n",
       "    </tr>\n",
       "  </thead>\n",
       "  <tbody>\n",
       "    <tr>\n",
       "      <th>count</th>\n",
       "      <td>1818.00</td>\n",
       "    </tr>\n",
       "    <tr>\n",
       "      <th>mean</th>\n",
       "      <td>41.43</td>\n",
       "    </tr>\n",
       "    <tr>\n",
       "      <th>std</th>\n",
       "      <td>11.14</td>\n",
       "    </tr>\n",
       "    <tr>\n",
       "      <th>min</th>\n",
       "      <td>18.00</td>\n",
       "    </tr>\n",
       "    <tr>\n",
       "      <th>25%</th>\n",
       "      <td>32.00</td>\n",
       "    </tr>\n",
       "    <tr>\n",
       "      <th>50%</th>\n",
       "      <td>39.00</td>\n",
       "    </tr>\n",
       "    <tr>\n",
       "      <th>75%</th>\n",
       "      <td>52.00</td>\n",
       "    </tr>\n",
       "    <tr>\n",
       "      <th>max</th>\n",
       "      <td>75.00</td>\n",
       "    </tr>\n",
       "  </tbody>\n",
       "</table>\n",
       "</div>"
      ],
      "text/plain": [
       "           age\n",
       "count  1818.00\n",
       "mean     41.43\n",
       "std      11.14\n",
       "min      18.00\n",
       "25%      32.00\n",
       "50%      39.00\n",
       "75%      52.00\n",
       "max      75.00"
      ]
     },
     "execution_count": 63,
     "metadata": {},
     "output_type": "execute_result"
    }
   ],
   "source": [
    "round(age_churn.describe().to_frame(), 2)\n",
    "# вывод статистической информации о значениях ‘age_churn’\n",
    "# с округлением до 2-х знаков после запятой"
   ]
  },
  {
   "cell_type": "markdown",
   "id": "94109a33",
   "metadata": {},
   "source": [
    "Количество клиентов, оставшихся в банке (8 тыс. 155) и ушедших из него (1 тыс. 818) не совпадает. Стандартные отклонения возрастов тех клиентов, которые не ушли из банка (12.38), и тех, которые ушли из банка (11.14), немного отличаются, что указывает на то, что дисперсии тоже не являются одинаковыми. Укажем параметр equal_var как False при вызове метода scipy.stats.ttest_ind(), чтобы тест посчитал дисперсии выборок независимо друг от друга."
   ]
  },
  {
   "cell_type": "markdown",
   "id": "0d42c0f5",
   "metadata": {},
   "source": [
    "Определим, различаются ли средние возрасты клиентов, которые ушли из банка и которые остались.\n",
    "\n",
    "- Нулевая гипотеза: средние значения возраста клиентов, которые ушли из банка и которые остались, равны.\n",
    "- Альтернативная гипотеза: средние значения возраста клиентов, которые ушли из банка и которые остались, не равны.\n",
    "    \n",
    "Установим значение 0.05 в качестве уровня статистической значимости."
   ]
  },
  {
   "cell_type": "code",
   "execution_count": 64,
   "id": "b36091a5",
   "metadata": {},
   "outputs": [
    {
     "name": "stdout",
     "output_type": "stream",
     "text": [
      "p-value: 7.536127357312234e-08\n",
      "Отвергаем нулевую гипотезу\n"
     ]
    }
   ],
   "source": [
    "alpha = 0.05\n",
    "# создание переменной ‘alpha’, равной 0.05, для установки уровня статистической значимости\n",
    "\n",
    "results = st.ttest_ind(age_not_churn, age_churn, equal_var=False)\n",
    "# проведение ttest для двух выборок\n",
    "\n",
    "print(f'p-value: {results.pvalue}')\n",
    "# вывод на экран получившегося p-значения\n",
    "\n",
    "if results.pvalue < alpha:\n",
    "    print('Отвергаем нулевую гипотезу')\n",
    "else:\n",
    "    print('Нет оснований отвергнуть нулевую гипотезу')\n",
    "# проверка, меньше ли p-значение результатов исследования, чем уровень значимости \n",
    "# если это так, то нулевая гипотеза отвергается и выводится соответствующее сообщение\n",
    "# в противном случае выводится сообщение о том, что нет оснований отвергать нулевую гипотезу"
   ]
  },
  {
   "cell_type": "markdown",
   "id": "b035beb6",
   "metadata": {},
   "source": [
    "Полученное значение p-value (7.54e-08) меньше заданного уровня значимости, равного 0.05. На имеющихся данных, на уровне значимости 5%, есть основания отвергнуть нулевую гипотезу о равенстве средних значений возраста клиентов, которые ушли из банка и которые остались, в пользу альтернативной гипотезы — средние значения возраста клиентов, ушедших из банка и оставшихся, разные."
   ]
  },
  {
   "cell_type": "markdown",
   "id": "127680b3",
   "metadata": {},
   "source": [
    "<div class=\"alert alert-success\">\n",
    "<b>👍 Успех:</b> Все верно!\n",
    "</div>"
   ]
  },
  {
   "cell_type": "markdown",
   "id": "28b7c7a1",
   "metadata": {},
   "source": [
    "### Проверка гипотезы различия в наличии кредитной карты между теми клиентами, которые ушли и теми, которые остались"
   ]
  },
  {
   "cell_type": "markdown",
   "id": "f8e9eab0",
   "metadata": {},
   "source": [
    "Проверим гипотезу о том, что средние значения показателя наличия кредитной карты у клиентов, которые ушли из банка и которые остались, разные. Рассчитаем размер выборок и стандартные отклонения, по которым можно судить о равенстве дисперсий рассматриваемых выборок."
   ]
  },
  {
   "cell_type": "code",
   "execution_count": 65,
   "id": "449981bc",
   "metadata": {},
   "outputs": [],
   "source": [
    "credit_card_not_churn = data.query('churn == 0')['credit_card']\n",
    "# присваивание переменной ‘credit_card_not_churn’ значений столбца ‘credit_card’ датафрейма ‘data’ с условием, \n",
    "# что значения столбца ‘churn’ равны 0"
   ]
  },
  {
   "cell_type": "code",
   "execution_count": 66,
   "id": "a1cb9dff",
   "metadata": {},
   "outputs": [],
   "source": [
    "credit_card_churn = data.query('churn == 1')['credit_card']\n",
    "# присваивание переменной ‘credit_card_churn’ значений столбца ‘credit_card’ датафрейма ‘data’ с условием, \n",
    "# что значения столбца ‘churn’ равны 1"
   ]
  },
  {
   "cell_type": "code",
   "execution_count": 67,
   "id": "2a0983d9",
   "metadata": {},
   "outputs": [
    {
     "data": {
      "text/html": [
       "<div>\n",
       "<style scoped>\n",
       "    .dataframe tbody tr th:only-of-type {\n",
       "        vertical-align: middle;\n",
       "    }\n",
       "\n",
       "    .dataframe tbody tr th {\n",
       "        vertical-align: top;\n",
       "    }\n",
       "\n",
       "    .dataframe thead th {\n",
       "        text-align: right;\n",
       "    }\n",
       "</style>\n",
       "<table border=\"1\" class=\"dataframe\">\n",
       "  <thead>\n",
       "    <tr style=\"text-align: right;\">\n",
       "      <th></th>\n",
       "      <th>credit_card</th>\n",
       "    </tr>\n",
       "  </thead>\n",
       "  <tbody>\n",
       "    <tr>\n",
       "      <th>count</th>\n",
       "      <td>8155.00</td>\n",
       "    </tr>\n",
       "    <tr>\n",
       "      <th>mean</th>\n",
       "      <td>0.71</td>\n",
       "    </tr>\n",
       "    <tr>\n",
       "      <th>std</th>\n",
       "      <td>0.45</td>\n",
       "    </tr>\n",
       "    <tr>\n",
       "      <th>min</th>\n",
       "      <td>0.00</td>\n",
       "    </tr>\n",
       "    <tr>\n",
       "      <th>25%</th>\n",
       "      <td>0.00</td>\n",
       "    </tr>\n",
       "    <tr>\n",
       "      <th>50%</th>\n",
       "      <td>1.00</td>\n",
       "    </tr>\n",
       "    <tr>\n",
       "      <th>75%</th>\n",
       "      <td>1.00</td>\n",
       "    </tr>\n",
       "    <tr>\n",
       "      <th>max</th>\n",
       "      <td>1.00</td>\n",
       "    </tr>\n",
       "  </tbody>\n",
       "</table>\n",
       "</div>"
      ],
      "text/plain": [
       "       credit_card\n",
       "count      8155.00\n",
       "mean          0.71\n",
       "std           0.45\n",
       "min           0.00\n",
       "25%           0.00\n",
       "50%           1.00\n",
       "75%           1.00\n",
       "max           1.00"
      ]
     },
     "execution_count": 67,
     "metadata": {},
     "output_type": "execute_result"
    }
   ],
   "source": [
    "round(credit_card_not_churn.describe().to_frame(), 2)\n",
    "# вывод статистической информации о значениях ‘credit_card_not_churn’\n",
    "# с округлением до 2-х знаков после запятой"
   ]
  },
  {
   "cell_type": "code",
   "execution_count": 68,
   "id": "befd8957",
   "metadata": {},
   "outputs": [
    {
     "data": {
      "text/html": [
       "<div>\n",
       "<style scoped>\n",
       "    .dataframe tbody tr th:only-of-type {\n",
       "        vertical-align: middle;\n",
       "    }\n",
       "\n",
       "    .dataframe tbody tr th {\n",
       "        vertical-align: top;\n",
       "    }\n",
       "\n",
       "    .dataframe thead th {\n",
       "        text-align: right;\n",
       "    }\n",
       "</style>\n",
       "<table border=\"1\" class=\"dataframe\">\n",
       "  <thead>\n",
       "    <tr style=\"text-align: right;\">\n",
       "      <th></th>\n",
       "      <th>credit_card</th>\n",
       "    </tr>\n",
       "  </thead>\n",
       "  <tbody>\n",
       "    <tr>\n",
       "      <th>count</th>\n",
       "      <td>1818.00</td>\n",
       "    </tr>\n",
       "    <tr>\n",
       "      <th>mean</th>\n",
       "      <td>0.55</td>\n",
       "    </tr>\n",
       "    <tr>\n",
       "      <th>std</th>\n",
       "      <td>0.50</td>\n",
       "    </tr>\n",
       "    <tr>\n",
       "      <th>min</th>\n",
       "      <td>0.00</td>\n",
       "    </tr>\n",
       "    <tr>\n",
       "      <th>25%</th>\n",
       "      <td>0.00</td>\n",
       "    </tr>\n",
       "    <tr>\n",
       "      <th>50%</th>\n",
       "      <td>1.00</td>\n",
       "    </tr>\n",
       "    <tr>\n",
       "      <th>75%</th>\n",
       "      <td>1.00</td>\n",
       "    </tr>\n",
       "    <tr>\n",
       "      <th>max</th>\n",
       "      <td>1.00</td>\n",
       "    </tr>\n",
       "  </tbody>\n",
       "</table>\n",
       "</div>"
      ],
      "text/plain": [
       "       credit_card\n",
       "count      1818.00\n",
       "mean          0.55\n",
       "std           0.50\n",
       "min           0.00\n",
       "25%           0.00\n",
       "50%           1.00\n",
       "75%           1.00\n",
       "max           1.00"
      ]
     },
     "execution_count": 68,
     "metadata": {},
     "output_type": "execute_result"
    }
   ],
   "source": [
    "round(credit_card_churn.describe().to_frame(), 2)\n",
    "# вывод статистической информации о значениях ‘credit_card_churn’\n",
    "# с округлением до 2-х знаков после запятой"
   ]
  },
  {
   "cell_type": "markdown",
   "id": "c66fff32",
   "metadata": {},
   "source": [
    "Количество клиентов, оставшихся в банке (8 тыс. 155) и ушедших из него (1 тыс. 818) не совпадает. Стандартные отклонения показателя наличия кредитной карты у тех клиентов, которые не ушли из банка (0.45), и тех, которые ушли из банка (0.5), немного отличаются, что указывает на то, что дисперсии тоже не являются одинаковыми. Укажем параметр equal_var как False при вызове метода scipy.stats.ttest_ind(), чтобы тест посчитал дисперсии выборок независимо друг от друга."
   ]
  },
  {
   "cell_type": "markdown",
   "id": "3cc47318",
   "metadata": {},
   "source": [
    "Определим, различаются ли средние значения показателя наличия кредитной карты у клиентов, которые ушли из банка и которые остались.\n",
    "\n",
    "- Нулевая гипотеза: средние значения показателя наличия кредитной карты у клиентов, которые ушли из банка и которые остались, равны.\n",
    "- Альтернативная гипотеза: средние значения показателя наличия кредитной карты у клиентов, которые ушли из банка и которые остались, не равны.\n",
    "    \n",
    "Установим значение 0.05 в качестве уровня статистической значимости."
   ]
  },
  {
   "cell_type": "code",
   "execution_count": 69,
   "id": "efad01d0",
   "metadata": {},
   "outputs": [
    {
     "name": "stdout",
     "output_type": "stream",
     "text": [
      "p-value: 3.5339185146511654e-34\n",
      "Отвергаем нулевую гипотезу\n"
     ]
    }
   ],
   "source": [
    "alpha = 0.05\n",
    "# создание переменной ‘alpha’, равной 0.05, для установки уровня статистической значимости\n",
    "\n",
    "results = st.ttest_ind(credit_card_not_churn, credit_card_churn, equal_var=False)\n",
    "# проведение ttest для двух выборок\n",
    "\n",
    "print(f'p-value: {results.pvalue}')\n",
    "# вывод на экран получившегося p-значения\n",
    "\n",
    "if results.pvalue < alpha:\n",
    "    print('Отвергаем нулевую гипотезу')\n",
    "else:\n",
    "    print('Нет оснований отвергнуть нулевую гипотезу')\n",
    "# проверка, меньше ли p-значение результатов исследования, чем уровень значимости \n",
    "# если это так, то нулевая гипотеза отвергается и выводится соответствующее сообщение\n",
    "# в противном случае выводится сообщение о том, что нет оснований отвергать нулевую гипотезу"
   ]
  },
  {
   "cell_type": "markdown",
   "id": "2d358799",
   "metadata": {},
   "source": [
    "Полученное значение p-value (3.53e-34) меньше заданного уровня значимости, равного 0.05. На имеющихся данных, на уровне значимости 5%, есть основания отвергнуть нулевую гипотезу о равенстве средних значений показателя наличия кредитной карты у клиентов, которые ушли из банка и которые остались, в пользу альтернативной гипотезы — средние значения показателя наличия кредитной карты у клиентов, ушедших из банка и оставшихся, разные."
   ]
  },
  {
   "cell_type": "markdown",
   "id": "9efbeeb0",
   "metadata": {},
   "source": [
    "<div class=\"alert alert-success\">\n",
    "<b>👍 Успех:</b> Все верно!\n",
    "</div>"
   ]
  },
  {
   "cell_type": "markdown",
   "id": "c1c4fc82",
   "metadata": {},
   "source": [
    "### Проверка гипотезы различия пола между теми клиентами, которые ушли и теми, которые остались"
   ]
  },
  {
   "cell_type": "markdown",
   "id": "eff1bf6b",
   "metadata": {},
   "source": [
    "Создадим столбец с 0 или 1 в зависимости от пола клиента."
   ]
  },
  {
   "cell_type": "code",
   "execution_count": 70,
   "id": "55ed8a60",
   "metadata": {},
   "outputs": [
    {
     "data": {
      "text/plain": [
       "0    0\n",
       "1    0\n",
       "2    0\n",
       "3    0\n",
       "4    1\n",
       "Name: gender_0_1, dtype: int64"
      ]
     },
     "execution_count": 70,
     "metadata": {},
     "output_type": "execute_result"
    }
   ],
   "source": [
    "data['gender_0_1'] = data['gender']\n",
    "# создание нового столбца ‘gender_0_1’ в датафрейме ‘data’ и присваивание ему значений столбца ‘gender’ датафрейма ‘data’\n",
    "data['gender_0_1'] = data['gender_0_1'].map({'Ж': 0, 'М': 1})\n",
    "# значение в столбце ‘gender_0_1’ датафрейма ‘data’ будет равно 0 для женщин и 1 для мужчин\n",
    "data['gender_0_1'].head()\n",
    "# вывод первых пяти строк столбца ‘gender_0_1’ датафрейма ‘data’"
   ]
  },
  {
   "cell_type": "markdown",
   "id": "74ab1d96",
   "metadata": {},
   "source": [
    "Проверим гипотезу о том, что средние значения гендерного показателя у клиентов, которые ушли из банка и которые остались, разные. Рассчитаем размер выборок и стандартные отклонения, по которым можно судить о равенстве дисперсий рассматриваемых выборок."
   ]
  },
  {
   "cell_type": "code",
   "execution_count": 71,
   "id": "f0001e13",
   "metadata": {},
   "outputs": [],
   "source": [
    "gender_not_churn = data.query('churn == 0')['gender_0_1']\n",
    "# присваивание переменной ‘gender_not_churn’ значений столбца ‘gender_0_1’ датафрейма ‘data’ с условием, \n",
    "# что значения столбца ‘churn’ равны 0"
   ]
  },
  {
   "cell_type": "code",
   "execution_count": 72,
   "id": "65541a60",
   "metadata": {},
   "outputs": [],
   "source": [
    "gender_churn = data.query('churn == 1')['gender_0_1']\n",
    "# присваивание переменной ‘gender_churn’ значений столбца ‘gender_0_1’ датафрейма ‘data’ с условием, \n",
    "# что значения столбца ‘churn’ равны 1"
   ]
  },
  {
   "cell_type": "code",
   "execution_count": 73,
   "id": "45c1efcb",
   "metadata": {},
   "outputs": [
    {
     "data": {
      "text/html": [
       "<div>\n",
       "<style scoped>\n",
       "    .dataframe tbody tr th:only-of-type {\n",
       "        vertical-align: middle;\n",
       "    }\n",
       "\n",
       "    .dataframe tbody tr th {\n",
       "        vertical-align: top;\n",
       "    }\n",
       "\n",
       "    .dataframe thead th {\n",
       "        text-align: right;\n",
       "    }\n",
       "</style>\n",
       "<table border=\"1\" class=\"dataframe\">\n",
       "  <thead>\n",
       "    <tr style=\"text-align: right;\">\n",
       "      <th></th>\n",
       "      <th>gender_0_1</th>\n",
       "    </tr>\n",
       "  </thead>\n",
       "  <tbody>\n",
       "    <tr>\n",
       "      <th>count</th>\n",
       "      <td>8155.00</td>\n",
       "    </tr>\n",
       "    <tr>\n",
       "      <th>mean</th>\n",
       "      <td>0.47</td>\n",
       "    </tr>\n",
       "    <tr>\n",
       "      <th>std</th>\n",
       "      <td>0.50</td>\n",
       "    </tr>\n",
       "    <tr>\n",
       "      <th>min</th>\n",
       "      <td>0.00</td>\n",
       "    </tr>\n",
       "    <tr>\n",
       "      <th>25%</th>\n",
       "      <td>0.00</td>\n",
       "    </tr>\n",
       "    <tr>\n",
       "      <th>50%</th>\n",
       "      <td>0.00</td>\n",
       "    </tr>\n",
       "    <tr>\n",
       "      <th>75%</th>\n",
       "      <td>1.00</td>\n",
       "    </tr>\n",
       "    <tr>\n",
       "      <th>max</th>\n",
       "      <td>1.00</td>\n",
       "    </tr>\n",
       "  </tbody>\n",
       "</table>\n",
       "</div>"
      ],
      "text/plain": [
       "       gender_0_1\n",
       "count     8155.00\n",
       "mean         0.47\n",
       "std          0.50\n",
       "min          0.00\n",
       "25%          0.00\n",
       "50%          0.00\n",
       "75%          1.00\n",
       "max          1.00"
      ]
     },
     "execution_count": 73,
     "metadata": {},
     "output_type": "execute_result"
    }
   ],
   "source": [
    "round(gender_not_churn.describe().to_frame(), 2)\n",
    "# вывод статистической информации о значениях ‘gender_not_churn’\n",
    "# с округлением до 2-х знаков после запятой"
   ]
  },
  {
   "cell_type": "code",
   "execution_count": 74,
   "id": "85d56382",
   "metadata": {},
   "outputs": [
    {
     "data": {
      "text/html": [
       "<div>\n",
       "<style scoped>\n",
       "    .dataframe tbody tr th:only-of-type {\n",
       "        vertical-align: middle;\n",
       "    }\n",
       "\n",
       "    .dataframe tbody tr th {\n",
       "        vertical-align: top;\n",
       "    }\n",
       "\n",
       "    .dataframe thead th {\n",
       "        text-align: right;\n",
       "    }\n",
       "</style>\n",
       "<table border=\"1\" class=\"dataframe\">\n",
       "  <thead>\n",
       "    <tr style=\"text-align: right;\">\n",
       "      <th></th>\n",
       "      <th>gender_0_1</th>\n",
       "    </tr>\n",
       "  </thead>\n",
       "  <tbody>\n",
       "    <tr>\n",
       "      <th>count</th>\n",
       "      <td>1818.00</td>\n",
       "    </tr>\n",
       "    <tr>\n",
       "      <th>mean</th>\n",
       "      <td>0.65</td>\n",
       "    </tr>\n",
       "    <tr>\n",
       "      <th>std</th>\n",
       "      <td>0.48</td>\n",
       "    </tr>\n",
       "    <tr>\n",
       "      <th>min</th>\n",
       "      <td>0.00</td>\n",
       "    </tr>\n",
       "    <tr>\n",
       "      <th>25%</th>\n",
       "      <td>0.00</td>\n",
       "    </tr>\n",
       "    <tr>\n",
       "      <th>50%</th>\n",
       "      <td>1.00</td>\n",
       "    </tr>\n",
       "    <tr>\n",
       "      <th>75%</th>\n",
       "      <td>1.00</td>\n",
       "    </tr>\n",
       "    <tr>\n",
       "      <th>max</th>\n",
       "      <td>1.00</td>\n",
       "    </tr>\n",
       "  </tbody>\n",
       "</table>\n",
       "</div>"
      ],
      "text/plain": [
       "       gender_0_1\n",
       "count     1818.00\n",
       "mean         0.65\n",
       "std          0.48\n",
       "min          0.00\n",
       "25%          0.00\n",
       "50%          1.00\n",
       "75%          1.00\n",
       "max          1.00"
      ]
     },
     "execution_count": 74,
     "metadata": {},
     "output_type": "execute_result"
    }
   ],
   "source": [
    "round(gender_churn.describe().to_frame(), 2)\n",
    "# вывод статистической информации о значениях ‘gender_churn’\n",
    "# с округлением до 2-х знаков после запятой"
   ]
  },
  {
   "cell_type": "markdown",
   "id": "876fd504",
   "metadata": {},
   "source": [
    "Количество клиентов, оставшихся в банке (8 тыс. 155) и ушедших из него (1 тыс. 818) не совпадает. Стандартные отклонения гендерного показателя у тех клиентов, которые не ушли из банка (0.5), и тех, которые ушли из банка (0.48), немного отличаются, что указывает на то, что дисперсии тоже не являются одинаковыми. Укажем параметр equal_var как False при вызове метода scipy.stats.ttest_ind(), чтобы тест посчитал дисперсии выборок независимо друг от друга."
   ]
  },
  {
   "cell_type": "markdown",
   "id": "d53d0177",
   "metadata": {},
   "source": [
    "Определим, различаются ли средние значения гендерного показателя у клиентов, которые ушли из банка и которые остались.\n",
    "\n",
    "- Нулевая гипотеза: средние значения гендерного показателя у клиентов, которые ушли из банка и которые остались, равны.\n",
    "- Альтернативная гипотеза: средние значения гендерного показателя у клиентов, которые ушли из банка и которые остались, не равны.\n",
    "    \n",
    "Установим значение 0.05 в качестве уровня статистической значимости."
   ]
  },
  {
   "cell_type": "code",
   "execution_count": 75,
   "id": "02f045ee",
   "metadata": {},
   "outputs": [
    {
     "name": "stdout",
     "output_type": "stream",
     "text": [
      "p-value: 2.3885958358542234e-47\n",
      "Отвергаем нулевую гипотезу\n"
     ]
    }
   ],
   "source": [
    "alpha = 0.05\n",
    "# создание переменной ‘alpha’, равной 0.05, для установки уровня статистической значимости\n",
    "\n",
    "results = st.ttest_ind(gender_not_churn, gender_churn, equal_var=False)\n",
    "# проведение ttest для двух выборок\n",
    "\n",
    "print(f'p-value: {results.pvalue}')\n",
    "# вывод на экран получившегося p-значения\n",
    "\n",
    "if results.pvalue < alpha:\n",
    "    print('Отвергаем нулевую гипотезу')\n",
    "else:\n",
    "    print('Нет оснований отвергнуть нулевую гипотезу')\n",
    "# проверка, меньше ли p-значение результатов исследования, чем уровень значимости \n",
    "# если это так, то нулевая гипотеза отвергается и выводится соответствующее сообщение\n",
    "# в противном случае выводится сообщение о том, что нет оснований отвергать нулевую гипотезу"
   ]
  },
  {
   "cell_type": "markdown",
   "id": "2f867ae1",
   "metadata": {},
   "source": [
    "Полученное значение p-value (2.39e-47) меньше заданного уровня значимости, равного 0.05. На имеющихся данных, на уровне значимости 5%, есть основания отвергнуть нулевую гипотезу о равенстве средних значений гендерного показателя у клиентов, которые ушли из банка и которые остались, в пользу альтернативной гипотезы — средние значения гендерного показателя у клиентов, ушедших из банка и оставшихся, разные."
   ]
  },
  {
   "cell_type": "markdown",
   "id": "c0387ba0",
   "metadata": {},
   "source": [
    "<div class=\"alert alert-success\">\n",
    "<b>👍 Успех:</b> Все верно!\n",
    "</div>"
   ]
  },
  {
   "cell_type": "markdown",
   "id": "5b3db898",
   "metadata": {},
   "source": [
    "### Проверка гипотезы различия количества баллов кредитного скоринга между теми клиентами, которые ушли и теми, которые остались"
   ]
  },
  {
   "cell_type": "markdown",
   "id": "4f88a20a",
   "metadata": {},
   "source": [
    "Проверим гипотезу о том, что средние значения количества баллов кредитного скоринга у клиентов, которые ушли из банка и которые остались, разные. Рассчитаем размер выборок и стандартные отклонения, по которым можно судить о равенстве дисперсий рассматриваемых выборок."
   ]
  },
  {
   "cell_type": "code",
   "execution_count": 76,
   "id": "cd66a90c",
   "metadata": {},
   "outputs": [],
   "source": [
    "score_not_churn = data.query('churn == 0')['score']\n",
    "# присваивание переменной ‘score_not_churn’ значений столбца ‘score’ датафрейма ‘data’ с условием, \n",
    "# что значения столбца ‘churn’ равны 0"
   ]
  },
  {
   "cell_type": "code",
   "execution_count": 77,
   "id": "e6c43c85",
   "metadata": {},
   "outputs": [],
   "source": [
    "score_churn = data.query('churn == 1')['score']\n",
    "# присваивание переменной ‘score_churn’ значений столбца ‘score’ датафрейма ‘data’ с условием, \n",
    "# что значения столбца ‘churn’ равны 1"
   ]
  },
  {
   "cell_type": "code",
   "execution_count": 78,
   "id": "d7ce25ba",
   "metadata": {},
   "outputs": [
    {
     "data": {
      "text/html": [
       "<div>\n",
       "<style scoped>\n",
       "    .dataframe tbody tr th:only-of-type {\n",
       "        vertical-align: middle;\n",
       "    }\n",
       "\n",
       "    .dataframe tbody tr th {\n",
       "        vertical-align: top;\n",
       "    }\n",
       "\n",
       "    .dataframe thead th {\n",
       "        text-align: right;\n",
       "    }\n",
       "</style>\n",
       "<table border=\"1\" class=\"dataframe\">\n",
       "  <thead>\n",
       "    <tr style=\"text-align: right;\">\n",
       "      <th></th>\n",
       "      <th>score</th>\n",
       "    </tr>\n",
       "  </thead>\n",
       "  <tbody>\n",
       "    <tr>\n",
       "      <th>count</th>\n",
       "      <td>8155.00</td>\n",
       "    </tr>\n",
       "    <tr>\n",
       "      <th>mean</th>\n",
       "      <td>845.40</td>\n",
       "    </tr>\n",
       "    <tr>\n",
       "      <th>std</th>\n",
       "      <td>67.99</td>\n",
       "    </tr>\n",
       "    <tr>\n",
       "      <th>min</th>\n",
       "      <td>642.00</td>\n",
       "    </tr>\n",
       "    <tr>\n",
       "      <th>25%</th>\n",
       "      <td>796.00</td>\n",
       "    </tr>\n",
       "    <tr>\n",
       "      <th>50%</th>\n",
       "      <td>848.00</td>\n",
       "    </tr>\n",
       "    <tr>\n",
       "      <th>75%</th>\n",
       "      <td>900.00</td>\n",
       "    </tr>\n",
       "    <tr>\n",
       "      <th>max</th>\n",
       "      <td>1000.00</td>\n",
       "    </tr>\n",
       "  </tbody>\n",
       "</table>\n",
       "</div>"
      ],
      "text/plain": [
       "         score\n",
       "count  8155.00\n",
       "mean    845.40\n",
       "std      67.99\n",
       "min     642.00\n",
       "25%     796.00\n",
       "50%     848.00\n",
       "75%     900.00\n",
       "max    1000.00"
      ]
     },
     "execution_count": 78,
     "metadata": {},
     "output_type": "execute_result"
    }
   ],
   "source": [
    "round(score_not_churn.describe().to_frame(), 2)\n",
    "# вывод статистической информации о значениях ‘score_not_churn’\n",
    "# с округлением до 2-х знаков после запятой"
   ]
  },
  {
   "cell_type": "code",
   "execution_count": 79,
   "id": "371fc5cb",
   "metadata": {},
   "outputs": [
    {
     "data": {
      "text/html": [
       "<div>\n",
       "<style scoped>\n",
       "    .dataframe tbody tr th:only-of-type {\n",
       "        vertical-align: middle;\n",
       "    }\n",
       "\n",
       "    .dataframe tbody tr th {\n",
       "        vertical-align: top;\n",
       "    }\n",
       "\n",
       "    .dataframe thead th {\n",
       "        text-align: right;\n",
       "    }\n",
       "</style>\n",
       "<table border=\"1\" class=\"dataframe\">\n",
       "  <thead>\n",
       "    <tr style=\"text-align: right;\">\n",
       "      <th></th>\n",
       "      <th>score</th>\n",
       "    </tr>\n",
       "  </thead>\n",
       "  <tbody>\n",
       "    <tr>\n",
       "      <th>count</th>\n",
       "      <td>1818.00</td>\n",
       "    </tr>\n",
       "    <tr>\n",
       "      <th>mean</th>\n",
       "      <td>863.36</td>\n",
       "    </tr>\n",
       "    <tr>\n",
       "      <th>std</th>\n",
       "      <td>49.58</td>\n",
       "    </tr>\n",
       "    <tr>\n",
       "      <th>min</th>\n",
       "      <td>706.00</td>\n",
       "    </tr>\n",
       "    <tr>\n",
       "      <th>25%</th>\n",
       "      <td>828.00</td>\n",
       "    </tr>\n",
       "    <tr>\n",
       "      <th>50%</th>\n",
       "      <td>866.00</td>\n",
       "    </tr>\n",
       "    <tr>\n",
       "      <th>75%</th>\n",
       "      <td>898.00</td>\n",
       "    </tr>\n",
       "    <tr>\n",
       "      <th>max</th>\n",
       "      <td>1000.00</td>\n",
       "    </tr>\n",
       "  </tbody>\n",
       "</table>\n",
       "</div>"
      ],
      "text/plain": [
       "         score\n",
       "count  1818.00\n",
       "mean    863.36\n",
       "std      49.58\n",
       "min     706.00\n",
       "25%     828.00\n",
       "50%     866.00\n",
       "75%     898.00\n",
       "max    1000.00"
      ]
     },
     "execution_count": 79,
     "metadata": {},
     "output_type": "execute_result"
    }
   ],
   "source": [
    "round(score_churn.describe().to_frame(), 2)\n",
    "# вывод статистической информации о значениях ‘score_churn’\n",
    "# с округлением до 2-х знаков после запятой"
   ]
  },
  {
   "cell_type": "markdown",
   "id": "63bd922b",
   "metadata": {},
   "source": [
    "Количество клиентов, оставшихся в банке (8 тыс. 155) и ушедших из него (1 тыс. 818) не совпадает. Стандартные отклонения количества баллов кредитного скоринга у тех клиентов, которые не ушли из банка (67.99), и тех, которые ушли из банка (49.58), отличаются, что указывает на то, что дисперсии тоже не являются одинаковыми. Укажем параметр equal_var как False при вызове метода scipy.stats.ttest_ind(), чтобы тест посчитал дисперсии выборок независимо друг от друга."
   ]
  },
  {
   "cell_type": "markdown",
   "id": "239b0d42",
   "metadata": {},
   "source": [
    "Определим, различаются ли средние значения количества баллов кредитного скоринга у клиентов, которые ушли из банка и которые остались.\n",
    "\n",
    "- Нулевая гипотеза: средние значения количества баллов кредитного скоринга у клиентов, которые ушли из банка и которые остались, равны.\n",
    "- Альтернативная гипотеза: средние значения количества баллов кредитного скоринга у клиентов, которые ушли из банка и которые остались, не равны.\n",
    "    \n",
    "Установим значение 0.05 в качестве уровня статистической значимости."
   ]
  },
  {
   "cell_type": "code",
   "execution_count": 80,
   "id": "b6925354",
   "metadata": {},
   "outputs": [
    {
     "name": "stdout",
     "output_type": "stream",
     "text": [
      "p-value: 1.3179430198200596e-37\n",
      "Отвергаем нулевую гипотезу\n"
     ]
    }
   ],
   "source": [
    "alpha = 0.05\n",
    "# создание переменной ‘alpha’, равной 0.05, для установки уровня статистической значимости\n",
    "\n",
    "results = st.ttest_ind(score_not_churn, score_churn, equal_var=False)\n",
    "# проведение ttest для двух выборок\n",
    "\n",
    "print(f'p-value: {results.pvalue}')\n",
    "# вывод на экран получившегося p-значения\n",
    "\n",
    "if results.pvalue < alpha:\n",
    "    print('Отвергаем нулевую гипотезу')\n",
    "else:\n",
    "    print('Нет оснований отвергнуть нулевую гипотезу')\n",
    "# проверка, меньше ли p-значение результатов исследования, чем уровень значимости \n",
    "# если это так, то нулевая гипотеза отвергается и выводится соответствующее сообщение\n",
    "# в противном случае выводится сообщение о том, что нет оснований отвергать нулевую гипотезу"
   ]
  },
  {
   "cell_type": "markdown",
   "id": "3e97d8f1",
   "metadata": {},
   "source": [
    "Полученное значение p-value (1.32e-37) меньше заданного уровня значимости, равного 0.05. На имеющихся данных, на уровне значимости 5%, есть основания отвергнуть нулевую гипотезу о равенстве средних значений количества баллов кредитного скоринга у клиентов, которые ушли из банка и которые остались, в пользу альтернативной гипотезы — средние значения количества баллов кредитного скоринга у клиентов, ушедших из банка и оставшихся, разные."
   ]
  },
  {
   "cell_type": "markdown",
   "id": "791c799c",
   "metadata": {},
   "source": [
    "<div class=\"alert alert-success\">\n",
    "<b>👍 Успех:</b> Все верно!\n",
    "</div>"
   ]
  },
  {
   "cell_type": "markdown",
   "id": "38c19320",
   "metadata": {},
   "source": [
    "### Проверка гипотезы различия количества используемых банковских продуктов между теми клиентами, которые ушли и теми, которые остались"
   ]
  },
  {
   "cell_type": "markdown",
   "id": "a6f7c066",
   "metadata": {},
   "source": [
    "Проверим гипотезу о том, что средние значения количества используемых банковских продуктов у клиентов, которые ушли из банка и которые остались, разные. Рассчитаем размер выборок и стандартные отклонения, по которым можно судить о равенстве дисперсий рассматриваемых выборок."
   ]
  },
  {
   "cell_type": "code",
   "execution_count": 81,
   "id": "d7209531",
   "metadata": {},
   "outputs": [],
   "source": [
    "products_not_churn = data.query('churn == 0')['products']\n",
    "# присваивание переменной ‘products_not_churn’ значений столбца ‘products’ датафрейма ‘data’ с условием, \n",
    "# что значения столбца ‘churn’ равны 0"
   ]
  },
  {
   "cell_type": "code",
   "execution_count": 82,
   "id": "1b270531",
   "metadata": {},
   "outputs": [],
   "source": [
    "products_churn = data.query('churn == 1')['products']\n",
    "# присваивание переменной ‘products_churn’ значений столбца ‘products’ датафрейма ‘data’ с условием, \n",
    "# что значения столбца ‘churn’ равны 1"
   ]
  },
  {
   "cell_type": "code",
   "execution_count": 83,
   "id": "ece93392",
   "metadata": {},
   "outputs": [
    {
     "data": {
      "text/html": [
       "<div>\n",
       "<style scoped>\n",
       "    .dataframe tbody tr th:only-of-type {\n",
       "        vertical-align: middle;\n",
       "    }\n",
       "\n",
       "    .dataframe tbody tr th {\n",
       "        vertical-align: top;\n",
       "    }\n",
       "\n",
       "    .dataframe thead th {\n",
       "        text-align: right;\n",
       "    }\n",
       "</style>\n",
       "<table border=\"1\" class=\"dataframe\">\n",
       "  <thead>\n",
       "    <tr style=\"text-align: right;\">\n",
       "      <th></th>\n",
       "      <th>products</th>\n",
       "    </tr>\n",
       "  </thead>\n",
       "  <tbody>\n",
       "    <tr>\n",
       "      <th>count</th>\n",
       "      <td>8155.00</td>\n",
       "    </tr>\n",
       "    <tr>\n",
       "      <th>mean</th>\n",
       "      <td>1.76</td>\n",
       "    </tr>\n",
       "    <tr>\n",
       "      <th>std</th>\n",
       "      <td>0.71</td>\n",
       "    </tr>\n",
       "    <tr>\n",
       "      <th>min</th>\n",
       "      <td>1.00</td>\n",
       "    </tr>\n",
       "    <tr>\n",
       "      <th>25%</th>\n",
       "      <td>1.00</td>\n",
       "    </tr>\n",
       "    <tr>\n",
       "      <th>50%</th>\n",
       "      <td>2.00</td>\n",
       "    </tr>\n",
       "    <tr>\n",
       "      <th>75%</th>\n",
       "      <td>2.00</td>\n",
       "    </tr>\n",
       "    <tr>\n",
       "      <th>max</th>\n",
       "      <td>5.00</td>\n",
       "    </tr>\n",
       "  </tbody>\n",
       "</table>\n",
       "</div>"
      ],
      "text/plain": [
       "       products\n",
       "count   8155.00\n",
       "mean       1.76\n",
       "std        0.71\n",
       "min        1.00\n",
       "25%        1.00\n",
       "50%        2.00\n",
       "75%        2.00\n",
       "max        5.00"
      ]
     },
     "execution_count": 83,
     "metadata": {},
     "output_type": "execute_result"
    }
   ],
   "source": [
    "round(products_not_churn.describe().to_frame(), 2)\n",
    "# вывод статистической информации о значениях ‘products_not_churn’\n",
    "# с округлением до 2-х знаков после запятой"
   ]
  },
  {
   "cell_type": "code",
   "execution_count": 84,
   "id": "e4e626f5",
   "metadata": {},
   "outputs": [
    {
     "data": {
      "text/html": [
       "<div>\n",
       "<style scoped>\n",
       "    .dataframe tbody tr th:only-of-type {\n",
       "        vertical-align: middle;\n",
       "    }\n",
       "\n",
       "    .dataframe tbody tr th {\n",
       "        vertical-align: top;\n",
       "    }\n",
       "\n",
       "    .dataframe thead th {\n",
       "        text-align: right;\n",
       "    }\n",
       "</style>\n",
       "<table border=\"1\" class=\"dataframe\">\n",
       "  <thead>\n",
       "    <tr style=\"text-align: right;\">\n",
       "      <th></th>\n",
       "      <th>products</th>\n",
       "    </tr>\n",
       "  </thead>\n",
       "  <tbody>\n",
       "    <tr>\n",
       "      <th>count</th>\n",
       "      <td>1818.00</td>\n",
       "    </tr>\n",
       "    <tr>\n",
       "      <th>mean</th>\n",
       "      <td>2.38</td>\n",
       "    </tr>\n",
       "    <tr>\n",
       "      <th>std</th>\n",
       "      <td>0.92</td>\n",
       "    </tr>\n",
       "    <tr>\n",
       "      <th>min</th>\n",
       "      <td>1.00</td>\n",
       "    </tr>\n",
       "    <tr>\n",
       "      <th>25%</th>\n",
       "      <td>2.00</td>\n",
       "    </tr>\n",
       "    <tr>\n",
       "      <th>50%</th>\n",
       "      <td>2.00</td>\n",
       "    </tr>\n",
       "    <tr>\n",
       "      <th>75%</th>\n",
       "      <td>3.00</td>\n",
       "    </tr>\n",
       "    <tr>\n",
       "      <th>max</th>\n",
       "      <td>5.00</td>\n",
       "    </tr>\n",
       "  </tbody>\n",
       "</table>\n",
       "</div>"
      ],
      "text/plain": [
       "       products\n",
       "count   1818.00\n",
       "mean       2.38\n",
       "std        0.92\n",
       "min        1.00\n",
       "25%        2.00\n",
       "50%        2.00\n",
       "75%        3.00\n",
       "max        5.00"
      ]
     },
     "execution_count": 84,
     "metadata": {},
     "output_type": "execute_result"
    }
   ],
   "source": [
    "round(products_churn.describe().to_frame(), 2)\n",
    "# вывод статистической информации о значениях ‘products_churn’\n",
    "# с округлением до 2-х знаков после запятой"
   ]
  },
  {
   "cell_type": "markdown",
   "id": "0bf9ada7",
   "metadata": {},
   "source": [
    "Количество клиентов, оставшихся в банке (8 тыс. 155) и ушедших из него (1 тыс. 818) не совпадает. Стандартные отклонения количества используемых банковских продуктов у тех клиентов, которые не ушли из банка (0.71), и тех, которые ушли из банка (0.92), отличаются, что указывает на то, что дисперсии тоже не являются одинаковыми. Укажем параметр equal_var как False при вызове метода scipy.stats.ttest_ind(), чтобы тест посчитал дисперсии выборок независимо друг от друга."
   ]
  },
  {
   "cell_type": "markdown",
   "id": "bcf65741",
   "metadata": {},
   "source": [
    "Определим, различаются ли средние значения количества используемых банковских продуктов у клиентов, которые ушли из банка и которые остались.\n",
    "\n",
    "- Нулевая гипотеза: средние значения количества используемых банковских продуктов у клиентов, которые ушли из банка и которые остались, равны.\n",
    "- Альтернативная гипотеза: средние значения количества используемых банковских продуктов у клиентов, которые ушли из банка и которые остались, не равны.\n",
    "    \n",
    "Установим значение 0.05 в качестве уровня статистической значимости."
   ]
  },
  {
   "cell_type": "code",
   "execution_count": 85,
   "id": "e4665461",
   "metadata": {},
   "outputs": [
    {
     "name": "stdout",
     "output_type": "stream",
     "text": [
      "p-value: 1.2671065900765871e-138\n",
      "Отвергаем нулевую гипотезу\n"
     ]
    }
   ],
   "source": [
    "alpha = 0.05\n",
    "# создание переменной ‘alpha’, равной 0.05, для установки уровня статистической значимости\n",
    "\n",
    "results = st.ttest_ind(products_not_churn, products_churn, equal_var=False)\n",
    "# проведение ttest для двух выборок\n",
    "\n",
    "print(f'p-value: {results.pvalue}')\n",
    "# вывод на экран получившегося p-значения\n",
    "\n",
    "if results.pvalue < alpha:\n",
    "    print('Отвергаем нулевую гипотезу')\n",
    "else:\n",
    "    print('Нет оснований отвергнуть нулевую гипотезу')\n",
    "# проверка, меньше ли p-значение результатов исследования, чем уровень значимости \n",
    "# если это так, то нулевая гипотеза отвергается и выводится соответствующее сообщение\n",
    "# в противном случае выводится сообщение о том, что нет оснований отвергать нулевую гипотезу"
   ]
  },
  {
   "cell_type": "markdown",
   "id": "7d9cd43f",
   "metadata": {},
   "source": [
    "Полученное значение p-value (1.27e-138) меньше заданного уровня значимости, равного 0.05. На имеющихся данных, на уровне значимости 5%, есть основания отвергнуть нулевую гипотезу о равенстве средних значений количества используемых банковских продуктов у клиентов, которые ушли из банка и которые остались, в пользу альтернативной гипотезы — средние значения количества используемых банковских продуктов у клиентов, ушедших из банка и оставшихся, разные."
   ]
  },
  {
   "cell_type": "markdown",
   "id": "b2d33b39",
   "metadata": {},
   "source": [
    "<div class=\"alert alert-success\">\n",
    "<b>👍 Успех:</b> Все верно!\n",
    "</div>"
   ]
  },
  {
   "cell_type": "markdown",
   "id": "c8317199",
   "metadata": {},
   "source": [
    "### Проверка гипотезы различия в проявлении активности между теми клиентами, которые ушли и теми, которые остались"
   ]
  },
  {
   "cell_type": "markdown",
   "id": "f95c6eeb",
   "metadata": {},
   "source": [
    "Проверим гипотезу о том, что средние значения показателя активности у клиентов, которые ушли из банка и которые остались, разные. Рассчитаем размер выборок и стандартные отклонения, по которым можно судить о равенстве дисперсий рассматриваемых выборок."
   ]
  },
  {
   "cell_type": "code",
   "execution_count": 86,
   "id": "a19977b7",
   "metadata": {},
   "outputs": [],
   "source": [
    "activity_not_churn = data.query('churn == 0')['last_activity']\n",
    "# присваивание переменной ‘activity_not_churn’ значений столбца ‘last_activity’ датафрейма ‘data’ с условием, \n",
    "# что значения столбца ‘churn’ равны 0"
   ]
  },
  {
   "cell_type": "code",
   "execution_count": 87,
   "id": "7731afe6",
   "metadata": {},
   "outputs": [],
   "source": [
    "activity_churn = data.query('churn == 1')['last_activity']\n",
    "# присваивание переменной ‘activity_churn’ значений столбца ‘last_activity’ датафрейма ‘data’ с условием, \n",
    "# что значения столбца ‘churn’ равны 1"
   ]
  },
  {
   "cell_type": "code",
   "execution_count": 88,
   "id": "ac00ec03",
   "metadata": {},
   "outputs": [
    {
     "data": {
      "text/html": [
       "<div>\n",
       "<style scoped>\n",
       "    .dataframe tbody tr th:only-of-type {\n",
       "        vertical-align: middle;\n",
       "    }\n",
       "\n",
       "    .dataframe tbody tr th {\n",
       "        vertical-align: top;\n",
       "    }\n",
       "\n",
       "    .dataframe thead th {\n",
       "        text-align: right;\n",
       "    }\n",
       "</style>\n",
       "<table border=\"1\" class=\"dataframe\">\n",
       "  <thead>\n",
       "    <tr style=\"text-align: right;\">\n",
       "      <th></th>\n",
       "      <th>last_activity</th>\n",
       "    </tr>\n",
       "  </thead>\n",
       "  <tbody>\n",
       "    <tr>\n",
       "      <th>count</th>\n",
       "      <td>8155.00</td>\n",
       "    </tr>\n",
       "    <tr>\n",
       "      <th>mean</th>\n",
       "      <td>0.48</td>\n",
       "    </tr>\n",
       "    <tr>\n",
       "      <th>std</th>\n",
       "      <td>0.50</td>\n",
       "    </tr>\n",
       "    <tr>\n",
       "      <th>min</th>\n",
       "      <td>0.00</td>\n",
       "    </tr>\n",
       "    <tr>\n",
       "      <th>25%</th>\n",
       "      <td>0.00</td>\n",
       "    </tr>\n",
       "    <tr>\n",
       "      <th>50%</th>\n",
       "      <td>0.00</td>\n",
       "    </tr>\n",
       "    <tr>\n",
       "      <th>75%</th>\n",
       "      <td>1.00</td>\n",
       "    </tr>\n",
       "    <tr>\n",
       "      <th>max</th>\n",
       "      <td>1.00</td>\n",
       "    </tr>\n",
       "  </tbody>\n",
       "</table>\n",
       "</div>"
      ],
      "text/plain": [
       "       last_activity\n",
       "count        8155.00\n",
       "mean            0.48\n",
       "std             0.50\n",
       "min             0.00\n",
       "25%             0.00\n",
       "50%             0.00\n",
       "75%             1.00\n",
       "max             1.00"
      ]
     },
     "execution_count": 88,
     "metadata": {},
     "output_type": "execute_result"
    }
   ],
   "source": [
    "round(activity_not_churn.describe().to_frame(), 2)\n",
    "# вывод статистической информации о значениях ‘activity_not_churn’\n",
    "# с округлением до 2-х знаков после запятой"
   ]
  },
  {
   "cell_type": "code",
   "execution_count": 89,
   "id": "9f6bca69",
   "metadata": {},
   "outputs": [
    {
     "data": {
      "text/html": [
       "<div>\n",
       "<style scoped>\n",
       "    .dataframe tbody tr th:only-of-type {\n",
       "        vertical-align: middle;\n",
       "    }\n",
       "\n",
       "    .dataframe tbody tr th {\n",
       "        vertical-align: top;\n",
       "    }\n",
       "\n",
       "    .dataframe thead th {\n",
       "        text-align: right;\n",
       "    }\n",
       "</style>\n",
       "<table border=\"1\" class=\"dataframe\">\n",
       "  <thead>\n",
       "    <tr style=\"text-align: right;\">\n",
       "      <th></th>\n",
       "      <th>last_activity</th>\n",
       "    </tr>\n",
       "  </thead>\n",
       "  <tbody>\n",
       "    <tr>\n",
       "      <th>count</th>\n",
       "      <td>1818.00</td>\n",
       "    </tr>\n",
       "    <tr>\n",
       "      <th>mean</th>\n",
       "      <td>0.70</td>\n",
       "    </tr>\n",
       "    <tr>\n",
       "      <th>std</th>\n",
       "      <td>0.46</td>\n",
       "    </tr>\n",
       "    <tr>\n",
       "      <th>min</th>\n",
       "      <td>0.00</td>\n",
       "    </tr>\n",
       "    <tr>\n",
       "      <th>25%</th>\n",
       "      <td>0.00</td>\n",
       "    </tr>\n",
       "    <tr>\n",
       "      <th>50%</th>\n",
       "      <td>1.00</td>\n",
       "    </tr>\n",
       "    <tr>\n",
       "      <th>75%</th>\n",
       "      <td>1.00</td>\n",
       "    </tr>\n",
       "    <tr>\n",
       "      <th>max</th>\n",
       "      <td>1.00</td>\n",
       "    </tr>\n",
       "  </tbody>\n",
       "</table>\n",
       "</div>"
      ],
      "text/plain": [
       "       last_activity\n",
       "count        1818.00\n",
       "mean            0.70\n",
       "std             0.46\n",
       "min             0.00\n",
       "25%             0.00\n",
       "50%             1.00\n",
       "75%             1.00\n",
       "max             1.00"
      ]
     },
     "execution_count": 89,
     "metadata": {},
     "output_type": "execute_result"
    }
   ],
   "source": [
    "round(activity_churn.describe().to_frame(), 2)\n",
    "# вывод статистической информации о значениях ‘activity_churn’\n",
    "# с округлением до 2-х знаков после запятой"
   ]
  },
  {
   "cell_type": "markdown",
   "id": "edd65d69",
   "metadata": {},
   "source": [
    "Количество клиентов, оставшихся в банке (8 тыс. 155) и ушедших из него (1 тыс. 818) не совпадает. Стандартные отклонения показателя активности у тех клиентов, которые не ушли из банка (0.5), и тех, которые ушли из банка (0.46), немного отличаются, что указывает на то, что дисперсии тоже не являются одинаковыми. Укажем параметр equal_var как False при вызове метода scipy.stats.ttest_ind(), чтобы тест посчитал дисперсии выборок независимо друг от друга."
   ]
  },
  {
   "cell_type": "markdown",
   "id": "7c26a7f4",
   "metadata": {},
   "source": [
    "Определим, различаются ли средние значения показателя активности у клиентов, которые ушли из банка и которые остались.\n",
    "\n",
    "- Нулевая гипотеза: средние значения показателя активности у клиентов, которые ушли из банка и которые остались, равны.\n",
    "- Альтернативная гипотеза: средние значения показателя активности у клиентов, которые ушли из банка и которые остались, не равны.\n",
    "    \n",
    "Установим значение 0.05 в качестве уровня статистической значимости."
   ]
  },
  {
   "cell_type": "code",
   "execution_count": 90,
   "id": "aa3a9af5",
   "metadata": {},
   "outputs": [
    {
     "name": "stdout",
     "output_type": "stream",
     "text": [
      "p-value: 4.7100589793857774e-70\n",
      "Отвергаем нулевую гипотезу\n"
     ]
    }
   ],
   "source": [
    "alpha = 0.05\n",
    "# создание переменной ‘alpha’, равной 0.05, для установки уровня статистической значимости\n",
    "\n",
    "results = st.ttest_ind(activity_not_churn, activity_churn, equal_var=False)\n",
    "# проведение ttest для двух выборок\n",
    "\n",
    "print(f'p-value: {results.pvalue}')\n",
    "# вывод на экран получившегося p-значения\n",
    "\n",
    "if results.pvalue < alpha:\n",
    "    print('Отвергаем нулевую гипотезу')\n",
    "else:\n",
    "    print('Нет оснований отвергнуть нулевую гипотезу')\n",
    "# проверка, меньше ли p-значение результатов исследования, чем уровень значимости \n",
    "# если это так, то нулевая гипотеза отвергается и выводится соответствующее сообщение\n",
    "# в противном случае выводится сообщение о том, что нет оснований отвергать нулевую гипотезу"
   ]
  },
  {
   "cell_type": "markdown",
   "id": "46be5a07",
   "metadata": {},
   "source": [
    "Полученное значение p-value (4.71e-70) меньше заданного уровня значимости, равного 0.05. На имеющихся данных, на уровне значимости 5%, есть основания отвергнуть нулевую гипотезу о равенстве средних значений показателя активности у клиентов, которые ушли из банка и которые остались, в пользу альтернативной гипотезы — средние значения показателя активности у клиентов, ушедших из банка и оставшихся, разные."
   ]
  },
  {
   "cell_type": "markdown",
   "id": "c997236d",
   "metadata": {},
   "source": [
    "<div class=\"alert alert-success\">\n",
    "<b>👍 Успех:</b> Все верно!\n",
    "</div>"
   ]
  },
  {
   "cell_type": "markdown",
   "id": "1971c3fb",
   "metadata": {},
   "source": [
    "### Проверка гипотезы различия количества баллов собственности между теми клиентами, которые ушли и теми, которые остались"
   ]
  },
  {
   "cell_type": "markdown",
   "id": "5672907d",
   "metadata": {},
   "source": [
    "Проверим гипотезу о том, что средние значения количества баллов собственности у клиентов, которые ушли из банка и которые остались, разные. Рассчитаем размер выборок и стандартные отклонения, по которым можно судить о равенстве дисперсий рассматриваемых выборок."
   ]
  },
  {
   "cell_type": "code",
   "execution_count": 91,
   "id": "f2cb42af",
   "metadata": {},
   "outputs": [],
   "source": [
    "equity_not_churn = data.query('churn == 0')['equity']\n",
    "# присваивание переменной ‘equity_not_churn’ значений столбца ‘equity’ датафрейма ‘data’ с условием, \n",
    "# что значения столбца ‘churn’ равны 0"
   ]
  },
  {
   "cell_type": "code",
   "execution_count": 92,
   "id": "0e5fdaa6",
   "metadata": {},
   "outputs": [],
   "source": [
    "equity_churn = data.query('churn == 1')['equity']\n",
    "# присваивание переменной ‘equity_churn’ значений столбца ‘equity’ датафрейма ‘data’ с условием, \n",
    "# что значения столбца ‘churn’ равны 1"
   ]
  },
  {
   "cell_type": "code",
   "execution_count": 93,
   "id": "304451a0",
   "metadata": {},
   "outputs": [
    {
     "data": {
      "text/html": [
       "<div>\n",
       "<style scoped>\n",
       "    .dataframe tbody tr th:only-of-type {\n",
       "        vertical-align: middle;\n",
       "    }\n",
       "\n",
       "    .dataframe tbody tr th {\n",
       "        vertical-align: top;\n",
       "    }\n",
       "\n",
       "    .dataframe thead th {\n",
       "        text-align: right;\n",
       "    }\n",
       "</style>\n",
       "<table border=\"1\" class=\"dataframe\">\n",
       "  <thead>\n",
       "    <tr style=\"text-align: right;\">\n",
       "      <th></th>\n",
       "      <th>equity</th>\n",
       "    </tr>\n",
       "  </thead>\n",
       "  <tbody>\n",
       "    <tr>\n",
       "      <th>count</th>\n",
       "      <td>8155.00</td>\n",
       "    </tr>\n",
       "    <tr>\n",
       "      <th>mean</th>\n",
       "      <td>2.38</td>\n",
       "    </tr>\n",
       "    <tr>\n",
       "      <th>std</th>\n",
       "      <td>1.97</td>\n",
       "    </tr>\n",
       "    <tr>\n",
       "      <th>min</th>\n",
       "      <td>0.00</td>\n",
       "    </tr>\n",
       "    <tr>\n",
       "      <th>25%</th>\n",
       "      <td>0.00</td>\n",
       "    </tr>\n",
       "    <tr>\n",
       "      <th>50%</th>\n",
       "      <td>3.00</td>\n",
       "    </tr>\n",
       "    <tr>\n",
       "      <th>75%</th>\n",
       "      <td>4.00</td>\n",
       "    </tr>\n",
       "    <tr>\n",
       "      <th>max</th>\n",
       "      <td>9.00</td>\n",
       "    </tr>\n",
       "  </tbody>\n",
       "</table>\n",
       "</div>"
      ],
      "text/plain": [
       "        equity\n",
       "count  8155.00\n",
       "mean      2.38\n",
       "std       1.97\n",
       "min       0.00\n",
       "25%       0.00\n",
       "50%       3.00\n",
       "75%       4.00\n",
       "max       9.00"
      ]
     },
     "execution_count": 93,
     "metadata": {},
     "output_type": "execute_result"
    }
   ],
   "source": [
    "round(equity_not_churn.describe().to_frame(), 2)\n",
    "# вывод статистической информации о значениях ‘equity_not_churn’\n",
    "# с округлением до 2-х знаков после запятой"
   ]
  },
  {
   "cell_type": "code",
   "execution_count": 94,
   "id": "ea1389a9",
   "metadata": {},
   "outputs": [
    {
     "data": {
      "text/html": [
       "<div>\n",
       "<style scoped>\n",
       "    .dataframe tbody tr th:only-of-type {\n",
       "        vertical-align: middle;\n",
       "    }\n",
       "\n",
       "    .dataframe tbody tr th {\n",
       "        vertical-align: top;\n",
       "    }\n",
       "\n",
       "    .dataframe thead th {\n",
       "        text-align: right;\n",
       "    }\n",
       "</style>\n",
       "<table border=\"1\" class=\"dataframe\">\n",
       "  <thead>\n",
       "    <tr style=\"text-align: right;\">\n",
       "      <th></th>\n",
       "      <th>equity</th>\n",
       "    </tr>\n",
       "  </thead>\n",
       "  <tbody>\n",
       "    <tr>\n",
       "      <th>count</th>\n",
       "      <td>1818.00</td>\n",
       "    </tr>\n",
       "    <tr>\n",
       "      <th>mean</th>\n",
       "      <td>3.76</td>\n",
       "    </tr>\n",
       "    <tr>\n",
       "      <th>std</th>\n",
       "      <td>1.59</td>\n",
       "    </tr>\n",
       "    <tr>\n",
       "      <th>min</th>\n",
       "      <td>0.00</td>\n",
       "    </tr>\n",
       "    <tr>\n",
       "      <th>25%</th>\n",
       "      <td>3.00</td>\n",
       "    </tr>\n",
       "    <tr>\n",
       "      <th>50%</th>\n",
       "      <td>4.00</td>\n",
       "    </tr>\n",
       "    <tr>\n",
       "      <th>75%</th>\n",
       "      <td>5.00</td>\n",
       "    </tr>\n",
       "    <tr>\n",
       "      <th>max</th>\n",
       "      <td>9.00</td>\n",
       "    </tr>\n",
       "  </tbody>\n",
       "</table>\n",
       "</div>"
      ],
      "text/plain": [
       "        equity\n",
       "count  1818.00\n",
       "mean      3.76\n",
       "std       1.59\n",
       "min       0.00\n",
       "25%       3.00\n",
       "50%       4.00\n",
       "75%       5.00\n",
       "max       9.00"
      ]
     },
     "execution_count": 94,
     "metadata": {},
     "output_type": "execute_result"
    }
   ],
   "source": [
    "round(equity_churn.describe().to_frame(), 2)\n",
    "# вывод статистической информации о значениях ‘equity_churn’\n",
    "# с округлением до 2-х знаков после запятой"
   ]
  },
  {
   "cell_type": "markdown",
   "id": "908c5d51",
   "metadata": {},
   "source": [
    "Количество клиентов, оставшихся в банке (8 тыс. 155) и ушедших из него (1 тыс. 818) не совпадает. Стандартные отклонения количества баллов собственности у тех клиентов, которые не ушли из банка (1.97), и тех, которые ушли из банка (1.59), отличаются, что указывает на то, что дисперсии тоже не являются одинаковыми. Укажем параметр equal_var как False при вызове метода scipy.stats.ttest_ind(), чтобы тест посчитал дисперсии выборок независимо друг от друга."
   ]
  },
  {
   "cell_type": "markdown",
   "id": "f0b8c9fd",
   "metadata": {},
   "source": [
    "Определим, различаются ли средние значения количества баллов собственности у клиентов, которые ушли из банка и которые остались.\n",
    "\n",
    "- Нулевая гипотеза: средние значения количества баллов собственности у клиентов, которые ушли из банка и которые остались, равны.\n",
    "- Альтернативная гипотеза: средние значения количества баллов собственности у клиентов, которые ушли из банка и которые остались, не равны.\n",
    "    \n",
    "Установим значение 0.05 в качестве уровня статистической значимости."
   ]
  },
  {
   "cell_type": "code",
   "execution_count": 95,
   "id": "88e1834d",
   "metadata": {},
   "outputs": [
    {
     "name": "stdout",
     "output_type": "stream",
     "text": [
      "p-value: 2.2265321241808214e-196\n",
      "Отвергаем нулевую гипотезу\n"
     ]
    }
   ],
   "source": [
    "alpha = 0.05\n",
    "# создание переменной ‘alpha’, равной 0.05, для установки уровня статистической значимости\n",
    "\n",
    "results = st.ttest_ind(equity_not_churn, equity_churn, equal_var=False)\n",
    "# проведение ttest для двух выборок\n",
    "\n",
    "print(f'p-value: {results.pvalue}')\n",
    "# вывод на экран получившегося p-значения\n",
    "\n",
    "if results.pvalue < alpha:\n",
    "    print('Отвергаем нулевую гипотезу')\n",
    "else:\n",
    "    print('Нет оснований отвергнуть нулевую гипотезу')\n",
    "# проверка, меньше ли p-значение результатов исследования, чем уровень значимости \n",
    "# если это так, то нулевая гипотеза отвергается и выводится соответствующее сообщение\n",
    "# в противном случае выводится сообщение о том, что нет оснований отвергать нулевую гипотезу"
   ]
  },
  {
   "cell_type": "markdown",
   "id": "ccdfa567",
   "metadata": {},
   "source": [
    "Полученное значение p-value (2.23e-196) меньше заданного уровня значимости, равного 0.05. На имеющихся данных, на уровне значимости 5%, есть основания отвергнуть нулевую гипотезу о равенстве средних значений количества баллов собственности у клиентов, которые ушли из банка и которые остались, в пользу альтернативной гипотезы — средние значения количества баллов собственности у клиентов, ушедших из банка и оставшихся, разные."
   ]
  },
  {
   "cell_type": "markdown",
   "id": "c759ffde",
   "metadata": {},
   "source": [
    "При проверке статистических гипотез выше нами было выбрано значение 0.05 в качестве уровня статистической значимости. Если бы был использован меньший уровень значимости, равный 0.01, то результаты бы не изменились, так как полученные p-значения получились намного больше или меньше 0.05, и они больше или меньше и 0.01."
   ]
  },
  {
   "cell_type": "markdown",
   "id": "393c8f75",
   "metadata": {},
   "source": [
    "<div class=\"alert alert-success\">\n",
    "<b>👍 Успех:</b> Все верно!\n",
    "</div>"
   ]
  },
  {
   "cell_type": "markdown",
   "id": "0842298a",
   "metadata": {},
   "source": [
    "### Вывод"
   ]
  },
  {
   "cell_type": "markdown",
   "id": "48f864e7",
   "metadata": {},
   "source": [
    "Нами была проведена проверка восьми статистических гипотез. Для сравнения средних арифметических значений двух групп использовался t-тест. Уровень статистической значимости составлял 0.05.\n",
    "\n",
    "Гипотеза о том, что средние значения дохода клиентов, которые ушли из банка и которые остались, являются разными, не подтвердилась.\n",
    "\n",
    "Остальные гипотезы о различиях средних значений определённых признаков между клиентами, ушедшими из банка и оставшимися, были подтверждены.\n",
    "\n",
    "У клиентов, которые ушли из банка и которые остались, различаются средние значения возраста, показателя наличия кредитной карты, гендерного показателя, количества баллов кредитного скоринга, количества используемых банковских продуктов, показателя активности и количества баллов собственности. Используем данные признаки для выделения отточных сегментов."
   ]
  },
  {
   "cell_type": "markdown",
   "id": "d9af62fd",
   "metadata": {},
   "source": [
    "## Выделение сегментов клиентов, которые склонны уходить из банка"
   ]
  },
  {
   "cell_type": "markdown",
   "id": "c70c5463",
   "metadata": {},
   "source": [
    "### Использование признаков, влияющих на отток клиентов, для выделения сегментов"
   ]
  },
  {
   "cell_type": "markdown",
   "id": "00ed2b22",
   "metadata": {},
   "source": [
    "Сформируем сегменты клиентов, склонных к уходу из банка, используя полученные ранее значения и интервалы отточности по признакам, влияющим на отток."
   ]
  },
  {
   "cell_type": "code",
   "execution_count": 96,
   "id": "820f2380",
   "metadata": {},
   "outputs": [],
   "source": [
    "segment_1 = data.query('(equity >= 3) and (last_activity == 1) and \\\n",
    "((score >= 820 and score <= 910) or (score >= 920 and score <= 940))')\n",
    "# запись в переменную ‘segment_1’ строк датафрейма ‘data’ с условием, \n",
    "# что значения столбца ‘equity’ равны или больше 3,\n",
    "# значения столбца ‘last_activity’ равны 1,\n",
    "# значения столбца ‘score’ равны 820-910 или 920-940\n",
    "segment_2 = data.query('(credit_card == 0) and (equity >= 3) and (gender == \"М\")')\n",
    "# запись в переменную ‘segment_2’ строк датафрейма ‘data’ с условием, \n",
    "# что значения столбца ‘credit_card’ равны 0,\n",
    "# значения столбца ‘equity’ равны или больше 3,\n",
    "# значения столбца ‘gender’ равны ‘М’\n",
    "segment_3 = data.query('(equity >= 3) and (last_activity == 1) and (gender == \"М\")')\n",
    "# запись в переменную ‘segment_3’ строк датафрейма ‘data’ с условием, \n",
    "# что значения столбца ‘equity’ равны или больше 3,\n",
    "# значения столбца ‘last_activity’ равны 1,\n",
    "# значения столбца ‘gender’ равны ‘М’\n",
    "segment_4 = data.query('(equity >= 3) and (last_activity == 1) and (age >= 24 and age <= 36)')\n",
    "# запись в переменную ‘segment_4’ строк датафрейма ‘data’ с условием, \n",
    "# что значения столбца ‘equity’ равны или больше 3,\n",
    "# значения столбца ‘last_activity’ равны 1,\n",
    "# значения столбца ‘age’ равны 24-36\n",
    "segment_5 = data.query('(equity >= 3) and (last_activity == 1) and (age >= 50 and age <= 60)')\n",
    "# запись в переменную ‘segment_5’ строк датафрейма ‘data’ с условием, \n",
    "# что значения столбца ‘equity’ равны или больше 3,\n",
    "# значения столбца ‘last_activity’ равны 1,\n",
    "# значения столбца ‘age’ равны 50-60\n",
    "segment_6 = data.query('(equity >= 3) and (last_activity == 1) and (credit_card == 0)')\n",
    "# запись в переменную ‘segment_6’ строк датафрейма ‘data’ с условием, \n",
    "# что значения столбца ‘equity’ равны или больше 3,\n",
    "# значения столбца ‘last_activity’ равны 1,\n",
    "# значения столбца ‘credit_card’ равны 0\n",
    "segment_7 = data.query('(products >= 2) and ((score >= 820 and score <= 910) or (score >= 920 and score <= 940)) and \\\n",
    "(last_activity == 1)')\n",
    "# запись в переменную ‘segment_7’ строк датафрейма ‘data’ с условием, \n",
    "# что значения столбца ‘products’ равны или больше 2,\n",
    "# значения столбца ‘score’ равны 820-910 или 920-940,\n",
    "# значения столбца ‘last_activity’ равны 1"
   ]
  },
  {
   "cell_type": "markdown",
   "id": "c83a59a9",
   "metadata": {},
   "source": [
    "Нами выделено семь сегментов с клиентами, склонными к оттоку, по таким признакам, как пол, возраст, количество баллов собственности, проявление активности, количество используемых банковских продуктов, количество баллов кредитного скоринга и наличие кредитной карты."
   ]
  },
  {
   "cell_type": "markdown",
   "id": "cd2f7df3",
   "metadata": {},
   "source": [
    "### Рассчёт для каждого сегмента количества клиентов, количества ушедших из банка клиентов и процента оттока"
   ]
  },
  {
   "cell_type": "markdown",
   "id": "0c7a2b9b",
   "metadata": {},
   "source": [
    "Напишем функцию для расчёта общего количества клиентов банка в сегменте, количества и процента ушедших из банка клиентов."
   ]
  },
  {
   "cell_type": "code",
   "execution_count": 97,
   "id": "3e8a8493",
   "metadata": {},
   "outputs": [],
   "source": [
    "def number_and_share_of_clients(segment):\n",
    "    number_of_clients = segment['churn'].count()\n",
    "    amount_of_churn = segment['churn'].sum()\n",
    "    share_of_churn = segment['churn'].mean()\n",
    "    return number_of_clients, amount_of_churn, share_of_churn\n",
    "# объявление функции ‘number_and_share_of_clients’, которая принимает определённый сегмент\n",
    "# создание переменной ‘number_of_clients’, \n",
    "# которая содержит количество значений столбца ‘churn’ в датафрейме ‘segment’\n",
    "# создание переменной ‘amount_of_churn’, \n",
    "# которая содержит сумму значений столбца ‘churn’ в датафрейме ‘segment’\n",
    "# создание переменной ‘share_of_churn’, \n",
    "# которая содержит среднее значение столбца ‘churn’ в датафрейме ‘segment’"
   ]
  },
  {
   "cell_type": "markdown",
   "id": "417a7a1a",
   "metadata": {},
   "source": [
    "Создадим таблицу с вычисленными для каждого сегмента тремя показателями: число пользователей в сегменте, количество ушедших из банка клиентов и процент оттока."
   ]
  },
  {
   "cell_type": "code",
   "execution_count": 98,
   "id": "9a2961d6",
   "metadata": {},
   "outputs": [
    {
     "data": {
      "text/html": [
       "<style  type=\"text/css\" >\n",
       "</style><table id=\"T_eb445_\" ><thead>    <tr>        <th class=\"blank level0\" ></th>        <th class=\"col_heading level0 col0\" >Номер сегмента</th>        <th class=\"col_heading level0 col1\" >Количество клиентов</th>        <th class=\"col_heading level0 col2\" >Количество ушедших из банка</th>        <th class=\"col_heading level0 col3\" >Процент оттока</th>    </tr></thead><tbody>\n",
       "                <tr>\n",
       "                        <th id=\"T_eb445_level0_row0\" class=\"row_heading level0 row0\" >0</th>\n",
       "                        <td id=\"T_eb445_row0_col0\" class=\"data row0 col0\" >1</td>\n",
       "                        <td id=\"T_eb445_row0_col1\" class=\"data row0 col1\" >1777</td>\n",
       "                        <td id=\"T_eb445_row0_col2\" class=\"data row0 col2\" >850</td>\n",
       "                        <td id=\"T_eb445_row0_col3\" class=\"data row0 col3\" >47.83%</td>\n",
       "            </tr>\n",
       "            <tr>\n",
       "                        <th id=\"T_eb445_level0_row1\" class=\"row_heading level0 row1\" >1</th>\n",
       "                        <td id=\"T_eb445_row1_col0\" class=\"data row1 col0\" >2</td>\n",
       "                        <td id=\"T_eb445_row1_col1\" class=\"data row1 col1\" >891</td>\n",
       "                        <td id=\"T_eb445_row1_col2\" class=\"data row1 col2\" >419</td>\n",
       "                        <td id=\"T_eb445_row1_col3\" class=\"data row1 col3\" >47.03%</td>\n",
       "            </tr>\n",
       "            <tr>\n",
       "                        <th id=\"T_eb445_level0_row2\" class=\"row_heading level0 row2\" >2</th>\n",
       "                        <td id=\"T_eb445_row2_col0\" class=\"data row2 col0\" >3</td>\n",
       "                        <td id=\"T_eb445_row2_col1\" class=\"data row2 col1\" >1408</td>\n",
       "                        <td id=\"T_eb445_row2_col2\" class=\"data row2 col2\" >650</td>\n",
       "                        <td id=\"T_eb445_row2_col3\" class=\"data row2 col3\" >46.16%</td>\n",
       "            </tr>\n",
       "            <tr>\n",
       "                        <th id=\"T_eb445_level0_row3\" class=\"row_heading level0 row3\" >3</th>\n",
       "                        <td id=\"T_eb445_row3_col0\" class=\"data row3 col0\" >4</td>\n",
       "                        <td id=\"T_eb445_row3_col1\" class=\"data row3 col1\" >1080</td>\n",
       "                        <td id=\"T_eb445_row3_col2\" class=\"data row3 col2\" >491</td>\n",
       "                        <td id=\"T_eb445_row3_col3\" class=\"data row3 col3\" >45.46%</td>\n",
       "            </tr>\n",
       "            <tr>\n",
       "                        <th id=\"T_eb445_level0_row4\" class=\"row_heading level0 row4\" >4</th>\n",
       "                        <td id=\"T_eb445_row4_col0\" class=\"data row4 col0\" >5</td>\n",
       "                        <td id=\"T_eb445_row4_col1\" class=\"data row4 col1\" >544</td>\n",
       "                        <td id=\"T_eb445_row4_col2\" class=\"data row4 col2\" >246</td>\n",
       "                        <td id=\"T_eb445_row4_col3\" class=\"data row4 col3\" >45.22%</td>\n",
       "            </tr>\n",
       "            <tr>\n",
       "                        <th id=\"T_eb445_level0_row5\" class=\"row_heading level0 row5\" >5</th>\n",
       "                        <td id=\"T_eb445_row5_col0\" class=\"data row5 col0\" >6</td>\n",
       "                        <td id=\"T_eb445_row5_col1\" class=\"data row5 col1\" >1201</td>\n",
       "                        <td id=\"T_eb445_row5_col2\" class=\"data row5 col2\" >543</td>\n",
       "                        <td id=\"T_eb445_row5_col3\" class=\"data row5 col3\" >45.21%</td>\n",
       "            </tr>\n",
       "            <tr>\n",
       "                        <th id=\"T_eb445_level0_row6\" class=\"row_heading level0 row6\" >6</th>\n",
       "                        <td id=\"T_eb445_row6_col0\" class=\"data row6 col0\" >7</td>\n",
       "                        <td id=\"T_eb445_row6_col1\" class=\"data row6 col1\" >1915</td>\n",
       "                        <td id=\"T_eb445_row6_col2\" class=\"data row6 col2\" >863</td>\n",
       "                        <td id=\"T_eb445_row6_col3\" class=\"data row6 col3\" >45.07%</td>\n",
       "            </tr>\n",
       "    </tbody></table>"
      ],
      "text/plain": [
       "<pandas.io.formats.style.Styler at 0x7f380387a2b0>"
      ]
     },
     "execution_count": 98,
     "metadata": {},
     "output_type": "execute_result"
    }
   ],
   "source": [
    "segments = {'Номер сегмента': ['1', '2', '3', '4', '5', '6', '7'], \n",
    "            'Количество клиентов': [number_and_share_of_clients(segment_1)[0], number_and_share_of_clients(segment_2)[0], \n",
    "                                    number_and_share_of_clients(segment_3)[0], number_and_share_of_clients(segment_4)[0], \n",
    "                                    number_and_share_of_clients(segment_5)[0], number_and_share_of_clients(segment_6)[0],\n",
    "                                    number_and_share_of_clients(segment_7)[0]],\n",
    "            'Количество ушедших из банка': [number_and_share_of_clients(segment_1)[1], \n",
    "                                    number_and_share_of_clients(segment_2)[1], \n",
    "                                    number_and_share_of_clients(segment_3)[1], number_and_share_of_clients(segment_4)[1], \n",
    "                                    number_and_share_of_clients(segment_5)[1], number_and_share_of_clients(segment_6)[1],\n",
    "                                    number_and_share_of_clients(segment_7)[1]], \n",
    "            'Процент оттока': [number_and_share_of_clients(segment_1)[2], number_and_share_of_clients(segment_2)[2], \n",
    "                                    number_and_share_of_clients(segment_3)[2], number_and_share_of_clients(segment_4)[2], \n",
    "                                    number_and_share_of_clients(segment_5)[2], number_and_share_of_clients(segment_6)[2],\n",
    "                                    number_and_share_of_clients(segment_7)[2]]}\n",
    "# создание словаря ‘segments’ с 4-мя ключами и 7-ю значениями для каждого ключа\n",
    "# вызов функции ‘number_and_share_of_clients’ и передача выделенных ранее сегментов в качестве аргументов\n",
    "# выбор определённых элементов с помощью индексов\n",
    "segments = pd.DataFrame(segments)\n",
    "# создание датафрейма на основе переданного словаря ‘segments’\n",
    "segments = segments.style.format({'Процент оттока': \"{:.2%}\"})\n",
    "# форматирование столбца ‘Процент оттока’ в датафрейме ‘segments’, \n",
    "# чтобы значения отображались в процентах и с 2-мя знаками после запятой\n",
    "segments\n",
    "# вывод датафрейма ‘segments’ на экран"
   ]
  },
  {
   "cell_type": "markdown",
   "id": "d348231e",
   "metadata": {},
   "source": [
    "Сегменты включают от 500 до 2 тыс. человек. Во всех сегментах процент оттока превышает средний по банку показатель, равный 18.2%. В выделенных сегментах почти половина людей относится к бывшим клиентам банка — 45-48%.\n",
    "\n",
    "Самый высокий процент оттока клиентов банка в сегменте, сформированном по количеству баллов собственности, проявлению активности и количеству баллов кредитного скоринга — 47.83%."
   ]
  },
  {
   "cell_type": "markdown",
   "id": "b4e7660f",
   "metadata": {},
   "source": [
    "<div class=\"alert alert-success\">\n",
    "<b>👍 Успех:</b> Отличные сегменты, молодец!\n",
    "</div>"
   ]
  },
  {
   "cell_type": "markdown",
   "id": "8b1e3246",
   "metadata": {},
   "source": [
    "### Описание полученных сегментов клиентов, склонных уходу из банка. Написание рекомендаций по снижению оттока клиентов банка для отдела маркетинга по каждому сегменту"
   ]
  },
  {
   "cell_type": "markdown",
   "id": "87c3f479",
   "metadata": {},
   "source": [
    "1-й сегмент:\n",
    "- 1 тыс. 777 человек;\n",
    "- 47.83% клиентов, ушедших из банка;\n",
    "- 3-9 баллов собственности;\n",
    "- активные клиенты;\n",
    "- 820-940 баллов кредитного скоринга.\n",
    "\n",
    "Рекомендации для отдела маркетинга по снижению оттока активных клиентов с относительно высокими баллами собственности и кредитного скоринга:\n",
    "- Можно разработать программы лояльности и бонусы для активных клиентов, которые помогут им чувствовать себя ценными и мотивируют продолжать пользоваться продуктами и услугами банка:\n",
    "  - начисление баллов за использование продуктов и услуг банка, которые можно потратить на оплату товаров и услуг;\n",
    "  - возврат части потраченных средств на счёт клиента, которые можно использовать для покупки других товаров и услуг;\n",
    "  - начисление бонусов за достижение определённых уровней банковской активности, которые можно использовать для получения дополнительных привилегий;\n",
    "  - предоставление привилегий и скидок на товары и услуги партнёров банка.\n",
    "- Можно предоставлять льготный период пользования банковскими продуктами, снижать процентную ставку для клиентов с высокими баллами собственности и кредитного скоринга, имеющих положительную кредитную историю.\n",
    "- Можно организовывать мероприятия, направленные на повышение финансовой грамотности и обучение управлению своими средствами, для клиентов банка с высокими баллами собственности.\n",
    "- Стоит учитывать индивидуальные особенности и предпочтения клиентов при коммуникации и предложении банковских продуктов и услуг.\n",
    "\n",
    "2-й сегмент:\n",
    "- 891 человек;\n",
    "- 47.03% клиентов, ушедших из банка;\n",
    "- только мужчины;\n",
    "- 3-9 баллов собственности;\n",
    "- нет кредитных карт.\n",
    "\n",
    "Рекомендации по удержанию клиентов банка мужского пола с относительно высокими баллами собственности, не имеющих кредитной карты:\n",
    "- Можно создавать специальные предложения для мужчин, например, скидки на автострахование.\n",
    "- Можно выпускать карты для мужчин с уникальным дизайном, отражающим их интересы и предпочтения, повышенным кешбэком в магазинах автозапчастей, спортивных, рыболовных, охотничьих товаров и т.д.\n",
    "- Можно предложить сниженную процентную ставку по автокредитам.\n",
    "- Может быть эффективным сотрудничество с партнёрами и компаниями, предоставляющими услуги и товары, востребованные среди мужской аудитории, для предоставления скидок и бонусов при использовании кредитной карты.\n",
    "\n",
    "3-й сегмент:\n",
    "- 1 тыс. 408 человек;\n",
    "- 46.16% клиентов, ушедших из банка;\n",
    "- только мужчины;\n",
    "- 3-9 баллов собственности;\n",
    "- активные клиенты.\n",
    "\n",
    "Рекомендации по уменьшению оттока активных клиентов банка мужского пола с относительно высокими баллами собственности:\n",
    "- Можно разработать специальные пакеты услуг и продуктов для мужчин, такие как бизнес-кредиты, программы кредитования под залог недвижимости.\n",
    "- Для привлечения и удержания активных клиентов мужского пола с относительно высокими баллами собственности банк может разработать эксклюзивные инвестиционные программы, учитывающие их интересы и потребности, включающие:\n",
    "  - доступ к эксклюзивным инвестиционным инструментам и стратегиям, адаптированным для мужской аудитории;\n",
    "  - индивидуальные инвестиционные портфели, разработанные с учётом профессиональной деятельности и предпочтений клиента;\n",
    "  - обучающие материалы и консультации от экспертов в области инвестиций, направленные на развитие финансовой грамотности и формирование инвестиционного плана;\n",
    "  - скидки и привилегии при обслуживании инвестиционных счетов, таких как низкие комиссии и быстрое проведение операций.\n",
    "\n",
    "4-й сегмент:\n",
    "- 1 тыс. 80 человек;\n",
    "- 45.46% клиентов, ушедших из банка;\n",
    "- 24-36 лет;\n",
    "- 3-9 баллов собственности;\n",
    "- активные клиенты.\n",
    "\n",
    "Рекомендации по удержанию активных молодых клиентов банка с относительно высокими баллами собственности:\n",
    "- Молодым активным клиентам могут быть интересны платёжные карты с технологией бесконтактной оплаты и специальным молодёжным дизайном. Можно предложить молодым людям самим принять участие в создании дизайна некоторых карт.\n",
    "- Можно создавать банковские карты, ориентированные на определённые молодёжные группы:\n",
    "  - карты с программами лояльности для любителей компьютерных игр, включающие повышенный кэшбэк и бонусы в играх;\n",
    "  - карты для вегетарианцев, дающие повышенный кэшбэк при совершении покупок у компаний-партнёров, которые предлагают экологически чистые и полезные товары;\n",
    "  - карты для спортсменов с начислением повышенного кэшбэка за покупки в спортклубах, магазинах спорттоваров;\n",
    "  - карты для девушек с повышенным кэшбэком в парикмахерских и салонах красоты.\n",
    "- Использование маскота в банке может помочь в удержании активных клиентов молодого возраста, потому что маскот создаёт эмоциональную связь с брендом и упрощает коммуникацию с клиентами.\n",
    "- Для людей молодого возраста важен функциональный интернет-банк.\n",
    "- Банк может предоставить льготы молодым людям при оформлении образовательных кредитов, ипотеки для молодых семей и кредитов на развитие малого бизнеса:\n",
    "  - сниженные процентные ставки, \n",
    "  - увеличенные сроки кредитования, \n",
    "  - возможность использования материнского капитала,\n",
    "  - предоставление гарантий по кредитам,\n",
    "  - упрощённые требования к заёмщикам.\n",
    "\n",
    "5-й сегмент:\n",
    "- 544 человека;\n",
    "- 45.22% клиентов, ушедших из банка;\n",
    "- 50-60 лет;\n",
    "- 3-9 баллов собственности;\n",
    "- активные клиенты.\n",
    "\n",
    "Рекомендации по предотвращению ухода из банка активных клиентов предпенсионного и пенсионного возраста с относительно высокими баллами собственности:\n",
    "- Важно предоставлять качественное обслуживание клиентам предпенсионного и пенсионного возраста в банке, оказывать им помощь, устранять возникающие проблемы.\n",
    "- Льготы, которые банк может предложить активным клиентам в возрасте 50-60 лет:\n",
    "  - открытие вкладов и накопительных счетов на выгодных условиях для клиентов, которым осталось немного до выхода на пенсию, и для пенсионеров;\n",
    "  - карты с бесплатным обслуживанием, повышенными бонусами, кэшбэком при оплате определённых категорий товаров и услуг;\n",
    "  - льготный проезд в общественном транспорте, скидки на товары и услуги, отсутствие комиссии при оплате коммунальных платежей при использовании специальной банковской карты;\n",
    "  - бесплатное прохождение курсов, направленных на обучение пользованию банковскими продуктами и услугами, а также на защиту от мошенников.\n",
    "\n",
    "6-й сегмент:\n",
    "- 1 тыс. 201 человек;\n",
    "- 45.21% клиентов, ушедших из банка;\n",
    "- 3-9 баллов собственности;\n",
    "- активные клиенты;\n",
    "- нет кредитных карт.\n",
    "\n",
    "Рекомендации по сокращению оттока активных клиентов банка с относительно высокими баллами собственности, не имеющих кредитной карты:\n",
    "- Клиенты банка, имеющие кредитные карты, менее склонны к оттоку, поэтому нужно использовать различные каналы распространения рекламы кредитных карт. Банку выгодно давать деньги в кредит, потому что это приносит ему доход (платное обслуживание кредитных карт, комиссии за обналичивание средств, выход клиентами за рамки льготного периода и выплата ими процентов, незначительное уменьшение основного долга при выплате клиентами процентов).\n",
    "- Можно создать удобный веб-сайт с актуальными сведениями о кредитных картах.\n",
    "- Предложение беспроцентного периода может быть эффективным способом удержать клиентов, побудить их оформить кредитную карту и стимулировать использование кредитных средств.\n",
    "- Можно предоставить возможность автоматического снятия средств и погашения задолженности. \n",
    "- Можно предложить клиентам бонусы за привлечение друзей и оформление ими кредитных карт.\n",
    "\n",
    "7-й сегмент:\n",
    "- 1 тыс. 915 человек;\n",
    "- 45.07% клиентов, ушедших из банка;\n",
    "- 2-5 банковских продуктов;\n",
    "- активные клиенты;\n",
    "- 820-940 баллов кредитного скоринга.\n",
    "\n",
    "Рекомендации, как можно удержать ценных клиентов банка, которые пользуются несколькими продуктами банка и имеют низкий риск невозврата кредита:\n",
    "- обеспечивать удобство использования банковских продуктов и быстрое решение возникающих вопросов;\n",
    "- предлагать индивидуальные условия кредитования;\n",
    "- проводить акции и специальные предложения для клиентов, пользующихся несколькими продуктами банка (банк может предложить снижение стоимости обслуживания карт для клиентов, использующих несколько продуктов банка);\n",
    "- развивать программы лояльности, начислять бонусы за активное использование продуктов банка (клиенты могут получать больше бонусов или кэшбэка в зависимости от уровня использования продуктов банка);\n",
    "- обеспечивать высокий уровень безопасности и надёжности, чтобы клиенты были уверены в сохранности своих средств;\n",
    "- постоянно совершенствовать качество обслуживания и следить за удовлетворённостью клиентов."
   ]
  },
  {
   "cell_type": "markdown",
   "id": "955edfeb",
   "metadata": {},
   "source": [
    "<div class=\"alert alert-success\">\n",
    "<b>👍 Успех:</b> Все верно!\n",
    "</div>"
   ]
  },
  {
   "cell_type": "markdown",
   "id": "ac2eef4b",
   "metadata": {},
   "source": [
    "### Вывод"
   ]
  },
  {
   "cell_type": "markdown",
   "id": "3d9908d7",
   "metadata": {},
   "source": [
    "Нами выделено семь сегментов с клиентами, склонными к оттоку, по таким признакам, как пол, возраст, количество баллов собственности, проявление активности, количество используемых банковских продуктов, количество баллов кредитного скоринга и наличие кредитной карты.\n",
    "\n",
    "Сегменты включают от 500 до 2 тыс. человек. Во всех сегментах процент оттока превышает средний по банку показатель, равный 18.2%. В выделенных сегментах почти половина людей относится к бывшим клиентам банка — 45-48%.\n",
    "\n",
    "Самый высокий процент оттока клиентов банка в сегменте, сформированном по количеству баллов собственности, проявлению активности и количеству баллов кредитного скоринга — 47.83%.\n",
    "\n",
    "1-й сегмент: 1 тыс. 777 человек; 47.83% клиентов, ушедших из банка; 3-9 баллов собственности; активные клиенты; 820-940 баллов кредитного скоринга.\n",
    "\n",
    "2-й сегмент: 891 человек; 47.03% клиентов, ушедших из банка; только мужчины; 3-9 баллов собственности; нет кредитных карт.\n",
    "\n",
    "3-й сегмент: 1 тыс. 408 человек; 46.16% клиентов, ушедших из банка; только мужчины; 3-9 баллов собственности; активные клиенты.\n",
    "\n",
    "4-й сегмент: 1 тыс. 80 человек; 45.46% клиентов, ушедших из банка; 24-36 лет; 3-9 баллов собственности; активные клиенты.\n",
    "\n",
    "5-й сегмент: 544 человека; 45.22% клиентов, ушедших из банка; 50-60 лет; 3-9 баллов собственности; активные клиенты.\n",
    "\n",
    "6-й сегмент: 1 тыс. 201 человек; 45.21% клиентов, ушедших из банка; 3-9 баллов собственности; активные клиенты; нет кредитных карт.\n",
    "\n",
    "7-й сегмент: 1 тыс. 915 человек; 45.07% клиентов, ушедших из банка; 2-5 банковских продуктов; активные клиенты; 820-940 баллов кредитного скоринга.\n",
    "\n",
    "По каждому сегменту были даны рекомендации для отдела маркетинга, связанные с тем, как можно уменьшить отток клиентов банка."
   ]
  },
  {
   "cell_type": "markdown",
   "id": "525f46f5",
   "metadata": {},
   "source": [
    "## Презентация"
   ]
  },
  {
   "cell_type": "markdown",
   "id": "324c9762",
   "metadata": {},
   "source": [
    "Ссылка на облачное хранилище с презентацией: https://disk.yandex.ru/i/SHDbSdolan_MLA"
   ]
  },
  {
   "cell_type": "markdown",
   "id": "9a813ed8",
   "metadata": {},
   "source": [
    "## Общие выводы"
   ]
  },
  {
   "cell_type": "markdown",
   "id": "443d3ad1",
   "metadata": {},
   "source": [
    "Нами было проведено исследование оттока клиентов банка «Метанпром».\n",
    "\n",
    "В двух столбцах датафрейма с данными о клиентах банка были найдены пропущенные значения. В столбце с возрастами клиентов банка пропуски были удалены, так как их очень мало (0.26% от общего числа наблюдений), и они имеют очень слабую корреляцию с остальными столбцами датафрейма, близкую к нулю. В столбце с балансами на счетах клиентов пропуски были оставлены, поскольку их достаточно много — 22.95%, и между ними и количеством баллов собственности существует очень высокая корреляция, равная 0.98.\n",
    "\n",
    "Явные и неявные дубликаты не были найдены. \n",
    "\n",
    "Название столбца с оценочными доходами клиентов банка было приведено к нижнему регистру, а название столбца с идентификаторами клиентов — к «змеиному» регистру.\n",
    "\n",
    "Данные в столбцах с баллами кредитного скоринга и возрастами клиентов были преобразованы в целочисленный тип. \n",
    "\n",
    "Были проанализированы выбросы в столбцах с балансами на счетах клиентов банка и оценочными доходами клиентов. Они не были удалены из датафрейма, чтобы избежать потери важных данных. Клиентов с крупным балансом на счёте и высоким доходом не так много, но они могут приносить больше выгоды для банка, чем остальные клиенты. В данных встретилось и было удалено одно аномальное значение — нулевое количество банковских продуктов, которыми пользуется клиент.\n",
    "\n",
    "В результате удаления пропущенных и аномальных значений было потеряно меньше одного процента данных — 0.27%. Осталась информация о 9 тыс. 973 клиентов банка.\n",
    "\n",
    "В датасете больше тех, кто остался клиентом банка на момент сбора данных, — 81.8% от общего числа клиентов. 18.2% человек ушли из банка.\n",
    "\n",
    "Были изучены распределения по 10 признакам (количество баллов кредитного скоринга; город; пол; возраст; количество баллов собственности; баланс на счёте; количество продуктов, которыми пользуется клиент; наличие кредитной карты; проявление клиентов активности; оценочный доход клиента) с разбивкой по признаку оттока и выделены значения, а также интервалы отточности.\n",
    "\n",
    "Клиенты банка мужского пола более склонны к оттоку. Среди мужчин доля оттока составляет 23.7%, что превышает общий показатель (18.2%). \n",
    "\n",
    "В Ростове и Ярославле доля клиентов, ушедших из банка, равна 18.7% и 19% соответственно, что чуть выше общего уровня оттока (18.2%).\n",
    "\n",
    "Выше среднего значения оттока (18.2%) процент ушедших из банка клиентов с количеством баллов собственности от 3 до 9. Наибольший процент оттока характерен для клиентов банка с 9 баллами собственности — 53.8%.\n",
    "\n",
    "Клиенты, использующие несколько банковских продуктов, более склонны к уходу из банка. Всех выше процент оттока у тех, кто пользуется четырьмя продуктами, — 63.3%. \n",
    "\n",
    "Доля ушедших из банка клиентов без кредитных карт составляет 25.6%, что превышает общий процент оттока (18.2%). \n",
    "\n",
    "У тех клиентов, кто был активным в последнее время, доля оттока составляет 24.5%, что выше общей доли оттока (18.2%).\n",
    "\n",
    "Интервалы отточности: возраст клиента банка от 24 до 36 лет и от 50 до 60 лет; кредитный скоринг от 820 до 910 баллов и от 920 до 940 баллов; баланс на счёте от 700 тыс.; оценочный доход от 100 до 210 тыс.\n",
    "\n",
    "По полученным значениям и интервалам отточности были составлены портреты типичных клиентов, которые склонны и не склонны уходить из банка.\n",
    "\n",
    "Портрет типичных клиентов, которые менее склонны к уходу из банка: женщины; 18-23 года, 37-49 лет, 61-86 лет; город Рыбинск; кредитный скоринг: 642-819 баллов, 911-919 баллов, 941-1000 баллов; 0-2 балла собственности; баланс на счёте: от 0 до 700 тыс.; 1 банковский продукт; есть кредитная карта; неактивные клиенты; оценочный доход: от 2 тыс. 546 до 100 тыс.\n",
    "\n",
    "Портрет типичных клиентов, которые более склонны к уходу из банка: мужчины; 24-36 лет, 50-60 лет; город Ростов, город Ярославль; кредитный скоринг: 820-910 баллов, 920-940 баллов; 3-9 баллов собственности; баланс на счёте: от 700 тыс.; 2-5 банковских продуктов; нет кредитной карты; активные клиенты; оценочный доход: 100-210 тыс.\n",
    "\n",
    "Также был проведён корреляционный анализ. Было установлено, что наиболее сильная связь существует между признаком оттока клиентов банка и количеством баллов собственности — 0.35. Одинаковая сила корреляции у признака оттока клиентов банка с проявлением клиентами активности и количеством банковских продуктов — 0.26. Почти одинаковая сила связи между оттоком клиентов банка и такими показателями, как баллы кредитного скоринга (0.23), пол (0.22), наличие кредитной карты (0.2), возраст (0.19). Очень слабая корреляция между оттоком клиентов банка и следующими показателями: оценочный доход (0.049), баланс на счёте (0.025) и город (0.017).\n",
    "\n",
    "В результате корреляционного анализа было выявлено, что к более значимым факторам, влияющим на отток клиентов банка, относятся: количество баллов собственности, проявление клиентами активности, количество банковских продуктов, количество баллов кредитного скоринга, пол клиентов, наличие кредитной карты, возраст клиентов.\n",
    "\n",
    "После исследовательского анализа данных была проведена проверка восьми статистических гипотез. Для сравнения средних арифметических значений двух групп использовался t-тест. В качестве уровня статистической значимости было выбрано значение 0.05. Гипотеза о том, что средние значения дохода клиентов, которые ушли из банка и которые остались, являются разными, не подтвердилась. Остальные гипотезы о различиях средних значений определённых признаков между клиентами, ушедшими из банка и оставшимися, были подтверждены. \n",
    "\n",
    "Было определено, что у клиентов, которые ушли из банка и которые остались, различаются средние значения возраста, показателя наличия кредитной карты, гендерного показателя, количества баллов кредитного скоринга, количества используемых банковских продуктов, показателя активности и количества баллов собственности. Данные признаки были использованы для выделения отточных сегментов.\n",
    "\n",
    "Были сформированы семь сегментов с клиентами, склонными к оттоку, по таким признакам, как пол, возраст, количество баллов собственности, проявление активности, количество используемых банковских продуктов, количество баллов кредитного скоринга и наличие кредитной карты. Размер сегментов составил от 500 до 2 тыс. человек. Во всех сегментах процент оттока превысил средний по банку показатель, равный 18.2%. В выделенных сегментах получилось так, что почти половина людей относится к бывшим клиентам банка — 45-48%. Самый высокий процент оттока клиентов банка в сегменте, сформированном по количеству баллов собственности, проявлению активности и количеству баллов кредитного скоринга — 47.83%.\n",
    "\n",
    "В первом сегменте: 1 тыс. 777 человек; 47.83% клиентов, ушедших из банка; клиенты имеют 3-9 баллов собственности; клиенты являются активными; у клиентов 820-940 баллов кредитного скоринга.\n",
    "\n",
    "Во втором сегменте: 891 человек; 47.03% клиентов, ушедших из банка; только мужчины; клиенты имеют 3-9 баллов собственности; у клиентов нет кредитных карт.\n",
    "\n",
    "В третьем сегменте: 1 тыс. 408 человек; 46.16% клиентов, ушедших из банка; только мужчины; клиенты имеют 3-9 баллов собственности; клиенты являются активными.\n",
    "\n",
    "В четвёртом сегменте: 1 тыс. 80 человек; 45.46% клиентов, ушедших из банка; клиенты в возрасте 24-36 лет; клиенты имеют 3-9 баллов собственности; клиенты являются активными.\n",
    "\n",
    "В пятом сегменте: 544 человека; 45.22% клиентов, ушедших из банка; клиенты в возрасте 50-60 лет; клиенты имеют 3-9 баллов собственности; клиенты являются активными.\n",
    "\n",
    "В шестом сегменте: 1 тыс. 201 человек; 45.21% клиентов, ушедших из банка; клиенты имеют 3-9 баллов собственности; клиенты являются активными; у клиентов нет кредитных карт.\n",
    "\n",
    "В седьмом сегменте: 1 тыс. 915 человек; 45.07% клиентов, ушедших из банка; клиенты пользуются 2-5 банковскими продуктами; клиенты являются активными; у клиентов 820-940 баллов кредитного скоринга.\n",
    "\n",
    "По каждому сегменту были даны рекомендации для отдела маркетинга, связанные с тем, как можно уменьшить отток клиентов банка."
   ]
  },
  {
   "cell_type": "markdown",
   "id": "5c72f7e0",
   "metadata": {},
   "source": [
    "<div class=\"alert alert-info\"> <b>🎓 Комментарий студента: </b> \n",
    "    \n",
    "Привет, Светлана! Спасибо большое!!! Постаралась учесть замечания.\n",
    "\n",
    "</div>"
   ]
  },
  {
   "cell_type": "markdown",
   "id": "f4daf7da",
   "metadata": {},
   "source": [
    "<div class=\"alert alert-success\">\n",
    "<b>👍 Успех:</b> Хорошая работа, молодец! Все данные исследованы, много визуализации, сделаны выводы по всем разделам, достаточное количество рассуждений и комментариев, в презентации соблюден баланс текстовой и графической информации\n",
    "</div>"
   ]
  },
  {
   "cell_type": "code",
   "execution_count": null,
   "id": "76b6d307",
   "metadata": {},
   "outputs": [],
   "source": []
  }
 ],
 "metadata": {
  "ExecuteTimeLog": [
   {
    "duration": 2747,
    "start_time": "2024-10-16T18:01:19.184Z"
   },
   {
    "duration": 14463,
    "start_time": "2024-10-16T18:01:21.933Z"
   },
   {
    "duration": 3081,
    "start_time": "2024-10-16T18:01:36.398Z"
   },
   {
    "duration": 2715,
    "start_time": "2024-10-16T18:01:39.482Z"
   },
   {
    "duration": 825,
    "start_time": "2024-10-16T18:01:42.199Z"
   },
   {
    "duration": 0,
    "start_time": "2024-10-16T18:01:43.029Z"
   },
   {
    "duration": 0,
    "start_time": "2024-10-16T18:01:43.031Z"
   },
   {
    "duration": 0,
    "start_time": "2024-10-16T18:01:43.032Z"
   },
   {
    "duration": 0,
    "start_time": "2024-10-16T18:01:43.034Z"
   },
   {
    "duration": 0,
    "start_time": "2024-10-16T18:01:43.035Z"
   },
   {
    "duration": 0,
    "start_time": "2024-10-16T18:01:43.037Z"
   },
   {
    "duration": 0,
    "start_time": "2024-10-16T18:01:43.038Z"
   },
   {
    "duration": 0,
    "start_time": "2024-10-16T18:01:43.039Z"
   },
   {
    "duration": 0,
    "start_time": "2024-10-16T18:01:43.041Z"
   },
   {
    "duration": 0,
    "start_time": "2024-10-16T18:01:43.042Z"
   },
   {
    "duration": 0,
    "start_time": "2024-10-16T18:01:43.044Z"
   },
   {
    "duration": 0,
    "start_time": "2024-10-16T18:01:43.045Z"
   },
   {
    "duration": 0,
    "start_time": "2024-10-16T18:01:43.046Z"
   },
   {
    "duration": 0,
    "start_time": "2024-10-16T18:01:43.047Z"
   },
   {
    "duration": 0,
    "start_time": "2024-10-16T18:01:43.049Z"
   },
   {
    "duration": 0,
    "start_time": "2024-10-16T18:01:43.050Z"
   },
   {
    "duration": 0,
    "start_time": "2024-10-16T18:01:43.051Z"
   },
   {
    "duration": 0,
    "start_time": "2024-10-16T18:01:43.053Z"
   },
   {
    "duration": 0,
    "start_time": "2024-10-16T18:01:43.054Z"
   },
   {
    "duration": 0,
    "start_time": "2024-10-16T18:01:43.056Z"
   },
   {
    "duration": 0,
    "start_time": "2024-10-16T18:01:43.057Z"
   },
   {
    "duration": 0,
    "start_time": "2024-10-16T18:01:43.058Z"
   },
   {
    "duration": 0,
    "start_time": "2024-10-16T18:01:43.059Z"
   },
   {
    "duration": 0,
    "start_time": "2024-10-16T18:01:43.061Z"
   },
   {
    "duration": 0,
    "start_time": "2024-10-16T18:01:43.062Z"
   },
   {
    "duration": 0,
    "start_time": "2024-10-16T18:01:43.064Z"
   },
   {
    "duration": 0,
    "start_time": "2024-10-16T18:01:43.065Z"
   },
   {
    "duration": 0,
    "start_time": "2024-10-16T18:01:43.066Z"
   },
   {
    "duration": 0,
    "start_time": "2024-10-16T18:01:43.068Z"
   },
   {
    "duration": 0,
    "start_time": "2024-10-16T18:01:43.069Z"
   },
   {
    "duration": 0,
    "start_time": "2024-10-16T18:01:43.070Z"
   },
   {
    "duration": 0,
    "start_time": "2024-10-16T18:01:43.072Z"
   },
   {
    "duration": 0,
    "start_time": "2024-10-16T18:01:43.073Z"
   },
   {
    "duration": 0,
    "start_time": "2024-10-16T18:01:43.075Z"
   },
   {
    "duration": 0,
    "start_time": "2024-10-16T18:01:43.076Z"
   },
   {
    "duration": 0,
    "start_time": "2024-10-16T18:01:43.077Z"
   },
   {
    "duration": 0,
    "start_time": "2024-10-16T18:01:43.079Z"
   },
   {
    "duration": 0,
    "start_time": "2024-10-16T18:01:43.080Z"
   },
   {
    "duration": 0,
    "start_time": "2024-10-16T18:01:43.081Z"
   },
   {
    "duration": 0,
    "start_time": "2024-10-16T18:01:43.143Z"
   },
   {
    "duration": 0,
    "start_time": "2024-10-16T18:01:43.146Z"
   },
   {
    "duration": 0,
    "start_time": "2024-10-16T18:01:43.148Z"
   },
   {
    "duration": 0,
    "start_time": "2024-10-16T18:01:43.149Z"
   },
   {
    "duration": 0,
    "start_time": "2024-10-16T18:01:43.150Z"
   },
   {
    "duration": 0,
    "start_time": "2024-10-16T18:01:43.152Z"
   },
   {
    "duration": 0,
    "start_time": "2024-10-16T18:01:43.153Z"
   },
   {
    "duration": 0,
    "start_time": "2024-10-16T18:01:43.154Z"
   },
   {
    "duration": 0,
    "start_time": "2024-10-16T18:01:43.155Z"
   },
   {
    "duration": 0,
    "start_time": "2024-10-16T18:01:43.157Z"
   },
   {
    "duration": 0,
    "start_time": "2024-10-16T18:01:43.158Z"
   },
   {
    "duration": 0,
    "start_time": "2024-10-16T18:01:43.160Z"
   },
   {
    "duration": 0,
    "start_time": "2024-10-16T18:01:43.161Z"
   },
   {
    "duration": 0,
    "start_time": "2024-10-16T18:01:43.162Z"
   },
   {
    "duration": 0,
    "start_time": "2024-10-16T18:01:43.163Z"
   },
   {
    "duration": 0,
    "start_time": "2024-10-16T18:01:43.165Z"
   },
   {
    "duration": 0,
    "start_time": "2024-10-16T18:01:43.166Z"
   },
   {
    "duration": 0,
    "start_time": "2024-10-16T18:01:43.167Z"
   },
   {
    "duration": 0,
    "start_time": "2024-10-16T18:01:43.169Z"
   },
   {
    "duration": 0,
    "start_time": "2024-10-16T18:01:43.170Z"
   },
   {
    "duration": 0,
    "start_time": "2024-10-16T18:01:43.172Z"
   },
   {
    "duration": 0,
    "start_time": "2024-10-16T18:01:43.173Z"
   },
   {
    "duration": 0,
    "start_time": "2024-10-16T18:01:43.174Z"
   },
   {
    "duration": 0,
    "start_time": "2024-10-16T18:01:43.176Z"
   },
   {
    "duration": 0,
    "start_time": "2024-10-16T18:01:43.177Z"
   },
   {
    "duration": 0,
    "start_time": "2024-10-16T18:01:43.178Z"
   },
   {
    "duration": 0,
    "start_time": "2024-10-16T18:01:43.179Z"
   },
   {
    "duration": 0,
    "start_time": "2024-10-16T18:01:43.181Z"
   },
   {
    "duration": 0,
    "start_time": "2024-10-16T18:01:43.243Z"
   },
   {
    "duration": 0,
    "start_time": "2024-10-16T18:01:43.245Z"
   },
   {
    "duration": 0,
    "start_time": "2024-10-16T18:01:43.246Z"
   },
   {
    "duration": 0,
    "start_time": "2024-10-16T18:01:43.247Z"
   },
   {
    "duration": 0,
    "start_time": "2024-10-16T18:01:43.249Z"
   },
   {
    "duration": 0,
    "start_time": "2024-10-16T18:01:43.250Z"
   },
   {
    "duration": 1,
    "start_time": "2024-10-16T18:01:43.251Z"
   },
   {
    "duration": 0,
    "start_time": "2024-10-16T18:01:43.253Z"
   },
   {
    "duration": 0,
    "start_time": "2024-10-16T18:01:43.254Z"
   },
   {
    "duration": 0,
    "start_time": "2024-10-16T18:01:43.256Z"
   },
   {
    "duration": 0,
    "start_time": "2024-10-16T18:01:43.257Z"
   },
   {
    "duration": 0,
    "start_time": "2024-10-16T18:01:43.259Z"
   },
   {
    "duration": 0,
    "start_time": "2024-10-16T18:01:43.260Z"
   },
   {
    "duration": 0,
    "start_time": "2024-10-16T18:01:43.261Z"
   },
   {
    "duration": 0,
    "start_time": "2024-10-16T18:01:43.263Z"
   },
   {
    "duration": 0,
    "start_time": "2024-10-16T18:01:43.264Z"
   },
   {
    "duration": 0,
    "start_time": "2024-10-16T18:01:43.265Z"
   },
   {
    "duration": 0,
    "start_time": "2024-10-16T18:01:43.266Z"
   },
   {
    "duration": 0,
    "start_time": "2024-10-16T18:01:43.268Z"
   },
   {
    "duration": 0,
    "start_time": "2024-10-16T18:01:43.269Z"
   },
   {
    "duration": 0,
    "start_time": "2024-10-16T18:01:43.271Z"
   },
   {
    "duration": 0,
    "start_time": "2024-10-16T18:01:43.272Z"
   },
   {
    "duration": 0,
    "start_time": "2024-10-16T18:01:43.274Z"
   },
   {
    "duration": 2489,
    "start_time": "2024-10-16T18:03:15.692Z"
   },
   {
    "duration": 3220,
    "start_time": "2024-10-16T18:03:18.183Z"
   },
   {
    "duration": 2449,
    "start_time": "2024-10-16T18:03:21.405Z"
   },
   {
    "duration": 2711,
    "start_time": "2024-10-16T18:03:23.857Z"
   },
   {
    "duration": 907,
    "start_time": "2024-10-16T18:03:26.570Z"
   },
   {
    "duration": 0,
    "start_time": "2024-10-16T18:03:27.482Z"
   },
   {
    "duration": 0,
    "start_time": "2024-10-16T18:03:27.483Z"
   },
   {
    "duration": 0,
    "start_time": "2024-10-16T18:03:27.484Z"
   },
   {
    "duration": 0,
    "start_time": "2024-10-16T18:03:27.486Z"
   },
   {
    "duration": 0,
    "start_time": "2024-10-16T18:03:27.487Z"
   },
   {
    "duration": 0,
    "start_time": "2024-10-16T18:03:27.488Z"
   },
   {
    "duration": 0,
    "start_time": "2024-10-16T18:03:27.489Z"
   },
   {
    "duration": 0,
    "start_time": "2024-10-16T18:03:27.490Z"
   },
   {
    "duration": 0,
    "start_time": "2024-10-16T18:03:27.491Z"
   },
   {
    "duration": 0,
    "start_time": "2024-10-16T18:03:27.492Z"
   },
   {
    "duration": 0,
    "start_time": "2024-10-16T18:03:27.493Z"
   },
   {
    "duration": 0,
    "start_time": "2024-10-16T18:03:27.494Z"
   },
   {
    "duration": 0,
    "start_time": "2024-10-16T18:03:27.495Z"
   },
   {
    "duration": 0,
    "start_time": "2024-10-16T18:03:27.496Z"
   },
   {
    "duration": 0,
    "start_time": "2024-10-16T18:03:27.497Z"
   },
   {
    "duration": 0,
    "start_time": "2024-10-16T18:03:27.498Z"
   },
   {
    "duration": 0,
    "start_time": "2024-10-16T18:03:27.500Z"
   },
   {
    "duration": 0,
    "start_time": "2024-10-16T18:03:27.500Z"
   },
   {
    "duration": 0,
    "start_time": "2024-10-16T18:03:27.502Z"
   },
   {
    "duration": 0,
    "start_time": "2024-10-16T18:03:27.503Z"
   },
   {
    "duration": 0,
    "start_time": "2024-10-16T18:03:27.504Z"
   },
   {
    "duration": 0,
    "start_time": "2024-10-16T18:03:27.505Z"
   },
   {
    "duration": 0,
    "start_time": "2024-10-16T18:03:27.506Z"
   },
   {
    "duration": 0,
    "start_time": "2024-10-16T18:03:27.507Z"
   },
   {
    "duration": 0,
    "start_time": "2024-10-16T18:03:27.508Z"
   },
   {
    "duration": 0,
    "start_time": "2024-10-16T18:03:27.509Z"
   },
   {
    "duration": 0,
    "start_time": "2024-10-16T18:03:27.510Z"
   },
   {
    "duration": 0,
    "start_time": "2024-10-16T18:03:27.511Z"
   },
   {
    "duration": 0,
    "start_time": "2024-10-16T18:03:27.512Z"
   },
   {
    "duration": 0,
    "start_time": "2024-10-16T18:03:27.513Z"
   },
   {
    "duration": 0,
    "start_time": "2024-10-16T18:03:27.514Z"
   },
   {
    "duration": 0,
    "start_time": "2024-10-16T18:03:27.515Z"
   },
   {
    "duration": 0,
    "start_time": "2024-10-16T18:03:27.516Z"
   },
   {
    "duration": 0,
    "start_time": "2024-10-16T18:03:27.517Z"
   },
   {
    "duration": 0,
    "start_time": "2024-10-16T18:03:27.542Z"
   },
   {
    "duration": 0,
    "start_time": "2024-10-16T18:03:27.544Z"
   },
   {
    "duration": 0,
    "start_time": "2024-10-16T18:03:27.545Z"
   },
   {
    "duration": 0,
    "start_time": "2024-10-16T18:03:27.546Z"
   },
   {
    "duration": 0,
    "start_time": "2024-10-16T18:03:27.547Z"
   },
   {
    "duration": 0,
    "start_time": "2024-10-16T18:03:27.548Z"
   },
   {
    "duration": 0,
    "start_time": "2024-10-16T18:03:27.549Z"
   },
   {
    "duration": 0,
    "start_time": "2024-10-16T18:03:27.550Z"
   },
   {
    "duration": 0,
    "start_time": "2024-10-16T18:03:27.551Z"
   },
   {
    "duration": 0,
    "start_time": "2024-10-16T18:03:27.552Z"
   },
   {
    "duration": 0,
    "start_time": "2024-10-16T18:03:27.552Z"
   },
   {
    "duration": 0,
    "start_time": "2024-10-16T18:03:27.554Z"
   },
   {
    "duration": 0,
    "start_time": "2024-10-16T18:03:27.555Z"
   },
   {
    "duration": 0,
    "start_time": "2024-10-16T18:03:27.556Z"
   },
   {
    "duration": 0,
    "start_time": "2024-10-16T18:03:27.557Z"
   },
   {
    "duration": 0,
    "start_time": "2024-10-16T18:03:27.558Z"
   },
   {
    "duration": 0,
    "start_time": "2024-10-16T18:03:27.559Z"
   },
   {
    "duration": 0,
    "start_time": "2024-10-16T18:03:27.559Z"
   },
   {
    "duration": 0,
    "start_time": "2024-10-16T18:03:27.560Z"
   },
   {
    "duration": 0,
    "start_time": "2024-10-16T18:03:27.562Z"
   },
   {
    "duration": 0,
    "start_time": "2024-10-16T18:03:27.563Z"
   },
   {
    "duration": 0,
    "start_time": "2024-10-16T18:03:27.563Z"
   },
   {
    "duration": 0,
    "start_time": "2024-10-16T18:03:27.565Z"
   },
   {
    "duration": 0,
    "start_time": "2024-10-16T18:03:27.565Z"
   },
   {
    "duration": 0,
    "start_time": "2024-10-16T18:03:27.566Z"
   },
   {
    "duration": 0,
    "start_time": "2024-10-16T18:03:27.567Z"
   },
   {
    "duration": 0,
    "start_time": "2024-10-16T18:03:27.568Z"
   },
   {
    "duration": 0,
    "start_time": "2024-10-16T18:03:27.569Z"
   },
   {
    "duration": 0,
    "start_time": "2024-10-16T18:03:27.570Z"
   },
   {
    "duration": 0,
    "start_time": "2024-10-16T18:03:27.571Z"
   },
   {
    "duration": 0,
    "start_time": "2024-10-16T18:03:27.572Z"
   },
   {
    "duration": 0,
    "start_time": "2024-10-16T18:03:27.573Z"
   },
   {
    "duration": 0,
    "start_time": "2024-10-16T18:03:27.574Z"
   },
   {
    "duration": 0,
    "start_time": "2024-10-16T18:03:27.575Z"
   },
   {
    "duration": 0,
    "start_time": "2024-10-16T18:03:27.576Z"
   },
   {
    "duration": 0,
    "start_time": "2024-10-16T18:03:27.577Z"
   },
   {
    "duration": 0,
    "start_time": "2024-10-16T18:03:27.578Z"
   },
   {
    "duration": 0,
    "start_time": "2024-10-16T18:03:27.643Z"
   },
   {
    "duration": 0,
    "start_time": "2024-10-16T18:03:27.644Z"
   },
   {
    "duration": 0,
    "start_time": "2024-10-16T18:03:27.645Z"
   },
   {
    "duration": 0,
    "start_time": "2024-10-16T18:03:27.646Z"
   },
   {
    "duration": 0,
    "start_time": "2024-10-16T18:03:27.647Z"
   },
   {
    "duration": 0,
    "start_time": "2024-10-16T18:03:27.648Z"
   },
   {
    "duration": 0,
    "start_time": "2024-10-16T18:03:27.650Z"
   },
   {
    "duration": 0,
    "start_time": "2024-10-16T18:03:27.651Z"
   },
   {
    "duration": 0,
    "start_time": "2024-10-16T18:03:27.652Z"
   },
   {
    "duration": 0,
    "start_time": "2024-10-16T18:03:27.653Z"
   },
   {
    "duration": 0,
    "start_time": "2024-10-16T18:03:27.654Z"
   },
   {
    "duration": 0,
    "start_time": "2024-10-16T18:03:27.655Z"
   },
   {
    "duration": 0,
    "start_time": "2024-10-16T18:03:27.656Z"
   },
   {
    "duration": 0,
    "start_time": "2024-10-16T18:03:27.657Z"
   },
   {
    "duration": 0,
    "start_time": "2024-10-16T18:03:27.659Z"
   },
   {
    "duration": 0,
    "start_time": "2024-10-16T18:03:27.660Z"
   },
   {
    "duration": 0,
    "start_time": "2024-10-16T18:03:27.661Z"
   },
   {
    "duration": 0,
    "start_time": "2024-10-16T18:03:27.662Z"
   },
   {
    "duration": 0,
    "start_time": "2024-10-16T18:03:27.663Z"
   },
   {
    "duration": 2527,
    "start_time": "2024-10-16T18:04:35.471Z"
   },
   {
    "duration": 575,
    "start_time": "2024-10-16T18:04:38.000Z"
   },
   {
    "duration": 0,
    "start_time": "2024-10-16T18:04:38.580Z"
   },
   {
    "duration": 0,
    "start_time": "2024-10-16T18:04:38.582Z"
   },
   {
    "duration": 0,
    "start_time": "2024-10-16T18:04:38.583Z"
   },
   {
    "duration": 0,
    "start_time": "2024-10-16T18:04:38.584Z"
   },
   {
    "duration": 0,
    "start_time": "2024-10-16T18:04:38.586Z"
   },
   {
    "duration": 0,
    "start_time": "2024-10-16T18:04:38.587Z"
   },
   {
    "duration": 0,
    "start_time": "2024-10-16T18:04:38.588Z"
   },
   {
    "duration": 0,
    "start_time": "2024-10-16T18:04:38.589Z"
   },
   {
    "duration": 0,
    "start_time": "2024-10-16T18:04:38.591Z"
   },
   {
    "duration": 0,
    "start_time": "2024-10-16T18:04:38.592Z"
   },
   {
    "duration": 0,
    "start_time": "2024-10-16T18:04:38.593Z"
   },
   {
    "duration": 0,
    "start_time": "2024-10-16T18:04:38.594Z"
   },
   {
    "duration": 0,
    "start_time": "2024-10-16T18:04:38.595Z"
   },
   {
    "duration": 0,
    "start_time": "2024-10-16T18:04:38.596Z"
   },
   {
    "duration": 0,
    "start_time": "2024-10-16T18:04:38.597Z"
   },
   {
    "duration": 0,
    "start_time": "2024-10-16T18:04:38.599Z"
   },
   {
    "duration": 0,
    "start_time": "2024-10-16T18:04:38.599Z"
   },
   {
    "duration": 0,
    "start_time": "2024-10-16T18:04:38.600Z"
   },
   {
    "duration": 0,
    "start_time": "2024-10-16T18:04:38.602Z"
   },
   {
    "duration": 0,
    "start_time": "2024-10-16T18:04:38.603Z"
   },
   {
    "duration": 0,
    "start_time": "2024-10-16T18:04:38.603Z"
   },
   {
    "duration": 0,
    "start_time": "2024-10-16T18:04:38.604Z"
   },
   {
    "duration": 0,
    "start_time": "2024-10-16T18:04:38.605Z"
   },
   {
    "duration": 0,
    "start_time": "2024-10-16T18:04:38.606Z"
   },
   {
    "duration": 0,
    "start_time": "2024-10-16T18:04:38.607Z"
   },
   {
    "duration": 0,
    "start_time": "2024-10-16T18:04:38.608Z"
   },
   {
    "duration": 0,
    "start_time": "2024-10-16T18:04:38.609Z"
   },
   {
    "duration": 1,
    "start_time": "2024-10-16T18:04:38.610Z"
   },
   {
    "duration": 0,
    "start_time": "2024-10-16T18:04:38.611Z"
   },
   {
    "duration": 1,
    "start_time": "2024-10-16T18:04:38.612Z"
   },
   {
    "duration": 0,
    "start_time": "2024-10-16T18:04:38.614Z"
   },
   {
    "duration": 0,
    "start_time": "2024-10-16T18:04:38.615Z"
   },
   {
    "duration": 0,
    "start_time": "2024-10-16T18:04:38.616Z"
   },
   {
    "duration": 0,
    "start_time": "2024-10-16T18:04:38.644Z"
   },
   {
    "duration": 0,
    "start_time": "2024-10-16T18:04:38.645Z"
   },
   {
    "duration": 0,
    "start_time": "2024-10-16T18:04:38.646Z"
   },
   {
    "duration": 0,
    "start_time": "2024-10-16T18:04:38.647Z"
   },
   {
    "duration": 0,
    "start_time": "2024-10-16T18:04:38.648Z"
   },
   {
    "duration": 0,
    "start_time": "2024-10-16T18:04:38.650Z"
   },
   {
    "duration": 0,
    "start_time": "2024-10-16T18:04:38.651Z"
   },
   {
    "duration": 0,
    "start_time": "2024-10-16T18:04:38.652Z"
   },
   {
    "duration": 0,
    "start_time": "2024-10-16T18:04:38.654Z"
   },
   {
    "duration": 0,
    "start_time": "2024-10-16T18:04:38.655Z"
   },
   {
    "duration": 0,
    "start_time": "2024-10-16T18:04:38.656Z"
   },
   {
    "duration": 1,
    "start_time": "2024-10-16T18:04:38.657Z"
   },
   {
    "duration": 0,
    "start_time": "2024-10-16T18:04:38.659Z"
   },
   {
    "duration": 0,
    "start_time": "2024-10-16T18:04:38.660Z"
   },
   {
    "duration": 0,
    "start_time": "2024-10-16T18:04:38.662Z"
   },
   {
    "duration": 0,
    "start_time": "2024-10-16T18:04:38.663Z"
   },
   {
    "duration": 0,
    "start_time": "2024-10-16T18:04:38.664Z"
   },
   {
    "duration": 0,
    "start_time": "2024-10-16T18:04:38.666Z"
   },
   {
    "duration": 0,
    "start_time": "2024-10-16T18:04:38.667Z"
   },
   {
    "duration": 0,
    "start_time": "2024-10-16T18:04:38.669Z"
   },
   {
    "duration": 0,
    "start_time": "2024-10-16T18:04:38.670Z"
   },
   {
    "duration": 0,
    "start_time": "2024-10-16T18:04:38.672Z"
   },
   {
    "duration": 0,
    "start_time": "2024-10-16T18:04:38.673Z"
   },
   {
    "duration": 0,
    "start_time": "2024-10-16T18:04:38.675Z"
   },
   {
    "duration": 0,
    "start_time": "2024-10-16T18:04:38.676Z"
   },
   {
    "duration": 0,
    "start_time": "2024-10-16T18:04:38.678Z"
   },
   {
    "duration": 0,
    "start_time": "2024-10-16T18:04:38.679Z"
   },
   {
    "duration": 0,
    "start_time": "2024-10-16T18:04:38.680Z"
   },
   {
    "duration": 0,
    "start_time": "2024-10-16T18:04:38.742Z"
   },
   {
    "duration": 0,
    "start_time": "2024-10-16T18:04:38.744Z"
   },
   {
    "duration": 0,
    "start_time": "2024-10-16T18:04:38.745Z"
   },
   {
    "duration": 0,
    "start_time": "2024-10-16T18:04:38.747Z"
   },
   {
    "duration": 0,
    "start_time": "2024-10-16T18:04:38.748Z"
   },
   {
    "duration": 0,
    "start_time": "2024-10-16T18:04:38.749Z"
   },
   {
    "duration": 0,
    "start_time": "2024-10-16T18:04:38.750Z"
   },
   {
    "duration": 0,
    "start_time": "2024-10-16T18:04:38.751Z"
   },
   {
    "duration": 1,
    "start_time": "2024-10-16T18:04:38.752Z"
   },
   {
    "duration": 0,
    "start_time": "2024-10-16T18:04:38.754Z"
   },
   {
    "duration": 0,
    "start_time": "2024-10-16T18:04:38.755Z"
   },
   {
    "duration": 0,
    "start_time": "2024-10-16T18:04:38.756Z"
   },
   {
    "duration": 0,
    "start_time": "2024-10-16T18:04:38.757Z"
   },
   {
    "duration": 0,
    "start_time": "2024-10-16T18:04:38.758Z"
   },
   {
    "duration": 0,
    "start_time": "2024-10-16T18:04:38.760Z"
   },
   {
    "duration": 0,
    "start_time": "2024-10-16T18:04:38.762Z"
   },
   {
    "duration": 0,
    "start_time": "2024-10-16T18:04:38.763Z"
   },
   {
    "duration": 0,
    "start_time": "2024-10-16T18:04:38.764Z"
   },
   {
    "duration": 0,
    "start_time": "2024-10-16T18:04:38.765Z"
   },
   {
    "duration": 0,
    "start_time": "2024-10-16T18:04:38.766Z"
   },
   {
    "duration": 0,
    "start_time": "2024-10-16T18:04:38.767Z"
   },
   {
    "duration": 0,
    "start_time": "2024-10-16T18:04:38.768Z"
   },
   {
    "duration": 0,
    "start_time": "2024-10-16T18:04:38.769Z"
   },
   {
    "duration": 0,
    "start_time": "2024-10-16T18:04:38.771Z"
   },
   {
    "duration": 0,
    "start_time": "2024-10-16T18:04:38.772Z"
   },
   {
    "duration": 0,
    "start_time": "2024-10-16T18:04:38.773Z"
   },
   {
    "duration": 0,
    "start_time": "2024-10-16T18:04:38.774Z"
   },
   {
    "duration": 0,
    "start_time": "2024-10-16T18:04:38.775Z"
   },
   {
    "duration": 0,
    "start_time": "2024-10-16T18:04:38.776Z"
   },
   {
    "duration": 2699,
    "start_time": "2024-10-16T18:14:58.736Z"
   },
   {
    "duration": 3335,
    "start_time": "2024-10-16T18:15:01.437Z"
   },
   {
    "duration": 2587,
    "start_time": "2024-10-16T18:15:04.774Z"
   },
   {
    "duration": 2807,
    "start_time": "2024-10-16T18:15:07.364Z"
   },
   {
    "duration": 6592,
    "start_time": "2024-10-16T18:15:10.173Z"
   },
   {
    "duration": 1969,
    "start_time": "2024-10-16T18:15:16.767Z"
   },
   {
    "duration": 164,
    "start_time": "2024-10-16T18:15:18.738Z"
   },
   {
    "duration": 18,
    "start_time": "2024-10-16T18:15:18.904Z"
   },
   {
    "duration": 87,
    "start_time": "2024-10-16T18:15:18.924Z"
   },
   {
    "duration": 2480,
    "start_time": "2024-10-16T18:15:19.015Z"
   },
   {
    "duration": 18,
    "start_time": "2024-10-16T18:15:21.497Z"
   },
   {
    "duration": 68,
    "start_time": "2024-10-16T18:15:21.516Z"
   },
   {
    "duration": 30,
    "start_time": "2024-10-16T18:15:21.586Z"
   },
   {
    "duration": 39,
    "start_time": "2024-10-16T18:15:21.618Z"
   },
   {
    "duration": 32,
    "start_time": "2024-10-16T18:15:21.659Z"
   },
   {
    "duration": 45,
    "start_time": "2024-10-16T18:15:21.692Z"
   },
   {
    "duration": 31,
    "start_time": "2024-10-16T18:15:21.739Z"
   },
   {
    "duration": 32,
    "start_time": "2024-10-16T18:15:21.771Z"
   },
   {
    "duration": 82,
    "start_time": "2024-10-16T18:15:21.804Z"
   },
   {
    "duration": 16,
    "start_time": "2024-10-16T18:15:21.888Z"
   },
   {
    "duration": 14,
    "start_time": "2024-10-16T18:15:21.905Z"
   },
   {
    "duration": 37,
    "start_time": "2024-10-16T18:15:21.920Z"
   },
   {
    "duration": 130,
    "start_time": "2024-10-16T18:15:21.958Z"
   },
   {
    "duration": 12,
    "start_time": "2024-10-16T18:15:22.090Z"
   },
   {
    "duration": 217,
    "start_time": "2024-10-16T18:15:22.103Z"
   },
   {
    "duration": 13,
    "start_time": "2024-10-16T18:15:22.322Z"
   },
   {
    "duration": 104,
    "start_time": "2024-10-16T18:15:22.337Z"
   },
   {
    "duration": 43,
    "start_time": "2024-10-16T18:15:22.447Z"
   },
   {
    "duration": 21,
    "start_time": "2024-10-16T18:15:22.491Z"
   },
   {
    "duration": 38,
    "start_time": "2024-10-16T18:15:22.514Z"
   },
   {
    "duration": 196,
    "start_time": "2024-10-16T18:15:22.554Z"
   },
   {
    "duration": 107,
    "start_time": "2024-10-16T18:15:22.753Z"
   },
   {
    "duration": 169,
    "start_time": "2024-10-16T18:15:22.862Z"
   },
   {
    "duration": 312,
    "start_time": "2024-10-16T18:15:23.033Z"
   },
   {
    "duration": 314,
    "start_time": "2024-10-16T18:15:23.346Z"
   },
   {
    "duration": 202,
    "start_time": "2024-10-16T18:15:23.662Z"
   },
   {
    "duration": 295,
    "start_time": "2024-10-16T18:15:23.866Z"
   },
   {
    "duration": 346,
    "start_time": "2024-10-16T18:15:24.163Z"
   },
   {
    "duration": 321,
    "start_time": "2024-10-16T18:15:24.511Z"
   },
   {
    "duration": 344,
    "start_time": "2024-10-16T18:15:24.833Z"
   },
   {
    "duration": 4014,
    "start_time": "2024-10-16T18:15:25.179Z"
   },
   {
    "duration": 220,
    "start_time": "2024-10-16T18:15:29.195Z"
   },
   {
    "duration": 346,
    "start_time": "2024-10-16T18:15:29.416Z"
   },
   {
    "duration": 222,
    "start_time": "2024-10-16T18:15:29.764Z"
   },
   {
    "duration": 277,
    "start_time": "2024-10-16T18:15:29.988Z"
   },
   {
    "duration": 210,
    "start_time": "2024-10-16T18:15:30.267Z"
   },
   {
    "duration": 268,
    "start_time": "2024-10-16T18:15:30.479Z"
   },
   {
    "duration": 616,
    "start_time": "2024-10-16T18:15:30.758Z"
   },
   {
    "duration": 24,
    "start_time": "2024-10-16T18:15:31.375Z"
   },
   {
    "duration": 1692,
    "start_time": "2024-10-16T18:15:31.400Z"
   },
   {
    "duration": 9,
    "start_time": "2024-10-16T18:15:33.094Z"
   },
   {
    "duration": 514,
    "start_time": "2024-10-16T18:15:33.104Z"
   },
   {
    "duration": 6,
    "start_time": "2024-10-16T18:15:33.619Z"
   },
   {
    "duration": 51,
    "start_time": "2024-10-16T18:15:33.626Z"
   },
   {
    "duration": 29,
    "start_time": "2024-10-16T18:15:33.678Z"
   },
   {
    "duration": 45,
    "start_time": "2024-10-16T18:15:33.708Z"
   },
   {
    "duration": 9,
    "start_time": "2024-10-16T18:15:33.755Z"
   },
   {
    "duration": 36,
    "start_time": "2024-10-16T18:15:33.766Z"
   },
   {
    "duration": 85,
    "start_time": "2024-10-16T18:15:33.804Z"
   },
   {
    "duration": 34,
    "start_time": "2024-10-16T18:15:33.890Z"
   },
   {
    "duration": 34,
    "start_time": "2024-10-16T18:15:33.926Z"
   },
   {
    "duration": 39,
    "start_time": "2024-10-16T18:15:33.961Z"
   },
   {
    "duration": 27,
    "start_time": "2024-10-16T18:15:34.002Z"
   },
   {
    "duration": 39,
    "start_time": "2024-10-16T18:15:34.030Z"
   },
   {
    "duration": 65,
    "start_time": "2024-10-16T18:15:34.071Z"
   },
   {
    "duration": 42,
    "start_time": "2024-10-16T18:15:34.138Z"
   },
   {
    "duration": 49,
    "start_time": "2024-10-16T18:15:34.182Z"
   },
   {
    "duration": 33,
    "start_time": "2024-10-16T18:15:34.233Z"
   },
   {
    "duration": 144,
    "start_time": "2024-10-16T18:15:34.268Z"
   },
   {
    "duration": 41,
    "start_time": "2024-10-16T18:15:34.414Z"
   },
   {
    "duration": 69,
    "start_time": "2024-10-16T18:15:34.457Z"
   },
   {
    "duration": 111,
    "start_time": "2024-10-16T18:15:34.528Z"
   },
   {
    "duration": 54,
    "start_time": "2024-10-16T18:15:34.640Z"
   },
   {
    "duration": 70,
    "start_time": "2024-10-16T18:15:34.696Z"
   },
   {
    "duration": 55,
    "start_time": "2024-10-16T18:15:34.767Z"
   },
   {
    "duration": 36,
    "start_time": "2024-10-16T18:15:34.824Z"
   },
   {
    "duration": 45,
    "start_time": "2024-10-16T18:15:34.862Z"
   },
   {
    "duration": 51,
    "start_time": "2024-10-16T18:15:34.909Z"
   },
   {
    "duration": 59,
    "start_time": "2024-10-16T18:15:34.962Z"
   },
   {
    "duration": 38,
    "start_time": "2024-10-16T18:15:35.023Z"
   },
   {
    "duration": 33,
    "start_time": "2024-10-16T18:15:35.063Z"
   },
   {
    "duration": 30,
    "start_time": "2024-10-16T18:15:35.102Z"
   },
   {
    "duration": 37,
    "start_time": "2024-10-16T18:15:35.134Z"
   },
   {
    "duration": 37,
    "start_time": "2024-10-16T18:15:35.173Z"
   },
   {
    "duration": 43,
    "start_time": "2024-10-16T18:15:35.212Z"
   },
   {
    "duration": 58,
    "start_time": "2024-10-16T18:15:35.257Z"
   },
   {
    "duration": 48,
    "start_time": "2024-10-16T18:15:35.317Z"
   },
   {
    "duration": 53,
    "start_time": "2024-10-16T18:15:35.366Z"
   },
   {
    "duration": 50,
    "start_time": "2024-10-16T18:15:35.421Z"
   },
   {
    "duration": 98,
    "start_time": "2024-10-16T18:15:35.473Z"
   },
   {
    "duration": 62,
    "start_time": "2024-10-16T18:15:35.573Z"
   },
   {
    "duration": 37,
    "start_time": "2024-10-16T18:15:35.636Z"
   },
   {
    "duration": 54,
    "start_time": "2024-10-16T18:15:35.675Z"
   },
   {
    "duration": 73,
    "start_time": "2024-10-16T18:15:35.731Z"
   },
   {
    "duration": 101,
    "start_time": "2024-10-16T18:15:35.805Z"
   },
   {
    "duration": 63,
    "start_time": "2024-10-16T18:15:35.907Z"
   },
   {
    "duration": 3016,
    "start_time": "2024-10-16T19:55:12.239Z"
   },
   {
    "duration": 13710,
    "start_time": "2024-10-16T19:55:15.258Z"
   },
   {
    "duration": 3217,
    "start_time": "2024-10-16T19:55:28.970Z"
   },
   {
    "duration": 2844,
    "start_time": "2024-10-16T19:55:32.190Z"
   },
   {
    "duration": 6549,
    "start_time": "2024-10-16T19:55:35.035Z"
   },
   {
    "duration": 1567,
    "start_time": "2024-10-16T19:55:41.586Z"
   },
   {
    "duration": 161,
    "start_time": "2024-10-16T19:55:43.155Z"
   },
   {
    "duration": 19,
    "start_time": "2024-10-16T19:55:43.317Z"
   },
   {
    "duration": 82,
    "start_time": "2024-10-16T19:55:43.337Z"
   },
   {
    "duration": 2250,
    "start_time": "2024-10-16T19:55:43.422Z"
   },
   {
    "duration": 19,
    "start_time": "2024-10-16T19:55:45.673Z"
   },
   {
    "duration": 11,
    "start_time": "2024-10-16T19:55:45.694Z"
   },
   {
    "duration": 6,
    "start_time": "2024-10-16T19:55:45.707Z"
   },
   {
    "duration": 8,
    "start_time": "2024-10-16T19:55:45.714Z"
   },
   {
    "duration": 14,
    "start_time": "2024-10-16T19:55:45.723Z"
   },
   {
    "duration": 19,
    "start_time": "2024-10-16T19:55:45.771Z"
   },
   {
    "duration": 17,
    "start_time": "2024-10-16T19:55:45.793Z"
   },
   {
    "duration": 8,
    "start_time": "2024-10-16T19:55:45.812Z"
   },
   {
    "duration": 6,
    "start_time": "2024-10-16T19:55:45.822Z"
   },
   {
    "duration": 39,
    "start_time": "2024-10-16T19:55:45.830Z"
   },
   {
    "duration": 6,
    "start_time": "2024-10-16T19:55:45.870Z"
   },
   {
    "duration": 11,
    "start_time": "2024-10-16T19:55:45.877Z"
   },
   {
    "duration": 165,
    "start_time": "2024-10-16T19:55:45.889Z"
   },
   {
    "duration": 19,
    "start_time": "2024-10-16T19:55:46.056Z"
   },
   {
    "duration": 193,
    "start_time": "2024-10-16T19:55:46.077Z"
   },
   {
    "duration": 14,
    "start_time": "2024-10-16T19:55:46.272Z"
   },
   {
    "duration": 6,
    "start_time": "2024-10-16T19:55:46.287Z"
   },
   {
    "duration": 12,
    "start_time": "2024-10-16T19:55:46.297Z"
   },
   {
    "duration": 13,
    "start_time": "2024-10-16T19:55:46.310Z"
   },
   {
    "duration": 5,
    "start_time": "2024-10-16T19:55:46.325Z"
   },
   {
    "duration": 97,
    "start_time": "2024-10-16T19:55:46.331Z"
   },
   {
    "duration": 117,
    "start_time": "2024-10-16T19:55:46.429Z"
   },
   {
    "duration": 177,
    "start_time": "2024-10-16T19:55:46.548Z"
   },
   {
    "duration": 329,
    "start_time": "2024-10-16T19:55:46.727Z"
   },
   {
    "duration": 319,
    "start_time": "2024-10-16T19:55:47.058Z"
   },
   {
    "duration": 201,
    "start_time": "2024-10-16T19:55:47.379Z"
   },
   {
    "duration": 300,
    "start_time": "2024-10-16T19:55:47.582Z"
   },
   {
    "duration": 344,
    "start_time": "2024-10-16T19:55:47.885Z"
   },
   {
    "duration": 319,
    "start_time": "2024-10-16T19:55:48.231Z"
   },
   {
    "duration": 329,
    "start_time": "2024-10-16T19:55:48.552Z"
   },
   {
    "duration": 3977,
    "start_time": "2024-10-16T19:55:48.882Z"
   },
   {
    "duration": 211,
    "start_time": "2024-10-16T19:55:52.861Z"
   },
   {
    "duration": 300,
    "start_time": "2024-10-16T19:55:53.074Z"
   },
   {
    "duration": 225,
    "start_time": "2024-10-16T19:55:53.376Z"
   },
   {
    "duration": 252,
    "start_time": "2024-10-16T19:55:53.603Z"
   },
   {
    "duration": 206,
    "start_time": "2024-10-16T19:55:53.856Z"
   },
   {
    "duration": 264,
    "start_time": "2024-10-16T19:55:54.064Z"
   },
   {
    "duration": 598,
    "start_time": "2024-10-16T19:55:54.329Z"
   },
   {
    "duration": 25,
    "start_time": "2024-10-16T19:55:54.928Z"
   },
   {
    "duration": 60,
    "start_time": "2024-10-16T19:55:54.965Z"
   },
   {
    "duration": 24,
    "start_time": "2024-10-16T19:55:55.026Z"
   },
   {
    "duration": 1653,
    "start_time": "2024-10-16T19:55:55.052Z"
   },
   {
    "duration": 10,
    "start_time": "2024-10-16T19:55:56.707Z"
   },
   {
    "duration": 525,
    "start_time": "2024-10-16T19:55:56.719Z"
   },
   {
    "duration": 19,
    "start_time": "2024-10-16T19:55:57.246Z"
   },
   {
    "duration": 5,
    "start_time": "2024-10-16T19:55:57.267Z"
   },
   {
    "duration": 18,
    "start_time": "2024-10-16T19:55:57.274Z"
   },
   {
    "duration": 12,
    "start_time": "2024-10-16T19:55:57.293Z"
   },
   {
    "duration": 6,
    "start_time": "2024-10-16T19:55:57.306Z"
   },
   {
    "duration": 4,
    "start_time": "2024-10-16T19:55:57.314Z"
   },
   {
    "duration": 4,
    "start_time": "2024-10-16T19:55:57.320Z"
   },
   {
    "duration": 10,
    "start_time": "2024-10-16T19:55:57.325Z"
   },
   {
    "duration": 39,
    "start_time": "2024-10-16T19:55:57.337Z"
   },
   {
    "duration": 9,
    "start_time": "2024-10-16T19:55:57.377Z"
   },
   {
    "duration": 5,
    "start_time": "2024-10-16T19:55:57.388Z"
   },
   {
    "duration": 6,
    "start_time": "2024-10-16T19:55:57.394Z"
   },
   {
    "duration": 25,
    "start_time": "2024-10-16T19:55:57.401Z"
   },
   {
    "duration": 10,
    "start_time": "2024-10-16T19:55:57.427Z"
   },
   {
    "duration": 12,
    "start_time": "2024-10-16T19:55:57.438Z"
   },
   {
    "duration": 7,
    "start_time": "2024-10-16T19:55:57.465Z"
   },
   {
    "duration": 10,
    "start_time": "2024-10-16T19:55:57.474Z"
   },
   {
    "duration": 5,
    "start_time": "2024-10-16T19:55:57.486Z"
   },
   {
    "duration": 11,
    "start_time": "2024-10-16T19:55:57.492Z"
   },
   {
    "duration": 10,
    "start_time": "2024-10-16T19:55:57.504Z"
   },
   {
    "duration": 6,
    "start_time": "2024-10-16T19:55:57.515Z"
   },
   {
    "duration": 5,
    "start_time": "2024-10-16T19:55:57.522Z"
   },
   {
    "duration": 39,
    "start_time": "2024-10-16T19:55:57.528Z"
   },
   {
    "duration": 9,
    "start_time": "2024-10-16T19:55:57.569Z"
   },
   {
    "duration": 14,
    "start_time": "2024-10-16T19:55:57.580Z"
   },
   {
    "duration": 25,
    "start_time": "2024-10-16T19:55:57.595Z"
   },
   {
    "duration": 19,
    "start_time": "2024-10-16T19:55:57.621Z"
   },
   {
    "duration": 5,
    "start_time": "2024-10-16T19:55:57.646Z"
   },
   {
    "duration": 11,
    "start_time": "2024-10-16T19:55:57.652Z"
   },
   {
    "duration": 11,
    "start_time": "2024-10-16T19:55:57.665Z"
   },
   {
    "duration": 7,
    "start_time": "2024-10-16T19:55:57.677Z"
   },
   {
    "duration": 6,
    "start_time": "2024-10-16T19:55:57.685Z"
   },
   {
    "duration": 5,
    "start_time": "2024-10-16T19:55:57.692Z"
   },
   {
    "duration": 15,
    "start_time": "2024-10-16T19:55:57.698Z"
   },
   {
    "duration": 10,
    "start_time": "2024-10-16T19:55:57.714Z"
   },
   {
    "duration": 41,
    "start_time": "2024-10-16T19:55:57.725Z"
   },
   {
    "duration": 7,
    "start_time": "2024-10-16T19:55:57.768Z"
   },
   {
    "duration": 11,
    "start_time": "2024-10-16T19:55:57.776Z"
   },
   {
    "duration": 12,
    "start_time": "2024-10-16T19:55:57.788Z"
   },
   {
    "duration": 11,
    "start_time": "2024-10-16T19:55:57.801Z"
   },
   {
    "duration": 7,
    "start_time": "2024-10-16T19:55:57.814Z"
   },
   {
    "duration": 71,
    "start_time": "2024-10-16T19:55:57.823Z"
   },
   {
    "duration": 4,
    "start_time": "2024-10-16T19:55:57.895Z"
   },
   {
    "duration": 88,
    "start_time": "2024-10-16T19:55:57.900Z"
   },
   {
    "duration": 21,
    "start_time": "2024-10-16T19:56:27.720Z"
   },
   {
    "duration": 182,
    "start_time": "2024-10-16T20:04:44.116Z"
   },
   {
    "duration": 153,
    "start_time": "2024-10-16T20:05:44.573Z"
   },
   {
    "duration": 140,
    "start_time": "2024-10-16T20:06:17.270Z"
   },
   {
    "duration": 26,
    "start_time": "2024-10-16T20:06:46.496Z"
   },
   {
    "duration": 35,
    "start_time": "2024-10-16T20:11:48.450Z"
   },
   {
    "duration": 50,
    "start_time": "2024-10-16T20:13:33.700Z"
   },
   {
    "duration": 45,
    "start_time": "2024-10-16T20:14:16.852Z"
   },
   {
    "duration": 64,
    "start_time": "2024-10-16T20:20:32.834Z"
   },
   {
    "duration": 65,
    "start_time": "2024-10-16T20:20:47.567Z"
   },
   {
    "duration": 3,
    "start_time": "2024-10-16T20:22:33.973Z"
   },
   {
    "duration": 69,
    "start_time": "2024-10-16T20:33:25.569Z"
   },
   {
    "duration": 35,
    "start_time": "2024-10-16T21:09:20.261Z"
   },
   {
    "duration": 32,
    "start_time": "2024-10-16T21:09:45.413Z"
   },
   {
    "duration": 33,
    "start_time": "2024-10-16T21:11:56.628Z"
   },
   {
    "duration": 336,
    "start_time": "2024-10-16T21:14:59.938Z"
   },
   {
    "duration": 79,
    "start_time": "2024-10-16T21:16:53.629Z"
   },
   {
    "duration": 3,
    "start_time": "2024-10-16T21:18:15.787Z"
   },
   {
    "duration": 2677,
    "start_time": "2024-10-16T21:18:46.310Z"
   },
   {
    "duration": 3321,
    "start_time": "2024-10-16T21:18:48.990Z"
   },
   {
    "duration": 2488,
    "start_time": "2024-10-16T21:18:52.312Z"
   },
   {
    "duration": 2903,
    "start_time": "2024-10-16T21:18:54.803Z"
   },
   {
    "duration": 2445,
    "start_time": "2024-10-16T21:18:57.708Z"
   },
   {
    "duration": 1380,
    "start_time": "2024-10-16T21:19:00.155Z"
   },
   {
    "duration": 42,
    "start_time": "2024-10-16T21:19:01.537Z"
   },
   {
    "duration": 17,
    "start_time": "2024-10-16T21:19:01.581Z"
   },
   {
    "duration": 3,
    "start_time": "2024-10-16T21:19:01.600Z"
   },
   {
    "duration": 93,
    "start_time": "2024-10-16T21:19:01.605Z"
   },
   {
    "duration": 2284,
    "start_time": "2024-10-16T21:19:01.700Z"
   },
   {
    "duration": 17,
    "start_time": "2024-10-16T21:19:03.985Z"
   },
   {
    "duration": 6,
    "start_time": "2024-10-16T21:19:04.004Z"
   },
   {
    "duration": 20,
    "start_time": "2024-10-16T21:19:04.012Z"
   },
   {
    "duration": 11,
    "start_time": "2024-10-16T21:19:04.035Z"
   },
   {
    "duration": 35,
    "start_time": "2024-10-16T21:19:04.048Z"
   },
   {
    "duration": 16,
    "start_time": "2024-10-16T21:19:04.085Z"
   },
   {
    "duration": 37,
    "start_time": "2024-10-16T21:19:04.104Z"
   },
   {
    "duration": 9,
    "start_time": "2024-10-16T21:19:04.143Z"
   },
   {
    "duration": 17,
    "start_time": "2024-10-16T21:19:04.164Z"
   },
   {
    "duration": 22,
    "start_time": "2024-10-16T21:19:04.183Z"
   },
   {
    "duration": 31,
    "start_time": "2024-10-16T21:19:04.207Z"
   },
   {
    "duration": 35,
    "start_time": "2024-10-16T21:19:04.240Z"
   },
   {
    "duration": 133,
    "start_time": "2024-10-16T21:19:04.277Z"
   },
   {
    "duration": 14,
    "start_time": "2024-10-16T21:19:04.411Z"
   },
   {
    "duration": 147,
    "start_time": "2024-10-16T21:19:04.427Z"
   },
   {
    "duration": 13,
    "start_time": "2024-10-16T21:19:04.576Z"
   },
   {
    "duration": 88,
    "start_time": "2024-10-16T21:19:04.593Z"
   },
   {
    "duration": 16,
    "start_time": "2024-10-16T21:19:04.683Z"
   },
   {
    "duration": 7,
    "start_time": "2024-10-16T21:19:04.701Z"
   },
   {
    "duration": 25,
    "start_time": "2024-10-16T21:19:04.710Z"
   },
   {
    "duration": 107,
    "start_time": "2024-10-16T21:19:04.737Z"
   },
   {
    "duration": 108,
    "start_time": "2024-10-16T21:19:04.846Z"
   },
   {
    "duration": 176,
    "start_time": "2024-10-16T21:19:04.964Z"
   },
   {
    "duration": 324,
    "start_time": "2024-10-16T21:19:05.142Z"
   },
   {
    "duration": 303,
    "start_time": "2024-10-16T21:19:05.468Z"
   },
   {
    "duration": 203,
    "start_time": "2024-10-16T21:19:05.772Z"
   },
   {
    "duration": 291,
    "start_time": "2024-10-16T21:19:05.976Z"
   },
   {
    "duration": 340,
    "start_time": "2024-10-16T21:19:06.268Z"
   },
   {
    "duration": 238,
    "start_time": "2024-10-16T21:19:06.609Z"
   },
   {
    "duration": 440,
    "start_time": "2024-10-16T21:19:06.849Z"
   },
   {
    "duration": 3775,
    "start_time": "2024-10-16T21:19:07.290Z"
   },
   {
    "duration": 470,
    "start_time": "2024-10-16T21:19:11.067Z"
   },
   {
    "duration": 338,
    "start_time": "2024-10-16T21:19:11.540Z"
   },
   {
    "duration": 228,
    "start_time": "2024-10-16T21:19:11.880Z"
   },
   {
    "duration": 230,
    "start_time": "2024-10-16T21:19:12.110Z"
   },
   {
    "duration": 223,
    "start_time": "2024-10-16T21:19:12.342Z"
   },
   {
    "duration": 268,
    "start_time": "2024-10-16T21:19:12.567Z"
   },
   {
    "duration": 622,
    "start_time": "2024-10-16T21:19:12.837Z"
   },
   {
    "duration": 5,
    "start_time": "2024-10-16T21:19:13.460Z"
   },
   {
    "duration": 139,
    "start_time": "2024-10-16T21:19:13.466Z"
   },
   {
    "duration": 1672,
    "start_time": "2024-10-16T21:19:13.607Z"
   },
   {
    "duration": 13,
    "start_time": "2024-10-16T21:19:15.282Z"
   },
   {
    "duration": 546,
    "start_time": "2024-10-16T21:19:15.296Z"
   },
   {
    "duration": 6,
    "start_time": "2024-10-16T21:19:15.844Z"
   },
   {
    "duration": 8,
    "start_time": "2024-10-16T21:19:15.851Z"
   },
   {
    "duration": 13,
    "start_time": "2024-10-16T21:19:15.860Z"
   },
   {
    "duration": 11,
    "start_time": "2024-10-16T21:19:15.874Z"
   },
   {
    "duration": 7,
    "start_time": "2024-10-16T21:19:15.886Z"
   },
   {
    "duration": 11,
    "start_time": "2024-10-16T21:19:15.894Z"
   },
   {
    "duration": 5,
    "start_time": "2024-10-16T21:19:15.906Z"
   },
   {
    "duration": 11,
    "start_time": "2024-10-16T21:19:15.912Z"
   },
   {
    "duration": 10,
    "start_time": "2024-10-16T21:19:15.924Z"
   },
   {
    "duration": 7,
    "start_time": "2024-10-16T21:19:15.936Z"
   },
   {
    "duration": 4,
    "start_time": "2024-10-16T21:19:15.945Z"
   },
   {
    "duration": 7,
    "start_time": "2024-10-16T21:19:15.951Z"
   },
   {
    "duration": 9,
    "start_time": "2024-10-16T21:19:15.964Z"
   },
   {
    "duration": 8,
    "start_time": "2024-10-16T21:19:15.975Z"
   },
   {
    "duration": 6,
    "start_time": "2024-10-16T21:19:15.985Z"
   },
   {
    "duration": 19,
    "start_time": "2024-10-16T21:19:15.993Z"
   },
   {
    "duration": 10,
    "start_time": "2024-10-16T21:19:16.013Z"
   },
   {
    "duration": 11,
    "start_time": "2024-10-16T21:19:16.024Z"
   },
   {
    "duration": 15,
    "start_time": "2024-10-16T21:19:16.036Z"
   },
   {
    "duration": 9,
    "start_time": "2024-10-16T21:19:16.052Z"
   },
   {
    "duration": 6,
    "start_time": "2024-10-16T21:19:16.063Z"
   },
   {
    "duration": 11,
    "start_time": "2024-10-16T21:19:16.070Z"
   },
   {
    "duration": 5,
    "start_time": "2024-10-16T21:19:16.083Z"
   },
   {
    "duration": 25,
    "start_time": "2024-10-16T21:19:16.089Z"
   },
   {
    "duration": 10,
    "start_time": "2024-10-16T21:19:16.115Z"
   },
   {
    "duration": 13,
    "start_time": "2024-10-16T21:19:16.127Z"
   },
   {
    "duration": 5,
    "start_time": "2024-10-16T21:19:16.142Z"
   },
   {
    "duration": 5,
    "start_time": "2024-10-16T21:19:16.153Z"
   },
   {
    "duration": 10,
    "start_time": "2024-10-16T21:19:16.159Z"
   },
   {
    "duration": 11,
    "start_time": "2024-10-16T21:19:16.171Z"
   },
   {
    "duration": 7,
    "start_time": "2024-10-16T21:19:16.184Z"
   },
   {
    "duration": 7,
    "start_time": "2024-10-16T21:19:16.193Z"
   },
   {
    "duration": 7,
    "start_time": "2024-10-16T21:19:16.201Z"
   },
   {
    "duration": 63,
    "start_time": "2024-10-16T21:19:16.210Z"
   },
   {
    "duration": 10,
    "start_time": "2024-10-16T21:19:16.275Z"
   },
   {
    "duration": 7,
    "start_time": "2024-10-16T21:19:16.287Z"
   },
   {
    "duration": 7,
    "start_time": "2024-10-16T21:19:16.296Z"
   },
   {
    "duration": 61,
    "start_time": "2024-10-16T21:19:16.304Z"
   },
   {
    "duration": 31,
    "start_time": "2024-10-16T21:19:16.367Z"
   },
   {
    "duration": 11,
    "start_time": "2024-10-16T21:19:16.399Z"
   },
   {
    "duration": 17,
    "start_time": "2024-10-16T21:19:16.412Z"
   },
   {
    "duration": 37,
    "start_time": "2024-10-16T21:19:16.431Z"
   },
   {
    "duration": 4,
    "start_time": "2024-10-16T21:19:16.470Z"
   },
   {
    "duration": 34,
    "start_time": "2024-10-16T21:19:16.475Z"
   }
  ],
  "kernelspec": {
   "display_name": "Python 3 (ipykernel)",
   "language": "python",
   "name": "python3"
  },
  "language_info": {
   "codemirror_mode": {
    "name": "ipython",
    "version": 3
   },
   "file_extension": ".py",
   "mimetype": "text/x-python",
   "name": "python",
   "nbconvert_exporter": "python",
   "pygments_lexer": "ipython3",
   "version": "3.9.5"
  },
  "toc": {
   "base_numbering": 1,
   "nav_menu": {},
   "number_sections": true,
   "sideBar": true,
   "skip_h1_title": true,
   "title_cell": "Table of Contents",
   "title_sidebar": "Contents",
   "toc_cell": false,
   "toc_position": {},
   "toc_section_display": true,
   "toc_window_display": false
  }
 },
 "nbformat": 4,
 "nbformat_minor": 5
}

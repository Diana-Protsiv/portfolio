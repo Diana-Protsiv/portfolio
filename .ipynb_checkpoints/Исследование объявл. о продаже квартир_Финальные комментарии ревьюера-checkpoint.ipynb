{
 "cells": [
  {
   "cell_type": "markdown",
   "metadata": {},
   "source": [
    "<div class=\"alert alert-success\">\n",
    "<font size=\"5\", color = \"seagreen\"><b>✔️ Комментарий ревьюера в2</b></font>\n",
    "    <br /> \n",
    "    <font size=\"3\", color = \"black\">\n",
    "<br /> Привет, Диана :)\n",
    "    \n",
    "Ты проделала очень большой объем, молодец. Иногда придется жертвовать качеством работы во имя срока сдачи проекта, лучше сдать неидеальный проект вовремя, чем идеальный, но позднее 🤝\n",
    "        \n",
    "Спасибо за работу на проекте, за все исправления и комментарии\n",
    "       \n",
    "        \n",
    "Подведем итоги, мы научились и повторили на проекте каким образом:\n",
    "\n",
    "+ читать тех. задание проекта\n",
    "+ исследовать неочищенные данные\n",
    "+ выдвигать гипотезы о пропусках данных и заполнять их значениями\n",
    "+ принимать решения об удалении некачественных данных\n",
    "+ находить аномалии в данных и отделять редкие значения\n",
    "+ соглашаться с наличием пропусков в данных и не забывать об их наличии при фильтрации\n",
    "+ строить информативные визуализации\n",
    "+ делить одну выборку на две части\n",
    "+ находить зависимости и распределения в данных \n",
    "+ формировать выводы\n",
    "        \n",
    "Навыки отработаны, проект принят \n",
    "\n",
    "<b>Поздравляю с успешно сданным третьим проектом на факультете дата-аналитики Я.Практикум</b>\n",
    "\n",
    "<div class=\"alert alert-success\">\n",
    "    <font size=\"5\", color = \"seagreen\"><b>Успехов в дальнейшей учебе 🤝</b></font><br />\n",
    "    \n",
    "добавил бонус и новые подсказки с пометкой в2"
   ]
  },
  {
   "cell_type": "markdown",
   "metadata": {},
   "source": [
    "<div class=\"alert alert-success\">\n",
    "<font size=\"4\"><b>Комментарий ревьюера</b></font>\n",
    "    <br /> \n",
    "    <font size=\"3\", color = \"black\">\n",
    "<br />\n",
    "    Привет, Диана :) Спасибо, что прислала задание 🤝 Меня зовут Ринат Хисамов и я буду проверять твой проект. Предлагаю обращаться друг к другу на ты. Так нам будет гораздо проще и удобней общаться\n",
    "\n",
    "Мои комментарии обозначены пометкой <b>Комментарий ревьюера</b>. Далее в файле сможешь найти их в похожих ячейках (если фон комментария зелёный — всё сделано правильно (✔️), рекомендации таким же цветом. Отдельным цветом — блок ссылок (примеры ниже, 🍕). Оранжевым или светло желтым рекомендации, которые, хоть и не обязательны, но точно сделают ревью лучше. (⚠️); <u> красный комментарий</u>: код, график или вывод стоит переделать (❌)). \n",
    "\n",
    "Не удаляй все эти комментарии и постарайся учесть их в ходе выполнения данного проекта. \n",
    "Будет замечательно, если добавишь свои комментарии и пояснения✍\n",
    "        \n",
    "Поехали 🚀\n",
    "    <br />\n",
    "    </font>\n",
    "\n",
    "</div>"
   ]
  },
  {
   "cell_type": "markdown",
   "metadata": {},
   "source": [
    "<div style=\"border:solid steelblue 1px; padding: 20px\">\n",
    "    \n",
    "<font size=\"4\"><p style=\"text-align:center\"><b>Примеры комментариев </b></p></font>\n",
    "    \n",
    "<div style=\"border:solid steelblue 3px; padding: 20px\">\n",
    "<font size=\"4\"><b>🍕 Пример комментария - совета, здесь м.б. просто ссылка</b></font>\n",
    "    <br /> \n",
    "        <font size=\"3\", color = \"black\">\n",
    "<br />\n",
    "    Тут всего такого разного и вкусного :), есть способы прокачать проект визуализациями (ценит большинство \"боссов\")  <br /><br />\n",
    "        <a href=\"https://devpractice.ru/matplotlib-book/\">“Библиотека Matplotlib” доступна для скачивания БЕСПЛАТНО!</a>\n",
    "        На сайте много полезных материалов, мне самому очень помогло в свое время, до сих пор подсматриваю :)\n",
    "\n",
    "\n",
    "</div>\n",
    "    \n",
    "<div class=\"alert alert-warning\", style=\"border:solid coral 3px; padding: 20px\">\n",
    "    <font size=\"3\"><b>⚠️ Пример оформления некритичного комментария</b>\n",
    "    <br /> \n",
    "    <font size=\"2\", color = \"black\">\n",
    "<br />\n",
    "    Рекомендации, которые, хоть и не обязательны, но точно сделают ревью лучше\n",
    "    <br />\n",
    "    </font>\n",
    "\n",
    "</div>\n",
    "    \n",
    "<div class=\"alert alert-danger\">\n",
    "<font size=\"3\"><b>❌ Пример оформления комментария к блоку(строке) программного кода (или выводу), который стоит переделать</b></font>\n",
    "    <br /> \n",
    "    <font size=\"2\", color = \"black\">\n",
    "<br />\n",
    "    Отправлен не тот проект, напиши в своих комментариях, что случилось? жду — <b>это пример</b>\n",
    "    <br />\n",
    "    </font>\n",
    "\n",
    "</div>\n",
    "    \n",
    "<div class=\"alert alert-success\">\n",
    "<font size=\"4\"><b>✔️ Пример оформления комментария, который нравится большинству студентов</b></font>\n",
    "    <br /> \n",
    "    <font size=\"3\", color = \"black\">\n",
    "<br />\n",
    "    Круто, молодец, отлично, логично, или — 👌, 👍, или — выводы отвечают на все вопросы к данным и проекту\n",
    "    <br />\n",
    "    </font>\n",
    "\n",
    "</div>"
   ]
  },
  {
   "cell_type": "markdown",
   "metadata": {},
   "source": [
    "# Для твоих вопросов или комментариев оставлю такую ячейку, чтобы было удобнее взаимодействовать на проекте"
   ]
  },
  {
   "cell_type": "markdown",
   "metadata": {},
   "source": [
    "<div class=\"alert alert-info\">\n",
    "<font size=\"4\", color = \"black\"><b>✍ Комментарий студента</b></font>\n",
    "    <br /> \n",
    "    <font size=\"3\", color = \"black\">\n",
    "<br /> ... , вот мой вопрос ...\n",
    "        \n",
    "        "
   ]
  },
  {
   "cell_type": "markdown",
   "metadata": {
    "id": "-VFbjcb3Awb7"
   },
   "source": [
    "# Исследование объявлений о продаже квартир\n",
    "\n",
    "В основе исследования лежат данные сервиса Яндекс Недвижимость — архив объявлений о продаже квартир в Санкт-Петербурге и соседних населённых пунктах за несколько лет. Целью исследовательского анализа данных является установление параметров, влияющих на рыночную стоимость объектов недвижимости. Это позволит построить автоматизированную систему: она отследит аномалии и мошенническую деятельность.\n",
    "\n",
    "По каждой квартире на продажу доступны два вида данных. Первые вписаны пользователем, вторые — получены автоматически на основе картографических данных. Например, расстояние до центра, аэропорта и других объектов — эти данные автоматически получены из геосервисов. Количество парков и водоёмов также заполняется без участия пользователя."
   ]
  },
  {
   "cell_type": "markdown",
   "metadata": {},
   "source": [
    "**Описание данных:**\n",
    "\n",
    "- `airports_nearest` — расстояние до ближайшего аэропорта в метрах (м)\n",
    "\n",
    "- `balcony` — число балконов\n",
    "\n",
    "- `ceiling_height` — высота потолков (м)\n",
    "\n",
    "- `cityCenters_nearest` — расстояние до центра города (м)\n",
    "\n",
    "- `days_exposition` — сколько дней было размещено объявление (от публикации до снятия)\n",
    "\n",
    "- `first_day_exposition` — дата публикации\n",
    "\n",
    "- `floor` — этаж\n",
    "\n",
    "- `floors_total` — всего этажей в доме\n",
    "\n",
    "- `is_apartment` — апартаменты (булев тип)\n",
    "\n",
    "- `kitchen_area` — площадь кухни в квадратных метрах (м²)\n",
    "\n",
    "- `last_price` — цена на момент снятия с публикации\n",
    "\n",
    "- `living_area` — жилая площадь в квадратных метрах (м²)\n",
    "\n",
    "- `locality_name` — название населённого пункта\n",
    "\n",
    "- `open_plan` — свободная планировка (булев тип)\n",
    "\n",
    "- `parks_around3000` — число парков в радиусе 3 км\n",
    "\n",
    "- `parks_nearest` — расстояние до ближайшего парка (м)\n",
    "\n",
    "- `ponds_around3000` — число водоёмов в радиусе 3 км\n",
    "\n",
    "- `ponds_nearest` — расстояние до ближайшего водоёма (м)\n",
    "\n",
    "- `rooms` — число комнат\n",
    "\n",
    "- `studio` — квартира-студия (булев тип)\n",
    "\n",
    "- `total_area` — общая площадь квартиры в квадратных метрах (м²)\n",
    "\n",
    "- `total_images` — число фотографий квартиры в объявлении"
   ]
  },
  {
   "cell_type": "markdown",
   "metadata": {},
   "source": [
    "**План работы:**\n",
    "\n",
    "1. Изучение данных:\n",
    "- вывод первых строк датафрейма;\n",
    "- вывод основной информации о датафрейме;\n",
    "- построение гистограмм.\n",
    "2. Предобработка данных:\n",
    "- поиск и заполнение пропущенных значений там, где это возможно;\n",
    "- установление корректного типа данных в столбцах датафрейма;\n",
    "- устранение неявных дубликатов в названиях населённых пунктов.\n",
    "3. Добавление в таблицу новых параметров квартиры:\n",
    "- цена одного квадратного метра;\n",
    "- день публикации объявления;\n",
    "- месяц публикации объявления;\n",
    "- год публикации объявления;\n",
    "- тип этажа квартиры;\n",
    "- расстояние до центра города в километрах.\n",
    "4. Исследовательский анализ данных:\n",
    "- изучение и описание параметров квартиры:\n",
    " - общая площадь;\n",
    " - жилая площадь;\n",
    " - площадь кухни;\n",
    " - цена объекта;\n",
    " - количество комнат;\n",
    " - высота потолков;\n",
    " - тип этажа квартиры («первый», «последний», «другой»);\n",
    " - общее количество этажей в доме;\n",
    " - расстояние до центра города в метрах;\n",
    " - расстояние до ближайшего парка;\n",
    "- обработка редких и выбивающихся значений (аномалий);\n",
    "- изучение скорости продажи квартиры:\n",
    " - построение гистограммы;\n",
    " - рассчёт среднего значения и медианы;\n",
    " - описание, сколько обычно занимает продажа;\n",
    " - указание, какие продажи можно считать быстрыми, а какие — необычно долгими;\n",
    "- определение факторов, которые больше всего влияют на общую стоимость объекта недвижимости;\n",
    "- построение графиков, которые показывают зависимость цены на квартиру от параметров:\n",
    " - общая площадь;\n",
    " - жилая площадь;\n",
    " - площадь кухни;\n",
    " - количество комнат;\n",
    " - тип этажа, на котором расположена квартира;\n",
    " - дата размещения (день недели, месяц, год).\n",
    "- рассчёт средней цены одного квадратного метра в 10 населённых пунктах с наибольшим числом объявлений:\n",
    " - выделение населённых пунктов с самой высокой и низкой стоимостью квадратного метра;\n",
    "- выделение квартир в Санкт-Петербурге и вычисление их средней стоимости на разном удалении от центра:\n",
    " - описание, как стоимость объекта зависит от расстояния до центра города;\n",
    " - построение графика изменения средней цены для каждого километра от центра Петербурга.\n",
    "5. Написание промежуточных выводов и общего вывода по результатам исследования."
   ]
  },
  {
   "cell_type": "markdown",
   "metadata": {},
   "source": [
    "<div class=\"alert alert-success\">\n",
    "<font size=\"4\", color= \"seagreen\"><b>✔️ Комментарий ревьюера в2</b></font>\n",
    "    <br /> \n",
    "    <font size=\"3\", color = \"black\">\n",
    "<br /> Ясная и четкая вступительная часть проекта, молодец"
   ]
  },
  {
   "cell_type": "markdown",
   "metadata": {},
   "source": [
    "<div class=\"alert alert-warning\", style=\"border:solid coral 3px; padding: 20px\">\n",
    "<font size=\"4\", color = \"DimGrey\"><b>⚠️ Комментарий ревьюера</b></font>\n",
    "    <br /> \n",
    "    <font size=\"3\", color = \"black\">\n",
    "<br />\n",
    "Название, краткое вступление в работу и главная задача зафиксированы. \n",
    "       \n",
    "        \n",
    "Четкий план работ и перечень основных задач позволит коллегам быстрее вникнуть в суть проекта, + будет легче  идти к главной цели проекта"
   ]
  },
  {
   "cell_type": "markdown",
   "metadata": {},
   "source": [
    "## Открытие файла с данными и изучение общей информации"
   ]
  },
  {
   "cell_type": "markdown",
   "metadata": {},
   "source": [
    "Импортируем необходимые библиотеки и модули."
   ]
  },
  {
   "cell_type": "code",
   "execution_count": null,
   "metadata": {},
   "outputs": [],
   "source": [
    "import pandas as pd \n",
    "# импорт библиотеки pandas\n",
    "from matplotlib import pyplot as plt \n",
    "# импорт модуля pyplot из библиотеки matplotlib\n",
    "%matplotlib inline\n",
    "from scipy import stats \n",
    "# подключение модуля stats из библиотеки scipy"
   ]
  },
  {
   "cell_type": "markdown",
   "metadata": {},
   "source": [
    "Считаем данные из csv-файла в датафрейм и сохраним в переменную `data`."
   ]
  },
  {
   "cell_type": "code",
   "execution_count": null,
   "metadata": {
    "id": "7MZxY65pAwb9"
   },
   "outputs": [],
   "source": [
    "try:\n",
    "    data = pd.read_csv('/datasets/real_estate_data.csv')\n",
    "except:\n",
    "    data = pd.read_csv('https://code.s3.yandex.net/datasets/real_estate_data.csv')\n",
    "#  чтение данных из csv-файла в датафрейм и сохранение в переменную ‘data’"
   ]
  },
  {
   "cell_type": "markdown",
   "metadata": {},
   "source": [
    "<div class=\"alert alert-warning\", style=\"border:solid coral 3px; padding: 20px\">\n",
    "<font size=\"4\", color = \"DimGrey\"><b>⚠️ Комментарий ревьюера</b></font>\n",
    "    <br /> \n",
    "    <font size=\"3\", color = \"black\">\n",
    "<br />стоит делить блок загрузки библиотек и код загрузки датасета, в случае необходимости добавления новых библиотек не придется загружать весь датасет заново и перезапускать проект целиком"
   ]
  },
  {
   "cell_type": "markdown",
   "metadata": {},
   "source": [
    "Выведем первые 5 строк датафрейма `data` на экран."
   ]
  },
  {
   "cell_type": "code",
   "execution_count": null,
   "metadata": {},
   "outputs": [],
   "source": [
    "data.head() \n",
    "# отображение первых 5 строк датафрейма ‘data’"
   ]
  },
  {
   "cell_type": "markdown",
   "metadata": {},
   "source": [
    "Данные склеились в одну строку вместо того, чтобы разбиться по колонкам. Это произошло из-за разделителей в формате csv.\n",
    "\n",
    "Считаем данные из csv-файла в датафрейм с учётом разделителя столбцов и снова сохраним в переменную `data`."
   ]
  },
  {
   "cell_type": "code",
   "execution_count": null,
   "metadata": {},
   "outputs": [],
   "source": [
    "try:\n",
    "    data = pd.read_csv('/datasets/real_estate_data.csv', sep='\\t')\n",
    "except:\n",
    "    data = pd.read_csv('https://code.s3.yandex.net/datasets/real_estate_data.csv', sep='\\t')\n",
    "# чтение данных из csv-файла с разделением каждого столбца символом табуляции (\\t)\n",
    "# сохранение данных в переменную ‘data’"
   ]
  },
  {
   "attachments": {
    "image.png": {
     "image/png": "[encoded data removed]"
    }
   },
   "cell_type": "markdown",
   "metadata": {},
   "source": [
    "<div class=\"alert alert-dan ger\">\n",
    "<font size=\"4\"><b>❌ Комментарий ревьюера</b></font>\n",
    "    <br /> \n",
    "    <font size=\"3\", color = \"black\">\n",
    "<br /> Кажется, в этот раз работа над проектом велась локально и пути к файлам не были изменены на общедоступные. Стоит переписать код таким образом, что бы он запускался и в jupiter hub, и локально без внесения дополнительных правок. \n",
    "                \n",
    "Этого можно добиться многими способами. Например, использовать конструкцию try-except для путей файлов: try — пути на локальном компьютере, except — пути на сервере. \n",
    "        \n",
    "[Try - Except](https://pythonworld.ru/tipy-dannyx-v-python/isklyucheniya-v-python-konstrukciya-try-except-dlya-obrabotki-isklyuchenij.html)                \n",
    "        \n",
    "Или применить библиотеку os:\n",
    "        \n",
    "    import os\n",
    "\n",
    "    pth1 = '/folder_1/data.csv'\n",
    "    pth2 = '/folder_2/data.csv'\n",
    "\n",
    "    if os.path.exists(pth1):\n",
    "        query_1 = pd.read_csv(pth1)\n",
    "    elif os.path.exists(pth2):\n",
    "        query_1 = pd.read_csv(pth2)\n",
    "    else:\n",
    "        print('Something is wrong)\n",
    "        \n",
    "Инструкции\n",
    "        \n",
    "![image.png](attachment:image.png)        "
   ]
  },
  {
   "cell_type": "markdown",
   "metadata": {},
   "source": [
    "Ещё раз выведем первые 5 строк датафрейма `data` на экран."
   ]
  },
  {
   "cell_type": "code",
   "execution_count": null,
   "metadata": {},
   "outputs": [],
   "source": [
    "data.head() \n",
    "# отображение первых 5 строк датафрейма ‘data’"
   ]
  },
  {
   "cell_type": "markdown",
   "metadata": {},
   "source": [
    "Выведем основную информацию о датафрейме."
   ]
  },
  {
   "cell_type": "code",
   "execution_count": null,
   "metadata": {},
   "outputs": [],
   "source": [
    "data.info() \n",
    "# вывод информации о структуре данных, хранящихся в переменной ‘data’"
   ]
  },
  {
   "cell_type": "markdown",
   "metadata": {},
   "source": [
    "В таблице 23 тыс. 699 строк и 22 столбца. 2 колонки содержат значения логического типа данных, 14 — вещественные числа, 3 — целые числа, 3 — строки. В некотрых столбцах следует изменить тип данных. Это может улучшить читаемость и понятность данных, упростить обработку и анализ данных, повысить эффективность работы с ними.\n",
    "    \n",
    "В 14 колонках встречаются пропущенные значения. Они могут изменить соотношение между переменными и привести к неточным результатам, повысить сложность обработки данных. Необходимо будет изучить пропуски и заполнить их там, где это возможно. Это поможет избежать искажения данных и повысить надёжность исследования.\n",
    "    \n",
    "Построим гистограммы для всех числовых столбцов таблицы на одном графике."
   ]
  },
  {
   "cell_type": "code",
   "execution_count": null,
   "metadata": {
    "scrolled": true
   },
   "outputs": [],
   "source": [
    "data.hist(figsize=(25, 20));\n",
    "# создание гистограммы для каждого столбца в переменной ‘data’ \n",
    "# определение размера графика с помощью параметра figsize"
   ]
  },
  {
   "cell_type": "markdown",
   "metadata": {},
   "source": [
    "<div style=\"border:solid steelblue 3px; padding: 20px\">\n",
    "<font size=\"4\">🍕<b> Комментарий ревьюера</b></font>\n",
    "<br /> \n",
    "<font size=\"3\", color = \"black\">\n",
    "<br />\n",
    "Скрыть служ. информацию поможет точка с запятой на посл. строке кода\n",
    "\n",
    "    array([[<AxesSubplot:title={'center':'total_images'}>,\n",
    "        <AxesSubplot:title={'center':'last_price'}>,\n",
    "        <AxesSubplot:title={'center':'total_area'}>,\n",
    "        <AxesSubplot:title={'center':'rooms'}>],\n",
    "       [<AxesSubplot:title={'center':'ceiling_height'}>,\n",
    "        <AxesSubplot:title={'center':'floors_total'}>,\n",
    "        <AxesSubplot:title={'center':'living_area'}>,\n",
    "        <AxesSubplot:title={'center':'floor'}>],\n",
    "       [<AxesSubplot:title={'center':'kitchen_area'}>,\n",
    "        <AxesSubplot:title={'center':'balcony'}>,\n",
    "        <AxesSubplot:title={'center':'airports_nearest'}>,\n",
    "        <AxesSubplot:title={'center':'cityCenters_nearest'}>],\n",
    "       [<AxesSubplot:title={'center':'parks_around3000'}>,\n",
    "        <AxesSubplot:title={'center':'parks_nearest'}>,\n",
    "        <AxesSubplot:title={'center':'ponds_around3000'}>,\n",
    "        <AxesSubplot:title={'center':'ponds_nearest'}>],\n",
    "       [<AxesSubplot:title={'center':'days_exposition'}>, <AxesSubplot:>,\n",
    "        <AxesSubplot:>, <AxesSubplot:>]], dtype=object)\n",
    "\n",
    "data.hist(figsize=(25, 20));\n"
   ]
  },
  {
   "cell_type": "markdown",
   "metadata": {},
   "source": [
    "Судя по гистограммам, в данных содержатся редкие и выбивающиеся значения. Они могут исказить результаты анализа, делая их менее точными, усложнить понимание и интерпретацию данных, привести к неправильным выводам или принятию неверных решений. Поэтому необходимо будет обработать аномальные значения в столбцах датафрейма."
   ]
  },
  {
   "cell_type": "markdown",
   "metadata": {},
   "source": [
    "**Вывод:**\n",
    "\n",
    "Мы считали csv-файл с учётом разделителя столбцов с данными о квартирах в Санкт-Петербурге и соседних населённых пунктах, выставленных на продажу, и сохранили их в датафрейм. Вывели первые строки набора данных.\n",
    "\n",
    "Изучили общую информацию о датафрейме. В таблице 23 тыс. 699 строк и 22 столбца, из которых 2 содержат значения логического типа данных, 14 — вещественные числа, 3 — целые числа, 3 — строки. В некоторых столбцах необходимо преобразовать тип данных. В 14 колонках встречаются пропущенные значения. Их нужно будет заполнить там, где это возможно.\n",
    "\n",
    "Построили гистограммы для всех числовых столбцов датафрейма. Выявили, что в данных содержатся аномалии, которые следует обработать."
   ]
  },
  {
   "cell_type": "markdown",
   "metadata": {},
   "source": [
    "<div class=\"alert alert-success\">\n",
    "<font size=\"4\", color= \"seagreen\"><b>✔️ Комментарий ревьюера</b></font>\n",
    "    <br /> \n",
    "    <font size=\"3\", color = \"black\">\n",
    "<br />Отлично, добавлен промежуточный вывод, молодец"
   ]
  },
  {
   "cell_type": "markdown",
   "metadata": {
    "id": "-O5NtivEAwb9"
   },
   "source": [
    "## Выполнение предобработки данных"
   ]
  },
  {
   "cell_type": "markdown",
   "metadata": {},
   "source": [
    "### Переименование столбцов в датафрейме"
   ]
  },
  {
   "cell_type": "markdown",
   "metadata": {},
   "source": [
    "Выведем названия столбцов, существующих в датафрейме."
   ]
  },
  {
   "cell_type": "code",
   "execution_count": null,
   "metadata": {},
   "outputs": [],
   "source": [
    "data.columns \n",
    "# вывод списка столбцов датафрейма"
   ]
  },
  {
   "cell_type": "markdown",
   "metadata": {},
   "source": [
    "Поменяем названия некоторых столбцов, чтобы они, как и остальные, были написаны в «змеином_регистре»."
   ]
  },
  {
   "cell_type": "code",
   "execution_count": null,
   "metadata": {},
   "outputs": [],
   "source": [
    "data = data.rename(columns={\n",
    "    'cityCenters_nearest': 'city_centers_nearest',\n",
    "    'parks_around3000': 'parks_around_3000', \n",
    "    'ponds_around3000': 'ponds_around_3000'})\n",
    "# переименование столбцов в датафрейме"
   ]
  },
  {
   "cell_type": "markdown",
   "metadata": {},
   "source": [
    "### Работа с пропущенными значениями"
   ]
  },
  {
   "cell_type": "code",
   "execution_count": null,
   "metadata": {},
   "outputs": [],
   "source": [
    "# check\n",
    "# пропущенные значения бары\n",
    "\n",
    "def pass_value_barh(dfg):\n",
    "    try:\n",
    "        (\n",
    "            (dfg.isna().mean()*100)\n",
    "            .to_frame()\n",
    "            .rename(columns = {0:'space'})\n",
    "            .query('space > 0')\n",
    "            .sort_values(by = 'space', ascending = True)\n",
    "            .plot(kind = 'barh', figsize = (19,6), rot = -5, legend = False, fontsize = 16)\n",
    "            .set_title('Пример' + \"\\n\", fontsize = 22, color = 'SteelBlue')    \n",
    "        );    \n",
    "    except:\n",
    "        print('пропусков не осталось :) или произошла ошибка в первой части функции ')"
   ]
  },
  {
   "cell_type": "code",
   "execution_count": null,
   "metadata": {},
   "outputs": [],
   "source": [
    "pass_value_barh(data)"
   ]
  },
  {
   "cell_type": "markdown",
   "metadata": {},
   "source": [
    "<div style=\"border:solid steelblue 3px; padding: 20px\">\n",
    "<font size=\"4\">🍕<b> Комментарий ревьюера</b></font>\n",
    "<br /> \n",
    "<font size=\"3\", color = \"black\">\n",
    "<br /> Наглядность представления информации одна из важных составляющих работы дата-аналитика или дата-сайентиста\n",
    "    \n",
    "__мой график оформлен не совсем корректно, сможешь отметить, что стоило бы исправить в графике?__\n",
    "  "
   ]
  },
  {
   "cell_type": "markdown",
   "metadata": {
    "id": "7v3vAeTuAwb-"
   },
   "source": [
    "Выведем долю пропущенных значений для каждого столбца датафрейма и отобразим на графике."
   ]
  },
  {
   "cell_type": "code",
   "execution_count": null,
   "metadata": {},
   "outputs": [],
   "source": [
    "try:\n",
    "    (\n",
    "        (data.isna().mean()*100)\n",
    "        .to_frame()\n",
    "        .rename(columns = {0:'space'})\n",
    "        .query('space > 0')\n",
    "        .sort_values(by = 'space', ascending = True)\n",
    "        .plot(kind = 'barh', figsize = (19,6), legend = False, fontsize = 16)\n",
    "        .set_title('Соотношение пропущенных значений в столбцах датафрейма, %' + \"\\n\", fontsize = 18)    \n",
    "    );    \n",
    "except:\n",
    "    print('Пропусков не осталось или произошла ошибка в первой части функции')\n",
    "# определение среднего значения процентов отсутствующих значений в каждом столбце датафрейма\n",
    "# умножение результата на 100 для получения процентного соотношения пропущенных значений\n",
    "# преобразование столбцов в отдельный фрейм данных\n",
    "# переименование столбцов\n",
    "# отбор строк, где значение больше нуля\n",
    "# сортировка значений\n",
    "# построение графика и установка заголовка\n",
    "plt.xlabel('Доля пропущенных значений', fontsize=16)\n",
    "# установка подписи для горизонтальной оси графика\n",
    "plt.ylabel('Столбцы датафрейма', fontsize=16)\n",
    "# установка подписи для вертикальной оси графика\n",
    "round((data.isna().sum() / len(data)) * 100, 1).sort_values(ascending = False).head(14).to_frame(\n",
    "    name='% of missing values')\n",
    "# вычисление доли отсутствующих значений в каждом столбце датафрейма с сортировкой по убыванию\n",
    "# вывод первых 14 строк"
   ]
  },
  {
   "cell_type": "markdown",
   "metadata": {},
   "source": [
    "В столбце с названиями населённых пунктов 0.2% пропусков от общего числа значений. Оставим их. Пропуски могут быть связаны с ошибками ввода данных, отсутствием информации о населённом пункте.\n",
    "\n",
    "В столбце с количеством этажей в доме доля пропусков составляет 0.4%. Это немного. Удалим их."
   ]
  },
  {
   "cell_type": "markdown",
   "metadata": {},
   "source": [
    "<div class=\"alert alert-success\">\n",
    "<font size=\"4\", color= \"seagreen\"><b>✔️ Комментарий ревьюера в2</b></font>\n",
    "    <br /> \n",
    "    <font size=\"3\", color = \"black\">\n",
    "<br />Отлично, молодец\n",
    "        \n",
    "можно установить шкалу от 0 до 100, чтобы визуально представлять полноту данных\n",
    "\n",
    "        plt.xlim(0, 100)    \n",
    "\n",
    "добавить подписи к осям мешает строка кода\n",
    "        \n",
    "        .set_title('Пример' + \"\\n\", fontsize = 22, color = 'SteelBlue')    \n",
    "        \n",
    "её можно заменить на (в теле функции)       \n",
    "        \n",
    "        ;\n",
    "        plt.title('Пропущенные значения, %' + \"\\n\", fontsize=22, color='SteelBlue')\n",
    "        plt.xlabel('Процент пропусков', fontsize=22)\n",
    "        plt.ylabel('Столбцы с пропусками')        \n",
    "        \n",
    "часть моих новых шрифтов оформлена не совсем корректно 🤝😉         "
   ]
  },
  {
   "cell_type": "code",
   "execution_count": null,
   "metadata": {},
   "outputs": [],
   "source": [
    "# data.dropna(subset='floors_total', inplace=True)\n",
    "\n",
    "data.dropna(subset=['floors_total'], inplace=True)\n",
    "# удаление пропущенных значений из столбца ‘floors_total’\n",
    "data['floors_total'].isna().sum() \n",
    "# вывод количества отсутствующих значений в столбце ‘floors_total’"
   ]
  },
  {
   "cell_type": "markdown",
   "metadata": {},
   "source": [
    "<div class=\"alert alert-warning\", style=\"border:solid coral 3px; padding: 20px\">\n",
    "<font size=\"4\", color = \"DimGrey\"><b>⚠️ Комментарий ревьюера в2</b></font>\n",
    "    <br /> \n",
    "    <font size=\"3\", color = \"black\">\n",
    "<br />  \n",
    "        \n",
    "        data.dropna(subset='floors_total', inplace=True)\n",
    "        \n",
    "Стоит использовать код, который не станет заложником версии.\n",
    "\n",
    "Список лучше применять даже для одного столбца\n",
    "\n",
    "       data.dropna(subset=['floors_total'], inplace=True)"
   ]
  },
  {
   "cell_type": "markdown",
   "metadata": {},
   "source": [
    "Пропущенные значения удалены. Возможные причины пропусков данных в столбце с количеством этажей могут быть связаны с тем, что здание было недавно построено и ещё не прошло инвентаризацию, или же информация о количестве этажей просто отсутствует. Данные могут быть введены некорректно или с ошибками, что может привести к пропуску информации.\n",
    "\n",
    "В столбце с жилой площадью 8% пропущенных значений, с площадью кухни — 10%. Проверим, характерно ли для всех наблюдений, что общая площадь без учёта площадей коридоров, сан.узлов, балконов (около 10% от общей площади) меньше или равна жилой площади и площади кухни, чтобы решить, правильно ли будет заполнить пропуски с учётом отношения жилой площади к площади кухни и, наоборот."
   ]
  },
  {
   "cell_type": "code",
   "execution_count": null,
   "metadata": {},
   "outputs": [],
   "source": [
    "len(data.query('(total_area - ((total_area * 10) / 100)) <= (living_area + kitchen_area)'))"
   ]
  },
  {
   "cell_type": "markdown",
   "metadata": {},
   "source": [
    "Лишь для небольшого количества наблюдений выполняется условие. Можно предположить, что возникнут аномальные значения в случае заполнения пропусков с учётом отношения жилой площади и площади кухни друг к другу. Заполнять пропуски таким образом нецелесообразно. Поэтому оставим пропущенные значения в столбцах с жилой площадью и площадью кухни. Возможные причины пропусков данных могут включать отсутствие информации о жилой площади и площади кухни в объявлениях о продаже квартиры, ошибки ввода данных."
   ]
  },
  {
   "cell_type": "markdown",
   "metadata": {},
   "source": [
    "<div style>\n",
    "<font size=\"4\"><b></b></font>\n",
    "<font size=\"5\", color = \"black\">\n",
    "🤝"
   ]
  },
  {
   "cell_type": "markdown",
   "metadata": {},
   "source": [
    "<div class=\"alert alert-da nger\">\n",
    "<font size=\"4\"><b>❌ Комментарий ревьюера</b></font>\n",
    "    <br /> \n",
    "    <font size=\"3\", color = \"black\">\n",
    "<br />После заполнения синтетическими данными столбцов, стоит провести проверку на корректность значений всех наших площадей, т.к. есть коридоры, сан.узлы, балконы — на них отводим условные 10% площади\n",
    "        \n",
    "        total_area*0.9 <= (living_area + kitchen_area)\n",
    "                                     \n",
    "если алгоритм заполнения пропусков приводит к появлению аномалий, стоит подумать над его содержимым\n",
    "                                     \n",
    "    Для решения задачи можно использовать запросы с query                                     "
   ]
  },
  {
   "cell_type": "markdown",
   "metadata": {},
   "source": [
    "В столбце с количеством дней, в течение которых было размещено объявление о продаже квартиры, 13% пропусков. Посмотрим, указаны ли даты публикации объявления там, где отсутствует информация о том, сколько дней было размещено объявление."
   ]
  },
  {
   "cell_type": "code",
   "execution_count": null,
   "metadata": {},
   "outputs": [],
   "source": [
    "data[data['days_exposition'].isna()].loc[:, ['first_day_exposition', 'days_exposition']] \n",
    "# вывод строк столбца ‘first_day_exposition’ и столбца ‘days_exposition’ с пропущенными значениями"
   ]
  },
  {
   "cell_type": "markdown",
   "metadata": {},
   "source": [
    "Даты публикации объявления указаны там, где отсутствует информация о количестве дней размещения объявления. Это означает, что объявление о продаже квартиры было размещено, но пока что не снято с публикации. Оставим пропуски. Возможно, на момент сбора информации квартира ещё не была продана, или объявление забыли снять с публикации."
   ]
  },
  {
   "cell_type": "markdown",
   "metadata": {},
   "source": [
    "В столбцах с количеством парков и водоёмов в радиусе 3 км от дома и расстоянием от дома до центра города и до ближайшего аэропорта одинаковая доля пропусков — 23%, до ближайшего водоёма — 62%, до ближайшего парка — 66%.\n",
    "\n",
    "Посмотрим, существуют ли совпадения в пропусках во всех шести столбцах."
   ]
  },
  {
   "cell_type": "code",
   "execution_count": null,
   "metadata": {},
   "outputs": [],
   "source": [
    "data[(data['parks_around_3000'].isna()) \n",
    "     & (data['parks_nearest'].isna()) \n",
    "     & (data['ponds_around_3000'].isna()) \n",
    "     & (data['ponds_nearest'].isna())\n",
    "     & (data['city_centers_nearest'].isna())\n",
    "     & (data['airports_nearest'].isna())].loc[:, ['parks_around_3000', \n",
    "                                               'parks_nearest', \n",
    "                                               'ponds_around_3000', \n",
    "                                               'ponds_nearest',\n",
    "                                               'city_centers_nearest',\n",
    "                                               'airports_nearest']] \n",
    "# вывод строк столбцов ‘parks_around_3000’, ‘parks_nearest’, \n",
    "# ‘ponds_around_3000’, ‘ponds_nearest’, \n",
    "# ‘city_centers_nearest’, ‘airports_nearest’ с пропущенными значениями"
   ]
  },
  {
   "cell_type": "markdown",
   "metadata": {},
   "source": [
    "Пропуски в данных, включающих количество парков и водоёмов в радиусе 3 км от дома, а также расстояние от дома до ближайшего парка, водоёма, аэропорта и центра города, связаны друг с другом. Оставим пропущенные значения. Эти данные получены автоматически из геосервисов. Возможно, существуют ошибки в алгоритме или программном обеспечении, используемом для автоматического сбора и обработки данных. Также причиной пропусков могут быть неполные или отсутствующие геотеги в исходных данных, непостоянство в доступности и точности геоинформации, предоставляемой сервисами. Отсутсвие данных может быть связано с ограничениями используемых инструментов и методов измерения расстояния. Некоторые пропуски в данных могут возникнуть из-за того, что парков, водоёмов, аэропортов нет поблизости, или они отсутствуют в принципе. Возможно, что данные, не включают информацию о расстоянии до центра города. Отсутствие некоторых данных может свидетельствовать о том, что объект недвижимости расположен за пределами городской черты."
   ]
  },
  {
   "cell_type": "markdown",
   "metadata": {},
   "source": [
    "<div class=\"alert alert-success\">\n",
    "<font size=\"4\", color= \"seagreen\"><b>✔️ Комментарий ревьюера</b></font>\n",
    "    <br /> \n",
    "    <font size=\"3\", color = \"black\">\n",
    "<br />Отличные рассуждения, молодец\n",
    "          "
   ]
  },
  {
   "cell_type": "markdown",
   "metadata": {},
   "source": [
    "В столбце с высотой потолков 39% пропущенных значений. В разных местах существуют различные стандарты высоты потолков в квартирах. Этот показатель может меняться в зависимости от типа жилого здания, местных строительных норм. Заполнять пропуски в столбце с высотой потолков медианными или средними значениями будет неправильно, так как в разных районах Санкт-Петербурга высота потолков разная. В современных районах Санкт-Петербурга высота потолков будет ожидаема ниже, чем в исторических. Заполнение большой доли пропусков медианой или средним значением приведёт к исчезновению характерных особенностей объектов недвижимости в центре города. Поэтому оставим пропуски. Пропущенные значения в данных о высоте потолков могут быть вызваны ошибками ввода данных. Возможно, некоторые объявления о продажи квартир не содержат информацию о высоте потолков."
   ]
  },
  {
   "cell_type": "markdown",
   "metadata": {},
   "source": [
    "<div class=\"alert alert-warning\", style=\"border:solid coral 3px; padding: 20px\">\n",
    "<font size=\"4\", color = \"DimGrey\"><b>⚠️ Комментарий ревьюера</b></font>\n",
    "    <br /> \n",
    "    <font size=\"3\", color = \"black\">\n",
    "<br />Стоит учитывать физическое распределение данных, в разных районах Питера высота потолков разная        \n",
    "        \n",
    "... если рассмотреть районность высоты потолков, т.к. в современных районах Питера высота потолков будет ожидаема ниже, чем в исторических, мы увидим, что заполнение подобного объема пропусков медианой или средним значением «размажет» это отличительное свойство объектов недвижимости в центре Питера\n",
    "        \n",
    "[Обработка пропусков в данных](https://loginom.ru/blog/missing)"
   ]
  },
  {
   "cell_type": "markdown",
   "metadata": {},
   "source": [
    "В столбце с количеством балконов 49% пропусков. Если продавцом в объявлении не указано, сколько в квартире балконов, то, скорее всего, их нет. Заменим пропущенные значения на ноль. Выведем количество пропусков после заполнения."
   ]
  },
  {
   "cell_type": "code",
   "execution_count": null,
   "metadata": {},
   "outputs": [],
   "source": [
    "data['balcony'].fillna(0, inplace=True) \n",
    "# замена отсутствующих значений в столбце ‘balcony’ на число 0 \n",
    "data['balcony'].isna().sum() \n",
    "# вывод количества отсутствующих значений в столбце ‘balcony’"
   ]
  },
  {
   "cell_type": "markdown",
   "metadata": {},
   "source": [
    "Все пропуски в столбце с числом балконов заполнены.\n",
    "\n",
    "В столбце с указанием, является ли недвижимость апартаментами, всех больше пропусков — 88% от общего числа значений. Если не указано, является ли недвижимость апартаментами, то, скорее всего, она не относится к данному типу, поэтому заменим пропущенные значения на `'False'`. Выведем количество пропусков после заполнения."
   ]
  },
  {
   "cell_type": "code",
   "execution_count": null,
   "metadata": {},
   "outputs": [],
   "source": [
    "data['is_apartment'].fillna(False, inplace=True)\n",
    "# замена отсутствующих значений в столбце ‘is_apartment’ на значение ‘False’\n",
    "data['is_apartment'].isna().sum()\n",
    "# вывод количества отсутствующих значений в столбце ‘is_apartment’"
   ]
  },
  {
   "cell_type": "markdown",
   "metadata": {},
   "source": [
    "Все пропуски в столбце с указанием, является ли недвижимость апартаментами, заполнены."
   ]
  },
  {
   "cell_type": "markdown",
   "metadata": {},
   "source": [
    "### Изменение типов данных"
   ]
  },
  {
   "cell_type": "markdown",
   "metadata": {},
   "source": [
    "Посмотрим, к какому типу данных относится каждый столбец датафрейма."
   ]
  },
  {
   "cell_type": "code",
   "execution_count": null,
   "metadata": {},
   "outputs": [],
   "source": [
    "data.dtypes.to_frame(name='data type') \n",
    "# вывод информации о типах данных в каждом столбце датафрейма ‘data’"
   ]
  },
  {
   "cell_type": "markdown",
   "metadata": {},
   "source": [
    "14 столбцов с вещественными числами:\n",
    "- `last_price`\n",
    "- `total_area`\n",
    "- `ceiling_height`\n",
    "- `floors_total`\n",
    "- `living_area`\n",
    "- `kitchen_area`\n",
    "- `balcony`\n",
    "- `airports_nearest`\n",
    "- `city_centers_nearest`\n",
    "- `parks_around_3000`\n",
    "- `parks_nearest`\n",
    "- `ponds_around_3000`\n",
    "- `ponds_nearest`\n",
    "- `days_exposition`\n",
    "\n",
    "3 столбца с целыми числами:\n",
    "- `total_images`\n",
    "- `rooms`\n",
    "- `floor`\n",
    "\n",
    "3 столбца с логическим типом данных:\n",
    "- `is_apartment`\n",
    "- `studio`\n",
    "- `open_plan`\n",
    "\n",
    "2 столбца со строками или другим типом данных:\n",
    "- `first_day_exposition`\n",
    "- `locality_name`\n",
    "    \n",
    "Для лучшей интерпретации данных заменим на целочисленный тип вещественные числа в столбцах, где дробная часть является нулевой, и отсутствуют пропущенные значения, — в столбцах со стоимостью квартиры, количеством балконов и этажей."
   ]
  },
  {
   "cell_type": "code",
   "execution_count": null,
   "metadata": {},
   "outputs": [],
   "source": [
    "data[['last_price', 'balcony', 'floors_total']] = data[['last_price', 'balcony', 'floors_total']].astype('int64') \n",
    "# преобразование вещественных чисел в колонках ‘last_price’, ‘balcony’, ‘floors_total’ в целые числа"
   ]
  },
  {
   "cell_type": "markdown",
   "metadata": {},
   "source": [
    "Преобразуем строки в даты pandas в столбце, где указано, когда было опубликовано объявление о продаже квартиры, чтобы иметь возможность выполнять различные операции с данными, связанными с датами."
   ]
  },
  {
   "cell_type": "code",
   "execution_count": null,
   "metadata": {},
   "outputs": [],
   "source": [
    "data['first_day_exposition'] = pd.to_datetime(data['first_day_exposition'], format='%Y-%m-%dT%H:%M:%S')\n",
    "# преобразование строк колонки ‘first_day_exposition’ в даты"
   ]
  },
  {
   "cell_type": "markdown",
   "metadata": {},
   "source": [
    "Проверим, изменился ли тип данных в столбцах со стоимостью квартиры, количеством балконов в квартире и датой публикации объявления о продаже квартиры."
   ]
  },
  {
   "cell_type": "code",
   "execution_count": null,
   "metadata": {},
   "outputs": [],
   "source": [
    "data[['last_price', 'balcony', 'floors_total', 'first_day_exposition']].dtypes.to_frame(name='data type')\n",
    "# вывод информации о типах данных в колонках ‘last_price’, ‘balcony’, ‘floors_total’, ‘first_day_exposition’"
   ]
  },
  {
   "cell_type": "markdown",
   "metadata": {},
   "source": [
    "Во всех выбранных столбцах тип данных успешно преобразован."
   ]
  },
  {
   "cell_type": "markdown",
   "metadata": {},
   "source": [
    "### Поиск и обработка дубликатов"
   ]
  },
  {
   "cell_type": "markdown",
   "metadata": {},
   "source": [
    "Выведем число явных дубликатов в датафрейме."
   ]
  },
  {
   "cell_type": "code",
   "execution_count": null,
   "metadata": {},
   "outputs": [],
   "source": [
    "data.duplicated().sum() \n",
    "# вычисление количества дубликатов в датафрейме ‘data’"
   ]
  },
  {
   "cell_type": "markdown",
   "metadata": {},
   "source": [
    "Явные дубликаты во всех столбцах датафрейма отсутствуют. \n",
    "\n",
    "Проверим, есть ли дубликаты по ключевым параметрам, таким как общая площадь квартиры, этаж, общая этажность дома, расстояние до центра, название населенного пункта, количество комнат, дата размещения объявления о продаже квартиры."
   ]
  },
  {
   "cell_type": "code",
   "execution_count": null,
   "metadata": {},
   "outputs": [],
   "source": [
    "duplicates = data.duplicated(subset=['total_area', 'floor', 'floors_total', \n",
    "                                     'city_centers_nearest', 'locality_name', \n",
    "                                     'rooms', 'first_day_exposition']).loc[lambda x: x == True].to_frame(name='duplicates')\n",
    "duplicates\n",
    "# проверка наличия дубликатов по столбцам ‘total_area’, ‘floor’, ‘floors_total’,\n",
    "# ‘city_centers_nearest’, ‘locality_name’, ‘rooms’, ‘first_day_exposition’\n",
    "# вывод индексов и значений True для найденных дубликатов"
   ]
  },
  {
   "cell_type": "markdown",
   "metadata": {},
   "source": [
    "Существует 3 дубликата по ключевым параметрам. Выведем строки с дубликатами."
   ]
  },
  {
   "cell_type": "code",
   "execution_count": null,
   "metadata": {},
   "outputs": [],
   "source": [
    "data.loc[duplicates.index]\n",
    "# вывод строк с дубликатами по столбцам ‘total_area’, ‘floor’, ‘floors_total’,\n",
    "# ‘city_centers_nearest’, ‘locality_name’, ‘rooms’, ‘first_day_exposition’"
   ]
  },
  {
   "cell_type": "markdown",
   "metadata": {},
   "source": [
    "Выведем строки с уникальными и повторяющимися значениями."
   ]
  },
  {
   "cell_type": "code",
   "execution_count": null,
   "metadata": {},
   "outputs": [],
   "source": [
    "data.query(\n",
    "    'total_area == 60.4 and locality_name == \"Санкт-Петербург\" and first_day_exposition == \"2018-07-24\"'\n",
    ")\n",
    "# вывод строк только с определёнными значениями столбцов ‘total_area’, ‘locality_name’ и ‘first_day_exposition’"
   ]
  },
  {
   "cell_type": "code",
   "execution_count": null,
   "metadata": {},
   "outputs": [],
   "source": [
    "data.query(\n",
    "    'total_area == 68.8 and locality_name == \"посёлок Мурино\" and first_day_exposition == \"2018-11-16\"'\n",
    ")\n",
    "# вывод строк только с определёнными значениями столбцов ‘total_area’, ‘locality_name’ и ‘first_day_exposition’"
   ]
  },
  {
   "cell_type": "code",
   "execution_count": null,
   "metadata": {},
   "outputs": [],
   "source": [
    "data.query(\n",
    "    'total_area == 139.5 and locality_name == \"Санкт-Петербург\" and first_day_exposition == \"2018-07-04\"'\n",
    ")\n",
    "# вывод строк только с определёнными значениями столбцов ‘total_area’, ‘locality_name’ и ‘first_day_exposition’"
   ]
  },
  {
   "cell_type": "markdown",
   "metadata": {},
   "source": [
    "Дубликат по ключевым столбцам — это одно и то же объявление с изменённой ценой. У одного объявления не указан срок публикации (объявление не снято с публикации), а у другого указан, или у одного объявления срок публикации меньше, чем у другого. Удалим дубликаты, где не указано количество дней либо указано меньшее количество дней, в течение которых было опубликовано объявление о продаже квартиры, чтобы не считать одну и ту же квартиру за две разные."
   ]
  },
  {
   "cell_type": "code",
   "execution_count": null,
   "metadata": {},
   "outputs": [],
   "source": [
    "data.drop(index=[14886, 18579, 12376], inplace=True)\n",
    "# удаление строк с определёнными индексами из датафрейма ‘data’"
   ]
  },
  {
   "cell_type": "markdown",
   "metadata": {},
   "source": [
    "Убедимся, что дубликаты удалены."
   ]
  },
  {
   "cell_type": "code",
   "execution_count": null,
   "metadata": {},
   "outputs": [],
   "source": [
    "data.duplicated(\n",
    "    subset=['total_area', 'floor', 'floors_total', 'city_centers_nearest', \n",
    "            'locality_name', 'rooms', 'first_day_exposition']).sum()\n",
    "# вывод количества дубликатов по столбцам ‘total_area’, ‘floor’, ‘floors_total’,\n",
    "# ‘city_centers_nearest’, ‘locality_name’, ‘rooms’, ‘first_day_exposition’"
   ]
  },
  {
   "cell_type": "markdown",
   "metadata": {},
   "source": [
    "<div style>\n",
    "<font size=\"4\"><b></b></font>\n",
    "<font size=\"5\", color = \"black\">\n",
    "🤝"
   ]
  },
  {
   "cell_type": "markdown",
   "metadata": {},
   "source": [
    "Возможно, существуют неявные дубликаты в столбце `'locality_name'`.\n",
    "\n",
    "Рассчитаем количество уникальных значений в столбце с названиями населённых пунктов."
   ]
  },
  {
   "cell_type": "code",
   "execution_count": null,
   "metadata": {},
   "outputs": [],
   "source": [
    "data.locality_name.nunique()\n",
    "# определение количества уникальных значений в столбце ‘locality_name’"
   ]
  },
  {
   "cell_type": "markdown",
   "metadata": {},
   "source": [
    "В наборе данных встречается 364 уникальных названий населённых пунктов."
   ]
  },
  {
   "cell_type": "markdown",
   "metadata": {},
   "source": [
    "<div class=\"alert alert-success\">\n",
    "<font size=\"4\", color= \"seagreen\"><b>✔️ Комментарий ревьюера</b></font>\n",
    "    <br /> \n",
    "    <font size=\"3\", color = \"black\">\n",
    "<br />Проверка на поиск дубликатов выполнена, молодец\n",
    "        \n",
    "Особенно это станет важным, когда мы перейдем к более сложным задачам на втором модуле курса\n",
    "          \n",
    "__Стоит выполнять повторный поиск после обработки неявных дубликатов__"
   ]
  },
  {
   "cell_type": "markdown",
   "metadata": {},
   "source": [
    "Выведем названия населённых пунктов, где расположены квартиры, выставленные на продажу."
   ]
  },
  {
   "cell_type": "code",
   "execution_count": null,
   "metadata": {},
   "outputs": [],
   "source": [
    "data['locality_name'].sort_values().unique()\n",
    "# сортировка значений в столбце ‘locality_name’ по возрастанию и вывод уникальных значений"
   ]
  },
  {
   "cell_type": "markdown",
   "metadata": {},
   "source": [
    "В столбце с названиями населённых пунктов есть много неявных дубликатов, из-за того, что где-то слово «посёлок» написано с буквой «ё», а где-то с буквой «е». Например, «посёлок Аннино» и «поселок Аннино», — это обозначения одного и того же населённого пункта. Заменим в названиях все буквы «ё» на «е»."
   ]
  },
  {
   "cell_type": "code",
   "execution_count": null,
   "metadata": {},
   "outputs": [],
   "source": [
    "data['locality_name'] = (\n",
    "    data['locality_name']\n",
    "    .str.replace('ё', 'е')) \n",
    "# замена всех букв ‘ё’ на буквы ‘е’ в столбце ‘locality_name’"
   ]
  },
  {
   "cell_type": "markdown",
   "metadata": {},
   "source": [
    "Мурино ранее было посёлком. Затем ему был присвоен статус города. И Кудрово, ранее являясь деревней, обрело статус города. Не будем объединять поселок Мурино и город Мурино в один населённый пункт, а также деревню Кудрово и город Кудрово, так как цены на квартиры в данных объектах могут отличаться до и после смены статуса."
   ]
  },
  {
   "cell_type": "markdown",
   "metadata": {},
   "source": [
    "<div class=\"alert alert-success\">\n",
    "<font size=\"4\", color= \"seagreen\"><b>✔️ Комментарий ревьюера </b></font>\n",
    "    <br /> \n",
    "    <font size=\"3\", color = \"black\">\n",
    "<br />Объединять не стоит,   цены могли резко вырасти после смены статуса\n",
    "        \n",
    "идеальный вариант, вынести тип населенного пункта в отдельную колонку        "
   ]
  },
  {
   "cell_type": "markdown",
   "metadata": {},
   "source": [
    "«Городской поселок» и «поселок городского типа» — это одно и то же. Заменим словосочетание «городской поселок» на «поселок городского типа» в тех названиях, где встречаются обе формулировки."
   ]
  },
  {
   "cell_type": "code",
   "execution_count": null,
   "metadata": {},
   "outputs": [],
   "source": [
    "def replacement(name, replacement_name): # определение функции\n",
    "    replacement = (\n",
    "    data['locality_name']\n",
    "    .replace(name, replacement_name, regex=True, inplace=True))\n",
    "    return replacement\n",
    "replacement('городской поселок Павлово', 'поселок городского типа Павлово')\n",
    "# замена названия ‘городской поселок Павлово’ на ‘поселок городского типа Павлово’ в столбце ‘locality_name’\n",
    "replacement('городской поселок Большая Ижора', 'поселок городского типа Большая Ижора')\n",
    "# замена названия ‘городской поселок Большая Ижора’ на ‘поселок городского типа Большая Ижора’ в столбце ‘locality_name’\n",
    "replacement('городской поселок Лесогорский', 'поселок городского типа Лесогорский')\n",
    "# замена названия ‘городской поселок Лесогорский’ на ‘поселок городского типа Лесогорский’ в столбце ‘locality_name’\n",
    "replacement('городской поселок Мга', 'поселок городского типа Мга')\n",
    "# замена названия ‘городской поселок Мга’ на ‘поселок городского типа Мга’ в столбце ‘locality_name’\n",
    "replacement('городской поселок Назия', 'поселок городского типа Назия')\n",
    "# замена названия ‘городской поселок Назия’ на ‘поселок городского типа Назия’ в столбце ‘locality_name’\n",
    "replacement('городской поселок Рощино', 'поселок городского типа Рощино')\n",
    "# замена названия ‘городской поселок Рощино’ на ‘поселок городского типа Рощино’ в столбце ‘locality_name’\n",
    "replacement('городской поселок Советский', 'поселок городского типа Советский')\n",
    "# замена названия ‘городской поселок Советский’ на ‘поселок городского типа Советский’ в столбце ‘locality_name’"
   ]
  },
  {
   "cell_type": "markdown",
   "metadata": {},
   "source": [
    "«Деревня Федоровское» и «городской поселок Федоровское» — это обозначения одного и того же населённого пункта. Произведём замену."
   ]
  },
  {
   "cell_type": "code",
   "execution_count": null,
   "metadata": {},
   "outputs": [],
   "source": [
    "replacement('деревня Федоровское', 'городской поселок Федоровское')\n",
    "# замена названия 'деревня Федоровское' на 'городской поселок Федоровское' в столбце ‘locality_name’"
   ]
  },
  {
   "cell_type": "markdown",
   "metadata": {},
   "source": [
    "«Поселок Гарболово» и «деревня Гарболово» — это обозначения одного и того же населённого пункта. Произведём замену."
   ]
  },
  {
   "cell_type": "code",
   "execution_count": null,
   "metadata": {},
   "outputs": [],
   "source": [
    "replacement('поселок Гарболово', 'деревня Гарболово')\n",
    "# замена названия 'поселок Гарболово' на 'деревня Гарболово' в столбце ‘locality_name’"
   ]
  },
  {
   "cell_type": "markdown",
   "metadata": {},
   "source": [
    "«Поселок при железнодорожной станции» и «поселок станции» — это одно и то же. Заменим словосочетание «поселок при железнодорожной станции» на «поселок станции» в тех названиях, где встречаются обе формулировки."
   ]
  },
  {
   "cell_type": "code",
   "execution_count": null,
   "metadata": {},
   "outputs": [],
   "source": [
    "replacement('поселок при железнодорожной станции Вещево', 'поселок станции Вещево')\n",
    "# замена названия 'поселок при железнодорожной станции Вещево' на 'поселок станции Вещево' в столбце ‘locality_name’\n",
    "replacement('поселок при железнодорожной станции Приветнинское', 'поселок станции Приветнинское')\n",
    "# замена названия 'поселок при железнодорожной станции Приветнинское' \n",
    "# на 'поселок станции Приветнинское' в столбце ‘locality_name’"
   ]
  },
  {
   "cell_type": "markdown",
   "metadata": {},
   "source": [
    "Ещё раз выведем количество уникальных значений в столбце с названиями населённых пунктов после удаления неявных дубликатов."
   ]
  },
  {
   "cell_type": "code",
   "execution_count": null,
   "metadata": {},
   "outputs": [],
   "source": [
    "data.locality_name.nunique()\n",
    "# определение количества уникальных значений в столбце ‘locality_name’"
   ]
  },
  {
   "cell_type": "markdown",
   "metadata": {},
   "source": [
    "Число уникальных названий населённых пунктов сократилось на 45.\n",
    "\n",
    "Определим количество явных дубликатов в датафрейме после обработки неявных дубликатов."
   ]
  },
  {
   "cell_type": "code",
   "execution_count": null,
   "metadata": {},
   "outputs": [],
   "source": [
    "data.duplicated().sum() \n",
    "# вычисление количества дубликатов в датафрейме ‘data’"
   ]
  },
  {
   "cell_type": "markdown",
   "metadata": {},
   "source": [
    "Явные дубликаты во всех столбцах датафрейма отсутствуют."
   ]
  },
  {
   "cell_type": "markdown",
   "metadata": {},
   "source": [
    "<div class=\"alert alert-success\">\n",
    "<font size=\"4\", color= \"seagreen\"><b>✔️ Комментарий ревьюера</b></font>\n",
    "    <br /> \n",
    "    <font size=\"3\", color = \"black\">\n",
    "<br />Хорошая работа по избавлению от неявных дубликатов\n",
    "         "
   ]
  },
  {
   "cell_type": "markdown",
   "metadata": {},
   "source": [
    "<div style=\"border:solid steelblue 3px; padding: 20px\">\n",
    "<font size=\"4\">🍕<b> Комментарий ревьюера</b></font>\n",
    "<br /> \n",
    "<font size=\"3\", color = \"black\">\n",
    "<br />\n",
    "    \n",
    "Для того, __чтобы изменить лишь часть строки,__ можно добавить к коду — .str\n",
    "    \n",
    "        .str.replace('посёлок','поселок')\n",
    "\n",
    "https://pandas.pydata.org/pandas-docs/stable/reference/api/pandas.Series.str.replace.html"
   ]
  },
  {
   "cell_type": "markdown",
   "metadata": {},
   "source": [
    "<div class=\"alert alert-warning\", style=\"border:solid coral 3px; padding: 20px\">\n",
    "<font size=\"4\", color = \"DimGrey\"><b>⚠️ Комментарий ревьюера</b></font>\n",
    "    <br /> \n",
    "    <font size=\"3\", color = \"black\">\n",
    "<br /> \n",
    "        \n",
    "+ дополнительно — на рабочих проектах стоит искать дубликаты по сумме ключевых параметров (подмножеству), для примера: \n",
    "\n",
    " + общ. площадь квартиры,\n",
    " + этаж, \n",
    " + общая этажность дома, \n",
    " + расстояние до центра\n",
    " + название населенного пункта\n",
    " + кол-во комнат\n",
    "    \n",
    "https://pandas.pydata.org/pandas-docs/stable/reference/api/pandas.DataFrame.duplicated.html?highlight=duplicat#pandas.DataFrame.duplicated\n",
    "        \n",
    "https://www.codecamp.ru/blog/pandas-find-duplicates/        "
   ]
  },
  {
   "cell_type": "markdown",
   "metadata": {},
   "source": [
    "Выведем основную информацию о датафрейме после предобработки данных."
   ]
  },
  {
   "cell_type": "code",
   "execution_count": null,
   "metadata": {},
   "outputs": [],
   "source": [
    "data.info()\n",
    "# вывод информации о структуре данных, хранящихся в переменной ‘data’"
   ]
  },
  {
   "cell_type": "markdown",
   "metadata": {},
   "source": [
    "**Вывод:**\n",
    "\n",
    "Изменили названия столбцов `cityCenters_nearest`, `parks_around3000`, `ponds_around3000`, чтобы они были написаны в «змеином_регистре».\n",
    "\n",
    "Определили наличие пропусков в таких столбцах датафрейма, как `locality_name`, `floors_total`, `living_area`, `kitchen_area`, `days_exposition`, `parks_around_3000`, `ponds_around_3000`, `city_centers_nearest`, `airports_nearest`, `ceiling_height`, `balcony`, `ponds_nearest`, `parks_nearest`, `is_apartment`.\n",
    "\n",
    "Оставили пропущенные значения без изменений в столбцах с названиями населённых пунктов, жилой площадью и площадью кухни, датами публикации объявлений, высотой потолков, количеством парков и водоёмов в радиусе 3 км от дома, расстоянием от дома до ближайшего парка, водоёма, аэропорта и центра города.\n",
    "\n",
    "В столбце с количеством этажей в доме удалили пропущенные значения.\n",
    "В столбце с количеством балконов заменили пропущенные значения на ноль.\n",
    "В столбце с указанием, является ли недвижимость апартаментами, заменили пропущенные значения на 'False'.\n",
    "\n",
    "Заменили на целочисленный тип вещественные числа в столбцах со стоимостью квартиры, количеством балконов и количеством этажей. Преобразовали строки в даты в столбце, где указано, когда было опубликовано объявление о продаже квартиры.\n",
    "\n",
    "Установили, что существует 3 явных дубликата по ключевым параметрам квартиры, таким как общая площадь квартиры, этаж, общая этажность дома, расстояние до центра, название населённого пункта, количество комнат, дата размещения объявления о продаже квартиры. Удалили дубликаты по ключевым параметрам. Обнаружили и устранили неявные дубликаты в столбце с названиями населённых пунктов."
   ]
  },
  {
   "cell_type": "markdown",
   "metadata": {
    "id": "QCcvyY6YAwb-"
   },
   "source": [
    "## Добавление в таблицу новых столбцов"
   ]
  },
  {
   "cell_type": "markdown",
   "metadata": {},
   "source": [
    "Добавим несколько новых столбцов в датафрейм для создания новых признаков на основе существующих данных. \n",
    "\n",
    "Создадим новый столбец со стоимостью одного квадратного метра квартиры."
   ]
  },
  {
   "cell_type": "code",
   "execution_count": null,
   "metadata": {},
   "outputs": [],
   "source": [
    "data['one_square_meter_price'] = (data['last_price'] / data['total_area']).round(2)\n",
    "# деление значений в столбце ‘last_price’ на значения в столбце ‘total_area’\n",
    "# округление результата до двух знаков после запятой\n",
    "# добавление столбца ‘one_square_meter_price’ в датафрейм ‘data’"
   ]
  },
  {
   "cell_type": "markdown",
   "metadata": {},
   "source": [
    "Создадим новый столбец с номером дня недели публикации объявления о продаже квартиры, где:\n",
    "- 0 — понедельник;\n",
    "- 1 — вторник;\n",
    "- 2 — среда;\n",
    "- 3 — четверг;\n",
    "- 4 — пятница;\n",
    "- 5 — суббота;\n",
    "- 6 — воскресенье."
   ]
  },
  {
   "cell_type": "code",
   "execution_count": null,
   "metadata": {},
   "outputs": [],
   "source": [
    "data['weekday_exposition'] = data['first_day_exposition'].dt.weekday\n",
    "# добавление столбца ‘weekday_exposition’ в датафрейм ‘data’, \n",
    "# который содержит дни недели для каждой даты столбца ‘first_day_exposition’"
   ]
  },
  {
   "cell_type": "markdown",
   "metadata": {},
   "source": [
    "Создадим новый столбец с месяцем публикации объявления о продаже квартиры."
   ]
  },
  {
   "cell_type": "code",
   "execution_count": null,
   "metadata": {},
   "outputs": [],
   "source": [
    "data['month_exposition'] = data['first_day_exposition'].dt.month\n",
    "# добавление столбца ‘month_exposition’ в датафрейм ‘data’, \n",
    "# который содержит месяц для каждой даты столбца ‘first_day_exposition’"
   ]
  },
  {
   "cell_type": "markdown",
   "metadata": {},
   "source": [
    "Создадим новый столбец с годом публикации объявления о продаже квартиры."
   ]
  },
  {
   "cell_type": "code",
   "execution_count": null,
   "metadata": {},
   "outputs": [],
   "source": [
    "data['year_exposition'] = data['first_day_exposition'].dt.year\n",
    "# добавление столбца ‘year_exposition’ в датафрейм ‘data’, \n",
    "# который содержит год для каждой даты столбца ‘first_day_exposition’"
   ]
  },
  {
   "cell_type": "markdown",
   "metadata": {},
   "source": [
    "Создадим новый столбец с типом этажа квартиры:\n",
    "- «первый»;\n",
    "- «последний»;\n",
    "- «другой»."
   ]
  },
  {
   "cell_type": "code",
   "execution_count": null,
   "metadata": {},
   "outputs": [],
   "source": [
    "def categorize_floors(row):\n",
    "    try:\n",
    "        if row['floor'] == 1:\n",
    "            return 'первый'\n",
    "        elif row['floor'] == row['floors_total']:\n",
    "            return 'последний'\n",
    "        elif 1 < row['floor'] < row['floors_total']:\n",
    "            return 'другой'\n",
    "    except:\n",
    "        if row['floor'] == 0:\n",
    "            return 'нулевое значение'\n",
    "        elif row['floor'] < 0:\n",
    "            return 'отрицательное значение'\n",
    "data['floor_type'] = data.apply(categorize_floors, axis=1)\n",
    "# определение функции ‘categorize_floors’, которая принимает строку ‘row’ в качестве аргумента \n",
    "# и возвращает строку ‘первый’, ‘другой’, ‘последний’ в зависимости от номера этажа \n",
    "# применение функции к строкам датафрейма ‘data’\n",
    "# создание нового столбца ‘floor_type’ с результатами применения функции к каждой строке"
   ]
  },
  {
   "cell_type": "markdown",
   "metadata": {},
   "source": [
    "<div style>\n",
    "<font size=\"4\"><b></b></font>\n",
    "<font size=\"5\", color = \"black\">\n",
    "🤝"
   ]
  },
  {
   "cell_type": "markdown",
   "metadata": {},
   "source": [
    "<div class=\"alert alert-success\">\n",
    "<font size=\"4\", color= \"seagreen\"><b>✔️ Комментарий ревьюера в2</b></font>\n",
    "    <br /> \n",
    "    <font size=\"3\", color = \"black\">\n",
    "<br /> Кажется не стоит делить категоризацию на две ветки try-except, во вторую ветку можно включить неявные ошибки, а всю категоризацию оставить в ветке try "
   ]
  },
  {
   "cell_type": "markdown",
   "metadata": {},
   "source": [
    "<div class=\"alert alert-warning\", style=\"border:solid coral 3px; padding: 20px\">\n",
    "<font size=\"4\", color = \"DimGrey\"><b>⚠️ Комментарий ревьюера</b></font>\n",
    "    <br /> \n",
    "    <font size=\"3\", color = \"black\">\n",
    "<br />Функция хорошая, стоит учесть крайние условия: возможные нулевые и отрицательные значения"
   ]
  },
  {
   "cell_type": "markdown",
   "metadata": {},
   "source": [
    "Создадим новый столбец с расстоянием от дома до центра города в километрах."
   ]
  },
  {
   "cell_type": "code",
   "execution_count": null,
   "metadata": {},
   "outputs": [],
   "source": [
    "data['city_centers_nearest_km'] = round(data['city_centers_nearest'] / 1000)\n",
    "# вычисление расстояния в километрах путём деления расстояния в метрах на 1000 \n",
    "# округление до ближайших целых значений для получения более читаемых результатов\n",
    "# создание нового столбца ‘city_centers_nearest_km’ в датафрейме ‘data’"
   ]
  },
  {
   "cell_type": "markdown",
   "metadata": {},
   "source": [
    "Убедимся, что новые столбцы добавлены в датафрейм."
   ]
  },
  {
   "cell_type": "code",
   "execution_count": null,
   "metadata": {},
   "outputs": [],
   "source": [
    "data[['one_square_meter_price', 'weekday_exposition', \n",
    "      'month_exposition', 'year_exposition', \n",
    "      'floor_type', 'city_centers_nearest_km']].head()\n",
    "# вывод первых пяти строк для столбцов ‘one_square_meter_price’, ‘weekday_exposition’, \n",
    "# ‘month_exposition’, ‘year_exposition’, ‘floor_type’, ‘city_centers_nearest_km’ в датафрейме ‘data’"
   ]
  },
  {
   "cell_type": "markdown",
   "metadata": {},
   "source": [
    "**Вывод:**\n",
    "\n",
    "Добавили в датафрейм новые столбцы с ценой одного квадратного метра квартиры; днём недели, месяцем и годом публикации объявления; типом этажа квартиры; расстоянием до центра города в километрах."
   ]
  },
  {
   "cell_type": "markdown",
   "metadata": {},
   "source": [
    "<div class=\"alert alert-success\">\n",
    "<font size=\"4\", color= \"seagreen\"><b>✔️ Комментарий ревьюера</b></font>\n",
    "    <br /> \n",
    "    <font size=\"3\", color = \"black\">\n",
    "<br /> данные добавлены корректно, молодец"
   ]
  },
  {
   "cell_type": "markdown",
   "metadata": {
    "id": "pPyxrKWTAwb-"
   },
   "source": [
    "## Проведение исследовательского анализа данных"
   ]
  },
  {
   "cell_type": "markdown",
   "metadata": {},
   "source": [
    "### Изучение и описание параметров квартиры. Выявление и удаление аномальных значений"
   ]
  },
  {
   "cell_type": "markdown",
   "metadata": {},
   "source": [
    "Наблюдение, которое находится значительно дальше от остальных значений в наборе данных, называется выбросом. Выбросы могут оказывать негативное влияние на результат анализа данных, поэтому их следует удалять.\n",
    "    \n",
    "Выведем характеристики распределения значений общей площади квартир и построим диаграмму размаха."
   ]
  },
  {
   "cell_type": "markdown",
   "metadata": {},
   "source": [
    "<div class=\"alert alert-warning\", style=\"border:solid coral 3px; padding: 20px\">\n",
    "<font size=\"4\", color = \"DimGrey\"><b>⚠️ Комментарий ревьюера</b></font>\n",
    "    <br /> \n",
    "    <font size=\"3\", color = \"black\">\n",
    "<br />Импорт библиотек стоит выносить на первые строки проекта, так коллегам будет удобнее настроить свои рабочие места под наши требования"
   ]
  },
  {
   "cell_type": "code",
   "execution_count": null,
   "metadata": {
    "scrolled": false
   },
   "outputs": [],
   "source": [
    "data.boxplot('total_area', vert = False, figsize=(17, 2))\n",
    "# построение диаграммы размаха для значений столбца ‘total_area’\n",
    "plt.title('Размах значений общей площади квартир (м²)', fontsize=12)\n",
    "# установка заголовка для графика\n",
    "plt.xlabel('Общая площадь квартиры в м²', fontsize=10)\n",
    "# установка подписи для горизонтальной оси графика\n",
    "round(data['total_area'].describe().to_frame(), 2)\n",
    "# вывод статистической информации о значениях столбца ‘total_area’"
   ]
  },
  {
   "cell_type": "markdown",
   "metadata": {},
   "source": [
    "Количество наблюдений в столбце с общей площадью квартир составляет 23 тыс. 610.\n",
    "\n",
    "Cреднее арифметическое набора значений, который описывает общую площадь квартир, равно 60.34 м².\n",
    "\n",
    "Стандартное отклонение, описывающее разброс значений общей площади квартир относительно среднего, равно 35.65 м².\n",
    "\n",
    "Первый квартиль, левее которого лежит 25% данных, описывающих общую площадь квартир, равен 40 м².\n",
    "\n",
    "Медиана равна 52 м²: половина всех значений общей площади квартир меньше, чем 52 м², другая половина — больше.\n",
    "\n",
    "Третий квартиль, правее которого лежит 25% данных, описывающих общую площадь квартир, равен 69.8 м².\n",
    "\n",
    "Нижний «ус» диаграммы размаха доходит до 12 м², что является минимальным значением общей площади квартир. Верхний «ус» заканчивается около 115 м², что составляет 1.5 межквартильного размаха, добавленного к третьему квартилю. Это приблизительная граница нормального размаха. То, что выходит за её пределы, считается выбросом. Высокие значения отображаются отдельными точками, но они в начале сливаются в одну толстую линию, так как выбросов очень много. Тем не менее, значения, отсеченные верхним «усом», встречаются редко. Самый дальний выброс — это наибольшее значение общей площади квартир, равное 900 м².\n",
    "\n",
    "Построим гистограммы распределения значений общей площади квартир с определённым количеством корзин и диапазоном значений, чтобы установить, какие наблюдения можно отнести к выбросам."
   ]
  },
  {
   "cell_type": "code",
   "execution_count": null,
   "metadata": {},
   "outputs": [],
   "source": [
    "data.total_area.hist(bins = 150, figsize = (15,3), ec='white')\n",
    "# построение гистограммы для значений в столбце ‘total_area’ в датафрейме ‘data’\n",
    "plt.title('Распределение значений общей площади квартир (м²)', fontsize=12)\n",
    "# установка заголовка для графика\n",
    "plt.xlabel('Общая площадь квартиры в квадратных метрах', fontsize=10)\n",
    "# установка подписи для горизонтальной оси графика\n",
    "plt.ylabel('Количество квартир', fontsize=10);\n",
    "# установка подписи для вертикальной оси графика"
   ]
  },
  {
   "cell_type": "code",
   "execution_count": null,
   "metadata": {},
   "outputs": [],
   "source": [
    "data.total_area.hist(bins = 150, figsize = (15,3), range = (180,500), ec='white')\n",
    "# построение гистограммы для значений в столбце ‘total_area’ в датафрейме ‘data’\n",
    "plt.title('Распределение значений общей площади квартир (м²)', fontsize=12)\n",
    "# установка заголовка для графика\n",
    "plt.xlabel('Общая площадь квартиры в квадратных метрах', fontsize=10)\n",
    "# установка подписи для горизонтальной оси графика\n",
    "plt.ylabel('Количество квартир', fontsize=10);\n",
    "# установка подписи для вертикальной оси графика"
   ]
  },
  {
   "cell_type": "code",
   "execution_count": null,
   "metadata": {},
   "outputs": [],
   "source": [
    "data.total_area.hist(bins = 15, figsize = (15,3), range = (180,500), ec='white')\n",
    "# построение гистограммы для значений в столбце ‘total_area’ в датафрейме ‘data’\n",
    "plt.title('Распределение значений общей площади квартир (м²)', fontsize=12)\n",
    "# установка заголовка для графика\n",
    "plt.xlabel('Общая площадь квартиры в квадратных метрах', fontsize=10)\n",
    "# установка подписи для горизонтальной оси графика\n",
    "plt.ylabel('Количество квартир', fontsize=10);\n",
    "# установка подписи для вертикальной оси графика"
   ]
  },
  {
   "cell_type": "code",
   "execution_count": null,
   "metadata": {},
   "outputs": [],
   "source": [
    "data.total_area.hist(bins = 15, figsize = (15,3), range = (0,25), ec='white')\n",
    "# построение гистограммы для значений в столбце ‘total_area’ в датафрейме ‘data’\n",
    "plt.title('Распределение значений общей площади квартир (м²)', fontsize=12)\n",
    "# установка заголовка для графика\n",
    "plt.xlabel('Общая площадь квартиры в квадратных метрах', fontsize=10)\n",
    "# установка подписи для горизонтальной оси графика\n",
    "plt.ylabel('Количество квартир', fontsize=10);\n",
    "# установка подписи для вертикальной оси графика"
   ]
  },
  {
   "cell_type": "markdown",
   "metadata": {},
   "source": [
    "Все квартиры, общая площадь которых менее 20 м² и более 250 м², можно считать выбросами. Удалим аномальные значения общей площади квартир, которые выходят за установленные пределы. Сохраним данные без выбросов в переменную `filtered_data`."
   ]
  },
  {
   "cell_type": "code",
   "execution_count": null,
   "metadata": {},
   "outputs": [],
   "source": [
    "filtered_data = data.drop(data[(data['total_area'] < 20) | (data['total_area'] > 250)].index)\n",
    "# удаление строк из датафрейма ‘data’, где значения в столбце ‘total_area’ меньше, чем 20, \n",
    "# или больше, чем 250\n",
    "# сохранение данных в переменную ‘filtered_data’"
   ]
  },
  {
   "cell_type": "markdown",
   "metadata": {},
   "source": [
    "<div style=\"border:solid steelblue 3px; padding: 20px\">\n",
    "<font size=\"4\">🍕<b> Комментарий ревьюера</b></font>\n",
    "<br /> \n",
    "<font size=\"3\", color = \"black\">\n",
    "<br /> Компактность графика"
   ]
  },
  {
   "cell_type": "code",
   "execution_count": null,
   "metadata": {},
   "outputs": [],
   "source": [
    "# check\n",
    "# для примера горизонтальный вид диаграммы размаха\n",
    "\n",
    "fig, ax = plt.subplots(figsize = (17,2))\n",
    "ax = data[['total_area']].boxplot(vert = False, ax =ax)\n",
    "ax.set_title('Диаграмма размаха значений площади')\n",
    "ax.set_xlim(0, 400);"
   ]
  },
  {
   "cell_type": "markdown",
   "metadata": {},
   "source": [
    "<div class=\"alert alert-warning\", style=\"border:solid coral 3px; padding: 20px\">\n",
    "<font size=\"4\", color = \"DimGrey\"><b>⚠️ Комментарий ревьюера</b></font>\n",
    "    <br /> \n",
    "    <font size=\"3\", color = \"black\">\n",
    "<br />Можно упростить все эти расчеты при помощи функции \n",
    "        \n",
    "        .describe()"
   ]
  },
  {
   "cell_type": "markdown",
   "metadata": {},
   "source": [
    "Выведем характеристики распределения значений общей площади квартир после удаления выбросов."
   ]
  },
  {
   "cell_type": "code",
   "execution_count": null,
   "metadata": {},
   "outputs": [],
   "source": [
    "round(filtered_data['total_area'].describe().to_frame(), 2)\n",
    "# вывод статистической информации о значениях столбца ‘total_area’"
   ]
  },
  {
   "cell_type": "markdown",
   "metadata": {},
   "source": [
    "Определим наиболее часто встречающуюся общую площадь квартир."
   ]
  },
  {
   "cell_type": "code",
   "execution_count": null,
   "metadata": {},
   "outputs": [],
   "source": [
    "filtered_data['total_area'].mode() \n",
    "# вычисление моды в столбце ‘total_area’"
   ]
  },
  {
   "cell_type": "markdown",
   "metadata": {},
   "source": [
    "Всех чаще встречаются квартиры с общей площадью, равной 45 м².\n",
    "\n",
    "Построим гистограмму распределения значений общей площади квартир."
   ]
  },
  {
   "cell_type": "code",
   "execution_count": null,
   "metadata": {},
   "outputs": [],
   "source": [
    "filtered_data['total_area'].hist(bins=30, figsize=(12, 3), ec='white', legend=False)\n",
    "# построение гистограммы для значений в столбце ‘total_area’ в датафрейме ‘filtered_data’\n",
    "plt.title('Распределение значений общей площади квартир (м²)', fontsize=12)\n",
    "# установка заголовка для графика\n",
    "plt.xlabel('Общая площадь квартиры в квадратных метрах', fontsize=10)\n",
    "# установка подписи для горизонтальной оси графика\n",
    "plt.ylabel('Количество квартир', fontsize=10);\n",
    "# установка подписи для вертикальной оси графика"
   ]
  },
  {
   "cell_type": "markdown",
   "metadata": {},
   "source": [
    "<div class=\"alert alert-success\">\n",
    "<font size=\"4\", color= \"seagreen\"><b>✔️ Комментарий ревьюера</b></font>\n",
    "    <br /> \n",
    "    <font size=\"3\", color = \"black\">\n",
    "<br /> Классный график, все элементы добавлены, молодец"
   ]
  },
  {
   "cell_type": "markdown",
   "metadata": {},
   "source": [
    "Наиболее часто общая площадь квартир находится в пределах примерно от 25 м² до 75 м². Самая распространённая общая площадь квартир равна 45 м². Медиана равна 52 м², среднее арифметическое — 59 м². Несовпадение медианы и среднего значения указывает на то, что распределение данных является асимметричным. Гистограмма имеет длинный хвост в правой части, так как в наборе данных есть значения общей площади квартир, которые значительно больше среднего. Редко встречаются квартиры, общая площадь которых больше 120 м².\n",
    "    \n",
    "Выведем характеристики распределения значений жилой площади квартир и построим диаграмму размаха."
   ]
  },
  {
   "cell_type": "code",
   "execution_count": null,
   "metadata": {},
   "outputs": [],
   "source": [
    "data.boxplot('living_area', vert = False, figsize=(17, 2))\n",
    "# построение диаграммы размаха для значений столбца ‘living_area’\n",
    "plt.title('Размах значений жилой площади квартир (м²)', fontsize=12)\n",
    "# установка заголовка для графика\n",
    "plt.xlabel('Жилая площадь квартиры в м²', fontsize=10)\n",
    "# установка подписи для горизонтальной оси графика\n",
    "round(data['living_area'].describe().to_frame(), 2)\n",
    "# вывод статистической информации о значениях столбца ‘living_area’"
   ]
  },
  {
   "cell_type": "markdown",
   "metadata": {},
   "source": [
    "Количество наблюдений в столбце с жилой площадью квартир составляет 21 тыс. 741.\n",
    "\n",
    "Cреднее арифметическое набора значений, который описывает жилую площадь квартир, равно 34.46 м².\n",
    "\n",
    "Стандартное отклонение, описывающее разброс значений жилой площади квартир относительно среднего, равно 22 м².\n",
    "\n",
    "Первый квартиль, левее которого лежит 25% данных, описывающих жилую площадь квартир, равен 18.6 м².\n",
    "\n",
    "Медиана равна 30 м²: половина всех значений жилой площади квартир меньше, чем 30 м², другая половина — больше.\n",
    "\n",
    "Третий квартиль, правее которого лежит 25% данных, описывающих жилую площадь квартир, равен 42.3 м².\n",
    "\n",
    "Нижний «ус» диаграммы размаха доходит до 2 м², что является минимальным значением жилой площади квартир. Верхний «ус» заканчивается около 80 м², что составляет 1.5 межквартильного размаха, добавленного к третьему квартилю. Это приблизительная граница нормального размаха. То, что выходит за её пределы, считается выбросом. Высокие значения отображаются отдельными точками, но они в начале сливаются в одну толстую линию, так как выбросов очень много. Тем не менее, значения, отсеченные верхним «усом», встречаются редко. Самый дальний выброс — это наибольшее значение жилой площади квартир, равное 409.7 м².\n",
    "\n",
    "Построим гистограммы распределения значений жилой площади квартир с определённым количеством корзин и диапазоном значений, чтобы установить, какие наблюдения можно отнести к выбросам."
   ]
  },
  {
   "cell_type": "code",
   "execution_count": null,
   "metadata": {},
   "outputs": [],
   "source": [
    "data.living_area.hist(bins = 150, figsize = (15,3), ec='white')\n",
    "# построение гистограммы для значений в столбце ‘living_area’ в датафрейме ‘data’\n",
    "plt.title('Распределение значений жилой площади квартир (м²)', fontsize=12)\n",
    "# установка заголовка для графика\n",
    "plt.xlabel('Жилая площадь квартиры в квадратных метрах', fontsize=10)\n",
    "# установка подписи для горизонтальной оси графика\n",
    "plt.ylabel('Количество квартир', fontsize=10);\n",
    "# установка подписи для вертикальной оси графика"
   ]
  },
  {
   "cell_type": "code",
   "execution_count": null,
   "metadata": {},
   "outputs": [],
   "source": [
    "data.living_area.hist(bins = 150, figsize = (15,3), range = (80,250), ec='white')\n",
    "# построение гистограммы для значений в столбце ‘living_area’ в датафрейме ‘data’\n",
    "plt.title('Распределение значений жилой площади квартир (м²)', fontsize=12)\n",
    "# установка заголовка для графика\n",
    "plt.xlabel('Жилая площадь квартиры в квадратных метрах', fontsize=10)\n",
    "# установка подписи для горизонтальной оси графика\n",
    "plt.ylabel('Количество квартир', fontsize=10);\n",
    "# установка подписи для вертикальной оси графика"
   ]
  },
  {
   "cell_type": "code",
   "execution_count": null,
   "metadata": {},
   "outputs": [],
   "source": [
    "data.living_area.hist(bins = 15, figsize = (15,3), range = (80,250), ec='white')\n",
    "# построение гистограммы для значений в столбце ‘living_area’ в датафрейме ‘data’\n",
    "plt.title('Распределение значений жилой площади квартир (м²)', fontsize=12)\n",
    "# установка заголовка для графика\n",
    "plt.xlabel('Жилая площадь квартиры в квадратных метрах', fontsize=10)\n",
    "# установка подписи для горизонтальной оси графика\n",
    "plt.ylabel('Количество квартир', fontsize=10);\n",
    "# установка подписи для вертикальной оси графика"
   ]
  },
  {
   "cell_type": "code",
   "execution_count": null,
   "metadata": {},
   "outputs": [],
   "source": [
    "data.living_area.hist(bins = 15, figsize = (15,3), range = (0,10), ec='white')\n",
    "# построение гистограммы для значений в столбце ‘living_area’ в датафрейме ‘data’\n",
    "plt.title('Распределение значений жилой площади квартир (м²)', fontsize=12)\n",
    "# установка заголовка для графика\n",
    "plt.xlabel('Жилая площадь квартиры в квадратных метрах', fontsize=10)\n",
    "# установка подписи для горизонтальной оси графика\n",
    "plt.ylabel('Количество квартир', fontsize=10);\n",
    "# установка подписи для вертикальной оси графика"
   ]
  },
  {
   "cell_type": "markdown",
   "metadata": {},
   "source": [
    "Все квартиры, жилая площадь которых менее 8 м² и более 100 м², можно считать выбросами. Удалим аномальные значения жилой площади квартир, которые выходят за установленные пределы. Сохраним данные без выбросов в переменную `filtered_data`."
   ]
  },
  {
   "cell_type": "code",
   "execution_count": null,
   "metadata": {},
   "outputs": [],
   "source": [
    "filtered_data = filtered_data.drop(\n",
    "    filtered_data[(filtered_data['living_area'] < 8) | (filtered_data['living_area'] > 100)].index)\n",
    "# удаление строк из датафрейма ‘data’, где значения в столбце ‘living_area’ меньше, чем 8, \n",
    "# или больше, чем 100\n",
    "# сохранение данных в переменную ‘filtered_data’"
   ]
  },
  {
   "cell_type": "markdown",
   "metadata": {},
   "source": [
    "Выведем характеристики распределения значений жилой площади квартир после удаления выбросов."
   ]
  },
  {
   "cell_type": "code",
   "execution_count": null,
   "metadata": {},
   "outputs": [],
   "source": [
    "round(filtered_data['living_area'].describe().to_frame(), 2)\n",
    "# вывод статистической информации о значениях столбца ‘living_area’"
   ]
  },
  {
   "cell_type": "markdown",
   "metadata": {},
   "source": [
    "Определим наиболее часто встречающуюся жилую площадь квартир."
   ]
  },
  {
   "cell_type": "code",
   "execution_count": null,
   "metadata": {},
   "outputs": [],
   "source": [
    "filtered_data['living_area'].mode()\n",
    "# вычисление моды в столбце ‘living_area’"
   ]
  },
  {
   "cell_type": "markdown",
   "metadata": {},
   "source": [
    "Всех чаще встречаются квартиры с жилой площадью, равной 18 м².\n",
    "\n",
    "Построим гистограмму распределения значений жилой площади квартир."
   ]
  },
  {
   "cell_type": "code",
   "execution_count": null,
   "metadata": {},
   "outputs": [],
   "source": [
    "filtered_data['living_area'].hist(bins=30, figsize=(12, 3), ec='white', legend=False)\n",
    "# построение гистограммы для значений в столбце ‘living_area’ в датафрейме ‘filtered_data’\n",
    "plt.title('Распределение значений жилой площади квартир (м²)', fontsize=12)\n",
    "# установка заголовка для графика\n",
    "plt.xlabel('Жилая площадь квартиры в квадратных метрах', fontsize=10)\n",
    "# установка подписи для горизонтальной оси графика\n",
    "plt.ylabel('Количество квартир', fontsize=10);\n",
    "# установка подписи для вертикальной оси графика"
   ]
  },
  {
   "cell_type": "markdown",
   "metadata": {},
   "source": [
    "Наиболее часто жилая площадь квартир находится в пределах примерно от 10 м² до 60 м². Самая распространённая жилая площадь квартир равна 18 м². Медиана равна 30 м², среднее арифметическое — 33 м². Несовпадение медианы и среднего значения указывает на то, что распределение данных является асимметричным. Гистограмма имеет длинный хвост в правой части, так как в наборе данных есть значения жилой площади квартир, которые значительно больше среднего.\n",
    "    \n",
    "Выведем характеристики распределения значений площади кухни в квартирах и построим диаграмму размаха."
   ]
  },
  {
   "cell_type": "code",
   "execution_count": null,
   "metadata": {},
   "outputs": [],
   "source": [
    "data.boxplot('kitchen_area', vert = False, figsize=(17, 2))\n",
    "# построение диаграммы размаха для значений столбца ‘kitchen_area’\n",
    "plt.title('Размах значений площади кухни в квартирах (м²)', fontsize=12)\n",
    "# установка заголовка для графика\n",
    "plt.xlabel('Площадь кухни в м²', fontsize=10)\n",
    "# установка подписи для горизонтальной оси графика\n",
    "round(data['kitchen_area'].describe().to_frame(), 2)\n",
    "# вывод статистической информации о значениях столбца ‘kitchen_area’"
   ]
  },
  {
   "cell_type": "markdown",
   "metadata": {},
   "source": [
    "Количество наблюдений в столбце с площадью кухни в квартирах составляет 21 тыс. 379.\n",
    "\n",
    "Cреднее арифметическое набора значений, который описывает площадь кухни в квартирах, равно 10.56 м².\n",
    "\n",
    "Стандартное отклонение, описывающее разброс значений площади кухни в квартирах относительно среднего, равно 5.9 м².\n",
    "\n",
    "Первый квартиль, левее которого лежит 25% данных, описывающих площадь кухни в квартирах, равен 7 м².\n",
    "\n",
    "Медиана равна 9.1 м²: половина всех значений площади кухни в квартирах меньше, чем 9.1 м², другая половина — больше.\n",
    "\n",
    "Третий квартиль, правее которого лежит 25% данных, описывающих площадь кухни в квартирах, равен 12 м².\n",
    "\n",
    "Нижний «ус» диаграммы размаха доходит до 1.3 м², что является минимальным значением площади кухни в квартирах. Верхний «ус» заканчивается около 19 м², что составляет 1.5 межквартильного размаха, добавленного к третьему квартилю. Это приблизительная граница нормального размаха. То, что выходит за её пределы, считается выбросом. Высокие значения отображаются отдельными точками, но они в начале сливаются в одну толстую линию, так как выбросов очень много. Тем не менее, значения, отсеченные верхним «усом», встречаются редко. Самый дальний выброс — это наибольшее значение площади кухни в квартирах, равное 112 м².\n",
    "\n",
    "Построим гистограммы распределения значений площади кухни с определённым количеством корзин и диапазоном значений, чтобы установить, какие наблюдения можно отнести к выбросам."
   ]
  },
  {
   "cell_type": "code",
   "execution_count": null,
   "metadata": {},
   "outputs": [],
   "source": [
    "data.kitchen_area.hist(bins = 150, figsize = (15,3), ec='white')\n",
    "# построение гистограммы для значений в столбце ‘kitchen_area’ в датафрейме ‘data’\n",
    "plt.title('Распределение значений площади кухни в квартирах (м²)', fontsize=12)\n",
    "# установка заголовка для графика\n",
    "plt.xlabel('Площадь кухни в квадратных метрах', fontsize=10)\n",
    "# установка подписи для горизонтальной оси графика\n",
    "plt.ylabel('Количество квартир', fontsize=10);\n",
    "# установка подписи для вертикальной оси графика"
   ]
  },
  {
   "cell_type": "code",
   "execution_count": null,
   "metadata": {},
   "outputs": [],
   "source": [
    "data.kitchen_area.hist(bins = 150, figsize = (15,3), range = (20,60), ec='white')\n",
    "# построение гистограммы для значений в столбце ‘kitchen_area’ в датафрейме ‘data’\n",
    "plt.title('Распределение значений площади кухни в квартирах (м²)', fontsize=12)\n",
    "# установка заголовка для графика\n",
    "plt.xlabel('Площадь кухни в квадратных метрах', fontsize=10)\n",
    "# установка подписи для горизонтальной оси графика\n",
    "plt.ylabel('Количество квартир', fontsize=10);\n",
    "# установка подписи для вертикальной оси графика"
   ]
  },
  {
   "cell_type": "code",
   "execution_count": null,
   "metadata": {},
   "outputs": [],
   "source": [
    "data.kitchen_area.hist(bins = 15, figsize = (15,3), range = (20,60), ec='white')\n",
    "# построение гистограммы для значений в столбце ‘kitchen_area’ в датафрейме ‘data’\n",
    "plt.title('Распределение значений площади кухни в квартирах (м²)', fontsize=12)\n",
    "# установка заголовка для графика\n",
    "plt.xlabel('Площадь кухни в квадратных метрах', fontsize=10)\n",
    "# установка подписи для горизонтальной оси графика\n",
    "plt.ylabel('Количество квартир', fontsize=10);\n",
    "# установка подписи для вертикальной оси графика"
   ]
  },
  {
   "cell_type": "code",
   "execution_count": null,
   "metadata": {},
   "outputs": [],
   "source": [
    "data.kitchen_area.hist(bins = 15, figsize = (15,3), range = (0,5), ec='white')\n",
    "# построение гистограммы для значений в столбце ‘kitchen_area’ в датафрейме ‘data’\n",
    "plt.title('Распределение значений площади кухни в квартирах (м²)', fontsize=12)\n",
    "# установка заголовка для графика\n",
    "plt.xlabel('Площадь кухни в квадратных метрах', fontsize=10)\n",
    "# установка подписи для горизонтальной оси графика\n",
    "plt.ylabel('Количество квартир', fontsize=10);\n",
    "# установка подписи для вертикальной оси графика"
   ]
  },
  {
   "cell_type": "markdown",
   "metadata": {},
   "source": [
    "Все квартиры, площадь кухни которых менее 4 м² и более 30 м², можно считать выбросами. Удалим аномальные значения площади кухни в квартирах, которые выходят за установленные пределы. Сохраним данные без выбросов в переменную `filtered_data`."
   ]
  },
  {
   "cell_type": "code",
   "execution_count": null,
   "metadata": {},
   "outputs": [],
   "source": [
    "filtered_data = filtered_data.drop(\n",
    "    filtered_data[(filtered_data['kitchen_area'] < 4) | (filtered_data['kitchen_area'] > 30)].index)\n",
    "# удаление строк из датафрейма ‘data’, где значения в столбце ‘kitchen_area’ меньше, чем 4, \n",
    "# или больше, чем 30\n",
    "# сохранение данных в переменную ‘filtered_data’"
   ]
  },
  {
   "cell_type": "markdown",
   "metadata": {},
   "source": [
    "Выведем характеристики распределения значений площади кухни в квартирах после удаления выбросов."
   ]
  },
  {
   "cell_type": "code",
   "execution_count": null,
   "metadata": {},
   "outputs": [],
   "source": [
    "round(filtered_data['kitchen_area'].describe().to_frame(), 2)\n",
    "# вывод статистической информации о значениях столбца ‘kitchen_area’"
   ]
  },
  {
   "cell_type": "markdown",
   "metadata": {},
   "source": [
    "Определим наиболее часто встречающуюся площадь кухни в квартирах."
   ]
  },
  {
   "cell_type": "code",
   "execution_count": null,
   "metadata": {},
   "outputs": [],
   "source": [
    "filtered_data['kitchen_area'].mode()\n",
    "# вычисление моды в столбце ‘kitchen_area’"
   ]
  },
  {
   "cell_type": "markdown",
   "metadata": {},
   "source": [
    "Всех чаще встречаются квартиры с площадью кухни, равной 6 м².\n",
    "\n",
    "Построим гистограмму распределения значений площади кухни в квартирах."
   ]
  },
  {
   "cell_type": "code",
   "execution_count": null,
   "metadata": {},
   "outputs": [],
   "source": [
    "filtered_data['kitchen_area'].hist(bins=30, figsize=(12, 3), ec='white', legend=False)\n",
    "# построение гистограммы для значений в столбце ‘kitchen_area’ в датафрейме ‘filtered_data’\n",
    "plt.title('Распределение значений площади кухни в квартирах (м²)', fontsize=12)\n",
    "# установка заголовка для графика\n",
    "plt.xlabel('Площадь кухни в квадратных метрах', fontsize=10)\n",
    "# установка подписи для горизонтальной оси графика\n",
    "plt.ylabel('Количество квартир', fontsize=10);\n",
    "# установка подписи для вертикальной оси графика"
   ]
  },
  {
   "cell_type": "markdown",
   "metadata": {},
   "source": [
    "Наиболее часто площадь кухни в квартирах находится в пределах примерно от 5 м² до 15 м². Самая распространённая площадь кухни в квартирах равна 6 м². Медиана равна 9 м², среднее арифметическое — 10 м². Гистограмма имеет длинный хвост в правой части, так как в наборе данных есть значения площади кухни, которые значительно больше среднего.\n",
    "    \n",
    "Выведем характеристики распределения значений стоимости квартир и построим диаграмму размаха."
   ]
  },
  {
   "cell_type": "code",
   "execution_count": null,
   "metadata": {},
   "outputs": [],
   "source": [
    "data.boxplot('last_price', vert = False, figsize=(17, 2))\n",
    "# построение диаграммы размаха для значений столбца ‘last_price’\n",
    "plt.title('Размах значений стоимости квартир', fontsize=12)\n",
    "# установка заголовка для графика\n",
    "plt.xlabel('Стоимость квартиры', fontsize=10)\n",
    "# установка подписи для горизонтальной оси графика\n",
    "round(data['last_price'].describe().to_frame(), 1)\n",
    "# вывод статистической информации о значениях столбца ‘last_price’"
   ]
  },
  {
   "cell_type": "markdown",
   "metadata": {},
   "source": [
    "Количество наблюдений в столбце со стоимостью квартир составляет 23 тыс. 610.\n",
    "\n",
    "Cреднее арифметическое набора значений, который описывает стоимость квартир, равно 6 млн. 540 тыс.\n",
    "\n",
    "Стандартное отклонение, описывающее разброс значений стоимости квартир относительно среднего, равно 10 млн. 902 тыс.\n",
    "\n",
    "Первый квартиль, левее которого лежит 25% данных, описывающих стоимость квартир, равен 3 млн. 400 тыс.\n",
    "\n",
    "Медиана равна 4 млн. 650 тыс.: половина всех значений стоимости квартир меньше, чем 4 млн. 650 тыс., другая половина — больше.\n",
    "\n",
    "Третий квартиль, правее которого лежит 25% данных, описывающих стоимость квартир, равен 6 млн. 797 тыс.\n",
    "\n",
    "Нижний «ус» диаграммы размаха доходит до 12 тыс. 190, что является минимальным значением стоимости квартир. Верхний «ус» заканчивается около 12 млн., что составляет 1.5 межквартильного размаха, добавленного к третьему квартилю. Это приблизительная граница нормального размаха. То, что выходит за её пределы, считается выбросом. Высокие значения отображаются отдельными точками, но они в начале сливаются в одну толстую линию, так как выбросов очень много. Тем не менее, значения, отсеченные верхним «усом», встречаются редко. Самый дальний выброс — это наибольшее значение стоимости квартир, равное 763 млн.\n",
    "\n",
    "Построим гистограммы распределения значений стоимости квартир с определённым количеством корзин и диапазоном значений, чтобы установить, какие наблюдения можно отнести к выбросам."
   ]
  },
  {
   "cell_type": "code",
   "execution_count": null,
   "metadata": {},
   "outputs": [],
   "source": [
    "data.last_price.hist(bins = 300, figsize = (15,3), ec='white')\n",
    "# построение гистограммы для значений в столбце ‘last_price’ в датафрейме ‘data’\n",
    "plt.title('Распределение значений стоимости квартир', fontsize=12)\n",
    "# установка заголовка для графика\n",
    "plt.xlabel('Стоимость квартиры', fontsize=10)\n",
    "# установка подписи для горизонтальной оси графика\n",
    "plt.ylabel('Количество квартир', fontsize=10);\n",
    "# установка подписи для вертикальной оси графика"
   ]
  },
  {
   "cell_type": "code",
   "execution_count": null,
   "metadata": {},
   "outputs": [],
   "source": [
    "data.last_price.hist(bins = 150, figsize = (15,3), range = (10000000,100000000), ec='white')\n",
    "# построение гистограммы для значений в столбце ‘last_price’ в датафрейме ‘data’\n",
    "plt.title('Распределение значений стоимости квартир', fontsize=12)\n",
    "# установка заголовка для графика\n",
    "plt.xlabel('Стоимость квартиры', fontsize=10)\n",
    "# установка подписи для горизонтальной оси графика\n",
    "plt.ylabel('Количество квартир', fontsize=10);\n",
    "# установка подписи для вертикальной оси графика"
   ]
  },
  {
   "cell_type": "code",
   "execution_count": null,
   "metadata": {},
   "outputs": [],
   "source": [
    "data.last_price.hist(bins = 15, figsize = (15,3), range = (10000000,100000000), ec='white')\n",
    "# построение гистограммы для значений в столбце ‘last_price’ в датафрейме ‘data’\n",
    "plt.title('Распределение значений стоимости квартир', fontsize=12)\n",
    "# установка заголовка для графика\n",
    "plt.xlabel('Стоимость квартиры', fontsize=10)\n",
    "# установка подписи для горизонтальной оси графика\n",
    "plt.ylabel('Количество квартир', fontsize=10);\n",
    "# установка подписи для вертикальной оси графика"
   ]
  },
  {
   "cell_type": "markdown",
   "metadata": {},
   "source": [
    "Все квартиры, стоимость которых выше 30 млн., можно считать выбросами. Удалим аномальные значения стоимости квартиры, которые выходят за установленные пределы. Сохраним данные без выбросов в переменную `filtered_data`."
   ]
  },
  {
   "cell_type": "code",
   "execution_count": null,
   "metadata": {},
   "outputs": [],
   "source": [
    "filtered_data = filtered_data.drop(\n",
    "    filtered_data[filtered_data['last_price'] > 30000000].index)\n",
    "# удаление строк из датафрейма ‘data’, где значения в столбце ‘last_price’ больше, чем 30000000\n",
    "# сохранение данных в переменную ‘filtered_data’"
   ]
  },
  {
   "cell_type": "markdown",
   "metadata": {},
   "source": [
    "Выведем характеристики распределения значений стоимости квартир после удаления выбросов."
   ]
  },
  {
   "cell_type": "code",
   "execution_count": null,
   "metadata": {},
   "outputs": [],
   "source": [
    "round(filtered_data['last_price'].describe().to_frame(), 2)\n",
    "# вывод статистической информации о значениях столбца ‘last_price’"
   ]
  },
  {
   "cell_type": "markdown",
   "metadata": {},
   "source": [
    "Определим наиболее часто встречающуюся стоимость квартир."
   ]
  },
  {
   "cell_type": "code",
   "execution_count": null,
   "metadata": {},
   "outputs": [],
   "source": [
    "filtered_data['last_price'].mode()\n",
    "# вычисление моды в столбце ‘last_price’"
   ]
  },
  {
   "cell_type": "markdown",
   "metadata": {},
   "source": [
    "Всех чаще встречаются квартиры со стоимостью 4 млн. 500 тыс.\n",
    "\n",
    "Построим гистограмму распределения значений стоимости квартир."
   ]
  },
  {
   "cell_type": "code",
   "execution_count": null,
   "metadata": {},
   "outputs": [],
   "source": [
    "filtered_data['last_price'].hist(bins=30, figsize=(12,3), ec='white', legend=False)\n",
    "# построение гистограммы для значений в столбце ‘last_price’ в датафрейме ‘filtered_data’\n",
    "plt.title('Распределение значений стоимости квартир', fontsize=12)\n",
    "# установка заголовка для графика\n",
    "plt.xlabel('Стоимость квартиры', fontsize=10)\n",
    "# установка подписи для горизонтальной оси графика\n",
    "plt.ylabel('Количество квартир', fontsize=10);\n",
    "# установка подписи для вертикальной оси графика"
   ]
  },
  {
   "cell_type": "markdown",
   "metadata": {},
   "source": [
    "Наиболее часто стоимость квартир находится в пределах примерно от 2.5 млн. до 7.5 млн. Самая распространённая стоимость квартир равна 4.5 млн. Медиана равна 4.5 млн., среднее арифметическое — 5.5 млн. Несовпадение медианы и среднего значения указывает на то, что распределение данных является асимметричным. Гистограмма имеет длинный хвост в правой части, так как в наборе данных есть значения стоимости квартир, которые значительно больше среднего. Редко встречаются квартиры, стоимость которых меньше 1 млн. и больше 20 млн.\n",
    "    \n",
    "Выведем характеристики распределения квартир по числу комнат и построим диаграмму размаха."
   ]
  },
  {
   "cell_type": "code",
   "execution_count": null,
   "metadata": {},
   "outputs": [],
   "source": [
    "data.boxplot('rooms', vert = False, figsize=(17, 2))\n",
    "# построение диаграммы размаха для значений столбца ‘rooms’\n",
    "plt.title('Размах значений числа комнат в квартирах', fontsize=12)\n",
    "# установка заголовка для графика\n",
    "plt.xlabel('Количество комнат', fontsize=10)\n",
    "# установка подписи для горизонтальной оси графика\n",
    "round(data['rooms'].describe().to_frame())\n",
    "# вывод статистической информации о значениях столбца ‘rooms’"
   ]
  },
  {
   "cell_type": "markdown",
   "metadata": {},
   "source": [
    "Количество наблюдений в столбце с числом комнат в квартирах составляет 23 тыс. 610.\n",
    "\n",
    "Cреднее арифметическое набора значений, который описывает число комнат в квартирах, равно 2.\n",
    "\n",
    "Стандартное отклонение, описывающее разброс значений числа комнат в квартирах относительно среднего, равно 1.\n",
    "\n",
    "Первый квартиль, левее которого лежит 25% данных, описывающих число комнат в квартирах, равен 1.\n",
    "\n",
    "Медиана равна 2: половина всех значений числа комнат в квартирах меньше, чем 2, другая половина — больше.\n",
    "\n",
    "Третий квартиль, правее которого лежит 25% данных, описывающих число комнат в квартирах, равен 3.\n",
    "\n",
    "Нижний «ус» диаграммы размаха доходит до 0, что является минимальным значением числа комнат в квартирах. Верхний «ус» заканчивается 6, что составляет 1.5 межквартильного размаха, добавленного к третьему квартилю. Это приблизительная граница нормального размаха. То, что выходит за её пределы, считается выбросом. Высокие значения отображаются отдельными точками. Самый дальний выброс — это наибольшее значение числа комнат в квартирах, равное 19.\n",
    "\n",
    "Выведем количество квартир с определённым числом комнат, чтобы установить, какие значения встречаются редко."
   ]
  },
  {
   "cell_type": "code",
   "execution_count": null,
   "metadata": {},
   "outputs": [],
   "source": [
    "data.rooms.value_counts().to_frame()\n",
    "# подсчёт количества каждого значения в столбце ‘rooms’\n",
    "# преобразование результата в фрейм данных"
   ]
  },
  {
   "cell_type": "markdown",
   "metadata": {},
   "source": [
    "Все квартиры, имеющие больше 7 комнат, можно считать выбросами. Удалим аномальные значения количества комнат. Сохраним данные без выбросов в переменную `filtered_data`."
   ]
  },
  {
   "cell_type": "code",
   "execution_count": null,
   "metadata": {},
   "outputs": [],
   "source": [
    "filtered_data = filtered_data.drop(filtered_data[filtered_data['rooms'] > 7].index)\n",
    "# удаление строк из датафрейма ‘data’, где значения в столбце ‘rooms’ больше, чем 7\n",
    "# сохранение данных в переменную ‘filtered_data’"
   ]
  },
  {
   "cell_type": "markdown",
   "metadata": {},
   "source": [
    "Выведем характеристики распределения значений числа комнат в квартирах после удаления выбросов."
   ]
  },
  {
   "cell_type": "code",
   "execution_count": null,
   "metadata": {},
   "outputs": [],
   "source": [
    "round(filtered_data['rooms'].describe().to_frame())\n",
    "# вывод статистической информации о значениях столбца ‘rooms’"
   ]
  },
  {
   "cell_type": "markdown",
   "metadata": {},
   "source": [
    "Построим столбчатую диаграмму, показывающую количество квартир с определённым числом комнат."
   ]
  },
  {
   "cell_type": "code",
   "execution_count": null,
   "metadata": {},
   "outputs": [],
   "source": [
    "filtered_data['rooms'].value_counts().sort_values().plot(kind='barh', figsize=(12,3), legend=False)\n",
    "# построение столбчатой диаграммы для значений столбца ‘rooms’ с сортировкой по убыванию\n",
    "plt.title('Количество квартир с определённым числом комнат', fontsize=12)\n",
    "# установка заголовка для графика\n",
    "plt.xlabel('Количество квартир', fontsize=10)\n",
    "# установка подписи для горизонтальной оси графика\n",
    "plt.ylabel('Количество комнат', fontsize=10)\n",
    "# установка подписи для вертикальной оси графика\n",
    "filtered_data['rooms'].value_counts().to_frame()\n",
    "# подсчёт количества каждого значения в столбце ‘rooms’"
   ]
  },
  {
   "cell_type": "markdown",
   "metadata": {},
   "source": [
    "Рассчитаем процентное соотношение значений числа комнат в квартирах."
   ]
  },
  {
   "cell_type": "code",
   "execution_count": null,
   "metadata": {},
   "outputs": [],
   "source": [
    "round(filtered_data.groupby('rooms').size() / len(filtered_data) * 100, 2).to_frame(name='%')\n",
    "# рассчёт процентного соотношения для каждой группы значений переменной ‘rooms’"
   ]
  },
  {
   "cell_type": "markdown",
   "metadata": {},
   "source": [
    "Наиболее распространённым количеством комнат является одна (35%) или две комнаты (34%) в квартире. Также часто встречаются квартиры с тремя комнатами (25%). Медиана и среднее значение совпадают и равны 2 комнатам. Редко встречаются квартиры без комнат (квартиры-студии) и квартиры с четырьмя и более комнатами. Чем больше комнат, тем меньше таких квартир.\n",
    "    \n",
    "В массовой типовой многоквартирной застройке высота потолков обычно составляет от 2.5 до 3 метров. Посмотрим, какие в имеющемся наборе данных существуют значения высоты потолков в квартирах."
   ]
  },
  {
   "cell_type": "code",
   "execution_count": null,
   "metadata": {},
   "outputs": [],
   "source": [
    "data['ceiling_height'].sort_values().unique()\n",
    "# вывод отсортированных уникальных значений в столбце ‘ceiling_height’"
   ]
  },
  {
   "cell_type": "markdown",
   "metadata": {},
   "source": [
    "В столбце датафрейма с высотой потолков встречаются слишком большие значения — 20 м, 32 м. Можно предположить, что на самом деле это вещественные значения, равные 2.0 м и 3.2 м. Возможно, в некоторых данных забыли поставить точку или поставили её в неправильном месте. Уменьшим значения высоты потолков, равные 20 м и более, в 10 раз."
   ]
  },
  {
   "cell_type": "code",
   "execution_count": null,
   "metadata": {},
   "outputs": [],
   "source": [
    "data.loc[data['ceiling_height'] >= 20, 'ceiling_height'] = data['ceiling_height'] / 10\n",
    "# присваивание каждому значению столбца ‘ceiling_height’, кот. больше или равно 20, \n",
    "# результата деления значения столбца ‘ceiling_height’ на 10"
   ]
  },
  {
   "cell_type": "markdown",
   "metadata": {},
   "source": [
    "Выведем характеристики распределения значений высоты потолков в квартирах и построим диаграмму размаха."
   ]
  },
  {
   "cell_type": "code",
   "execution_count": null,
   "metadata": {},
   "outputs": [],
   "source": [
    "data.boxplot('ceiling_height', vert = False, figsize=(17, 2))\n",
    "# построение диаграммы размаха для значений столбца ‘ceiling_height’\n",
    "plt.title('Размах значений высоты потолков в квартирах (м)', fontsize=12)\n",
    "# установка заголовка для графика\n",
    "plt.xlabel('Высота потолков в м', fontsize=10)\n",
    "# установка подписи для горизонтальной оси графика\n",
    "round(data['ceiling_height'].describe().to_frame(), 2)\n",
    "# вывод статистической информации о значениях столбца ‘ceiling_height’"
   ]
  },
  {
   "cell_type": "markdown",
   "metadata": {},
   "source": [
    "Количество наблюдений в столбце с высотой потолков в квартирах составляет 14 тыс. 492.\n",
    "\n",
    "Cреднее арифметическое набора значений, который описывает высоту потолков в квартирах, равно 2.73 м.\n",
    "\n",
    "Стандартное отклонение, описывающее разброс значений высоты потолков в квартирах относительно среднего, равно 0.32 м.\n",
    "\n",
    "Первый квартиль, левее которого лежит 25% данных, описывающих высоту потолков в квартирах, равен 2.51 м.\n",
    "\n",
    "Медиана равна 2.65 м: половина всех значений высоты потолков в квартирах меньше, чем 2.65 м, другая половина — больше.\n",
    "\n",
    "Третий квартиль, правее которого лежит 25% данных, описывающих высоту потолков в квартирах, равен 2.8 м, что совпадает с медианой.\n",
    "\n",
    "Нижний «ус» диаграммы размаха доходит примерно до 2.1 м. Самый низкий выброс — это наименьшее значение высоты потолков в квартирах, равное 1 м. Верхний «ус» заканчивается около 3.2 м, что составляет 1.5 межквартильного размаха, добавленного к третьему квартилю. Нижний и верхний «ус» — это приблизительные границы нормального размаха. То, что выходит за их пределы, считается выбросом. Высокие значения отображаются отдельными точками, но они в начале сливаются в одну толстую линию, так как выбросов очень много. Тем не менее, значения, отсеченные верхним «усом», встречаются редко. Самый дальний выброс — это наибольшее значение высоты потолков в квартирах, равное 14 м.\n",
    "\n",
    "Построим гистограммы распределения значений высоты потолков в квартирах с определённым количеством корзин и диапазоном значений, чтобы установить, какие наблюдения можно отнести к выбросам."
   ]
  },
  {
   "cell_type": "code",
   "execution_count": null,
   "metadata": {},
   "outputs": [],
   "source": [
    "data.ceiling_height.hist(bins = 150, figsize = (15,3), ec='white')\n",
    "# построение гистограммы для значений в столбце ‘ceiling_height’ в датафрейме ‘data’\n",
    "plt.title('Распределение значений высоты потолков в квартирах (м)', fontsize=12)\n",
    "# установка заголовка для графика\n",
    "plt.xlabel('Высота потолков в метрах', fontsize=10)\n",
    "# установка подписи для горизонтальной оси графика\n",
    "plt.ylabel('Количество квартир', fontsize=10);\n",
    "# установка подписи для вертикальной оси графика"
   ]
  },
  {
   "cell_type": "code",
   "execution_count": null,
   "metadata": {},
   "outputs": [],
   "source": [
    "data.ceiling_height.hist(bins = 150, figsize = (15,3), range = (3.5,8), ec='white')\n",
    "# построение гистограммы для значений в столбце ‘ceiling_height’ в датафрейме ‘data’\n",
    "plt.title('Распределение значений высоты потолков в квартирах (м)', fontsize=12)\n",
    "# установка заголовка для графика\n",
    "plt.xlabel('Высота потолков в метрах', fontsize=10)\n",
    "# установка подписи для горизонтальной оси графика\n",
    "plt.ylabel('Количество квартир', fontsize=10);\n",
    "# установка подписи для вертикальной оси графика"
   ]
  },
  {
   "cell_type": "code",
   "execution_count": null,
   "metadata": {},
   "outputs": [],
   "source": [
    "data.ceiling_height.hist(bins = 15, figsize = (15,3), range = (3.5,8), ec='white')\n",
    "# построение гистограммы для значений в столбце ‘ceiling_height’ в датафрейме ‘data’\n",
    "plt.title('Распределение значений высоты потолков в квартирах (м)', fontsize=12)\n",
    "# установка заголовка для графика\n",
    "plt.xlabel('Высота потолков в метрах', fontsize=10)\n",
    "# установка подписи для горизонтальной оси графика\n",
    "plt.ylabel('Количество квартир', fontsize=10);\n",
    "# установка подписи для вертикальной оси графика"
   ]
  },
  {
   "cell_type": "code",
   "execution_count": null,
   "metadata": {},
   "outputs": [],
   "source": [
    "data.ceiling_height.hist(bins = 15, figsize = (15,3), range = (1,2.5))\n",
    "# построение гистограммы для значений в столбце ‘ceiling_height’ в датафрейме ‘data’\n",
    "plt.title('Распределение значений высоты потолков в квартирах (м)', fontsize=12)\n",
    "# установка заголовка для графика\n",
    "plt.xlabel('Высота потолков в метрах', fontsize=10)\n",
    "# установка подписи для горизонтальной оси графика\n",
    "plt.ylabel('Количество квартир', fontsize=10);\n",
    "# установка подписи для вертикальной оси графика"
   ]
  },
  {
   "cell_type": "markdown",
   "metadata": {},
   "source": [
    "Все квартиры, у которых высота потолков менее 2 м и более 4 м, можно считать выбросами. Удалим аномальные значения высоты потолков в квартирах, которые выходят за установленные пределы. Сохраним данные без выбросов в переменную `filtered_data`."
   ]
  },
  {
   "cell_type": "code",
   "execution_count": null,
   "metadata": {},
   "outputs": [],
   "source": [
    "filtered_data = filtered_data.drop(\n",
    "    filtered_data[(filtered_data['ceiling_height'] < 2) | (filtered_data['ceiling_height'] > 4)].index)\n",
    "# удаление строк из датафрейма ‘data’, где значения в столбце ‘ceiling_height’ меньше, чем 2, \n",
    "# или больше, чем 4\n",
    "# сохранение данных в переменную ‘filtered_data’"
   ]
  },
  {
   "cell_type": "markdown",
   "metadata": {},
   "source": [
    "Выведем характеристики распределения значений высоты потолков в квартирах после удаления выбросов."
   ]
  },
  {
   "cell_type": "code",
   "execution_count": null,
   "metadata": {},
   "outputs": [],
   "source": [
    "round(filtered_data['ceiling_height'].describe().to_frame(), 2)\n",
    "# вывод статистической информации о значениях столбца ‘ceiling_height’"
   ]
  },
  {
   "cell_type": "markdown",
   "metadata": {},
   "source": [
    "Определим наиболее часто встречающуюся высоту потолков в квартирах."
   ]
  },
  {
   "cell_type": "code",
   "execution_count": null,
   "metadata": {},
   "outputs": [],
   "source": [
    "filtered_data['ceiling_height'].mode()\n",
    "# вычисление моды в столбце ‘ceiling_height’"
   ]
  },
  {
   "cell_type": "markdown",
   "metadata": {},
   "source": [
    "Всех чаще встречаются квартиры с высотой потолков, равной 2.5 м.\n",
    "\n",
    "Построим гистограмму распределения значений высоты потолков."
   ]
  },
  {
   "cell_type": "code",
   "execution_count": null,
   "metadata": {},
   "outputs": [],
   "source": [
    "filtered_data['ceiling_height'].hist(bins=25, figsize=(12,3), ec='white', legend=False)\n",
    "# построение гистограммы для значений в столбце ‘ceiling_height’ в датафрейме ‘filtered_data’\n",
    "plt.title('Распределение значений высоты потолков в квартирах (м)', fontsize=12)\n",
    "# установка заголовка для графика\n",
    "plt.xlabel('Высота потолков в метрах', fontsize=10)\n",
    "# установка подписи для горизонтальной оси графика\n",
    "plt.ylabel('Количество квартир', fontsize=10);\n",
    "# установка подписи для вертикальной оси графика"
   ]
  },
  {
   "cell_type": "markdown",
   "metadata": {},
   "source": [
    "Некоторая часть объявлений о продаже квартиры не содержит данных о высоте потолков. Среди имеющихся данных в основном значения высоты потолков в квартирах лежат в диапазоне от 2.5 м до 3 м. Наиболее распространённая высота потолков равна 2.5 м. Медиана и среднее арифметическое совпадают — 2.7 м.\n",
    "    \n",
    "Построим столбчатую диаграмму, показывающую количество квартир с определённым типом этажа."
   ]
  },
  {
   "cell_type": "code",
   "execution_count": null,
   "metadata": {},
   "outputs": [],
   "source": [
    "filtered_data['floor_type'].value_counts().plot.bar(figsize=(6,3), legend=False, rot=360)\n",
    "# вычисление количества уникальных значений в столбце ‘floor_type’\n",
    "# построение столбчатой диаграммы с использованием данных из столбца ‘floor_type’\n",
    "plt.title('Количество квартир с определённым типом этажа', fontsize=12)\n",
    "# установка заголовка для графика\n",
    "plt.xlabel('Тип этажа', fontsize=10)\n",
    "# установка подписи для горизонтальной оси графика\n",
    "plt.ylabel('Количество квартир', fontsize=10)\n",
    "# установка подписи для вертикальной оси графика\n",
    "filtered_data['floor_type'].value_counts().to_frame()\n",
    "# подсчёт количества уникальных значений в столбце ‘floor_type’"
   ]
  },
  {
   "cell_type": "markdown",
   "metadata": {},
   "source": [
    "Рассчитаем процентное соотношение типов этажей в квартирах."
   ]
  },
  {
   "cell_type": "code",
   "execution_count": null,
   "metadata": {},
   "outputs": [],
   "source": [
    "round(filtered_data.groupby('floor_type').size() / len(filtered_data) * 100).sort_values(\n",
    "    ascending=False).to_frame(name='%')\n",
    "# рассчёт процентного соотношения для каждой группы значений переменной ‘floor_type’"
   ]
  },
  {
   "cell_type": "markdown",
   "metadata": {},
   "source": [
    "Распространённым типом этажа, на котором расположена квартира, является «другой», не являющийся первым или последним (74%), включающий в себя сразу несколько этажей. Квартиры на последнем (14%) и первом (13%) этажах встречаются почти одинаково редко.\n",
    "    \n",
    "Выведем характеристики распределения квартир по количеству этажей в доме и построим диаграмму размаха."
   ]
  },
  {
   "cell_type": "code",
   "execution_count": null,
   "metadata": {},
   "outputs": [],
   "source": [
    "data.boxplot('floors_total', vert = False, figsize=(17, 2))\n",
    "# построение диаграммы размаха для значений столбца ‘floors_total’\n",
    "plt.title('Размах значений количества этажей в доме', fontsize=12)\n",
    "# установка заголовка для графика\n",
    "plt.xlabel('Общее количество этажей в доме', fontsize=10)\n",
    "# установка подписи для горизонтальной оси графика\n",
    "round(data['floors_total'].describe().to_frame())\n",
    "# вывод статистической информации о значениях столбца ‘floors_total’"
   ]
  },
  {
   "cell_type": "markdown",
   "metadata": {},
   "source": [
    "Количество наблюдений в столбце с числом этажей в доме составляет 23 тыс. 610.\n",
    "\n",
    "Cреднее арифметическое набора значений, который описывает число этажей в доме, равно 11.\n",
    "\n",
    "Стандартное отклонение, описывающее разброс значений числа этажей в доме относительно среднего, равно 7.\n",
    "\n",
    "Первый квартиль, левее которого лежит 25% данных, описывающих число этажей в доме, равен 5.\n",
    "\n",
    "Медиана равна 9: половина всех значений числа этажей в доме меньше, чем 9, другая половина — больше.\n",
    "\n",
    "Третий квартиль, правее которого лежит 25% данных, описывающих число этажей в доме, равен 16.\n",
    "\n",
    "Нижний «ус» диаграммы размаха доходит до 1 — это наименьшее значение числа этажей в доме. Верхний «ус» заканчивается около 53, что составляет 3.5 межквартильного размаха, добавленного к третьему квартилю. Это приблизительная граница нормального размаха. То, что выходит за её пределы, считается выбросом. Единственный выброс — это наибольшее значение числа этажей в доме, равное 60.\n",
    "\n",
    "Построим гистограммы распределения значений числа этажей с определённым количеством корзин и диапазоном значений, чтобы установить, какие наблюдения можно отнести к выбросам."
   ]
  },
  {
   "cell_type": "code",
   "execution_count": null,
   "metadata": {},
   "outputs": [],
   "source": [
    "data.floors_total.hist(bins = 75, figsize = (15,3), ec='white')\n",
    "# построение гистограммы для значений в столбце ‘floors_total’ в датафрейме ‘data’\n",
    "plt.title('Распределение квартир по количеству этажей в доме', fontsize=12)\n",
    "# установка заголовка для графика\n",
    "plt.xlabel('Общее количество этажей в доме', fontsize=10)\n",
    "# установка подписи для горизонтальной оси графика\n",
    "plt.ylabel('Количество квартир', fontsize=10);\n",
    "# установка подписи для вертикальной оси графика"
   ]
  },
  {
   "cell_type": "code",
   "execution_count": null,
   "metadata": {},
   "outputs": [],
   "source": [
    "data.floors_total.hist(bins = 75, figsize = (15,3), range = (20,40))\n",
    "# построение гистограммы для значений в столбце ‘floors_total’ в датафрейме ‘data’\n",
    "plt.title('Распределение квартир по количеству этажей в доме', fontsize=12)\n",
    "# установка заголовка для графика\n",
    "plt.xlabel('Общее количество этажей в доме', fontsize=10)\n",
    "# установка подписи для горизонтальной оси графика\n",
    "plt.ylabel('Количество квартир', fontsize=10);\n",
    "# установка подписи для вертикальной оси графика"
   ]
  },
  {
   "cell_type": "code",
   "execution_count": null,
   "metadata": {},
   "outputs": [],
   "source": [
    "data.floors_total.hist(bins = 15, figsize = (15,3), range = (20,40), ec='white')\n",
    "# построение гистограммы для значений в столбце ‘floors_total’ в датафрейме ‘data’\n",
    "plt.title('Распределение квартир по количеству этажей в доме', fontsize=12)\n",
    "# установка заголовка для графика\n",
    "plt.xlabel('Общее количество этажей в доме', fontsize=10)\n",
    "# установка подписи для горизонтальной оси графика\n",
    "plt.ylabel('Количество квартир', fontsize=10);\n",
    "# установка подписи для вертикальной оси графика"
   ]
  },
  {
   "cell_type": "code",
   "execution_count": null,
   "metadata": {},
   "outputs": [],
   "source": [
    "data.floors_total.hist(bins = 15, figsize = (15,3), range = (1,5))\n",
    "# построение гистограммы для значений в столбце ‘floors_total’ в датафрейме ‘data’\n",
    "plt.title('Распределение квартир по количеству этажей в доме', fontsize=12)\n",
    "# установка заголовка для графика\n",
    "plt.xlabel('Общее количество этажей в доме', fontsize=10)\n",
    "# установка подписи для горизонтальной оси графика\n",
    "plt.ylabel('Количество квартир', fontsize=10);\n",
    "# установка подписи для вертикальной оси графика"
   ]
  },
  {
   "cell_type": "markdown",
   "metadata": {},
   "source": [
    "Все дома, где меньше 2-х этажей и больше 25 этажей, можно считать выбросами. Удалим аномальные значения количества этажей, которые выходят за установленные пределы. Сохраним данные без выбросов в переменную `filtered_data`."
   ]
  },
  {
   "cell_type": "code",
   "execution_count": null,
   "metadata": {},
   "outputs": [],
   "source": [
    "filtered_data = filtered_data.drop(\n",
    "    filtered_data[(filtered_data['floors_total'] < 2) | (filtered_data['floors_total'] > 25)].index)\n",
    "# удаление строк из датафрейма ‘data’, где значения в столбце ‘floors_total’ меньше, чем 2, \n",
    "# или больше, чем 25\n",
    "# сохранение данных в переменную ‘filtered_data’"
   ]
  },
  {
   "cell_type": "markdown",
   "metadata": {},
   "source": [
    "Выведем характеристики распределения значений количества этажей после удаления выбросов."
   ]
  },
  {
   "cell_type": "code",
   "execution_count": null,
   "metadata": {},
   "outputs": [],
   "source": [
    "round(filtered_data['floors_total'].describe().to_frame())\n",
    "# вывод статистической информации о значениях столбца ‘floors_total’"
   ]
  },
  {
   "cell_type": "markdown",
   "metadata": {},
   "source": [
    "Определим наиболее часто встречающееся количество этажей в доме."
   ]
  },
  {
   "cell_type": "code",
   "execution_count": null,
   "metadata": {},
   "outputs": [],
   "source": [
    "filtered_data['floors_total'].mode()\n",
    "# вычисление моды в столбце ‘floors_total’"
   ]
  },
  {
   "cell_type": "markdown",
   "metadata": {},
   "source": [
    "Всех чаще встречаются дома с пятью этажами.\n",
    "\n",
    "Построим гистограмму распределения квартир по числу этажей в доме."
   ]
  },
  {
   "cell_type": "code",
   "execution_count": null,
   "metadata": {},
   "outputs": [],
   "source": [
    "filtered_data['floors_total'].hist(bins=25, figsize=(12,3), ec='white', legend=False)\n",
    "# построение гистограммы для значений в столбце ‘floors_total’ в датафрейме ‘filtered_data’\n",
    "plt.title('Распределение квартир по количеству этажей в доме', fontsize=12)\n",
    "# установка заголовка для графика\n",
    "plt.xlabel('Общее количество этажей в доме', fontsize=10)\n",
    "# установка подписи для горизонтальной оси графика\n",
    "plt.ylabel('Количество квартир', fontsize=10);\n",
    "# установка подписи для вертикальной оси графика"
   ]
  },
  {
   "cell_type": "markdown",
   "metadata": {},
   "source": [
    "<div class=\"alert alert-da nger\">\n",
    "<font size=\"4\"><b>❌ Комментарий ревьюера</b></font>\n",
    "    <br /> \n",
    "    <font size=\"3\", color = \"black\">\n",
    "<br />          \n",
    "Стоит изменить параметры отображения гистограммы (добавить кол-во корзин), сейчас  трудно определить типовую высотность зданий"
   ]
  },
  {
   "cell_type": "markdown",
   "metadata": {},
   "source": [
    "Самое распространённое количество этажей равно 5. Также часто встречаются дома, где 9 этажей. Медиана равна 9, среднее арифметическое — 11. Несовпадение медианы и среднего значения указывает на то, что распределение данных является асимметричным.\n",
    "    \n",
    "Выведем характеристики распределения значений расстояния от квартиры до центра города и построим диаграмму размаха."
   ]
  },
  {
   "cell_type": "code",
   "execution_count": null,
   "metadata": {},
   "outputs": [],
   "source": [
    "data.boxplot('city_centers_nearest', vert = False, figsize=(17, 2))\n",
    "# построение диаграммы размаха для значений столбца ‘city_centers_nearest’\n",
    "plt.title('Размах значений расстояния от квартиры до центра города (м)', fontsize=12)\n",
    "# установка заголовка для графика\n",
    "plt.xlabel('Расстояние до центра города в м', fontsize=10)\n",
    "# установка подписи для горизонтальной оси графика\n",
    "round(data['city_centers_nearest'].describe().to_frame(), 2)\n",
    "# вывод статистической информации о значениях столбца ‘city_centers_nearest’"
   ]
  },
  {
   "cell_type": "markdown",
   "metadata": {},
   "source": [
    "Количество наблюдений в столбце с расстояниям от квартиры до центра города составляет 18 тыс. 102.\n",
    "\n",
    "Cреднее арифметическое набора значений, который описывает расстояние от квартиры до центра города, равно 14 км 185 м.\n",
    "\n",
    "Стандартное отклонение, описывающее разброс значений расстояния от квартиры до центра города относительно среднего, равно 8 км 614 м.\n",
    "\n",
    "Первый квартиль, левее которого лежит 25% данных, описывающих расстояние от квартиры до центра города, равен 9 км 234 м.\n",
    "\n",
    "Медиана равна 13 тыс. 93 м: половина всех значений расстояния от квартиры до центра города меньше, чем 13 км 93 м, другая половина — больше.\n",
    "\n",
    "Третий квартиль, правее которого лежит 25% данных, описывающих расстояние от квартиры до центра города, равен 16 км 285 м.\n",
    "\n",
    "Нижний «ус» диаграммы размаха доходит до 181 м — это наименьшее значение расстояния от квартиры до центра города. Верхний «ус» заканчивается около 27 км, что составляет 1.5 межквартильного размаха, добавленного к третьему квартилю. Это приблизительная граница нормального размаха. То, что выходит за её пределы, считается выбросом. Высокие значения отображаются отдельными точками, но они в начале сливаются в одну толстую линию, так как выбросов очень много. Тем не менее, значения, отсеченные верхним «усом», встречаются редко. Самый дальний выброс — это наибольшее значение расстояния от квартиры до центра города, равное 65 км 968 м.\n",
    "\n",
    "Построим гистограммы распределения значений расстояния до центра города с определённым количеством корзин и диапазоном значений, чтобы установить, какие наблюдения можно отнести к выбросам."
   ]
  },
  {
   "cell_type": "code",
   "execution_count": null,
   "metadata": {},
   "outputs": [],
   "source": [
    "data.city_centers_nearest.hist(bins = 150, figsize = (15,3), ec='white')\n",
    "# построение гистограммы для значений в столбце ‘city_centers_nearest’ в датафрейме ‘data’\n",
    "plt.title('Распределение значений расстояния от квартиры до центра города (м)', fontsize=12)\n",
    "# установка заголовка для графика\n",
    "plt.xlabel('Расстояние до центра города в метрах', fontsize=10)\n",
    "# установка подписи для горизонтальной оси графика\n",
    "plt.ylabel('Количество квартир', fontsize=10);\n",
    "# установка подписи для вертикальной оси графика"
   ]
  },
  {
   "cell_type": "code",
   "execution_count": null,
   "metadata": {},
   "outputs": [],
   "source": [
    "data.city_centers_nearest.hist(bins = 150, figsize = (15,3), range = (20000,60000), ec='white')\n",
    "# построение гистограммы для значений в столбце ‘city_centers_nearest’ в датафрейме ‘data’\n",
    "plt.title('Распределение значений расстояния от квартиры до центра города (м)', fontsize=12)\n",
    "# установка заголовка для графика\n",
    "plt.xlabel('Расстояние до центра города в метрах', fontsize=10)\n",
    "# установка подписи для горизонтальной оси графика\n",
    "plt.ylabel('Количество квартир', fontsize=10);\n",
    "# установка подписи для вертикальной оси графика"
   ]
  },
  {
   "cell_type": "code",
   "execution_count": null,
   "metadata": {},
   "outputs": [],
   "source": [
    "data.city_centers_nearest.hist(bins = 15, figsize = (15,3), range = (20000,60000), ec='white')\n",
    "# построение гистограммы для значений в столбце ‘city_centers_nearest’ в датафрейме ‘data’\n",
    "plt.title('Распределение значений расстояния от квартиры до центра города (м)', fontsize=12)\n",
    "# установка заголовка для графика\n",
    "plt.xlabel('Расстояние до центра города в метрах', fontsize=10)\n",
    "# установка подписи для горизонтальной оси графика\n",
    "plt.ylabel('Количество квартир', fontsize=10);\n",
    "# установка подписи для вертикальной оси графика"
   ]
  },
  {
   "cell_type": "markdown",
   "metadata": {},
   "source": [
    "Все квартиры с расстоянием до центра города более 36 км, можно считать выбросами. Удалим аномальные значения расстояния до центра города. Сохраним данные без выбросов в переменную `filtered_data`."
   ]
  },
  {
   "cell_type": "code",
   "execution_count": null,
   "metadata": {},
   "outputs": [],
   "source": [
    "filtered_data = filtered_data.drop(filtered_data[filtered_data['city_centers_nearest'] > 36000].index)\n",
    "# удаление строк из датафрейма ‘data’, где значения в столбце ‘city_centers_nearest’ больше, чем 36000\n",
    "# сохранение данных в переменную ‘filtered_data’"
   ]
  },
  {
   "cell_type": "markdown",
   "metadata": {},
   "source": [
    "Выведем характеристики распределения значений расстояния до центра города после удаления выбросов."
   ]
  },
  {
   "cell_type": "code",
   "execution_count": null,
   "metadata": {},
   "outputs": [],
   "source": [
    "round(filtered_data['city_centers_nearest'].describe().to_frame(), 2)\n",
    "# вывод статистической информации о значениях столбца ‘city_centers_nearest’"
   ]
  },
  {
   "cell_type": "markdown",
   "metadata": {},
   "source": [
    "Построим гистограмму распределения расстояний от квартиры до центра города."
   ]
  },
  {
   "cell_type": "code",
   "execution_count": null,
   "metadata": {},
   "outputs": [],
   "source": [
    "filtered_data['city_centers_nearest'].hist(bins=30, figsize=(12,3), ec='white', legend=False)\n",
    "# построение гистограммы для значений в столбце ‘city_centers_nearest’ в датафрейме ‘filtered_data’\n",
    "plt.title('Распределение значений расстояния от квартиры до центра города (м)', fontsize=12)\n",
    "# установка заголовка для графика\n",
    "plt.xlabel('Расстояние до центра города в метрах', fontsize=10)\n",
    "# установка подписи для горизонтальной оси графика\n",
    "plt.ylabel('Количество квартир', fontsize=10);\n",
    "# установка подписи для вертикальной оси графика"
   ]
  },
  {
   "cell_type": "markdown",
   "metadata": {},
   "source": [
    "Некоторая часть объявлений о продаже квартиры не содержит данных о расстоянии до центра города. Среди имеющихся данных наиболее часто расстояние от квартиры до центра города находится в пределах примерно от 11 км до 16 км. Медиана равна 13 км, среднее арифметическое — 14 км. Редко встречаются квартиры, расстояние от которых до центра меньше 3 км и больше 18 км.\n",
    "\n",
    "Выведем характеристики распределения расстояний от квартиры до ближайшего парка и построим диаграмму размаха."
   ]
  },
  {
   "cell_type": "code",
   "execution_count": null,
   "metadata": {},
   "outputs": [],
   "source": [
    "data.boxplot('parks_nearest', vert = False, figsize=(17, 2))\n",
    "# построение диаграммы размаха для значений столбца ‘parks_nearest’\n",
    "plt.title('Размах значений расстояния от квартиры до ближайшего парка (м)', fontsize=12)\n",
    "# установка заголовка для графика\n",
    "plt.xlabel('Расстояние до ближайшего парка в м', fontsize=10)\n",
    "# установка подписи для горизонтальной оси графика\n",
    "round(data['parks_nearest'].describe().to_frame(), 2)\n",
    "# вывод статистической информации о значениях столбца ‘parks_nearest’"
   ]
  },
  {
   "cell_type": "markdown",
   "metadata": {},
   "source": [
    "Количество наблюдений в столбце с расстояниям от квартиры до ближайшего парка составляет 8 тыс. 44.\n",
    "\n",
    "Cреднее арифметическое набора значений, который описывает расстояние от квартиры до ближайшего парка, равно 491 м.\n",
    "\n",
    "Стандартное отклонение, описывающее разброс значений расстояния от квартиры до ближайшего парка относительно среднего, равно 341 м.\n",
    "\n",
    "Первый квартиль, левее которого лежит 25% данных, описывающих расстояние от квартиры до ближайшего парка, равен 288 м.\n",
    "\n",
    "Медиана равна 455 м: половина всех значений расстояния от квартиры до ближайшего парка меньше, чем 455 м, другая половина — больше.\n",
    "\n",
    "Третий квартиль, правее которого лежит 25% данных, описывающих расстояние от квартиры до ближайшего парка, равен 612 м.\n",
    "\n",
    "Нижний «ус» диаграммы размаха доходит до 1 м — это наименьшее значение расстояния от квартиры до ближайшего парка. Верхний «ус» заканчивается около 1 км 100 м, что составляет 1.5 межквартильного размаха, добавленного к третьему квартилю. Это приблизительная граница нормального размаха. То, что выходит за её пределы, считается выбросом. Высокие значения отображаются отдельными точками. Самый дальний выброс — это наибольшее значение расстояния от квартиры до ближайшего парка, равное 3 км 190 м.\n",
    "    \n",
    "Построим гистограммы распределения значений расстояния до ближайшего парка с определённым количеством корзин и диапазоном значений, чтобы установить, какие наблюдения можно отнести к выбросам."
   ]
  },
  {
   "cell_type": "code",
   "execution_count": null,
   "metadata": {},
   "outputs": [],
   "source": [
    "data.parks_nearest.hist(bins = 150, figsize = (15,3), ec='white')\n",
    "# построение гистограммы для значений в столбце ‘parks_nearest’ в датафрейме ‘data’\n",
    "plt.title('Распределение значений расстояния от квартиры до ближайшего парка (м)', fontsize=12)\n",
    "# установка заголовка для графика\n",
    "plt.xlabel('Расстояние до ближайшего парка в метрах', fontsize=10)\n",
    "# установка подписи для горизонтальной оси графика\n",
    "plt.ylabel('Количество квартир', fontsize=10);\n",
    "# установка подписи для вертикальной оси графика"
   ]
  },
  {
   "cell_type": "code",
   "execution_count": null,
   "metadata": {},
   "outputs": [],
   "source": [
    "data.parks_nearest.hist(bins = 150, figsize = (15,3), range = (1000,3000), ec='white')\n",
    "# построение гистограммы для значений в столбце ‘parks_nearest’ в датафрейме ‘data’\n",
    "plt.title('Распределение значений расстояния от квартиры до ближайшего парка (м)', fontsize=12)\n",
    "# установка заголовка для графика\n",
    "plt.xlabel('Расстояние до ближайшего парка в метрах', fontsize=10)\n",
    "# установка подписи для горизонтальной оси графика\n",
    "plt.ylabel('Количество квартир', fontsize=10);\n",
    "# установка подписи для вертикальной оси графика"
   ]
  },
  {
   "cell_type": "code",
   "execution_count": null,
   "metadata": {},
   "outputs": [],
   "source": [
    "data.parks_nearest.hist(bins = 15, figsize = (15,3), range = (1000,3000), ec='white')\n",
    "# построение гистограммы для значений в столбце ‘parks_nearest’ в датафрейме ‘data’\n",
    "plt.title('Распределение значений расстояния от квартиры до ближайшего парка (м)', fontsize=12)\n",
    "# установка заголовка для графика\n",
    "plt.xlabel('Расстояние до ближайшего парка в метрах', fontsize=10)\n",
    "# установка подписи для горизонтальной оси графика\n",
    "plt.ylabel('Количество квартир', fontsize=10);\n",
    "# установка подписи для вертикальной оси графика"
   ]
  },
  {
   "cell_type": "markdown",
   "metadata": {},
   "source": [
    "Все квартиры с расстоянием до ближайшего парка более 2.5 км, можно считать выбросами. Удалим аномальные значения расстояния до ближайшего парка. Сохраним данные без выбросов в переменную `filtered_data`."
   ]
  },
  {
   "cell_type": "code",
   "execution_count": null,
   "metadata": {},
   "outputs": [],
   "source": [
    "filtered_data = filtered_data.drop(filtered_data[filtered_data['parks_nearest'] > 2500].index)\n",
    "# удаление строк из датафрейма ‘data’, где значения в столбце ‘parks_nearest’ больше, чем 2.5\n",
    "# сохранение данных в переменную ‘filtered_data’"
   ]
  },
  {
   "cell_type": "markdown",
   "metadata": {},
   "source": [
    "Выведем характеристики распределения значений расстояния до ближайшего парка после удаления выбросов."
   ]
  },
  {
   "cell_type": "code",
   "execution_count": null,
   "metadata": {},
   "outputs": [],
   "source": [
    "round(filtered_data['parks_nearest'].describe().to_frame(), 2)\n",
    "# вывод статистической информации о значениях столбца ‘parks_nearest’"
   ]
  },
  {
   "cell_type": "markdown",
   "metadata": {},
   "source": [
    "Определим наиболее часто встречающееся расстояние от квартиры до ближайшего парка."
   ]
  },
  {
   "cell_type": "code",
   "execution_count": null,
   "metadata": {},
   "outputs": [],
   "source": [
    "filtered_data['parks_nearest'].mode()\n",
    "# вычисление моды в столбце ‘parks_nearest’"
   ]
  },
  {
   "cell_type": "markdown",
   "metadata": {},
   "source": [
    "Всех чаще встречается расстояние от квартиры до ближайшего парка, равное 441 м.\n",
    "\n",
    "Построим гистограмму распределения расстояний от квартиры до ближайшего парка."
   ]
  },
  {
   "cell_type": "code",
   "execution_count": null,
   "metadata": {},
   "outputs": [],
   "source": [
    "filtered_data['parks_nearest'].hist(bins=30, figsize=(12,3), ec='white', legend=False)\n",
    "# построение гистограммы для значений в столбце ‘parks_nearest’ в датафрейме ‘filtered_data’\n",
    "plt.title('Распределение значений расстояния от квартиры до ближайшего парка (м)', fontsize=12)\n",
    "# установка заголовка для графика\n",
    "plt.xlabel('Расстояние до ближайшего парка в метрах', fontsize=10)\n",
    "# установка подписи для горизонтальной оси графика\n",
    "plt.ylabel('Количество квартир', fontsize=10);\n",
    "# установка подписи для вертикальной оси графика"
   ]
  },
  {
   "cell_type": "markdown",
   "metadata": {},
   "source": [
    "У большей части объявлений о продаже квартиры нет данных о расстоянии до ближайшего парка. Среди имеющихся данных чаще всего расстояние от квартиры до ближайшего парка не превышает 750 м. Из немногих значений расстояния до ближайшего парка, которые существуют, наиболее распространённым является 441 м, медианным — 458 м, средним — 491 м. Встречается немного объявлений, содержащих информацию о расстоянии от квартиры до ближайшего парка, где оно превышает 1 км."
   ]
  },
  {
   "cell_type": "markdown",
   "metadata": {},
   "source": [
    "<div class=\"alert alert-warning\", style=\"border:solid coral 3px; padding: 20px\">\n",
    "<font size=\"4\", color = \"DimGrey\"><b>⚠️ Комментарий ревьюера</b></font>\n",
    "    <br /> \n",
    "    <font size=\"3\", color = \"black\">\n",
    "<br />  У большей части объявлений нет данных в этой колонке, стоит поправить вывод\n",
    "        \n",
    "    Наиболее часто расстояние от квартиры до ближайшего парка находится в пределах примерно от 375 м до 550 м. Наиболее распространённое расстояние до ближайшего парка равно 440 м. Медиана равна 456 м, среднее арифметическое — 468 м. Достаточно редко встречаются квартиры, удалённость которых от ближайшего парка больше 1 км."
   ]
  },
  {
   "cell_type": "markdown",
   "metadata": {},
   "source": [
    "# example 1"
   ]
  },
  {
   "cell_type": "markdown",
   "metadata": {},
   "source": [
    "#### example 3"
   ]
  },
  {
   "cell_type": "markdown",
   "metadata": {},
   "source": [
    "##### example 4"
   ]
  },
  {
   "cell_type": "markdown",
   "metadata": {},
   "source": [
    "<div style=\"border:solid steelblue 3px; padding: 20px\">\n",
    "<font size=\"4\">🍕<b> Комментарий ревьюера</b></font>\n",
    "<br /> \n",
    "<font size=\"3\", color = \"black\">\n",
    "<br />\n",
    "Стоит выделять разделы проекта заголовками разного уровня, за уровень отвечает количество знаков #\n",
    "    \n",
    "        # example 1\n",
    "\n",
    "        #### example 3\n",
    "\n",
    "        ##### example 4\n",
    "    \n",
    "Пожалуйста, воспользуйся методичкой по оформлению проектов. Ее можно найти в блоке курса: Полезные инструкции для учёбы - Оформление проекта - Рекомендации по выполнению проектов    "
   ]
  },
  {
   "cell_type": "markdown",
   "metadata": {},
   "source": [
    "### Изучение скорости продажи квартиры"
   ]
  },
  {
   "cell_type": "markdown",
   "metadata": {},
   "source": [
    "Выведем характеристики распределения квартир по количеству дней, в течение которых было размещено объявление о продаже, и построим диаграмму размаха."
   ]
  },
  {
   "cell_type": "code",
   "execution_count": null,
   "metadata": {},
   "outputs": [],
   "source": [
    "data.boxplot('days_exposition', vert = False, figsize=(17, 2))\n",
    "# построение диаграммы размаха для значений столбца ‘days_exposition’\n",
    "plt.title('Размах значений количества дней, в течение которых было размещено объявление о продаже квартиры', fontsize=12)\n",
    "# установка заголовка для графика\n",
    "plt.xlabel('Количество дней', fontsize=10)\n",
    "# установка подписи для горизонтальной оси графика\n",
    "round(data['days_exposition'].describe().to_frame())\n",
    "# вывод статистической информации о значениях столбца ‘days_exposition’"
   ]
  },
  {
   "cell_type": "markdown",
   "metadata": {},
   "source": [
    "Количество наблюдений в столбце с количеством дней, в течение которых было размещено объявление о продаже квартиры, составляет 20 тыс. 440.\n",
    "\n",
    "Cреднее арифметическое набора значений, который описывает количество дней, в течение которых было размещено объявление о продаже квартиры, равно 181.\n",
    "\n",
    "Стандартное отклонение, описывающее разброс значений количества дней, в течение которых было размещено объявление о продаже квартиры, относительно среднего, равно 220.\n",
    "\n",
    "Первый квартиль, левее которого лежит 25% данных, описывающих количество дней, в течение которых было размещено объявление о продаже квартиры, равен 45.\n",
    "\n",
    "Медиана равна 95: половина всех значений количества дней, в течение которых было размещено объявление о продаже квартиры, меньше, чем 95, другая половина — больше.\n",
    "\n",
    "Третий квартиль, правее которого лежит 25% данных, описывающих количество дней, в течение которых было размещено объявление о продаже квартиры, равен 232.\n",
    "\n",
    "Нижний «ус» диаграммы размаха доходит до 1 — это наименьшее количество дней, в течение которых было размещено объявление о продаже квартиры. Верхний «ус» заканчивается около 510, что составляет 1.5 межквартильного размаха, добавленного к третьему квартилю. Это приблизительная граница нормального размаха. То, что выходит за её пределы, считается выбросом. Высокие значения отображаются отдельными точками, но они в начале сливаются в одну толстую линию, так как выбросов очень много. Тем не менее, значения, отсеченные верхним «усом», встречаются редко. Самый дальний выброс — это наибольшее количество дней, в течение которых было размещено объявление о продаже квартиры, равное 1580.\n",
    "    \n",
    "Построим гистограммы распределения значений количества дней, в течение которых было размещено объявление о продаже квартиры, с определённым количеством корзин и диапазоном значений, чтобы установить, какие наблюдения можно отнести к выбросам."
   ]
  },
  {
   "cell_type": "code",
   "execution_count": null,
   "metadata": {},
   "outputs": [],
   "source": [
    "data.days_exposition.hist(bins = 150, figsize = (15,3), ec='white')\n",
    "# построение гистограммы для значений в столбце ‘days_exposition’ в датафрейме ‘data’\n",
    "plt.title('Распределение квартир по количеству дней, в течение которых было размещено объявление о продаже', fontsize=12)\n",
    "# установка заголовка для графика\n",
    "plt.xlabel('Количество дней, в течение которых было размещено объявление о продаже квартиры (от публикации до снятия)', \n",
    "           fontsize=10)\n",
    "# установка подписи для горизонтальной оси графика\n",
    "plt.ylabel('Количество квартир', fontsize=10);\n",
    "# установка подписи для вертикальной оси графика"
   ]
  },
  {
   "cell_type": "code",
   "execution_count": null,
   "metadata": {
    "scrolled": true
   },
   "outputs": [],
   "source": [
    "data.days_exposition.hist(bins = 150, figsize = (15,3), range = (600,1400), ec='white')\n",
    "# построение гистограммы для значений в столбце ‘days_exposition’ в датафрейме ‘data’\n",
    "plt.title('Распределение квартир по количеству дней, в течение которых было размещено объявление о продаже', fontsize=12)\n",
    "# установка заголовка для графика\n",
    "plt.xlabel('Количество дней, в течение которых было размещено объявление о продаже квартиры (от публикации до снятия)', \n",
    "           fontsize=10)\n",
    "# установка подписи для горизонтальной оси графика\n",
    "plt.ylabel('Количество квартир', fontsize=10);\n",
    "# установка подписи для вертикальной оси графика"
   ]
  },
  {
   "cell_type": "code",
   "execution_count": null,
   "metadata": {},
   "outputs": [],
   "source": [
    "data.days_exposition.hist(bins = 15, figsize = (15,3), range = (600,1400), ec='white')\n",
    "# построение гистограммы для значений в столбце ‘days_exposition’ в датафрейме ‘data’\n",
    "plt.title('Распределение квартир по количеству дней, в течение которых было размещено объявление о продаже', fontsize=12)\n",
    "# установка заголовка для графика\n",
    "plt.xlabel('Количество дней, в течение которых было размещено объявление о продаже квартиры (от публикации до снятия)', \n",
    "           fontsize=10)\n",
    "# установка подписи для горизонтальной оси графика\n",
    "plt.ylabel('Количество квартир', fontsize=10);\n",
    "# установка подписи для вертикальной оси графика"
   ]
  },
  {
   "cell_type": "markdown",
   "metadata": {},
   "source": [
    "Все объявления о продаже квартиры, срок размещения которых превышает 800 дней, можно считать выбросами. Удалим аномальные значения количества дней, в течение которых было размещено объявление о продаже квартиры. Сохраним данные без выбросов в переменную `filtered_data`."
   ]
  },
  {
   "cell_type": "code",
   "execution_count": null,
   "metadata": {},
   "outputs": [],
   "source": [
    "filtered_data = filtered_data.drop(filtered_data[filtered_data['days_exposition'] > 800].index)\n",
    "# удаление строк из датафрейма ‘data’, где значения в столбце ‘days_exposition’ больше, чем 800\n",
    "# сохранение данных в переменную ‘filtered_data’"
   ]
  },
  {
   "cell_type": "markdown",
   "metadata": {},
   "source": [
    "Выведем характеристики распределения значений количества дней, в течение которых было размещено объявление о продаже квартиры, после удаления выбросов."
   ]
  },
  {
   "cell_type": "code",
   "execution_count": null,
   "metadata": {},
   "outputs": [],
   "source": [
    "round(filtered_data['days_exposition'].describe().to_frame())\n",
    "# вывод статистической информации о значениях столбца ‘days_exposition’"
   ]
  },
  {
   "cell_type": "markdown",
   "metadata": {},
   "source": [
    "Определим наиболее часто встречающееся количество дней, в течение которых было размещено объявление о продаже квартиры."
   ]
  },
  {
   "cell_type": "code",
   "execution_count": null,
   "metadata": {},
   "outputs": [],
   "source": [
    "filtered_data['days_exposition'].mode()\n",
    "# вычисление моды в столбце ‘days_exposition’"
   ]
  },
  {
   "cell_type": "markdown",
   "metadata": {},
   "source": [
    "Всех чаще в течение 45 дней было размещено объявление о продаже квартиры.\n",
    "\n",
    "Построим гистограмму распределения квартир по количеству дней, в течение которых было размещено объявление о продаже."
   ]
  },
  {
   "cell_type": "code",
   "execution_count": null,
   "metadata": {},
   "outputs": [],
   "source": [
    "filtered_data['days_exposition'].hist(bins=30, figsize=(12,3), ec='white', legend=False)\n",
    "# построение гистограммы для значений в столбце ‘days_exposition’ в датафрейме ‘filtered_data’\n",
    "plt.title('Распределение квартир по количеству дней, в течение которых было размещено объявление о продаже', fontsize=12)\n",
    "# установка заголовка для графика\n",
    "plt.xlabel('Количество дней, в течение которых было размещено объявление о продаже квартиры (от публикации до снятия)', \n",
    "           fontsize=10)\n",
    "# установка подписи для горизонтальной оси графика\n",
    "plt.ylabel('Количество квартир', fontsize=10);\n",
    "# установка подписи для вертикальной оси графика"
   ]
  },
  {
   "cell_type": "markdown",
   "metadata": {},
   "source": [
    "Сроки публикации объявлений о продажи квартир в Санкт-Петербурге и Ленинградской области в сервисе Яндекс Недвижимость:\n",
    "- бесплатное объявление — 365 дней (1 год);\n",
    "- платное объявление — 30 дней (1 месяц) с автопродлением до снятия объявления с публикации.\n",
    "\n",
    "Скорость продажи квартир:\n",
    "- от 1 дня до примерно 40 дней (до 1 месяца и 10 дней) — быстрая продажа квартиры;\n",
    "- от 40 дней до 200 дней (до полугода и 20 дней) — средняя продажа квартиры;\n",
    "- от 200 дней до 500 дней (до 1 года и 4.5 месяцев) — долгая продажа квартиры;\n",
    "- дольше 500 дней (от 1 года и 4.5 месяцев) — необычно долгий срок, возможно, квартиру уже продали и забыли снять объявление с публикации.\n",
    "\n",
    "Наиболее распространённое количество дней, в течение которых было размещено объявление о продаже квартиры, равно 45 (1.5 месяца).\n",
    "\n",
    "Медианное время продажи квартиры составляет 90 дней (3 месяца). В среднем продажа квартиры занимает 154 дня (5 месяцев). Медиана и среднее значение не совпадают.\n",
    "\n",
    "Распределение имеет плавный длинный «хвост» в положительную сторону из-за наличия больших значений. До удаления аномально больших значений наибольшим количеством дней, в течение которых было размещено объявление о продаже квартиры, являлось 1580 дней (4 года и 4 месяца), после удаления — 800 дней (2 года, 2 месяца и 8 дней — это почти на 2 года больше, чем средняя продажа).\n",
    "\n",
    "Скорость продажи квартиры может зависеть от состояния квартиры, её стоимости, расположения, рекламы, показов.\n",
    "    \n",
    "Посмотрим на изменение средней скорости продаж квартир по годам."
   ]
  },
  {
   "cell_type": "code",
   "execution_count": null,
   "metadata": {},
   "outputs": [],
   "source": [
    "speed_of_sales_by_year = filtered_data.pivot_table(index='year_exposition', \n",
    "                                                   values='days_exposition', \n",
    "                                                   aggfunc='mean')\n",
    "# создание сводной таблицы, где для каждого года\n",
    "# вычисляется среднее количество дней, в течение которых было размещено объявление о продаже квартиры\n",
    "speed_of_sales_by_year.plot(marker='o',\n",
    "    grid=True, legend=False, figsize=(12,3))\n",
    "# создание графика с годами продажи квартир на оси x и средним количеством дней продажи на оси y\n",
    "plt.title('Средняя скорость продаж квартир по годам', fontsize=12)\n",
    "# установка заголовка для графика\n",
    "plt.xlabel('Год', fontsize=10)\n",
    "# установка подписи для горизонтальной оси графика\n",
    "plt.ylabel('Средн. кол-во дней продажи квартир', fontsize=10)\n",
    "# установка подписи для вертикальной оси графика\n",
    "round(speed_of_sales_by_year)\n",
    "# вывод сводной таблицы"
   ]
  },
  {
   "cell_type": "markdown",
   "metadata": {},
   "source": [
    "С 2014 по 2019 гг. средняя скорость продаж квартир увеличивалась. В 2014 году квартиры в среднем продавались за 626 дней (1 год 8 месяцев и 16 дней), в 2015 году — за 465 дней (1 год 3 месяца и 8 дней), в 2016 году — за 279 дней (9 месяцев 4 дня), в 2017 году — за 157 дней (5 месяцев и 4 дня), в 2018 году — за 94 дня (3 месяца и 3 дня), в 2019 году — за 31 день (1 месяц). Таким образом, в 2014 г. в среднем продажа квартир занимала почти 2 года, а в 2019 г. — всего лишь месяц. Возможные причины увеличения средней скорости продаж квартир с годами:\n",
    "- Развитие онлайн-продаж и цифровых технологий в сфере недвижимости.\n",
    "- Улучшение экономической ситуации, рост доходов населения.\n",
    "- Развитие транспортной инфраструктуры и улучшение доступности новостроек.\n",
    "- Повышение качества строительства и благоустройства жилых комплексов.\n",
    "- Повышение интереса к инвестициям в недвижимость.\n",
    "- Развитие ипотечного кредитования и снижение процентных ставок по кредитам.\n",
    "- Рост популярности программ субсидирования ипотеки и льготной ипотеки для отдельных категорий граждан."
   ]
  },
  {
   "cell_type": "markdown",
   "metadata": {},
   "source": [
    "<div class=\"alert alert-success\">\n",
    "<font size=\"4\", color= \"seagreen\"><b>✔️ Комментарий ревьюера в2</b></font>\n",
    "    <br /> \n",
    "    <font size=\"3\", color = \"black\">\n",
    "<br />Все верно, скорость продаж уменьшается, квартиры продаются быстрее. Только использовать с осторожностью, у нас еще больше 3000 непроданных квартир, которых нет в статистике о средней скорости продаж"
   ]
  },
  {
   "cell_type": "markdown",
   "metadata": {},
   "source": [
    "<div class=\"alert alert-warning\", style=\"border:solid coral 3px; padding: 20px\">\n",
    "<font size=\"4\", color = \"DimGrey\"><b>⚠️Комментарий ревьюера</b></font>\n",
    "    <br /> \n",
    "    <font size=\"3\", color = \"black\">\n",
    "<br />\n",
    "\n",
    "        \n",
    "__Интересно посмотреть на изменение средней  скорости продаж по годам__"
   ]
  },
  {
   "cell_type": "code",
   "execution_count": null,
   "metadata": {},
   "outputs": [],
   "source": [
    "# check\n",
    "# Моды на сырых данных\n",
    "\n",
    "try:\n",
    "    df_check = pd.read_csv('/datasets/real_estate_data.csv', sep = '\\t')\n",
    "except:    \n",
    "    df_check = pd.read_csv('real_estate_data.csv', sep='\\t') \n",
    "    \n",
    "df_check['days_exposition'].value_counts().to_frame().head(20).plot(kind = 'barh', figsize = (15,6), rot = 0);"
   ]
  },
  {
   "cell_type": "markdown",
   "metadata": {},
   "source": [
    "<div class=\"alert alert-success\">\n",
    "<font size=\"4\", color= \"seagreen\"><b>✔️ Комментарий ревьюера в2</b></font>\n",
    "    <br /> \n",
    "    <font size=\"3\", color = \"black\">\n",
    "<br /> Моды на сырых данных\n",
    "        \n",
    "        Мода (Mo) представляет собой значение изучаемого признака, повторяющееся с наибольшей частотой, т.е. мода – значение признака, встречающееся чаще всего. Медианой (Me) называется значение признака, приходящееся на середину ранжированной (упорядоченной) совокупности, т.е. медиана – центральное значение вариационного ряда.\n",
    "        \n",
    "Выделяются моды на 45 и 60 дней, а значения на 44 и 45 дней, явно имеет техническую причину снятия, из-за формата числа \n",
    "        \n",
    "В нашем проекте — моды, из-за подозрения что это техническое снятие с продаж, могут искажать реальный расчет скорости продажи квартиры\n",
    "        \n",
    "второе предположение о причине появления подобных значений — результат деятельности роботов агентств недвижимости, которые обновляют свои предложения с определенной частотой        \n",
    "        \n",
    "полностью из проекта удалять их не стоит, можно временно исключить из расчета скорости продаж"
   ]
  },
  {
   "cell_type": "markdown",
   "metadata": {},
   "source": [
    "### Анализ данных после удаления выбросов"
   ]
  },
  {
   "cell_type": "markdown",
   "metadata": {},
   "source": [
    "Выведем количество элементов в датафрейме до и после удаления выбросов, а также количество и долю элементов, которые были удалены из датафрейма."
   ]
  },
  {
   "cell_type": "code",
   "execution_count": null,
   "metadata": {
    "scrolled": true
   },
   "outputs": [],
   "source": [
    "print('Количество элементов в датафрейме до удаления выбросов:', len(data))\n",
    "# вывоод длины данных в датафрейме ‘data’\n",
    "print('Количество элементов в датафрейме после удаления выбросов:', len(filtered_data))\n",
    "# вывоод длины данных в датафрейме ‘filtered_data’\n",
    "print('Количество удалённых элементов из датафрейма:', len(data) - len(filtered_data))\n",
    "print('Доля удалённых элементов из набора данных:', round(100 - (len(filtered_data) / len(data)) * 100), '%')\n",
    "# вывод округлённого значения, равного разнице между числом 100 \n",
    "# и отношением количества элементов в датафрейме ‘filtered_data’ \n",
    "# к количеству элементов в датафрейме ‘data’, умноженному на 100"
   ]
  },
  {
   "cell_type": "markdown",
   "metadata": {},
   "source": [
    "В датафрейме после удаления выбросов стало на 2.1 тыс. элементов меньше. Доля удалённых выбросов составила 9%."
   ]
  },
  {
   "cell_type": "markdown",
   "metadata": {},
   "source": [
    "#### check gap"
   ]
  },
  {
   "cell_type": "code",
   "execution_count": null,
   "metadata": {},
   "outputs": [],
   "source": [
    "# check\n",
    "filtered_data.info()"
   ]
  },
  {
   "cell_type": "markdown",
   "metadata": {},
   "source": [
    "<div class=\"alert alert-d anger\">\n",
    "<font size=\"4\"><b>❌ Комментарий ревьюера</b></font>\n",
    "    <br /> \n",
    "    <font size=\"3\", color = \"black\">\n",
    "<br />\n",
    "стоит сменить тип данных в \n",
    "        \n",
    "        6   floors_total             21177 non-null  float64     \n",
    "        \n",
    "здесь пропуски можно удалить, кол-во их минимально ⬆⬆⬆\n",
    "         "
   ]
  },
  {
   "cell_type": "markdown",
   "metadata": {},
   "source": [
    "<div class=\"alert alert-success\">\n",
    "<font size=\"4\", color= \"seagreen\"><b>✔️ Комментарий ревьюера</b></font>\n",
    "    <br /> \n",
    "    <font size=\"3\", color = \"black\">\n",
    "<br />\n",
    "\n",
    "__проверим какие аномалии остались__ таблица ниже"
   ]
  },
  {
   "cell_type": "markdown",
   "metadata": {},
   "source": [
    "Выведем количество объявлений о продаже квартиры, минимальное, медианное и максимальное значение для некоторых параметров квартиры (общей площади, жилой площади, площади кухни, стоимости квартиры, числа комнат, высоты потолков, количества этажей, расстояния до центра города, расстояния до ближайшего парка, срока публикации объявления о продаже квартиры) до удаления выбросов."
   ]
  },
  {
   "cell_type": "code",
   "execution_count": null,
   "metadata": {},
   "outputs": [],
   "source": [
    "data[['total_area', 'living_area',\n",
    "      'kitchen_area', 'last_price',\n",
    "      'rooms', 'ceiling_height',\n",
    "      'floors_total', 'city_centers_nearest', \n",
    "      'parks_nearest', 'days_exposition']].apply(['count', \n",
    "                               'min',\n",
    "                               'median',\n",
    "                               'max']).style.format(\"{:,.2f}\")\n",
    "# расчёт сводной статистики (количество наблюдений, минимальное, медианное и максимальное значение) \n",
    "# для выбранных параметров квартиры в датафрейме ‘data’"
   ]
  },
  {
   "cell_type": "markdown",
   "metadata": {},
   "source": [
    "<div class=\"alert alert-success\">\n",
    "<font size=\"4\", color= \"seagreen\"><b>✔️ Комментарий ревьюера в2</b></font>\n",
    "    <br /> \n",
    "    <font size=\"3\", color = \"black\">\n",
    "<br />принимается, табличка стала твоей собственостью 🤝"
   ]
  },
  {
   "cell_type": "markdown",
   "metadata": {},
   "source": [
    "Выведем количество объявлений о продаже квартиры, минимальное, медианное и максимальное значение для некоторых параметров квартиры после удаления выбросов."
   ]
  },
  {
   "cell_type": "code",
   "execution_count": null,
   "metadata": {
    "scrolled": false
   },
   "outputs": [],
   "source": [
    "filtered_data[['total_area', 'living_area',\n",
    "               'kitchen_area', 'last_price',\n",
    "               'rooms', 'ceiling_height',\n",
    "               'floors_total', 'city_centers_nearest', \n",
    "               'parks_nearest', 'days_exposition']].apply(['count', \n",
    "                                       'min', \n",
    "                                       'median', \n",
    "                                       'max']).style.format(\"{:,.2f}\")\n",
    "# расчёт сводной статистики (количество объявлений, минимальное, медианное и максимальное значение) \n",
    "# для выбранных параметров квартиры в датафрейме ‘filtered_data’"
   ]
  },
  {
   "cell_type": "code",
   "execution_count": null,
   "metadata": {},
   "outputs": [],
   "source": [
    "# check\n",
    "filtered_data.hist(column = 'days_exposition', bins = 50, figsize = (15,3), range = (0,5));\n",
    "\n",
    "filtered_data.hist(column = 'days_exposition', bins = 50, figsize = (15,3), range = (0,5))\n",
    "plt.ylim(0, 40);"
   ]
  },
  {
   "cell_type": "markdown",
   "metadata": {},
   "source": [
    "<div class=\"alert alert-danger\">\n",
    "<font size=\"4\"><b>❌ Комментарий ревьюера в2</b></font>\n",
    "    <br /> \n",
    "    <font size=\"3\", color = \"black\">\n",
    "<br />Отличная работа, молодец\n",
    "        \n",
    "        маленький штрих — остались редкости в  скорости продаж: один или два дня"
   ]
  },
  {
   "cell_type": "markdown",
   "metadata": {},
   "source": [
    "<div class=\"alert alert-dang er\">\n",
    "<font size=\"4\"><b>❌ Комментарий ревьюера</b></font>\n",
    "    <br /> \n",
    "    <font size=\"3\", color = \"black\">\n",
    "<br />остались аномалии и редкости (в т.ч. и хвосты) в колонках: \n",
    "        \n",
    "         'days_exposition',  'living_area',  'kitchen_area', 'floors_total'\n",
    "        \n",
    "стоит обратить внимание на минимальные и максимальные значения в выборке и учесть наличие пропусков при фильтрации данных\n",
    "        \n"
   ]
  },
  {
   "cell_type": "markdown",
   "metadata": {},
   "source": [
    "<div class=\"alert alert-warning\", style=\"border:solid coral 3px; padding: 20px\">\n",
    "<font size=\"4\", color = \"DimGrey\"><b>⚠️ Комментарий ревьюера</b></font>\n",
    "    <br /> \n",
    "    <font size=\"3\", color = \"black\">\n",
    "<br />Доп. задание, на твое усмотрение — сможешь добавить в таблицу расчет медианного значения?\n",
    "        \n",
    "        (\n",
    "            data[['rooms', 'total_area', 'ceiling_height', 'days_exposition', 'last_price', 'living_area',  'kitchen_area',\n",
    "                  'floor', 'floors_total']]\n",
    "            .apply (['count', 'min', 'max'])   \n",
    "            .style.format(\"{:,.2f}\")\n",
    "        )"
   ]
  },
  {
   "cell_type": "markdown",
   "metadata": {},
   "source": [
    "<div class=\"alert alert-success\">\n",
    "<font size=\"4\", color= \"seagreen\"><b>✔️ Комментарий ревьюера</b></font>\n",
    "    <br /> \n",
    "    <font size=\"3\", color = \"black\">\n",
    "<br />Для выполнения пункта 4.1. (или в старой версии п.2.4) существует два подхода\n",
    "        \n",
    "Можно механически бороться с выбросами (при помощи межквартильного размаха), ...\n",
    "               \n",
    "основная проблема такого подхода — не учитывается неоднородность нашей выборки: у нас здесь и малые поселки, и вторая столица страны, и исторический фонд и массовая застройка, и однушки и довольно большое кол-во многокомнатных квартир, или наоборот одна две квартиры с количеством комнат больше 7-ми ...\n",
    "        \n",
    "\n",
    "        \n",
    "если бы у нас в таблице были бы только однокомнатные квартиры из определенного района массовой застройки, тогда да, мы бы боролись с выбросами традиционными способами, при нашем многообразии населенных пунктов, многокомнатности такие подходы не работают... т.е. они работают, но это усложнит наш проект — придется разбить и объединить записи нашей таблицы по нескольким параметрам (кол-во комнат, район, и т.д.), а затем только выполнять все остальные пункты на каждой отдельной выборке\n",
    "        \n",
    "Остается другой подход — убираем редкие значения и следим за количеством потерь... \n",
    "         \n",
    "Для выборки из 23-х тысяч значений, несколько записей со стоимостью квадратного метра выше 1-го млн. руб., довольно редкое явление\n",
    "\n",
    "Хороший пример, высота потолков, которую мы отрезаем по нижней и верхней планке, это скорее аномальные записи, посмотрим на другой аспект — на редкости: кол-во комнат\n",
    "\n",
    "__т.е. мы не говорим о том, что квартир с кол-ом комнат выше 7 не бывает, мы говорим, что для нашего исследования это редкие выбивающиеся из общей картины уникальные объекты, по которым необходимо проводить отдельную работу ...__\n",
    "        \n",
    "подобным образом рассматриваем и остальные параметры\n",
    "        \n",
    "наши помощники\n",
    "        \n",
    "1. гистограммы, с хорошим масштабом\n",
    "2. метод describe() или облегченная версия, пример выше\n",
    "3. метод value_counts()\n",
    "        \n",
    "плюс жизненный опыт "
   ]
  },
  {
   "cell_type": "code",
   "execution_count": null,
   "metadata": {},
   "outputs": [],
   "source": [
    "# check\n",
    "\n",
    "try:\n",
    "    df_check = pd.read_csv('https://code.s3.yandex.net/datasets/real_estate_data.csv', sep='\\t')\n",
    "# если не получилось прочитать файл из локальной папки, то загружаем данные из сети\n",
    "except:\n",
    "    df_check = pd.read_csv('real_estate_data.csv', sep='\\t')"
   ]
  },
  {
   "cell_type": "code",
   "execution_count": null,
   "metadata": {},
   "outputs": [],
   "source": [
    "# check\n",
    "df_check.rooms.value_counts().to_frame()"
   ]
  },
  {
   "cell_type": "code",
   "execution_count": null,
   "metadata": {
    "scrolled": false
   },
   "outputs": [],
   "source": [
    "# check\n",
    "df_check.total_area.hist(bins = 150, figsize = (15,3));"
   ]
  },
  {
   "cell_type": "markdown",
   "metadata": {},
   "source": [
    "<div class=\"alert alert-success\">\n",
    "<font size=\"4\", color= \"seagreen\"><b>✔️ Комментарий ревьюера</b></font>\n",
    "    <br /> \n",
    "    <font size=\"3\", color = \"black\">\n",
    "<br />т.е. все квартиры менее 20-ти и более 250-ти квадратных метров можно считать редкостями\n",
    "       "
   ]
  },
  {
   "cell_type": "code",
   "execution_count": null,
   "metadata": {
    "scrolled": true
   },
   "outputs": [],
   "source": [
    "# check\n",
    "df_check.total_area.hist(bins = 150, figsize = (15,3), range = (180,500));"
   ]
  },
  {
   "cell_type": "code",
   "execution_count": null,
   "metadata": {
    "scrolled": false
   },
   "outputs": [],
   "source": [
    "# check\n",
    "df_check.total_area.hist(bins = 15, figsize = (15,3), range = (180,500));"
   ]
  },
  {
   "cell_type": "code",
   "execution_count": null,
   "metadata": {
    "scrolled": false
   },
   "outputs": [],
   "source": [
    "# check\n",
    "df_check.total_area.hist(bins = 15, figsize = (15,3), range = (0,25));"
   ]
  },
  {
   "cell_type": "markdown",
   "metadata": {},
   "source": [
    "<div class=\"alert alert-dan ger\">\n",
    "<font size=\"4\"><b>❌ Комментарий ревьюера</b></font>\n",
    "    <br /> \n",
    "    <font size=\"3\", color = \"black\">\n",
    "<br />Осталось завершить выполнение пункта 4.1 из брифа проекта (в старой версии п.2.4)\n",
    "\n",
    "В некоторых параметрах встречаются редкие и выбивающиеся значения. При построении гистограмм удалите их. Например, в столбце ceiling_height может быть указана высота потолков 25 м и 32 м. Логично предположить, что на самом деле это вещественные значения: 2.5 м и 3.2 м. Попробуйте обработать аномалии в этом и других столбцах, если они есть. Если природа аномалии понятна и данные действительно искажены, то восстановите    корректное значение. В противном случае удалите редкие и выбивающиеся значения. \n",
    "        \n",
    "__Критичный уровень потерь записей на этапе предобработки составляет 10%, оптимальный 5%__\n",
    "        \n",
    "Если при фильтрации одной колонки, на этом проекте, теряем больше одного процента данных от изначального объема, стоит еще раз пересмотреть условия фильтрации        "
   ]
  },
  {
   "cell_type": "code",
   "execution_count": null,
   "metadata": {},
   "outputs": [],
   "source": [
    "# check\n",
    "\n",
    "# Значения параметров объектов недвижимости на разных квантилях\n",
    "\n",
    "(\n",
    "    data[['rooms', 'total_area', 'ceiling_height', 'days_exposition', 'last_price', 'living_area',  \n",
    "        'kitchen_area', 'floor',   'floors_total']]\n",
    "    .quantile([0.0012, 0.01, .5, .99, .9988]) # выбираем размах в 0,9976 квантилей \n",
    "    .style.format(\"{:,.2f}\")\n",
    ")"
   ]
  },
  {
   "cell_type": "markdown",
   "metadata": {},
   "source": [
    "<div class=\"alert alert-success\">\n",
    "<font size=\"4\", color= \"seagreen\"><b>✔️ Комментарий ревьюера </b></font>\n",
    "    <br /> \n",
    "    <font size=\"3\", color = \"black\">\n",
    "<br />Квантили что это такое (первая ссылка иногда не открывается)\n",
    "        \n",
    "https://fin-accounting.ru/cfa/l1/quantitative/cfa-quartiles-quintiles-deciles-percentiles?ysclid=l7gy2kky4i156375632\n",
    "        \n",
    "https://www.codecamp.ru/blog/percentile-vs-quartile-vs-quantile/?ysclid=lg89wjm4zz267333250        \n",
    "        \n",
    "они помогают увидеть редкости и аномалии в данных"
   ]
  },
  {
   "cell_type": "markdown",
   "metadata": {},
   "source": [
    "### Определение факторов, влияющих на общую стоимость квартиры"
   ]
  },
  {
   "cell_type": "markdown",
   "metadata": {},
   "source": [
    "Рассчитаем корреляцию между стоимостью квартиры и общей площадью, жилой площадью, площадью кухни до удаления выбросов."
   ]
  },
  {
   "cell_type": "code",
   "execution_count": null,
   "metadata": {},
   "outputs": [],
   "source": [
    "factors = ['last_price',\n",
    "'total_area', \n",
    "'living_area', \n",
    "'kitchen_area']\n",
    "# создание списка с параметрами ‘last_price’, ‘total_area’, ‘living_area’, ‘kitchen_area’\n",
    "# сохранение в переменную ‘factors’\n",
    "round(data[factors].corr(), 2)\n",
    "# рассчёт корреляции между выбранными факторами в датафрейме ‘data’"
   ]
  },
  {
   "cell_type": "markdown",
   "metadata": {},
   "source": [
    "Коэффициент корреляции Пирсона позволяет численно оценить, насколько тесна взаимосвязь между переменными. Он принимает значения от -1 до 1.\n",
    "    \n",
    "Корреляция до удаления выбросов между стоимостью квартиры и общей площадью равна 0.65, между стоимостью квартиры и жилой площадью — 0.57, между стоимостью квартиры и площадью кухни — 0.52.\n",
    "    \n",
    "Рассчитаем корреляцию между стоимостью квартиры и общей площадью, жилой площадью, площадью кухни после удаления выбросов."
   ]
  },
  {
   "cell_type": "code",
   "execution_count": null,
   "metadata": {},
   "outputs": [],
   "source": [
    "round(filtered_data[factors].corr(), 2)\n",
    "# рассчёт коэффициентов корреляции между выбранными факторами в датафрейме ‘filtered_data’"
   ]
  },
  {
   "cell_type": "markdown",
   "metadata": {},
   "source": [
    "<div style>\n",
    "<font size=\"4\"><b></b></font>\n",
    "<font size=\"5\", color = \"black\">\n",
    "🤝"
   ]
  },
  {
   "cell_type": "markdown",
   "metadata": {},
   "source": [
    "Удаление выбросов сделало данные менее искаженными, привело к уменьшению разброса данных, что повлияло на коэффициент корреляции. После удаления выбросов увеличилась корреляция между стоимостью квартиры и общей площадью (на 0,12), жилой площадью (на 0,09), а также площадью кухни (на 0,04).\n",
    "\n",
    "Корреляция в 0.77 говорит о наличии достаточно сильной связи между стоимостью квартиры и общей площадью квартиры. В общем случае, чем больше общая площадь квартиры, тем больше её стоимость. Тем не менее, стоимость квартиры может не зависеть от общей площади из-за различных факторов, например, таких как местоположение, наличие инфраструктуры. Стоимость квартиры может определяться её состоянием, видом из окна и другими факторами, не связанными с площадью квартиры.\n",
    "\n",
    "Увеличение жилой площади квартиры и площади кухни, как правило, сопровождается увеличением стоимости квартиры, однако, это не всегда так. \n",
    "\n",
    "Взаимосвязь между стоимостью квартиры и жилой площадью квартиры равна 0.66, что меньше, чем взаимосвязь между стоимостью квартиры и общей площадью. Связь между стоимостью квартиры и общей площадью может быть больше, чем между стоимостью и жилой площадью, так как общая площадь обычно включает в себя все помещения в квартире, в том числе кухню, ванную комнату, кладовую и т.д., которые также могут влиять на стоимость.\n",
    "\n",
    "Корреляция между стоимостью квартиры и площадью кухни на 0.21 меньше корреляции между стоимостью квартиры и её общей площадью. Возможно, стоимость квартиры и общая площадь теснее связаны друг с другом, чем стоимость и площадь кухни, по причине того, что общая площадь квартиры является более значимым фактором при определении стоимости квартиры, так как она отражает общее пространство, доступное для жизни. Только по площади кухни нельзя судить о качестве и функциональности кухни и о квартире в целом.\n",
    "    \n",
    "Построим диаграмму рассеяния для стоимости квартиры и общей площади."
   ]
  },
  {
   "cell_type": "code",
   "execution_count": null,
   "metadata": {},
   "outputs": [],
   "source": [
    "filtered_data.plot(x='total_area', y ='last_price', kind ='scatter', figsize=(12, 3), s=5)\n",
    "# построение диаграммы рассеяния, на котором переменная ‘total_area’ отложена по оси x, переменная ‘last_price’ - по оси y \n",
    "plt.title('Зависимость стоимости квартиры от общей площади (м²)', fontsize=12)\n",
    "# установка заголовка для графика\n",
    "plt.xlabel('Общая площадь квартиры в квадратных метрах', fontsize=10)\n",
    "# установка подписи для горизонтальной оси графика\n",
    "plt.ylabel('Стоимость квартиры', fontsize=10)\n",
    "# установка подписи для вертикальной оси графика\n",
    "plt.ylim(0, 30000000)\n",
    "# установка пределов оси y на графике от 0 до 30 млн. (максимальная стоимость)\n",
    "print('Коэффициент корреляции Пирсона для стоимости квартиры и общей площади:', \n",
    "      round(filtered_data['last_price'].corr(filtered_data['total_area']), 2))\n",
    "# рассчёт корреляции между ‘last_price’ и ‘total_area’"
   ]
  },
  {
   "cell_type": "markdown",
   "metadata": {},
   "source": [
    "График иллюстрирует взаимосвязь между стоимостью квартиры и общей площадью квартиры. Есть основная масса точек с наиболее частыми сочетаниями стоимости квартиры и общей площади. С увеличением общей площади квартиры увеличивается и её стоимость, но это лишь в среднем. Можно найти примеры квартир с большой площадью и низкой стоимостью. Например, существует квартира, общая площадь которой равна 190 м², которая стоит всего 3 млн. 200 тыс. И, наоборот, есть дорогие квартиры с маленькой площадью, к примеру, квартира с общей площадью 33 м² и стоимостью 28 млн.\n",
    "    \n",
    "Построим график, отображающий частоту сочетаний определённой общей площади квартиры и стоимости."
   ]
  },
  {
   "cell_type": "code",
   "execution_count": null,
   "metadata": {},
   "outputs": [],
   "source": [
    "filtered_data.plot(x='total_area', y='last_price', kind='hexbin', gridsize=20, figsize=(12, 3), sharex=False, grid=True)\n",
    "# построение графика, поделённого на шестиугольные области, \n",
    "# на котором переменная ‘total_area’ отложена по оси x, переменная ‘last_price’ - по оси y\n",
    "plt.title('Зависимость стоимости квартиры от общей площади (м²) с отображением частотности', fontsize=12)\n",
    "# установка заголовка для графика\n",
    "plt.xlabel('Общая площадь квартиры в квадратных метрах', fontsize=10)\n",
    "# установка подписи для горизонтальной оси графика\n",
    "plt.ylabel('Стоимость квартиры', fontsize=10)\n",
    "# установка подписи для вертикальной оси графика\n",
    "plt.xlim(0, 200)\n",
    "# установка пределов оси x на графике от 0 до 200\n",
    "plt.ylim(0, 10000000)\n",
    "# установка пределов оси y на графике от 0 до 10 млн.\n",
    "print('Коэффициент корреляции Пирсона для стоимости квартиры и общей площади:', \n",
    "      round(filtered_data['last_price'].corr(filtered_data['total_area']), 2))\n",
    "# рассчёт корреляции между ‘last_price’ и ‘total_area’"
   ]
  },
  {
   "cell_type": "markdown",
   "metadata": {},
   "source": [
    "Смысл графика, поделённого на шестиугольные области, — отображение частотности. Повышенная частота сочетаний площади и стоимости квартиры указывает на закономерность.\n",
    "\n",
    "В самой «густой» тёмно-зелёной зоне (около 2 тыс. квартир) находятся квартиры с общей площадью примерно от 25 до 35 м² и стоимостью от 2 млн. 200 тыс. до 4 млн.\n",
    "    \n",
    "Построим диаграмму рассеяния для стоимости квартиры и жилой площади."
   ]
  },
  {
   "cell_type": "code",
   "execution_count": null,
   "metadata": {},
   "outputs": [],
   "source": [
    "filtered_data.plot(x='living_area', y ='last_price', kind ='scatter', figsize=(12, 3), s=5)\n",
    "# построение диаграммы рассеяния, на котором переменная ‘living_area’ отложена по оси x, переменная ‘last_price’ - по оси y\n",
    "plt.title('Зависимость стоимости квартиры от жилой площади (м²)', fontsize=12)\n",
    "# установка заголовка для графика\n",
    "plt.xlabel('Жилая площадь квартиры в квадратных метрах', fontsize=10)\n",
    "# установка подписи для горизонтальной оси графика\n",
    "plt.ylabel('Стоимость квартиры', fontsize=10)\n",
    "# установка подписи для вертикальной оси графика\n",
    "plt.ylim(0, 30000000)\n",
    "# установка пределов оси y на графике от 0 до 30 млн. (максимальная стоимость)\n",
    "print('Коэффициент корреляции Пирсона для стоимости квартиры и жилой площади:', \n",
    "      round(filtered_data['last_price'].corr(filtered_data['living_area']), 2))\n",
    "# рассчёт корреляции между ‘last_price’ и ‘living_area’"
   ]
  },
  {
   "cell_type": "markdown",
   "metadata": {},
   "source": [
    "На графике отображена взаимосвязь между стоимостью и жилой площадью квартиры. Существует основная масса точек с наиболее частыми сочетаниями стоимости квартиры и жилой площади. С увеличением жилой площади квартиры увеличивается и её стоимость, но это лишь в среднем. Можно найти примеры квартир с большой жилой площадью и низкой стоимостью, и наоборот, дорогие квартиры с маленькой жилой площадью. Например, есть квартира, жилая площадь которой равна 91 м², которая стоит лишь 2 млн. И встречается квартира с жилой площадью 17 м² и стоимостью 24 млн.\n",
    "    \n",
    "Построим график, отображающий частоту сочетаний определённой жилой площади квартиры и стоимости."
   ]
  },
  {
   "cell_type": "code",
   "execution_count": null,
   "metadata": {},
   "outputs": [],
   "source": [
    "filtered_data.plot(x='living_area', y='last_price', kind='hexbin', gridsize=15, figsize=(12, 3), sharex=False, grid=True)\n",
    "# построение графика, поделённого на шестиугольные области, \n",
    "# на котором переменная ‘living_area’ отложена по оси x, переменная ‘last_price’ - по оси y\n",
    "plt.title('Зависимость стоимости квартиры от жилой площади (м²) с отображением частотности', fontsize=12)\n",
    "# установка заголовка для графика\n",
    "plt.xlabel('Жилая площадь квартиры в квадратных метрах', fontsize=10)\n",
    "# установка подписи для горизонтальной оси графика\n",
    "plt.ylabel('Стоимость квартиры', fontsize=10)\n",
    "# установка подписи для вертикальной оси графика\n",
    "plt.xlim(0, 110)\n",
    "# установка пределов оси x на графике от 0 до 110\n",
    "plt.ylim(0, 12000000)\n",
    "# установка пределов оси y на графике от 0 до 12 млн.\n",
    "print('Коэффициент корреляции Пирсона для стоимости квартиры и жилой площади:', \n",
    "      round(filtered_data['last_price'].corr(filtered_data['living_area']), 2))\n",
    "# рассчёт корреляции между ‘last_price’ и ‘living_area’"
   ]
  },
  {
   "cell_type": "markdown",
   "metadata": {},
   "source": [
    "Чаще всего (около 2.5 тыс. квартир) встречаются квартиры с жилой площадью примерно от 14 до 20 м² и стоимостью от 1 млн. 400 тыс. до 3 млн. 500 тыс.\n",
    "    \n",
    "Построим диаграмму рассеяния для стоимости квартиры и площади кухни."
   ]
  },
  {
   "cell_type": "code",
   "execution_count": null,
   "metadata": {},
   "outputs": [],
   "source": [
    "filtered_data.plot(x='kitchen_area', y ='last_price', kind ='scatter', figsize=(12, 3), s=5)\n",
    "# построение диаграммы рассеяния, на котором переменная ‘kitchen_area’ отложена по оси x, переменная ‘last_price’ - по оси y\n",
    "plt.title('Зависимость стоимости квартиры от площади кухни (м²)', fontsize=12)\n",
    "# установка заголовка для графика\n",
    "plt.xlabel('Площадь кухни в квадратных метрах', fontsize=10)\n",
    "# установка подписи для горизонтальной оси графика\n",
    "plt.ylabel('Стоимость квартиры', fontsize=10)\n",
    "# установка подписи для вертикальной оси графика\n",
    "plt.ylim(0, 30000000)\n",
    "# установка пределов оси y на графике от 0 до 30 млн. (максимальная стоимость)\n",
    "print('Коэффициент корреляции Пирсона для стоимости квартиры и площади кухни:', \n",
    "      round(filtered_data['last_price'].corr(filtered_data['kitchen_area']), 2))\n",
    "# рассчёт корреляции между ‘last_price’ и ‘kitchen_area’"
   ]
  },
  {
   "cell_type": "markdown",
   "metadata": {},
   "source": [
    "На графике иллюстрируется взаимосвязь между стоимостью квартиры и площадью кухни. Есть основная масса точек с наиболее частыми сочетаниями стоимости квартиры и площади кухни. В среднем с увеличением площади кухни увеличивается и её стоимость, но это не всегда так. Можно найти примеры квартир с большой площадью и низкой стоимостью. Например, существует квартира, у которой площадь кухни равна 30 м², со стоимостью 2 млн. 300 тыс. И, наоборот, есть дорогие квартиры с маленькой площадью кухни, к примеру, квартира с площадью кухни 8 м² и стоимостью 28 млн.\n",
    "    \n",
    "Построим график, отображающий частоту сочетаний определённой площади кухни и стоимости квартиры."
   ]
  },
  {
   "cell_type": "code",
   "execution_count": null,
   "metadata": {},
   "outputs": [],
   "source": [
    "filtered_data.plot(x='kitchen_area', y='last_price', kind='hexbin', gridsize=20, figsize=(12, 3), sharex=False, grid=True)\n",
    "# построение графика, поделённого на шестиугольные области, \n",
    "# на котором переменная ‘kitchen_area’ отложена по оси x, переменная ‘last_price’ - по оси y\n",
    "plt.title('Зависимость стоимости квартиры от площади кухни (м²) с отображением частотности', fontsize=12)\n",
    "# установка заголовка для графика\n",
    "plt.xlabel('Площадь кухни в квадратных метрах', fontsize=10)\n",
    "# установка подписи для горизонтальной оси графика\n",
    "plt.ylabel('Стоимость квартиры', fontsize=10)\n",
    "# установка подписи для вертикальной оси графика\n",
    "plt.xlim(0, 30)\n",
    "# установка пределов оси x на графике от 0 до 30\n",
    "plt.ylim(0, 10000000)\n",
    "# установка пределов оси y на графике от 0 до 10 млн.\n",
    "print('Коэффициент корреляции Пирсона для стоимости квартиры и площади кухни:', \n",
    "      round(filtered_data['last_price'].corr(filtered_data['kitchen_area']), 2))\n",
    "# рассчёт корреляции между ‘last_price’ и ‘kitchen_area’"
   ]
  },
  {
   "cell_type": "markdown",
   "metadata": {},
   "source": [
    "Наиболее распространёнными являются квартиры (около 1.5 тыс. квартир) с площадью кухни примерно от 5.4 до 7 м² и стоимостью от 2 млн. 200 тыс. до 4 млн.\n",
    "    \n",
    "Построим линейный график, показывающий зависимость стоимости квартиры от количества комнат."
   ]
  },
  {
   "cell_type": "code",
   "execution_count": null,
   "metadata": {},
   "outputs": [],
   "source": [
    "price_dependence_on_rooms = filtered_data.pivot_table(index='rooms', \n",
    "                                               values='last_price', \n",
    "                                               aggfunc=['count', 'mean', 'median'])\n",
    "# создание сводной таблицы, где для каждого числа комнат\n",
    "# вычисляется количество, средняя и медианная стоимость квартиры\n",
    "price_dependence_on_rooms.columns = ['count', 'mean', 'median']\n",
    "# создание списка с названиями столбцов для таблицы ‘price_dependence_on_rooms’, который передаётся в атрибут ‘columns’\n",
    "price_dependence_on_rooms.plot(y = 'median', marker='o',\n",
    "    grid=True, legend=False, figsize=(12,3))\n",
    "# создание графика с числом комнат на оси x и медианной стоимостью на оси y\n",
    "plt.title('Стоимость квартиры в зависимости от количества комнат', fontsize=12)\n",
    "# установка заголовка для графика\n",
    "plt.xlabel('Количество комнат', fontsize=10)\n",
    "# установка подписи для горизонтальной оси графика\n",
    "plt.ylabel('Медианная стоимость квартиры', fontsize=10)\n",
    "# установка подписи для вертикальной оси графика\n",
    "round(price_dependence_on_rooms, 1)\n",
    "# вывод сводной таблицы"
   ]
  },
  {
   "cell_type": "markdown",
   "metadata": {},
   "source": [
    "С увеличением числа комнат стоимость квартиры повышается. Медианная стоимость студии равна 2 млн. 800 тыс., 1-комнатной квартиры — 3 млн. 600 тыс., 2-комнатной квартиры — 4 млн. 750 тыс., 3-комнатной — 6 млн. 50 тыс, 7-комнатной — 15 млн.\n",
    "    \n",
    "Построим линейный график, показывающий зависимость стоимости квартиры от дня недели публикации объявления о продаже квартиры."
   ]
  },
  {
   "cell_type": "code",
   "execution_count": null,
   "metadata": {},
   "outputs": [],
   "source": [
    "price_dependence_on_weekday_exposition = filtered_data.pivot_table(index='weekday_exposition', \n",
    "                                               values='last_price', \n",
    "                                               aggfunc=['count', 'mean', 'median'])\n",
    "# создание сводной таблицы, где для каждого дня недели\n",
    "# вычисляется количество, средняя и медианная стоимость квартиры\n",
    "price_dependence_on_weekday_exposition.columns = ['count', 'mean', 'median']\n",
    "# создание списка с названиями столбцов для таблицы ‘price_dependence_on_weekday_exposition’, \n",
    "# который передаётся в атрибут ‘columns’\n",
    "price_dependence_on_weekday_exposition.plot(y = 'median', marker='o',\n",
    "    grid=True, legend=False, figsize=(12,3))\n",
    "# создание графика с номерами дней недели на оси x и медианной стоимостью на оси y\n",
    "plt.title('Стоимость квартиры в зависимости от дня недели публикации объявления о продаже', fontsize=12)\n",
    "# установка заголовка для графика\n",
    "plt.xlabel('День недели', fontsize=10)\n",
    "# установка подписи для горизонтальной оси графика\n",
    "plt.ylabel('Медианная стоимость квартиры', fontsize=10)\n",
    "# установка подписи для вертикальной оси графика\n",
    "round(price_dependence_on_weekday_exposition, 1)\n",
    "# вывод сводной таблицы"
   ]
  },
  {
   "cell_type": "markdown",
   "metadata": {},
   "source": [
    "Стоимости квартир с разными днями недели публикации объявлений о продаже не сильно отличаются друг от друга. Чуть выше медианная стоимость квартиры, объявление о продаже которой опубликовано в начале недели (с понедельника по четверг) — от 4 млн. 550 тыс. до 4 млн. 600 тыс., чем в конце недели (с пятницы по воскресенье) — 4 млн. 500 тыс.\n",
    "\n",
    "Стоимость квартиры может быть выше в начале недели из-за большего количества объявлений о продаже. В этот период продавцы размещают больше объявлений и люди чаще их просматривают, что может привести к временному повышению цен на рынке недвижимости. Ближе к концу недели продавцы могут снижать цены на недвижимость, чтобы привлечь внимание потенциальных покупателей.\n",
    "    \n",
    "Построим линейный график, показывающий зависимость стоимости квартиры от месяца публикации объявления о продаже квартиры."
   ]
  },
  {
   "cell_type": "markdown",
   "metadata": {},
   "source": [
    "<div class=\"alert alert-success\">\n",
    "<font size=\"4\", color= \"seagreen\"><b>✔️ Комментарий ревьюера </b></font>\n",
    "    <br /> \n",
    "    <font size=\"3\", color = \"black\">\n",
    "<br />Возможно риэлторы отдыхают в выходные и цены на квартиры выставляются без наценки агентств недвижимости?"
   ]
  },
  {
   "cell_type": "code",
   "execution_count": null,
   "metadata": {},
   "outputs": [],
   "source": [
    "price_dependence_on_month_exposition = filtered_data.pivot_table(index='month_exposition', \n",
    "                                               values='last_price', \n",
    "                                               aggfunc=['count', 'mean', 'median'])\n",
    "# создание сводной таблицы, где для каждого месяца\n",
    "# вычисляется количество, средняя и медианная стоимость квартиры\n",
    "price_dependence_on_month_exposition.columns = ['count', 'mean', 'median']\n",
    "# создание списка с названиями столбцов для таблицы ‘price_dependence_on_month_exposition’, \n",
    "# который передаётся в атрибут ‘columns’\n",
    "price_dependence_on_month_exposition.plot(y = 'median', marker='o',\n",
    "    grid=True, legend=False, figsize=(12,3))\n",
    "# создание графика с месяцами на оси x и медианной стоимостью на оси y\n",
    "plt.title('Стоимость квартиры в зависимости от месяца продажи', fontsize=12)\n",
    "# установка заголовка для графика\n",
    "plt.xlabel('Месяц', fontsize=10)\n",
    "# установка подписи для горизонтальной оси графика\n",
    "plt.ylabel('Медианная стоимость квартиры', fontsize=10)\n",
    "# установка подписи для вертикальной оси графика\n",
    "round(price_dependence_on_month_exposition, 1)\n",
    "# вывод сводной таблицы"
   ]
  },
  {
   "cell_type": "markdown",
   "metadata": {},
   "source": [
    "Медианная стоимость квартир немного ниже в мае, июне и августе (с 4 млн. 350 тыс. по 4 млн. 500 тыс.), чем в другие месяцы (с 4 млн. 500 тыс. по 4 млн. 700 тыс.).\n",
    "\n",
    "Сезонность влияет на стоимость квартир. Осенью, зимой и весной спрос на жильё возрастает, что приводит к повышению цен. В конце весны и летом, когда люди уезжают в отпуск, спрос на недвижимость снижается, и продавцы могут делать скидки для привлечения покупателей.\n",
    "\n",
    "Построим линейный график, показывающий зависимость стоимости и общей площади квартиры от года публикации объявления о продаже."
   ]
  },
  {
   "cell_type": "code",
   "execution_count": null,
   "metadata": {},
   "outputs": [],
   "source": [
    "price_dependence_on_year_exposition = filtered_data.pivot_table(index='year_exposition', \n",
    "                                               values=['last_price', 'total_area'], \n",
    "                                               aggfunc={'last_price': ['count', 'median', 'mean'],\n",
    "                                                        'total_area': ['median', 'mean']})\n",
    "# создание сводной таблицы, где для каждого года\n",
    "# вычисляется количество, средняя и медианная стоимость квартиры,\n",
    "# а также средняя и медианная общая площадь квартиры\n",
    "price_dependence_on_year_exposition.columns = ['count', 'mean_price', 'median_price', 'mean_area', 'median_area']\n",
    "# создание списка с названиями столбцов для таблицы ‘price_dependence_on_year_exposition’, \n",
    "# который передаётся в атрибут ‘columns’\n",
    "price_dependence_on_year_exposition.plot(y = 'mean_price', marker='o',\n",
    "    grid=True, legend=False, figsize=(12,3))\n",
    "# создание графика с годами на оси x и средней стоимостью на оси y\n",
    "plt.title('Стоимость квартиры в зависимости от года продажи', fontsize=12)\n",
    "# установка заголовка для графика\n",
    "plt.xlabel('Год', fontsize=10)\n",
    "# установка подписи для горизонтальной оси графика\n",
    "plt.ylabel('Средняя стоимость квартиры', fontsize=10)\n",
    "# установка подписи для вертикальной оси графика\n",
    "round(price_dependence_on_year_exposition, 1)\n",
    "# вывод сводной таблицы"
   ]
  },
  {
   "cell_type": "markdown",
   "metadata": {},
   "source": [
    "С 2014 по 2018 год средняя стоимость квартир снижалась в Санкт-Петербурге и Ленинградской области с 9 млн. 742 тыс. до 5 млн. 390 тыс. К 2019 году средняя стоимость квартир немного повысилась — 5 млн. 837 тыс.\n",
    "\n",
    "Уменьшение цен на квартиры с годами может быть обусловлено увеличением количества продаваемых квартир. В 2014 году было размещено всего 59 объявлений о продаже квартир в Санкт-Петербурге и соседних населённых пунктах на сервисе Яндекс Недвижимость, а в 2018 году — почти 8 тыс. объявлений. Повышение цен в 2019 году, возможно, случилось из-за меньшего количества размещённых объявлений о продаже квартиры — 2 тыс. 693.\n",
    "\n",
    "Снижение стоимости квартир с годами может также быть связано с уменьшением площади продаваемых квартир. В 2014 году средняя общая площадь составляла 83 м², а в 2018 году — 55 м². В 2019 году средняя общая площадь немного увеличилась, поэтому квартиры слегка подорожали.\n",
    "\n",
    "Можно заключить, что на стоимость квартир влияет:\n",
    "- Количество доступных объектов и спрос: высокий спрос и ограниченное предложение повышают цены, а избыток предложения может привести к снижению цен.\n",
    "- Размер недвижимости: большие объекты имеют более высокую стоимость, чем меньшие.\n",
    "\n",
    "\n",
    "Построим линейный график, показывающий зависимость стоимости квартиры от типа этажа."
   ]
  },
  {
   "cell_type": "markdown",
   "metadata": {},
   "source": [
    "<div class=\"alert alert-success\">\n",
    "<font size=\"4\", color= \"seagreen\"><b>✔️ Комментарий ревьюера в2</b></font>\n",
    "    <br /> \n",
    "    <font size=\"3\", color = \"black\">\n",
    "<br />\n",
    "        \n",
    "Если смотреть только на изменение средней или медианной цены по годам мы можем сделать некорректный вывод, что цены падали, а на самом деле цена это параметр на который влияет несколько других факторов, по этой причине можно посмотреть на основные из них: \n",
    "        \n",
    "+ изменение кол-ва записей — принять решение о достаточности данных для анализа и сравнения (сравнивать 100 объявлений и 8000, а возможно, что они еще и из разных локаций, не совсем корректно) \n",
    "+ изменение площади, как основного параметра от которого зависит стоимость квартиры, в 2017-2018 гг. на сервис или рынок ИТ-торговли недвижимостью пришел массовый продавец, и средние значения площади упали ..., а за ней и цена\n",
    "+ изменение кол-ва поданных объявлений из разных локаций, т.к. есть питерские квартиры, а есть выборгские квартиры и стоят они по разному, и в разные годы могло быть больше квартир из определенной локации\n",
    "+ полнота периода для анализа, 2014 и 2019 гг. неполные, а у нас есть сезонные колебания цен, например летнее снижение цен\n",
    "\n",
    "и т.д."
   ]
  },
  {
   "cell_type": "markdown",
   "metadata": {},
   "source": [
    "<div class=\"alert alert-warning\", style=\"border:solid coral 3px; padding: 20px\">\n",
    "<font size=\"4\", color = \"DimGrey\"><b>⚠️ Комментарий ревьюера</b></font>\n",
    "    <br /> \n",
    "    <font size=\"3\", color = \"black\">\n",
    "<br /> Стоит дополнить  вывод об изменении цен по годам, необходимо учесть другие факторы, которые также изменяются с годами:  кол-во объявлений о продаже (стоит добавить или графики, или сводные таблицы и исследовать взаимное влияние параметров: изменение кол-ва записей, площади и средней цены в течение лет)\n",
    "        \n",
    "        в этом пункте самое главное создать таблицы с сгруппированнами данными, при помощи группировки или сводных таблиц"
   ]
  },
  {
   "cell_type": "code",
   "execution_count": null,
   "metadata": {},
   "outputs": [],
   "source": [
    "price_dependence_on_floor_type = filtered_data.pivot_table(index='floor_type', \n",
    "                                               values='last_price', \n",
    "                                               aggfunc=['count', 'mean', 'median'])\n",
    "# создание сводной таблицы, где для типа этажа\n",
    "# вычисляется количество, средняя и медианная стоимость квартиры\n",
    "price_dependence_on_floor_type.columns = ['count', 'mean', 'median']\n",
    "# создание списка с названиями столбцов для таблицы ‘price_dependence_on_floor_type’, \n",
    "# который передаётся в атрибут ‘columns’\n",
    "price_dependence_on_floor_type.sort_values('median').plot(y = 'median', marker='o',\n",
    "    grid=True, legend=False, figsize=(12,3))\n",
    "# создание графика с типом этажа на оси x и медианной стоимостью на оси y, отсортированной по возрастанию\n",
    "plt.title('Стоимость квартиры в зависимости от типа этажа', fontsize=12)\n",
    "# установка заголовка для графика\n",
    "plt.xlabel('Тип этажа', fontsize=10)\n",
    "# установка подписи для горизонтальной оси графика\n",
    "plt.ylabel('Медианная стоимость квартиры', fontsize=10)\n",
    "# установка подписи для вертикальной оси графика\n",
    "round(price_dependence_on_floor_type.sort_values('median'), 1)\n",
    "# вывод сводной таблицы с сортировкой по медианной стоимости квартиры"
   ]
  },
  {
   "cell_type": "markdown",
   "metadata": {},
   "source": [
    "Всех дешевле стоят квартиры, расположенные на первом этаже (медианная стоимость — 3 млн. 900 тыс.). Стоимость квартир на последнем этаже (медианная стоимость — 4 млн. 200 тыс.) ниже, чем на других, средних этажах (медианная стоимость — 4 млн. 750 тыс.).\n",
    "\n",
    "Возможные причины того, что квартиры на первом этаже стоят дешевле, чем на других:\n",
    "- проблемы с грязью и пылью (выход окон на проезжую часть, выхлопные газы);\n",
    "- повышенный уровень шума (проезжающие автомобили, играющие во дворе дети, шумные молодёжные компании);\n",
    "- высокая проходимость площадки на первом этаже (шум и загрязнённость);\n",
    "- близость подвалов (сырость, насекомые, грызуны);\n",
    "- низкое расположение окон (необходимость частого занавешивания окон от посторонних глаз);\n",
    "- риск ограбления (лёгкий доступ для воров);\n",
    "- загораживающие свет деревья;\n",
    "- стереотипы о том, что жильё на первом этаже хуже.\n",
    "\n",
    "Причины, по которым квартиры на последнем этаже могут стоить дешевле:\n",
    "- проблемы с температурой (холод или жара);\n",
    "- повышенный уровень шума из-за ветра и дождя;\n",
    "- риск протечек крыши;\n",
    "- не всегда хороший вид (например, на соседнюю промзону)."
   ]
  },
  {
   "cell_type": "markdown",
   "metadata": {},
   "source": [
    "### Выделение населённых пунктов, в которых размещено наибольшее число объявлений о продаже квартиры, с самой высокой и низкой средней стоимостью квадратного метра"
   ]
  },
  {
   "cell_type": "markdown",
   "metadata": {},
   "source": [
    "Выведем 10 населённых пунктов с наибольшим числом объявлений о продаже квартиры."
   ]
  },
  {
   "cell_type": "code",
   "execution_count": null,
   "metadata": {},
   "outputs": [],
   "source": [
    "top_localities = filtered_data['locality_name'].value_counts().head(10)\n",
    "top_localities\n",
    "# вывод первых 10 самых популярных значений в столбце ‘locality_name’"
   ]
  },
  {
   "cell_type": "markdown",
   "metadata": {},
   "source": [
    "Самое большое число объявлений о продаже квартиры (14 тыс. 366 объявлений) было размещено в Санкт-Петербурге, на втором месте – Мурино (455 объявлений). Наименьшее количество объявлений было опубликовано в Выборге (227 объявлений) и в посёлке Парголово (203 объявления).\n",
    "    \n",
    "Выведем количество объявлений и среднюю стоимость квадратного метра для 10 населённых пунктов с наибольшим числом объявлений о продаже квартиры. Построим столбчатую диаграмму, отображающую среднюю стоимость одного квадратного метра квартиры в 10 населённых пунктах с наибольшим числом объявлений о продаже квартиры."
   ]
  },
  {
   "cell_type": "code",
   "execution_count": null,
   "metadata": {},
   "outputs": [],
   "source": [
    "top_localities_table = filtered_data.query('locality_name in @top_localities.index').pivot_table(index='locality_name', \n",
    "                                                                    values='one_square_meter_price',\n",
    "                                                                    aggfunc=['count', 'mean']).round(1)\n",
    "# выбор строк из датафрейма ‘filtered_data’, \n",
    "# где значения в столбце ‘locality_name’ присутствуют в списке, переданном в переменную ‘top_localities’\n",
    "# создание сводной таблицы для выбранных данных с группировкой их по столбцу ‘locality_name’\n",
    "# и суммированием значений в столбце ‘one_square_meter_price’\n",
    "# получение таблицы с количеством объвлений и средней стоимостью для каждого уникального значения в столбце ‘locality_name’\n",
    "# сохранение полученной сводной таблицы в переменную ‘top_localities_table’\n",
    "top_localities_table.columns = ['count', 'mean']\n",
    "# создание списка с названиями столбцов для таблицы ‘top_localities_table’, \n",
    "# который передаётся в атрибут ‘columns’\n",
    "top_localities_table = top_localities_table.sort_values(by='mean', ascending=False)\n",
    "# сортировка значений в сводной таблице ‘top_localities_table’ по столбцу ‘mean’ в порядке убывания\n",
    "top_localities_table.sort_values(by='mean').plot(y='mean', kind='barh', figsize=(19, 6), legend=False)\n",
    "# построение столбчатой диаграммы с использованием данных из столбца ‘mean’, отсортированных по убыванию\n",
    "plt.title('Средняя стоимость квадратного метра квартиры в топ-10 населённых пунктах', fontsize=16)\n",
    "# установка заголовка для графика\n",
    "plt.xlabel('Средняя стоимость одного квадратного метра квартиры', fontsize=14)\n",
    "# установка подписи для горизонтальной оси графика\n",
    "plt.ylabel('Населённый пункт', fontsize=14)\n",
    "# установка подписи для вертикальной оси графика\n",
    "top_localities_table\n",
    "# вывод сводной таблицы"
   ]
  },
  {
   "cell_type": "markdown",
   "metadata": {},
   "source": [
    "Среди десяти населённых пунктов с наибольшим числом объявлений о продаже квартиры в городе федерального значения Санкт-Петербурге самая высокая средняя стоимость одного квадратного метра квартиры, в городе Выборге Ленинградской области – самая низкая. В Санкт-Петербурге средняя стоимость квартиры составляет 110 тыс. за квадратный метр, а в Выборге почти в два раза меньше – 58 тыс.\n",
    "\n",
    "Также достаточно высокой средней стоимостью квадратного метра отличается Пушкин, представляющий собой город в составе Санкт-Петербурга, – 102 тыс.\n",
    "\n",
    "К населённым пунктам с почти самой низкой средней стоимостью квадратного метра относятся города в Ленинградской области, такие как Гатчина и Всеволожск – 69 тыс.\n",
    "\n",
    "Стоимость квартир в разных населённых пунктах Санкт-Петербурга и Ленинградской области может отличаться в зависимости от плотности населения, наличия транспортных развязок, достопримечательностей, объектов социальной инфраструктуры, торговых объектов и других факторов."
   ]
  },
  {
   "cell_type": "markdown",
   "metadata": {},
   "source": [
    "<div class=\"alert alert-success\">\n",
    "<font size=\"4\", color= \"seagreen\"><b>✔️ Комментарий ревьюера</b></font>\n",
    "    <br /> \n",
    "    <font size=\"3\", color = \"black\">\n",
    "<br />ТОП-10 рассчитан корректно"
   ]
  },
  {
   "cell_type": "markdown",
   "metadata": {},
   "source": [
    "<div class=\"alert alert-warning\", style=\"border:solid coral 3px; padding: 20px\">\n",
    "<font size=\"4\", color = \"DimGrey\"><b>⚠️ Комментарий ревьюера</b></font>\n",
    "    <br /> \n",
    "    <font size=\"3\", color = \"black\">\n",
    "<br /> на проектах стоит снижать размерность выводимой информации, где не требуется максимальная точность, до одного или двух знаков после запятой\n",
    "        \n",
    "        Кудрово\t459\t95466.715577"
   ]
  },
  {
   "cell_type": "markdown",
   "metadata": {},
   "source": [
    "<div class=\"alert alert-dan ger\">\n",
    "<font size=\"4\"><b>❌ Комментарий ревьюера</b></font>\n",
    "    <br />\n",
    "    <font size=\"3\", color = \"black\">\n",
    "<br />Круговая диаграмма малоинформативна для кол-ва категорий более 5-ти, невозможно за 5 сек. сравнить и решить какой город является отстающим, а самое главное определить — насколько сильно отстает "
   ]
  },
  {
   "cell_type": "markdown",
   "metadata": {},
   "source": [
    "<div style=\"border:solid steelblue 3px; padding: 20px\">\n",
    "<font size=\"4\">🍕<b> Комментарий ревьюера</b></font>\n",
    "<br /> \n",
    "<font size=\"3\", color = \"black\">\n",
    "<br />         \n",
    "    \n",
    "[Постер поможет выбирать вид графиков](https://www.notion.so/6c5ae8ceb8b5411e907c93c9b5e6a44e)"
   ]
  },
  {
   "cell_type": "markdown",
   "metadata": {},
   "source": [
    "### Изучение влияния расстояния до центра города на стоимость квартир"
   ]
  },
  {
   "cell_type": "markdown",
   "metadata": {},
   "source": [
    "Определим, как стоимость квартир зависит от расстояния до центра города. Вычислим среднюю стоимость квартир в Санкт-Петербурге на разном удалении от центра. Построим график изменения средней цены на квартиру для каждого километра от центра Санкт-Петербурга."
   ]
  },
  {
   "cell_type": "code",
   "execution_count": null,
   "metadata": {},
   "outputs": [],
   "source": [
    "st_petersburg_table = filtered_data.query('locality_name in \"Санкт-Петербург\"').pivot_table(\n",
    "    index='city_centers_nearest_km', values='last_price')\n",
    "# создание сводной таблицы, где для каждого километра вычисляется средняя стоимость квартиры\n",
    "st_petersburg_table.plot(marker='o',\n",
    "    grid=True, figsize=(12, 3), legend=False)\n",
    "# создание графика с расстоянием до центра города на горизонтальной оси и средней стоимостью квартир на вертикальной оси\n",
    "plt.xlim(1, 30)\n",
    "# установка пределов горизонтальной оси на графике от 1 до 30\n",
    "plt.title('Динамика цен на квартиры в Санкт-Петербурге в зависимости от расстояния до центра города в км',\n",
    "          fontsize=12)\n",
    "# установка заголовка для графика\n",
    "plt.xlabel('Расстояние до центра Санкт-Петербурга в километрах', fontsize=10)\n",
    "# установка подписи для горизонтальной оси графика\n",
    "plt.ylabel('Средняя стоимость квартир', fontsize=10)\n",
    "# установка подписи для вертикальной оси графика\n",
    "round(st_petersburg_table, 1)\n",
    "# вывод сводной таблицы"
   ]
  },
  {
   "cell_type": "markdown",
   "metadata": {},
   "source": [
    "В целом можно наблюдать тренд к снижению средних цен на квартиры в Санкт-Петербурге по мере удаления от центра города. Средняя стоимость квартиры в одном километре от центра Санкт-Петербурга равна 11 млн. 187 тыс., в 15-ти километрах – 5 млн. 619 тыс., в 29-ти километрах – 4 млн. 210 тыс.\n",
    "\n",
    "Снижение средней стоимости квартир по мере удаления от центра города может быть связано с инфраструктурой. В отдалённых районах может быть меньше магазинов, образовательных учреждений и медицинских центров, что снижает стоимость квартир. Удалённость от центра может влиять на время в пути до работы и обратно, что сказывается на стоимости жилья. Районы на окраине города могут иметь худшую экологическую обстановку, что снижает стоимость квартир. В некоторых случаях периферийные районы могут быть менее привлекательными для бизнеса, что замедляет рост цен на недвижимость.\n",
    "\n",
    "С 1 по 3 км от центра Санкт-Петербурга средняя стоимость квартир снижается, с 4 по 5 км немного повышается. \n",
    "В 27 км от центра города можно наблюдать резкое повышение средней стоимости недвижимости.\n",
    "\n",
    "Посмотрим на количество квартир с разным типом этажа, которые продаются на 3-6-м километрах, и какую долю они занимают на каждом километре, чтобы объяснить «провал» на 3-м километре и «пик» на 5-м километре на графике."
   ]
  },
  {
   "cell_type": "code",
   "execution_count": null,
   "metadata": {},
   "outputs": [],
   "source": [
    "st_petersburg_table_with_floor_type = filtered_data.query(\n",
    "    'locality_name in \"Санкт-Петербург\" and 2 < city_centers_nearest_km < 7').pivot_table(\n",
    "    index=['city_centers_nearest_km', 'floor_type'], values='last_price', aggfunc=['count', 'mean'])\n",
    "# создание сводной таблицы, где для 3-6 километров и каждого типа этажа вычисляется количество квартир и средняя стоимость\n",
    "st_petersburg_table_with_floor_type.columns = ['count', 'mean']\n",
    "# создание списка с названиями столбцов для таблицы ‘st_petersburg_table_with_floor_type’, \n",
    "# который передаётся в атрибут ‘columns’\n",
    "round(st_petersburg_table_with_floor_type, 1)\n",
    "# вывод сводной таблицы"
   ]
  },
  {
   "cell_type": "code",
   "execution_count": null,
   "metadata": {},
   "outputs": [],
   "source": [
    "print(st_petersburg_table_with_floor_type.head(3).plot(y='count', kind='pie',\n",
    "                                                 legend=False, autopct='%1.0f%%', \n",
    "                                                 wedgeprops={'edgecolor':'black'}))\n",
    "# создание круговой диаграммы для столбца с разным количеством квартир в зависимости от типа этажа\n",
    "# в 3 км от центра города\n",
    "# с отображением процентов\n",
    "plt.title('Доля квартир в зависимости от типа этажа на 3-м километре от центра города, %')\n",
    "# установка заголовка для графика\n",
    "print(st_petersburg_table_with_floor_type.iloc[3:6].plot(\n",
    "    y='count', kind='pie', legend=False, autopct='%1.0f%%', \n",
    "                                                 wedgeprops={'edgecolor':'black'}))\n",
    "# создание круговой диаграммы для столбца с разным количеством квартир в зависимости от типа этажа\n",
    "# в 4 км от центра города\n",
    "# с отображением процентов\n",
    "plt.title('Доля квартир в зависимости от типа этажа на 4-м километре от центра города, %')\n",
    "# установка заголовка для графика\n",
    "print(st_petersburg_table_with_floor_type.iloc[6:9].plot(\n",
    "    y='count', kind='pie', legend=False, autopct='%1.0f%%', \n",
    "                                                 wedgeprops={'edgecolor':'black'}))\n",
    "# создание круговой диаграммы для столбца с разным количеством квартир в зависимости от типа этажа\n",
    "# в 5 км от центра города\n",
    "# с отображением процентов\n",
    "plt.title('Доля квартир в зависимости от типа этажа на 5-м километре от центра города, %')\n",
    "# установка заголовка для графика\n",
    "print(st_petersburg_table_with_floor_type.tail(3).plot(\n",
    "    y='count', kind='pie', legend=False, autopct='%1.0f%%', \n",
    "                                                 wedgeprops={'edgecolor':'black'}))\n",
    "# создание круговой диаграммы для столбца с разным количеством квартир в зависимости от типа этажа\n",
    "# в 6 км от центра города\n",
    "# с отображением процентов\n",
    "plt.title('Доля квартир в зависимости от типа этажа на 6-м километре от центра города, %');\n",
    "# установка заголовка для графика"
   ]
  },
  {
   "cell_type": "markdown",
   "metadata": {},
   "source": [
    "Более низкую среднюю стоимость квартир (9 млн. 73 тыс.) в трёх километрах от центра Санкт-Петербурга и повышение стоимости (10 млн. 196 тыс.) в пяти километрах от центра города можно объяснить увеличением доли квартир, расположенных на других этажах, и уменьшением доли квартир на первых этажах на пятом километре по сравнению с третьим. Квартиры на средних этажах стоят дороже, чем на первых. На третьем километре 59% составляют квартиры, расположенные на других этажах (170 квартир), 17% – на первых этажах (50 квартир). На пятом километре 75% составляют квартиры, расположенные на других этажах (548 квартир), 10% – на первых этажах (72 квартиры).\n",
    "\n",
    "Вычислим количество квартир с разным типом этажа, которые продаются на 26, 27 и 28-м километрах, и какую долю они занимают на каждом километре, чтобы объяснить «пик» на 27-м километре на графике."
   ]
  },
  {
   "cell_type": "markdown",
   "metadata": {},
   "source": [
    "<div class=\"alert alert-success\">\n",
    "<font size=\"4\", color= \"seagreen\"><b>✔️ Комментарий ревьюера в2</b></font>\n",
    "    <br /> \n",
    "    <font size=\"3\", color = \"black\">\n",
    "<br />Размер доли категорий квартир с более дешевой стоимостью намного больше на 3-м километре, чем на пятом, что является одной из причин падения и пика...\n",
    "        \n",
    "возможно к этому фактору добавляются и другие"
   ]
  },
  {
   "cell_type": "code",
   "execution_count": null,
   "metadata": {},
   "outputs": [],
   "source": [
    "st_petersburg_table_with_floor_type_27_km = filtered_data.query(\n",
    "    'locality_name in \"Санкт-Петербург\" and 25 < city_centers_nearest_km < 29').pivot_table(\n",
    "    index=['city_centers_nearest_km', 'floor_type'], values='last_price', aggfunc=['count', 'mean'])\n",
    "# создание сводной таблицы, где для 26-28 километров и каждого типа этажа вычисляется количество квартир и средняя стоимость\n",
    "st_petersburg_table_with_floor_type_27_km.columns = ['count', 'mean']\n",
    "# создание списка с названиями столбцов для таблицы ‘st_petersburg_table_with_floor_type_27_km’, \n",
    "# который передаётся в атрибут ‘columns’\n",
    "round(st_petersburg_table_with_floor_type_27_km, 1)\n",
    "# вывод сводной таблицы"
   ]
  },
  {
   "cell_type": "code",
   "execution_count": null,
   "metadata": {},
   "outputs": [],
   "source": [
    "print(st_petersburg_table_with_floor_type_27_km.head(3).plot(y='count', kind='pie',\n",
    "                                                 legend=False, autopct='%1.0f%%', \n",
    "                                                 wedgeprops={'edgecolor':'black'}))\n",
    "# создание круговой диаграммы для столбца с разным количеством квартир в зависимости от типа этажа\n",
    "# в 26 км от центра города\n",
    "# с отображением процентов\n",
    "plt.title('Доля квартир в зависимости от типа этажа на 26-м километре от центра города, %');\n",
    "# установка заголовка для графика\n",
    "print(st_petersburg_table_with_floor_type_27_km.iloc[3:5].plot(\n",
    "    y='count', kind='pie', legend=False, autopct='%1.0f%%', \n",
    "                                                 wedgeprops={'edgecolor':'black'}))\n",
    "# создание круговой диаграммы для столбца с разным количеством квартир в зависимости от типа этажа\n",
    "# в 27 км от центра города\n",
    "# с отображением процентов\n",
    "plt.title('Доля квартир в зависимости от типа этажа на 27-м километре от центра города, %');\n",
    "# установка заголовка для графика\n",
    "print(st_petersburg_table_with_floor_type_27_km.tail(3).plot(\n",
    "    y='count', kind='pie', legend=False, autopct='%1.0f%%', \n",
    "                                                 wedgeprops={'edgecolor':'black'}))\n",
    "# создание круговой диаграммы для столбца с разным количеством квартир в зависимости от типа этажа\n",
    "# в 28 км от центра города\n",
    "# с отображением процентов\n",
    "plt.title('Доля квартир в зависимости от типа этажа на 28-м километре от центра города, %');\n",
    "# установка заголовка для графика"
   ]
  },
  {
   "cell_type": "markdown",
   "metadata": {},
   "source": [
    "Резкое повышение стоимости квартир на 27-м километре от центра Санкт-Петербурга может быть связано с малым количеством квартир и отсутствием квартир, расположенных на первых этажах, отличающихся более низкой стоимостью. На 26-м километре 56% квартир находятся на других этажах (24 квартиры, средняя стоимость – 3 млн. 994 тыс.), 21% – на первых этажах (9 квартир). На 27-м километре есть всего 2 квартиры, которые расположены на другом (средняя стоимость – 14 млн. 350 тыс.) и последнем этажах. На 28-м километре средняя стоимость квартир намного меньше, чем на 27-м километре, но больше, чем на 26-м километре. В 28-ми километрах от центра города 57% квартир относятся к другому этажу (4 квартиры, средняя стоимость – 5 млн. 409 тыс.), 29% – к первому этажу (2 квартиры).\n",
    "\n",
    "Установим, связано ли повышение стоимости квартир на 27-м километре от центра Санкт-Петербурга с площадью и высотой потолков. Выведем для сравнения средние значения общей площади, жилой площади, площади кухни, высоты потолков и стоимости квартир для каждого километра от центра."
   ]
  },
  {
   "cell_type": "code",
   "execution_count": null,
   "metadata": {},
   "outputs": [],
   "source": [
    "round(filtered_data.query('locality_name in \"Санкт-Петербург\"').pivot_table(\n",
    "    index='city_centers_nearest_km', values=['total_area', 'living_area', \n",
    "                                             'ceiling_height', 'kitchen_area', \n",
    "                                             'last_price']), 2)\n",
    "# создание сводной таблицы, где для каждого километра вычисляются средние значения определённых параметров квартиры"
   ]
  },
  {
   "cell_type": "markdown",
   "metadata": {},
   "source": [
    "На небольшом удалении от центра города (1-5 км) квартиры имеют большую среднюю общую площадь (около 80 м²), большую жилую площадь (45-50 м²), большую площадь кухни (12-13 м²), высокие потолки (больше 3 м), а также высокую стоимость (9-11 млн.). У квартир с большей удалённостью от центра (6-29 км) меньше общая площадь (45-70 м²), жилая площадь (20-40 м²), площадь кухни (7-11 м²), ниже потолки (меньше 3 м) и стоимость (3-8 млн.). Однако на 27-м километре от центра квартиры имеют самую большую среднюю площадь кухни – 16 м², относительно высокие потолки – 3.13 м, среднюю стоимость – 8 млн. 300 тыс. На 27-м километре средняя общая площадь и жилая площадь квартир больше, чем на меньшем расстоянии до центра.\n",
    "\n",
    "Выведем параметры квартиры, находящейся в 27-ми километрах от центра Санкт-Петербурга на среднем этаже."
   ]
  },
  {
   "cell_type": "code",
   "execution_count": null,
   "metadata": {},
   "outputs": [],
   "source": [
    "filtered_data.query(\n",
    "    'locality_name == \"Санкт-Петербург\" and city_centers_nearest_km == 27 and floor_type == \"другой\"')[['total_area',\n",
    "                                                                                                        'living_area',\n",
    "                                                                                                        'kitchen_area',\n",
    "                                                                                                        'ceiling_height',\n",
    "                                                                                                        'last_price',\n",
    "                                                                                                        'floor',\n",
    "                                                                                                        'floors_total']]\n",
    "# фильтрация датафрейма ‘filtered_data’\n",
    "# на основе условий в столбцах ‘locality_name’, ‘city_centers_nearest_km’, ‘floor_type’\n",
    "# возвращение выбранных столбцов отфильтрованного датафрейма"
   ]
  },
  {
   "cell_type": "markdown",
   "metadata": {},
   "source": [
    "Из-за квартиры с очень высокой стоимостью, большой площадью, высокими потолками, расположенной на 3-м этаже в 5-этажном доме, произошёл выброс на 27-м километре. Её общая площадь составляет 74 м², жилая площадь – 30 м², площадь кухни – 25 м², высота потолков – 3.13 м, стоимость – 14 млн. 350 тыс.\n",
    "\n",
    "Таким образом, на стоимость квартиры помимо удалённости от центра влияет этажность, площадь и высота потолков."
   ]
  },
  {
   "cell_type": "markdown",
   "metadata": {},
   "source": [
    "<div class=\"alert alert-success\">\n",
    "<font size=\"4\", color= \"seagreen\"><b>✔️ Комментарий ревьюера в2</b></font>\n",
    "    <br /> \n",
    "    <font size=\"3\", color = \"black\">\n",
    "<br />принимается,  \n",
    "        \n",
    "__у нас всего 2 записи на 27-м км.__ (на сырых данных), одна из которых с аномально высокой ценой, а другая с аномально низкой\n",
    "        \n",
    "__кол-во наблюдений важный параметр для оценки качества данных__\n",
    "        \n",
    "именно, по этой ⬆⬆⬆ причине мы отвергаем данное наблюдение\n",
    "        \n"
   ]
  },
  {
   "cell_type": "markdown",
   "metadata": {},
   "source": [
    "<div class=\"alert alert-success\">\n",
    "<font size=\"4\", color= \"seagreen\"><b>✔️ Комментарий ревьюера</b></font>\n",
    "    <br /> \n",
    "    <font size=\"3\", color = \"black\">\n",
    "<br />\n",
    "Молодец, у тебя получилось сгруппировать и построить график изменения средней цены в зависимости от расстояния до центра\n",
    "        "
   ]
  },
  {
   "cell_type": "markdown",
   "metadata": {},
   "source": [
    "<div class=\"alert alert-dan ger\">\n",
    "<font size=\"4\"><b>❌ Комментарий ревьюера</b></font>\n",
    "    <br /> \n",
    "    <font size=\"3\", color = \"black\">\n",
    "<br /> Стоит изучить записи, которые привели к выбросу на 27-м км.\n",
    "        \n"
   ]
  },
  {
   "cell_type": "markdown",
   "metadata": {},
   "source": [
    "<div class=\"alert alert-da nger\">\n",
    "<font size=\"4\"><b>❌ Комментарий ревьюера</b></font>\n",
    "    <br /> \n",
    "    <font size=\"3\", color = \"black\">\n",
    "<br />         \n",
    "Стоит посмотреть на количество квартир разных категорий (первый, последний, другой), которые продаются на 3-м км. и 5-ом ... и какую долю они занимают на каждом километре, чтобы объяснить пик  и провал в центре\n",
    "        \n",
    "        выполняется при помощи группировки или свода данных"
   ]
  },
  {
   "cell_type": "markdown",
   "metadata": {},
   "source": [
    "**Вывод:**\n",
    "\n",
    "Мы изучили характеристики распределения значений различных параметров квартир, построили диаграммы размаха, гистограммы или столбчатые диаграммы для каждого из этих параметров. Удалили редкие и выбивающиеся значения, встречающиеся в параметрах. Доля удалённых выбросов составила 9%.\n",
    "\n",
    "Часто общая площадь квартир находится в пределах примерно от 25 м² до 75 м². Самая распространённая общая площадь квартир равна 45 м², медианная — 52 м², средняя — 59 м². Редко встречаются квартиры, общая площадь которых больше 120 м².\n",
    "\n",
    "Как правило, значения жилой площади квартир лежат в диапазоне от 10 м² до 60 м². Наиболее популярна жилая площадь квартир, равная 18 м². Медианная жилая площадь равна 30 м², средняя — 33 м².\n",
    "\n",
    "Чаще всего площадь кухни в квартирах составляет 5-15 м². Самой распространённой площадью кухни является площадь, равная 6 м². Медианная площадь кухни равна 9 м², средняя — 10 м².\n",
    "\n",
    "Наиболее популярны цены на квартиры, находящиеся в пределах от 2.5 млн. до 7.5 млн. Самая популярная и медианная стоимость квартир равна 4.5 млн., средняя — 5.5 млн. Редко встречаются квартиры, стоимость которых меньше 1 млн. и больше 20 млн.\n",
    "\n",
    "Наиболее часто квартиры имеют одну (35%) или две комнаты (34%). Также распространены квартиры с тремя комнатами (25%). Медианное и среднее количество комнат совпадает и равно двум. Редко встречаются квартиры-студии (менее 1%) и квартиры с четырьмя (менее 5%) и более комнатами (менее 1%). Чем больше комнат, тем меньше таких квартир.\n",
    "\n",
    "В столбце датафрейма с высотой потолков были обнаружены слишком большие значения — 20 м, 32 м. Возможно, это вещественные значения, равные 2.0 м и 3.2 м. В некоторых данных могли забыть поставить точку или поставили её в неправильном месте. Значения высоты потолков, равные 20 м и более, были уменьшены в 10 раз.\n",
    "\n",
    "Некоторая часть объявлений о продаже квартиры не содержит данных о высоте потолков. Среди имеющихся данных в основном значения высоты потолков в квартирах лежат в диапазоне от 2.5 м до 3 м. Наиболее распространённая высота потолков равна 2.5 м. Медианная и средняя высота потолков совпадают и равны 2.7 м.\n",
    "\n",
    "Распространённым типом этажа, на котором расположена квартира, является «другой», не являющийся первым или последним (74%), включающий в себя сразу несколько этажей. Квартиры на последнем (14%) и первом (13%) этажах встречаются почти одинаково редко.\n",
    "\n",
    "Самое распространённое количество этажей равно 5. Также часто встречаются дома, где 9 этажей. Медианное количество этажей равно 9, среднее — 11.\n",
    "\n",
    "Некоторая часть объявлений о продаже квартиры не содержит данных о расстоянии до центра города. Среди имеющихся данных наиболее часто расстояние от квартиры до центра города находится в пределах примерно от 11 км до 16 км. Медианное расстояние до центра города равно 13 км, среднее — 14 км. Редко встречаются квартиры, расстояние от которых до центра меньше 3 км и больше 18 км.\n",
    "\n",
    "У большей части объявлений о продаже квартиры нет данных о расстоянии до ближайшего парка. Среди имеющихся данных чаще всего расстояние от квартиры до ближайшего парка не превышает 750 м. Из немногих значений расстояния до ближайшего парка, которые существуют, наиболее распространённым является 441 м, медианным — 458 м, средним — 491 м. Встречается немного объявлений, содержащих информацию о расстоянии от квартиры до ближайшего парка, где оно превышает 1 км.\n",
    "\n",
    "Быстрая продажа квартиры происходит меньше, чем за 1 месяц и 10 дней. Средняя продажа длится до полугода и 20 дней, долгая — до 1 года и 4.5 месяцев. Дольше 1 года и 4.5 месяцев — необычно долгий срок, возможно, квартиру уже продали и забыли снять объявление с публикации. Наиболее распространённое количество дней, в течение которых было размещено объявление о продаже квартиры, равно 45 (1.5 месяца). Медианное время продажи квартиры составляет 90 дней (3 месяца). В среднем продажа квартиры занимает 154 дня (5 месяцев). Скорость продажи квартиры может зависеть от состояния квартиры, её стоимости, расположения, рекламы, показов.\n",
    "\n",
    "С 2014 по 2019 гг. средняя скорость продаж квартир увеличивалась. В 2014 г. в среднем продажа квартир занимала почти 2 года, а в 2019 г. — всего лишь месяц. Возможные причины увеличения средней скорости продаж квартир с годами: развитие онлайн-продаж и цифровых технологий в сфере недвижимости; улучшение экономической ситуации, рост доходов населения; развитие транспортной инфраструктуры и улучшение доступности новостроек; повышение качества строительства и благоустройства жилых комплексов; повышение интереса к инвестициям в недвижимость; развитие ипотечного кредитования и снижение процентных ставок по кредитам; рост популярности программ субсидирования ипотеки и льготной ипотеки для отдельных категорий граждан.\n",
    "\n",
    "Определили, как общая стоимость квартиры зависит от определённых факторов. Рассчитали корреляцию между стоимостью квартиры и общей площадью, жилой площадью, площадью кухни (до и после удаления выбросов) и построили диаграммы рассеяния.\n",
    "\n",
    "Избавление от выбросов сделало данные менее искаженными, привело к уменьшению разброса данных, что повлияло на коэффициент корреляции. После удаления выбросов увеличилась корреляция между стоимостью квартиры и общей, жилой площадью, а также площадью кухни.\n",
    "\n",
    "Корреляция в 0.77 говорит о наличии достаточно сильной связи между стоимостью квартиры и общей площадью квартиры. В общем случае, чем больше общая площадь квартиры, тем больше её стоимость. Тем не менее, можно найти примеры квартир с большой площадью и низкой стоимостью. Например, существует квартира, общая площадь которой равна 190 м², которая стоит всего 3 млн. 200 тыс. И, наоборот, есть дорогие квартиры с маленькой площадью, к примеру, квартира с общей площадью 33 м² и стоимостью 28 млн. Стоимость квартиры может не зависеть от общей площади из-за различных факторов, таких как местоположение, наличие инфраструктуры. Наиболее популярны (около 2 тыс. квартир) квартиры с общей площадью примерно от 25 до 35 м² и стоимостью от 2 млн. 200 тыс. до 4 млн.\n",
    "\n",
    "Взаимосвязь между стоимостью квартиры и жилой площадью квартиры равна 0.66, что меньше, чем между стоимостью квартиры и общей площадью. Общая площадь обычно включает в себя все помещения в квартире, в том числе кухню, ванную комнату, кладовую и т.д., которые также могут влиять на стоимость. С увеличением жилой площади квартиры увеличивается и её стоимость, но это лишь в среднем. Можно найти примеры квартир с большой жилой площадью и низкой стоимостью, и наоборот, дорогие квартиры с маленькой жилой площадью. Например, есть квартира, жилая площадь которой равна 91 м², которая стоит лишь 2 млн. И встречается квартира с жилой площадью 17 м² и стоимостью 24 млн. Чаще всего (около 2.5 тыс. квартир) встречаются квартиры с жилой площадью примерно от 14 до 20 м² и стоимостью от 1 млн. 400 тыс. до 3 млн. 500 тыс.\n",
    "\n",
    "Корреляция между стоимостью квартиры и площадью кухни на 0.21 меньше корреляции между стоимостью квартиры и её общей площадью. Возможно, стоимость квартиры и общая площадь теснее связаны друг с другом, чем стоимость и площадь кухни, по причине того, что общая площадь квартиры является более значимым фактором при определении стоимости квартиры, так как она отражает общее пространство, доступное для жизни. Только по площади кухни нельзя судить о качестве и функциональности кухни и о квартире в целом. С увеличением площади кухни увеличивается и её стоимость, однако это не всегда так. Можно найти примеры квартир с большой площадью и низкой стоимостью. Например, существует квартира, у которой площадь кухни равна 30 м², со стоимостью 2 млн. 300 тыс. И, наоборот, есть дорогие квартиры с маленькой площадью кухни, к примеру, квартира с площадью кухни 8 м² и стоимостью 28 млн. Наиболее распространёнными являются квартиры (около 1.5 тыс. квартир) с площадью кухни примерно от 5.4 до 7 м² и стоимостью от 2 млн. 200 тыс. до 4 млн.\n",
    "\n",
    "Построили линейные графики, показывающие зависимость стоимости квартиры от количества комнат; этажа, на котором расположена квартира; даты размещения объявления о продаже квартиры (день недели, месяц, год).\n",
    "\n",
    "С увеличением числа комнат стоимость квартиры повышается. Медианная стоимость студии равна 2 млн. 800 тыс., 1-комнатной квартиры — 3 млн. 600 тыс., 2-комнатной квартиры — 4 млн. 750 тыс., 3-комнатной — 6 млн. 50 тыс, 7-комнатной — 15 млн.\n",
    "\n",
    "Стоимости квартир с разными днями недели публикации объявлений о продаже не сильно отличаются друг от друга. Чуть выше медианная стоимость квартиры, объявление о продаже которой опубликовано в начале недели (с понедельника по четверг) — от 4 млн. 550 тыс. до 4 млн. 600 тыс., чем в конце недели (с пятницы по воскресенье) — 4 млн. 500 тыс. Стоимость квартиры может быть выше в начале недели из-за большего количества объявлений о продаже. В этот период продавцы размещают больше объявлений и люди чаще их просматривают, что может привести к временному повышению цен на рынке недвижимости. Ближе к концу недели продавцы могут снижать цены на недвижимость, чтобы привлечь внимание потенциальных покупателей.\n",
    "\n",
    "Сезонность может оказывать влияние на стоимость квартир. Медианная стоимость квартир немного ниже в мае, июне и августе (с 4 млн. 350 тыс. по 4 млн. 500 тыс.), чем в другие месяцы (с 4 млн. 500 тыс. по 4 млн. 700 тыс.). Осенью, зимой и весной спрос на жильё возрастает, что приводит к повышению цен. В конце весны и летом, когда люди уезжают в отпуск, спрос на недвижимость снижается, и продавцы могут делать скидки для привлечения покупателей.\n",
    "\n",
    "С 2014 по 2018 год средняя стоимость квартир снижалась с 9 млн. 742 тыс. до 5 млн. 390 тыс. К 2019 году средняя стоимость квартир немного повысилась — 5 млн. 837 тыс. Уменьшение цен на квартиры с годами может быть обусловлено увеличением количества продаваемых квартир. В 2014 году было размещено всего 59 объявлений о продаже квартир в Санкт-Петербурге и соседних населённых пунктах на сервисе Яндекс Недвижимость, а в 2018 году — почти 8 тыс. объявлений. Повышение цен в 2019 году, возможно, случилось из-за меньшего количества размещённых объявлений о продаже квартиры — 2 тыс. 693. Снижение стоимости квартир с годами может также быть связано с уменьшением площади продаваемых квартир. В 2014 году средняя общая площадь составляла 83 м², а в 2018 году — 55 м². В 2019 году средняя общая площадь немного увеличилась, поэтому квартиры слегка подорожали. На стоимость квартир влияет количество доступных объектов и спрос — высокий спрос и ограниченное предложение повышают цены, а избыток предложения может привести к снижению цен. Кроме того, стоимость квартир зависит от размера недвижимости — большие объекты имеют более высокую стоимость, чем меньшие.\n",
    "\n",
    "Всех дешевле стоят квартиры, расположенные на первом этаже (медианная стоимость — 3 млн. 900 тыс.). Стоимость квартир на последнем этаже (медианная стоимость — 4 млн. 200 тыс.) ниже, чем на других этажах (медианная стоимость — 4 млн. 750 тыс.). Возможные причины того, что квартиры на первом этаже стоят дешевле, чем на других: проблемы с грязью и пылью (выход окон на проезжую часть, выхлопные газы); повышенный уровень шума (проезжающие автомобили, играющие во дворе дети, шумные молодёжные компании); высокая проходимость площадки на первом этаже (шум и загрязнённость); близость подвалов (сырость, насекомые, грызуны); низкое расположение окон (необходимость частого занавешивания окон от посторонних глаз); риск ограбления (лёгкий доступ для воров); загораживающие свет деревья; стереотипы о том, что жильё на первом этаже хуже. Причины, по которым квартиры на последнем этаже могут стоить дешевле: проблемы с температурой (холод или жара); повышенный уровень шума из-за ветра и дождя; риск протечек крыши; не всегда хороший вид (например, вид на соседнюю промзону, которая попадает в поле зрения из-за большой высоты).\n",
    "\n",
    "Посчитали количество размещённых объявлений о продаже квартиры и среднюю цену одного квадратного метра в 10 населённых пунктах с наибольшим числом объявлений. Построили круговую диаграмму, показывающую процентное соотношение 10 населённых пунктов с разной средней стоимостью одного квадратного метра квартиры. Выделили населённые пункты с самой высокой и низкой стоимостью квадратного метра.\n",
    "\n",
    "Самое большое число объявлений о продаже квартиры (14 тыс. 366 объявлений) было размещено в Санкт-Петербурге, на втором месте – Мурино (455 объявлений). Наименьшее количество объявлений (203 объявления) было подано в посёлке Парголово.\n",
    "\n",
    "Среди десяти населённых пунктов с наибольшим числом объявлений о продаже квартиры в городе федерального значения Санкт-Петербурге самая высокая средняя стоимость одного квадратного метра квартиры, в городе Выборге Ленинградской области – самая низкая. В Санкт-Петербурге средняя стоимость квартиры составляет 110 тыс. за квадратный метр, а в Выборге почти в два раза меньше – 58 тыс. Также достаточно высокой средней стоимостью квадратного метра отличается Пушкин, представляющий собой город в составе Санкт-Петербурга, – 102 тыс. К населённым пунктам с почти самой низкой средней стоимостью квадратного метра относятся города в Ленинградской области, такие как Гатчина и Всеволожск – 69 тыс. Стоимость квартир в разных населённых пунктах Санкт-Петербурга и Ленинградской области может отличаться в зависимости от плотности населения, наличия транспортных развязок, достопримечательностей, объектов социальной инфраструктуры, торговых объектов и других факторов.\n",
    "\n",
    "Установили, как стоимость квартир зависит от расстояния до центра города. Вычислили среднюю стоимость квартир в Санкт-Петербурге на разном удалении от центра. Построили график изменения средней цены на квартиру для каждого километра от центра Санкт-Петербурга.\n",
    "\n",
    "В целом можно наблюдать тренд к снижению средних цен на квартиры в Санкт-Петербурге по мере удаления от центра города. Средняя стоимость квартиры в одном километре от центра Санкт-Петербурга равна 11 млн. 187 тыс., в 15-ти километрах – 5 млн. 619 тыс., в 29-ти километрах – 4 млн. 210 тыс. Снижение средней стоимости квартир по мере удаления от центра города может быть связано с инфраструктурой. В отдалённых районах может быть меньше магазинов, образовательных учреждений и медицинских центров, что снижает стоимость квартир. Удалённость от центра может влиять на время в пути до работы и обратно, что сказывается на стоимости жилья. Районы на окраине города могут иметь худшую экологическую обстановку, что снижает стоимость квартир. В некоторых случаях периферийные районы могут быть менее привлекательными для бизнеса, что замедляет рост цен на недвижимость.\n",
    "\n",
    "С 1 по 3 км от центра Санкт-Петербурга средняя стоимость квартир снижается, с 4 по 5 км немного повышается. Более низкую среднюю стоимость квартир (9 млн. 73 тыс.) в трёх километрах от центра Санкт-Петербурга и повышение стоимости (10 млн. 196 тыс.) в пяти километрах от центра города можно объяснить увеличением доли квартир, расположенных на других этажах, и уменьшением доли квартир на первых этажах на пятом километре по сравнению с третьим. Квартиры на средних этажах стоят дороже, чем на первых. На третьем километре 59% составляют квартиры, расположенные на других этажах (170 квартир), 17% – на первых этажах (50 квартир). На пятом километре 75% составляют квартиры, расположенные на других этажах (548 квартир), 10% – на первых этажах (72 квартиры).\n",
    "\n",
    "В 27 км от центра города можно наблюдать резкое повышение средней стоимости недвижимости. Оно может быть связано с малым количеством квартир и отсутствием квартир, расположенных на первых этажах, отличающихся более низкой стоимостью. На 26-м километре 56% квартир находятся на других этажах (24 квартиры, средняя стоимость – 3 млн. 994 тыс.), 21% – на первых этажах (9 квартир). На 27-м километре есть всего 2 квартиры, которые расположены на другом (средняя стоимость – 14 млн. 350 тыс.) и последнем этажах.\n",
    "\n",
    "На небольшом удалении от центра города (1-5 км) квартиры имеют большую среднюю общую площадь (около 80 м²), большую жилую площадь (45-50 м²), большую площадь кухни (12-13 м²), высокие потолки (больше 3 м), а также высокую стоимость (9-11 млн.). У квартир с большей удалённостью от центра (6-29 км) меньше общая площадь (45-70 м²), жилая площадь (20-40 м²), площадь кухни (7-11 м²), ниже потолки (меньше 3 м) и стоимость (3-8 млн.). Однако на 27-м километре от центра встречается квартира, расположенная на 3-м этаже в 5-этажном доме, которая имеет очень высокую стоимость – 14 млн. 350 тыс., большую общую площадь – 74 м², большую жилую площадь – 30 м², рекордную площадь кухни – 25 м², высокие потолки – 3.13 м. На стоимость квартиры помимо удалённости от центра влияет этажность, площадь и высота потолков."
   ]
  },
  {
   "cell_type": "markdown",
   "metadata": {
    "id": "h7VpzkIDAwb-"
   },
   "source": [
    "## Общий вывод"
   ]
  },
  {
   "cell_type": "markdown",
   "metadata": {
    "id": "3H4lnp_KAwb-"
   },
   "source": [
    "Нами было проведено исследование объявлений о продаже квартир в Санкт-Петербурге и соседних населённых пунктах за 2014-2019 гг. на основе данных сервиса Яндекс Недвижимость.\n",
    "\n",
    "При изучении общей информации о данных, сохранённых в датафрейм, были обнаружены пропущенные значения в 14 столбцах из 22. Пропуски могут быть связаны с ошибками ввода данных, отсутствием некоторой информации в объявлениях о продаже квартир.\n",
    "\n",
    "В столбце с количеством этажей в доме пропущенные значения были удалены, так как их немного. В столбце с количеством балконов была произведена замена пропущенных значений на ноль, так как если продавцом в объявлении не указано, сколько в квартире балконов, то, скорее всего, их нет. В столбце с указанием, являются ли объекты недвижимости апартаментами, пропущенные значения были заменены на 'False', потому что если не указано, являются ли объекты недвижимости апартаментами, то, возможно, они не относится к данному типу.\n",
    "\n",
    "Установлено, что не для всех наблюдений характерно, что общая площадь без учёта площадей коридоров, сан.узлов, балконов (около 10% от общей площади) меньше или равна жилой площади и площади кухни, поэтому было бы неправильно заполнять пропуски с учётом отношения жилой площади к площади кухни и, наоборот.\n",
    "\n",
    "Было выявлено, что там, где отсутствует информация о количестве дней размещения объявления, имеются даты публикации объявления. Это означает, что объявление о продаже квартиры было размещено, но пока что не снято с публикации. Возможно, на момент сбора информации квартира ещё не была продана, или объявление забыли снять с публикации.\n",
    "\n",
    "Определено, что пропуски в данных, включающих количество парков и водоёмов в радиусе 3 км от дома, а также расстояние от дома до ближайшего парка, водоёма, аэропорта и центра города, связаны друг с другом. Эти данные получены автоматически из геосервисов. Возможно, существуют ошибки в алгоритме или программном обеспечении, используемом для автоматического сбора и обработки данных. Также причиной пропусков могут быть неполные или отсутствующие геотеги в исходных данных, непостоянство в доступности и точности геоинформации, предоставляемой сервисами. Отсутсвие данных может быть связано с ограничениями используемых инструментов и методов измерения расстояния. Некоторые пропуски в данных могут возникнуть из-за того, что парков, водоёмов, аэропортов нет поблизости, или они отсутствуют в принципе. Отсутствие некоторых данных о расстоянии до центра города может свидетельствовать о том, что объект недвижимости расположен за пределами городской черты.\n",
    "\n",
    "В разных местах существуют различные стандарты высоты потолков в квартирах. Этот показатель может меняться в зависимости от типа жилого здания, местных строительных норм. Заполнять пропуски в столбце с высотой потолков медианными или средними значениями было бы нецелесообразно, так как в разных районах Санкт-Петербурга высота потолков разная. В современных районах Санкт-Петербурга высота потолков ниже, чем в исторических. Заполнение большой доли пропусков медианой или средним значением привело бы к размытию отличительного свойства объектов недвижимости в центре города, поэтому пропуски были оставлены без изменений.\n",
    "\n",
    "Вещественные числа в столбцах со стоимостью квартиры, количеством балконов и количеством этажей были преобразованы в целые числа. Строки в столбце с информацией, когда было опубликовано объявление о продаже квартиры, были изменены на даты pandas.\n",
    "\n",
    "Были найдены и удалены 3 явных дубликата по ключевым параметрам квартиры, таким как общая площадь квартиры, этаж, общая этажность дома, расстояние до центра, название населённого пункта, количество комнат, дата размещения объявления о продаже квартиры. Были обнаружены и устранены неявные дубликаты в колонке с названиями населённых пунктов.\n",
    "\n",
    "В датафрейм были добавлены новые столбцы с ценой одного квадратного метра квартиры; днём недели, месяцем и годом публикации объявления о продаже квартиры; типом этажа квартиры; расстоянием до центра города в километрах.\n",
    "\n",
    "Были изучены характеристики распределения значений различных параметров квартир, построены диаграммы размаха, гистограммы или столбчатые диаграммы для каждого из этих параметров. Были выявлены и удалены редкие и выбивающиеся значения (аномалии), встречающиеся в параметрах, и создан новый датафрейм без выбросов. Доля удалённых аномальных значений составила 9%.\n",
    "\n",
    "В столбце датафрейма с высотой потолков были обнаружены слишком большие значения — 20 м, 32 м. Возможно, это вещественные значения, равные 2.0 м и 3.2 м. В некоторых данных могли забыть поставить точку или поставили её в неправильном месте. Значения высоты потолков, равные 20 м и более, были уменьшены в 10 раз.\n",
    "\n",
    "Как правило, квартиры имеют стоимость, равную 2.5-7.5 млн.; общую площадь, равную 25-75 м²; жилую площадь, равную 10-60 м²; площадь кухни, равную 5-15 м²; 1-3 комнаты; высоту потолков, равную 2.5-3 м; другой (не первый и не последний) этаж; общее количество этажей в доме, равное 5 или 9; расстояние до центра города, равное 11-16 км; расстояние до ближайшего парка, не превышающее 750 м.\n",
    "\n",
    "Быстрая продажа квартиры происходит меньше, чем за 1 месяц и 10 дней. Средняя продажа длится до полугода и 20 дней, долгая — до 1 года и 4.5 месяцев. Дольше 1 года и 4.5 месяцев — необычно долгий срок, возможно, квартиру уже продали и забыли снять объявление с публикации. Наиболее распространённое количество дней, в течение которых было размещено объявление о продаже квартиры, равно 45 (1.5 месяца). Медианное время продажи квартиры составляет 90 дней (3 месяца). В среднем продажа квартиры занимает 154 дня (5 месяцев).\n",
    "\n",
    "С 2014 по 2019 гг. средняя скорость продаж квартир увеличивалась. В 2014 г. в среднем продажа квартир занимала почти 2 года, а в 2019 г. — всего лишь месяц. Возможные причины увеличения средней скорости продаж квартир с годами: развитие онлайн-продаж и цифровых технологий в сфере недвижимости; улучшение экономической ситуации, рост доходов населения; развитие транспортной инфраструктуры и улучшение доступности новостроек; повышение качества строительства и благоустройства жилых комплексов; повышение интереса к инвестициям в недвижимость; развитие ипотечного кредитования и снижение процентных ставок по кредитам; рост популярности программ субсидирования ипотеки и льготной ипотеки для отдельных категорий граждан.\n",
    "\n",
    "Были рассчитаны корреляции и построены диаграммы рассеяния для стоимости квартиры и разных площадей.\n",
    "\n",
    "На стоимость объекта недвижимости оказывает влияние множество факторов. Значимым фактром является общая площадь квартиры. Существует достаточно сильная связь между стоимостью квартиры и общей площадью квартиры (корреляция равна 0.77). В целом, чем больше общая площадь квартиры, тем больше её стоимость, но встречаются квартиры с большой площадью и низкой стоимостью и, наоборот. Наиболее популярны (около 2 тыс. квартир) квартиры с общей площадью примерно от 25 до 35 м² и стоимостью от 2 млн. 200 тыс. до 4 млн.\n",
    "\n",
    "Корреляция (равна 0.66), определяющая взаимосвязь между стоимостью квартиры и жилой площадью квартиры, меньше, чем между стоимостью квартиры и общей площадью. Общая площадь обычно включает в себя все помещения в квартире, в том числе кухню, ванную комнату, кладовую и т.д., которые также могут влиять на стоимость. С увеличением жилой площади квартиры увеличивается и её стоимость, но это лишь в среднем. Можно найти примеры квартир с большой жилой площадью и низкой стоимостью, и наоборот, дорогие квартиры с маленькой жилой площадью. Чаще всего (около 2.5 тыс. квартир) встречаются квартиры с жилой площадью примерно от 14 до 20 м² и стоимостью от 1 млн. 400 тыс. до 3 млн. 500 тыс.\n",
    "\n",
    "Корреляция между стоимостью квартиры и площадью кухни на 0.2 меньше корреляции между стоимостью квартиры и её общей площадью. Возможно, стоимость квартиры и общая площадь теснее связаны друг с другом, чем стоимость и площадь кухни, по причине того, что общая площадь квартиры является более значимым фактором при определении стоимости квартиры, так как она отражает общее пространство, доступное для жизни. Только по площади кухни нельзя судить о качестве и функциональности кухни и о квартире в целом. С увеличением площади кухни увеличивается и её стоимость, однако это не всегда так. Можно найти примеры квартир с большой площадью и низкой стоимостью и, наоборот. Наиболее распространёнными являются квартиры (около 1.5 тыс. квартир) с площадью кухни примерно от 5.4 до 7 м² и стоимостью от 2 млн. 200 тыс. до 4 млн.\n",
    "\n",
    "Были построены линейные графики, показывающие зависимость стоимости квартиры от количества комнат; этажа, на котором расположена квартира; срока размещения объявления о продаже квартиры.\n",
    "\n",
    "Стоимость квартиры определяется количеством комнат. С увеличением числа комнат стоимость квартиры повышается. Медианная стоимость студии равна 2 млн. 800 тыс., 1-комнатной квартиры — 3 млн. 600 тыс., 2-комнатной квартиры — 4 млн. 750 тыс., 3-комнатной — 6 млн. 50 тыс, 7-комнатной — 15 млн.\n",
    "\n",
    "Стоимости квартир с разными днями недели публикации объявлений о продаже не сильно отличаются друг от друга. Чуть выше медианная стоимость квартиры, объявление о продаже которой опубликовано в начале недели (с понедельника по четверг) — от 4 млн. 550 тыс. до 4 млн. 600 тыс., чем в конце недели (с пятницы по воскресенье) — 4 млн. 500 тыс. Стоимость квартиры может быть выше в начале недели из-за большего количества объявлений о продаже. В этот период продавцы размещают больше объявлений и люди чаще их просматривают, что может привести к временному повышению цен на рынке недвижимости. Ближе к концу недели продавцы могут снижать цены на недвижимость, чтобы привлечь внимание потенциальных покупателей. Возможно, риэлторы отдыхают в выходные и цены на квартиры выставляются без наценки агентств недвижимости.\n",
    "\n",
    "Сезонность может оказывать влияние на стоимость квартир. Медианная стоимость квартир немного ниже в мае, июне и августе (с 4 млн. 350 тыс. по 4 млн. 500 тыс.), чем в другие месяцы (с 4 млн. 500 тыс. по 4 млн. 700 тыс.). Осенью, зимой и весной спрос на жильё возрастает, что приводит к повышению цен. В конце весны и летом, когда люди уезжают в отпуск, спрос на недвижимость снижается, и продавцы могут делать скидки для привлечения покупателей.\n",
    "\n",
    "С 2014 по 2018 год средняя стоимость квартир снижалась с 9 млн. 742 тыс. до 5 млн. 390 тыс. К 2019 году средняя стоимость квартир немного повысилась — 5 млн. 837 тыс. Уменьшение цен на квартиры с годами может быть обусловлено увеличением количества продаваемых квартир. В 2014 году было размещено всего 59 объявлений о продаже квартир в Санкт-Петербурге и соседних населённых пунктах на сервисе Яндекс Недвижимость, а в 2018 году — почти 8 тыс. объявлений. Повышение цен в 2019 году, возможно, случилось из-за меньшего количества размещённых объявлений о продаже квартиры — 2 тыс. 693. Снижение стоимости квартир с годами может также быть связано с уменьшением площади продаваемых квартир. В 2014 году средняя общая площадь составляла 83 м², а в 2018 году — 55 м². В 2019 году средняя общая площадь немного увеличилась, поэтому квартиры слегка подорожали. На стоимость квартир влияет количество доступных объектов и спрос — высокий спрос и ограниченное предложение повышают цены, а избыток предложения может привести к снижению цен. Кроме того, стоимость квартир зависит от размера недвижимости — большие объекты имеют более высокую стоимость, чем меньшие.\n",
    "\n",
    "Этажность оказывает влияние на стоимость квартир. Всех дешевле стоят квартиры, расположенные на первом этаже (медианная стоимость — 3 млн. 900 тыс.). Стоимость квартир на последнем этаже (медианная стоимость — 4 млн. 200 тыс.) ниже, чем на других этажах (медианная стоимость — 4 млн. 750 тыс.). Возможные причины того, что квартиры на первом этаже стоят дешевле, чем на других: проблемы с грязью и пылью, повышенный уровень шума, высокая проходимость лестничной площадки на первом этаже, близость подвалов, низкое расположение окон, риск ограбления, загораживающие свет деревья, стереотипы о проживании на первом этаже. Причины, по которым квартиры на последнем этаже могут стоить дешевле: жара или холод; повышенный уровень шума из-за ветра и дождя; риск протечек крыши; не всегда хороший вид из окон.\n",
    "\n",
    "Было рассчитано количество размещённых объявлений о продаже квартиры и средняя цена одного квадратного метра в 10 населённых пунктах с наибольшим числом объявлений. Построена круговая диаграмма, иллюстрирующая процентное соотношение 10 населённых пунктов с разной средней стоимостью одного квадратного метра квартиры.\n",
    "\n",
    "Среди десяти населённых пунктов с наибольшим числом объявлений о продаже квартиры Санкт-Петербург (14 тыс. 366 объявлений), являющийся городом федерального значения, отличается самой высокой средней стоимостью одного квадратного метра квартиры, а Выборг (227 объявлений), представляющий собой город в Ленинградской области, – самой низкой. В Санкт-Петербурге средняя стоимость квартиры составляет 110 тыс. за квадратный метр, а в Выборге почти в два раза меньше – 58 тыс. Стоимость квартир в разных населённых пунктах Санкт-Петербурга и Ленинградской области может отличаться в зависимости от плотности населения, наличия транспортных развязок, достопримечательностей, объектов социальной инфраструктуры, торговых объектов и других факторов.\n",
    "\n",
    "Была вычислена средняя стоимость квартир в Санкт-Петербурге на разном удалении от центра. Построен график изменения средней цены на квартиру для каждого километра от центра Санкт-Петербурга.\n",
    "\n",
    "Было установлено, что стоимость квартир зависит от расстояния до центра города. В целом можно наблюдать тренд к снижению средних цен на квартиры в Санкт-Петербурге по мере удаления от центра города. Средняя стоимость квартиры в одном километре от центра Санкт-Петербурга равна 11 млн. 187 тыс., в 29-ти километрах – 4 млн. 210 тыс. Снижение средней стоимости квартир по мере удаления от центра города может быть связано с инфраструктурой. В отдалённых районах может быть меньше магазинов, образовательных учреждений и медицинских центров, что снижает стоимость квартир. Удалённость от центра может влиять на время в пути до работы и обратно, что сказывается на стоимости жилья. Районы на окраине города могут иметь худшую экологическую обстановку, что снижает стоимость квартир. В некоторых случаях периферийные районы могут быть менее привлекательными для бизнеса, что замедляет рост цен на недвижимость.\n",
    "\n",
    "Как уже было отмечено ранее, на стоимость квартиры оказывает влияние этажность. С 1 по 3 км от центра Санкт-Петербурга средняя стоимость квартир снижается, с 4 по 5 км немного повышается. Более низкую среднюю стоимость квартир (9 млн. 73 тыс.) в трёх километрах от центра Санкт-Петербурга и повышение стоимости (10 млн. 196 тыс.) в пяти километрах от центра города можно объяснить увеличением доли квартир, расположенных на других этажах, и уменьшением доли квартир на первых этажах на пятом километре по сравнению с третьим. Квартиры на средних этажах стоят дороже, чем на первых. На третьем километре 59% составляют квартиры, расположенные на других этажах, 17% – на первых этажах. На пятом километре 75% составляют квартиры, расположенные на других этажах, 10% – на первых этажах.\n",
    "\n",
    "В 27 км от центра города можно наблюдать резкое повышение средней стоимости недвижимости. Оно может быть связано с малым количеством квартир и отсутствием квартир, расположенных на первых этажах, отличающихся более низкой стоимостью. На 27-м километре есть всего 2 квартиры, которые расположены на другом (средняя стоимость – 14 млн. 350 тыс.) и последнем этажах.\n",
    "\n",
    "На стоимость квартиры помимо удалённости от центра влияет этажность, площадь и высота потолков. По сравнению с квартирами  на небольшом удалении от центра города, у квартир с большей удалённостью (6-29 км) меньше общая площадь (45-70 м²), жилая площадь (20-40 м²), площадь кухни (7-11 м²), ниже потолки (меньше 3 м) и стоимость (3-8 млн.). Однако на 27-м километре от центра встречается квартира, расположенная на 3-м этаже в 5-этажном доме, которая имеет очень высокую стоимость – 14 млн. 350 тыс., большую общую площадь – 74 м², большую жилую площадь – 30 м², рекордную площадь кухни – 25 м², высокие потолки – 3.13 м.\n",
    "\n",
    "Подводя итоги, можно сделать вывод, что стоимость квартир зависит от площади, высоты потолков, числа комнат, этажности, населённого пункта, удалённости от центра города, времени продажи, количества продаваемых квартир.\n",
    "\n",
    "Результаты исследования могут быть использованы для построения автоматизированной системы оценки объектов недвижимости и определения их стоимости с целью отслеживания аномалий и мошеннической деятельности."
   ]
  },
  {
   "cell_type": "markdown",
   "metadata": {},
   "source": [
    "<div class=\"alert alert-success\">\n",
    "<font size=\"4\", color= \"seagreen\"><b>✔️ Комментарий ревьюера</b></font>\n",
    "    <br /> \n",
    "    <font size=\"3\", color = \"black\">\n",
    "<br /> Практически идеальный вывод, есть сравнения показателей, инсайты, анализ поведения рынка, молодец\n",
    "        \n",
    "можно добавить нюансов после исправления всех комментариев        "
   ]
  },
  {
   "cell_type": "markdown",
   "metadata": {},
   "source": [
    "<div class=\"alert alert-success\">\n",
    "<font size=\"5\", color= \"seagreen\"><b>✔️ Комментарий ревьюера</b></font>\n",
    "    <br /> \n",
    "    <font size=\"3\", color = \"black\">\n",
    "<br />    \n",
    "Выполнила исследовательскую работу, молодец, показала хороший уровень навыков программирования и огромное трудолюбие\n",
    "        \n",
    "Иногда стоит пожертвовать качеством проекта, чтобы уложиться в оптимальные сроки сдачи 🤝        \n",
    "        \n",
    "Критические ❌ комментарии\n",
    "\n",
    "+ проверить корректность заполнения пропусков синтетическими данными        \n",
    "+ сменить тип данных\n",
    "+ завершить фильтрацию редких значений\n",
    "+ подправить гистограмму в п.4.1\n",
    "+ поменять тип графика в ТОП-10\n",
    "+ исследовать аномалии в п.4.5\n",
    " \n",
    "        \n",
    "       \n",
    "        \n",
    "        \n",
    "С ними важно поработать и исправить\n",
    "        \n",
    "Стоит обратить внимание и на такие комментарии ⚠️\n",
    "        \n",
    "Если будут вопросы про мои комментарии - задавай, если какой-то формат взаимодействия не устраивает или есть какие-то другие пожелания - пиши :)\n",
    "\n",
    "<div class=\"alert alert-success\">\n",
    "    <font size=\"5\"><b>Жду твой проект и твои комментарии 🤝</b></font><br />\n",
    "    \n",
    "нумерация пунктов из брифа проекта, у тебя они могут быть другие\n",
    "    \n",
    "если не заметил твоих вопросов, просьба выделить цветом    \n",
    "    \n",
    "    \n",
    "__Для успешного исправления комментариев стоит прочитать справочные материалы ⬇⬇⬇__     "
   ]
  },
  {
   "cell_type": "markdown",
   "metadata": {},
   "source": [
    "<div style=\"border:solid steelblue 3px; padding: 20px\">\n",
    "<font size=\"4\">🍕<b> Комментарий ревьюера</b></font>\n",
    "<br /> \n",
    "<font size=\"3\", color = \"black\">\n",
    "<br />    \n",
    "    \n",
    "[Обработка пропусков в данных](https://loginom.ru/blog/missing)\n",
    "     \n",
    "        \n",
    "[Подробное руководство по группировке и агрегированию с помощью pandas](https://dfedorov.spb.ru/pandas/%D0%9F%D0%BE%D0%B4%D1%80%D0%BE%D0%B1%D0%BD%D0%BE%D0%B5%20%D1%80%D1%83%D0%BA%D0%BE%D0%B2%D0%BE%D0%B4%D1%81%D1%82%D0%B2%D0%BE%20%D0%BF%D0%BE%20%D0%B3%D1%80%D1%83%D0%BF%D0%BF%D0%B8%D1%80%D0%BE%D0%B2%D0%BA%D0%B5%20%D0%B8%20%D0%B0%D0%B3%D1%80%D0%B5%D0%B3%D0%B8%D1%80%D0%BE%D0%B2%D0%B0%D0%BD%D0%B8%D1%8E%20%D1%81%20%D0%BF%D0%BE%D0%BC%D0%BE%D1%89%D1%8C%D1%8E%20pandas.html)\n",
    "    \n",
    "[Сводная таблица в pandas](https://dfedorov.spb.ru/pandas/%D0%A1%D0%B2%D0%BE%D0%B4%D0%BD%D0%B0%D1%8F%20%D1%82%D0%B0%D0%B1%D0%BB%D0%B8%D1%86%D0%B0%20%D0%B2%20pandas.html?ysclid=lje9wz2vfc28794921)\n",
    "        \n",
    "[Понимание функции transform в Pandas](https://dfedorov.spb.ru/pandas/%D0%9F%D0%BE%D0%BD%D0%B8%D0%BC%D0%B0%D0%BD%D0%B8%D0%B5%20%D1%84%D1%83%D0%BD%D0%BA%D1%86%D0%B8%D0%B8%20transform%20%D0%B2%20Pandas.html)\n",
    "    \n",
    "[Как выбрать определенные столбцы из DataFrame](https://dfedorov.spb.ru/pandas/03.%20%D0%9A%D0%B0%D0%BA%20%D0%B2%D1%8B%D0%B1%D1%80%D0%B0%D1%82%D1%8C%20%D0%BF%D0%BE%D0%B4%D0%BC%D0%BD%D0%BE%D0%B6%D0%B5%D1%81%D1%82%D0%B2%D0%BE%20%D0%B8%D0%B7%20DataFrame_.html?ysclid=l9sps5lt6g576766938)\n",
    "    \n",
    "[How to visualise data using histograms in Pandas](https://practicaldatascience.co.uk/data-science/how-to-visualise-data-using-histograms-in-pandas)\n",
    "    \n",
    "[8 способов фильтрации фреймов данных Pandas](https://questu.ru/articles/85248/)    "
   ]
  },
  {
   "cell_type": "markdown",
   "metadata": {},
   "source": [
    "<div class=\"alert alert-info\">\n",
    "<font size=\"4\", color = \"black\"><b>✍ Комментарий студента</b></font>\n",
    "    <br /> \n",
    "    <font size=\"3\", color = \"black\">\n",
    "<br /> Привет, Ринат! Спасибо большое! Постаралась учесть замечания."
   ]
  },
  {
   "cell_type": "markdown",
   "metadata": {},
   "source": [
    "<div style>\n",
    "<font size=\"4\"><b></b></font>\n",
    "<font size=\"5\", color = \"black\">\n",
    "🤝"
   ]
  },
  {
   "cell_type": "markdown",
   "metadata": {},
   "source": [
    "## Бонус"
   ]
  },
  {
   "cell_type": "markdown",
   "metadata": {},
   "source": [
    "<div style=\"border:solid steelblue 3px; padding: 20px\">\n",
    "<font size=\"4\">🍕<b> Комментарий ревьюера в2</b></font>\n",
    "<br /> \n",
    "<font size=\"3\", color = \"black\">\n",
    "<br />Диаграмма рассеяния"
   ]
  },
  {
   "cell_type": "code",
   "execution_count": null,
   "metadata": {},
   "outputs": [],
   "source": [
    "# check\n",
    "import seaborn as sns\n",
    "import matplotlib.pyplot as plt"
   ]
  },
  {
   "cell_type": "code",
   "execution_count": null,
   "metadata": {},
   "outputs": [],
   "source": [
    "# check\n",
    "sns.pairplot(data[['last_price', 'total_area', 'rooms', 'city_centers_nearest']])\n",
    "plt.gcf().set_size_inches(12,12);\n"
   ]
  },
  {
   "cell_type": "code",
   "execution_count": null,
   "metadata": {},
   "outputs": [],
   "source": [
    "# check\n",
    "data[data['rooms'] == 3].query('total_area < 201 and last_price < 25_000_000').plot(kind='scatter',\n",
    "        y='last_price' , x='total_area', alpha=0.5, subplots=True, figsize=(15,8), c = 'b', s = 4)\n",
    "plt.title('Диаграмма рассеяния — Общая площадь — цена трешки')\n",
    "\n",
    "\n",
    "data[data['rooms'] == 3].query('total_area < 201 and last_price < 25_000_000').plot(kind='scatter', \n",
    "        y='last_price' , x='living_area', alpha=0.5, figsize=(15,8), c = 'r', s = 4)\n",
    "plt.title('Диаграмма рассеяния — Жилая площадь — цена трешки');"
   ]
  },
  {
   "cell_type": "code",
   "execution_count": null,
   "metadata": {},
   "outputs": [],
   "source": [
    "# check\n",
    "data[data['rooms'] == 3].query('total_area < 201 and last_price < 25_000_000').plot(kind='scatter',\n",
    "        y='living_area' , x='total_area', alpha=0.5, subplots=True, figsize=(15,8), c = 'MediumSpringGreen', s = 4)\n",
    "plt.title('Диаграмма рассеяния — Общая площадь — Жилая');"
   ]
  },
  {
   "cell_type": "markdown",
   "metadata": {},
   "source": [
    "<div class=\"alert alert-success\">\n",
    "<font size=\"4\", color= \"seagreen\"><b>✔️ Комментарий ревьюера в2</b></font>\n",
    "    <br /> \n",
    "    <font size=\"3\", color = \"black\">\n",
    "<br />пример с двойной сортировкой, у меня пример с общей стоимостью"
   ]
  },
  {
   "cell_type": "code",
   "execution_count": null,
   "metadata": {},
   "outputs": [],
   "source": [
    "# check TOP-10\n",
    "# способы группировки и сортировки информации\n",
    "\n",
    "(\n",
    "    data\n",
    "    .groupby('locality_name')['last_price']\n",
    "    .agg({'count', 'mean'})\n",
    "    .sort_values(by = 'count', ascending = False)\n",
    "    .head(10)\n",
    "    \n",
    ").sort_values(by = 'mean', ascending = False).style.format(\"{:,.0f}\")\n",
    "\n",
    "# .plot(y = 'mean', kind = 'bar')\n",
    "# стайл и плот вместе не работают"
   ]
  },
  {
   "cell_type": "code",
   "execution_count": null,
   "metadata": {},
   "outputs": [],
   "source": []
  }
 ],
 "metadata": {
  "ExecuteTimeLog": [
   {
    "duration": 826,
    "start_time": "2024-05-02T22:46:39.868Z"
   },
   {
    "duration": 13,
    "start_time": "2024-05-02T22:46:40.696Z"
   },
   {
    "duration": 124,
    "start_time": "2024-05-02T22:46:40.710Z"
   },
   {
    "duration": 24,
    "start_time": "2024-05-02T22:46:40.835Z"
   },
   {
    "duration": 33,
    "start_time": "2024-05-02T22:46:40.861Z"
   },
   {
    "duration": 2251,
    "start_time": "2024-05-02T22:46:40.895Z"
   },
   {
    "duration": 4,
    "start_time": "2024-05-02T22:46:43.148Z"
   },
   {
    "duration": 15,
    "start_time": "2024-05-02T22:46:43.153Z"
   },
   {
    "duration": 4,
    "start_time": "2024-05-02T22:46:43.169Z"
   },
   {
    "duration": 250,
    "start_time": "2024-05-02T22:46:43.174Z"
   },
   {
    "duration": 13,
    "start_time": "2024-05-02T22:46:43.426Z"
   },
   {
    "duration": 13,
    "start_time": "2024-05-02T22:46:43.441Z"
   },
   {
    "duration": 24,
    "start_time": "2024-05-02T22:46:43.455Z"
   },
   {
    "duration": 15,
    "start_time": "2024-05-02T22:46:43.481Z"
   },
   {
    "duration": 21,
    "start_time": "2024-05-02T22:46:43.497Z"
   },
   {
    "duration": 5,
    "start_time": "2024-05-02T22:46:43.519Z"
   },
   {
    "duration": 11,
    "start_time": "2024-05-02T22:46:43.526Z"
   },
   {
    "duration": 22,
    "start_time": "2024-05-02T22:46:43.539Z"
   },
   {
    "duration": 16,
    "start_time": "2024-05-02T22:46:43.563Z"
   },
   {
    "duration": 7,
    "start_time": "2024-05-02T22:46:43.580Z"
   },
   {
    "duration": 43,
    "start_time": "2024-05-02T22:46:43.588Z"
   },
   {
    "duration": 9,
    "start_time": "2024-05-02T22:46:43.633Z"
   },
   {
    "duration": 1418,
    "start_time": "2024-05-02T22:46:43.644Z"
   },
   {
    "duration": 3,
    "start_time": "2024-05-02T22:46:45.064Z"
   },
   {
    "duration": 85,
    "start_time": "2024-05-02T22:46:45.068Z"
   },
   {
    "duration": 71,
    "start_time": "2024-05-02T22:46:45.154Z"
   },
   {
    "duration": 76,
    "start_time": "2024-05-02T22:46:45.227Z"
   },
   {
    "duration": 44,
    "start_time": "2024-05-02T22:46:45.304Z"
   },
   {
    "duration": 53,
    "start_time": "2024-05-02T22:46:45.350Z"
   },
   {
    "duration": 41,
    "start_time": "2024-05-02T22:46:45.405Z"
   },
   {
    "duration": 36,
    "start_time": "2024-05-02T22:46:45.451Z"
   },
   {
    "duration": 33,
    "start_time": "2024-05-02T22:46:45.489Z"
   },
   {
    "duration": 21,
    "start_time": "2024-05-02T22:46:45.524Z"
   },
   {
    "duration": 42,
    "start_time": "2024-05-02T22:46:45.547Z"
   },
   {
    "duration": 71,
    "start_time": "2024-05-02T22:46:45.591Z"
   },
   {
    "duration": 54,
    "start_time": "2024-05-02T22:46:45.663Z"
   },
   {
    "duration": 189,
    "start_time": "2024-05-02T22:46:45.718Z"
   },
   {
    "duration": 24,
    "start_time": "2024-05-02T22:46:45.909Z"
   },
   {
    "duration": 52,
    "start_time": "2024-05-02T22:46:45.934Z"
   },
   {
    "duration": 58,
    "start_time": "2024-05-02T22:46:45.987Z"
   },
   {
    "duration": 30,
    "start_time": "2024-05-02T22:46:46.047Z"
   },
   {
    "duration": 30,
    "start_time": "2024-05-02T22:46:46.079Z"
   },
   {
    "duration": 35,
    "start_time": "2024-05-02T22:46:46.110Z"
   },
   {
    "duration": 38,
    "start_time": "2024-05-02T22:46:46.146Z"
   },
   {
    "duration": 25,
    "start_time": "2024-05-02T22:46:46.186Z"
   },
   {
    "duration": 6,
    "start_time": "2024-05-02T22:46:46.213Z"
   },
   {
    "duration": 14,
    "start_time": "2024-05-02T22:46:46.220Z"
   },
   {
    "duration": 349,
    "start_time": "2024-05-02T22:46:46.235Z"
   },
   {
    "duration": 3,
    "start_time": "2024-05-02T22:46:46.586Z"
   },
   {
    "duration": 52,
    "start_time": "2024-05-02T22:46:46.591Z"
   },
   {
    "duration": 156,
    "start_time": "2024-05-02T22:46:46.644Z"
   },
   {
    "duration": 510,
    "start_time": "2024-05-02T22:46:46.801Z"
   },
   {
    "duration": 8,
    "start_time": "2024-05-02T22:46:47.312Z"
   },
   {
    "duration": 212,
    "start_time": "2024-05-02T22:46:47.321Z"
   },
   {
    "duration": 5,
    "start_time": "2024-05-02T22:46:47.535Z"
   },
   {
    "duration": 235,
    "start_time": "2024-05-02T22:46:47.541Z"
   },
   {
    "duration": 168,
    "start_time": "2024-05-02T22:46:47.777Z"
   },
   {
    "duration": 9,
    "start_time": "2024-05-02T22:46:47.947Z"
   },
   {
    "duration": 56,
    "start_time": "2024-05-02T22:46:47.958Z"
   },
   {
    "duration": 168,
    "start_time": "2024-05-02T22:46:48.015Z"
   },
   {
    "duration": 4,
    "start_time": "2024-05-02T22:46:48.184Z"
   },
   {
    "duration": 223,
    "start_time": "2024-05-02T22:46:48.190Z"
   },
   {
    "duration": 224,
    "start_time": "2024-05-02T22:46:48.415Z"
   },
   {
    "duration": 11,
    "start_time": "2024-05-02T22:46:48.641Z"
   },
   {
    "duration": 18,
    "start_time": "2024-05-02T22:46:48.654Z"
   },
   {
    "duration": 188,
    "start_time": "2024-05-02T22:46:48.674Z"
   },
   {
    "duration": 6,
    "start_time": "2024-05-02T22:46:48.863Z"
   },
   {
    "duration": 231,
    "start_time": "2024-05-02T22:46:48.871Z"
   },
   {
    "duration": 166,
    "start_time": "2024-05-02T22:46:49.103Z"
   },
   {
    "duration": 9,
    "start_time": "2024-05-02T22:46:49.271Z"
   },
   {
    "duration": 19,
    "start_time": "2024-05-02T22:46:49.281Z"
   },
   {
    "duration": 174,
    "start_time": "2024-05-02T22:46:49.301Z"
   },
   {
    "duration": 4,
    "start_time": "2024-05-02T22:46:49.477Z"
   },
   {
    "duration": 197,
    "start_time": "2024-05-02T22:46:49.483Z"
   },
   {
    "duration": 153,
    "start_time": "2024-05-02T22:46:49.682Z"
   },
   {
    "duration": 9,
    "start_time": "2024-05-02T22:46:49.836Z"
   },
   {
    "duration": 38,
    "start_time": "2024-05-02T22:46:49.846Z"
   },
   {
    "duration": 319,
    "start_time": "2024-05-02T22:46:49.886Z"
   },
   {
    "duration": 389,
    "start_time": "2024-05-02T22:46:50.207Z"
   },
   {
    "duration": 7,
    "start_time": "2024-05-02T22:46:50.597Z"
   },
   {
    "duration": 43,
    "start_time": "2024-05-02T22:46:50.606Z"
   },
   {
    "duration": 52,
    "start_time": "2024-05-02T22:46:50.651Z"
   },
   {
    "duration": 337,
    "start_time": "2024-05-02T22:46:50.705Z"
   },
   {
    "duration": 10,
    "start_time": "2024-05-02T22:46:51.095Z"
   },
   {
    "duration": 41,
    "start_time": "2024-05-02T22:46:51.106Z"
   },
   {
    "duration": 224,
    "start_time": "2024-05-02T22:46:51.149Z"
   },
   {
    "duration": 5,
    "start_time": "2024-05-02T22:46:51.374Z"
   },
   {
    "duration": 170,
    "start_time": "2024-05-02T22:46:51.394Z"
   },
   {
    "duration": 193,
    "start_time": "2024-05-02T22:46:51.566Z"
   },
   {
    "duration": 7,
    "start_time": "2024-05-02T22:46:51.761Z"
   },
   {
    "duration": 198,
    "start_time": "2024-05-02T22:46:51.770Z"
   },
   {
    "duration": 10,
    "start_time": "2024-05-02T22:46:51.970Z"
   },
   {
    "duration": 25,
    "start_time": "2024-05-02T22:46:51.981Z"
   },
   {
    "duration": 183,
    "start_time": "2024-05-02T22:46:52.008Z"
   },
   {
    "duration": 5,
    "start_time": "2024-05-02T22:46:52.194Z"
   },
   {
    "duration": 280,
    "start_time": "2024-05-02T22:46:52.200Z"
   },
   {
    "duration": 158,
    "start_time": "2024-05-02T22:46:52.482Z"
   },
   {
    "duration": 10,
    "start_time": "2024-05-02T22:46:52.642Z"
   },
   {
    "duration": 17,
    "start_time": "2024-05-02T22:46:52.654Z"
   },
   {
    "duration": 173,
    "start_time": "2024-05-02T22:46:52.672Z"
   },
   {
    "duration": 5,
    "start_time": "2024-05-02T22:46:52.847Z"
   },
   {
    "duration": 241,
    "start_time": "2024-05-02T22:46:52.854Z"
   },
   {
    "duration": 171,
    "start_time": "2024-05-02T22:46:53.097Z"
   },
   {
    "duration": 9,
    "start_time": "2024-05-02T22:46:53.270Z"
   },
   {
    "duration": 23,
    "start_time": "2024-05-02T22:46:53.280Z"
   },
   {
    "duration": 170,
    "start_time": "2024-05-02T22:46:53.305Z"
   },
   {
    "duration": 6,
    "start_time": "2024-05-02T22:46:53.477Z"
   },
   {
    "duration": 199,
    "start_time": "2024-05-02T22:46:53.484Z"
   },
   {
    "duration": 189,
    "start_time": "2024-05-02T22:46:53.685Z"
   },
   {
    "duration": 19,
    "start_time": "2024-05-02T22:46:53.876Z"
   },
   {
    "duration": 33,
    "start_time": "2024-05-02T22:46:53.897Z"
   },
   {
    "duration": 157,
    "start_time": "2024-05-02T22:46:53.931Z"
   },
   {
    "duration": 6,
    "start_time": "2024-05-02T22:46:54.089Z"
   },
   {
    "duration": 210,
    "start_time": "2024-05-02T22:46:54.096Z"
   },
   {
    "duration": 5,
    "start_time": "2024-05-02T22:46:54.308Z"
   },
   {
    "duration": 25,
    "start_time": "2024-05-02T22:46:54.315Z"
   },
   {
    "duration": 15,
    "start_time": "2024-05-02T22:46:54.342Z"
   },
   {
    "duration": 264,
    "start_time": "2024-05-02T22:46:54.359Z"
   },
   {
    "duration": 249,
    "start_time": "2024-05-02T22:46:54.624Z"
   },
   {
    "duration": 283,
    "start_time": "2024-05-02T22:46:54.875Z"
   },
   {
    "duration": 283,
    "start_time": "2024-05-02T22:46:55.160Z"
   },
   {
    "duration": 387,
    "start_time": "2024-05-02T22:46:55.445Z"
   },
   {
    "duration": 477,
    "start_time": "2024-05-02T22:46:55.834Z"
   },
   {
    "duration": 223,
    "start_time": "2024-05-02T22:46:56.312Z"
   },
   {
    "duration": 221,
    "start_time": "2024-05-02T22:46:56.537Z"
   },
   {
    "duration": 212,
    "start_time": "2024-05-02T22:46:56.760Z"
   },
   {
    "duration": 209,
    "start_time": "2024-05-02T22:46:56.973Z"
   },
   {
    "duration": 26,
    "start_time": "2024-05-02T22:46:57.184Z"
   },
   {
    "duration": 222,
    "start_time": "2024-05-02T22:46:57.212Z"
   },
   {
    "duration": 10,
    "start_time": "2024-05-02T22:46:57.436Z"
   },
   {
    "duration": 38,
    "start_time": "2024-05-02T22:46:57.448Z"
   },
   {
    "duration": 218,
    "start_time": "2024-05-02T22:46:57.487Z"
   },
   {
    "duration": 210,
    "start_time": "2024-05-02T22:46:57.706Z"
   },
   {
    "duration": 132,
    "start_time": "2024-05-02T22:48:24.296Z"
   },
   {
    "duration": 35,
    "start_time": "2024-05-02T22:50:59.570Z"
   },
   {
    "duration": 4,
    "start_time": "2024-05-02T22:51:26.845Z"
   },
   {
    "duration": 13,
    "start_time": "2024-05-02T22:55:30.070Z"
   },
   {
    "duration": 52,
    "start_time": "2024-05-02T22:55:35.583Z"
   },
   {
    "duration": 538,
    "start_time": "2024-05-02T23:08:21.127Z"
   },
   {
    "duration": 28,
    "start_time": "2024-05-02T23:08:21.667Z"
   },
   {
    "duration": 176,
    "start_time": "2024-05-02T23:08:21.696Z"
   },
   {
    "duration": 74,
    "start_time": "2024-05-02T23:08:21.874Z"
   },
   {
    "duration": 159,
    "start_time": "2024-05-02T23:08:21.949Z"
   },
   {
    "duration": 2329,
    "start_time": "2024-05-02T23:08:22.110Z"
   },
   {
    "duration": 4,
    "start_time": "2024-05-02T23:08:24.441Z"
   },
   {
    "duration": 40,
    "start_time": "2024-05-02T23:08:24.446Z"
   },
   {
    "duration": 21,
    "start_time": "2024-05-02T23:08:24.488Z"
   },
   {
    "duration": 245,
    "start_time": "2024-05-02T23:08:24.512Z"
   },
   {
    "duration": 10,
    "start_time": "2024-05-02T23:08:24.759Z"
   },
   {
    "duration": 29,
    "start_time": "2024-05-02T23:08:24.770Z"
   },
   {
    "duration": 26,
    "start_time": "2024-05-02T23:08:24.800Z"
   },
   {
    "duration": 59,
    "start_time": "2024-05-02T23:08:24.828Z"
   },
   {
    "duration": 64,
    "start_time": "2024-05-02T23:08:24.888Z"
   },
   {
    "duration": 62,
    "start_time": "2024-05-02T23:08:24.954Z"
   },
   {
    "duration": 60,
    "start_time": "2024-05-02T23:08:25.018Z"
   },
   {
    "duration": 54,
    "start_time": "2024-05-02T23:08:25.080Z"
   },
   {
    "duration": 70,
    "start_time": "2024-05-02T23:08:25.135Z"
   },
   {
    "duration": 54,
    "start_time": "2024-05-02T23:08:25.207Z"
   },
   {
    "duration": 51,
    "start_time": "2024-05-02T23:08:25.263Z"
   },
   {
    "duration": 32,
    "start_time": "2024-05-02T23:08:25.316Z"
   },
   {
    "duration": 1578,
    "start_time": "2024-05-02T23:08:25.350Z"
   },
   {
    "duration": 4,
    "start_time": "2024-05-02T23:08:26.930Z"
   },
   {
    "duration": 28,
    "start_time": "2024-05-02T23:08:26.936Z"
   },
   {
    "duration": 55,
    "start_time": "2024-05-02T23:08:26.966Z"
   },
   {
    "duration": 42,
    "start_time": "2024-05-02T23:08:27.023Z"
   },
   {
    "duration": 44,
    "start_time": "2024-05-02T23:08:27.070Z"
   },
   {
    "duration": 50,
    "start_time": "2024-05-02T23:08:27.116Z"
   },
   {
    "duration": 30,
    "start_time": "2024-05-02T23:08:27.168Z"
   },
   {
    "duration": 53,
    "start_time": "2024-05-02T23:08:27.200Z"
   },
   {
    "duration": 34,
    "start_time": "2024-05-02T23:08:27.254Z"
   },
   {
    "duration": 26,
    "start_time": "2024-05-02T23:08:27.289Z"
   },
   {
    "duration": 32,
    "start_time": "2024-05-02T23:08:27.317Z"
   },
   {
    "duration": 62,
    "start_time": "2024-05-02T23:08:27.350Z"
   },
   {
    "duration": 54,
    "start_time": "2024-05-02T23:08:27.414Z"
   },
   {
    "duration": 168,
    "start_time": "2024-05-02T23:08:27.470Z"
   },
   {
    "duration": 24,
    "start_time": "2024-05-02T23:08:27.640Z"
   },
   {
    "duration": 96,
    "start_time": "2024-05-02T23:08:27.666Z"
   },
   {
    "duration": 48,
    "start_time": "2024-05-02T23:08:27.764Z"
   },
   {
    "duration": 28,
    "start_time": "2024-05-02T23:08:27.814Z"
   },
   {
    "duration": 8,
    "start_time": "2024-05-02T23:08:27.844Z"
   },
   {
    "duration": 25,
    "start_time": "2024-05-02T23:08:27.854Z"
   },
   {
    "duration": 5,
    "start_time": "2024-05-02T23:08:27.881Z"
   },
   {
    "duration": 42,
    "start_time": "2024-05-02T23:08:27.888Z"
   },
   {
    "duration": 65,
    "start_time": "2024-05-02T23:08:27.931Z"
   },
   {
    "duration": 47,
    "start_time": "2024-05-02T23:08:27.998Z"
   },
   {
    "duration": 352,
    "start_time": "2024-05-02T23:08:28.047Z"
   },
   {
    "duration": 4,
    "start_time": "2024-05-02T23:08:28.400Z"
   },
   {
    "duration": 101,
    "start_time": "2024-05-02T23:08:28.405Z"
   },
   {
    "duration": 164,
    "start_time": "2024-05-02T23:08:28.508Z"
   },
   {
    "duration": 198,
    "start_time": "2024-05-02T23:08:28.674Z"
   },
   {
    "duration": 450,
    "start_time": "2024-05-02T23:08:28.874Z"
   },
   {
    "duration": 7,
    "start_time": "2024-05-02T23:08:29.326Z"
   },
   {
    "duration": 188,
    "start_time": "2024-05-02T23:08:29.335Z"
   },
   {
    "duration": 5,
    "start_time": "2024-05-02T23:08:29.525Z"
   },
   {
    "duration": 278,
    "start_time": "2024-05-02T23:08:29.531Z"
   },
   {
    "duration": 167,
    "start_time": "2024-05-02T23:08:29.811Z"
   },
   {
    "duration": 19,
    "start_time": "2024-05-02T23:08:29.980Z"
   },
   {
    "duration": 9,
    "start_time": "2024-05-02T23:08:30.000Z"
   },
   {
    "duration": 208,
    "start_time": "2024-05-02T23:08:30.011Z"
   },
   {
    "duration": 6,
    "start_time": "2024-05-02T23:08:30.220Z"
   },
   {
    "duration": 265,
    "start_time": "2024-05-02T23:08:30.227Z"
   },
   {
    "duration": 259,
    "start_time": "2024-05-02T23:08:30.494Z"
   },
   {
    "duration": 29,
    "start_time": "2024-05-02T23:08:30.755Z"
   },
   {
    "duration": 82,
    "start_time": "2024-05-02T23:08:30.786Z"
   },
   {
    "duration": 278,
    "start_time": "2024-05-02T23:08:30.870Z"
   },
   {
    "duration": 5,
    "start_time": "2024-05-02T23:08:31.150Z"
   },
   {
    "duration": 330,
    "start_time": "2024-05-02T23:08:31.157Z"
   },
   {
    "duration": 174,
    "start_time": "2024-05-02T23:08:31.494Z"
   },
   {
    "duration": 10,
    "start_time": "2024-05-02T23:08:31.670Z"
   },
   {
    "duration": 119,
    "start_time": "2024-05-02T23:08:31.681Z"
   },
   {
    "duration": 79,
    "start_time": "2024-05-02T23:08:31.802Z"
   },
   {
    "duration": 202,
    "start_time": "2024-05-02T23:08:31.882Z"
   },
   {
    "duration": 309,
    "start_time": "2024-05-02T23:08:32.085Z"
   },
   {
    "duration": 5,
    "start_time": "2024-05-02T23:08:32.395Z"
   },
   {
    "duration": 285,
    "start_time": "2024-05-02T23:08:32.401Z"
   },
   {
    "duration": 165,
    "start_time": "2024-05-02T23:08:32.688Z"
   },
   {
    "duration": 10,
    "start_time": "2024-05-02T23:08:32.855Z"
   },
   {
    "duration": 23,
    "start_time": "2024-05-02T23:08:32.866Z"
   },
   {
    "duration": 205,
    "start_time": "2024-05-02T23:08:32.890Z"
   },
   {
    "duration": 194,
    "start_time": "2024-05-02T23:08:33.102Z"
   },
   {
    "duration": 7,
    "start_time": "2024-05-02T23:08:33.298Z"
   },
   {
    "duration": 30,
    "start_time": "2024-05-02T23:08:33.307Z"
   },
   {
    "duration": 73,
    "start_time": "2024-05-02T23:08:33.338Z"
   },
   {
    "duration": 198,
    "start_time": "2024-05-02T23:08:33.412Z"
   },
   {
    "duration": 10,
    "start_time": "2024-05-02T23:08:33.612Z"
   },
   {
    "duration": 36,
    "start_time": "2024-05-02T23:08:33.624Z"
   },
   {
    "duration": 167,
    "start_time": "2024-05-02T23:08:33.662Z"
   },
   {
    "duration": 5,
    "start_time": "2024-05-02T23:08:33.830Z"
   },
   {
    "duration": 203,
    "start_time": "2024-05-02T23:08:33.837Z"
   },
   {
    "duration": 159,
    "start_time": "2024-05-02T23:08:34.041Z"
   },
   {
    "duration": 9,
    "start_time": "2024-05-02T23:08:34.202Z"
   },
   {
    "duration": 173,
    "start_time": "2024-05-02T23:08:34.212Z"
   },
   {
    "duration": 13,
    "start_time": "2024-05-02T23:08:34.387Z"
   },
   {
    "duration": 29,
    "start_time": "2024-05-02T23:08:34.401Z"
   },
   {
    "duration": 169,
    "start_time": "2024-05-02T23:08:34.431Z"
   },
   {
    "duration": 5,
    "start_time": "2024-05-02T23:08:34.601Z"
   },
   {
    "duration": 304,
    "start_time": "2024-05-02T23:08:34.607Z"
   },
   {
    "duration": 208,
    "start_time": "2024-05-02T23:08:34.913Z"
   },
   {
    "duration": 86,
    "start_time": "2024-05-02T23:08:35.122Z"
   },
   {
    "duration": 51,
    "start_time": "2024-05-02T23:08:35.210Z"
   },
   {
    "duration": 200,
    "start_time": "2024-05-02T23:08:35.263Z"
   },
   {
    "duration": 6,
    "start_time": "2024-05-02T23:08:35.464Z"
   },
   {
    "duration": 260,
    "start_time": "2024-05-02T23:08:35.471Z"
   },
   {
    "duration": 159,
    "start_time": "2024-05-02T23:08:35.732Z"
   },
   {
    "duration": 9,
    "start_time": "2024-05-02T23:08:35.894Z"
   },
   {
    "duration": 104,
    "start_time": "2024-05-02T23:08:35.905Z"
   },
   {
    "duration": 163,
    "start_time": "2024-05-02T23:08:36.011Z"
   },
   {
    "duration": 4,
    "start_time": "2024-05-02T23:08:36.176Z"
   },
   {
    "duration": 203,
    "start_time": "2024-05-02T23:08:36.181Z"
   },
   {
    "duration": 181,
    "start_time": "2024-05-02T23:08:36.393Z"
   },
   {
    "duration": 19,
    "start_time": "2024-05-02T23:08:36.576Z"
   },
   {
    "duration": 22,
    "start_time": "2024-05-02T23:08:36.596Z"
   },
   {
    "duration": 172,
    "start_time": "2024-05-02T23:08:36.619Z"
   },
   {
    "duration": 5,
    "start_time": "2024-05-02T23:08:36.792Z"
   },
   {
    "duration": 212,
    "start_time": "2024-05-02T23:08:36.799Z"
   },
   {
    "duration": 5,
    "start_time": "2024-05-02T23:08:37.012Z"
   },
   {
    "duration": 53,
    "start_time": "2024-05-02T23:08:37.018Z"
   },
   {
    "duration": 56,
    "start_time": "2024-05-02T23:08:37.072Z"
   },
   {
    "duration": 806,
    "start_time": "2024-05-02T23:08:37.130Z"
   },
   {
    "duration": 8,
    "start_time": "2024-05-02T23:08:37.937Z"
   },
   {
    "duration": 309,
    "start_time": "2024-05-02T23:08:37.946Z"
   },
   {
    "duration": 387,
    "start_time": "2024-05-02T23:08:38.256Z"
   },
   {
    "duration": 128,
    "start_time": "2024-05-02T23:08:38.645Z"
   },
   {
    "duration": 137,
    "start_time": "2024-05-02T23:08:38.775Z"
   },
   {
    "duration": 15,
    "start_time": "2024-05-02T23:08:38.914Z"
   },
   {
    "duration": 16,
    "start_time": "2024-05-02T23:08:38.931Z"
   },
   {
    "duration": 11,
    "start_time": "2024-05-02T23:08:38.949Z"
   },
   {
    "duration": 282,
    "start_time": "2024-05-02T23:08:38.961Z"
   },
   {
    "duration": 265,
    "start_time": "2024-05-02T23:08:39.245Z"
   },
   {
    "duration": 228,
    "start_time": "2024-05-02T23:08:39.511Z"
   },
   {
    "duration": 270,
    "start_time": "2024-05-02T23:08:39.740Z"
   },
   {
    "duration": 231,
    "start_time": "2024-05-02T23:08:40.012Z"
   },
   {
    "duration": 276,
    "start_time": "2024-05-02T23:08:40.245Z"
   },
   {
    "duration": 218,
    "start_time": "2024-05-02T23:08:40.523Z"
   },
   {
    "duration": 206,
    "start_time": "2024-05-02T23:08:40.742Z"
   },
   {
    "duration": 220,
    "start_time": "2024-05-02T23:08:40.950Z"
   },
   {
    "duration": 212,
    "start_time": "2024-05-02T23:08:41.171Z"
   },
   {
    "duration": 25,
    "start_time": "2024-05-02T23:08:41.385Z"
   },
   {
    "duration": 340,
    "start_time": "2024-05-02T23:08:41.412Z"
   },
   {
    "duration": 7,
    "start_time": "2024-05-02T23:08:41.754Z"
   },
   {
    "duration": 39,
    "start_time": "2024-05-02T23:08:41.763Z"
   },
   {
    "duration": 233,
    "start_time": "2024-05-02T23:08:41.803Z"
   },
   {
    "duration": 216,
    "start_time": "2024-05-02T23:08:42.037Z"
   },
   {
    "duration": 55,
    "start_time": "2024-05-15T10:21:42.594Z"
   },
   {
    "duration": 1283,
    "start_time": "2024-05-15T10:21:47.592Z"
   },
   {
    "duration": 278,
    "start_time": "2024-05-15T10:21:48.880Z"
   },
   {
    "duration": 11,
    "start_time": "2024-05-15T10:21:49.160Z"
   },
   {
    "duration": 132,
    "start_time": "2024-05-15T10:21:49.173Z"
   },
   {
    "duration": 27,
    "start_time": "2024-05-15T10:21:49.306Z"
   },
   {
    "duration": 34,
    "start_time": "2024-05-15T10:21:49.335Z"
   },
   {
    "duration": 2472,
    "start_time": "2024-05-15T10:21:49.371Z"
   },
   {
    "duration": 4,
    "start_time": "2024-05-15T10:21:51.845Z"
   },
   {
    "duration": 20,
    "start_time": "2024-05-15T10:21:51.850Z"
   },
   {
    "duration": 10,
    "start_time": "2024-05-15T10:21:51.873Z"
   },
   {
    "duration": 266,
    "start_time": "2024-05-15T10:21:51.893Z"
   },
   {
    "duration": 280,
    "start_time": "2024-05-15T10:21:52.161Z"
   },
   {
    "duration": 14,
    "start_time": "2024-05-15T10:21:52.443Z"
   },
   {
    "duration": 156,
    "start_time": "2024-05-15T10:21:52.459Z"
   },
   {
    "duration": 0,
    "start_time": "2024-05-15T10:21:52.623Z"
   },
   {
    "duration": 0,
    "start_time": "2024-05-15T10:21:52.625Z"
   },
   {
    "duration": 0,
    "start_time": "2024-05-15T10:21:52.626Z"
   },
   {
    "duration": 0,
    "start_time": "2024-05-15T10:21:52.627Z"
   },
   {
    "duration": 0,
    "start_time": "2024-05-15T10:21:52.629Z"
   },
   {
    "duration": 0,
    "start_time": "2024-05-15T10:21:52.630Z"
   },
   {
    "duration": 0,
    "start_time": "2024-05-15T10:21:52.631Z"
   },
   {
    "duration": 0,
    "start_time": "2024-05-15T10:21:52.633Z"
   },
   {
    "duration": 0,
    "start_time": "2024-05-15T10:21:52.634Z"
   },
   {
    "duration": 0,
    "start_time": "2024-05-15T10:21:52.635Z"
   },
   {
    "duration": 0,
    "start_time": "2024-05-15T10:21:52.637Z"
   },
   {
    "duration": 0,
    "start_time": "2024-05-15T10:21:52.638Z"
   },
   {
    "duration": 0,
    "start_time": "2024-05-15T10:21:52.639Z"
   },
   {
    "duration": 0,
    "start_time": "2024-05-15T10:21:52.640Z"
   },
   {
    "duration": 0,
    "start_time": "2024-05-15T10:21:52.641Z"
   },
   {
    "duration": 0,
    "start_time": "2024-05-15T10:21:52.643Z"
   },
   {
    "duration": 0,
    "start_time": "2024-05-15T10:21:52.644Z"
   },
   {
    "duration": 0,
    "start_time": "2024-05-15T10:21:52.645Z"
   },
   {
    "duration": 0,
    "start_time": "2024-05-15T10:21:52.646Z"
   },
   {
    "duration": 0,
    "start_time": "2024-05-15T10:21:52.647Z"
   },
   {
    "duration": 0,
    "start_time": "2024-05-15T10:21:52.680Z"
   },
   {
    "duration": 0,
    "start_time": "2024-05-15T10:21:52.681Z"
   },
   {
    "duration": 0,
    "start_time": "2024-05-15T10:21:52.683Z"
   },
   {
    "duration": 0,
    "start_time": "2024-05-15T10:21:52.686Z"
   },
   {
    "duration": 0,
    "start_time": "2024-05-15T10:21:52.686Z"
   },
   {
    "duration": 0,
    "start_time": "2024-05-15T10:21:52.687Z"
   },
   {
    "duration": 0,
    "start_time": "2024-05-15T10:21:52.689Z"
   },
   {
    "duration": 0,
    "start_time": "2024-05-15T10:21:52.690Z"
   },
   {
    "duration": 0,
    "start_time": "2024-05-15T10:21:52.696Z"
   },
   {
    "duration": 0,
    "start_time": "2024-05-15T10:21:52.697Z"
   },
   {
    "duration": 0,
    "start_time": "2024-05-15T10:21:52.698Z"
   },
   {
    "duration": 0,
    "start_time": "2024-05-15T10:21:52.699Z"
   },
   {
    "duration": 0,
    "start_time": "2024-05-15T10:21:52.700Z"
   },
   {
    "duration": 0,
    "start_time": "2024-05-15T10:21:52.701Z"
   },
   {
    "duration": 0,
    "start_time": "2024-05-15T10:21:52.704Z"
   },
   {
    "duration": 0,
    "start_time": "2024-05-15T10:21:52.705Z"
   },
   {
    "duration": 0,
    "start_time": "2024-05-15T10:21:52.707Z"
   },
   {
    "duration": 0,
    "start_time": "2024-05-15T10:21:52.708Z"
   },
   {
    "duration": 0,
    "start_time": "2024-05-15T10:21:52.710Z"
   },
   {
    "duration": 0,
    "start_time": "2024-05-15T10:21:52.711Z"
   },
   {
    "duration": 0,
    "start_time": "2024-05-15T10:21:52.712Z"
   },
   {
    "duration": 0,
    "start_time": "2024-05-15T10:21:52.713Z"
   },
   {
    "duration": 1,
    "start_time": "2024-05-15T10:21:52.714Z"
   },
   {
    "duration": 0,
    "start_time": "2024-05-15T10:21:52.716Z"
   },
   {
    "duration": 0,
    "start_time": "2024-05-15T10:21:52.717Z"
   },
   {
    "duration": 0,
    "start_time": "2024-05-15T10:21:52.718Z"
   },
   {
    "duration": 0,
    "start_time": "2024-05-15T10:21:52.719Z"
   },
   {
    "duration": 0,
    "start_time": "2024-05-15T10:21:52.720Z"
   },
   {
    "duration": 0,
    "start_time": "2024-05-15T10:21:52.721Z"
   },
   {
    "duration": 0,
    "start_time": "2024-05-15T10:21:52.722Z"
   },
   {
    "duration": 0,
    "start_time": "2024-05-15T10:21:52.723Z"
   },
   {
    "duration": 0,
    "start_time": "2024-05-15T10:21:52.724Z"
   },
   {
    "duration": 0,
    "start_time": "2024-05-15T10:21:52.726Z"
   },
   {
    "duration": 0,
    "start_time": "2024-05-15T10:21:52.727Z"
   },
   {
    "duration": 0,
    "start_time": "2024-05-15T10:21:52.780Z"
   },
   {
    "duration": 0,
    "start_time": "2024-05-15T10:21:52.781Z"
   },
   {
    "duration": 0,
    "start_time": "2024-05-15T10:21:52.784Z"
   },
   {
    "duration": 0,
    "start_time": "2024-05-15T10:21:52.785Z"
   },
   {
    "duration": 0,
    "start_time": "2024-05-15T10:21:52.786Z"
   },
   {
    "duration": 0,
    "start_time": "2024-05-15T10:21:52.788Z"
   },
   {
    "duration": 0,
    "start_time": "2024-05-15T10:21:52.792Z"
   },
   {
    "duration": 0,
    "start_time": "2024-05-15T10:21:52.793Z"
   },
   {
    "duration": 0,
    "start_time": "2024-05-15T10:21:52.793Z"
   },
   {
    "duration": 0,
    "start_time": "2024-05-15T10:21:52.794Z"
   },
   {
    "duration": 0,
    "start_time": "2024-05-15T10:21:52.795Z"
   },
   {
    "duration": 0,
    "start_time": "2024-05-15T10:21:52.795Z"
   },
   {
    "duration": 0,
    "start_time": "2024-05-15T10:21:52.796Z"
   },
   {
    "duration": 0,
    "start_time": "2024-05-15T10:21:52.797Z"
   },
   {
    "duration": 0,
    "start_time": "2024-05-15T10:21:52.798Z"
   },
   {
    "duration": 0,
    "start_time": "2024-05-15T10:21:52.798Z"
   },
   {
    "duration": 0,
    "start_time": "2024-05-15T10:21:52.803Z"
   },
   {
    "duration": 0,
    "start_time": "2024-05-15T10:21:52.804Z"
   },
   {
    "duration": 0,
    "start_time": "2024-05-15T10:21:52.805Z"
   },
   {
    "duration": 0,
    "start_time": "2024-05-15T10:21:52.807Z"
   },
   {
    "duration": 0,
    "start_time": "2024-05-15T10:21:52.808Z"
   },
   {
    "duration": 0,
    "start_time": "2024-05-15T10:21:52.809Z"
   },
   {
    "duration": 0,
    "start_time": "2024-05-15T10:21:52.810Z"
   },
   {
    "duration": 0,
    "start_time": "2024-05-15T10:21:52.811Z"
   },
   {
    "duration": 0,
    "start_time": "2024-05-15T10:21:52.812Z"
   },
   {
    "duration": 0,
    "start_time": "2024-05-15T10:21:52.813Z"
   },
   {
    "duration": 0,
    "start_time": "2024-05-15T10:21:52.814Z"
   },
   {
    "duration": 0,
    "start_time": "2024-05-15T10:21:52.815Z"
   },
   {
    "duration": 0,
    "start_time": "2024-05-15T10:21:52.816Z"
   },
   {
    "duration": 0,
    "start_time": "2024-05-15T10:21:52.818Z"
   },
   {
    "duration": 0,
    "start_time": "2024-05-15T10:21:52.819Z"
   },
   {
    "duration": 0,
    "start_time": "2024-05-15T10:21:52.887Z"
   },
   {
    "duration": 0,
    "start_time": "2024-05-15T10:21:52.888Z"
   },
   {
    "duration": 0,
    "start_time": "2024-05-15T10:21:52.889Z"
   },
   {
    "duration": 0,
    "start_time": "2024-05-15T10:21:52.889Z"
   },
   {
    "duration": 0,
    "start_time": "2024-05-15T10:21:52.890Z"
   },
   {
    "duration": 0,
    "start_time": "2024-05-15T10:21:52.891Z"
   },
   {
    "duration": 0,
    "start_time": "2024-05-15T10:21:52.892Z"
   },
   {
    "duration": 0,
    "start_time": "2024-05-15T10:21:52.893Z"
   },
   {
    "duration": 0,
    "start_time": "2024-05-15T10:21:52.894Z"
   },
   {
    "duration": 0,
    "start_time": "2024-05-15T10:21:52.895Z"
   },
   {
    "duration": 0,
    "start_time": "2024-05-15T10:21:52.896Z"
   },
   {
    "duration": 0,
    "start_time": "2024-05-15T10:21:52.899Z"
   },
   {
    "duration": 0,
    "start_time": "2024-05-15T10:21:52.901Z"
   },
   {
    "duration": 0,
    "start_time": "2024-05-15T10:21:52.902Z"
   },
   {
    "duration": 0,
    "start_time": "2024-05-15T10:21:52.903Z"
   },
   {
    "duration": 0,
    "start_time": "2024-05-15T10:21:52.905Z"
   },
   {
    "duration": 0,
    "start_time": "2024-05-15T10:21:52.906Z"
   },
   {
    "duration": 0,
    "start_time": "2024-05-15T10:21:52.908Z"
   },
   {
    "duration": 0,
    "start_time": "2024-05-15T10:21:52.909Z"
   },
   {
    "duration": 0,
    "start_time": "2024-05-15T10:21:52.910Z"
   },
   {
    "duration": 0,
    "start_time": "2024-05-15T10:21:52.912Z"
   },
   {
    "duration": 0,
    "start_time": "2024-05-15T10:21:52.914Z"
   },
   {
    "duration": 0,
    "start_time": "2024-05-15T10:21:52.915Z"
   },
   {
    "duration": 0,
    "start_time": "2024-05-15T10:21:52.916Z"
   },
   {
    "duration": 0,
    "start_time": "2024-05-15T10:21:52.918Z"
   },
   {
    "duration": 0,
    "start_time": "2024-05-15T10:21:52.919Z"
   },
   {
    "duration": 0,
    "start_time": "2024-05-15T10:21:52.920Z"
   },
   {
    "duration": 0,
    "start_time": "2024-05-15T10:21:52.922Z"
   },
   {
    "duration": 0,
    "start_time": "2024-05-15T10:21:52.923Z"
   },
   {
    "duration": 0,
    "start_time": "2024-05-15T10:21:52.981Z"
   },
   {
    "duration": 0,
    "start_time": "2024-05-15T10:21:52.996Z"
   },
   {
    "duration": 0,
    "start_time": "2024-05-15T10:21:52.997Z"
   },
   {
    "duration": 1,
    "start_time": "2024-05-15T10:21:52.998Z"
   },
   {
    "duration": 0,
    "start_time": "2024-05-15T10:21:53.000Z"
   },
   {
    "duration": 0,
    "start_time": "2024-05-15T10:21:53.002Z"
   },
   {
    "duration": 0,
    "start_time": "2024-05-15T10:21:53.004Z"
   },
   {
    "duration": 0,
    "start_time": "2024-05-15T10:21:53.006Z"
   },
   {
    "duration": 0,
    "start_time": "2024-05-15T10:21:53.007Z"
   },
   {
    "duration": 0,
    "start_time": "2024-05-15T10:21:53.008Z"
   },
   {
    "duration": 0,
    "start_time": "2024-05-15T10:21:53.010Z"
   },
   {
    "duration": 0,
    "start_time": "2024-05-15T10:21:53.011Z"
   },
   {
    "duration": 0,
    "start_time": "2024-05-15T10:21:53.012Z"
   },
   {
    "duration": 0,
    "start_time": "2024-05-15T10:21:53.013Z"
   },
   {
    "duration": 0,
    "start_time": "2024-05-15T10:21:53.014Z"
   },
   {
    "duration": 0,
    "start_time": "2024-05-15T10:21:53.016Z"
   },
   {
    "duration": 0,
    "start_time": "2024-05-15T10:21:53.017Z"
   },
   {
    "duration": 0,
    "start_time": "2024-05-15T10:21:53.018Z"
   },
   {
    "duration": 0,
    "start_time": "2024-05-15T10:21:53.019Z"
   },
   {
    "duration": 1,
    "start_time": "2024-05-15T10:21:53.020Z"
   },
   {
    "duration": 0,
    "start_time": "2024-05-15T10:21:53.022Z"
   },
   {
    "duration": 0,
    "start_time": "2024-05-15T10:21:53.023Z"
   },
   {
    "duration": 0,
    "start_time": "2024-05-15T10:21:53.024Z"
   },
   {
    "duration": 0,
    "start_time": "2024-05-15T10:21:53.025Z"
   },
   {
    "duration": 0,
    "start_time": "2024-05-15T10:21:53.080Z"
   },
   {
    "duration": 0,
    "start_time": "2024-05-15T10:21:53.081Z"
   },
   {
    "duration": 0,
    "start_time": "2024-05-15T10:21:53.082Z"
   },
   {
    "duration": 0,
    "start_time": "2024-05-15T10:21:53.082Z"
   },
   {
    "duration": 0,
    "start_time": "2024-05-15T10:21:53.083Z"
   },
   {
    "duration": 0,
    "start_time": "2024-05-15T10:21:53.087Z"
   },
   {
    "duration": 0,
    "start_time": "2024-05-15T10:21:53.089Z"
   },
   {
    "duration": 0,
    "start_time": "2024-05-15T10:21:53.090Z"
   },
   {
    "duration": 0,
    "start_time": "2024-05-15T10:21:53.091Z"
   },
   {
    "duration": 1,
    "start_time": "2024-05-15T10:21:53.092Z"
   },
   {
    "duration": 0,
    "start_time": "2024-05-15T10:21:53.094Z"
   },
   {
    "duration": 0,
    "start_time": "2024-05-15T10:21:53.095Z"
   },
   {
    "duration": 0,
    "start_time": "2024-05-15T10:21:53.096Z"
   },
   {
    "duration": 0,
    "start_time": "2024-05-15T10:21:53.097Z"
   },
   {
    "duration": 0,
    "start_time": "2024-05-15T10:21:53.099Z"
   },
   {
    "duration": 0,
    "start_time": "2024-05-15T10:21:53.100Z"
   },
   {
    "duration": 0,
    "start_time": "2024-05-15T10:21:53.102Z"
   },
   {
    "duration": 270,
    "start_time": "2024-05-15T10:22:06.906Z"
   },
   {
    "duration": 15,
    "start_time": "2024-05-15T10:23:32.075Z"
   },
   {
    "duration": 10,
    "start_time": "2024-05-15T10:23:40.694Z"
   },
   {
    "duration": 1335,
    "start_time": "2024-05-15T10:24:45.466Z"
   },
   {
    "duration": 98,
    "start_time": "2024-05-15T10:24:46.803Z"
   },
   {
    "duration": 11,
    "start_time": "2024-05-15T10:24:46.903Z"
   },
   {
    "duration": 117,
    "start_time": "2024-05-15T10:24:46.916Z"
   },
   {
    "duration": 28,
    "start_time": "2024-05-15T10:24:47.035Z"
   },
   {
    "duration": 32,
    "start_time": "2024-05-15T10:24:47.065Z"
   },
   {
    "duration": 2629,
    "start_time": "2024-05-15T10:24:47.099Z"
   },
   {
    "duration": 4,
    "start_time": "2024-05-15T10:24:49.730Z"
   },
   {
    "duration": 9,
    "start_time": "2024-05-15T10:24:49.735Z"
   },
   {
    "duration": 7,
    "start_time": "2024-05-15T10:24:49.747Z"
   },
   {
    "duration": 289,
    "start_time": "2024-05-15T10:24:49.756Z"
   },
   {
    "duration": 295,
    "start_time": "2024-05-15T10:24:50.047Z"
   },
   {
    "duration": 10,
    "start_time": "2024-05-15T10:24:50.344Z"
   },
   {
    "duration": 30,
    "start_time": "2024-05-15T10:24:50.355Z"
   },
   {
    "duration": 32,
    "start_time": "2024-05-15T10:24:50.387Z"
   },
   {
    "duration": 17,
    "start_time": "2024-05-15T10:24:50.421Z"
   },
   {
    "duration": 5,
    "start_time": "2024-05-15T10:24:50.440Z"
   },
   {
    "duration": 27,
    "start_time": "2024-05-15T10:24:50.446Z"
   },
   {
    "duration": 26,
    "start_time": "2024-05-15T10:24:50.475Z"
   },
   {
    "duration": 13,
    "start_time": "2024-05-15T10:24:50.502Z"
   },
   {
    "duration": 17,
    "start_time": "2024-05-15T10:24:50.517Z"
   },
   {
    "duration": 12,
    "start_time": "2024-05-15T10:24:50.535Z"
   },
   {
    "duration": 22,
    "start_time": "2024-05-15T10:24:50.549Z"
   },
   {
    "duration": 24,
    "start_time": "2024-05-15T10:24:50.573Z"
   },
   {
    "duration": 25,
    "start_time": "2024-05-15T10:24:50.599Z"
   },
   {
    "duration": 47,
    "start_time": "2024-05-15T10:24:50.626Z"
   },
   {
    "duration": 32,
    "start_time": "2024-05-15T10:24:50.674Z"
   },
   {
    "duration": 27,
    "start_time": "2024-05-15T10:24:50.710Z"
   },
   {
    "duration": 5,
    "start_time": "2024-05-15T10:24:50.738Z"
   },
   {
    "duration": 16,
    "start_time": "2024-05-15T10:24:50.745Z"
   },
   {
    "duration": 29,
    "start_time": "2024-05-15T10:24:50.763Z"
   },
   {
    "duration": 60,
    "start_time": "2024-05-15T10:24:50.795Z"
   },
   {
    "duration": 49,
    "start_time": "2024-05-15T10:24:50.857Z"
   },
   {
    "duration": 209,
    "start_time": "2024-05-15T10:24:50.908Z"
   },
   {
    "duration": 25,
    "start_time": "2024-05-15T10:24:51.119Z"
   },
   {
    "duration": 49,
    "start_time": "2024-05-15T10:24:51.146Z"
   },
   {
    "duration": 89,
    "start_time": "2024-05-15T10:24:51.197Z"
   },
   {
    "duration": 11,
    "start_time": "2024-05-15T10:24:51.289Z"
   },
   {
    "duration": 58,
    "start_time": "2024-05-15T10:24:51.302Z"
   },
   {
    "duration": 13,
    "start_time": "2024-05-15T10:24:51.362Z"
   },
   {
    "duration": 5,
    "start_time": "2024-05-15T10:24:51.376Z"
   },
   {
    "duration": 61,
    "start_time": "2024-05-15T10:24:51.385Z"
   },
   {
    "duration": 42,
    "start_time": "2024-05-15T10:24:51.448Z"
   },
   {
    "duration": 53,
    "start_time": "2024-05-15T10:24:51.494Z"
   },
   {
    "duration": 528,
    "start_time": "2024-05-15T10:24:51.549Z"
   },
   {
    "duration": 10,
    "start_time": "2024-05-15T10:24:52.085Z"
   },
   {
    "duration": 93,
    "start_time": "2024-05-15T10:24:52.097Z"
   },
   {
    "duration": 172,
    "start_time": "2024-05-15T10:24:52.191Z"
   },
   {
    "duration": 373,
    "start_time": "2024-05-15T10:24:52.364Z"
   },
   {
    "duration": 511,
    "start_time": "2024-05-15T10:24:52.738Z"
   },
   {
    "duration": 201,
    "start_time": "2024-05-15T10:24:53.250Z"
   },
   {
    "duration": 242,
    "start_time": "2024-05-15T10:24:53.454Z"
   },
   {
    "duration": 8,
    "start_time": "2024-05-15T10:24:53.698Z"
   },
   {
    "duration": 282,
    "start_time": "2024-05-15T10:24:53.708Z"
   },
   {
    "duration": 12,
    "start_time": "2024-05-15T10:24:53.994Z"
   },
   {
    "duration": 99,
    "start_time": "2024-05-15T10:24:54.007Z"
   },
   {
    "duration": 602,
    "start_time": "2024-05-15T10:24:54.107Z"
   },
   {
    "duration": 394,
    "start_time": "2024-05-15T10:24:54.711Z"
   },
   {
    "duration": 457,
    "start_time": "2024-05-15T10:24:55.107Z"
   },
   {
    "duration": 356,
    "start_time": "2024-05-15T10:24:55.566Z"
   },
   {
    "duration": 288,
    "start_time": "2024-05-15T10:24:55.923Z"
   },
   {
    "duration": 174,
    "start_time": "2024-05-15T10:24:56.212Z"
   },
   {
    "duration": 9,
    "start_time": "2024-05-15T10:24:56.389Z"
   },
   {
    "duration": 31,
    "start_time": "2024-05-15T10:24:56.400Z"
   },
   {
    "duration": 28,
    "start_time": "2024-05-15T10:24:56.432Z"
   },
   {
    "duration": 355,
    "start_time": "2024-05-15T10:24:56.462Z"
   },
   {
    "duration": 217,
    "start_time": "2024-05-15T10:24:56.819Z"
   },
   {
    "duration": 739,
    "start_time": "2024-05-15T10:24:57.080Z"
   },
   {
    "duration": 865,
    "start_time": "2024-05-15T10:24:57.821Z"
   },
   {
    "duration": 223,
    "start_time": "2024-05-15T10:24:58.688Z"
   },
   {
    "duration": 279,
    "start_time": "2024-05-15T10:24:58.913Z"
   },
   {
    "duration": 9,
    "start_time": "2024-05-15T10:24:59.194Z"
   },
   {
    "duration": 26,
    "start_time": "2024-05-15T10:24:59.205Z"
   },
   {
    "duration": 20,
    "start_time": "2024-05-15T10:24:59.233Z"
   },
   {
    "duration": 191,
    "start_time": "2024-05-15T10:24:59.254Z"
   },
   {
    "duration": 179,
    "start_time": "2024-05-15T10:24:59.446Z"
   },
   {
    "duration": 549,
    "start_time": "2024-05-15T10:24:59.627Z"
   },
   {
    "duration": 366,
    "start_time": "2024-05-15T10:25:00.179Z"
   },
   {
    "duration": 355,
    "start_time": "2024-05-15T10:25:00.547Z"
   },
   {
    "duration": 9,
    "start_time": "2024-05-15T10:25:00.904Z"
   },
   {
    "duration": 86,
    "start_time": "2024-05-15T10:25:00.915Z"
   },
   {
    "duration": 5,
    "start_time": "2024-05-15T10:25:01.211Z"
   },
   {
    "duration": 408,
    "start_time": "2024-05-15T10:25:01.217Z"
   },
   {
    "duration": 468,
    "start_time": "2024-05-15T10:25:01.627Z"
   },
   {
    "duration": 12,
    "start_time": "2024-05-15T10:25:02.096Z"
   },
   {
    "duration": 82,
    "start_time": "2024-05-15T10:25:02.110Z"
   },
   {
    "duration": 33,
    "start_time": "2024-05-15T10:25:02.200Z"
   },
   {
    "duration": 266,
    "start_time": "2024-05-15T10:25:02.234Z"
   },
   {
    "duration": 9,
    "start_time": "2024-05-15T10:25:02.502Z"
   },
   {
    "duration": 98,
    "start_time": "2024-05-15T10:25:02.513Z"
   },
   {
    "duration": 6,
    "start_time": "2024-05-15T10:25:02.612Z"
   },
   {
    "duration": 172,
    "start_time": "2024-05-15T10:25:02.620Z"
   },
   {
    "duration": 368,
    "start_time": "2024-05-15T10:25:02.794Z"
   },
   {
    "duration": 385,
    "start_time": "2024-05-15T10:25:03.164Z"
   },
   {
    "duration": 272,
    "start_time": "2024-05-15T10:25:03.551Z"
   },
   {
    "duration": 470,
    "start_time": "2024-05-15T10:25:03.825Z"
   },
   {
    "duration": 7,
    "start_time": "2024-05-15T10:25:04.297Z"
   },
   {
    "duration": 35,
    "start_time": "2024-05-15T10:25:04.306Z"
   },
   {
    "duration": 7,
    "start_time": "2024-05-15T10:25:04.343Z"
   },
   {
    "duration": 211,
    "start_time": "2024-05-15T10:25:04.351Z"
   },
   {
    "duration": 161,
    "start_time": "2024-05-15T10:25:04.564Z"
   },
   {
    "duration": 11,
    "start_time": "2024-05-15T10:25:04.726Z"
   },
   {
    "duration": 180,
    "start_time": "2024-05-15T10:25:04.738Z"
   },
   {
    "duration": 278,
    "start_time": "2024-05-15T10:25:04.920Z"
   },
   {
    "duration": 265,
    "start_time": "2024-05-15T10:25:05.200Z"
   },
   {
    "duration": 207,
    "start_time": "2024-05-15T10:25:05.467Z"
   },
   {
    "duration": 186,
    "start_time": "2024-05-15T10:25:05.676Z"
   },
   {
    "duration": 17,
    "start_time": "2024-05-15T10:25:05.864Z"
   },
   {
    "duration": 15,
    "start_time": "2024-05-15T10:25:05.882Z"
   },
   {
    "duration": 39,
    "start_time": "2024-05-15T10:25:05.898Z"
   },
   {
    "duration": 205,
    "start_time": "2024-05-15T10:25:05.939Z"
   },
   {
    "duration": 446,
    "start_time": "2024-05-15T10:25:06.145Z"
   },
   {
    "duration": 809,
    "start_time": "2024-05-15T10:25:06.593Z"
   },
   {
    "duration": 824,
    "start_time": "2024-05-15T10:25:07.404Z"
   },
   {
    "duration": 302,
    "start_time": "2024-05-15T10:25:08.284Z"
   },
   {
    "duration": 13,
    "start_time": "2024-05-15T10:25:08.593Z"
   },
   {
    "duration": 19,
    "start_time": "2024-05-15T10:25:08.608Z"
   },
   {
    "duration": 245,
    "start_time": "2024-05-15T10:25:08.630Z"
   },
   {
    "duration": 158,
    "start_time": "2024-05-15T10:25:08.884Z"
   },
   {
    "duration": 498,
    "start_time": "2024-05-15T10:25:09.044Z"
   },
   {
    "duration": 387,
    "start_time": "2024-05-15T10:25:09.545Z"
   },
   {
    "duration": 214,
    "start_time": "2024-05-15T10:25:09.934Z"
   },
   {
    "duration": 7,
    "start_time": "2024-05-15T10:25:10.150Z"
   },
   {
    "duration": 36,
    "start_time": "2024-05-15T10:25:10.158Z"
   },
   {
    "duration": 5,
    "start_time": "2024-05-15T10:25:10.196Z"
   },
   {
    "duration": 214,
    "start_time": "2024-05-15T10:25:10.203Z"
   },
   {
    "duration": 195,
    "start_time": "2024-05-15T10:25:10.419Z"
   },
   {
    "duration": 425,
    "start_time": "2024-05-15T10:25:10.616Z"
   },
   {
    "duration": 485,
    "start_time": "2024-05-15T10:25:11.043Z"
   },
   {
    "duration": 210,
    "start_time": "2024-05-15T10:25:11.530Z"
   },
   {
    "duration": 8,
    "start_time": "2024-05-15T10:25:11.742Z"
   },
   {
    "duration": 42,
    "start_time": "2024-05-15T10:25:11.751Z"
   },
   {
    "duration": 5,
    "start_time": "2024-05-15T10:25:11.795Z"
   },
   {
    "duration": 229,
    "start_time": "2024-05-15T10:25:11.802Z"
   },
   {
    "duration": 262,
    "start_time": "2024-05-15T10:25:12.033Z"
   },
   {
    "duration": 5,
    "start_time": "2024-05-15T10:25:12.297Z"
   },
   {
    "duration": 22,
    "start_time": "2024-05-15T10:25:12.303Z"
   },
   {
    "duration": 71,
    "start_time": "2024-05-15T10:25:12.327Z"
   },
   {
    "duration": 27,
    "start_time": "2024-05-15T10:25:12.400Z"
   },
   {
    "duration": 331,
    "start_time": "2024-05-15T10:25:12.429Z"
   },
   {
    "duration": 8,
    "start_time": "2024-05-15T10:25:12.762Z"
   },
   {
    "duration": 629,
    "start_time": "2024-05-15T10:25:12.771Z"
   },
   {
    "duration": 425,
    "start_time": "2024-05-15T10:25:13.402Z"
   },
   {
    "duration": 159,
    "start_time": "2024-05-15T10:25:13.830Z"
   },
   {
    "duration": 276,
    "start_time": "2024-05-15T10:25:13.990Z"
   },
   {
    "duration": 30,
    "start_time": "2024-05-15T10:25:14.268Z"
   },
   {
    "duration": 14,
    "start_time": "2024-05-15T10:25:14.300Z"
   },
   {
    "duration": 14,
    "start_time": "2024-05-15T10:25:14.315Z"
   },
   {
    "duration": 228,
    "start_time": "2024-05-15T10:25:14.330Z"
   },
   {
    "duration": 261,
    "start_time": "2024-05-15T10:25:14.561Z"
   },
   {
    "duration": 225,
    "start_time": "2024-05-15T10:25:14.824Z"
   },
   {
    "duration": 252,
    "start_time": "2024-05-15T10:25:15.051Z"
   },
   {
    "duration": 205,
    "start_time": "2024-05-15T10:25:15.305Z"
   },
   {
    "duration": 254,
    "start_time": "2024-05-15T10:25:15.512Z"
   },
   {
    "duration": 218,
    "start_time": "2024-05-15T10:25:15.768Z"
   },
   {
    "duration": 215,
    "start_time": "2024-05-15T10:25:15.989Z"
   },
   {
    "duration": 205,
    "start_time": "2024-05-15T10:25:16.206Z"
   },
   {
    "duration": 187,
    "start_time": "2024-05-15T10:25:16.413Z"
   },
   {
    "duration": 265,
    "start_time": "2024-05-15T10:25:16.601Z"
   },
   {
    "duration": 25,
    "start_time": "2024-05-15T10:25:16.868Z"
   },
   {
    "duration": 263,
    "start_time": "2024-05-15T10:25:16.895Z"
   },
   {
    "duration": 214,
    "start_time": "2024-05-15T10:25:17.160Z"
   },
   {
    "duration": 46,
    "start_time": "2024-05-15T10:25:17.375Z"
   },
   {
    "duration": 474,
    "start_time": "2024-05-15T10:25:17.423Z"
   },
   {
    "duration": 30,
    "start_time": "2024-05-15T10:25:17.899Z"
   },
   {
    "duration": 331,
    "start_time": "2024-05-15T10:25:17.931Z"
   },
   {
    "duration": 45,
    "start_time": "2024-05-15T10:25:18.264Z"
   },
   {
    "duration": 15,
    "start_time": "2024-05-15T10:25:18.311Z"
   },
   {
    "duration": 356,
    "start_time": "2024-05-15T10:31:19.538Z"
   },
   {
    "duration": 419,
    "start_time": "2024-05-15T10:32:27.155Z"
   },
   {
    "duration": 66,
    "start_time": "2024-05-15T10:36:04.045Z"
   },
   {
    "duration": 10223,
    "start_time": "2024-05-15T10:36:04.336Z"
   },
   {
    "duration": 481,
    "start_time": "2024-05-15T10:36:14.561Z"
   },
   {
    "duration": 219,
    "start_time": "2024-05-15T10:36:15.043Z"
   },
   {
    "duration": 29,
    "start_time": "2024-05-15T10:36:15.264Z"
   },
   {
    "duration": 1272,
    "start_time": "2024-05-15T10:36:22.974Z"
   },
   {
    "duration": 97,
    "start_time": "2024-05-15T10:36:24.248Z"
   },
   {
    "duration": 11,
    "start_time": "2024-05-15T10:36:24.347Z"
   },
   {
    "duration": 115,
    "start_time": "2024-05-15T10:36:24.360Z"
   },
   {
    "duration": 39,
    "start_time": "2024-05-15T10:36:24.477Z"
   },
   {
    "duration": 28,
    "start_time": "2024-05-15T10:36:24.518Z"
   },
   {
    "duration": 2657,
    "start_time": "2024-05-15T10:36:24.547Z"
   },
   {
    "duration": 5,
    "start_time": "2024-05-15T10:36:27.206Z"
   },
   {
    "duration": 32,
    "start_time": "2024-05-15T10:36:27.213Z"
   },
   {
    "duration": 4,
    "start_time": "2024-05-15T10:36:27.248Z"
   },
   {
    "duration": 296,
    "start_time": "2024-05-15T10:36:27.254Z"
   },
   {
    "duration": 296,
    "start_time": "2024-05-15T10:36:27.552Z"
   },
   {
    "duration": 11,
    "start_time": "2024-05-15T10:36:27.850Z"
   },
   {
    "duration": 33,
    "start_time": "2024-05-15T10:36:27.863Z"
   },
   {
    "duration": 13,
    "start_time": "2024-05-15T10:36:27.898Z"
   },
   {
    "duration": 19,
    "start_time": "2024-05-15T10:36:27.912Z"
   },
   {
    "duration": 5,
    "start_time": "2024-05-15T10:36:27.933Z"
   },
   {
    "duration": 9,
    "start_time": "2024-05-15T10:36:27.940Z"
   },
   {
    "duration": 18,
    "start_time": "2024-05-15T10:36:27.980Z"
   },
   {
    "duration": 10,
    "start_time": "2024-05-15T10:36:27.999Z"
   },
   {
    "duration": 11,
    "start_time": "2024-05-15T10:36:28.010Z"
   },
   {
    "duration": 34,
    "start_time": "2024-05-15T10:36:28.022Z"
   },
   {
    "duration": 59,
    "start_time": "2024-05-15T10:36:28.057Z"
   },
   {
    "duration": 13,
    "start_time": "2024-05-15T10:36:28.118Z"
   },
   {
    "duration": 27,
    "start_time": "2024-05-15T10:36:28.132Z"
   },
   {
    "duration": 37,
    "start_time": "2024-05-15T10:36:28.161Z"
   },
   {
    "duration": 26,
    "start_time": "2024-05-15T10:36:28.200Z"
   },
   {
    "duration": 26,
    "start_time": "2024-05-15T10:36:28.231Z"
   },
   {
    "duration": 13,
    "start_time": "2024-05-15T10:36:28.258Z"
   },
   {
    "duration": 24,
    "start_time": "2024-05-15T10:36:28.272Z"
   },
   {
    "duration": 7,
    "start_time": "2024-05-15T10:36:28.298Z"
   },
   {
    "duration": 27,
    "start_time": "2024-05-15T10:36:28.307Z"
   },
   {
    "duration": 52,
    "start_time": "2024-05-15T10:36:28.336Z"
   },
   {
    "duration": 226,
    "start_time": "2024-05-15T10:36:28.390Z"
   },
   {
    "duration": 43,
    "start_time": "2024-05-15T10:36:28.618Z"
   },
   {
    "duration": 49,
    "start_time": "2024-05-15T10:36:28.663Z"
   },
   {
    "duration": 51,
    "start_time": "2024-05-15T10:36:28.714Z"
   },
   {
    "duration": 25,
    "start_time": "2024-05-15T10:36:28.768Z"
   },
   {
    "duration": 23,
    "start_time": "2024-05-15T10:36:28.795Z"
   },
   {
    "duration": 12,
    "start_time": "2024-05-15T10:36:28.820Z"
   },
   {
    "duration": 4,
    "start_time": "2024-05-15T10:36:28.833Z"
   },
   {
    "duration": 7,
    "start_time": "2024-05-15T10:36:28.839Z"
   },
   {
    "duration": 7,
    "start_time": "2024-05-15T10:36:28.847Z"
   },
   {
    "duration": 9,
    "start_time": "2024-05-15T10:36:28.882Z"
   },
   {
    "duration": 440,
    "start_time": "2024-05-15T10:36:28.894Z"
   },
   {
    "duration": 4,
    "start_time": "2024-05-15T10:36:29.336Z"
   },
   {
    "duration": 19,
    "start_time": "2024-05-15T10:36:29.342Z"
   },
   {
    "duration": 153,
    "start_time": "2024-05-15T10:36:29.362Z"
   },
   {
    "duration": 348,
    "start_time": "2024-05-15T10:36:29.517Z"
   },
   {
    "duration": 533,
    "start_time": "2024-05-15T10:36:29.867Z"
   },
   {
    "duration": 190,
    "start_time": "2024-05-15T10:36:30.402Z"
   },
   {
    "duration": 176,
    "start_time": "2024-05-15T10:36:30.596Z"
   },
   {
    "duration": 20,
    "start_time": "2024-05-15T10:36:30.774Z"
   },
   {
    "duration": 228,
    "start_time": "2024-05-15T10:36:30.796Z"
   },
   {
    "duration": 13,
    "start_time": "2024-05-15T10:36:31.025Z"
   },
   {
    "duration": 51,
    "start_time": "2024-05-15T10:36:31.039Z"
   },
   {
    "duration": 223,
    "start_time": "2024-05-15T10:36:31.092Z"
   },
   {
    "duration": 182,
    "start_time": "2024-05-15T10:36:31.316Z"
   },
   {
    "duration": 360,
    "start_time": "2024-05-15T10:36:31.500Z"
   },
   {
    "duration": 410,
    "start_time": "2024-05-15T10:36:31.862Z"
   },
   {
    "duration": 292,
    "start_time": "2024-05-15T10:36:32.279Z"
   },
   {
    "duration": 191,
    "start_time": "2024-05-15T10:36:32.573Z"
   },
   {
    "duration": 9,
    "start_time": "2024-05-15T10:36:32.765Z"
   },
   {
    "duration": 25,
    "start_time": "2024-05-15T10:36:32.775Z"
   },
   {
    "duration": 5,
    "start_time": "2024-05-15T10:36:32.801Z"
   },
   {
    "duration": 234,
    "start_time": "2024-05-15T10:36:32.808Z"
   },
   {
    "duration": 164,
    "start_time": "2024-05-15T10:36:33.043Z"
   },
   {
    "duration": 378,
    "start_time": "2024-05-15T10:36:33.209Z"
   },
   {
    "duration": 405,
    "start_time": "2024-05-15T10:36:33.589Z"
   },
   {
    "duration": 183,
    "start_time": "2024-05-15T10:36:33.995Z"
   },
   {
    "duration": 262,
    "start_time": "2024-05-15T10:36:34.180Z"
   },
   {
    "duration": 8,
    "start_time": "2024-05-15T10:36:34.444Z"
   },
   {
    "duration": 23,
    "start_time": "2024-05-15T10:36:34.453Z"
   },
   {
    "duration": 9,
    "start_time": "2024-05-15T10:36:34.478Z"
   },
   {
    "duration": 197,
    "start_time": "2024-05-15T10:36:34.489Z"
   },
   {
    "duration": 175,
    "start_time": "2024-05-15T10:36:34.688Z"
   },
   {
    "duration": 567,
    "start_time": "2024-05-15T10:36:34.865Z"
   },
   {
    "duration": 369,
    "start_time": "2024-05-15T10:36:35.433Z"
   },
   {
    "duration": 191,
    "start_time": "2024-05-15T10:36:35.804Z"
   },
   {
    "duration": 8,
    "start_time": "2024-05-15T10:36:35.997Z"
   },
   {
    "duration": 19,
    "start_time": "2024-05-15T10:36:36.007Z"
   },
   {
    "duration": 6,
    "start_time": "2024-05-15T10:36:36.130Z"
   },
   {
    "duration": 202,
    "start_time": "2024-05-15T10:36:36.137Z"
   },
   {
    "duration": 182,
    "start_time": "2024-05-15T10:36:36.341Z"
   },
   {
    "duration": 10,
    "start_time": "2024-05-15T10:36:36.525Z"
   },
   {
    "duration": 25,
    "start_time": "2024-05-15T10:36:36.537Z"
   },
   {
    "duration": 22,
    "start_time": "2024-05-15T10:36:36.564Z"
   },
   {
    "duration": 216,
    "start_time": "2024-05-15T10:36:36.588Z"
   },
   {
    "duration": 10,
    "start_time": "2024-05-15T10:36:36.806Z"
   },
   {
    "duration": 8,
    "start_time": "2024-05-15T10:36:36.817Z"
   },
   {
    "duration": 7,
    "start_time": "2024-05-15T10:36:36.826Z"
   },
   {
    "duration": 186,
    "start_time": "2024-05-15T10:36:36.835Z"
   },
   {
    "duration": 393,
    "start_time": "2024-05-15T10:36:37.022Z"
   },
   {
    "duration": 352,
    "start_time": "2024-05-15T10:36:37.416Z"
   },
   {
    "duration": 178,
    "start_time": "2024-05-15T10:36:37.769Z"
   },
   {
    "duration": 288,
    "start_time": "2024-05-15T10:36:37.948Z"
   },
   {
    "duration": 8,
    "start_time": "2024-05-15T10:36:38.237Z"
   },
   {
    "duration": 13,
    "start_time": "2024-05-15T10:36:38.247Z"
   },
   {
    "duration": 26,
    "start_time": "2024-05-15T10:36:38.262Z"
   },
   {
    "duration": 210,
    "start_time": "2024-05-15T10:36:38.289Z"
   },
   {
    "duration": 179,
    "start_time": "2024-05-15T10:36:38.502Z"
   },
   {
    "duration": 14,
    "start_time": "2024-05-15T10:36:38.689Z"
   },
   {
    "duration": 171,
    "start_time": "2024-05-15T10:36:38.705Z"
   },
   {
    "duration": 281,
    "start_time": "2024-05-15T10:36:38.884Z"
   },
   {
    "duration": 272,
    "start_time": "2024-05-15T10:36:39.167Z"
   },
   {
    "duration": 203,
    "start_time": "2024-05-15T10:36:39.440Z"
   },
   {
    "duration": 196,
    "start_time": "2024-05-15T10:36:39.645Z"
   },
   {
    "duration": 10,
    "start_time": "2024-05-15T10:36:39.842Z"
   },
   {
    "duration": 42,
    "start_time": "2024-05-15T10:36:39.853Z"
   },
   {
    "duration": 5,
    "start_time": "2024-05-15T10:36:39.897Z"
   },
   {
    "duration": 189,
    "start_time": "2024-05-15T10:36:39.903Z"
   },
   {
    "duration": 266,
    "start_time": "2024-05-15T10:36:40.094Z"
   },
   {
    "duration": 369,
    "start_time": "2024-05-15T10:36:40.362Z"
   },
   {
    "duration": 378,
    "start_time": "2024-05-15T10:36:40.733Z"
   },
   {
    "duration": 191,
    "start_time": "2024-05-15T10:36:41.112Z"
   },
   {
    "duration": 8,
    "start_time": "2024-05-15T10:36:41.304Z"
   },
   {
    "duration": 34,
    "start_time": "2024-05-15T10:36:41.313Z"
   },
   {
    "duration": 199,
    "start_time": "2024-05-15T10:36:41.348Z"
   },
   {
    "duration": 162,
    "start_time": "2024-05-15T10:36:41.549Z"
   },
   {
    "duration": 455,
    "start_time": "2024-05-15T10:36:41.713Z"
   },
   {
    "duration": 417,
    "start_time": "2024-05-15T10:36:42.170Z"
   },
   {
    "duration": 210,
    "start_time": "2024-05-15T10:36:42.589Z"
   },
   {
    "duration": 7,
    "start_time": "2024-05-15T10:36:42.800Z"
   },
   {
    "duration": 12,
    "start_time": "2024-05-15T10:36:42.809Z"
   },
   {
    "duration": 5,
    "start_time": "2024-05-15T10:36:42.822Z"
   },
   {
    "duration": 208,
    "start_time": "2024-05-15T10:36:42.828Z"
   },
   {
    "duration": 185,
    "start_time": "2024-05-15T10:36:43.037Z"
   },
   {
    "duration": 369,
    "start_time": "2024-05-15T10:36:43.223Z"
   },
   {
    "duration": 484,
    "start_time": "2024-05-15T10:36:43.594Z"
   },
   {
    "duration": 211,
    "start_time": "2024-05-15T10:36:44.080Z"
   },
   {
    "duration": 10,
    "start_time": "2024-05-15T10:36:44.293Z"
   },
   {
    "duration": 13,
    "start_time": "2024-05-15T10:36:44.305Z"
   },
   {
    "duration": 5,
    "start_time": "2024-05-15T10:36:44.320Z"
   },
   {
    "duration": 269,
    "start_time": "2024-05-15T10:36:44.326Z"
   },
   {
    "duration": 171,
    "start_time": "2024-05-15T10:36:44.597Z"
   },
   {
    "duration": 348,
    "start_time": "2024-05-15T10:36:44.770Z"
   },
   {
    "duration": 6,
    "start_time": "2024-05-15T10:36:45.119Z"
   },
   {
    "duration": 84,
    "start_time": "2024-05-15T10:36:45.126Z"
   },
   {
    "duration": 131,
    "start_time": "2024-05-15T10:36:45.212Z"
   },
   {
    "duration": 28,
    "start_time": "2024-05-15T10:36:45.344Z"
   },
   {
    "duration": 453,
    "start_time": "2024-05-15T10:36:45.380Z"
   },
   {
    "duration": 184,
    "start_time": "2024-05-15T10:36:45.835Z"
   },
   {
    "duration": 10,
    "start_time": "2024-05-15T10:36:46.021Z"
   },
   {
    "duration": 358,
    "start_time": "2024-05-15T10:36:46.036Z"
   },
   {
    "duration": 469,
    "start_time": "2024-05-15T10:36:46.395Z"
   },
   {
    "duration": 152,
    "start_time": "2024-05-15T10:36:46.865Z"
   },
   {
    "duration": 155,
    "start_time": "2024-05-15T10:36:47.019Z"
   },
   {
    "duration": 28,
    "start_time": "2024-05-15T10:36:47.180Z"
   },
   {
    "duration": 24,
    "start_time": "2024-05-15T10:36:47.210Z"
   },
   {
    "duration": 15,
    "start_time": "2024-05-15T10:36:47.236Z"
   },
   {
    "duration": 219,
    "start_time": "2024-05-15T10:36:47.254Z"
   },
   {
    "duration": 269,
    "start_time": "2024-05-15T10:36:47.481Z"
   },
   {
    "duration": 218,
    "start_time": "2024-05-15T10:36:47.752Z"
   },
   {
    "duration": 244,
    "start_time": "2024-05-15T10:36:47.972Z"
   },
   {
    "duration": 208,
    "start_time": "2024-05-15T10:36:48.217Z"
   },
   {
    "duration": 267,
    "start_time": "2024-05-15T10:36:48.427Z"
   },
   {
    "duration": 206,
    "start_time": "2024-05-15T10:36:48.696Z"
   },
   {
    "duration": 302,
    "start_time": "2024-05-15T10:36:48.904Z"
   },
   {
    "duration": 245,
    "start_time": "2024-05-15T10:36:49.208Z"
   },
   {
    "duration": 196,
    "start_time": "2024-05-15T10:36:49.455Z"
   },
   {
    "duration": 182,
    "start_time": "2024-05-15T10:36:49.653Z"
   },
   {
    "duration": 9,
    "start_time": "2024-05-15T10:36:49.837Z"
   },
   {
    "duration": 290,
    "start_time": "2024-05-15T10:36:49.848Z"
   },
   {
    "duration": 208,
    "start_time": "2024-05-15T10:36:50.140Z"
   },
   {
    "duration": 44,
    "start_time": "2024-05-15T10:36:50.350Z"
   },
   {
    "duration": 450,
    "start_time": "2024-05-15T10:36:50.396Z"
   },
   {
    "duration": 46,
    "start_time": "2024-05-15T10:36:50.847Z"
   },
   {
    "duration": 338,
    "start_time": "2024-05-15T10:36:50.895Z"
   },
   {
    "duration": 36,
    "start_time": "2024-05-15T10:36:51.235Z"
   },
   {
    "duration": 24,
    "start_time": "2024-05-15T10:36:51.280Z"
   },
   {
    "duration": 90,
    "start_time": "2024-05-15T10:36:51.306Z"
   },
   {
    "duration": 9860,
    "start_time": "2024-05-15T10:36:51.398Z"
   },
   {
    "duration": 472,
    "start_time": "2024-05-15T10:37:01.260Z"
   },
   {
    "duration": 233,
    "start_time": "2024-05-15T10:37:01.734Z"
   },
   {
    "duration": 27,
    "start_time": "2024-05-15T10:37:01.969Z"
   }
  ],
  "colab": {
   "provenance": []
  },
  "kernelspec": {
   "display_name": "Python 3 (ipykernel)",
   "language": "python",
   "name": "python3"
  },
  "language_info": {
   "codemirror_mode": {
    "name": "ipython",
    "version": 3
   },
   "file_extension": ".py",
   "mimetype": "text/x-python",
   "name": "python",
   "nbconvert_exporter": "python",
   "pygments_lexer": "ipython3",
   "version": "3.9.5"
  },
  "toc": {
   "base_numbering": 1,
   "nav_menu": {},
   "number_sections": true,
   "sideBar": true,
   "skip_h1_title": true,
   "title_cell": "Table of Contents",
   "title_sidebar": "Contents",
   "toc_cell": false,
   "toc_position": {},
   "toc_section_display": true,
   "toc_window_display": true
  }
 },
 "nbformat": 4,
 "nbformat_minor": 1
}

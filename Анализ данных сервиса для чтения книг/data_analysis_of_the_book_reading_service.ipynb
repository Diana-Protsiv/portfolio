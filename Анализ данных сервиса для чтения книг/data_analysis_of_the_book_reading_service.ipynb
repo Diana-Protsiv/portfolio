{
 "cells": [
  {
   "cell_type": "markdown",
   "metadata": {},
   "source": [
    "# Анализ данных сервиса для чтения книг"
   ]
  },
  {
   "cell_type": "markdown",
   "metadata": {},
   "source": [
    "**Описание проекта**\n",
    "\n",
    "Коронавирус застал мир врасплох, изменив привычный порядок вещей. В свободное время жители городов больше не выходят на улицу, не посещают кафе и торговые центры. Зато стало больше времени для книг. Это заметили стартаперы — и бросились создавать приложения для тех, кто любит читать. Наша компания решила быть на волне и купила крупный сервис для чтения книг по подписке. Наша задача как аналитика — проанализировать базу данных. В ней — информация о книгах, издательствах, авторах, а также пользовательские обзоры книг. Эти данные помогут сформулировать ценностное предложение для нового продукта. \n",
    "\n",
    "**Цель исследования** — анализ данных о книгах, издательствах, авторах, пользовательских оценках книг и обзорах на книги."
   ]
  },
  {
   "cell_type": "markdown",
   "metadata": {},
   "source": [
    "**Описание данных**\n",
    "\n",
    "Таблица `books` содержит данные о книгах:\n",
    "\n",
    "- `book_id` — идентификатор книги;\n",
    "\n",
    "- `author_id` — идентификатор автора;\n",
    "\n",
    "- `title` — название книги;\n",
    "\n",
    "- `num_pages` — количество страниц;\n",
    "\n",
    "- `publication_date` — дата публикации книги;\n",
    "\n",
    "- `publisher_id` — идентификатор издателя.\n",
    "\n",
    "Таблица `authors` содержит данные об авторах:\n",
    "\n",
    "- `author_id` — идентификатор автора;\n",
    "\n",
    "- `author` — имя автора.\n",
    "\n",
    "Таблица `publishers` содержит данные об издательствах:\n",
    "\n",
    "- `publisher_id` — идентификатор издательства;\n",
    "\n",
    "- `publisher` — название издательства.\n",
    "\n",
    "Таблица `ratings` содержит данные о пользовательских оценках книг:\n",
    "\n",
    "- `rating_id` — идентификатор оценки;\n",
    "\n",
    "- `book_id` — идентификатор книги;\n",
    "\n",
    "- `username` — имя пользователя, оставившего оценку;\n",
    "\n",
    "- `rating` — оценка книги.\n",
    "\n",
    "Таблица `reviews` содержит данные о пользовательских обзорах на книги:\n",
    "\n",
    "- `review_id` — идентификатор обзора;\n",
    "\n",
    "- `book_id` — идентификатор книги;\n",
    "\n",
    "- `username` — имя пользователя, написавшего обзор;\n",
    "\n",
    "- `text` — текст обзора."
   ]
  },
  {
   "cell_type": "markdown",
   "metadata": {},
   "source": [
    "**План работы**\n",
    "\n",
    "1. Исследование таблиц — вывод первых строк таблиц, подсчёт количества строк в каждой таблице.\n",
    "\n",
    "2. Подсчёт количества книг, вышедших после 1 января 2000 года.\n",
    "\n",
    "3. Подсчёт количества обзоров и средней оценки для каждой книги.\n",
    "\n",
    "4. Определение издательства, которое выпустило наибольшее число книг толще 50 страниц (для исключения из анализа брошюр).\n",
    "\n",
    "5. Выявление автора с самой высокой средней оценкой книг (с учётом только книг с 50 и более оценками).\n",
    "\n",
    "6. Подсчёт среднего количества обзоров от пользователей, которые поставили больше 48 оценок.\n",
    "\n",
    "7. Описание выводов по каждой из решённых задач."
   ]
  },
  {
   "cell_type": "markdown",
   "metadata": {},
   "source": [
    "## Исследование таблиц"
   ]
  },
  {
   "cell_type": "markdown",
   "metadata": {},
   "source": [
    "Импортируем необходимые библиотеки и модули."
   ]
  },
  {
   "cell_type": "code",
   "execution_count": 7,
   "metadata": {},
   "outputs": [],
   "source": [
    "import pandas as pd\n",
    "# импорт библиотеки pandas\n",
    "import sqlalchemy as sa\n",
    "# импорт библиотеки sqlalchemy"
   ]
  },
  {
   "cell_type": "markdown",
   "metadata": {},
   "source": [
    "Установим параметры."
   ]
  },
  {
   "cell_type": "code",
   "execution_count": 9,
   "metadata": {},
   "outputs": [],
   "source": [
    "db_config = {\n",
    "'user': 'praktikum_student', \n",
    "# имя пользователя\n",
    "'pwd': 'Sdf4$2;d-d30pp', \n",
    "# пароль\n",
    "'host': 'rc1b-wcoijxj3yxfsf3fs.mdb.yandexcloud.net', \n",
    "# хост\n",
    "'port': 6432, \n",
    "# порт подключения\n",
    "'db': 'data-analyst-final-project-db'\n",
    "# название базы данных\n",
    "}\n",
    "# создание словаря ‘db_config’ с ключами и значениями\n",
    "connection_string = 'postgresql://{user}:{pwd}@{host}:{port}/{db}'.format(\n",
    "    **db_config)\n",
    "# создание переменной ‘connection_string’\n",
    "# использование параметров из словаря ‘db_config’"
   ]
  },
  {
   "cell_type": "markdown",
   "metadata": {},
   "source": [
    "Сохраним коннектор."
   ]
  },
  {
   "cell_type": "code",
   "execution_count": 11,
   "metadata": {},
   "outputs": [],
   "source": [
    "engine = sa.create_engine(\n",
    "connection_string, connect_args={'sslmode':'require'})\n",
    "# создание объекта ‘engine’ для подключения к базе данных, \n",
    "# указанной в переменной ‘connection_string’"
   ]
  },
  {
   "cell_type": "markdown",
   "metadata": {},
   "source": [
    "Напишем функцию для выполнения SQL-запроса."
   ]
  },
  {
   "cell_type": "code",
   "execution_count": 13,
   "metadata": {},
   "outputs": [],
   "source": [
    "def get_sql_data(\n",
    "query:str, engine:sa.engine.base.Engine=engine\n",
    ") -> pd.DataFrame:\n",
    "# определение функции ‘get_sql_data’\n",
    "# принятие функцией ‘get_sql_data’ двух аргументов: \n",
    "# ‘query’ (строка с запросом к базе данных)\n",
    "# и ‘engine’ (объект класса sa.engine.base.Engine)\n",
    "    '''Открываем соединение, получаем данные из sql, \\\n",
    "    закрываем соединение'''\n",
    "    with engine.connect() as con:\n",
    "        return pd.read_sql(sql=sa.text(query), \n",
    "                           con = con)\n",
    "# использование функцией объекта ‘engine’ \n",
    "# для подключения к базе данных\n",
    "# считывание данных из запроса \n",
    "# и преобразование в датафрейм"
   ]
  },
  {
   "cell_type": "markdown",
   "metadata": {},
   "source": [
    "### Вывод первых строк таблиц"
   ]
  },
  {
   "cell_type": "markdown",
   "metadata": {},
   "source": [
    "Выведем первые 5 строк таблицы `books`."
   ]
  },
  {
   "cell_type": "code",
   "execution_count": 16,
   "metadata": {},
   "outputs": [
    {
     "data": {
      "text/html": [
       "<div>\n",
       "<style scoped>\n",
       "    .dataframe tbody tr th:only-of-type {\n",
       "        vertical-align: middle;\n",
       "    }\n",
       "\n",
       "    .dataframe tbody tr th {\n",
       "        vertical-align: top;\n",
       "    }\n",
       "\n",
       "    .dataframe thead th {\n",
       "        text-align: right;\n",
       "    }\n",
       "</style>\n",
       "<table border=\"1\" class=\"dataframe\">\n",
       "  <thead>\n",
       "    <tr style=\"text-align: right;\">\n",
       "      <th></th>\n",
       "      <th>book_id</th>\n",
       "      <th>author_id</th>\n",
       "      <th>title</th>\n",
       "      <th>num_pages</th>\n",
       "      <th>publication_date</th>\n",
       "      <th>publisher_id</th>\n",
       "    </tr>\n",
       "  </thead>\n",
       "  <tbody>\n",
       "    <tr>\n",
       "      <th>0</th>\n",
       "      <td>1</td>\n",
       "      <td>546</td>\n",
       "      <td>'Salem's Lot</td>\n",
       "      <td>594</td>\n",
       "      <td>2005-11-01</td>\n",
       "      <td>93</td>\n",
       "    </tr>\n",
       "    <tr>\n",
       "      <th>1</th>\n",
       "      <td>2</td>\n",
       "      <td>465</td>\n",
       "      <td>1 000 Places to See Before You Die</td>\n",
       "      <td>992</td>\n",
       "      <td>2003-05-22</td>\n",
       "      <td>336</td>\n",
       "    </tr>\n",
       "    <tr>\n",
       "      <th>2</th>\n",
       "      <td>3</td>\n",
       "      <td>407</td>\n",
       "      <td>13 Little Blue Envelopes (Little Blue Envelope...</td>\n",
       "      <td>322</td>\n",
       "      <td>2010-12-21</td>\n",
       "      <td>135</td>\n",
       "    </tr>\n",
       "    <tr>\n",
       "      <th>3</th>\n",
       "      <td>4</td>\n",
       "      <td>82</td>\n",
       "      <td>1491: New Revelations of the Americas Before C...</td>\n",
       "      <td>541</td>\n",
       "      <td>2006-10-10</td>\n",
       "      <td>309</td>\n",
       "    </tr>\n",
       "    <tr>\n",
       "      <th>4</th>\n",
       "      <td>5</td>\n",
       "      <td>125</td>\n",
       "      <td>1776</td>\n",
       "      <td>386</td>\n",
       "      <td>2006-07-04</td>\n",
       "      <td>268</td>\n",
       "    </tr>\n",
       "  </tbody>\n",
       "</table>\n",
       "</div>"
      ],
      "text/plain": [
       "   book_id  author_id                                              title  \\\n",
       "0        1        546                                       'Salem's Lot   \n",
       "1        2        465                 1 000 Places to See Before You Die   \n",
       "2        3        407  13 Little Blue Envelopes (Little Blue Envelope...   \n",
       "3        4         82  1491: New Revelations of the Americas Before C...   \n",
       "4        5        125                                               1776   \n",
       "\n",
       "   num_pages publication_date  publisher_id  \n",
       "0        594       2005-11-01            93  \n",
       "1        992       2003-05-22           336  \n",
       "2        322       2010-12-21           135  \n",
       "3        541       2006-10-10           309  \n",
       "4        386       2006-07-04           268  "
      ]
     },
     "execution_count": 16,
     "metadata": {},
     "output_type": "execute_result"
    }
   ],
   "source": [
    "get_sql_data('''(SELECT * \n",
    "                 FROM books \n",
    "                 LIMIT 5)''')\n",
    "# выбор всех записей из таблицы ‘books’ \n",
    "# и ограничение их количества до 5\n",
    "# вызов функции ‘get_sql_data’"
   ]
  },
  {
   "cell_type": "markdown",
   "metadata": {},
   "source": [
    "Выведем первые 5 строк таблицы `authors`."
   ]
  },
  {
   "cell_type": "code",
   "execution_count": 18,
   "metadata": {},
   "outputs": [
    {
     "data": {
      "text/html": [
       "<div>\n",
       "<style scoped>\n",
       "    .dataframe tbody tr th:only-of-type {\n",
       "        vertical-align: middle;\n",
       "    }\n",
       "\n",
       "    .dataframe tbody tr th {\n",
       "        vertical-align: top;\n",
       "    }\n",
       "\n",
       "    .dataframe thead th {\n",
       "        text-align: right;\n",
       "    }\n",
       "</style>\n",
       "<table border=\"1\" class=\"dataframe\">\n",
       "  <thead>\n",
       "    <tr style=\"text-align: right;\">\n",
       "      <th></th>\n",
       "      <th>author_id</th>\n",
       "      <th>author</th>\n",
       "    </tr>\n",
       "  </thead>\n",
       "  <tbody>\n",
       "    <tr>\n",
       "      <th>0</th>\n",
       "      <td>1</td>\n",
       "      <td>A.S. Byatt</td>\n",
       "    </tr>\n",
       "    <tr>\n",
       "      <th>1</th>\n",
       "      <td>2</td>\n",
       "      <td>Aesop/Laura Harris/Laura Gibbs</td>\n",
       "    </tr>\n",
       "    <tr>\n",
       "      <th>2</th>\n",
       "      <td>3</td>\n",
       "      <td>Agatha Christie</td>\n",
       "    </tr>\n",
       "    <tr>\n",
       "      <th>3</th>\n",
       "      <td>4</td>\n",
       "      <td>Alan Brennert</td>\n",
       "    </tr>\n",
       "    <tr>\n",
       "      <th>4</th>\n",
       "      <td>5</td>\n",
       "      <td>Alan Moore/David   Lloyd</td>\n",
       "    </tr>\n",
       "  </tbody>\n",
       "</table>\n",
       "</div>"
      ],
      "text/plain": [
       "   author_id                          author\n",
       "0          1                      A.S. Byatt\n",
       "1          2  Aesop/Laura Harris/Laura Gibbs\n",
       "2          3                 Agatha Christie\n",
       "3          4                   Alan Brennert\n",
       "4          5        Alan Moore/David   Lloyd"
      ]
     },
     "execution_count": 18,
     "metadata": {},
     "output_type": "execute_result"
    }
   ],
   "source": [
    "get_sql_data('''(SELECT * \n",
    "                 FROM authors \n",
    "                 LIMIT 5)''')\n",
    "# выбор всех записей из таблицы ‘authors’ \n",
    "# и ограничение их количества до 5\n",
    "# вызов функции ‘get_sql_data’"
   ]
  },
  {
   "cell_type": "markdown",
   "metadata": {},
   "source": [
    "Выведем первые 5 строк таблицы `publishers`."
   ]
  },
  {
   "cell_type": "code",
   "execution_count": 20,
   "metadata": {},
   "outputs": [
    {
     "data": {
      "text/html": [
       "<div>\n",
       "<style scoped>\n",
       "    .dataframe tbody tr th:only-of-type {\n",
       "        vertical-align: middle;\n",
       "    }\n",
       "\n",
       "    .dataframe tbody tr th {\n",
       "        vertical-align: top;\n",
       "    }\n",
       "\n",
       "    .dataframe thead th {\n",
       "        text-align: right;\n",
       "    }\n",
       "</style>\n",
       "<table border=\"1\" class=\"dataframe\">\n",
       "  <thead>\n",
       "    <tr style=\"text-align: right;\">\n",
       "      <th></th>\n",
       "      <th>publisher_id</th>\n",
       "      <th>publisher</th>\n",
       "    </tr>\n",
       "  </thead>\n",
       "  <tbody>\n",
       "    <tr>\n",
       "      <th>0</th>\n",
       "      <td>1</td>\n",
       "      <td>Ace</td>\n",
       "    </tr>\n",
       "    <tr>\n",
       "      <th>1</th>\n",
       "      <td>2</td>\n",
       "      <td>Ace Book</td>\n",
       "    </tr>\n",
       "    <tr>\n",
       "      <th>2</th>\n",
       "      <td>3</td>\n",
       "      <td>Ace Books</td>\n",
       "    </tr>\n",
       "    <tr>\n",
       "      <th>3</th>\n",
       "      <td>4</td>\n",
       "      <td>Ace Hardcover</td>\n",
       "    </tr>\n",
       "    <tr>\n",
       "      <th>4</th>\n",
       "      <td>5</td>\n",
       "      <td>Addison Wesley Publishing Company</td>\n",
       "    </tr>\n",
       "  </tbody>\n",
       "</table>\n",
       "</div>"
      ],
      "text/plain": [
       "   publisher_id                          publisher\n",
       "0             1                                Ace\n",
       "1             2                           Ace Book\n",
       "2             3                          Ace Books\n",
       "3             4                      Ace Hardcover\n",
       "4             5  Addison Wesley Publishing Company"
      ]
     },
     "execution_count": 20,
     "metadata": {},
     "output_type": "execute_result"
    }
   ],
   "source": [
    "get_sql_data('''(SELECT * \n",
    "                 FROM publishers \n",
    "                 LIMIT 5)''')\n",
    "# выбор всех записей из таблицы ‘publishers’ \n",
    "# и ограничение их количества до 5\n",
    "# вызов функции ‘get_sql_data’"
   ]
  },
  {
   "cell_type": "markdown",
   "metadata": {},
   "source": [
    "Выведем первые 5 строк таблицы `ratings`."
   ]
  },
  {
   "cell_type": "code",
   "execution_count": 22,
   "metadata": {},
   "outputs": [
    {
     "data": {
      "text/html": [
       "<div>\n",
       "<style scoped>\n",
       "    .dataframe tbody tr th:only-of-type {\n",
       "        vertical-align: middle;\n",
       "    }\n",
       "\n",
       "    .dataframe tbody tr th {\n",
       "        vertical-align: top;\n",
       "    }\n",
       "\n",
       "    .dataframe thead th {\n",
       "        text-align: right;\n",
       "    }\n",
       "</style>\n",
       "<table border=\"1\" class=\"dataframe\">\n",
       "  <thead>\n",
       "    <tr style=\"text-align: right;\">\n",
       "      <th></th>\n",
       "      <th>rating_id</th>\n",
       "      <th>book_id</th>\n",
       "      <th>username</th>\n",
       "      <th>rating</th>\n",
       "    </tr>\n",
       "  </thead>\n",
       "  <tbody>\n",
       "    <tr>\n",
       "      <th>0</th>\n",
       "      <td>1</td>\n",
       "      <td>1</td>\n",
       "      <td>ryanfranco</td>\n",
       "      <td>4</td>\n",
       "    </tr>\n",
       "    <tr>\n",
       "      <th>1</th>\n",
       "      <td>2</td>\n",
       "      <td>1</td>\n",
       "      <td>grantpatricia</td>\n",
       "      <td>2</td>\n",
       "    </tr>\n",
       "    <tr>\n",
       "      <th>2</th>\n",
       "      <td>3</td>\n",
       "      <td>1</td>\n",
       "      <td>brandtandrea</td>\n",
       "      <td>5</td>\n",
       "    </tr>\n",
       "    <tr>\n",
       "      <th>3</th>\n",
       "      <td>4</td>\n",
       "      <td>2</td>\n",
       "      <td>lorichen</td>\n",
       "      <td>3</td>\n",
       "    </tr>\n",
       "    <tr>\n",
       "      <th>4</th>\n",
       "      <td>5</td>\n",
       "      <td>2</td>\n",
       "      <td>mariokeller</td>\n",
       "      <td>2</td>\n",
       "    </tr>\n",
       "  </tbody>\n",
       "</table>\n",
       "</div>"
      ],
      "text/plain": [
       "   rating_id  book_id       username  rating\n",
       "0          1        1     ryanfranco       4\n",
       "1          2        1  grantpatricia       2\n",
       "2          3        1   brandtandrea       5\n",
       "3          4        2       lorichen       3\n",
       "4          5        2    mariokeller       2"
      ]
     },
     "execution_count": 22,
     "metadata": {},
     "output_type": "execute_result"
    }
   ],
   "source": [
    "get_sql_data('''(SELECT * \n",
    "                 FROM ratings \n",
    "                 LIMIT 5)''')\n",
    "# выбор всех записей из таблицы ‘ratings’ \n",
    "# и ограничение их количества до 5\n",
    "# вызов функции ‘get_sql_data’"
   ]
  },
  {
   "cell_type": "markdown",
   "metadata": {},
   "source": [
    "Выведем первые 5 строк таблицы `reviews`."
   ]
  },
  {
   "cell_type": "code",
   "execution_count": 24,
   "metadata": {},
   "outputs": [
    {
     "data": {
      "text/html": [
       "<div>\n",
       "<style scoped>\n",
       "    .dataframe tbody tr th:only-of-type {\n",
       "        vertical-align: middle;\n",
       "    }\n",
       "\n",
       "    .dataframe tbody tr th {\n",
       "        vertical-align: top;\n",
       "    }\n",
       "\n",
       "    .dataframe thead th {\n",
       "        text-align: right;\n",
       "    }\n",
       "</style>\n",
       "<table border=\"1\" class=\"dataframe\">\n",
       "  <thead>\n",
       "    <tr style=\"text-align: right;\">\n",
       "      <th></th>\n",
       "      <th>review_id</th>\n",
       "      <th>book_id</th>\n",
       "      <th>username</th>\n",
       "      <th>text</th>\n",
       "    </tr>\n",
       "  </thead>\n",
       "  <tbody>\n",
       "    <tr>\n",
       "      <th>0</th>\n",
       "      <td>1</td>\n",
       "      <td>1</td>\n",
       "      <td>brandtandrea</td>\n",
       "      <td>Mention society tell send professor analysis. ...</td>\n",
       "    </tr>\n",
       "    <tr>\n",
       "      <th>1</th>\n",
       "      <td>2</td>\n",
       "      <td>1</td>\n",
       "      <td>ryanfranco</td>\n",
       "      <td>Foot glass pretty audience hit themselves. Amo...</td>\n",
       "    </tr>\n",
       "    <tr>\n",
       "      <th>2</th>\n",
       "      <td>3</td>\n",
       "      <td>2</td>\n",
       "      <td>lorichen</td>\n",
       "      <td>Listen treat keep worry. Miss husband tax but ...</td>\n",
       "    </tr>\n",
       "    <tr>\n",
       "      <th>3</th>\n",
       "      <td>4</td>\n",
       "      <td>3</td>\n",
       "      <td>johnsonamanda</td>\n",
       "      <td>Finally month interesting blue could nature cu...</td>\n",
       "    </tr>\n",
       "    <tr>\n",
       "      <th>4</th>\n",
       "      <td>5</td>\n",
       "      <td>3</td>\n",
       "      <td>scotttamara</td>\n",
       "      <td>Nation purpose heavy give wait song will. List...</td>\n",
       "    </tr>\n",
       "  </tbody>\n",
       "</table>\n",
       "</div>"
      ],
      "text/plain": [
       "   review_id  book_id       username  \\\n",
       "0          1        1   brandtandrea   \n",
       "1          2        1     ryanfranco   \n",
       "2          3        2       lorichen   \n",
       "3          4        3  johnsonamanda   \n",
       "4          5        3    scotttamara   \n",
       "\n",
       "                                                text  \n",
       "0  Mention society tell send professor analysis. ...  \n",
       "1  Foot glass pretty audience hit themselves. Amo...  \n",
       "2  Listen treat keep worry. Miss husband tax but ...  \n",
       "3  Finally month interesting blue could nature cu...  \n",
       "4  Nation purpose heavy give wait song will. List...  "
      ]
     },
     "execution_count": 24,
     "metadata": {},
     "output_type": "execute_result"
    }
   ],
   "source": [
    "get_sql_data('''(SELECT * \n",
    "                 FROM reviews \n",
    "                 LIMIT 5)''')\n",
    "# выбор всех записей из таблицы ‘reviews’ \n",
    "# и ограничение их количества до 5\n",
    "# вызов функции ‘get_sql_data’"
   ]
  },
  {
   "cell_type": "markdown",
   "metadata": {},
   "source": [
    "### Подсчёт количества строк в каждой таблице"
   ]
  },
  {
   "cell_type": "markdown",
   "metadata": {},
   "source": [
    "Определим, сколько строк содержится в таблице `books`."
   ]
  },
  {
   "cell_type": "code",
   "execution_count": 27,
   "metadata": {},
   "outputs": [
    {
     "data": {
      "text/html": [
       "<div>\n",
       "<style scoped>\n",
       "    .dataframe tbody tr th:only-of-type {\n",
       "        vertical-align: middle;\n",
       "    }\n",
       "\n",
       "    .dataframe tbody tr th {\n",
       "        vertical-align: top;\n",
       "    }\n",
       "\n",
       "    .dataframe thead th {\n",
       "        text-align: right;\n",
       "    }\n",
       "</style>\n",
       "<table border=\"1\" class=\"dataframe\">\n",
       "  <thead>\n",
       "    <tr style=\"text-align: right;\">\n",
       "      <th></th>\n",
       "      <th>total_rows_books</th>\n",
       "    </tr>\n",
       "  </thead>\n",
       "  <tbody>\n",
       "    <tr>\n",
       "      <th>0</th>\n",
       "      <td>1000</td>\n",
       "    </tr>\n",
       "  </tbody>\n",
       "</table>\n",
       "</div>"
      ],
      "text/plain": [
       "   total_rows_books\n",
       "0              1000"
      ]
     },
     "execution_count": 27,
     "metadata": {},
     "output_type": "execute_result"
    }
   ],
   "source": [
    "get_sql_data('''(SELECT COUNT(*) AS total_rows_books\n",
    "                 FROM books)''')\n",
    "# подсчёт общего количества строк в таблице ‘books’\n",
    "# вызов функции ‘get_sql_data’"
   ]
  },
  {
   "cell_type": "markdown",
   "metadata": {},
   "source": [
    "В таблице `books` содержится 1 тыс. строк."
   ]
  },
  {
   "cell_type": "markdown",
   "metadata": {},
   "source": [
    "Определим, сколько строк содержится в таблице `authors`."
   ]
  },
  {
   "cell_type": "code",
   "execution_count": 30,
   "metadata": {},
   "outputs": [
    {
     "data": {
      "text/html": [
       "<div>\n",
       "<style scoped>\n",
       "    .dataframe tbody tr th:only-of-type {\n",
       "        vertical-align: middle;\n",
       "    }\n",
       "\n",
       "    .dataframe tbody tr th {\n",
       "        vertical-align: top;\n",
       "    }\n",
       "\n",
       "    .dataframe thead th {\n",
       "        text-align: right;\n",
       "    }\n",
       "</style>\n",
       "<table border=\"1\" class=\"dataframe\">\n",
       "  <thead>\n",
       "    <tr style=\"text-align: right;\">\n",
       "      <th></th>\n",
       "      <th>total_rows_authors</th>\n",
       "    </tr>\n",
       "  </thead>\n",
       "  <tbody>\n",
       "    <tr>\n",
       "      <th>0</th>\n",
       "      <td>636</td>\n",
       "    </tr>\n",
       "  </tbody>\n",
       "</table>\n",
       "</div>"
      ],
      "text/plain": [
       "   total_rows_authors\n",
       "0                 636"
      ]
     },
     "execution_count": 30,
     "metadata": {},
     "output_type": "execute_result"
    }
   ],
   "source": [
    "get_sql_data('''(SELECT COUNT(*) AS total_rows_authors\n",
    "                 FROM authors)''')\n",
    "# подсчёт общего количества строк в таблице ‘authors’\n",
    "# вызов функции ‘get_sql_data’"
   ]
  },
  {
   "cell_type": "markdown",
   "metadata": {},
   "source": [
    "В таблице `authors` содержится 636 строк."
   ]
  },
  {
   "cell_type": "markdown",
   "metadata": {},
   "source": [
    "Определим, сколько строк содержится в таблице `publishers`."
   ]
  },
  {
   "cell_type": "code",
   "execution_count": 33,
   "metadata": {},
   "outputs": [
    {
     "data": {
      "text/html": [
       "<div>\n",
       "<style scoped>\n",
       "    .dataframe tbody tr th:only-of-type {\n",
       "        vertical-align: middle;\n",
       "    }\n",
       "\n",
       "    .dataframe tbody tr th {\n",
       "        vertical-align: top;\n",
       "    }\n",
       "\n",
       "    .dataframe thead th {\n",
       "        text-align: right;\n",
       "    }\n",
       "</style>\n",
       "<table border=\"1\" class=\"dataframe\">\n",
       "  <thead>\n",
       "    <tr style=\"text-align: right;\">\n",
       "      <th></th>\n",
       "      <th>total_rows_publishers</th>\n",
       "    </tr>\n",
       "  </thead>\n",
       "  <tbody>\n",
       "    <tr>\n",
       "      <th>0</th>\n",
       "      <td>340</td>\n",
       "    </tr>\n",
       "  </tbody>\n",
       "</table>\n",
       "</div>"
      ],
      "text/plain": [
       "   total_rows_publishers\n",
       "0                    340"
      ]
     },
     "execution_count": 33,
     "metadata": {},
     "output_type": "execute_result"
    }
   ],
   "source": [
    "get_sql_data('''(SELECT COUNT(*) AS total_rows_publishers\n",
    "                 FROM publishers)''')\n",
    "# подсчёт общего количества строк в таблице ‘publishers’\n",
    "# вызов функции ‘get_sql_data’"
   ]
  },
  {
   "cell_type": "markdown",
   "metadata": {},
   "source": [
    "В таблице `publishers` содержится 340 строк."
   ]
  },
  {
   "cell_type": "markdown",
   "metadata": {},
   "source": [
    "Определим, сколько строк содержится в таблице `ratings`."
   ]
  },
  {
   "cell_type": "code",
   "execution_count": 36,
   "metadata": {},
   "outputs": [
    {
     "data": {
      "text/html": [
       "<div>\n",
       "<style scoped>\n",
       "    .dataframe tbody tr th:only-of-type {\n",
       "        vertical-align: middle;\n",
       "    }\n",
       "\n",
       "    .dataframe tbody tr th {\n",
       "        vertical-align: top;\n",
       "    }\n",
       "\n",
       "    .dataframe thead th {\n",
       "        text-align: right;\n",
       "    }\n",
       "</style>\n",
       "<table border=\"1\" class=\"dataframe\">\n",
       "  <thead>\n",
       "    <tr style=\"text-align: right;\">\n",
       "      <th></th>\n",
       "      <th>total_rows_ratings</th>\n",
       "    </tr>\n",
       "  </thead>\n",
       "  <tbody>\n",
       "    <tr>\n",
       "      <th>0</th>\n",
       "      <td>6456</td>\n",
       "    </tr>\n",
       "  </tbody>\n",
       "</table>\n",
       "</div>"
      ],
      "text/plain": [
       "   total_rows_ratings\n",
       "0                6456"
      ]
     },
     "execution_count": 36,
     "metadata": {},
     "output_type": "execute_result"
    }
   ],
   "source": [
    "get_sql_data('''(SELECT COUNT(*) AS total_rows_ratings\n",
    "                 FROM ratings)''')\n",
    "# подсчёт общего количества строк в таблице ‘ratings’\n",
    "# вызов функции ‘get_sql_data’"
   ]
  },
  {
   "cell_type": "markdown",
   "metadata": {},
   "source": [
    "В таблице `ratings` содержится 6 тыс. 456 строк."
   ]
  },
  {
   "cell_type": "markdown",
   "metadata": {},
   "source": [
    "Определим, сколько строк содержится в таблице `reviews`."
   ]
  },
  {
   "cell_type": "code",
   "execution_count": 39,
   "metadata": {},
   "outputs": [
    {
     "data": {
      "text/html": [
       "<div>\n",
       "<style scoped>\n",
       "    .dataframe tbody tr th:only-of-type {\n",
       "        vertical-align: middle;\n",
       "    }\n",
       "\n",
       "    .dataframe tbody tr th {\n",
       "        vertical-align: top;\n",
       "    }\n",
       "\n",
       "    .dataframe thead th {\n",
       "        text-align: right;\n",
       "    }\n",
       "</style>\n",
       "<table border=\"1\" class=\"dataframe\">\n",
       "  <thead>\n",
       "    <tr style=\"text-align: right;\">\n",
       "      <th></th>\n",
       "      <th>total_rows_reviews</th>\n",
       "    </tr>\n",
       "  </thead>\n",
       "  <tbody>\n",
       "    <tr>\n",
       "      <th>0</th>\n",
       "      <td>2793</td>\n",
       "    </tr>\n",
       "  </tbody>\n",
       "</table>\n",
       "</div>"
      ],
      "text/plain": [
       "   total_rows_reviews\n",
       "0                2793"
      ]
     },
     "execution_count": 39,
     "metadata": {},
     "output_type": "execute_result"
    }
   ],
   "source": [
    "get_sql_data('''(SELECT COUNT(*) AS total_rows_reviews\n",
    "                 FROM reviews)''')\n",
    "# подсчёт общего количества строк в таблице ‘reviews’\n",
    "# вызов функции ‘get_sql_data’"
   ]
  },
  {
   "cell_type": "markdown",
   "metadata": {},
   "source": [
    "В таблице `reviews` содержится 2 тыс. 793 строки."
   ]
  },
  {
   "cell_type": "markdown",
   "metadata": {},
   "source": [
    "## Подсчёт количества книг, вышедших после 1 января 2000 года"
   ]
  },
  {
   "cell_type": "markdown",
   "metadata": {},
   "source": [
    "Определим самую раннюю и самую позднюю дату публикации книг."
   ]
  },
  {
   "cell_type": "code",
   "execution_count": 43,
   "metadata": {},
   "outputs": [
    {
     "data": {
      "text/html": [
       "<div>\n",
       "<style scoped>\n",
       "    .dataframe tbody tr th:only-of-type {\n",
       "        vertical-align: middle;\n",
       "    }\n",
       "\n",
       "    .dataframe tbody tr th {\n",
       "        vertical-align: top;\n",
       "    }\n",
       "\n",
       "    .dataframe thead th {\n",
       "        text-align: right;\n",
       "    }\n",
       "</style>\n",
       "<table border=\"1\" class=\"dataframe\">\n",
       "  <thead>\n",
       "    <tr style=\"text-align: right;\">\n",
       "      <th></th>\n",
       "      <th>min_publication_date</th>\n",
       "      <th>max_publication_date</th>\n",
       "    </tr>\n",
       "  </thead>\n",
       "  <tbody>\n",
       "    <tr>\n",
       "      <th>0</th>\n",
       "      <td>1952-12-01</td>\n",
       "      <td>2020-03-31</td>\n",
       "    </tr>\n",
       "  </tbody>\n",
       "</table>\n",
       "</div>"
      ],
      "text/plain": [
       "  min_publication_date max_publication_date\n",
       "0           1952-12-01           2020-03-31"
      ]
     },
     "execution_count": 43,
     "metadata": {},
     "output_type": "execute_result"
    }
   ],
   "source": [
    "get_sql_data('''(SELECT MIN(publication_date) AS min_publication_date,\n",
    "                        MAX(publication_date) AS max_publication_date\n",
    "                 FROM books)''')\n",
    "# нахождение минимального значения \n",
    "# столбца ‘publication_date’ из таблицы ‘books’\n",
    "# нахождение максимального значения \n",
    "# столбца ‘publication_date’ из таблицы ‘books’\n",
    "# вызов функции ‘get_sql_data’"
   ]
  },
  {
   "cell_type": "markdown",
   "metadata": {},
   "source": [
    "Самая ранняя дата публикации книг — 1 декабря 1952 года, а самая поздняя — 31 марта 2020 года."
   ]
  },
  {
   "cell_type": "markdown",
   "metadata": {},
   "source": [
    "Выясним, сколько книг вышло после 1 января 2000 года."
   ]
  },
  {
   "cell_type": "code",
   "execution_count": 46,
   "metadata": {},
   "outputs": [
    {
     "data": {
      "text/html": [
       "<div>\n",
       "<style scoped>\n",
       "    .dataframe tbody tr th:only-of-type {\n",
       "        vertical-align: middle;\n",
       "    }\n",
       "\n",
       "    .dataframe tbody tr th {\n",
       "        vertical-align: top;\n",
       "    }\n",
       "\n",
       "    .dataframe thead th {\n",
       "        text-align: right;\n",
       "    }\n",
       "</style>\n",
       "<table border=\"1\" class=\"dataframe\">\n",
       "  <thead>\n",
       "    <tr style=\"text-align: right;\">\n",
       "      <th></th>\n",
       "      <th>total_books</th>\n",
       "    </tr>\n",
       "  </thead>\n",
       "  <tbody>\n",
       "    <tr>\n",
       "      <th>0</th>\n",
       "      <td>819</td>\n",
       "    </tr>\n",
       "  </tbody>\n",
       "</table>\n",
       "</div>"
      ],
      "text/plain": [
       "   total_books\n",
       "0          819"
      ]
     },
     "execution_count": 46,
     "metadata": {},
     "output_type": "execute_result"
    }
   ],
   "source": [
    "get_sql_data('''(SELECT COUNT(book_id) AS total_books\n",
    "                 FROM books \n",
    "                 WHERE publication_date > '2000-01-01')''')\n",
    "# подсчёт количества значений\n",
    "# в столбце ‘book_id’ таблицы ‘books’\n",
    "# при условии, что даты \n",
    "# в столбце ‘publication_date’ позже 1 января 2000 года\n",
    "# вызов функции ‘get_sql_data’"
   ]
  },
  {
   "cell_type": "markdown",
   "metadata": {},
   "source": [
    "Всего в базе данных содержится информация об одной тысяче книг, большая часть которых была опубликована после 1 января 2000 года. Со 2 января 2000 года по 31 марта 2020 года вышло 819 книг, представленных в базе данных."
   ]
  },
  {
   "cell_type": "markdown",
   "metadata": {},
   "source": [
    "## Подсчёт количества обзоров и средней оценки для каждой книги"
   ]
  },
  {
   "cell_type": "markdown",
   "metadata": {},
   "source": [
    "Для каждой книги посчитаем количество обзоров и среднюю оценку."
   ]
  },
  {
   "cell_type": "code",
   "execution_count": 50,
   "metadata": {},
   "outputs": [
    {
     "data": {
      "text/html": [
       "<div>\n",
       "<style scoped>\n",
       "    .dataframe tbody tr th:only-of-type {\n",
       "        vertical-align: middle;\n",
       "    }\n",
       "\n",
       "    .dataframe tbody tr th {\n",
       "        vertical-align: top;\n",
       "    }\n",
       "\n",
       "    .dataframe thead th {\n",
       "        text-align: right;\n",
       "    }\n",
       "</style>\n",
       "<table border=\"1\" class=\"dataframe\">\n",
       "  <thead>\n",
       "    <tr style=\"text-align: right;\">\n",
       "      <th></th>\n",
       "      <th>book_id</th>\n",
       "      <th>title</th>\n",
       "      <th>total_reviews</th>\n",
       "      <th>average_rating</th>\n",
       "    </tr>\n",
       "  </thead>\n",
       "  <tbody>\n",
       "    <tr>\n",
       "      <th>0</th>\n",
       "      <td>17</td>\n",
       "      <td>A Dirty Job (Grim Reaper  #1)</td>\n",
       "      <td>4</td>\n",
       "      <td>5.00</td>\n",
       "    </tr>\n",
       "    <tr>\n",
       "      <th>1</th>\n",
       "      <td>553</td>\n",
       "      <td>School's Out—Forever (Maximum Ride  #2)</td>\n",
       "      <td>3</td>\n",
       "      <td>5.00</td>\n",
       "    </tr>\n",
       "    <tr>\n",
       "      <th>2</th>\n",
       "      <td>444</td>\n",
       "      <td>Moneyball: The Art of Winning an Unfair Game</td>\n",
       "      <td>3</td>\n",
       "      <td>5.00</td>\n",
       "    </tr>\n",
       "    <tr>\n",
       "      <th>3</th>\n",
       "      <td>86</td>\n",
       "      <td>Arrows of the Queen (Heralds of Valdemar  #1)</td>\n",
       "      <td>2</td>\n",
       "      <td>5.00</td>\n",
       "    </tr>\n",
       "    <tr>\n",
       "      <th>4</th>\n",
       "      <td>972</td>\n",
       "      <td>Wherever You Go  There You Are: Mindfulness Me...</td>\n",
       "      <td>2</td>\n",
       "      <td>5.00</td>\n",
       "    </tr>\n",
       "    <tr>\n",
       "      <th>...</th>\n",
       "      <td>...</td>\n",
       "      <td>...</td>\n",
       "      <td>...</td>\n",
       "      <td>...</td>\n",
       "    </tr>\n",
       "    <tr>\n",
       "      <th>995</th>\n",
       "      <td>915</td>\n",
       "      <td>The World Is Flat: A Brief History of the Twen...</td>\n",
       "      <td>3</td>\n",
       "      <td>2.25</td>\n",
       "    </tr>\n",
       "    <tr>\n",
       "      <th>996</th>\n",
       "      <td>202</td>\n",
       "      <td>Drowning Ruth</td>\n",
       "      <td>3</td>\n",
       "      <td>2.00</td>\n",
       "    </tr>\n",
       "    <tr>\n",
       "      <th>997</th>\n",
       "      <td>316</td>\n",
       "      <td>His Excellency: George Washington</td>\n",
       "      <td>2</td>\n",
       "      <td>2.00</td>\n",
       "    </tr>\n",
       "    <tr>\n",
       "      <th>998</th>\n",
       "      <td>371</td>\n",
       "      <td>Junky</td>\n",
       "      <td>2</td>\n",
       "      <td>2.00</td>\n",
       "    </tr>\n",
       "    <tr>\n",
       "      <th>999</th>\n",
       "      <td>303</td>\n",
       "      <td>Harvesting the Heart</td>\n",
       "      <td>2</td>\n",
       "      <td>1.50</td>\n",
       "    </tr>\n",
       "  </tbody>\n",
       "</table>\n",
       "<p>1000 rows × 4 columns</p>\n",
       "</div>"
      ],
      "text/plain": [
       "     book_id                                              title  \\\n",
       "0         17                      A Dirty Job (Grim Reaper  #1)   \n",
       "1        553            School's Out—Forever (Maximum Ride  #2)   \n",
       "2        444       Moneyball: The Art of Winning an Unfair Game   \n",
       "3         86      Arrows of the Queen (Heralds of Valdemar  #1)   \n",
       "4        972  Wherever You Go  There You Are: Mindfulness Me...   \n",
       "..       ...                                                ...   \n",
       "995      915  The World Is Flat: A Brief History of the Twen...   \n",
       "996      202                                      Drowning Ruth   \n",
       "997      316                  His Excellency: George Washington   \n",
       "998      371                                              Junky   \n",
       "999      303                               Harvesting the Heart   \n",
       "\n",
       "     total_reviews  average_rating  \n",
       "0                4            5.00  \n",
       "1                3            5.00  \n",
       "2                3            5.00  \n",
       "3                2            5.00  \n",
       "4                2            5.00  \n",
       "..             ...             ...  \n",
       "995              3            2.25  \n",
       "996              3            2.00  \n",
       "997              2            2.00  \n",
       "998              2            2.00  \n",
       "999              2            1.50  \n",
       "\n",
       "[1000 rows x 4 columns]"
      ]
     },
     "execution_count": 50,
     "metadata": {},
     "output_type": "execute_result"
    }
   ],
   "source": [
    "get_sql_data('''(SELECT b.book_id,\n",
    "                        b.title,\n",
    "                        COUNT(DISTINCT(re.review_id)) AS total_reviews,\n",
    "                        AVG(ra.rating) AS average_rating\n",
    "                 FROM books AS b\n",
    "                 LEFT JOIN reviews AS re ON b.book_id = re.book_id\n",
    "                 LEFT JOIN ratings AS ra ON b.book_id = ra.book_id\n",
    "                 GROUP BY b.book_id, b.title\n",
    "                 ORDER BY average_rating DESC, total_reviews DESC)''')\n",
    "# группировка данных по столбцам ‘book_id’ и ‘title’ таблицы ‘books’\n",
    "# выполнение агрегатных функций для каждой группы\n",
    "# сортировка результатов запроса по убыванию ‘average_rating’ и ‘total_reviews’\n",
    "# вывод значений столбцов ‘book_id’ и ‘title’ из таблицы ‘books’\n",
    "# вывод количества уникальных значений ‘review_id’ в таблице ‘reviews’\n",
    "# вывод средних значений столбца ‘rating’ из таблицы ‘ratings’\n",
    "# вызов функции ‘get_sql_data’"
   ]
  },
  {
   "cell_type": "markdown",
   "metadata": {},
   "source": [
    "Определим наименьшее и наибольшее количество обзоров на книгу, а также минимальную и максимальную среднюю оценку книги."
   ]
  },
  {
   "cell_type": "code",
   "execution_count": 52,
   "metadata": {},
   "outputs": [
    {
     "data": {
      "text/html": [
       "<div>\n",
       "<style scoped>\n",
       "    .dataframe tbody tr th:only-of-type {\n",
       "        vertical-align: middle;\n",
       "    }\n",
       "\n",
       "    .dataframe tbody tr th {\n",
       "        vertical-align: top;\n",
       "    }\n",
       "\n",
       "    .dataframe thead th {\n",
       "        text-align: right;\n",
       "    }\n",
       "</style>\n",
       "<table border=\"1\" class=\"dataframe\">\n",
       "  <thead>\n",
       "    <tr style=\"text-align: right;\">\n",
       "      <th></th>\n",
       "      <th>min_total_reviews</th>\n",
       "      <th>max_total_reviews</th>\n",
       "      <th>min_average_rating</th>\n",
       "      <th>max_average_rating</th>\n",
       "    </tr>\n",
       "  </thead>\n",
       "  <tbody>\n",
       "    <tr>\n",
       "      <th>0</th>\n",
       "      <td>0</td>\n",
       "      <td>7</td>\n",
       "      <td>1.5</td>\n",
       "      <td>5.0</td>\n",
       "    </tr>\n",
       "  </tbody>\n",
       "</table>\n",
       "</div>"
      ],
      "text/plain": [
       "   min_total_reviews  max_total_reviews  min_average_rating  \\\n",
       "0                  0                  7                 1.5   \n",
       "\n",
       "   max_average_rating  \n",
       "0                 5.0  "
      ]
     },
     "execution_count": 52,
     "metadata": {},
     "output_type": "execute_result"
    }
   ],
   "source": [
    "get_sql_data('''(WITH\n",
    "                 i AS (SELECT b.book_id,\n",
    "                              b.title,\n",
    "                              COUNT(DISTINCT(re.review_id)) AS total_reviews,\n",
    "                              AVG(ra.rating) AS average_rating\n",
    "                       FROM books AS b\n",
    "                       LEFT JOIN reviews AS re ON b.book_id = re.book_id\n",
    "                       LEFT JOIN ratings AS ra ON b.book_id = ra.book_id\n",
    "                       GROUP BY b.book_id, b.title\n",
    "                       ORDER BY average_rating DESC, total_reviews DESC)\n",
    "                 SELECT MIN(i.total_reviews) AS min_total_reviews,\n",
    "                        MAX(i.total_reviews) AS max_total_reviews,\n",
    "                        MIN(i.average_rating) AS min_average_rating,\n",
    "                        MAX(i.average_rating) AS max_average_rating\n",
    "                 FROM i)''')\n",
    "# формирование подзапроса с псевдонимом i\n",
    "# группировка данных по столбцам ‘book_id’ и ‘title’ таблицы ‘books’\n",
    "# выполнение агрегатных функций для каждой группы\n",
    "# сортировка результатов запроса по убыванию ‘average_rating’ и ‘total_reviews’\n",
    "# вывод значений столбцов ‘book_id’ и ‘title’ из таблицы ‘books’\n",
    "# вывод количества уникальных значений ‘review_id’ в таблице ‘reviews’\n",
    "# вывод средних значений столбца ‘rating’ из таблицы ‘ratings’\n",
    "# написание основного запроса\n",
    "# нахождение минимального значения столбца ‘total_reviews’ из таблицы ‘i’\n",
    "# нахождение максимального значения столбца ‘total_reviews’ из таблицы ‘i’\n",
    "# нахождение минимального значения столбца ‘average_rating’ из таблицы ‘i’\n",
    "# нахождение максимального значения столбца ‘average_rating’ из таблицы ‘i’\n",
    "# вызов функции ‘get_sql_data’"
   ]
  },
  {
   "cell_type": "markdown",
   "metadata": {},
   "source": [
    "В базе данных существуют книги, на которые пользователи не написали обзоры. Наибольшее количество обзоров на одну книгу — 7.\n",
    "\n",
    "Минимальная средняя пользовательская оценка книги составляет 1.5, а максимальная — 5."
   ]
  },
  {
   "cell_type": "markdown",
   "metadata": {},
   "source": [
    "## Определение издательства, которое выпустило наибольшее число книг толще 50 страниц"
   ]
  },
  {
   "cell_type": "markdown",
   "metadata": {},
   "source": [
    "Определим издательство, которое выпустило наибольшее число книг толще 50 страниц (так мы исключим из анализа брошюры)."
   ]
  },
  {
   "cell_type": "code",
   "execution_count": 56,
   "metadata": {},
   "outputs": [
    {
     "data": {
      "text/html": [
       "<div>\n",
       "<style scoped>\n",
       "    .dataframe tbody tr th:only-of-type {\n",
       "        vertical-align: middle;\n",
       "    }\n",
       "\n",
       "    .dataframe tbody tr th {\n",
       "        vertical-align: top;\n",
       "    }\n",
       "\n",
       "    .dataframe thead th {\n",
       "        text-align: right;\n",
       "    }\n",
       "</style>\n",
       "<table border=\"1\" class=\"dataframe\">\n",
       "  <thead>\n",
       "    <tr style=\"text-align: right;\">\n",
       "      <th></th>\n",
       "      <th>publisher_id</th>\n",
       "      <th>publisher</th>\n",
       "      <th>total_books</th>\n",
       "    </tr>\n",
       "  </thead>\n",
       "  <tbody>\n",
       "    <tr>\n",
       "      <th>0</th>\n",
       "      <td>212</td>\n",
       "      <td>Penguin Books</td>\n",
       "      <td>42</td>\n",
       "    </tr>\n",
       "  </tbody>\n",
       "</table>\n",
       "</div>"
      ],
      "text/plain": [
       "   publisher_id      publisher  total_books\n",
       "0           212  Penguin Books           42"
      ]
     },
     "execution_count": 56,
     "metadata": {},
     "output_type": "execute_result"
    }
   ],
   "source": [
    "get_sql_data('''(SELECT p.publisher_id,\n",
    "                        p.publisher,\n",
    "                        COUNT(b.book_id) AS total_books\n",
    "                 FROM books AS b\n",
    "                 JOIN publishers AS p ON b.publisher_id = p.publisher_id\n",
    "                 WHERE b.num_pages > 50\n",
    "                 GROUP BY p.publisher_id, p.publisher\n",
    "                 ORDER BY total_books DESC\n",
    "                 LIMIT 1)''')\n",
    "# группировка данных по столбцам ‘publisher_id’ \n",
    "# и ‘publisher’ таблицы ‘publishers’\n",
    "# выполнение агрегатных функций для каждой группы\n",
    "# выполнение запроса только для тех записей, \n",
    "# у которых значение столбца ‘num_pages’ таблицы ‘books’ больше 50\n",
    "# сортировка результатов запроса по убыванию ‘total_books’\n",
    "# вывод значений столбцов ‘publisher_id’ \n",
    "# и ‘publisher’ из таблицы ‘publishers’\n",
    "# вывод количества значений в столбце ‘book_id’ из таблицы ‘books’\n",
    "# вывод только первой записи из результатов запроса\n",
    "# вызов функции ‘get_sql_data’"
   ]
  },
  {
   "cell_type": "markdown",
   "metadata": {},
   "source": [
    "Издательство «Penguin Books» выпустило наибольшее количество книг объёмом более 50 страниц — 42 книги. «Penguin Books» является британским издательством, основанным в 1935 году. Важным достижением издательства считается демократизация книжного рынка, благодаря которой книга превратилась из предмета роскоши в удовольствие, доступное для широких масс."
   ]
  },
  {
   "cell_type": "markdown",
   "metadata": {},
   "source": [
    "## Выявление автора с самой высокой средней оценкой книг"
   ]
  },
  {
   "cell_type": "markdown",
   "metadata": {},
   "source": [
    "Установим, у какого автора самая высокая средняя оценка книг. Будем учитывать только книги с 50 и более оценками."
   ]
  },
  {
   "cell_type": "code",
   "execution_count": 60,
   "metadata": {},
   "outputs": [
    {
     "data": {
      "text/html": [
       "<div>\n",
       "<style scoped>\n",
       "    .dataframe tbody tr th:only-of-type {\n",
       "        vertical-align: middle;\n",
       "    }\n",
       "\n",
       "    .dataframe tbody tr th {\n",
       "        vertical-align: top;\n",
       "    }\n",
       "\n",
       "    .dataframe thead th {\n",
       "        text-align: right;\n",
       "    }\n",
       "</style>\n",
       "<table border=\"1\" class=\"dataframe\">\n",
       "  <thead>\n",
       "    <tr style=\"text-align: right;\">\n",
       "      <th></th>\n",
       "      <th>author_id</th>\n",
       "      <th>author</th>\n",
       "      <th>total_books</th>\n",
       "      <th>total_ratings</th>\n",
       "      <th>average_rating</th>\n",
       "    </tr>\n",
       "  </thead>\n",
       "  <tbody>\n",
       "    <tr>\n",
       "      <th>0</th>\n",
       "      <td>236</td>\n",
       "      <td>J.K. Rowling/Mary GrandPré</td>\n",
       "      <td>4</td>\n",
       "      <td>310.0</td>\n",
       "      <td>4.29</td>\n",
       "    </tr>\n",
       "  </tbody>\n",
       "</table>\n",
       "</div>"
      ],
      "text/plain": [
       "   author_id                      author  total_books  total_ratings  \\\n",
       "0        236  J.K. Rowling/Mary GrandPré            4          310.0   \n",
       "\n",
       "   average_rating  \n",
       "0            4.29  "
      ]
     },
     "execution_count": 60,
     "metadata": {},
     "output_type": "execute_result"
    }
   ],
   "source": [
    "get_sql_data('''(WITH\n",
    "                      i AS (SELECT book_id,\n",
    "                                   COUNT(rating_id) AS total_ratings,\n",
    "                                   ROUND(AVG(rating), 2) AS average_rating\n",
    "                            FROM ratings\n",
    "                            GROUP BY book_id\n",
    "                            HAVING COUNT(rating_id) >= 50)\n",
    "                 SELECT a.author_id,\n",
    "                        a.author,\n",
    "                        COUNT(i.book_id) AS total_books,\n",
    "                        SUM(i.total_ratings) AS total_ratings,\n",
    "                        ROUND(AVG(i.average_rating), 2) AS average_rating\n",
    "                 FROM authors AS a\n",
    "                 JOIN books AS b ON a.author_id = b.author_id\n",
    "                 JOIN i AS i ON b.book_id = i.book_id\n",
    "                 GROUP BY a.author_id, a.author\n",
    "                 ORDER BY average_rating DESC\n",
    "                 LIMIT 1)''')\n",
    "# формирование подзапроса с псевдонимом i\n",
    "# группировка данных по столбцу ‘book_id’ таблицы ‘ratings’\n",
    "# выполнение агрегатных функций для каждой группы\n",
    "# выполнение запроса только для тех записей, \n",
    "# где количество значений в столбце ‘rating_id’\n",
    "# таблицы ‘ratings’ равно или больше 50\n",
    "# вывод значений столбца ‘book_id’ из таблицы ‘ratings’\n",
    "# вывод количества значений в столбце ‘rating_id’ из таблицы ‘ratings’\n",
    "# вывод средних значений столбца ‘rating’ из таблицы ‘ratings’ \n",
    "# с округлением до 2-х знаков после запятой\n",
    "# написание основного запроса\n",
    "# группировка данных по столбцам ‘author_id’ и ‘author_id’ таблицы ‘authors’\n",
    "# выполнение агрегатных функций для каждой группы\n",
    "# сортировка результатов запроса по убыванию ‘average_rating’\n",
    "# вывод значений столбцов ‘author_id’ и ‘author’ из таблицы ‘authors’\n",
    "# вывод количества значений в столбце ‘book_id’ из таблицы ‘i’\n",
    "# вывод суммы значений столбца ‘total_ratings’ из таблицы ‘i’\n",
    "# вывод средних значений столбца ‘average_rating’ из таблицы ‘i’ \n",
    "# с округлением до 2-х знаков после запятой\n",
    "# вывод только первой записи из результатов запроса\n",
    "# вызов функции ‘get_sql_data’"
   ]
  },
  {
   "cell_type": "markdown",
   "metadata": {},
   "source": [
    "Если рассматривать только книги с 50 и более оценками, то самая высокая средняя оценка у книг авторов Джоан Роулинг и Мэри Грандпре — 4.29. У этих авторов в базе данных представлено четыре книги. Общее количество пользовательских оценок этих книг составляет 310. \n",
    "\n",
    "Джоан Роулинг — британская писательница, известная как автор серии романов о Гарри Поттере. Книги о Гарри Поттере стали самой продаваемой серией книг в истории. Мэри Грандпре — американская художница и писательница, известная своими иллюстрациями к изданиям книг о Гарри Поттере."
   ]
  },
  {
   "cell_type": "markdown",
   "metadata": {},
   "source": [
    "## Подсчёт среднего количества обзоров от пользователей, которые поставили больше 48 оценок"
   ]
  },
  {
   "cell_type": "markdown",
   "metadata": {},
   "source": [
    "Посчитаем среднее количество обзоров от пользователей, которые поставили больше 48 оценок."
   ]
  },
  {
   "cell_type": "code",
   "execution_count": 64,
   "metadata": {},
   "outputs": [
    {
     "data": {
      "text/html": [
       "<div>\n",
       "<style scoped>\n",
       "    .dataframe tbody tr th:only-of-type {\n",
       "        vertical-align: middle;\n",
       "    }\n",
       "\n",
       "    .dataframe tbody tr th {\n",
       "        vertical-align: top;\n",
       "    }\n",
       "\n",
       "    .dataframe thead th {\n",
       "        text-align: right;\n",
       "    }\n",
       "</style>\n",
       "<table border=\"1\" class=\"dataframe\">\n",
       "  <thead>\n",
       "    <tr style=\"text-align: right;\">\n",
       "      <th></th>\n",
       "      <th>average_reviews</th>\n",
       "    </tr>\n",
       "  </thead>\n",
       "  <tbody>\n",
       "    <tr>\n",
       "      <th>0</th>\n",
       "      <td>24.0</td>\n",
       "    </tr>\n",
       "  </tbody>\n",
       "</table>\n",
       "</div>"
      ],
      "text/plain": [
       "   average_reviews\n",
       "0             24.0"
      ]
     },
     "execution_count": 64,
     "metadata": {},
     "output_type": "execute_result"
    }
   ],
   "source": [
    "get_sql_data('''(WITH \n",
    "                      i AS (SELECT username,\n",
    "                                   COUNT(rating_id) AS total_ratings\n",
    "                            FROM ratings\n",
    "                            GROUP BY username\n",
    "                            HAVING COUNT(rating_id) > 48),\n",
    "                      j AS (SELECT re.username,\n",
    "                                   COUNT(re.review_id) AS total_reviews\n",
    "                            FROM reviews AS re\n",
    "                            JOIN i AS i ON re.username = i.username\n",
    "                            WHERE re.username IN (i.username)\n",
    "                            GROUP BY re.username)\n",
    "                 SELECT AVG(j.total_reviews) AS average_reviews\n",
    "                 FROM j)''')\n",
    "# формирование первого подзапроса с псевдонимом i\n",
    "# группировка данных по столбцу ‘username’ таблицы ‘ratings’\n",
    "# выполнение агрегатных функций для каждой группы\n",
    "# выполнение запроса только для тех записей, \n",
    "# где количество значений в столбце ‘rating_id’ таблицы ‘ratings’ больше 48\n",
    "# вывод значений столбца ‘username’ из таблицы ‘ratings’\n",
    "# вывод количества значений в столбце ‘rating_id’ из таблицы ‘ratings’\n",
    "# формирование второго подзапроса с псевдонимом j\n",
    "# группировка данных по столбцу ‘username’ таблицы ‘reviews’\n",
    "# выполнение агрегатных функций для каждой группы\n",
    "# выполнение запроса только для тех записей, \n",
    "# где значение столбца ‘username’ из таблицы ‘reviews’ \n",
    "# совпадает с значением столбца ‘username’ из таблицы ‘i’\n",
    "# вывод значений столбца ‘username’ из таблицы ‘reviews’\n",
    "# вывод количества значений в столбце ‘review_id’ из таблицы ‘reviews’\n",
    "# написание основного запроса\n",
    "# вывод среднего значения столбца ‘total_reviews’ из таблицы ‘j’\n",
    "# вызов функции ‘get_sql_data’"
   ]
  },
  {
   "cell_type": "markdown",
   "metadata": {},
   "source": [
    "Пользователи сервиса, которые читают и оценивают много книг, также пишут довольно много отзывов на них. В среднем на пользователей, оценивших более 48 книг, приходится 24 книжных обзора."
   ]
  },
  {
   "cell_type": "markdown",
   "metadata": {},
   "source": [
    "## Выводы по результатам исследования"
   ]
  },
  {
   "cell_type": "markdown",
   "metadata": {},
   "source": [
    "База данных сервиса по подписке для чтения книг включает информацию о 1000 книг, 636 авторах, 340 издательствах, 6 456 пользовательских оценках книг и 2 793 обзорах на книги.\n",
    "\n",
    "Самая ранняя дата публикации книг в базе данных — 1 декабря 1952 года, а самая поздняя — 31 марта 2020 года. После 1 января 2000 года вышла большая часть книг, представленных в базе данных — 819 книг из 1000.\n",
    "\n",
    "В базе данных существуют книги, на которые пользователи не написали обзоры. Наибольшее количество обзоров на одну книгу — 7. Минимальная средняя пользовательская оценка книги составляет 1.5, а максимальная — 5.\n",
    "\n",
    "Британское издательство «Penguin Books» выпустило наибольшее количество книг объёмом более 50 страниц — 42 книги.\n",
    "\n",
    "Если рассматривать только книги с 50 и более оценками, то самая высокая средняя оценка книг у британской писательницы Джоан Роулинг и американского иллюстратора и писательницы Мэри Грандпре — 4.29. У этих авторов в базе данных представлено четыре книги. Общее количество пользовательских оценок этих книг составляет 310.\n",
    "\n",
    "Пользователи сервиса, которые читают и оценивают много книг, также пишут довольно много отзывов на них. В среднем на пользователей, поставивших больше 48 оценок книгам, приходится 24 книжных обзора.\n",
    "\n",
    "Оценки и обзоры позволяют узнать предпочтения читателей, их ожидания от сервиса и книг, а также выявить возможные проблемы и недостатки. Это поможет улучшить качество приложения для любителей книг и адаптировать предложения под запросы аудитории.\n",
    "\n",
    "Положительные отзывы и высокие оценки способствуют укреплению имиджа книжного сервиса и повышению его авторитета среди потенциальных клиентов. Это может привлечь новых пользователей и увеличить лояльность существующих.\n",
    "\n",
    "Обзоры и оценки книг помогают пользователям сделать выбор при чтении.\n",
    "\n",
    "Чтобы стимулировать пользователей сервиса ставить больше оценок книгам и писать больше обзоров на них, можно использовать следующие методы:\n",
    "- рассказывать об авторах и книгах в социальных сетях;\n",
    "- активно общаться с читателями, проводить прямые эфиры с читателями и авторами книг;\n",
    "- публиковать отрывки книг в тематических сообществах;\n",
    "- проводить розыгрыши книг.\n",
    "\n",
    "На основе пользовательских оценок книг и обзоров на книги можно определить наиболее популярные и востребованные книги, а также авторов, что может повысить эффективность рекламных кампаний, ориентированных на конкретные интересы аудитории.\n",
    "\n",
    "Изучение оценок и обзоров на книги позволяет выявить тенденции и закономерности в предпочтениях читателей, а также определить перспективные направления развития сервиса. Это поможет адаптироваться к изменениям рынка и оставаться конкурентоспособным."
   ]
  }
 ],
 "metadata": {
  "ExecuteTimeLog": [
   {
    "duration": 545,
    "start_time": "2024-10-17T16:47:16.657Z"
   },
   {
    "duration": 3,
    "start_time": "2024-10-17T16:47:17.204Z"
   },
   {
    "duration": 5620,
    "start_time": "2024-10-17T16:47:17.209Z"
   },
   {
    "duration": 4,
    "start_time": "2024-10-17T16:47:22.831Z"
   },
   {
    "duration": 102,
    "start_time": "2024-10-17T16:47:22.837Z"
   },
   {
    "duration": 10,
    "start_time": "2024-10-17T16:47:22.941Z"
   },
   {
    "duration": 10,
    "start_time": "2024-10-17T16:47:22.952Z"
   },
   {
    "duration": 23,
    "start_time": "2024-10-17T16:47:22.964Z"
   },
   {
    "duration": 10,
    "start_time": "2024-10-17T16:47:22.989Z"
   },
   {
    "duration": 11,
    "start_time": "2024-10-17T16:47:23.002Z"
   },
   {
    "duration": 16,
    "start_time": "2024-10-17T16:47:23.015Z"
   },
   {
    "duration": 9,
    "start_time": "2024-10-17T16:47:23.033Z"
   },
   {
    "duration": 28,
    "start_time": "2024-10-17T16:47:23.052Z"
   },
   {
    "duration": 11,
    "start_time": "2024-10-17T16:47:23.082Z"
   },
   {
    "duration": 11,
    "start_time": "2024-10-17T16:47:23.095Z"
   },
   {
    "duration": 10,
    "start_time": "2024-10-17T16:47:23.108Z"
   },
   {
    "duration": 113,
    "start_time": "2024-10-17T16:47:23.119Z"
   },
   {
    "duration": 23,
    "start_time": "2024-10-17T16:47:23.234Z"
   },
   {
    "duration": 13,
    "start_time": "2024-10-17T16:47:23.259Z"
   },
   {
    "duration": 18,
    "start_time": "2024-10-17T16:47:23.274Z"
   },
   {
    "duration": 12,
    "start_time": "2024-10-17T16:47:23.294Z"
   },
   {
    "duration": 540,
    "start_time": "2024-10-17T16:50:30.169Z"
   },
   {
    "duration": 3,
    "start_time": "2024-10-17T16:50:30.711Z"
   },
   {
    "duration": 5306,
    "start_time": "2024-10-17T16:50:30.715Z"
   },
   {
    "duration": 3,
    "start_time": "2024-10-17T16:50:36.023Z"
   },
   {
    "duration": 96,
    "start_time": "2024-10-17T16:50:36.029Z"
   },
   {
    "duration": 12,
    "start_time": "2024-10-17T16:50:36.126Z"
   },
   {
    "duration": 10,
    "start_time": "2024-10-17T16:50:36.139Z"
   },
   {
    "duration": 28,
    "start_time": "2024-10-17T16:50:36.151Z"
   },
   {
    "duration": 39,
    "start_time": "2024-10-17T16:50:36.180Z"
   },
   {
    "duration": 18,
    "start_time": "2024-10-17T16:50:36.221Z"
   },
   {
    "duration": 13,
    "start_time": "2024-10-17T16:50:36.241Z"
   },
   {
    "duration": 14,
    "start_time": "2024-10-17T16:50:36.255Z"
   },
   {
    "duration": 10,
    "start_time": "2024-10-17T16:50:36.270Z"
   },
   {
    "duration": 8,
    "start_time": "2024-10-17T16:50:36.283Z"
   },
   {
    "duration": 30,
    "start_time": "2024-10-17T16:50:36.293Z"
   },
   {
    "duration": 22,
    "start_time": "2024-10-17T16:50:36.325Z"
   },
   {
    "duration": 30,
    "start_time": "2024-10-17T16:50:36.349Z"
   },
   {
    "duration": 22,
    "start_time": "2024-10-17T16:50:36.381Z"
   },
   {
    "duration": 28,
    "start_time": "2024-10-17T16:50:36.405Z"
   },
   {
    "duration": 16,
    "start_time": "2024-10-17T16:50:36.435Z"
   },
   {
    "duration": 23,
    "start_time": "2024-10-17T16:50:36.453Z"
   },
   {
    "duration": 561,
    "start_time": "2024-10-17T20:01:36.561Z"
   },
   {
    "duration": 3,
    "start_time": "2024-10-17T20:01:37.124Z"
   },
   {
    "duration": 7540,
    "start_time": "2024-10-17T20:01:37.128Z"
   },
   {
    "duration": 3,
    "start_time": "2024-10-17T20:01:44.670Z"
   },
   {
    "duration": 261,
    "start_time": "2024-10-17T20:01:44.674Z"
   },
   {
    "duration": 56,
    "start_time": "2024-10-17T20:01:44.937Z"
   },
   {
    "duration": 57,
    "start_time": "2024-10-17T20:01:44.995Z"
   },
   {
    "duration": 58,
    "start_time": "2024-10-17T20:01:45.054Z"
   },
   {
    "duration": 65,
    "start_time": "2024-10-17T20:01:45.115Z"
   },
   {
    "duration": 53,
    "start_time": "2024-10-17T20:01:45.183Z"
   },
   {
    "duration": 52,
    "start_time": "2024-10-17T20:01:45.238Z"
   },
   {
    "duration": 53,
    "start_time": "2024-10-17T20:01:45.292Z"
   },
   {
    "duration": 53,
    "start_time": "2024-10-17T20:01:45.346Z"
   },
   {
    "duration": 52,
    "start_time": "2024-10-17T20:01:45.401Z"
   },
   {
    "duration": 53,
    "start_time": "2024-10-17T20:01:45.455Z"
   },
   {
    "duration": 52,
    "start_time": "2024-10-17T20:01:45.510Z"
   },
   {
    "duration": 94,
    "start_time": "2024-10-17T20:01:45.564Z"
   },
   {
    "duration": 64,
    "start_time": "2024-10-17T20:01:45.660Z"
   },
   {
    "duration": 56,
    "start_time": "2024-10-17T20:01:45.726Z"
   },
   {
    "duration": 59,
    "start_time": "2024-10-17T20:01:45.784Z"
   },
   {
    "duration": 58,
    "start_time": "2024-10-17T20:01:45.844Z"
   }
  ],
  "kernelspec": {
   "display_name": "Python 3 (ipykernel)",
   "language": "python",
   "name": "python3"
  },
  "language_info": {
   "codemirror_mode": {
    "name": "ipython",
    "version": 3
   },
   "file_extension": ".py",
   "mimetype": "text/x-python",
   "name": "python",
   "nbconvert_exporter": "python",
   "pygments_lexer": "ipython3",
   "version": "3.12.7"
  },
  "toc": {
   "base_numbering": 1,
   "nav_menu": {},
   "number_sections": true,
   "sideBar": true,
   "skip_h1_title": true,
   "title_cell": "Table of Contents",
   "title_sidebar": "Contents",
   "toc_cell": false,
   "toc_position": {},
   "toc_section_display": true,
   "toc_window_display": false
  }
 },
 "nbformat": 4,
 "nbformat_minor": 4
}
